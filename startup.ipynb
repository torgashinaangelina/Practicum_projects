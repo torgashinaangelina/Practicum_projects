{
 "cells": [
  {
   "cell_type": "markdown",
   "metadata": {},
   "source": [
    "<div style=\"border:solid Chocolate 2px; padding: 40px\">\n",
    "\n",
    "<b> Ангелина, привет!👋</b>\n",
    "\n",
    "Меня зовут Алексей Гриб, и я буду ревьюером твоего проекта. \n",
    "\n",
    "Сразу хочу предложить в дальнейшем общаться на \"ты\" - надеюсь, так будет комфортнее:) Но если это неудобно, обязательно дай знать, и мы придумаем что-нибудь ещё!\n",
    "    \n",
    "Цель ревью - не искать ошибки в твоём проекте, а помочь тебе сделать твою работу ещё лучше, устранив недочёты и приблизив её к реальным задачам специалиста по работе с данными. Поэтому не расстраивайся, если что-то не получилось с первого раза - это нормально, и это поможет тебе вырасти!\n",
    "    \n",
    "Ты можешь найти мои комментарии, обозначенные <font color='green'>зеленым</font>, <font color='gold'>желтым</font> и <font color='red'>красным</font> цветами, например:\n",
    "\n",
    "<br/>\n",
    "\n",
    "<div class=\"alert alert-success\">\n",
    "<h2> Комментарий ревьюера <a class=\"tocSkip\"> </h2>\n",
    "\n",
    "<b>Все отлично!👍:</b> похвала, рекомендации «со звёздочкой», полезные лайфхаки, которые сделают и без того красивое решение ещё более элегантным.\n",
    "</div>\n",
    "\n",
    "<br/>\n",
    "\n",
    "<div class=\"alert alert-warning\">\n",
    "    <h2> Комментарий ревьюера <a class=\"tocSkip\"> </h2>\n",
    "    \n",
    "<b>Некоторые замечания и рекомендации⚠️:</b> некритичные ошибки или развивающие рекомендации на будущее. \n",
    "</div>\n",
    "\n",
    "\n",
    "<br/>\n",
    "<div class=\"alert alert-block alert-danger\">\n",
    "<h2> Комментарий ревьюера <a class=\"tocSkip\"></h2>\n",
    "\n",
    "    \n",
    "<b>На доработку❌:</b>\n",
    "критичные ошибки, которые обязательно нужно исправить.\n",
    "</div>\n",
    "\n",
    "    \n",
    "Пожалуйста, не удаляй мои комментарии, они будут особенно полезны для нашей работы в случае повторной проверки проекта. \n",
    "    \n",
    "Ты также можешь задавать свои вопросы, реагировать на мои комментарии, делать пометки и пояснения - полная творческая свобода! Но маленькая просьба - пускай они будут отличаться от моих комментариев, это поможет избежать путаницы в нашем общении:)\n",
    "Например, вот так:\n",
    "    \n",
    "<div class=\"alert alert-info\">\n",
    "<h2> Комментарий студента <a class=\"tocSkip\"> </h2>\n",
    "\n",
    "*твой текст*\n",
    "</div>\n",
    "    \n",
    "Давай посмотрим на твой проект!"
   ]
  },
  {
   "cell_type": "markdown",
   "metadata": {
    "id": "4mJbK1knrJgz"
   },
   "source": [
    "# Проект: Исследование стартапов"
   ]
  },
  {
   "cell_type": "markdown",
   "metadata": {
    "id": "P6j0r3worJg0"
   },
   "source": [
    "## Введение"
   ]
  },
  {
   "cell_type": "markdown",
   "metadata": {
    "id": "8lQtbsIUyFG6"
   },
   "source": [
    "   Финансовая компания, которая предоставляет льготные займы стартапам, хочет войти на инвестиционный рынок с прицелом на покупку, развитие и последующую перепродажу перспективных стартапов. Для разработки модели бизнеса нужна информация. Чтобы выработать общее понимание, какие данные могут быть полезны, проводится исследование на исторических данных.\n",
    "###### Цель проекта\n",
    "   Подготовить датасет и проверить, что данные в нём соответствуют здравому смыслу, а также ответить на вопросы заказчика как о предобработке, так и о значении данных для бизнеса.\n",
    "    Предстоит принять решения:\n",
    "- по каким столбцам можно объединять данные из разных таблиц;\n",
    "- можно ли доверять данным о сотрудниках стартапов и их образовании;\n",
    "- что значат покупки за 0 или за 1 доллар;\n",
    "- какая цена в зависимости от категории стартапов и количества раундов финансирования перед его покупкой;\n",
    "- как рассчитать и отобразить численные показатели и динамику."
   ]
  },
  {
   "cell_type": "markdown",
   "metadata": {},
   "source": [
    "<div class=\"alert alert-block alert-danger\">\n",
    "<h2> Комментарий ревьюера <a class=\"tocSkip\"></h2>\n",
    "\n",
    "    \n",
    "<b>На доработку❌:</b> Обязательно нужно заполнить введение - тут нужно задать краткое описание проекта и сформулировать цель исследования, чтобы у заказчика исследования было представление о сути работы и её конечной цели.\n",
    "    <div class=\"alert alert-info\">\n",
    "        \n",
    "<h2> Комментарий студента <a class=\"tocSkip\"> </h2>\n",
    "\n",
    "исправлено"
   ]
  },
  {
   "cell_type": "markdown",
   "metadata": {},
   "source": [
    "<div class=\"alert alert-success\">\n",
    "<h2> Комментарий ревьюера v.2 <a class=\"tocSkip\"> </h2>\n",
    "\n",
    "<b>Все отлично!👍:</b> Учтено."
   ]
  },
  {
   "cell_type": "markdown",
   "metadata": {
    "id": "xqr6uttCrJg0"
   },
   "source": [
    "\n",
    "## Шаг 1. Знакомство с данными: загрузка и первичная предобработка\n",
    "\n",
    "Названия файлов:\n",
    "* acquisition.csv\n",
    "* company_and_rounds.csv\n",
    "* degrees.csv\n",
    "* education.csv\n",
    "* fund.csv\n",
    "* investment.csv\n",
    "* people.csv\n",
    "\n",
    "Они находятся в папке datasets, если вы выполняете работу на платформе. В случае, если вы делаете работу локально, доступ к файлам в папке можно получить по адресу `https://code.s3.yandex.net/datasets/` + имя файла.\n",
    "\n",
    "### 1.1. Вывод общей информации, исправление названия столбцов"
   ]
  },
  {
   "cell_type": "markdown",
   "metadata": {},
   "source": [
    "\n",
    "* Загрузите все данные по проекту."
   ]
  },
  {
   "cell_type": "markdown",
   "metadata": {},
   "source": [
    "\n",
    "* Проверьте названия столбцов."
   ]
  },
  {
   "cell_type": "markdown",
   "metadata": {},
   "source": [
    "\n",
    "* Выведите информацию, которая необходима вам для принятия решений о предобработке, для каждого из датасетов."
   ]
  },
  {
   "cell_type": "code",
   "execution_count": 1,
   "metadata": {
    "id": "4u9np9gSnyqT"
   },
   "outputs": [],
   "source": [
    "#загружаем библиотеки для анализа\n",
    "import pandas as pd\n",
    "import numpy as np"
   ]
  },
  {
   "cell_type": "code",
   "execution_count": 2,
   "metadata": {
    "id": "W_W4jRazrJg0"
   },
   "outputs": [],
   "source": [
    "#загружаем библиотеки для визуализации\n",
    "import matplotlib.pyplot as plt\n",
    "import seaborn as sns"
   ]
  },
  {
   "cell_type": "code",
   "execution_count": 3,
   "metadata": {
    "scrolled": true
   },
   "outputs": [
    {
     "name": "stdout",
     "output_type": "stream",
     "text": [
      "Requirement already satisfied: numpy in /opt/conda/lib/python3.9/site-packages (1.21.1)\n",
      "Collecting phik\n",
      "  Downloading phik-0.12.4-cp39-cp39-manylinux_2_17_x86_64.manylinux2014_x86_64.whl (686 kB)\n",
      "\u001b[K     |████████████████████████████████| 686 kB 2.1 MB/s eta 0:00:01\n",
      "\u001b[?25hRequirement already satisfied: scipy>=1.5.2 in /opt/conda/lib/python3.9/site-packages (from phik) (1.9.1)\n",
      "Requirement already satisfied: joblib>=0.14.1 in /opt/conda/lib/python3.9/site-packages (from phik) (1.1.0)\n",
      "Requirement already satisfied: matplotlib>=2.2.3 in /opt/conda/lib/python3.9/site-packages (from phik) (3.3.4)\n",
      "Requirement already satisfied: pandas>=0.25.1 in /opt/conda/lib/python3.9/site-packages (from phik) (1.2.4)\n",
      "Requirement already satisfied: pillow>=6.2.0 in /opt/conda/lib/python3.9/site-packages (from matplotlib>=2.2.3->phik) (8.4.0)\n",
      "Requirement already satisfied: pyparsing!=2.0.4,!=2.1.2,!=2.1.6,>=2.0.3 in /opt/conda/lib/python3.9/site-packages (from matplotlib>=2.2.3->phik) (2.4.7)\n",
      "Requirement already satisfied: cycler>=0.10 in /opt/conda/lib/python3.9/site-packages (from matplotlib>=2.2.3->phik) (0.11.0)\n",
      "Requirement already satisfied: python-dateutil>=2.1 in /opt/conda/lib/python3.9/site-packages (from matplotlib>=2.2.3->phik) (2.8.1)\n",
      "Requirement already satisfied: kiwisolver>=1.0.1 in /opt/conda/lib/python3.9/site-packages (from matplotlib>=2.2.3->phik) (1.4.4)\n",
      "Requirement already satisfied: pytz>=2017.3 in /opt/conda/lib/python3.9/site-packages (from pandas>=0.25.1->phik) (2021.1)\n",
      "Requirement already satisfied: six>=1.5 in /opt/conda/lib/python3.9/site-packages (from python-dateutil>=2.1->matplotlib>=2.2.3->phik) (1.16.0)\n",
      "Installing collected packages: phik\n",
      "Successfully installed phik-0.12.4\n"
     ]
    }
   ],
   "source": [
    "#загружаем модуль phik из библиотеки numpy для расчета корреляции\n",
    "!pip install numpy phik\n",
    "from phik import phik_matrix"
   ]
  },
  {
   "cell_type": "markdown",
   "metadata": {},
   "source": [
    "<div class=\"alert alert-success\">\n",
    "<h2> Комментарий ревьюера <a class=\"tocSkip\"> </h2>\n",
    "\n",
    "<b>Все отлично!👍:</b> Библиотеки импортировали - отлично!\n",
    "    \n",
    "При установке модулей через `!pip` можно добавить флаг `-q`, чтобы спрятать лог установки модуля. "
   ]
  },
  {
   "cell_type": "code",
   "execution_count": 4,
   "metadata": {},
   "outputs": [],
   "source": [
    "#загружаем данные\n",
    "aquisition = pd.read_csv('https://code.s3.yandex.net/datasets/acquisition.csv')\n",
    "company_and_rounds = pd.read_csv('https://code.s3.yandex.net/datasets/company_and_rounds.csv')\n",
    "degrees = pd.read_csv('https://code.s3.yandex.net/datasets/degrees.csv')\n",
    "education = pd.read_csv('https://code.s3.yandex.net/datasets/education.csv')\n",
    "fund = pd.read_csv('https://code.s3.yandex.net/datasets/fund.csv')\n",
    "investment = pd.read_csv('https://code.s3.yandex.net/datasets/investment.csv')\n",
    "people = pd.read_csv('https://code.s3.yandex.net/datasets/people.csv')"
   ]
  },
  {
   "cell_type": "markdown",
   "metadata": {},
   "source": [
    "<div class=\"alert alert-success\">\n",
    "<h2> Комментарий ревьюера <a class=\"tocSkip\"> </h2>\n",
    "\n",
    "<b>Все отлично!👍</b> \n",
    "    \n",
    "Данные загрузили.\n",
    "    \n",
    "При считывании данных из файла здорово перестраховывать себя от ошибок, связанных, например, с неверным указанием пути к файлу. А иногда бывает, что работаешь с файлом локально, выгружаешь его на сервер, ожидая, что он будет принимать данные, которые лежат на том же сервере, а код падает с ошибкой, потому что путь к файлу не поменялся с локального на серверный.\n",
    "    \n",
    "Для этого, например, можно использовать конструкцию `try-except`: сначала пробуешь локальный путь, при возникновении ошибки используется серверный путь (подробнее можешь почитать тут: https://pythonworld.ru/tipy-dannyx-v-python/isklyucheniya-v-python-konstrukciya-try-except-dlya-obrabotki-isklyuchenij.html).\n",
    "    \n",
    "Но еще лучше использовать библиотеку `os` - её использование позволит тебе проверять существование указанных директорий (что может быть актуально при одновременной работа на локальном и сетевом окружении) и загружать данные из существующей директории, избегая ошибок. Как пример:\n",
    "    \n",
    "    import os\n",
    "\n",
    "    pth1 = '/folder_1/data.csv'\n",
    "    pth2 = '/folder_2/data.csv'\n",
    "    \n",
    "    if os.path.exists(pth1):\n",
    "        query_1 = pd.read_csv(pth1)\n",
    "    elif os.path.exists(pth2):\n",
    "        query_1 = pd.read_csv(pth2)\n",
    "    else:\n",
    "        print('Something is wrong')\n",
    "\n",
    "Ещё на этапе считывания данных можно спарсить дату: за это действие отвечает параметр `parse_dates` метода `read_csv()`, в него нужно передать список с названием полей-дат, и в большинстве случаев дата будет корректно преобразована в нужный формат сразу:)\n",
    "Также на этапе считывания данных можно задать индекс-столбец - за это действие отвечает параметр `index_col`."
   ]
  },
  {
   "cell_type": "code",
   "execution_count": 5,
   "metadata": {},
   "outputs": [
    {
     "name": "stdout",
     "output_type": "stream",
     "text": [
      "<class 'pandas.core.frame.DataFrame'>\n",
      "RangeIndex: 9407 entries, 0 to 9406\n",
      "Data columns (total 6 columns):\n",
      " #   Column                Non-Null Count  Dtype \n",
      "---  ------                --------------  ----- \n",
      " 0   id                    9407 non-null   int64 \n",
      " 1   acquiring_company_id  9407 non-null   int64 \n",
      " 2   acquired_company_id   9407 non-null   int64 \n",
      " 3   term_code             1831 non-null   object\n",
      " 4   price_amount          9407 non-null   int64 \n",
      " 5   acquired_at           9378 non-null   object\n",
      "dtypes: int64(4), object(2)\n",
      "memory usage: 441.1+ KB\n",
      "None\n",
      "\n",
      "В датафрейме 'aquisition' 9407 строк и 6 колонок\n",
      "\n",
      "<class 'pandas.core.frame.DataFrame'>\n",
      "RangeIndex: 109610 entries, 0 to 109609\n",
      "Data columns (total 4 columns):\n",
      " #   Column       Non-Null Count   Dtype \n",
      "---  ------       --------------   ----- \n",
      " 0   id           109610 non-null  int64 \n",
      " 1   object_id    109610 non-null  object\n",
      " 2   degree_type  98392 non-null   object\n",
      " 3   subject      81298 non-null   object\n",
      "dtypes: int64(1), object(3)\n",
      "memory usage: 3.3+ MB\n",
      "None\n",
      "\n",
      "В датафрейме 'degrees' 109610 строк и 4 колонок\n",
      "\n",
      "<class 'pandas.core.frame.DataFrame'>\n",
      "RangeIndex: 109610 entries, 0 to 109609\n",
      "Data columns (total 4 columns):\n",
      " #   Column        Non-Null Count   Dtype \n",
      "---  ------        --------------   ----- \n",
      " 0   id            109610 non-null  int64 \n",
      " 1   person_id     109610 non-null  int64 \n",
      " 2   instituition  109555 non-null  object\n",
      " 3   graduated_at  58054 non-null   object\n",
      "dtypes: int64(2), object(2)\n",
      "memory usage: 3.3+ MB\n",
      "None\n",
      "\n",
      "В датафрейме 'education' 109610 строк и 4 колонок\n",
      "\n",
      "<class 'pandas.core.frame.DataFrame'>\n",
      "RangeIndex: 226709 entries, 0 to 226708\n",
      "Data columns (total 5 columns):\n",
      " #   Column            Non-Null Count   Dtype  \n",
      "---  ------            --------------   -----  \n",
      " 0   id                226709 non-null  int64  \n",
      " 1   first_name        226704 non-null  object \n",
      " 2   last_name         226708 non-null  object \n",
      " 3   company_id        34615 non-null   float64\n",
      " 4   network_username  38867 non-null   object \n",
      "dtypes: float64(1), int64(1), object(3)\n",
      "memory usage: 8.6+ MB\n",
      "None\n",
      "\n",
      "В датафрейме 'people' 226709 строк и 5 колонок\n",
      "\n"
     ]
    }
   ],
   "source": [
    "dataframes = {\n",
    "        'aquisition': aquisition,\n",
    "        'degrees': degrees,\n",
    "        'education': education,\n",
    "        'people': people\n",
    "}\n",
    "\n",
    "for name, df in dataframes.items():\n",
    "    print(f\"{df.info()}\\n\")\n",
    "    print(f\"В датафрейме '{name}' {df.shape[0]} строк и {df.shape[1]} колонок\\n\")"
   ]
  },
  {
   "cell_type": "code",
   "execution_count": 6,
   "metadata": {
    "scrolled": false
   },
   "outputs": [
    {
     "data": {
      "text/html": [
       "<div>\n",
       "<style scoped>\n",
       "    .dataframe tbody tr th:only-of-type {\n",
       "        vertical-align: middle;\n",
       "    }\n",
       "\n",
       "    .dataframe tbody tr th {\n",
       "        vertical-align: top;\n",
       "    }\n",
       "\n",
       "    .dataframe thead th {\n",
       "        text-align: right;\n",
       "    }\n",
       "</style>\n",
       "<table border=\"1\" class=\"dataframe\">\n",
       "  <thead>\n",
       "    <tr style=\"text-align: right;\">\n",
       "      <th></th>\n",
       "      <th>id</th>\n",
       "      <th>acquiring_company_id</th>\n",
       "      <th>acquired_company_id</th>\n",
       "      <th>term_code</th>\n",
       "      <th>price_amount</th>\n",
       "      <th>acquired_at</th>\n",
       "    </tr>\n",
       "  </thead>\n",
       "  <tbody>\n",
       "    <tr>\n",
       "      <th>0</th>\n",
       "      <td>1</td>\n",
       "      <td>11</td>\n",
       "      <td>10</td>\n",
       "      <td>NaN</td>\n",
       "      <td>20000000</td>\n",
       "      <td>2007-05-30</td>\n",
       "    </tr>\n",
       "    <tr>\n",
       "      <th>1</th>\n",
       "      <td>7</td>\n",
       "      <td>59</td>\n",
       "      <td>72</td>\n",
       "      <td>cash</td>\n",
       "      <td>60000000</td>\n",
       "      <td>2007-07-01</td>\n",
       "    </tr>\n",
       "    <tr>\n",
       "      <th>2</th>\n",
       "      <td>8</td>\n",
       "      <td>24</td>\n",
       "      <td>132</td>\n",
       "      <td>cash</td>\n",
       "      <td>280000000</td>\n",
       "      <td>2007-05-01</td>\n",
       "    </tr>\n",
       "    <tr>\n",
       "      <th>3</th>\n",
       "      <td>9</td>\n",
       "      <td>59</td>\n",
       "      <td>155</td>\n",
       "      <td>cash</td>\n",
       "      <td>100000000</td>\n",
       "      <td>2007-06-01</td>\n",
       "    </tr>\n",
       "    <tr>\n",
       "      <th>4</th>\n",
       "      <td>10</td>\n",
       "      <td>212</td>\n",
       "      <td>215</td>\n",
       "      <td>cash</td>\n",
       "      <td>25000000</td>\n",
       "      <td>2007-07-01</td>\n",
       "    </tr>\n",
       "  </tbody>\n",
       "</table>\n",
       "</div>"
      ],
      "text/plain": [
       "   id  acquiring_company_id  acquired_company_id term_code  price_amount  \\\n",
       "0   1                    11                   10       NaN      20000000   \n",
       "1   7                    59                   72      cash      60000000   \n",
       "2   8                    24                  132      cash     280000000   \n",
       "3   9                    59                  155      cash     100000000   \n",
       "4  10                   212                  215      cash      25000000   \n",
       "\n",
       "  acquired_at  \n",
       "0  2007-05-30  \n",
       "1  2007-07-01  \n",
       "2  2007-05-01  \n",
       "3  2007-06-01  \n",
       "4  2007-07-01  "
      ]
     },
     "execution_count": 6,
     "metadata": {},
     "output_type": "execute_result"
    }
   ],
   "source": [
    "aquisition.head()"
   ]
  },
  {
   "cell_type": "code",
   "execution_count": 7,
   "metadata": {},
   "outputs": [],
   "source": [
    "aquisition.rename(columns={'id':'acq_id'}, inplace=True)"
   ]
  },
  {
   "cell_type": "code",
   "execution_count": 8,
   "metadata": {},
   "outputs": [
    {
     "data": {
      "text/plain": [
       "acq_id                     0\n",
       "acquiring_company_id       0\n",
       "acquired_company_id        0\n",
       "term_code               7576\n",
       "price_amount               0\n",
       "acquired_at               29\n",
       "dtype: int64"
      ]
     },
     "execution_count": 8,
     "metadata": {},
     "output_type": "execute_result"
    }
   ],
   "source": [
    "# количество пропусков в абсолютном значении\n",
    "aquisition.isna().sum()"
   ]
  },
  {
   "cell_type": "code",
   "execution_count": 9,
   "metadata": {},
   "outputs": [
    {
     "data": {
      "text/html": [
       "<style  type=\"text/css\" >\n",
       "#T_0a6d3_row0_col1{\n",
       "            background-color:  #b40426;\n",
       "            color:  #f1f1f1;\n",
       "        }#T_0a6d3_row1_col1,#T_0a6d3_row2_col1,#T_0a6d3_row3_col1,#T_0a6d3_row4_col1,#T_0a6d3_row5_col1{\n",
       "            background-color:  #3b4cc0;\n",
       "            color:  #f1f1f1;\n",
       "        }</style><table id=\"T_0a6d3_\" ><thead>    <tr>        <th class=\"blank level0\" ></th>        <th class=\"col_heading level0 col0\" >index</th>        <th class=\"col_heading level0 col1\" >0</th>    </tr></thead><tbody>\n",
       "                <tr>\n",
       "                        <th id=\"T_0a6d3_level0_row0\" class=\"row_heading level0 row0\" >0</th>\n",
       "                        <td id=\"T_0a6d3_row0_col0\" class=\"data row0 col0\" >term_code</td>\n",
       "                        <td id=\"T_0a6d3_row0_col1\" class=\"data row0 col1\" >0.81</td>\n",
       "            </tr>\n",
       "            <tr>\n",
       "                        <th id=\"T_0a6d3_level0_row1\" class=\"row_heading level0 row1\" >1</th>\n",
       "                        <td id=\"T_0a6d3_row1_col0\" class=\"data row1 col0\" >acquired_at</td>\n",
       "                        <td id=\"T_0a6d3_row1_col1\" class=\"data row1 col1\" >0.00</td>\n",
       "            </tr>\n",
       "            <tr>\n",
       "                        <th id=\"T_0a6d3_level0_row2\" class=\"row_heading level0 row2\" >2</th>\n",
       "                        <td id=\"T_0a6d3_row2_col0\" class=\"data row2 col0\" >acq_id</td>\n",
       "                        <td id=\"T_0a6d3_row2_col1\" class=\"data row2 col1\" >0.00</td>\n",
       "            </tr>\n",
       "            <tr>\n",
       "                        <th id=\"T_0a6d3_level0_row3\" class=\"row_heading level0 row3\" >3</th>\n",
       "                        <td id=\"T_0a6d3_row3_col0\" class=\"data row3 col0\" >acquiring_company_id</td>\n",
       "                        <td id=\"T_0a6d3_row3_col1\" class=\"data row3 col1\" >0.00</td>\n",
       "            </tr>\n",
       "            <tr>\n",
       "                        <th id=\"T_0a6d3_level0_row4\" class=\"row_heading level0 row4\" >4</th>\n",
       "                        <td id=\"T_0a6d3_row4_col0\" class=\"data row4 col0\" >acquired_company_id</td>\n",
       "                        <td id=\"T_0a6d3_row4_col1\" class=\"data row4 col1\" >0.00</td>\n",
       "            </tr>\n",
       "            <tr>\n",
       "                        <th id=\"T_0a6d3_level0_row5\" class=\"row_heading level0 row5\" >5</th>\n",
       "                        <td id=\"T_0a6d3_row5_col0\" class=\"data row5 col0\" >price_amount</td>\n",
       "                        <td id=\"T_0a6d3_row5_col1\" class=\"data row5 col1\" >0.00</td>\n",
       "            </tr>\n",
       "    </tbody></table>"
      ],
      "text/plain": [
       "<pandas.io.formats.style.Styler at 0x7f0d832cf730>"
      ]
     },
     "execution_count": 9,
     "metadata": {},
     "output_type": "execute_result"
    }
   ],
   "source": [
    "# количесвто пропусков в относительном значении\n",
    "na_share=aquisition.isna().sum().sort_values(ascending=False) / len(aquisition)\n",
    "na_share.reset_index().style.background_gradient(cmap='coolwarm', axis=0).set_precision(2)"
   ]
  },
  {
   "cell_type": "markdown",
   "metadata": {},
   "source": [
    "вывод: в датафрейме 9407 строк и 6 колонок. пропуски находятся в двух колонках, в одной из них нет 81% значений. изменили название столбца, чтобы смысл был более понятным."
   ]
  },
  {
   "cell_type": "code",
   "execution_count": 10,
   "metadata": {},
   "outputs": [
    {
     "data": {
      "text/html": [
       "<div>\n",
       "<style scoped>\n",
       "    .dataframe tbody tr th:only-of-type {\n",
       "        vertical-align: middle;\n",
       "    }\n",
       "\n",
       "    .dataframe tbody tr th {\n",
       "        vertical-align: top;\n",
       "    }\n",
       "\n",
       "    .dataframe thead th {\n",
       "        text-align: right;\n",
       "    }\n",
       "</style>\n",
       "<table border=\"1\" class=\"dataframe\">\n",
       "  <thead>\n",
       "    <tr style=\"text-align: right;\">\n",
       "      <th></th>\n",
       "      <th>id</th>\n",
       "      <th>object_id</th>\n",
       "      <th>degree_type</th>\n",
       "      <th>subject</th>\n",
       "    </tr>\n",
       "  </thead>\n",
       "  <tbody>\n",
       "    <tr>\n",
       "      <th>0</th>\n",
       "      <td>1</td>\n",
       "      <td>p:6117</td>\n",
       "      <td>MBA</td>\n",
       "      <td>NaN</td>\n",
       "    </tr>\n",
       "    <tr>\n",
       "      <th>1</th>\n",
       "      <td>2</td>\n",
       "      <td>p:6136</td>\n",
       "      <td>BA</td>\n",
       "      <td>English, French</td>\n",
       "    </tr>\n",
       "    <tr>\n",
       "      <th>2</th>\n",
       "      <td>3</td>\n",
       "      <td>p:6136</td>\n",
       "      <td>MS</td>\n",
       "      <td>Mass Communication</td>\n",
       "    </tr>\n",
       "    <tr>\n",
       "      <th>3</th>\n",
       "      <td>4</td>\n",
       "      <td>p:6005</td>\n",
       "      <td>MS</td>\n",
       "      <td>Internet Technology</td>\n",
       "    </tr>\n",
       "    <tr>\n",
       "      <th>4</th>\n",
       "      <td>5</td>\n",
       "      <td>p:5832</td>\n",
       "      <td>BCS</td>\n",
       "      <td>Computer Science, Psychology</td>\n",
       "    </tr>\n",
       "  </tbody>\n",
       "</table>\n",
       "</div>"
      ],
      "text/plain": [
       "   id object_id degree_type                       subject\n",
       "0   1    p:6117         MBA                           NaN\n",
       "1   2    p:6136          BA               English, French\n",
       "2   3    p:6136          MS            Mass Communication\n",
       "3   4    p:6005          MS           Internet Technology\n",
       "4   5    p:5832         BCS  Computer Science, Psychology"
      ]
     },
     "execution_count": 10,
     "metadata": {},
     "output_type": "execute_result"
    }
   ],
   "source": [
    "degrees.head()"
   ]
  },
  {
   "cell_type": "code",
   "execution_count": 11,
   "metadata": {},
   "outputs": [],
   "source": [
    "degrees['object_id'] = degrees['object_id'].str.replace('p:', '')"
   ]
  },
  {
   "cell_type": "markdown",
   "metadata": {},
   "source": [
    "<div class=\"alert alert-warning\">\n",
    "    <h2> Комментарий ревьюера <a class=\"tocSkip\"> </h2>\n",
    "    \n",
    "<b>Некоторые замечания и рекомендации⚠️:</b> В `object_id` нет символа `p`, поэтому фактически замена бесполезна."
   ]
  },
  {
   "cell_type": "code",
   "execution_count": 12,
   "metadata": {},
   "outputs": [],
   "source": [
    "degrees.rename(columns={'object_id':'person_id'}, inplace=True)"
   ]
  },
  {
   "cell_type": "code",
   "execution_count": 13,
   "metadata": {},
   "outputs": [
    {
     "data": {
      "text/plain": [
       "0           6117\n",
       "1           6136\n",
       "2           6136\n",
       "3           6005\n",
       "4           5832\n",
       "           ...  \n",
       "109605    268589\n",
       "109606    268527\n",
       "109607    268527\n",
       "109608    268528\n",
       "109609    268528\n",
       "Name: person_id, Length: 109610, dtype: int32"
      ]
     },
     "execution_count": 13,
     "metadata": {},
     "output_type": "execute_result"
    }
   ],
   "source": [
    "degrees['person_id'].astype('int32')"
   ]
  },
  {
   "cell_type": "code",
   "execution_count": 14,
   "metadata": {},
   "outputs": [
    {
     "data": {
      "text/plain": [
       "id                 0\n",
       "person_id          0\n",
       "degree_type    11218\n",
       "subject        28312\n",
       "dtype: int64"
      ]
     },
     "execution_count": 14,
     "metadata": {},
     "output_type": "execute_result"
    }
   ],
   "source": [
    "# количество пропусков в абсолютном значении\n",
    "degrees.isna().sum()"
   ]
  },
  {
   "cell_type": "code",
   "execution_count": 15,
   "metadata": {},
   "outputs": [
    {
     "data": {
      "text/html": [
       "<style  type=\"text/css\" >\n",
       "#T_d1cbb_row0_col1{\n",
       "            background-color:  #b40426;\n",
       "            color:  #f1f1f1;\n",
       "        }#T_d1cbb_row1_col1{\n",
       "            background-color:  #bfd3f6;\n",
       "            color:  #000000;\n",
       "        }#T_d1cbb_row2_col1,#T_d1cbb_row3_col1{\n",
       "            background-color:  #3b4cc0;\n",
       "            color:  #f1f1f1;\n",
       "        }</style><table id=\"T_d1cbb_\" ><thead>    <tr>        <th class=\"blank level0\" ></th>        <th class=\"col_heading level0 col0\" >index</th>        <th class=\"col_heading level0 col1\" >0</th>    </tr></thead><tbody>\n",
       "                <tr>\n",
       "                        <th id=\"T_d1cbb_level0_row0\" class=\"row_heading level0 row0\" >0</th>\n",
       "                        <td id=\"T_d1cbb_row0_col0\" class=\"data row0 col0\" >subject</td>\n",
       "                        <td id=\"T_d1cbb_row0_col1\" class=\"data row0 col1\" >0.26</td>\n",
       "            </tr>\n",
       "            <tr>\n",
       "                        <th id=\"T_d1cbb_level0_row1\" class=\"row_heading level0 row1\" >1</th>\n",
       "                        <td id=\"T_d1cbb_row1_col0\" class=\"data row1 col0\" >degree_type</td>\n",
       "                        <td id=\"T_d1cbb_row1_col1\" class=\"data row1 col1\" >0.10</td>\n",
       "            </tr>\n",
       "            <tr>\n",
       "                        <th id=\"T_d1cbb_level0_row2\" class=\"row_heading level0 row2\" >2</th>\n",
       "                        <td id=\"T_d1cbb_row2_col0\" class=\"data row2 col0\" >id</td>\n",
       "                        <td id=\"T_d1cbb_row2_col1\" class=\"data row2 col1\" >0.00</td>\n",
       "            </tr>\n",
       "            <tr>\n",
       "                        <th id=\"T_d1cbb_level0_row3\" class=\"row_heading level0 row3\" >3</th>\n",
       "                        <td id=\"T_d1cbb_row3_col0\" class=\"data row3 col0\" >person_id</td>\n",
       "                        <td id=\"T_d1cbb_row3_col1\" class=\"data row3 col1\" >0.00</td>\n",
       "            </tr>\n",
       "    </tbody></table>"
      ],
      "text/plain": [
       "<pandas.io.formats.style.Styler at 0x7f0d832cf3d0>"
      ]
     },
     "execution_count": 15,
     "metadata": {},
     "output_type": "execute_result"
    }
   ],
   "source": [
    "# количесвто пропусков в относительном значении\n",
    "na_share=degrees.isna().sum().sort_values(ascending=False) / len(degrees)\n",
    "na_share.reset_index().style.background_gradient(cmap='coolwarm', axis=0).set_precision(2)"
   ]
  },
  {
   "cell_type": "markdown",
   "metadata": {},
   "source": [
    "вывод: В датафрейме 'degrees' 109610 строк и 4 колонки, в 2 колонках присутсвуют пропуски, в одной даже 25% порпусков."
   ]
  },
  {
   "cell_type": "code",
   "execution_count": 16,
   "metadata": {},
   "outputs": [
    {
     "data": {
      "text/html": [
       "<div>\n",
       "<style scoped>\n",
       "    .dataframe tbody tr th:only-of-type {\n",
       "        vertical-align: middle;\n",
       "    }\n",
       "\n",
       "    .dataframe tbody tr th {\n",
       "        vertical-align: top;\n",
       "    }\n",
       "\n",
       "    .dataframe thead th {\n",
       "        text-align: right;\n",
       "    }\n",
       "</style>\n",
       "<table border=\"1\" class=\"dataframe\">\n",
       "  <thead>\n",
       "    <tr style=\"text-align: right;\">\n",
       "      <th></th>\n",
       "      <th>id</th>\n",
       "      <th>person_id</th>\n",
       "      <th>instituition</th>\n",
       "      <th>graduated_at</th>\n",
       "    </tr>\n",
       "  </thead>\n",
       "  <tbody>\n",
       "    <tr>\n",
       "      <th>699</th>\n",
       "      <td>699</td>\n",
       "      <td>2</td>\n",
       "      <td>University of California, Berkeley</td>\n",
       "      <td>1994-01-01</td>\n",
       "    </tr>\n",
       "    <tr>\n",
       "      <th>700</th>\n",
       "      <td>700</td>\n",
       "      <td>2</td>\n",
       "      <td>University of California, Berkeley</td>\n",
       "      <td>1994-01-01</td>\n",
       "    </tr>\n",
       "    <tr>\n",
       "      <th>707</th>\n",
       "      <td>707</td>\n",
       "      <td>3</td>\n",
       "      <td>Indiana University</td>\n",
       "      <td>NaN</td>\n",
       "    </tr>\n",
       "    <tr>\n",
       "      <th>706</th>\n",
       "      <td>706</td>\n",
       "      <td>3</td>\n",
       "      <td>Washington University in St Louis</td>\n",
       "      <td>NaN</td>\n",
       "    </tr>\n",
       "    <tr>\n",
       "      <th>47873</th>\n",
       "      <td>47871</td>\n",
       "      <td>5</td>\n",
       "      <td>McGill University</td>\n",
       "      <td>1986-01-01</td>\n",
       "    </tr>\n",
       "  </tbody>\n",
       "</table>\n",
       "</div>"
      ],
      "text/plain": [
       "          id  person_id                        instituition graduated_at\n",
       "699      699          2  University of California, Berkeley   1994-01-01\n",
       "700      700          2  University of California, Berkeley   1994-01-01\n",
       "707      707          3                  Indiana University          NaN\n",
       "706      706          3   Washington University in St Louis          NaN\n",
       "47873  47871          5                   McGill University   1986-01-01"
      ]
     },
     "execution_count": 16,
     "metadata": {},
     "output_type": "execute_result"
    }
   ],
   "source": [
    "education['person_id'].astype('int32')\n",
    "education.sort_values(by='person_id').head()"
   ]
  },
  {
   "cell_type": "code",
   "execution_count": 17,
   "metadata": {},
   "outputs": [
    {
     "data": {
      "text/plain": [
       "id                  0\n",
       "person_id           0\n",
       "instituition       55\n",
       "graduated_at    51556\n",
       "dtype: int64"
      ]
     },
     "execution_count": 17,
     "metadata": {},
     "output_type": "execute_result"
    }
   ],
   "source": [
    "# количество пропусков в абсолютном значении\n",
    "education.isna().sum()"
   ]
  },
  {
   "cell_type": "code",
   "execution_count": 18,
   "metadata": {},
   "outputs": [
    {
     "data": {
      "text/html": [
       "<style  type=\"text/css\" >\n",
       "#T_360c2_row0_col1{\n",
       "            background-color:  #b40426;\n",
       "            color:  #f1f1f1;\n",
       "        }#T_360c2_row1_col1,#T_360c2_row2_col1,#T_360c2_row3_col1{\n",
       "            background-color:  #3b4cc0;\n",
       "            color:  #f1f1f1;\n",
       "        }</style><table id=\"T_360c2_\" ><thead>    <tr>        <th class=\"blank level0\" ></th>        <th class=\"col_heading level0 col0\" >index</th>        <th class=\"col_heading level0 col1\" >0</th>    </tr></thead><tbody>\n",
       "                <tr>\n",
       "                        <th id=\"T_360c2_level0_row0\" class=\"row_heading level0 row0\" >0</th>\n",
       "                        <td id=\"T_360c2_row0_col0\" class=\"data row0 col0\" >graduated_at</td>\n",
       "                        <td id=\"T_360c2_row0_col1\" class=\"data row0 col1\" >0.47</td>\n",
       "            </tr>\n",
       "            <tr>\n",
       "                        <th id=\"T_360c2_level0_row1\" class=\"row_heading level0 row1\" >1</th>\n",
       "                        <td id=\"T_360c2_row1_col0\" class=\"data row1 col0\" >instituition</td>\n",
       "                        <td id=\"T_360c2_row1_col1\" class=\"data row1 col1\" >0.00</td>\n",
       "            </tr>\n",
       "            <tr>\n",
       "                        <th id=\"T_360c2_level0_row2\" class=\"row_heading level0 row2\" >2</th>\n",
       "                        <td id=\"T_360c2_row2_col0\" class=\"data row2 col0\" >id</td>\n",
       "                        <td id=\"T_360c2_row2_col1\" class=\"data row2 col1\" >0.00</td>\n",
       "            </tr>\n",
       "            <tr>\n",
       "                        <th id=\"T_360c2_level0_row3\" class=\"row_heading level0 row3\" >3</th>\n",
       "                        <td id=\"T_360c2_row3_col0\" class=\"data row3 col0\" >person_id</td>\n",
       "                        <td id=\"T_360c2_row3_col1\" class=\"data row3 col1\" >0.00</td>\n",
       "            </tr>\n",
       "    </tbody></table>"
      ],
      "text/plain": [
       "<pandas.io.formats.style.Styler at 0x7f0d832cf8b0>"
      ]
     },
     "execution_count": 18,
     "metadata": {},
     "output_type": "execute_result"
    }
   ],
   "source": [
    "# количесвто пропусков в относительном значении\n",
    "na_share=education.isna().sum().sort_values(ascending=False) / len(education)\n",
    "na_share.reset_index().style.background_gradient(cmap='coolwarm', axis=0).set_precision(2)"
   ]
  },
  {
   "cell_type": "markdown",
   "metadata": {},
   "source": [
    "В датафрейме 'education' 109610 строк и 4 колонок, в 2 из них много пропусков, в одной из них даже 47% пропусков"
   ]
  },
  {
   "cell_type": "code",
   "execution_count": 19,
   "metadata": {
    "scrolled": true
   },
   "outputs": [
    {
     "data": {
      "text/html": [
       "<div>\n",
       "<style scoped>\n",
       "    .dataframe tbody tr th:only-of-type {\n",
       "        vertical-align: middle;\n",
       "    }\n",
       "\n",
       "    .dataframe tbody tr th {\n",
       "        vertical-align: top;\n",
       "    }\n",
       "\n",
       "    .dataframe thead th {\n",
       "        text-align: right;\n",
       "    }\n",
       "</style>\n",
       "<table border=\"1\" class=\"dataframe\">\n",
       "  <thead>\n",
       "    <tr style=\"text-align: right;\">\n",
       "      <th></th>\n",
       "      <th>id</th>\n",
       "      <th>first_name</th>\n",
       "      <th>last_name</th>\n",
       "      <th>company_id</th>\n",
       "      <th>network_username</th>\n",
       "    </tr>\n",
       "  </thead>\n",
       "  <tbody>\n",
       "    <tr>\n",
       "      <th>0</th>\n",
       "      <td>10</td>\n",
       "      <td>Mark</td>\n",
       "      <td>Zuckerberg</td>\n",
       "      <td>5.0</td>\n",
       "      <td>NaN</td>\n",
       "    </tr>\n",
       "    <tr>\n",
       "      <th>1</th>\n",
       "      <td>100</td>\n",
       "      <td>Peter</td>\n",
       "      <td>Lester</td>\n",
       "      <td>27.0</td>\n",
       "      <td>NaN</td>\n",
       "    </tr>\n",
       "    <tr>\n",
       "      <th>2</th>\n",
       "      <td>1000</td>\n",
       "      <td>Dr. Steven</td>\n",
       "      <td>E. Saunders</td>\n",
       "      <td>292.0</td>\n",
       "      <td>NaN</td>\n",
       "    </tr>\n",
       "    <tr>\n",
       "      <th>3</th>\n",
       "      <td>10000</td>\n",
       "      <td>Neil</td>\n",
       "      <td>Capel</td>\n",
       "      <td>2526.0</td>\n",
       "      <td>NaN</td>\n",
       "    </tr>\n",
       "    <tr>\n",
       "      <th>4</th>\n",
       "      <td>100000</td>\n",
       "      <td>Sue</td>\n",
       "      <td>Pilsch</td>\n",
       "      <td>NaN</td>\n",
       "      <td>NaN</td>\n",
       "    </tr>\n",
       "  </tbody>\n",
       "</table>\n",
       "</div>"
      ],
      "text/plain": [
       "       id  first_name    last_name  company_id network_username\n",
       "0      10        Mark   Zuckerberg         5.0              NaN\n",
       "1     100       Peter       Lester        27.0              NaN\n",
       "2    1000  Dr. Steven  E. Saunders       292.0              NaN\n",
       "3   10000        Neil        Capel      2526.0              NaN\n",
       "4  100000         Sue       Pilsch         NaN              NaN"
      ]
     },
     "execution_count": 19,
     "metadata": {},
     "output_type": "execute_result"
    }
   ],
   "source": [
    "people.head()"
   ]
  },
  {
   "cell_type": "code",
   "execution_count": 20,
   "metadata": {},
   "outputs": [],
   "source": [
    "people.rename(columns={'id':'person_id'}, inplace=True)"
   ]
  },
  {
   "cell_type": "code",
   "execution_count": 21,
   "metadata": {},
   "outputs": [
    {
     "data": {
      "text/plain": [
       "person_id                0\n",
       "first_name               5\n",
       "last_name                1\n",
       "company_id          192094\n",
       "network_username    187842\n",
       "dtype: int64"
      ]
     },
     "execution_count": 21,
     "metadata": {},
     "output_type": "execute_result"
    }
   ],
   "source": [
    "# количество пропусков в абсолютном значении\n",
    "people.isna().sum()"
   ]
  },
  {
   "cell_type": "code",
   "execution_count": 22,
   "metadata": {},
   "outputs": [
    {
     "data": {
      "text/html": [
       "<style  type=\"text/css\" >\n",
       "#T_67676_row0_col1{\n",
       "            background-color:  #b40426;\n",
       "            color:  #f1f1f1;\n",
       "        }#T_67676_row1_col1{\n",
       "            background-color:  #bb1b2c;\n",
       "            color:  #f1f1f1;\n",
       "        }#T_67676_row2_col1,#T_67676_row3_col1,#T_67676_row4_col1{\n",
       "            background-color:  #3b4cc0;\n",
       "            color:  #f1f1f1;\n",
       "        }</style><table id=\"T_67676_\" ><thead>    <tr>        <th class=\"blank level0\" ></th>        <th class=\"col_heading level0 col0\" >index</th>        <th class=\"col_heading level0 col1\" >0</th>    </tr></thead><tbody>\n",
       "                <tr>\n",
       "                        <th id=\"T_67676_level0_row0\" class=\"row_heading level0 row0\" >0</th>\n",
       "                        <td id=\"T_67676_row0_col0\" class=\"data row0 col0\" >company_id</td>\n",
       "                        <td id=\"T_67676_row0_col1\" class=\"data row0 col1\" >0.85</td>\n",
       "            </tr>\n",
       "            <tr>\n",
       "                        <th id=\"T_67676_level0_row1\" class=\"row_heading level0 row1\" >1</th>\n",
       "                        <td id=\"T_67676_row1_col0\" class=\"data row1 col0\" >network_username</td>\n",
       "                        <td id=\"T_67676_row1_col1\" class=\"data row1 col1\" >0.83</td>\n",
       "            </tr>\n",
       "            <tr>\n",
       "                        <th id=\"T_67676_level0_row2\" class=\"row_heading level0 row2\" >2</th>\n",
       "                        <td id=\"T_67676_row2_col0\" class=\"data row2 col0\" >first_name</td>\n",
       "                        <td id=\"T_67676_row2_col1\" class=\"data row2 col1\" >0.00</td>\n",
       "            </tr>\n",
       "            <tr>\n",
       "                        <th id=\"T_67676_level0_row3\" class=\"row_heading level0 row3\" >3</th>\n",
       "                        <td id=\"T_67676_row3_col0\" class=\"data row3 col0\" >last_name</td>\n",
       "                        <td id=\"T_67676_row3_col1\" class=\"data row3 col1\" >0.00</td>\n",
       "            </tr>\n",
       "            <tr>\n",
       "                        <th id=\"T_67676_level0_row4\" class=\"row_heading level0 row4\" >4</th>\n",
       "                        <td id=\"T_67676_row4_col0\" class=\"data row4 col0\" >person_id</td>\n",
       "                        <td id=\"T_67676_row4_col1\" class=\"data row4 col1\" >0.00</td>\n",
       "            </tr>\n",
       "    </tbody></table>"
      ],
      "text/plain": [
       "<pandas.io.formats.style.Styler at 0x7f0d831a1e20>"
      ]
     },
     "execution_count": 22,
     "metadata": {},
     "output_type": "execute_result"
    }
   ],
   "source": [
    "# количесвто пропусков в относительном значении\n",
    "na_share=people.isna().sum().sort_values(ascending=False) / len(people)\n",
    "na_share.reset_index().style.background_gradient(cmap='coolwarm', axis=0).set_precision(2)"
   ]
  },
  {
   "cell_type": "markdown",
   "metadata": {},
   "source": [
    "В датафрейме 'people' 226709 строк и 5 колонок, в 4 из них есть пропуски, в двух из них даже более 80% пропусков. изменили название столбца, чтобы оно подходило по смыслу"
   ]
  },
  {
   "cell_type": "markdown",
   "metadata": {},
   "source": [
    "первичный вывод по всем датафреймам:\n",
    "- в данных присутсвует много пропусков, придется удалить большое количество записей.\n",
    "- в некоторых датафреймах есть колонки, бесполезные для анализа, которые можно было бы удалить для оптимизации.\n",
    "- в разных датафреймах встречаются идентичные названия колонок, поэтому следовало бы изменить их названия в целях избежания путаницы.\n",
    "- в дальнейшем для анализа нам понадобятся данные о годах. поэтому в колонках с датами можно оставить только год от даты и перевести в тип целых чисел."
   ]
  },
  {
   "cell_type": "markdown",
   "metadata": {},
   "source": [
    "<div class=\"alert alert-success\">\n",
    "<h2> Комментарий ревьюера <a class=\"tocSkip\"> </h2>\n",
    "\n",
    "<b>Все отлично!👍</b> Загрузка данных и их первичный анализ выполнены корректно."
   ]
  },
  {
   "cell_type": "markdown",
   "metadata": {},
   "source": [
    "<div class=\"alert alert-block alert-danger\">\n",
    "<h2> Комментарий ревьюера <a class=\"tocSkip\"></h2>\n",
    "\n",
    "    \n",
    "<b>На доработку❌:</b> Пропуски нужно посчитать явно с помощью `isna()` - сейчас вывод о наличии пропусков можно сделать только косвенно из анализа `head()` или `info()`, но для анализа пропусков эти инструменты не используются."
   ]
  },
  {
   "cell_type": "markdown",
   "metadata": {},
   "source": [
    "<div class=\"alert alert-info\">\n",
    "<h2> Комментарий студента <a class=\"tocSkip\"> </h2>\n",
    "\n",
    "исправлено\n",
    "</div>"
   ]
  },
  {
   "cell_type": "markdown",
   "metadata": {},
   "source": [
    "<div class=\"alert alert-success\">\n",
    "<h2> Комментарий ревьюера v.2 <a class=\"tocSkip\"> </h2>\n",
    "\n",
    "<b>Все отлично!👍:</b> Учтено."
   ]
  },
  {
   "cell_type": "markdown",
   "metadata": {
    "id": "mg2gEwh0rJg0"
   },
   "source": [
    "### 1.2. Смена типов и анализ пропусков\n",
    "\n",
    "* Обработайте типы данных в столбцах, которые хранят значения даты и времени, если это необходимо."
   ]
  },
  {
   "cell_type": "markdown",
   "metadata": {},
   "source": [
    "\n",
    "* Оцените полноту данных — сделайте предварительный вывод, достаточно ли данных для решения задач проекта."
   ]
  },
  {
   "cell_type": "code",
   "execution_count": 23,
   "metadata": {
    "id": "5Sg2O8zNnzKc"
   },
   "outputs": [],
   "source": [
    "def optimize_numeric_types(df):\n",
    "    \"\"\"\n",
    "    оптимизирует числовые колонки в датафреймах:\n",
    "    1. определяет целые и дробные числа в колонках\n",
    "    2. понижает тип до наименьшего возможного разряда\n",
    "   \n",
    "    аргумент:\n",
    "        df (pd.DataFrame): DataFrame.\n",
    "\n",
    "    вывод:\n",
    "        pd.DataFrame: DataFrame с оптимизированными числовыми типами\n",
    "    \"\"\"\n",
    "\n",
    "    for col in df.columns:\n",
    "        col_type = df[col].dtypes\n",
    "\n",
    "        if pd.api.types.is_numeric_dtype(col_type):      \n",
    "            \n",
    "            if pd.api.types.is_integer_dtype(col_type):\n",
    "                \n",
    "                # Identify min and max value, which might be stored as a float\n",
    "                min_val = df[col].min()\n",
    "                max_val = df[col].max()\n",
    "                \n",
    "                # Check if integer part is the same\n",
    "                if not np.isnan(min_val) and not np.isnan(max_val) and min_val==int(min_val) and max_val==int(max_val):\n",
    "\n",
    "                    if min_val >= np.iinfo(np.int8).min and max_val <= np.iinfo(np.int8).max:\n",
    "                            df[col] = df[col].astype(np.int8)\n",
    "                    elif min_val >= np.iinfo(np.int16).min and max_val <= np.iinfo(np.int16).max:\n",
    "                            df[col] = df[col].astype(np.int16)\n",
    "                    elif min_val >= np.iinfo(np.int32).min and max_val <= np.iinfo(np.int32).max:\n",
    "                            df[col] = df[col].astype(np.int32)\n",
    "                    else:\n",
    "                        df[col] = df[col].astype(np.int64)\n",
    "            \n",
    "            elif pd.api.types.is_float_dtype(col_type):\n",
    "                # Identify min and max value\n",
    "                min_val = df[col].min()\n",
    "                max_val = df[col].max()\n",
    "                if min_val >= np.finfo(np.float16).min and max_val <= np.finfo(np.float16).max:\n",
    "                        df[col] = df[col].astype(np.float16)\n",
    "                elif min_val >= np.finfo(np.float32).min and max_val <= np.finfo(np.float32).max:\n",
    "                    df[col] = df[col].astype(np.float32)\n",
    "                else:\n",
    "                    df[col] = df[col].astype(np.float64)\n",
    "    return df"
   ]
  },
  {
   "cell_type": "code",
   "execution_count": 24,
   "metadata": {},
   "outputs": [],
   "source": [
    "# оптимизируем все датафреймы\n",
    "dfs = [aquisition, company_and_rounds, people, degrees, education]\n",
    "for df in dfs:\n",
    "    optimize_numeric_types(df)"
   ]
  },
  {
   "cell_type": "markdown",
   "metadata": {},
   "source": [
    "<div class=\"alert alert-success\">\n",
    "<h2> Комментарий ревьюера <a class=\"tocSkip\"> </h2>\n",
    "\n",
    "<b>Все отлично!👍</b> Хорошее решение по оптимизации памяти."
   ]
  },
  {
   "cell_type": "code",
   "execution_count": 25,
   "metadata": {},
   "outputs": [],
   "source": [
    "# оставляем в дате только год\n",
    "dataframe = {\n",
    "        'acquired_at': aquisition,\n",
    "        'founded  at': company_and_rounds,\n",
    "        'funded  at': company_and_rounds,\n",
    "        'graduated_at': education,\n",
    "        'closed  at': company_and_rounds,\n",
    "}\n",
    "for column, df in dataframe.items():\n",
    "    df[column] = df[column].str.split('-').str.get(0)\n",
    "    pd.to_numeric(df[column], errors='coerce', downcast='integer')"
   ]
  },
  {
   "cell_type": "markdown",
   "metadata": {},
   "source": [
    "<div class=\"alert alert-success\">\n",
    "<h2> Комментарий ревьюера <a class=\"tocSkip\"> </h2>\n",
    "\n",
    "<b>Все отлично!👍</b> Даты приведены к корректному типу."
   ]
  },
  {
   "cell_type": "code",
   "execution_count": 26,
   "metadata": {},
   "outputs": [
    {
     "name": "stdout",
     "output_type": "stream",
     "text": [
      "Количество дубликатов:0\n"
     ]
    }
   ],
   "source": [
    "#удаляем явные пропуски по каждому датафрейму\n",
    "aquisition_sorted = aquisition.sort_values(by='acq_id')\n",
    "quantity_of_dup=aquisition_sorted.duplicated(keep=False).sum()\n",
    "print(f'Количество дубликатов:{quantity_of_dup}')"
   ]
  },
  {
   "cell_type": "code",
   "execution_count": 27,
   "metadata": {
    "scrolled": true
   },
   "outputs": [
    {
     "name": "stdout",
     "output_type": "stream",
     "text": [
      "Количество дубликатов:48\n"
     ]
    }
   ],
   "source": [
    "#удаляем явные пропуски по каждому датафрейму\n",
    "aquisition_sorted = aquisition.sort_values(by='acq_id')\n",
    "quantity_of_dup=aquisition_sorted.duplicated(keep=False, subset=['acquiring_company_id', 'acquired_company_id']).sum()\n",
    "print(f'Количество дубликатов:{quantity_of_dup}')"
   ]
  },
  {
   "cell_type": "code",
   "execution_count": 28,
   "metadata": {},
   "outputs": [
    {
     "name": "stdout",
     "output_type": "stream",
     "text": [
      "Количество строк до удаления пропусков и дубликатов: 9407\n",
      "Количество строк после удаления пропусков и дубликатов: 9382\n",
      "Количество удаленных строк: 25\n",
      "Процент удаленных строк: 0.27%\n"
     ]
    }
   ],
   "source": [
    "initial_row_count = aquisition.shape[0]\n",
    "aquisition = aquisition_sorted.drop_duplicates(keep='first', subset=['acquiring_company_id', 'acquired_company_id'])\n",
    "final_row_count = aquisition.shape[0]\n",
    "print(f\"Количество строк до удаления пропусков и дубликатов: {initial_row_count}\")\n",
    "print(f\"Количество строк после удаления пропусков и дубликатов: {final_row_count}\")\n",
    "print(f\"Количество удаленных строк: {initial_row_count-final_row_count}\")\n",
    "print(f\"Процент удаленных строк: {round(((initial_row_count-final_row_count)/initial_row_count)*100, 2)}%\")"
   ]
  },
  {
   "cell_type": "markdown",
   "metadata": {},
   "source": [
    "вывод: \n",
    "- абсолютно одинаковых дубликатов нет\n",
    "- проверяем дубликаты по 2 столбцам: айди покупающей компании и айди покупаемой компании. таким образом мы исключим вероятность того, что одна и та же операция была записана несколько раз, так как компания не может купить другую дважды."
   ]
  },
  {
   "cell_type": "markdown",
   "metadata": {},
   "source": [
    "<div class=\"alert alert-warning\">\n",
    "    <h2> Комментарий ревьюера <a class=\"tocSkip\"> </h2>\n",
    "    \n",
    "<b>Некоторые замечания и рекомендации⚠️:</b> В комментарии сказано, что обрабатываются пропуски, но фактически проверяются дубликаты. Также никакого удаления не происходит."
   ]
  },
  {
   "cell_type": "markdown",
   "metadata": {},
   "source": [
    "<div class=\"alert alert-block alert-danger\">\n",
    "<h2> Комментарий ревьюера <a class=\"tocSkip\"></h2>\n",
    "\n",
    "    \n",
    "<b>На доработку❌:</b> \n",
    "    \n",
    "1. Кроме `subset`, важно также проверить наличие полных дубликатов.\n",
    "2. Важно обосновать, почему выбранные признаки включаются в `subset` - должна быть какая-то бизнес-логика, которая делает обработку таких дубликатов валидной."
   ]
  },
  {
   "cell_type": "markdown",
   "metadata": {},
   "source": [
    "<div class=\"alert alert-info\">\n",
    "<h2> Комментарий студента <a class=\"tocSkip\"> </h2>\n",
    "\n",
    "исправлено\n",
    "</div>"
   ]
  },
  {
   "cell_type": "markdown",
   "metadata": {},
   "source": [
    "<div class=\"alert alert-success\">\n",
    "<h2> Комментарий ревьюера v.2 <a class=\"tocSkip\"> </h2>\n",
    "\n",
    "<b>Все отлично!👍:</b> Учтено."
   ]
  },
  {
   "cell_type": "code",
   "execution_count": 29,
   "metadata": {},
   "outputs": [
    {
     "name": "stdout",
     "output_type": "stream",
     "text": [
      "Количество дубликатов:0\n"
     ]
    }
   ],
   "source": [
    "#удаляем явные пропуски по каждому датафрейму\n",
    "initial_row_count = people.shape[0]\n",
    "people_sorted = people.sort_values(by='person_id')\n",
    "quantity_of_dup= people_sorted.duplicated(keep=False).sum()\n",
    "print(f'Количество дубликатов:{quantity_of_dup}')"
   ]
  },
  {
   "cell_type": "code",
   "execution_count": 30,
   "metadata": {
    "scrolled": true
   },
   "outputs": [
    {
     "name": "stdout",
     "output_type": "stream",
     "text": [
      "Количество полных дубликатов:0\n",
      "Количество дубликатов по заданным полям:3572\n"
     ]
    }
   ],
   "source": [
    "initial_row_count = degrees.shape[0]\n",
    "degrees_sorted = degrees.sort_values(by='person_id')\n",
    "quantity_of_dup= degrees_sorted.duplicated(keep=False).sum()\n",
    "print(f'Количество полных дубликатов:{quantity_of_dup}')\n",
    "degrees_sorted = degrees.sort_values(by='person_id')\n",
    "quantity_of_dup= degrees_sorted.duplicated(keep=False, subset=['person_id', 'subject', 'degree_type']).sum()\n",
    "print(f'Количество дубликатов по заданным полям:{quantity_of_dup}')"
   ]
  },
  {
   "cell_type": "code",
   "execution_count": 31,
   "metadata": {},
   "outputs": [
    {
     "name": "stdout",
     "output_type": "stream",
     "text": [
      "Количество строк до удаления пропусков и дубликатов: 109610\n",
      "Количество строк после удаления пропусков и дубликатов: 107696\n",
      "Количество удаленных строк: 1914\n",
      "Процент удаленных строк: 1.75%\n"
     ]
    }
   ],
   "source": [
    "degrees = degrees_sorted.drop_duplicates(keep='first', subset=['person_id', 'subject', 'degree_type'])\n",
    "final_row_count = degrees.shape[0]\n",
    "print(f\"Количество строк до удаления пропусков и дубликатов: {initial_row_count}\")\n",
    "print(f\"Количество строк после удаления пропусков и дубликатов: {final_row_count}\")\n",
    "print(f\"Количество удаленных строк: {initial_row_count-final_row_count}\")\n",
    "print(f\"Процент удаленных строк: {round(((initial_row_count-final_row_count)/initial_row_count)*100, 2)}%\")"
   ]
  },
  {
   "cell_type": "markdown",
   "metadata": {},
   "source": [
    "вывод: \n",
    "- абсолютно одинаковых дубликатов нет\n",
    "- проверяем дубликаты по 3 столбцам, кроме айди записи, тем самым исключаем вероятность случайного дублирования одинаковых строк под разным айди."
   ]
  },
  {
   "cell_type": "code",
   "execution_count": 32,
   "metadata": {},
   "outputs": [
    {
     "name": "stdout",
     "output_type": "stream",
     "text": [
      "Количество полных дубликатов:0\n",
      "Количество дубликатов по заданным полям:13270\n"
     ]
    }
   ],
   "source": [
    "#удаляем явные пропуски по каждому датафрейму\n",
    "initial_row_count = education.shape[0]\n",
    "education_sorted = education.sort_values(by='person_id')\n",
    "quantity_of_dup= education_sorted.duplicated(keep=False).sum()\n",
    "print(f'Количество полных дубликатов:{quantity_of_dup}')\n",
    "education_sorted = education.sort_values(by='person_id')\n",
    "quantity_of_dup= education_sorted.duplicated(keep=False, subset=['person_id', 'instituition']).sum()\n",
    "print(f'Количество дубликатов по заданным полям:{quantity_of_dup}')"
   ]
  },
  {
   "cell_type": "code",
   "execution_count": 33,
   "metadata": {},
   "outputs": [
    {
     "name": "stdout",
     "output_type": "stream",
     "text": [
      "Количество строк до удаления пропусков и дубликатов: 109610\n",
      "Количество строк после удаления пропусков и дубликатов: 102691\n",
      "Количество удаленных строк: 6919\n",
      "Процент удаленных строк: 6.31%\n"
     ]
    }
   ],
   "source": [
    "education = education_sorted.drop_duplicates(keep='first', subset=['person_id', 'instituition'])\n",
    "final_row_count = education.shape[0]\n",
    "print(f\"Количество строк до удаления пропусков и дубликатов: {initial_row_count}\")\n",
    "print(f\"Количество строк после удаления пропусков и дубликатов: {final_row_count}\")\n",
    "print(f\"Количество удаленных строк: {initial_row_count-final_row_count}\")\n",
    "print(f\"Процент удаленных строк: {round(((initial_row_count-final_row_count)/initial_row_count)*100, 2)}%\")"
   ]
  },
  {
   "cell_type": "markdown",
   "metadata": {},
   "source": [
    "вывод: \n",
    "- абсолютно одинаковых дубликатов нет\n",
    "- проверяем дубликаты по 2 столбцам, кроме айди записи, тем самым исключаем вероятность случайного дублирования одинаковых строк под разным айди."
   ]
  },
  {
   "cell_type": "markdown",
   "metadata": {},
   "source": [
    "выводы:\n",
    "- первичная предобработка включала в себя:\n",
    "- оптимизацию данных\n",
    "- сокращение даты до года\n",
    "- переводить данные из дробных в целые решила не делать, так как это влияет только на визуальное восприятие данных\n",
    "- удалены дубликаты"
   ]
  },
  {
   "cell_type": "markdown",
   "metadata": {},
   "source": [
    "<div class=\"alert alert-success\">\n",
    "<h2> Комментарий ревьюера <a class=\"tocSkip\"> </h2>\n",
    "\n",
    "<b>Все отлично!👍</b> Молодец, что не забываешь про промежуточные выводы."
   ]
  },
  {
   "cell_type": "markdown",
   "metadata": {},
   "source": [
    "<div class=\"alert alert-block alert-danger\">\n",
    "<h2> Комментарий ревьюера <a class=\"tocSkip\"></h2>\n",
    "\n",
    "    \n",
    "<b>На доработку❌:</b> \n",
    "    \n",
    "1. Стоит оптимизировать названия признаков, заменив пробелы на нижнее подкчёркивание для более удобной работы с ними далее.\n",
    "2. Обрати внимание, что в `company_and_rounds` название столбца `company ID` встречается дважды, с разным регистром - стоит дать другое название одному из столбцов, чтобы в ходе дальнейшей работы не возникало путаницы."
   ]
  },
  {
   "cell_type": "markdown",
   "metadata": {},
   "source": [
    "<div class=\"alert alert-info\">\n",
    "<h2> Комментарий студента <a class=\"tocSkip\"> </h2>\n",
    "\n",
    "все эти моменты исправила в пункте 2.4! :)\n",
    "</div>"
   ]
  },
  {
   "cell_type": "markdown",
   "metadata": {},
   "source": [
    "<div class=\"alert alert-success\">\n",
    "<h2> Комментарий ревьюера v.2 <a class=\"tocSkip\"> </h2>\n",
    "\n",
    "<b>Все отлично!👍:</b> По смыслу правильнее было бы сделать здесь, на этапе обработки, но окей:)"
   ]
  },
  {
   "cell_type": "markdown",
   "metadata": {
    "id": "u60cHsn6rJg1"
   },
   "source": [
    "## Шаг 2. Предобработка данных, предварительное исследование"
   ]
  },
  {
   "cell_type": "markdown",
   "metadata": {
    "id": "g2bHIIjcrJg1"
   },
   "source": [
    "\n",
    "### 2.1. Раунды финансирования по годам\n",
    "\n",
    "Задание необходимо выполнить без объединения и дополнительной предобработки на основе датасета `company_and_rounds.csv`.\n",
    "\n",
    "* Составьте сводную таблицу по годам, в которой на основании столбца `raised_amount` для каждого года указан:\n",
    "\n",
    "  * типичный размер средств, выделяемый в рамках одного раунда;\n",
    "  * общее количество раундов финансирования за этот год.\n",
    "\n",
    "* Оставьте в таблице информацию только для тех лет, для которых есть информация о более чем 50 раундах финансирования.\n",
    "\n",
    "* На основе получившейся таблицы постройте график, который будет отражать динамику типичного размера средств, которые стартапы получали в рамках одного раунда финансирования.\n",
    "\n",
    "На основе полученных данных ответьте на вопросы:\n",
    "\n",
    "* В каком году типичный размер собранных в рамках одного раунда средств был максимален?\n",
    "\n",
    "* Какая тенденция по количеству раундов и выделяемых в рамках каждого раунда средств наблюдалась в 2013 году?"
   ]
  },
  {
   "cell_type": "code",
   "execution_count": 34,
   "metadata": {
    "id": "ovyDibxNrJg1"
   },
   "outputs": [],
   "source": [
    "cr_pivot = pd.pivot_table(data=company_and_rounds, values='raised  amount', index='funded  at',aggfunc=['count', 'median'])"
   ]
  },
  {
   "cell_type": "code",
   "execution_count": 35,
   "metadata": {},
   "outputs": [],
   "source": [
    "cr_pivot.set_axis(['count', 'median'],axis=1, inplace=True)\n",
    "cr=cr_pivot[cr_pivot['count']>50].sort_values(by='count').reset_index()"
   ]
  },
  {
   "cell_type": "code",
   "execution_count": 36,
   "metadata": {
    "scrolled": true
   },
   "outputs": [
    {
     "data": {
      "text/html": [
       "<div>\n",
       "<style scoped>\n",
       "    .dataframe tbody tr th:only-of-type {\n",
       "        vertical-align: middle;\n",
       "    }\n",
       "\n",
       "    .dataframe tbody tr th {\n",
       "        vertical-align: top;\n",
       "    }\n",
       "\n",
       "    .dataframe thead th {\n",
       "        text-align: right;\n",
       "    }\n",
       "</style>\n",
       "<table border=\"1\" class=\"dataframe\">\n",
       "  <thead>\n",
       "    <tr style=\"text-align: right;\">\n",
       "      <th></th>\n",
       "      <th>funded  at</th>\n",
       "      <th>count</th>\n",
       "      <th>median</th>\n",
       "    </tr>\n",
       "  </thead>\n",
       "  <tbody>\n",
       "    <tr>\n",
       "      <th>0</th>\n",
       "      <td>1999</td>\n",
       "      <td>76</td>\n",
       "      <td>2000000.0</td>\n",
       "    </tr>\n",
       "    <tr>\n",
       "      <th>1</th>\n",
       "      <td>2001</td>\n",
       "      <td>96</td>\n",
       "      <td>3000000.0</td>\n",
       "    </tr>\n",
       "    <tr>\n",
       "      <th>2</th>\n",
       "      <td>2002</td>\n",
       "      <td>116</td>\n",
       "      <td>4200000.0</td>\n",
       "    </tr>\n",
       "    <tr>\n",
       "      <th>3</th>\n",
       "      <td>2000</td>\n",
       "      <td>125</td>\n",
       "      <td>4200000.0</td>\n",
       "    </tr>\n",
       "    <tr>\n",
       "      <th>4</th>\n",
       "      <td>2003</td>\n",
       "      <td>159</td>\n",
       "      <td>3000000.0</td>\n",
       "    </tr>\n",
       "    <tr>\n",
       "      <th>5</th>\n",
       "      <td>2004</td>\n",
       "      <td>291</td>\n",
       "      <td>5000000.0</td>\n",
       "    </tr>\n",
       "    <tr>\n",
       "      <th>6</th>\n",
       "      <td>2005</td>\n",
       "      <td>1633</td>\n",
       "      <td>5500000.0</td>\n",
       "    </tr>\n",
       "    <tr>\n",
       "      <th>7</th>\n",
       "      <td>2006</td>\n",
       "      <td>2436</td>\n",
       "      <td>5000000.0</td>\n",
       "    </tr>\n",
       "    <tr>\n",
       "      <th>8</th>\n",
       "      <td>2007</td>\n",
       "      <td>3279</td>\n",
       "      <td>3973320.0</td>\n",
       "    </tr>\n",
       "    <tr>\n",
       "      <th>9</th>\n",
       "      <td>2008</td>\n",
       "      <td>3774</td>\n",
       "      <td>3110000.0</td>\n",
       "    </tr>\n",
       "    <tr>\n",
       "      <th>10</th>\n",
       "      <td>2009</td>\n",
       "      <td>4151</td>\n",
       "      <td>2000000.0</td>\n",
       "    </tr>\n",
       "    <tr>\n",
       "      <th>11</th>\n",
       "      <td>2010</td>\n",
       "      <td>6221</td>\n",
       "      <td>1602500.0</td>\n",
       "    </tr>\n",
       "    <tr>\n",
       "      <th>12</th>\n",
       "      <td>2011</td>\n",
       "      <td>9204</td>\n",
       "      <td>1200000.0</td>\n",
       "    </tr>\n",
       "    <tr>\n",
       "      <th>13</th>\n",
       "      <td>2012</td>\n",
       "      <td>9970</td>\n",
       "      <td>1000000.0</td>\n",
       "    </tr>\n",
       "    <tr>\n",
       "      <th>14</th>\n",
       "      <td>2013</td>\n",
       "      <td>11072</td>\n",
       "      <td>1200000.0</td>\n",
       "    </tr>\n",
       "  </tbody>\n",
       "</table>\n",
       "</div>"
      ],
      "text/plain": [
       "   funded  at  count     median\n",
       "0        1999     76  2000000.0\n",
       "1        2001     96  3000000.0\n",
       "2        2002    116  4200000.0\n",
       "3        2000    125  4200000.0\n",
       "4        2003    159  3000000.0\n",
       "5        2004    291  5000000.0\n",
       "6        2005   1633  5500000.0\n",
       "7        2006   2436  5000000.0\n",
       "8        2007   3279  3973320.0\n",
       "9        2008   3774  3110000.0\n",
       "10       2009   4151  2000000.0\n",
       "11       2010   6221  1602500.0\n",
       "12       2011   9204  1200000.0\n",
       "13       2012   9970  1000000.0\n",
       "14       2013  11072  1200000.0"
      ]
     },
     "execution_count": 36,
     "metadata": {},
     "output_type": "execute_result"
    }
   ],
   "source": [
    "cr"
   ]
  },
  {
   "cell_type": "code",
   "execution_count": 37,
   "metadata": {},
   "outputs": [
    {
     "data": {
      "image/png": "[encoded data removed]",
      "text/plain": [
       "<Figure size 864x576 with 1 Axes>"
      ]
     },
     "metadata": {
      "needs_background": "light"
     },
     "output_type": "display_data"
    }
   ],
   "source": [
    "plt.figure(figsize=(12,8))\n",
    "cr_graph=sns.lineplot(x=\"funded  at\", y=\"median\", data=cr)\n",
    "plt.xlabel('Годы')\n",
    "plt.ylabel('Сумма финансирования (в тысячах)')\n",
    "plt.title('Динамика финансирования (более 50 раундов)')\n",
    "plt.show()"
   ]
  },
  {
   "cell_type": "markdown",
   "metadata": {},
   "source": [
    "<div class=\"alert alert-warning\">\n",
    "    <h2> Комментарий ревьюера <a class=\"tocSkip\"> </h2>\n",
    "    \n",
    "<b>Некоторые замечания и рекомендации⚠️:</b> На графике стоит подписать валюту в сумме финансирования для более удобной интерпретации результата."
   ]
  },
  {
   "cell_type": "markdown",
   "metadata": {},
   "source": [
    "<div class=\"alert alert-success\">\n",
    "<h2> Комментарий ревьюера v.2 <a class=\"tocSkip\"> </h2>\n",
    "\n",
    "<b>Все отлично!👍:</b> Учтено."
   ]
  },
  {
   "cell_type": "markdown",
   "metadata": {},
   "source": [
    "вывод:\n",
    "- в таблице прослеживается,что после 2002 года с каждым годом количество раундов финансирования увеличивается\n",
    "- на графике наглядно заметно, что пик суммы финансирования приходится на 2005 год, но далее суммарное количество уменьшается\n",
    "- отсюда делаем вывод, что после 2005 года увеличивалось количество раундов с уменьшением сумм для вложения. каждый раунд становился в разы дешевее\n",
    "- однако видим небольшой рост общей суммы финансирования в 2013 году"
   ]
  },
  {
   "cell_type": "markdown",
   "metadata": {},
   "source": [
    "<div class=\"alert alert-success\">\n",
    "<h2> Комментарий ревьюера <a class=\"tocSkip\"> </h2>\n",
    "\n",
    "<b>Все отлично!👍</b> Вывод верный - уменьшение среднего объёма финансирования в рамках раунда происходит за счёт увеличения числа раундов."
   ]
  },
  {
   "cell_type": "markdown",
   "metadata": {},
   "source": [
    "<div class=\"alert alert-block alert-danger\">\n",
    "<h2> Комментарий ревьюера <a class=\"tocSkip\"></h2>\n",
    "\n",
    "    \n",
    "<b>На доработку❌:</b> `на графике наглядно заметно, что пик суммы финансирования приходится на 2005 год, но далее суммарное количество увеличивается` - вероятно, речь идёт про снижение после 2005 года, так как на графике после 2005 года видно явное снижение объёма финансирования."
   ]
  },
  {
   "cell_type": "markdown",
   "metadata": {},
   "source": [
    "<div class=\"alert alert-success\">\n",
    "<h2> Комментарий ревьюера v.2 <a class=\"tocSkip\"> </h2>\n",
    "\n",
    "<b>Все отлично!👍:</b> Учтено."
   ]
  },
  {
   "cell_type": "markdown",
   "metadata": {},
   "source": [
    "<div class=\"alert alert-warning\">\n",
    "    <h2> Комментарий ревьюера <a class=\"tocSkip\"> </h2>\n",
    "    \n",
    "<b>Некоторые замечания и рекомендации⚠️:</b> Важно также отметить, что на 2013 год количество раундов финансирования увеличивается."
   ]
  },
  {
   "cell_type": "markdown",
   "metadata": {},
   "source": [
    "<div class=\"alert alert-info\">\n",
    "<h2> Комментарий студента <a class=\"tocSkip\"> </h2>\n",
    "\n",
    "исправлено на пометку, что значения в тысячах. конкретная валюта не указана в задании (доллары или рубли), поэтому решила не писать, чтобы не вводить в заблуждение.\n",
    "</div>"
   ]
  },
  {
   "cell_type": "markdown",
   "metadata": {},
   "source": [
    "<div class=\"alert alert-success\">\n",
    "<h2> Комментарий ревьюера v.2 <a class=\"tocSkip\"> </h2>\n",
    "\n",
    "<b>Все отлично!👍:</b> Валюта тут - доллары:)"
   ]
  },
  {
   "cell_type": "markdown",
   "metadata": {
    "id": "45if1en1rJg2"
   },
   "source": [
    "\n",
    "### 2.2. Люди и их образование\n",
    "\n",
    "Заказчик хочет понять, зависит ли полнота сведений о сотрудниках (например, об их образовании) от размера компаний.\n",
    "\n",
    "* Оцените, насколько информация об образовании сотрудников полна. Используя датасеты `people.csv` и `education.csv`, разделите все компании на несколько групп по количеству сотрудников и оцените среднюю долю сотрудников без информации об образовании в каждой из групп. Обоснуйте выбранные границы групп.\n",
    "\n",
    "* Оцените, возможно ли для выполнения задания присоединить к этим таблицам ещё и таблицу `degrees.csv`."
   ]
  },
  {
   "cell_type": "code",
   "execution_count": 38,
   "metadata": {},
   "outputs": [
    {
     "data": {
      "text/html": [
       "<div>\n",
       "<style scoped>\n",
       "    .dataframe tbody tr th:only-of-type {\n",
       "        vertical-align: middle;\n",
       "    }\n",
       "\n",
       "    .dataframe tbody tr th {\n",
       "        vertical-align: top;\n",
       "    }\n",
       "\n",
       "    .dataframe thead th {\n",
       "        text-align: right;\n",
       "    }\n",
       "</style>\n",
       "<table border=\"1\" class=\"dataframe\">\n",
       "  <thead>\n",
       "    <tr style=\"text-align: right;\">\n",
       "      <th></th>\n",
       "      <th>person_id</th>\n",
       "      <th>first_name</th>\n",
       "      <th>last_name</th>\n",
       "      <th>company_id</th>\n",
       "      <th>network_username</th>\n",
       "    </tr>\n",
       "  </thead>\n",
       "  <tbody>\n",
       "    <tr>\n",
       "      <th>87153</th>\n",
       "      <td>2</td>\n",
       "      <td>Ben</td>\n",
       "      <td>Elowitz</td>\n",
       "      <td>4993.0</td>\n",
       "      <td>elowitz</td>\n",
       "    </tr>\n",
       "    <tr>\n",
       "      <th>159418</th>\n",
       "      <td>3</td>\n",
       "      <td>Kevin</td>\n",
       "      <td>Flaherty</td>\n",
       "      <td>1.0</td>\n",
       "      <td>NaN</td>\n",
       "    </tr>\n",
       "    <tr>\n",
       "      <th>169453</th>\n",
       "      <td>4</td>\n",
       "      <td>Raju</td>\n",
       "      <td>Vegesna</td>\n",
       "      <td>3.0</td>\n",
       "      <td>NaN</td>\n",
       "    </tr>\n",
       "    <tr>\n",
       "      <th>179580</th>\n",
       "      <td>5</td>\n",
       "      <td>Ian</td>\n",
       "      <td>Wenig</td>\n",
       "      <td>3.0</td>\n",
       "      <td>NaN</td>\n",
       "    </tr>\n",
       "    <tr>\n",
       "      <th>189582</th>\n",
       "      <td>6</td>\n",
       "      <td>Kevin</td>\n",
       "      <td>Rose</td>\n",
       "      <td>16441.0</td>\n",
       "      <td>kevinrose</td>\n",
       "    </tr>\n",
       "    <tr>\n",
       "      <th>...</th>\n",
       "      <td>...</td>\n",
       "      <td>...</td>\n",
       "      <td>...</td>\n",
       "      <td>...</td>\n",
       "      <td>...</td>\n",
       "    </tr>\n",
       "    <tr>\n",
       "      <th>156395</th>\n",
       "      <td>268587</td>\n",
       "      <td>Mark</td>\n",
       "      <td>Stolper</td>\n",
       "      <td>NaN</td>\n",
       "      <td>NaN</td>\n",
       "    </tr>\n",
       "    <tr>\n",
       "      <th>156396</th>\n",
       "      <td>268589</td>\n",
       "      <td>John</td>\n",
       "      <td>Pins</td>\n",
       "      <td>NaN</td>\n",
       "      <td>NaN</td>\n",
       "    </tr>\n",
       "    <tr>\n",
       "      <th>156398</th>\n",
       "      <td>268590</td>\n",
       "      <td>David</td>\n",
       "      <td>Schulhof</td>\n",
       "      <td>NaN</td>\n",
       "      <td>NaN</td>\n",
       "    </tr>\n",
       "    <tr>\n",
       "      <th>156399</th>\n",
       "      <td>268592</td>\n",
       "      <td>Matthew</td>\n",
       "      <td>D. Rosen</td>\n",
       "      <td>NaN</td>\n",
       "      <td>NaN</td>\n",
       "    </tr>\n",
       "    <tr>\n",
       "      <th>156400</th>\n",
       "      <td>268593</td>\n",
       "      <td>Gordon</td>\n",
       "      <td>Hutchins</td>\n",
       "      <td>NaN</td>\n",
       "      <td>NaN</td>\n",
       "    </tr>\n",
       "  </tbody>\n",
       "</table>\n",
       "<p>226709 rows × 5 columns</p>\n",
       "</div>"
      ],
      "text/plain": [
       "        person_id first_name last_name  company_id network_username\n",
       "87153           2        Ben   Elowitz      4993.0          elowitz\n",
       "159418          3      Kevin  Flaherty         1.0              NaN\n",
       "169453          4       Raju   Vegesna         3.0              NaN\n",
       "179580          5        Ian     Wenig         3.0              NaN\n",
       "189582          6      Kevin      Rose     16441.0        kevinrose\n",
       "...           ...        ...       ...         ...              ...\n",
       "156395     268587       Mark   Stolper         NaN              NaN\n",
       "156396     268589       John      Pins         NaN              NaN\n",
       "156398     268590      David  Schulhof         NaN              NaN\n",
       "156399     268592    Matthew  D. Rosen         NaN              NaN\n",
       "156400     268593     Gordon  Hutchins         NaN              NaN\n",
       "\n",
       "[226709 rows x 5 columns]"
      ]
     },
     "execution_count": 38,
     "metadata": {},
     "output_type": "execute_result"
    }
   ],
   "source": [
    "people.sort_values(by='person_id')"
   ]
  },
  {
   "cell_type": "code",
   "execution_count": 39,
   "metadata": {},
   "outputs": [
    {
     "data": {
      "text/plain": [
       "person_id                0\n",
       "first_name               5\n",
       "last_name                1\n",
       "company_id          192094\n",
       "network_username    187842\n",
       "dtype: int64"
      ]
     },
     "execution_count": 39,
     "metadata": {},
     "output_type": "execute_result"
    }
   ],
   "source": [
    "# количество пропусков в абсолютном значении\n",
    "people.isna().sum()"
   ]
  },
  {
   "cell_type": "code",
   "execution_count": 40,
   "metadata": {},
   "outputs": [
    {
     "data": {
      "text/html": [
       "<style  type=\"text/css\" >\n",
       "#T_414b1_row0_col1{\n",
       "            background-color:  #b40426;\n",
       "            color:  #f1f1f1;\n",
       "        }#T_414b1_row1_col1{\n",
       "            background-color:  #bb1b2c;\n",
       "            color:  #f1f1f1;\n",
       "        }#T_414b1_row2_col1,#T_414b1_row3_col1,#T_414b1_row4_col1{\n",
       "            background-color:  #3b4cc0;\n",
       "            color:  #f1f1f1;\n",
       "        }</style><table id=\"T_414b1_\" ><thead>    <tr>        <th class=\"blank level0\" ></th>        <th class=\"col_heading level0 col0\" >index</th>        <th class=\"col_heading level0 col1\" >0</th>    </tr></thead><tbody>\n",
       "                <tr>\n",
       "                        <th id=\"T_414b1_level0_row0\" class=\"row_heading level0 row0\" >0</th>\n",
       "                        <td id=\"T_414b1_row0_col0\" class=\"data row0 col0\" >company_id</td>\n",
       "                        <td id=\"T_414b1_row0_col1\" class=\"data row0 col1\" >0.85</td>\n",
       "            </tr>\n",
       "            <tr>\n",
       "                        <th id=\"T_414b1_level0_row1\" class=\"row_heading level0 row1\" >1</th>\n",
       "                        <td id=\"T_414b1_row1_col0\" class=\"data row1 col0\" >network_username</td>\n",
       "                        <td id=\"T_414b1_row1_col1\" class=\"data row1 col1\" >0.83</td>\n",
       "            </tr>\n",
       "            <tr>\n",
       "                        <th id=\"T_414b1_level0_row2\" class=\"row_heading level0 row2\" >2</th>\n",
       "                        <td id=\"T_414b1_row2_col0\" class=\"data row2 col0\" >first_name</td>\n",
       "                        <td id=\"T_414b1_row2_col1\" class=\"data row2 col1\" >0.00</td>\n",
       "            </tr>\n",
       "            <tr>\n",
       "                        <th id=\"T_414b1_level0_row3\" class=\"row_heading level0 row3\" >3</th>\n",
       "                        <td id=\"T_414b1_row3_col0\" class=\"data row3 col0\" >last_name</td>\n",
       "                        <td id=\"T_414b1_row3_col1\" class=\"data row3 col1\" >0.00</td>\n",
       "            </tr>\n",
       "            <tr>\n",
       "                        <th id=\"T_414b1_level0_row4\" class=\"row_heading level0 row4\" >4</th>\n",
       "                        <td id=\"T_414b1_row4_col0\" class=\"data row4 col0\" >person_id</td>\n",
       "                        <td id=\"T_414b1_row4_col1\" class=\"data row4 col1\" >0.00</td>\n",
       "            </tr>\n",
       "    </tbody></table>"
      ],
      "text/plain": [
       "<pandas.io.formats.style.Styler at 0x7f0d831a18e0>"
      ]
     },
     "execution_count": 40,
     "metadata": {},
     "output_type": "execute_result"
    }
   ],
   "source": [
    "# количесвто пропусков в относительном значении\n",
    "na_share=people.isna().sum().sort_values(ascending=False) / len(people)\n",
    "na_share.reset_index().style.background_gradient(cmap='coolwarm', axis=0).set_precision(2)"
   ]
  },
  {
   "cell_type": "markdown",
   "metadata": {},
   "source": [
    "вывод:\n",
    "- после небольшого просмотра данных видим, что значительное количество пропусков сосредоточено именно в информации про компании\n",
    "- хоть и самый важный компонент анализа отсутвует (по причине увольнения человека из компании, статуса фрилансера или просто утери данных), при группировке мы избавимся от пропусков в данных"
   ]
  },
  {
   "cell_type": "code",
   "execution_count": 41,
   "metadata": {},
   "outputs": [
    {
     "data": {
      "text/html": [
       "<div>\n",
       "<style scoped>\n",
       "    .dataframe tbody tr th:only-of-type {\n",
       "        vertical-align: middle;\n",
       "    }\n",
       "\n",
       "    .dataframe tbody tr th {\n",
       "        vertical-align: top;\n",
       "    }\n",
       "\n",
       "    .dataframe thead th {\n",
       "        text-align: right;\n",
       "    }\n",
       "</style>\n",
       "<table border=\"1\" class=\"dataframe\">\n",
       "  <thead>\n",
       "    <tr style=\"text-align: right;\">\n",
       "      <th></th>\n",
       "      <th>id</th>\n",
       "      <th>person_id</th>\n",
       "      <th>instituition</th>\n",
       "      <th>graduated_at</th>\n",
       "    </tr>\n",
       "  </thead>\n",
       "  <tbody>\n",
       "    <tr>\n",
       "      <th>699</th>\n",
       "      <td>699</td>\n",
       "      <td>2</td>\n",
       "      <td>University of California, Berkeley</td>\n",
       "      <td>1994</td>\n",
       "    </tr>\n",
       "    <tr>\n",
       "      <th>707</th>\n",
       "      <td>707</td>\n",
       "      <td>3</td>\n",
       "      <td>Indiana University</td>\n",
       "      <td>NaN</td>\n",
       "    </tr>\n",
       "    <tr>\n",
       "      <th>706</th>\n",
       "      <td>706</td>\n",
       "      <td>3</td>\n",
       "      <td>Washington University in St Louis</td>\n",
       "      <td>NaN</td>\n",
       "    </tr>\n",
       "    <tr>\n",
       "      <th>47873</th>\n",
       "      <td>47871</td>\n",
       "      <td>5</td>\n",
       "      <td>McGill University</td>\n",
       "      <td>1986</td>\n",
       "    </tr>\n",
       "    <tr>\n",
       "      <th>47872</th>\n",
       "      <td>47870</td>\n",
       "      <td>5</td>\n",
       "      <td>The Aji Network</td>\n",
       "      <td>2005</td>\n",
       "    </tr>\n",
       "    <tr>\n",
       "      <th>...</th>\n",
       "      <td>...</td>\n",
       "      <td>...</td>\n",
       "      <td>...</td>\n",
       "      <td>...</td>\n",
       "    </tr>\n",
       "    <tr>\n",
       "      <th>109608</th>\n",
       "      <td>109609</td>\n",
       "      <td>268528</td>\n",
       "      <td>Colorado State University</td>\n",
       "      <td>NaN</td>\n",
       "    </tr>\n",
       "    <tr>\n",
       "      <th>109609</th>\n",
       "      <td>109610</td>\n",
       "      <td>268528</td>\n",
       "      <td>University of San Diego School of Law</td>\n",
       "      <td>NaN</td>\n",
       "    </tr>\n",
       "    <tr>\n",
       "      <th>109574</th>\n",
       "      <td>109575</td>\n",
       "      <td>268560</td>\n",
       "      <td>Samford University</td>\n",
       "      <td>2008</td>\n",
       "    </tr>\n",
       "    <tr>\n",
       "      <th>109604</th>\n",
       "      <td>109605</td>\n",
       "      <td>268589</td>\n",
       "      <td>Iowa State University</td>\n",
       "      <td>NaN</td>\n",
       "    </tr>\n",
       "    <tr>\n",
       "      <th>109605</th>\n",
       "      <td>109606</td>\n",
       "      <td>268589</td>\n",
       "      <td>American Institute of Certtified Public Accoun...</td>\n",
       "      <td>NaN</td>\n",
       "    </tr>\n",
       "  </tbody>\n",
       "</table>\n",
       "<p>102691 rows × 4 columns</p>\n",
       "</div>"
      ],
      "text/plain": [
       "            id  person_id                                       instituition  \\\n",
       "699        699          2                 University of California, Berkeley   \n",
       "707        707          3                                 Indiana University   \n",
       "706        706          3                  Washington University in St Louis   \n",
       "47873    47871          5                                  McGill University   \n",
       "47872    47870          5                                    The Aji Network   \n",
       "...        ...        ...                                                ...   \n",
       "109608  109609     268528                          Colorado State University   \n",
       "109609  109610     268528              University of San Diego School of Law   \n",
       "109574  109575     268560                                 Samford University   \n",
       "109604  109605     268589                              Iowa State University   \n",
       "109605  109606     268589  American Institute of Certtified Public Accoun...   \n",
       "\n",
       "       graduated_at  \n",
       "699            1994  \n",
       "707             NaN  \n",
       "706             NaN  \n",
       "47873          1986  \n",
       "47872          2005  \n",
       "...             ...  \n",
       "109608          NaN  \n",
       "109609          NaN  \n",
       "109574         2008  \n",
       "109604          NaN  \n",
       "109605          NaN  \n",
       "\n",
       "[102691 rows x 4 columns]"
      ]
     },
     "execution_count": 41,
     "metadata": {},
     "output_type": "execute_result"
    }
   ],
   "source": [
    "education.sort_values(by='person_id')"
   ]
  },
  {
   "cell_type": "code",
   "execution_count": 42,
   "metadata": {
    "id": "psPO7C4MrJg2"
   },
   "outputs": [
    {
     "data": {
      "text/plain": [
       "id                  0\n",
       "person_id           0\n",
       "instituition       52\n",
       "graduated_at    48161\n",
       "dtype: int64"
      ]
     },
     "execution_count": 42,
     "metadata": {},
     "output_type": "execute_result"
    }
   ],
   "source": [
    "# количество пропусков в абсолютном значении\n",
    "education.isna().sum()"
   ]
  },
  {
   "cell_type": "code",
   "execution_count": 43,
   "metadata": {
    "id": "xdQ6H5ZSn1ZM"
   },
   "outputs": [
    {
     "data": {
      "text/html": [
       "<style  type=\"text/css\" >\n",
       "#T_58042_row0_col1{\n",
       "            background-color:  #b40426;\n",
       "            color:  #f1f1f1;\n",
       "        }#T_58042_row1_col1,#T_58042_row2_col1,#T_58042_row3_col1{\n",
       "            background-color:  #3b4cc0;\n",
       "            color:  #f1f1f1;\n",
       "        }</style><table id=\"T_58042_\" ><thead>    <tr>        <th class=\"blank level0\" ></th>        <th class=\"col_heading level0 col0\" >index</th>        <th class=\"col_heading level0 col1\" >0</th>    </tr></thead><tbody>\n",
       "                <tr>\n",
       "                        <th id=\"T_58042_level0_row0\" class=\"row_heading level0 row0\" >0</th>\n",
       "                        <td id=\"T_58042_row0_col0\" class=\"data row0 col0\" >graduated_at</td>\n",
       "                        <td id=\"T_58042_row0_col1\" class=\"data row0 col1\" >0.47</td>\n",
       "            </tr>\n",
       "            <tr>\n",
       "                        <th id=\"T_58042_level0_row1\" class=\"row_heading level0 row1\" >1</th>\n",
       "                        <td id=\"T_58042_row1_col0\" class=\"data row1 col0\" >instituition</td>\n",
       "                        <td id=\"T_58042_row1_col1\" class=\"data row1 col1\" >0.00</td>\n",
       "            </tr>\n",
       "            <tr>\n",
       "                        <th id=\"T_58042_level0_row2\" class=\"row_heading level0 row2\" >2</th>\n",
       "                        <td id=\"T_58042_row2_col0\" class=\"data row2 col0\" >id</td>\n",
       "                        <td id=\"T_58042_row2_col1\" class=\"data row2 col1\" >0.00</td>\n",
       "            </tr>\n",
       "            <tr>\n",
       "                        <th id=\"T_58042_level0_row3\" class=\"row_heading level0 row3\" >3</th>\n",
       "                        <td id=\"T_58042_row3_col0\" class=\"data row3 col0\" >person_id</td>\n",
       "                        <td id=\"T_58042_row3_col1\" class=\"data row3 col1\" >0.00</td>\n",
       "            </tr>\n",
       "    </tbody></table>"
      ],
      "text/plain": [
       "<pandas.io.formats.style.Styler at 0x7f0dbf531790>"
      ]
     },
     "execution_count": 43,
     "metadata": {},
     "output_type": "execute_result"
    }
   ],
   "source": [
    "# количесвто пропусков в относительном значении\n",
    "na_share=education.isna().sum().sort_values(ascending=False) / len(education)\n",
    "na_share.reset_index().style.background_gradient(cmap='coolwarm', axis=0).set_precision(2)"
   ]
  },
  {
   "cell_type": "code",
   "execution_count": 44,
   "metadata": {},
   "outputs": [],
   "source": [
    "def create_boolean_column(df, column_name, new_column_name):\n",
    "    df[new_column_name] = (~df[column_name].isnull()).astype(int)\n",
    "    return df"
   ]
  },
  {
   "cell_type": "code",
   "execution_count": 45,
   "metadata": {},
   "outputs": [
    {
     "name": "stderr",
     "output_type": "stream",
     "text": [
      "/tmp/ipykernel_48/3462720605.py:2: SettingWithCopyWarning: \n",
      "A value is trying to be set on a copy of a slice from a DataFrame.\n",
      "Try using .loc[row_indexer,col_indexer] = value instead\n",
      "\n",
      "See the caveats in the documentation: https://pandas.pydata.org/pandas-docs/stable/user_guide/indexing.html#returning-a-view-versus-a-copy\n",
      "  df[new_column_name] = (~df[column_name].isnull()).astype(int)\n",
      "/tmp/ipykernel_48/3900466259.py:3: SettingWithCopyWarning: \n",
      "A value is trying to be set on a copy of a slice from a DataFrame.\n",
      "Try using .loc[row_indexer,col_indexer] = value instead\n",
      "\n",
      "See the caveats in the documentation: https://pandas.pydata.org/pandas-docs/stable/user_guide/indexing.html#returning-a-view-versus-a-copy\n",
      "  education['has_edu_1'] = education['has_inst']+education['has_grad']\n"
     ]
    },
    {
     "data": {
      "text/plain": [
       "102673"
      ]
     },
     "execution_count": 45,
     "metadata": {},
     "output_type": "execute_result"
    }
   ],
   "source": [
    "create_boolean_column(education, 'instituition', 'has_inst')\n",
    "create_boolean_column(education, 'graduated_at', 'has_grad')\n",
    "education['has_edu_1'] = education['has_inst']+education['has_grad']\n",
    "education[education['has_edu_1']>0].shape[0]"
   ]
  },
  {
   "cell_type": "markdown",
   "metadata": {},
   "source": [
    "<div class=\"alert alert-warning\">\n",
    "    <h2> Комментарий ревьюера <a class=\"tocSkip\"> </h2>\n",
    "    \n",
    "<b>Некоторые замечания и рекомендации⚠️:</b> В чистовом решении черновики оставлять обычно не принято - по сути это файл для заказчика, в нём стоит оставлять только итоговые выводы и результаты."
   ]
  },
  {
   "cell_type": "markdown",
   "metadata": {},
   "source": [
    "<div class=\"alert alert-info\">\n",
    "<h2> Комментарий студента <a class=\"tocSkip\"> </h2>\n",
    "\n",
    "исправлено\n",
    "</div>"
   ]
  },
  {
   "cell_type": "markdown",
   "metadata": {},
   "source": [
    "<div class=\"alert alert-success\">\n",
    "<h2> Комментарий ревьюера v.2 <a class=\"tocSkip\"> </h2>\n",
    "\n",
    "<b>Все отлично!👍:</b> Учтено."
   ]
  },
  {
   "cell_type": "markdown",
   "metadata": {},
   "source": [
    "вывод: \n",
    "- после небольшого анализа видим, что информация об образовании достаточно полна, если судить количество данных по названию институтов. можно предположить, что данные о годе выпуска отсутсвуют, так как человек еще не закончил обучение либо информация отсутсвует\n",
    "- также отметим тот факт, что некотрые сотрудники имеют несколько образований, важно учитывать этот факт.\n",
    "- из предыдущего пункта следует, что нет смысла присоединять таблицу degrees, так как в ней не указаны университеты для каждой степени, это только усложнит анализ и прибавит пропуски."
   ]
  },
  {
   "cell_type": "code",
   "execution_count": 46,
   "metadata": {},
   "outputs": [
    {
     "data": {
      "text/html": [
       "<div>\n",
       "<style scoped>\n",
       "    .dataframe tbody tr th:only-of-type {\n",
       "        vertical-align: middle;\n",
       "    }\n",
       "\n",
       "    .dataframe tbody tr th {\n",
       "        vertical-align: top;\n",
       "    }\n",
       "\n",
       "    .dataframe thead th {\n",
       "        text-align: right;\n",
       "    }\n",
       "</style>\n",
       "<table border=\"1\" class=\"dataframe\">\n",
       "  <thead>\n",
       "    <tr style=\"text-align: right;\">\n",
       "      <th></th>\n",
       "      <th>id</th>\n",
       "      <th>person_id</th>\n",
       "      <th>degree_type</th>\n",
       "      <th>subject</th>\n",
       "    </tr>\n",
       "  </thead>\n",
       "  <tbody>\n",
       "    <tr>\n",
       "      <th>2414</th>\n",
       "      <td>2415</td>\n",
       "      <td>10</td>\n",
       "      <td>NaN</td>\n",
       "      <td>Computer Science</td>\n",
       "    </tr>\n",
       "    <tr>\n",
       "      <th>83603</th>\n",
       "      <td>83604</td>\n",
       "      <td>100006</td>\n",
       "      <td>MBA</td>\n",
       "      <td>Strategy &amp; Marketing</td>\n",
       "    </tr>\n",
       "    <tr>\n",
       "      <th>36786</th>\n",
       "      <td>36787</td>\n",
       "      <td>100013</td>\n",
       "      <td>MS</td>\n",
       "      <td>Physical Chemistry</td>\n",
       "    </tr>\n",
       "    <tr>\n",
       "      <th>36785</th>\n",
       "      <td>36786</td>\n",
       "      <td>100013</td>\n",
       "      <td>MBA</td>\n",
       "      <td>Finance</td>\n",
       "    </tr>\n",
       "    <tr>\n",
       "      <th>14433</th>\n",
       "      <td>14434</td>\n",
       "      <td>100018</td>\n",
       "      <td>BS</td>\n",
       "      <td>Marketing, French</td>\n",
       "    </tr>\n",
       "    <tr>\n",
       "      <th>...</th>\n",
       "      <td>...</td>\n",
       "      <td>...</td>\n",
       "      <td>...</td>\n",
       "      <td>...</td>\n",
       "    </tr>\n",
       "    <tr>\n",
       "      <th>102502</th>\n",
       "      <td>102503</td>\n",
       "      <td>99994</td>\n",
       "      <td>BE</td>\n",
       "      <td>Electronics and Communications</td>\n",
       "    </tr>\n",
       "    <tr>\n",
       "      <th>102501</th>\n",
       "      <td>102502</td>\n",
       "      <td>99994</td>\n",
       "      <td>Computer Science</td>\n",
       "      <td>MS</td>\n",
       "    </tr>\n",
       "    <tr>\n",
       "      <th>69681</th>\n",
       "      <td>69682</td>\n",
       "      <td>99997</td>\n",
       "      <td>BA</td>\n",
       "      <td>Communications</td>\n",
       "    </tr>\n",
       "    <tr>\n",
       "      <th>69683</th>\n",
       "      <td>69684</td>\n",
       "      <td>99997</td>\n",
       "      <td>DEC</td>\n",
       "      <td>Communications</td>\n",
       "    </tr>\n",
       "    <tr>\n",
       "      <th>69682</th>\n",
       "      <td>69683</td>\n",
       "      <td>99997</td>\n",
       "      <td>Minor</td>\n",
       "      <td>Economics</td>\n",
       "    </tr>\n",
       "  </tbody>\n",
       "</table>\n",
       "<p>107696 rows × 4 columns</p>\n",
       "</div>"
      ],
      "text/plain": [
       "            id person_id       degree_type                         subject\n",
       "2414      2415        10               NaN                Computer Science\n",
       "83603    83604    100006               MBA            Strategy & Marketing\n",
       "36786    36787    100013                MS              Physical Chemistry\n",
       "36785    36786    100013               MBA                         Finance\n",
       "14433    14434    100018                BS               Marketing, French\n",
       "...        ...       ...               ...                             ...\n",
       "102502  102503     99994                BE  Electronics and Communications\n",
       "102501  102502     99994  Computer Science                              MS\n",
       "69681    69682     99997                BA                  Communications\n",
       "69683    69684     99997               DEC                  Communications\n",
       "69682    69683     99997             Minor                       Economics\n",
       "\n",
       "[107696 rows x 4 columns]"
      ]
     },
     "execution_count": 46,
     "metadata": {},
     "output_type": "execute_result"
    }
   ],
   "source": [
    "degrees"
   ]
  },
  {
   "cell_type": "code",
   "execution_count": 47,
   "metadata": {},
   "outputs": [
    {
     "data": {
      "text/plain": [
       "id                 0\n",
       "person_id          0\n",
       "degree_type     9989\n",
       "subject        26935\n",
       "dtype: int64"
      ]
     },
     "execution_count": 47,
     "metadata": {},
     "output_type": "execute_result"
    }
   ],
   "source": [
    "# количество пропусков в абсолютном значении\n",
    "degrees.isna().sum()"
   ]
  },
  {
   "cell_type": "code",
   "execution_count": 48,
   "metadata": {},
   "outputs": [
    {
     "data": {
      "text/html": [
       "<style  type=\"text/css\" >\n",
       "#T_4f557_row0_col1{\n",
       "            background-color:  #b40426;\n",
       "            color:  #f1f1f1;\n",
       "        }#T_4f557_row1_col1{\n",
       "            background-color:  #b6cefa;\n",
       "            color:  #000000;\n",
       "        }#T_4f557_row2_col1,#T_4f557_row3_col1{\n",
       "            background-color:  #3b4cc0;\n",
       "            color:  #f1f1f1;\n",
       "        }</style><table id=\"T_4f557_\" ><thead>    <tr>        <th class=\"blank level0\" ></th>        <th class=\"col_heading level0 col0\" >index</th>        <th class=\"col_heading level0 col1\" >0</th>    </tr></thead><tbody>\n",
       "                <tr>\n",
       "                        <th id=\"T_4f557_level0_row0\" class=\"row_heading level0 row0\" >0</th>\n",
       "                        <td id=\"T_4f557_row0_col0\" class=\"data row0 col0\" >subject</td>\n",
       "                        <td id=\"T_4f557_row0_col1\" class=\"data row0 col1\" >0.25</td>\n",
       "            </tr>\n",
       "            <tr>\n",
       "                        <th id=\"T_4f557_level0_row1\" class=\"row_heading level0 row1\" >1</th>\n",
       "                        <td id=\"T_4f557_row1_col0\" class=\"data row1 col0\" >degree_type</td>\n",
       "                        <td id=\"T_4f557_row1_col1\" class=\"data row1 col1\" >0.09</td>\n",
       "            </tr>\n",
       "            <tr>\n",
       "                        <th id=\"T_4f557_level0_row2\" class=\"row_heading level0 row2\" >2</th>\n",
       "                        <td id=\"T_4f557_row2_col0\" class=\"data row2 col0\" >id</td>\n",
       "                        <td id=\"T_4f557_row2_col1\" class=\"data row2 col1\" >0.00</td>\n",
       "            </tr>\n",
       "            <tr>\n",
       "                        <th id=\"T_4f557_level0_row3\" class=\"row_heading level0 row3\" >3</th>\n",
       "                        <td id=\"T_4f557_row3_col0\" class=\"data row3 col0\" >person_id</td>\n",
       "                        <td id=\"T_4f557_row3_col1\" class=\"data row3 col1\" >0.00</td>\n",
       "            </tr>\n",
       "    </tbody></table>"
      ],
      "text/plain": [
       "<pandas.io.formats.style.Styler at 0x7f0d80b89670>"
      ]
     },
     "execution_count": 48,
     "metadata": {},
     "output_type": "execute_result"
    }
   ],
   "source": [
    "# количесвто пропусков в относительном значении\n",
    "na_share=degrees.isna().sum().sort_values(ascending=False) / len(degrees)\n",
    "na_share.reset_index().style.background_gradient(cmap='coolwarm', axis=0).set_precision(2)"
   ]
  },
  {
   "cell_type": "code",
   "execution_count": 49,
   "metadata": {},
   "outputs": [
    {
     "name": "stderr",
     "output_type": "stream",
     "text": [
      "/tmp/ipykernel_48/3462720605.py:2: SettingWithCopyWarning: \n",
      "A value is trying to be set on a copy of a slice from a DataFrame.\n",
      "Try using .loc[row_indexer,col_indexer] = value instead\n",
      "\n",
      "See the caveats in the documentation: https://pandas.pydata.org/pandas-docs/stable/user_guide/indexing.html#returning-a-view-versus-a-copy\n",
      "  df[new_column_name] = (~df[column_name].isnull()).astype(int)\n",
      "/tmp/ipykernel_48/4012074792.py:3: SettingWithCopyWarning: \n",
      "A value is trying to be set on a copy of a slice from a DataFrame.\n",
      "Try using .loc[row_indexer,col_indexer] = value instead\n",
      "\n",
      "See the caveats in the documentation: https://pandas.pydata.org/pandas-docs/stable/user_guide/indexing.html#returning-a-view-versus-a-copy\n",
      "  degrees['has_edu_2'] = degrees['has_sub']+degrees['has_deg']\n"
     ]
    },
    {
     "data": {
      "text/plain": [
       "102710"
      ]
     },
     "execution_count": 49,
     "metadata": {},
     "output_type": "execute_result"
    }
   ],
   "source": [
    "create_boolean_column(degrees, 'subject', 'has_sub')\n",
    "create_boolean_column(degrees, 'degree_type', 'has_deg')\n",
    "degrees['has_edu_2'] = degrees['has_sub']+degrees['has_deg']\n",
    "degrees[degrees['has_edu_2']>0].shape[0]"
   ]
  },
  {
   "cell_type": "code",
   "execution_count": 50,
   "metadata": {},
   "outputs": [
    {
     "data": {
      "text/html": [
       "<div>\n",
       "<style scoped>\n",
       "    .dataframe tbody tr th:only-of-type {\n",
       "        vertical-align: middle;\n",
       "    }\n",
       "\n",
       "    .dataframe tbody tr th {\n",
       "        vertical-align: top;\n",
       "    }\n",
       "\n",
       "    .dataframe thead th {\n",
       "        text-align: right;\n",
       "    }\n",
       "</style>\n",
       "<table border=\"1\" class=\"dataframe\">\n",
       "  <thead>\n",
       "    <tr style=\"text-align: right;\">\n",
       "      <th></th>\n",
       "      <th>person_id</th>\n",
       "      <th>first_name</th>\n",
       "      <th>last_name</th>\n",
       "      <th>company_id</th>\n",
       "      <th>network_username</th>\n",
       "      <th>id</th>\n",
       "      <th>instituition</th>\n",
       "      <th>graduated_at</th>\n",
       "      <th>has_inst</th>\n",
       "      <th>has_grad</th>\n",
       "      <th>has_edu_1</th>\n",
       "    </tr>\n",
       "  </thead>\n",
       "  <tbody>\n",
       "    <tr>\n",
       "      <th>0</th>\n",
       "      <td>10</td>\n",
       "      <td>Mark</td>\n",
       "      <td>Zuckerberg</td>\n",
       "      <td>5.0</td>\n",
       "      <td>NaN</td>\n",
       "      <td>2415.0</td>\n",
       "      <td>Harvard University</td>\n",
       "      <td>NaN</td>\n",
       "      <td>1.0</td>\n",
       "      <td>0.0</td>\n",
       "      <td>1.0</td>\n",
       "    </tr>\n",
       "    <tr>\n",
       "      <th>1</th>\n",
       "      <td>100</td>\n",
       "      <td>Peter</td>\n",
       "      <td>Lester</td>\n",
       "      <td>27.0</td>\n",
       "      <td>NaN</td>\n",
       "      <td>NaN</td>\n",
       "      <td>NaN</td>\n",
       "      <td>NaN</td>\n",
       "      <td>NaN</td>\n",
       "      <td>NaN</td>\n",
       "      <td>NaN</td>\n",
       "    </tr>\n",
       "    <tr>\n",
       "      <th>2</th>\n",
       "      <td>1000</td>\n",
       "      <td>Dr. Steven</td>\n",
       "      <td>E. Saunders</td>\n",
       "      <td>292.0</td>\n",
       "      <td>NaN</td>\n",
       "      <td>NaN</td>\n",
       "      <td>NaN</td>\n",
       "      <td>NaN</td>\n",
       "      <td>NaN</td>\n",
       "      <td>NaN</td>\n",
       "      <td>NaN</td>\n",
       "    </tr>\n",
       "    <tr>\n",
       "      <th>3</th>\n",
       "      <td>10000</td>\n",
       "      <td>Neil</td>\n",
       "      <td>Capel</td>\n",
       "      <td>2526.0</td>\n",
       "      <td>NaN</td>\n",
       "      <td>NaN</td>\n",
       "      <td>NaN</td>\n",
       "      <td>NaN</td>\n",
       "      <td>NaN</td>\n",
       "      <td>NaN</td>\n",
       "      <td>NaN</td>\n",
       "    </tr>\n",
       "    <tr>\n",
       "      <th>4</th>\n",
       "      <td>100000</td>\n",
       "      <td>Sue</td>\n",
       "      <td>Pilsch</td>\n",
       "      <td>NaN</td>\n",
       "      <td>NaN</td>\n",
       "      <td>NaN</td>\n",
       "      <td>NaN</td>\n",
       "      <td>NaN</td>\n",
       "      <td>NaN</td>\n",
       "      <td>NaN</td>\n",
       "      <td>NaN</td>\n",
       "    </tr>\n",
       "    <tr>\n",
       "      <th>...</th>\n",
       "      <td>...</td>\n",
       "      <td>...</td>\n",
       "      <td>...</td>\n",
       "      <td>...</td>\n",
       "      <td>...</td>\n",
       "      <td>...</td>\n",
       "      <td>...</td>\n",
       "      <td>...</td>\n",
       "      <td>...</td>\n",
       "      <td>...</td>\n",
       "      <td>...</td>\n",
       "    </tr>\n",
       "    <tr>\n",
       "      <th>260794</th>\n",
       "      <td>99999</td>\n",
       "      <td>Ramon</td>\n",
       "      <td>Peypoch</td>\n",
       "      <td>NaN</td>\n",
       "      <td>NaN</td>\n",
       "      <td>NaN</td>\n",
       "      <td>NaN</td>\n",
       "      <td>NaN</td>\n",
       "      <td>NaN</td>\n",
       "      <td>NaN</td>\n",
       "      <td>NaN</td>\n",
       "    </tr>\n",
       "    <tr>\n",
       "      <th>260795</th>\n",
       "      <td>174088</td>\n",
       "      <td>Dr. Ray</td>\n",
       "      <td>Woods</td>\n",
       "      <td>188200.0</td>\n",
       "      <td>network</td>\n",
       "      <td>25958.0</td>\n",
       "      <td>Sydney University Medical School</td>\n",
       "      <td>1982</td>\n",
       "      <td>1.0</td>\n",
       "      <td>1.0</td>\n",
       "      <td>2.0</td>\n",
       "    </tr>\n",
       "    <tr>\n",
       "      <th>260796</th>\n",
       "      <td>118386</td>\n",
       "      <td>Ricardo</td>\n",
       "      <td>Durand</td>\n",
       "      <td>143419.0</td>\n",
       "      <td>itechsocialnet</td>\n",
       "      <td>18871.0</td>\n",
       "      <td>ESCS</td>\n",
       "      <td>2004</td>\n",
       "      <td>1.0</td>\n",
       "      <td>1.0</td>\n",
       "      <td>2.0</td>\n",
       "    </tr>\n",
       "    <tr>\n",
       "      <th>260797</th>\n",
       "      <td>175827</td>\n",
       "      <td>mahesh</td>\n",
       "      <td>kumar</td>\n",
       "      <td>NaN</td>\n",
       "      <td>socialnethubs</td>\n",
       "      <td>NaN</td>\n",
       "      <td>NaN</td>\n",
       "      <td>NaN</td>\n",
       "      <td>NaN</td>\n",
       "      <td>NaN</td>\n",
       "      <td>NaN</td>\n",
       "    </tr>\n",
       "    <tr>\n",
       "      <th>260798</th>\n",
       "      <td>178190</td>\n",
       "      <td>Alex</td>\n",
       "      <td>Smith</td>\n",
       "      <td>NaN</td>\n",
       "      <td>esocialnetlike</td>\n",
       "      <td>NaN</td>\n",
       "      <td>NaN</td>\n",
       "      <td>NaN</td>\n",
       "      <td>NaN</td>\n",
       "      <td>NaN</td>\n",
       "      <td>NaN</td>\n",
       "    </tr>\n",
       "  </tbody>\n",
       "</table>\n",
       "<p>260799 rows × 11 columns</p>\n",
       "</div>"
      ],
      "text/plain": [
       "        person_id  first_name    last_name  company_id network_username  \\\n",
       "0              10        Mark   Zuckerberg         5.0              NaN   \n",
       "1             100       Peter       Lester        27.0              NaN   \n",
       "2            1000  Dr. Steven  E. Saunders       292.0              NaN   \n",
       "3           10000        Neil        Capel      2526.0              NaN   \n",
       "4          100000         Sue       Pilsch         NaN              NaN   \n",
       "...           ...         ...          ...         ...              ...   \n",
       "260794      99999       Ramon      Peypoch         NaN              NaN   \n",
       "260795     174088     Dr. Ray        Woods    188200.0          network   \n",
       "260796     118386     Ricardo       Durand    143419.0   itechsocialnet   \n",
       "260797     175827      mahesh        kumar         NaN    socialnethubs   \n",
       "260798     178190        Alex        Smith         NaN   esocialnetlike   \n",
       "\n",
       "             id                      instituition graduated_at  has_inst  \\\n",
       "0        2415.0                Harvard University          NaN       1.0   \n",
       "1           NaN                               NaN          NaN       NaN   \n",
       "2           NaN                               NaN          NaN       NaN   \n",
       "3           NaN                               NaN          NaN       NaN   \n",
       "4           NaN                               NaN          NaN       NaN   \n",
       "...         ...                               ...          ...       ...   \n",
       "260794      NaN                               NaN          NaN       NaN   \n",
       "260795  25958.0  Sydney University Medical School         1982       1.0   \n",
       "260796  18871.0                              ESCS         2004       1.0   \n",
       "260797      NaN                               NaN          NaN       NaN   \n",
       "260798      NaN                               NaN          NaN       NaN   \n",
       "\n",
       "        has_grad  has_edu_1  \n",
       "0            0.0        1.0  \n",
       "1            NaN        NaN  \n",
       "2            NaN        NaN  \n",
       "3            NaN        NaN  \n",
       "4            NaN        NaN  \n",
       "...          ...        ...  \n",
       "260794       NaN        NaN  \n",
       "260795       1.0        2.0  \n",
       "260796       1.0        2.0  \n",
       "260797       NaN        NaN  \n",
       "260798       NaN        NaN  \n",
       "\n",
       "[260799 rows x 11 columns]"
      ]
     },
     "execution_count": 50,
     "metadata": {},
     "output_type": "execute_result"
    }
   ],
   "source": [
    "pe_merged = people.merge(education, on='person_id', how='left')\n",
    "pe_merged"
   ]
  },
  {
   "cell_type": "code",
   "execution_count": 51,
   "metadata": {},
   "outputs": [
    {
     "data": {
      "text/html": [
       "<div>\n",
       "<style scoped>\n",
       "    .dataframe tbody tr th:only-of-type {\n",
       "        vertical-align: middle;\n",
       "    }\n",
       "\n",
       "    .dataframe tbody tr th {\n",
       "        vertical-align: top;\n",
       "    }\n",
       "\n",
       "    .dataframe thead th {\n",
       "        text-align: right;\n",
       "    }\n",
       "</style>\n",
       "<table border=\"1\" class=\"dataframe\">\n",
       "  <thead>\n",
       "    <tr style=\"text-align: right;\">\n",
       "      <th></th>\n",
       "      <th>person_id</th>\n",
       "      <th>first_name</th>\n",
       "      <th>last_name</th>\n",
       "      <th>company_id</th>\n",
       "      <th>network_username</th>\n",
       "      <th>id</th>\n",
       "      <th>instituition</th>\n",
       "      <th>graduated_at</th>\n",
       "      <th>has_inst</th>\n",
       "      <th>has_grad</th>\n",
       "      <th>has_edu_1</th>\n",
       "    </tr>\n",
       "  </thead>\n",
       "  <tbody>\n",
       "    <tr>\n",
       "      <th>97748</th>\n",
       "      <td>2</td>\n",
       "      <td>Ben</td>\n",
       "      <td>Elowitz</td>\n",
       "      <td>4993.0</td>\n",
       "      <td>elowitz</td>\n",
       "      <td>699.0</td>\n",
       "      <td>University of California, Berkeley</td>\n",
       "      <td>1994</td>\n",
       "      <td>1.0</td>\n",
       "      <td>1.0</td>\n",
       "      <td>2.0</td>\n",
       "    </tr>\n",
       "    <tr>\n",
       "      <th>185861</th>\n",
       "      <td>3</td>\n",
       "      <td>Kevin</td>\n",
       "      <td>Flaherty</td>\n",
       "      <td>1.0</td>\n",
       "      <td>NaN</td>\n",
       "      <td>706.0</td>\n",
       "      <td>Washington University in St Louis</td>\n",
       "      <td>NaN</td>\n",
       "      <td>1.0</td>\n",
       "      <td>0.0</td>\n",
       "      <td>1.0</td>\n",
       "    </tr>\n",
       "    <tr>\n",
       "      <th>185860</th>\n",
       "      <td>3</td>\n",
       "      <td>Kevin</td>\n",
       "      <td>Flaherty</td>\n",
       "      <td>1.0</td>\n",
       "      <td>NaN</td>\n",
       "      <td>707.0</td>\n",
       "      <td>Indiana University</td>\n",
       "      <td>NaN</td>\n",
       "      <td>1.0</td>\n",
       "      <td>0.0</td>\n",
       "      <td>1.0</td>\n",
       "    </tr>\n",
       "    <tr>\n",
       "      <th>197153</th>\n",
       "      <td>4</td>\n",
       "      <td>Raju</td>\n",
       "      <td>Vegesna</td>\n",
       "      <td>3.0</td>\n",
       "      <td>NaN</td>\n",
       "      <td>NaN</td>\n",
       "      <td>NaN</td>\n",
       "      <td>NaN</td>\n",
       "      <td>NaN</td>\n",
       "      <td>NaN</td>\n",
       "      <td>NaN</td>\n",
       "    </tr>\n",
       "    <tr>\n",
       "      <th>208410</th>\n",
       "      <td>5</td>\n",
       "      <td>Ian</td>\n",
       "      <td>Wenig</td>\n",
       "      <td>3.0</td>\n",
       "      <td>NaN</td>\n",
       "      <td>47871.0</td>\n",
       "      <td>McGill University</td>\n",
       "      <td>1986</td>\n",
       "      <td>1.0</td>\n",
       "      <td>1.0</td>\n",
       "      <td>2.0</td>\n",
       "    </tr>\n",
       "    <tr>\n",
       "      <th>...</th>\n",
       "      <td>...</td>\n",
       "      <td>...</td>\n",
       "      <td>...</td>\n",
       "      <td>...</td>\n",
       "      <td>...</td>\n",
       "      <td>...</td>\n",
       "      <td>...</td>\n",
       "      <td>...</td>\n",
       "      <td>...</td>\n",
       "      <td>...</td>\n",
       "      <td>...</td>\n",
       "    </tr>\n",
       "    <tr>\n",
       "      <th>182494</th>\n",
       "      <td>268589</td>\n",
       "      <td>John</td>\n",
       "      <td>Pins</td>\n",
       "      <td>NaN</td>\n",
       "      <td>NaN</td>\n",
       "      <td>109606.0</td>\n",
       "      <td>American Institute of Certtified Public Accoun...</td>\n",
       "      <td>NaN</td>\n",
       "      <td>1.0</td>\n",
       "      <td>0.0</td>\n",
       "      <td>1.0</td>\n",
       "    </tr>\n",
       "    <tr>\n",
       "      <th>182493</th>\n",
       "      <td>268589</td>\n",
       "      <td>John</td>\n",
       "      <td>Pins</td>\n",
       "      <td>NaN</td>\n",
       "      <td>NaN</td>\n",
       "      <td>109605.0</td>\n",
       "      <td>Iowa State University</td>\n",
       "      <td>NaN</td>\n",
       "      <td>1.0</td>\n",
       "      <td>0.0</td>\n",
       "      <td>1.0</td>\n",
       "    </tr>\n",
       "    <tr>\n",
       "      <th>182496</th>\n",
       "      <td>268590</td>\n",
       "      <td>David</td>\n",
       "      <td>Schulhof</td>\n",
       "      <td>NaN</td>\n",
       "      <td>NaN</td>\n",
       "      <td>NaN</td>\n",
       "      <td>NaN</td>\n",
       "      <td>NaN</td>\n",
       "      <td>NaN</td>\n",
       "      <td>NaN</td>\n",
       "      <td>NaN</td>\n",
       "    </tr>\n",
       "    <tr>\n",
       "      <th>182497</th>\n",
       "      <td>268592</td>\n",
       "      <td>Matthew</td>\n",
       "      <td>D. Rosen</td>\n",
       "      <td>NaN</td>\n",
       "      <td>NaN</td>\n",
       "      <td>NaN</td>\n",
       "      <td>NaN</td>\n",
       "      <td>NaN</td>\n",
       "      <td>NaN</td>\n",
       "      <td>NaN</td>\n",
       "      <td>NaN</td>\n",
       "    </tr>\n",
       "    <tr>\n",
       "      <th>182498</th>\n",
       "      <td>268593</td>\n",
       "      <td>Gordon</td>\n",
       "      <td>Hutchins</td>\n",
       "      <td>NaN</td>\n",
       "      <td>NaN</td>\n",
       "      <td>NaN</td>\n",
       "      <td>NaN</td>\n",
       "      <td>NaN</td>\n",
       "      <td>NaN</td>\n",
       "      <td>NaN</td>\n",
       "      <td>NaN</td>\n",
       "    </tr>\n",
       "  </tbody>\n",
       "</table>\n",
       "<p>260799 rows × 11 columns</p>\n",
       "</div>"
      ],
      "text/plain": [
       "        person_id first_name last_name  company_id network_username        id  \\\n",
       "97748           2        Ben   Elowitz      4993.0          elowitz     699.0   \n",
       "185861          3      Kevin  Flaherty         1.0              NaN     706.0   \n",
       "185860          3      Kevin  Flaherty         1.0              NaN     707.0   \n",
       "197153          4       Raju   Vegesna         3.0              NaN       NaN   \n",
       "208410          5        Ian     Wenig         3.0              NaN   47871.0   \n",
       "...           ...        ...       ...         ...              ...       ...   \n",
       "182494     268589       John      Pins         NaN              NaN  109606.0   \n",
       "182493     268589       John      Pins         NaN              NaN  109605.0   \n",
       "182496     268590      David  Schulhof         NaN              NaN       NaN   \n",
       "182497     268592    Matthew  D. Rosen         NaN              NaN       NaN   \n",
       "182498     268593     Gordon  Hutchins         NaN              NaN       NaN   \n",
       "\n",
       "                                             instituition graduated_at  \\\n",
       "97748                  University of California, Berkeley         1994   \n",
       "185861                  Washington University in St Louis          NaN   \n",
       "185860                                 Indiana University          NaN   \n",
       "197153                                                NaN          NaN   \n",
       "208410                                  McGill University         1986   \n",
       "...                                                   ...          ...   \n",
       "182494  American Institute of Certtified Public Accoun...          NaN   \n",
       "182493                              Iowa State University          NaN   \n",
       "182496                                                NaN          NaN   \n",
       "182497                                                NaN          NaN   \n",
       "182498                                                NaN          NaN   \n",
       "\n",
       "        has_inst  has_grad  has_edu_1  \n",
       "97748        1.0       1.0        2.0  \n",
       "185861       1.0       0.0        1.0  \n",
       "185860       1.0       0.0        1.0  \n",
       "197153       NaN       NaN        NaN  \n",
       "208410       1.0       1.0        2.0  \n",
       "...          ...       ...        ...  \n",
       "182494       1.0       0.0        1.0  \n",
       "182493       1.0       0.0        1.0  \n",
       "182496       NaN       NaN        NaN  \n",
       "182497       NaN       NaN        NaN  \n",
       "182498       NaN       NaN        NaN  \n",
       "\n",
       "[260799 rows x 11 columns]"
      ]
     },
     "execution_count": 51,
     "metadata": {},
     "output_type": "execute_result"
    }
   ],
   "source": [
    "pe_merged.sort_values(by='person_id')"
   ]
  },
  {
   "cell_type": "code",
   "execution_count": 52,
   "metadata": {},
   "outputs": [],
   "source": [
    "pe = pe_merged.groupby('company_id').agg({'person_id':'count', 'has_edu_1':'count'})\n",
    "\n",
    "pe['share_no_edu'] = round(pe['has_edu_1']/pe['person_id'], 2)"
   ]
  },
  {
   "cell_type": "code",
   "execution_count": 53,
   "metadata": {},
   "outputs": [
    {
     "data": {
      "text/html": [
       "<div>\n",
       "<style scoped>\n",
       "    .dataframe tbody tr th:only-of-type {\n",
       "        vertical-align: middle;\n",
       "    }\n",
       "\n",
       "    .dataframe tbody tr th {\n",
       "        vertical-align: top;\n",
       "    }\n",
       "\n",
       "    .dataframe thead th {\n",
       "        text-align: right;\n",
       "    }\n",
       "</style>\n",
       "<table border=\"1\" class=\"dataframe\">\n",
       "  <thead>\n",
       "    <tr style=\"text-align: right;\">\n",
       "      <th></th>\n",
       "      <th>person_id</th>\n",
       "      <th>has_edu_1</th>\n",
       "      <th>share_no_edu</th>\n",
       "    </tr>\n",
       "    <tr>\n",
       "      <th>company_id</th>\n",
       "      <th></th>\n",
       "      <th></th>\n",
       "      <th></th>\n",
       "    </tr>\n",
       "  </thead>\n",
       "  <tbody>\n",
       "    <tr>\n",
       "      <th>1.0</th>\n",
       "      <td>3</td>\n",
       "      <td>2</td>\n",
       "      <td>0.67</td>\n",
       "    </tr>\n",
       "    <tr>\n",
       "      <th>2.0</th>\n",
       "      <td>1</td>\n",
       "      <td>1</td>\n",
       "      <td>1.00</td>\n",
       "    </tr>\n",
       "    <tr>\n",
       "      <th>3.0</th>\n",
       "      <td>5</td>\n",
       "      <td>4</td>\n",
       "      <td>0.80</td>\n",
       "    </tr>\n",
       "    <tr>\n",
       "      <th>4.0</th>\n",
       "      <td>18</td>\n",
       "      <td>17</td>\n",
       "      <td>0.94</td>\n",
       "    </tr>\n",
       "    <tr>\n",
       "      <th>5.0</th>\n",
       "      <td>76</td>\n",
       "      <td>60</td>\n",
       "      <td>0.79</td>\n",
       "    </tr>\n",
       "    <tr>\n",
       "      <th>...</th>\n",
       "      <td>...</td>\n",
       "      <td>...</td>\n",
       "      <td>...</td>\n",
       "    </tr>\n",
       "    <tr>\n",
       "      <th>285897.0</th>\n",
       "      <td>2</td>\n",
       "      <td>2</td>\n",
       "      <td>1.00</td>\n",
       "    </tr>\n",
       "    <tr>\n",
       "      <th>285953.0</th>\n",
       "      <td>1</td>\n",
       "      <td>0</td>\n",
       "      <td>0.00</td>\n",
       "    </tr>\n",
       "    <tr>\n",
       "      <th>285972.0</th>\n",
       "      <td>2</td>\n",
       "      <td>1</td>\n",
       "      <td>0.50</td>\n",
       "    </tr>\n",
       "    <tr>\n",
       "      <th>285996.0</th>\n",
       "      <td>1</td>\n",
       "      <td>1</td>\n",
       "      <td>1.00</td>\n",
       "    </tr>\n",
       "    <tr>\n",
       "      <th>286091.0</th>\n",
       "      <td>7</td>\n",
       "      <td>5</td>\n",
       "      <td>0.71</td>\n",
       "    </tr>\n",
       "  </tbody>\n",
       "</table>\n",
       "<p>22922 rows × 3 columns</p>\n",
       "</div>"
      ],
      "text/plain": [
       "            person_id  has_edu_1  share_no_edu\n",
       "company_id                                    \n",
       "1.0                 3          2          0.67\n",
       "2.0                 1          1          1.00\n",
       "3.0                 5          4          0.80\n",
       "4.0                18         17          0.94\n",
       "5.0                76         60          0.79\n",
       "...               ...        ...           ...\n",
       "285897.0            2          2          1.00\n",
       "285953.0            1          0          0.00\n",
       "285972.0            2          1          0.50\n",
       "285996.0            1          1          1.00\n",
       "286091.0            7          5          0.71\n",
       "\n",
       "[22922 rows x 3 columns]"
      ]
     },
     "execution_count": 53,
     "metadata": {},
     "output_type": "execute_result"
    }
   ],
   "source": [
    "pe"
   ]
  },
  {
   "cell_type": "code",
   "execution_count": 54,
   "metadata": {},
   "outputs": [
    {
     "data": {
      "text/plain": [
       "array([  3,   1,   5,  18,  76,  59,  10,   6,   4,   2,   8,  56,   7,\n",
       "        12,  44, 207,   9,  15,  28, 347,  24,  27,  14,  11,  16,  39,\n",
       "        17,  13,  30,  19,  67,  29,  47,  31,  20,  23,  70,  71,  21,\n",
       "        22, 181,  38,  42,  25,  84,  26,  41,  34, 106])"
      ]
     },
     "execution_count": 54,
     "metadata": {},
     "output_type": "execute_result"
    }
   ],
   "source": [
    "pe['person_id'].unique()"
   ]
  },
  {
   "cell_type": "code",
   "execution_count": 55,
   "metadata": {},
   "outputs": [
    {
     "data": {
      "text/plain": [
       "count_cat\n",
       "мало сотрудников      0.54\n",
       "средне сотрудников    0.81\n",
       "много сотрудников     0.80\n",
       "Name: share_no_edu, dtype: float64"
      ]
     },
     "execution_count": 55,
     "metadata": {},
     "output_type": "execute_result"
    }
   ],
   "source": [
    "pe['count_cat']=pd.cut(pe['person_id'], bins=[0,30,200,400], labels=['мало сотрудников','средне сотрудников','много сотрудников'], right=False)\n",
    "pe.groupby('count_cat')['share_no_edu'].mean().round(2)"
   ]
  },
  {
   "cell_type": "markdown",
   "metadata": {},
   "source": [
    "<div class=\"alert alert-success\">\n",
    "<h2> Комментарий ревьюера <a class=\"tocSkip\"> </h2>\n",
    "\n",
    "<b>Все отлично!👍</b> Таблицу можно добавить также по `person_id`, удалив при этом пропуски в связке `degree_type','subject`."
   ]
  },
  {
   "cell_type": "markdown",
   "metadata": {},
   "source": [
    "выводы:\n",
    "- после анализа обеих таблиц можно увидеть, что в таблице people мы сталкиваемся с отсутвием данных о принадлежности сотрудника к определенной компании в 85% случаев. это огромное количество пропусков, которое осложняет анализ, но ничего не остается, как работать с имеющимся сетом данных\n",
    "- в таблице с информацией об образовании нет еще половины информации об образовании\n",
    "- отсюда возникает повторный вопрос: нужно ли еще присоединить таблицу degrees? с одной стороны, это помогло бы решить проблему предыдущего пункта. с другой стороны, это  добавит проблему обработки пропусков и дубликатов, тем самым осложнит анализ или даже исказит имеющиеся данные. считаю целесообразным использовать только таблицу education основной при вычислении наличия образования, так как в ней находится главный фактор наличия образования при сложившихся обстоятельствах (название вуза)\n",
    "- при категоризации компаний по количеству сотрудников были выбраны следущие границы: до 30 сотрудников - мало сотрудников, 31-200 сотрудников - средне сотрудников, 201-400 сотрудников - много сотрудников. границы были выбраны таким образом, так как после анализа уникального количества сотрудников мы не видим большой вариативности данных, а при данном ранжировании количество уникальных значений примерно одинаковое и логичное.\n",
    "- также здесь очевидно, что для для маленьких компаний нет около 54% данных об образовании для сотрудников, в средних и больших для 80%.\n",
    "- из-за большого отсутсвия данных считаю, что неправильно выделять группу самозанятых/основателей, партнеров и т.п., так как в 80% пропусков может находиться информация о принадлежности сотрудника к компании."
   ]
  },
  {
   "cell_type": "markdown",
   "metadata": {},
   "source": [
    "<div class=\"alert alert-success\">\n",
    "<h2> Комментарий ревьюера <a class=\"tocSkip\"> </h2>\n",
    "\n",
    "<b>Все отлично!👍</b> Вывод верный - действительно у небольших компаний уровень образования заполнен реже, чем у крупных. Молодец, что обосновала выбор границ для выделения групп."
   ]
  },
  {
   "cell_type": "markdown",
   "metadata": {},
   "source": [
    "### 2.3. Объединять или не объединять — вот в чём вопрос\n",
    "\n",
    "Некоторые названия столбцов встречаются в датасетах чаще других. И, например, в результате предварительной проверки датасетов было выяснено, что столбец `company_id` подходит для объединения данных, так как большая часть значений встречается в разных датасетах не один, а несколько раз. Этот столбец может быть использован для объединения данных.\n",
    "\n",
    "* Установите, подходит ли для объединения данных столбец `network_username`, который встречается в нескольких датасетах. Нам необходимо понимать, дублируется ли для разных датасетов информация в столбцах с таким названием, и если да — то насколько часто.\n",
    "\n",
    "* Оцените, можно ли использовать столбцы с именем `network_username` для объединения данных."
   ]
  },
  {
   "cell_type": "code",
   "execution_count": 56,
   "metadata": {
    "id": "Cf5IjfOQrJg1",
    "scrolled": false
   },
   "outputs": [
    {
     "data": {
      "text/html": [
       "<div>\n",
       "<style scoped>\n",
       "    .dataframe tbody tr th:only-of-type {\n",
       "        vertical-align: middle;\n",
       "    }\n",
       "\n",
       "    .dataframe tbody tr th {\n",
       "        vertical-align: top;\n",
       "    }\n",
       "\n",
       "    .dataframe thead th {\n",
       "        text-align: right;\n",
       "    }\n",
       "</style>\n",
       "<table border=\"1\" class=\"dataframe\">\n",
       "  <thead>\n",
       "    <tr style=\"text-align: right;\">\n",
       "      <th></th>\n",
       "      <th>company  ID</th>\n",
       "      <th>name</th>\n",
       "      <th>category  code</th>\n",
       "      <th>status</th>\n",
       "      <th>founded  at</th>\n",
       "      <th>closed  at</th>\n",
       "      <th>domain</th>\n",
       "      <th>network  username</th>\n",
       "      <th>country  code</th>\n",
       "      <th>investment  rounds</th>\n",
       "      <th>...</th>\n",
       "      <th>milestones</th>\n",
       "      <th>funding  round  id</th>\n",
       "      <th>company  id</th>\n",
       "      <th>funded  at</th>\n",
       "      <th>funding  round  type</th>\n",
       "      <th>raised  amount</th>\n",
       "      <th>pre  money  valuation</th>\n",
       "      <th>participants</th>\n",
       "      <th>is  first  round</th>\n",
       "      <th>is  last  round</th>\n",
       "    </tr>\n",
       "  </thead>\n",
       "  <tbody>\n",
       "    <tr>\n",
       "      <th>0</th>\n",
       "      <td>1.0</td>\n",
       "      <td>Wetpaint</td>\n",
       "      <td>web</td>\n",
       "      <td>operating</td>\n",
       "      <td>2005</td>\n",
       "      <td>NaN</td>\n",
       "      <td>wetpaint-inc.com</td>\n",
       "      <td>BachelrWetpaint</td>\n",
       "      <td>USA</td>\n",
       "      <td>0.0</td>\n",
       "      <td>...</td>\n",
       "      <td>5.0</td>\n",
       "      <td>888.0</td>\n",
       "      <td>1.0</td>\n",
       "      <td>2005</td>\n",
       "      <td>series-a</td>\n",
       "      <td>5250000.0</td>\n",
       "      <td>0.0</td>\n",
       "      <td>2.0</td>\n",
       "      <td>0.0</td>\n",
       "      <td>1.0</td>\n",
       "    </tr>\n",
       "    <tr>\n",
       "      <th>1</th>\n",
       "      <td>1.0</td>\n",
       "      <td>Wetpaint</td>\n",
       "      <td>web</td>\n",
       "      <td>operating</td>\n",
       "      <td>2005</td>\n",
       "      <td>NaN</td>\n",
       "      <td>wetpaint-inc.com</td>\n",
       "      <td>BachelrWetpaint</td>\n",
       "      <td>USA</td>\n",
       "      <td>0.0</td>\n",
       "      <td>...</td>\n",
       "      <td>5.0</td>\n",
       "      <td>889.0</td>\n",
       "      <td>1.0</td>\n",
       "      <td>2007</td>\n",
       "      <td>series-b</td>\n",
       "      <td>9500000.0</td>\n",
       "      <td>0.0</td>\n",
       "      <td>3.0</td>\n",
       "      <td>0.0</td>\n",
       "      <td>0.0</td>\n",
       "    </tr>\n",
       "    <tr>\n",
       "      <th>2</th>\n",
       "      <td>1.0</td>\n",
       "      <td>Wetpaint</td>\n",
       "      <td>web</td>\n",
       "      <td>operating</td>\n",
       "      <td>2005</td>\n",
       "      <td>NaN</td>\n",
       "      <td>wetpaint-inc.com</td>\n",
       "      <td>BachelrWetpaint</td>\n",
       "      <td>USA</td>\n",
       "      <td>0.0</td>\n",
       "      <td>...</td>\n",
       "      <td>5.0</td>\n",
       "      <td>2312.0</td>\n",
       "      <td>1.0</td>\n",
       "      <td>2008</td>\n",
       "      <td>series-c+</td>\n",
       "      <td>25000000.0</td>\n",
       "      <td>0.0</td>\n",
       "      <td>4.0</td>\n",
       "      <td>1.0</td>\n",
       "      <td>0.0</td>\n",
       "    </tr>\n",
       "    <tr>\n",
       "      <th>3</th>\n",
       "      <td>10.0</td>\n",
       "      <td>Flektor</td>\n",
       "      <td>games_video</td>\n",
       "      <td>acquired</td>\n",
       "      <td>NaN</td>\n",
       "      <td>NaN</td>\n",
       "      <td>flektor.com</td>\n",
       "      <td>NaN</td>\n",
       "      <td>USA</td>\n",
       "      <td>0.0</td>\n",
       "      <td>...</td>\n",
       "      <td>0.0</td>\n",
       "      <td>NaN</td>\n",
       "      <td>NaN</td>\n",
       "      <td>NaN</td>\n",
       "      <td>NaN</td>\n",
       "      <td>NaN</td>\n",
       "      <td>NaN</td>\n",
       "      <td>NaN</td>\n",
       "      <td>NaN</td>\n",
       "      <td>NaN</td>\n",
       "    </tr>\n",
       "    <tr>\n",
       "      <th>4</th>\n",
       "      <td>100.0</td>\n",
       "      <td>There</td>\n",
       "      <td>games_video</td>\n",
       "      <td>acquired</td>\n",
       "      <td>NaN</td>\n",
       "      <td>NaN</td>\n",
       "      <td>there.com</td>\n",
       "      <td>NaN</td>\n",
       "      <td>USA</td>\n",
       "      <td>0.0</td>\n",
       "      <td>...</td>\n",
       "      <td>4.0</td>\n",
       "      <td>NaN</td>\n",
       "      <td>NaN</td>\n",
       "      <td>NaN</td>\n",
       "      <td>NaN</td>\n",
       "      <td>NaN</td>\n",
       "      <td>NaN</td>\n",
       "      <td>NaN</td>\n",
       "      <td>NaN</td>\n",
       "      <td>NaN</td>\n",
       "    </tr>\n",
       "    <tr>\n",
       "      <th>...</th>\n",
       "      <td>...</td>\n",
       "      <td>...</td>\n",
       "      <td>...</td>\n",
       "      <td>...</td>\n",
       "      <td>...</td>\n",
       "      <td>...</td>\n",
       "      <td>...</td>\n",
       "      <td>...</td>\n",
       "      <td>...</td>\n",
       "      <td>...</td>\n",
       "      <td>...</td>\n",
       "      <td>...</td>\n",
       "      <td>...</td>\n",
       "      <td>...</td>\n",
       "      <td>...</td>\n",
       "      <td>...</td>\n",
       "      <td>...</td>\n",
       "      <td>...</td>\n",
       "      <td>...</td>\n",
       "      <td>...</td>\n",
       "      <td>...</td>\n",
       "    </tr>\n",
       "    <tr>\n",
       "      <th>217769</th>\n",
       "      <td>NaN</td>\n",
       "      <td>NaN</td>\n",
       "      <td>NaN</td>\n",
       "      <td>NaN</td>\n",
       "      <td>NaN</td>\n",
       "      <td>NaN</td>\n",
       "      <td>NaN</td>\n",
       "      <td>NaN</td>\n",
       "      <td>NaN</td>\n",
       "      <td>NaN</td>\n",
       "      <td>...</td>\n",
       "      <td>NaN</td>\n",
       "      <td>56448.0</td>\n",
       "      <td>282847.0</td>\n",
       "      <td>2011</td>\n",
       "      <td>other</td>\n",
       "      <td>5500000.0</td>\n",
       "      <td>0.0</td>\n",
       "      <td>0.0</td>\n",
       "      <td>1.0</td>\n",
       "      <td>1.0</td>\n",
       "    </tr>\n",
       "    <tr>\n",
       "      <th>217770</th>\n",
       "      <td>NaN</td>\n",
       "      <td>NaN</td>\n",
       "      <td>NaN</td>\n",
       "      <td>NaN</td>\n",
       "      <td>NaN</td>\n",
       "      <td>NaN</td>\n",
       "      <td>NaN</td>\n",
       "      <td>NaN</td>\n",
       "      <td>NaN</td>\n",
       "      <td>NaN</td>\n",
       "      <td>...</td>\n",
       "      <td>NaN</td>\n",
       "      <td>56544.0</td>\n",
       "      <td>55477.0</td>\n",
       "      <td>2011</td>\n",
       "      <td>venture</td>\n",
       "      <td>10633300.0</td>\n",
       "      <td>0.0</td>\n",
       "      <td>0.0</td>\n",
       "      <td>0.0</td>\n",
       "      <td>1.0</td>\n",
       "    </tr>\n",
       "    <tr>\n",
       "      <th>217771</th>\n",
       "      <td>NaN</td>\n",
       "      <td>NaN</td>\n",
       "      <td>NaN</td>\n",
       "      <td>NaN</td>\n",
       "      <td>NaN</td>\n",
       "      <td>NaN</td>\n",
       "      <td>NaN</td>\n",
       "      <td>NaN</td>\n",
       "      <td>NaN</td>\n",
       "      <td>NaN</td>\n",
       "      <td>...</td>\n",
       "      <td>NaN</td>\n",
       "      <td>56544.0</td>\n",
       "      <td>55477.0</td>\n",
       "      <td>2012</td>\n",
       "      <td>venture</td>\n",
       "      <td>2125720.0</td>\n",
       "      <td>0.0</td>\n",
       "      <td>0.0</td>\n",
       "      <td>1.0</td>\n",
       "      <td>0.0</td>\n",
       "    </tr>\n",
       "    <tr>\n",
       "      <th>217772</th>\n",
       "      <td>NaN</td>\n",
       "      <td>NaN</td>\n",
       "      <td>NaN</td>\n",
       "      <td>NaN</td>\n",
       "      <td>NaN</td>\n",
       "      <td>NaN</td>\n",
       "      <td>NaN</td>\n",
       "      <td>NaN</td>\n",
       "      <td>NaN</td>\n",
       "      <td>NaN</td>\n",
       "      <td>...</td>\n",
       "      <td>NaN</td>\n",
       "      <td>56928.0</td>\n",
       "      <td>283492.0</td>\n",
       "      <td>2013</td>\n",
       "      <td>venture</td>\n",
       "      <td>3602480.0</td>\n",
       "      <td>0.0</td>\n",
       "      <td>5.0</td>\n",
       "      <td>1.0</td>\n",
       "      <td>1.0</td>\n",
       "    </tr>\n",
       "    <tr>\n",
       "      <th>217773</th>\n",
       "      <td>NaN</td>\n",
       "      <td>NaN</td>\n",
       "      <td>NaN</td>\n",
       "      <td>NaN</td>\n",
       "      <td>NaN</td>\n",
       "      <td>NaN</td>\n",
       "      <td>NaN</td>\n",
       "      <td>NaN</td>\n",
       "      <td>NaN</td>\n",
       "      <td>NaN</td>\n",
       "      <td>...</td>\n",
       "      <td>NaN</td>\n",
       "      <td>57056.0</td>\n",
       "      <td>284191.0</td>\n",
       "      <td>2013</td>\n",
       "      <td>venture</td>\n",
       "      <td>7000000.0</td>\n",
       "      <td>0.0</td>\n",
       "      <td>4.0</td>\n",
       "      <td>1.0</td>\n",
       "      <td>1.0</td>\n",
       "    </tr>\n",
       "  </tbody>\n",
       "</table>\n",
       "<p>217774 rows × 22 columns</p>\n",
       "</div>"
      ],
      "text/plain": [
       "        company  ID      name category  code     status founded  at  \\\n",
       "0               1.0  Wetpaint            web  operating        2005   \n",
       "1               1.0  Wetpaint            web  operating        2005   \n",
       "2               1.0  Wetpaint            web  operating        2005   \n",
       "3              10.0   Flektor    games_video   acquired         NaN   \n",
       "4             100.0     There    games_video   acquired         NaN   \n",
       "...             ...       ...            ...        ...         ...   \n",
       "217769          NaN       NaN            NaN        NaN         NaN   \n",
       "217770          NaN       NaN            NaN        NaN         NaN   \n",
       "217771          NaN       NaN            NaN        NaN         NaN   \n",
       "217772          NaN       NaN            NaN        NaN         NaN   \n",
       "217773          NaN       NaN            NaN        NaN         NaN   \n",
       "\n",
       "       closed  at            domain network  username country  code  \\\n",
       "0             NaN  wetpaint-inc.com   BachelrWetpaint           USA   \n",
       "1             NaN  wetpaint-inc.com   BachelrWetpaint           USA   \n",
       "2             NaN  wetpaint-inc.com   BachelrWetpaint           USA   \n",
       "3             NaN       flektor.com               NaN           USA   \n",
       "4             NaN         there.com               NaN           USA   \n",
       "...           ...               ...               ...           ...   \n",
       "217769        NaN               NaN               NaN           NaN   \n",
       "217770        NaN               NaN               NaN           NaN   \n",
       "217771        NaN               NaN               NaN           NaN   \n",
       "217772        NaN               NaN               NaN           NaN   \n",
       "217773        NaN               NaN               NaN           NaN   \n",
       "\n",
       "        investment  rounds  ...  milestones  funding  round  id  company  id  \\\n",
       "0                      0.0  ...         5.0               888.0          1.0   \n",
       "1                      0.0  ...         5.0               889.0          1.0   \n",
       "2                      0.0  ...         5.0              2312.0          1.0   \n",
       "3                      0.0  ...         0.0                 NaN          NaN   \n",
       "4                      0.0  ...         4.0                 NaN          NaN   \n",
       "...                    ...  ...         ...                 ...          ...   \n",
       "217769                 NaN  ...         NaN             56448.0     282847.0   \n",
       "217770                 NaN  ...         NaN             56544.0      55477.0   \n",
       "217771                 NaN  ...         NaN             56544.0      55477.0   \n",
       "217772                 NaN  ...         NaN             56928.0     283492.0   \n",
       "217773                 NaN  ...         NaN             57056.0     284191.0   \n",
       "\n",
       "        funded  at  funding  round  type raised  amount pre  money  valuation  \\\n",
       "0             2005              series-a      5250000.0                   0.0   \n",
       "1             2007              series-b      9500000.0                   0.0   \n",
       "2             2008             series-c+     25000000.0                   0.0   \n",
       "3              NaN                   NaN            NaN                   NaN   \n",
       "4              NaN                   NaN            NaN                   NaN   \n",
       "...            ...                   ...            ...                   ...   \n",
       "217769        2011                 other      5500000.0                   0.0   \n",
       "217770        2011               venture     10633300.0                   0.0   \n",
       "217771        2012               venture      2125720.0                   0.0   \n",
       "217772        2013               venture      3602480.0                   0.0   \n",
       "217773        2013               venture      7000000.0                   0.0   \n",
       "\n",
       "        participants  is  first  round  is  last  round  \n",
       "0                2.0               0.0              1.0  \n",
       "1                3.0               0.0              0.0  \n",
       "2                4.0               1.0              0.0  \n",
       "3                NaN               NaN              NaN  \n",
       "4                NaN               NaN              NaN  \n",
       "...              ...               ...              ...  \n",
       "217769           0.0               1.0              1.0  \n",
       "217770           0.0               0.0              1.0  \n",
       "217771           0.0               1.0              0.0  \n",
       "217772           5.0               1.0              1.0  \n",
       "217773           4.0               1.0              1.0  \n",
       "\n",
       "[217774 rows x 22 columns]"
      ]
     },
     "execution_count": 56,
     "metadata": {},
     "output_type": "execute_result"
    }
   ],
   "source": [
    "company_and_rounds"
   ]
  },
  {
   "cell_type": "code",
   "execution_count": 57,
   "metadata": {},
   "outputs": [
    {
     "name": "stdout",
     "output_type": "stream",
     "text": [
      "Количество дубликатов:124\n"
     ]
    }
   ],
   "source": [
    "company_and_rounds_sorted = company_and_rounds.sort_values(by='network  username')\n",
    "quantity_of_dup =company_and_rounds_sorted.duplicated(keep=False).sum()\n",
    "print(f'Количество дубликатов:{quantity_of_dup}')"
   ]
  },
  {
   "cell_type": "code",
   "execution_count": 58,
   "metadata": {
    "scrolled": true
   },
   "outputs": [
    {
     "data": {
      "text/plain": [
       "{nan,\n",
       " 'animekida',\n",
       " 'danaharris',\n",
       " 'cordeliameacher',\n",
       " 'placcountants',\n",
       " 'fiabee',\n",
       " 'mentorsguild',\n",
       " 'adaptlogo',\n",
       " 'freeeduaid',\n",
       " 'pennjillette',\n",
       " 'kymalabs',\n",
       " 'ellissiau',\n",
       " 'tamatura1',\n",
       " 'youronlineft',\n",
       " 'docanimo',\n",
       " 'kbsconsultants',\n",
       " 'ClariumIT',\n",
       " 'chinese',\n",
       " 'top10pr',\n",
       " 'taggito',\n",
       " 'the_MADteam',\n",
       " 'xhtml',\n",
       " 'BinaryBonuses',\n",
       " 'bubblehubdotcom',\n",
       " 'melihozcanli',\n",
       " 'EGAFutura',\n",
       " 'shelscom',\n",
       " 'Accruing',\n",
       " 'MINNIANDA',\n",
       " 'encoreseo',\n",
       " 'nathancarnes',\n",
       " 'vebnest',\n",
       " 'DashBurst',\n",
       " 'amkico01',\n",
       " 'imenucards',\n",
       " 'flysmartfares',\n",
       " 'SeriousGamesInt',\n",
       " 'webqueb1',\n",
       " 'BizVizWiz',\n",
       " 'isai_fr',\n",
       " 'oxyzenwebmedia',\n",
       " 'akmgalerts',\n",
       " 'mashable',\n",
       " 'timkoelzer',\n",
       " 'nishantsoni123',\n",
       " 'TranquilDental1',\n",
       " 'MELT_MEDIA',\n",
       " 'BSPjohn',\n",
       " 'kaleonubegendik',\n",
       " 'GuerillaW',\n",
       " 'web9x',\n",
       " 'ecobold',\n",
       " 'ali_presseract',\n",
       " 'BOLDGuidance',\n",
       " 'orrisindia',\n",
       " 'bilalfazal',\n",
       " 'sunforged',\n",
       " 'apdtradedotcom',\n",
       " 'garnerseo',\n",
       " 'kenyob',\n",
       " 'wiMANme',\n",
       " 'artpreferred',\n",
       " 'tribbldotcom',\n",
       " 'konoozi',\n",
       " 'Greville3',\n",
       " 'credly',\n",
       " 'CamelotCastleHo',\n",
       " 'allprecisehvac',\n",
       " 'jasonkintzler',\n",
       " 'coolilabs',\n",
       " 'westling',\n",
       " 'Rekaudo',\n",
       " 'fuzemeeting',\n",
       " 'andyrbaker',\n",
       " 'globolstaff',\n",
       " 'mybestbuds',\n",
       " 'BodyShopBids',\n",
       " 'PJSweeney',\n",
       " 'TurnerDetroit',\n",
       " 'NuHabitat',\n",
       " 'tuitionworldwid',\n",
       " 'crowdin',\n",
       " 'mavenlink',\n",
       " 'thewebtaylor',\n",
       " 'deansaluti',\n",
       " 'Ferald',\n",
       " 'Silent_Order',\n",
       " 'reichersack',\n",
       " 'randolf',\n",
       " 'NimbleChef',\n",
       " 'ergo_evolution',\n",
       " 'contentdjapp',\n",
       " 'hey_kiki',\n",
       " 'thedealleague',\n",
       " 'evvnt',\n",
       " 'echavando',\n",
       " 'GetBidzy',\n",
       " 'dandingocpa',\n",
       " 'bestinchennai',\n",
       " 'mumbaigadget',\n",
       " 'laseoservices',\n",
       " 'leftysstable',\n",
       " 'gal_away',\n",
       " 'maxOz',\n",
       " 'lmgpr',\n",
       " 'clickariane',\n",
       " 'pofx_adagency',\n",
       " 'lapicamedia',\n",
       " 'teamMBH',\n",
       " 'y8gamesfree',\n",
       " 'Ooblur1',\n",
       " 'HospitalityXing',\n",
       " 'strubleorthodon',\n",
       " 'webkitesim',\n",
       " 'virante',\n",
       " 'urbansleepstore',\n",
       " 'whingeing_pom',\n",
       " 'Revolver_SF',\n",
       " 'InfraUpgrade',\n",
       " 'gnitome',\n",
       " 'Montclairadvrs',\n",
       " 'list2tech',\n",
       " 'graticle',\n",
       " 'LM2xEntertain',\n",
       " 'GroupOffice',\n",
       " 'SilkFred',\n",
       " 'cometroll',\n",
       " 'csworks',\n",
       " 'Fedeltahomecare',\n",
       " 'etaconsults',\n",
       " 'safe2waytexasdd',\n",
       " 'earbits',\n",
       " 'tecmoz',\n",
       " 'cybronics',\n",
       " 'startup2venture',\n",
       " 'illumemag',\n",
       " 'bliiir',\n",
       " 'mycodetree',\n",
       " 'specialkids',\n",
       " 'ShopTrakket',\n",
       " 'i_inspire',\n",
       " '9lessons',\n",
       " 'KaufmannMerc',\n",
       " 'buildnative',\n",
       " 'soloenglish',\n",
       " '3dsmaxmodeling',\n",
       " 'bizbroker23',\n",
       " 'thecmoclub',\n",
       " 'osiaffiliate',\n",
       " 'Fabulonia',\n",
       " '4thaspect',\n",
       " 'gridspy',\n",
       " 'venturehacks',\n",
       " 'sacdesignet',\n",
       " 'parkmiyoung',\n",
       " 'hometrackr',\n",
       " 'getartup',\n",
       " 'uruut',\n",
       " 'meitrack',\n",
       " 'onlinemarketdk',\n",
       " 'iPhoneAppsDevp',\n",
       " 'AbsoluteVariety',\n",
       " 'PeterMackness',\n",
       " 'lonroth',\n",
       " 'hatchbrands',\n",
       " 'ProfStream',\n",
       " 'ArthurGuy',\n",
       " 'meingutscheinco',\n",
       " 'IRBarker',\n",
       " 'modraideja',\n",
       " 'esauve',\n",
       " 'IanHSmith',\n",
       " 'squadronlondon',\n",
       " 'tobias_tobias',\n",
       " 'latracker',\n",
       " 'margaretthomas',\n",
       " 'mastertipper007',\n",
       " 'Glydewrite',\n",
       " 'Aquavation',\n",
       " 'europeshuttle',\n",
       " 'newallstreet',\n",
       " 'pud',\n",
       " 'itksys',\n",
       " 'socialyteco',\n",
       " 'mlangschied',\n",
       " 'zoomcreator',\n",
       " 'Reputation911',\n",
       " 'KooDooZ',\n",
       " 'Weemba',\n",
       " 'Galavantier',\n",
       " 'design_run',\n",
       " 'basicgov',\n",
       " 'simplilearn',\n",
       " 'sextant',\n",
       " 'SimuSync',\n",
       " 'automotiveseo',\n",
       " 'veterancentral',\n",
       " 'hsafe',\n",
       " 'emavensolutions',\n",
       " 'IMRadioOnline',\n",
       " 'embrioodotcom',\n",
       " 'zarsmedia',\n",
       " 'vieditcom',\n",
       " 'treeshore',\n",
       " 'netconstructor',\n",
       " 'aaronwclopton',\n",
       " 'ViVOforce',\n",
       " 'mobuyapp',\n",
       " 'staffsquared',\n",
       " 'akmanda',\n",
       " 'plotterapp',\n",
       " 'bpublic',\n",
       " 'WiseSaaS',\n",
       " 'www_MyShip_it',\n",
       " 'KILTR',\n",
       " 'contentcircles',\n",
       " 'tampawebdesign',\n",
       " 'rhobi1',\n",
       " 'StanfordMagnet',\n",
       " 'harlechnnorfolk',\n",
       " 'LifeCoachSpot',\n",
       " 'transcriptwave',\n",
       " 'richardjwatters',\n",
       " 'atlantists',\n",
       " 'designosoft',\n",
       " 'dministry',\n",
       " 'nataliehodge',\n",
       " 'spontoguy',\n",
       " 'kurtpenberg',\n",
       " 'b2b_for_solar',\n",
       " 'getclockshark',\n",
       " 'emobisoft',\n",
       " 'worldwidesupply',\n",
       " 'AntonRock',\n",
       " 'boardmybiz',\n",
       " 'mindtrades',\n",
       " 'designingstudio',\n",
       " 'glglaw',\n",
       " 'exoprise',\n",
       " 'delentis',\n",
       " 'Dibollandassoc',\n",
       " 'colingilchrist',\n",
       " 'operationoffers',\n",
       " '_huion_',\n",
       " 'rprosen',\n",
       " 'wiggio',\n",
       " 'sietepuentes',\n",
       " 'fantoon',\n",
       " 'Giochi_mmo',\n",
       " 'simplyglobo',\n",
       " 'Sociallybuzz',\n",
       " 'NickVellios',\n",
       " 'adliptweet',\n",
       " 'SalluHee',\n",
       " 'infinityintel',\n",
       " 'Ace__Ventures',\n",
       " 'koreanfashioned',\n",
       " 'pdesignlab',\n",
       " 'matt_muncmedia',\n",
       " 'innoengines',\n",
       " 'ashishpatel_com',\n",
       " 'MobiDev_',\n",
       " 'soramaki',\n",
       " 'venforo',\n",
       " 'firstconversion',\n",
       " 'obiesoftware',\n",
       " 'genadinik',\n",
       " 'billgates',\n",
       " 'localbooking',\n",
       " 'mattcutts',\n",
       " 'redalumnos',\n",
       " 'pmwagner',\n",
       " 'hoganmaps',\n",
       " 'tektrak',\n",
       " 'GlamourMod',\n",
       " 'gbraad',\n",
       " 'thequotefish',\n",
       " 'electriclenny',\n",
       " 'gridgain',\n",
       " 'Brightidea',\n",
       " 'CyberSponse',\n",
       " 'hmiah1',\n",
       " 'matthagger',\n",
       " 'jnisby',\n",
       " 'Featureworld',\n",
       " 'MedVacation',\n",
       " 'thechive',\n",
       " 'vantagelocal',\n",
       " 'bezellcsg',\n",
       " 'tomposerjll',\n",
       " 'YoungHollywood',\n",
       " 'tureus',\n",
       " 'bwprintworks',\n",
       " 'yellowlinkgo',\n",
       " 'CogCubed',\n",
       " 'ten43tech',\n",
       " 'AarowIndustries',\n",
       " 'startupfive',\n",
       " 'opallabs',\n",
       " 'tellgator',\n",
       " 'mindmatrix',\n",
       " 'mite',\n",
       " 'bluegrassstudio',\n",
       " 'travelautoinc',\n",
       " 'c3metrics',\n",
       " 'onlinesdl',\n",
       " 'furnesh',\n",
       " 'cargoh',\n",
       " 'coupsmart',\n",
       " 'krushhhbykonica',\n",
       " 'westingourmet',\n",
       " 'Airtasker',\n",
       " 'ninsaudebr',\n",
       " 'michellem',\n",
       " 'theskimm',\n",
       " 'frankbuysphilly',\n",
       " 'jaythadeshwar',\n",
       " 'onsecrethunt',\n",
       " 'undzorg',\n",
       " 'cityglance',\n",
       " 'roshya',\n",
       " 'adsmoke1',\n",
       " 'Abcteach',\n",
       " '36kr',\n",
       " 'dvspl',\n",
       " 'comnicate',\n",
       " 'localseoireland',\n",
       " 'eNewsz',\n",
       " 'tsheets',\n",
       " 'qarcodes',\n",
       " 'TCSCesar',\n",
       " 'lacantinaprod',\n",
       " 'KasevaCo',\n",
       " 'thereeveslawgro',\n",
       " 'vozio',\n",
       " 'eventyard',\n",
       " 'InsiderPerks',\n",
       " 'builderproprty',\n",
       " 'azurati1',\n",
       " 'bluebugletech',\n",
       " 'foodiebytes',\n",
       " 'thebcco',\n",
       " 'jcherbo',\n",
       " 'ATeam4ADream',\n",
       " 'SubhakarRao',\n",
       " 'mepdesign',\n",
       " 'silobreaker',\n",
       " 'WareNinja',\n",
       " '4koegler',\n",
       " 'raze_the_world',\n",
       " 'skillsfinder',\n",
       " 'supertintin',\n",
       " 'oggin',\n",
       " 'popnewswire',\n",
       " 'FITRadio',\n",
       " 'royalcrownseo',\n",
       " 'gateskip',\n",
       " 'mycareeri',\n",
       " 'teamweekplan',\n",
       " 'sensorsixhq',\n",
       " 'SunnySaves',\n",
       " 'InsightsTechne',\n",
       " 'bioZhena',\n",
       " 'roadtrafficsign',\n",
       " 'Agribestfeeds',\n",
       " 'webopenings',\n",
       " 'comufy',\n",
       " 'roverpet1',\n",
       " 'ByncHQ',\n",
       " 'shieldfunding',\n",
       " 'galeforcelogic',\n",
       " 'naffyrules',\n",
       " 'GuiasLocal',\n",
       " 'pickagenius',\n",
       " 'ConnectAndSell',\n",
       " 'jeremi',\n",
       " 'andacergun',\n",
       " 'get_a_game',\n",
       " 'RILawyer',\n",
       " 'distinctt',\n",
       " 'MikeFish111',\n",
       " 'banzailabs',\n",
       " 'guzmanadrian',\n",
       " 'manahilestate',\n",
       " 'bashfoo',\n",
       " 'leecontractguru',\n",
       " 'enswitch',\n",
       " 'freeconference',\n",
       " 'contentkingsmg',\n",
       " 'autoebid',\n",
       " 'BillBeckLLE',\n",
       " 'worldfoodtravel',\n",
       " 'haephrati',\n",
       " 'DocMate',\n",
       " 'jeffshjarback',\n",
       " 'wheemplay',\n",
       " 'Muzieo',\n",
       " 'tampaempire',\n",
       " 'rahulgchaudhary',\n",
       " 'investocontra',\n",
       " 'fabdrol',\n",
       " 'bcmoney',\n",
       " 'toby39',\n",
       " 'zarpzdotcom',\n",
       " 'PeekedInterest',\n",
       " 'tarynsullivan',\n",
       " 'PR_Smart',\n",
       " 'clippingpath_WH',\n",
       " 'hotelicopter',\n",
       " 'johndevor',\n",
       " 'daviker',\n",
       " 'colin_wt',\n",
       " 'Manifest_Mind',\n",
       " 'InstaTee',\n",
       " 'webhostuk',\n",
       " 'Addictd2Success',\n",
       " 'pitchboxapp',\n",
       " 'vidcompare',\n",
       " 'questetra',\n",
       " 'dealdecor',\n",
       " 'touchofmodern',\n",
       " 'annfinnbalboa',\n",
       " 'headhuntable',\n",
       " 'mcolimousine',\n",
       " 'jlamba',\n",
       " 'annacolibri',\n",
       " 'gilfuseducation',\n",
       " 'bob_benedict',\n",
       " 'talkto',\n",
       " 'Webfor',\n",
       " 'instanext',\n",
       " 'anteksiler',\n",
       " 'survey_tool',\n",
       " 'ideeli',\n",
       " 'hunome',\n",
       " 'thecandeoagency',\n",
       " 'real_tony',\n",
       " 'ibuywesell',\n",
       " 'mykuyam',\n",
       " 'reynoldsdigital',\n",
       " 'greenhousegnome',\n",
       " 'magicsaucemedia',\n",
       " 'ncameron',\n",
       " 'janzzcom',\n",
       " 'osscube',\n",
       " 'lunchmemo_com',\n",
       " 'UPFRONTMEDIA',\n",
       " 'gerridsmith',\n",
       " 'oemsecrets',\n",
       " 'prakarengineers',\n",
       " 'mtrdesign',\n",
       " 'dogalorganikbal',\n",
       " 'priceride',\n",
       " 'RoadtoValue',\n",
       " 'blackwood_vc',\n",
       " 'filmzu',\n",
       " 'winwinbooks',\n",
       " 'agriya1flv',\n",
       " 'crosscliq',\n",
       " 'mythingsapp',\n",
       " 'Conjugo',\n",
       " 'nattyshirtsusa',\n",
       " 'naitinofficial',\n",
       " 'helloitizen',\n",
       " 'googleandblog',\n",
       " 'shiftinsurance',\n",
       " 'gsound_app',\n",
       " 'carrollwebdev',\n",
       " 'CHINICT',\n",
       " 'mediatuner',\n",
       " 'tennisguru',\n",
       " 'hominggame',\n",
       " 'FindMySoftware',\n",
       " 'jade_track',\n",
       " 'eWinWin',\n",
       " 'displayads',\n",
       " 'followdicon',\n",
       " 'ordrin',\n",
       " 'irawilley',\n",
       " 'IntrepAero',\n",
       " 'MobilyTrip',\n",
       " 'rfilippini',\n",
       " 'pearsontech',\n",
       " 'vcipublisher',\n",
       " 'rampratetony',\n",
       " 'sjledet',\n",
       " 'wealthsprout',\n",
       " 'soniakhan33',\n",
       " 'bestfitmobile',\n",
       " 'beseenontop',\n",
       " 'sportroops',\n",
       " 'pin2ping',\n",
       " 'i_author',\n",
       " 'skyrank',\n",
       " 'metaconomy',\n",
       " 'XCOR',\n",
       " 'exosite',\n",
       " 'getfluency',\n",
       " 'eKomi',\n",
       " 'margaretwallace',\n",
       " 'RCSEposSystems',\n",
       " 'modeflowers',\n",
       " 'AptiGenius',\n",
       " 'nextcaller',\n",
       " 'lgarulli',\n",
       " 'rajanand',\n",
       " 'Quickercity',\n",
       " 'discoveryxa',\n",
       " 'Frozenbluemuss',\n",
       " 'Thea4shr',\n",
       " 'iovation',\n",
       " 'nousinfosystems',\n",
       " 'travelhead',\n",
       " 'dressmyphone',\n",
       " 'fitnessrepublic',\n",
       " 'elettro',\n",
       " 'spokiyo',\n",
       " 'submitshop',\n",
       " 'raffledog',\n",
       " 'signavio',\n",
       " 'gowebbaby',\n",
       " 'rinish720',\n",
       " 'elastiv',\n",
       " 'bookitlive',\n",
       " 'allegiantplans',\n",
       " 'finance101whiz',\n",
       " 'LordBendell',\n",
       " 'avggroup',\n",
       " 'fuelmileagenow',\n",
       " 'Hadafsoft',\n",
       " 'Tpad',\n",
       " 'FitforGreen',\n",
       " '_readfy',\n",
       " 'socialagency1',\n",
       " 'RivetSoftware',\n",
       " 'ambitionbag',\n",
       " 'styleoutthebox',\n",
       " 'ManmadeNotebook',\n",
       " 'sgkeil',\n",
       " 'design_at_NOON',\n",
       " 'gtopala',\n",
       " 'jocke',\n",
       " 'usjoomlaforce',\n",
       " 'excelmanish',\n",
       " 'Listen2thaNoise',\n",
       " '4collegeparents',\n",
       " 'chennaimoms',\n",
       " 'readrz',\n",
       " 'roadforhealth',\n",
       " 'James_Mensching',\n",
       " 'myonlinemaster',\n",
       " 'bookdirect',\n",
       " 'bamboudesign',\n",
       " 'CrowdfundGuy',\n",
       " 'unitedvirtual',\n",
       " 'CTOsOnTheMove',\n",
       " 'rsalistservices',\n",
       " 'rockrevelations',\n",
       " 'yourprivacy',\n",
       " 'GreggLorenzo_',\n",
       " 'boonseo',\n",
       " 'atebits',\n",
       " 'andrewdudum',\n",
       " 'otssolutions',\n",
       " 'wojodesign',\n",
       " 'integratire',\n",
       " 'hhcoak',\n",
       " 'eyewidegreece',\n",
       " 'filmbudget',\n",
       " 'ArzuAkcayDesign',\n",
       " 'forfone',\n",
       " 'bidegy',\n",
       " 'CallCenterXing',\n",
       " 'steelvaultdata',\n",
       " 'coupons2grab',\n",
       " 'qliqsoft',\n",
       " 'fundojob',\n",
       " 'ciscobuy',\n",
       " 'nrelate',\n",
       " 'premieravdallas',\n",
       " 'jordanenglish',\n",
       " 'hadicurtay',\n",
       " 'InsideAxis',\n",
       " '8thandWalton',\n",
       " 'peoplesinnovasn',\n",
       " 'fabrooms',\n",
       " 'simonsezs',\n",
       " 'umairhp',\n",
       " 'egointer',\n",
       " 'sgbmedia',\n",
       " 'veloxsites',\n",
       " 'socialanimalusa',\n",
       " 'priceofmobiles',\n",
       " 'incuprisecom',\n",
       " 'Grindr',\n",
       " 'egeorgiou',\n",
       " 'wegolook',\n",
       " 'oddsfutures',\n",
       " 'vistexinc',\n",
       " 'supramagnets',\n",
       " 'interactguru',\n",
       " 'createforfuture',\n",
       " 'Students3k',\n",
       " 'drafols',\n",
       " 'dot_crush',\n",
       " 'skillendar',\n",
       " 'cdnsolutions',\n",
       " 'brightfireview',\n",
       " 'camaleon_no',\n",
       " 'armandmusey',\n",
       " 'perceptionweb',\n",
       " 'MardenEdwards',\n",
       " 'tekora',\n",
       " 'Lypsso',\n",
       " 'mgifford',\n",
       " 'jinglepunks',\n",
       " 'clickssl',\n",
       " 'ReferralMD',\n",
       " 'patrickawood',\n",
       " 'sonacall',\n",
       " 'SergeGuillermeP',\n",
       " 'bwentertainment',\n",
       " 'hardikvparikh',\n",
       " 'printwhatuwant',\n",
       " 'togapit',\n",
       " 'crowd_supply',\n",
       " 'tomsplanner',\n",
       " 'codeprooftech',\n",
       " 'ea',\n",
       " 'goplay',\n",
       " 'epicomcorp',\n",
       " 'groceryalerts',\n",
       " 'CourierQuotes',\n",
       " 'BizDevAngel',\n",
       " 'JLWatine',\n",
       " 'popappfactory',\n",
       " 'dnatimes',\n",
       " 'localisation',\n",
       " 'gmrweb123',\n",
       " 'alldealsoz',\n",
       " 'jomieleung',\n",
       " 'dbeyer123',\n",
       " 'Picocent',\n",
       " 'TheMusicProduce',\n",
       " 'Sooligan',\n",
       " 'arpitshah',\n",
       " 'paulduggan',\n",
       " 'BlogsConnection',\n",
       " 'dwhs',\n",
       " 'mkseoservices',\n",
       " 'rajrikhy',\n",
       " '360campaigner',\n",
       " 'leximo',\n",
       " 'yokohamacanada',\n",
       " 'bwlucas',\n",
       " 'greenprophet',\n",
       " 'webmuch',\n",
       " 'healthimghub',\n",
       " 'netwrkng',\n",
       " 'megastarmedia',\n",
       " 'ssg_inc',\n",
       " 'allanoziel',\n",
       " 'lofts_com',\n",
       " 'ZarkoCompare',\n",
       " 'masschallenge',\n",
       " 'LarryGreenberg',\n",
       " 'hometify',\n",
       " 'HDScores',\n",
       " 'keyideas01',\n",
       " 'pogoplug',\n",
       " 'Bizpora',\n",
       " 'DailyDerbi',\n",
       " 'edu_koala',\n",
       " 'ethicalbrand',\n",
       " 'tyrabanks',\n",
       " 'ebkcd2',\n",
       " 'streamuk',\n",
       " 'virams2010',\n",
       " 'clairejarrett',\n",
       " 'b3intelligence',\n",
       " 'careticker',\n",
       " 'ITPVoIP',\n",
       " 'incensetalk',\n",
       " 'yreceipts',\n",
       " 'IntroMaps',\n",
       " 'greenbirdIT',\n",
       " 'MisterArcher',\n",
       " 'selectlimousine',\n",
       " 'finger_food',\n",
       " 'reonmobile',\n",
       " 'espd',\n",
       " 'Selidbe_Prevoz',\n",
       " 'gDiscountCoupon',\n",
       " 'swarmiq_tweets',\n",
       " 'qmedichealth',\n",
       " 'Pay4ResultsSEO',\n",
       " 'avaimobile',\n",
       " 'massmediagroup',\n",
       " '4Urugs',\n",
       " 'dv8media',\n",
       " 'consultondemand',\n",
       " 'teamratio',\n",
       " 'MSPassport',\n",
       " 'hoonio',\n",
       " 'milecoreA',\n",
       " 'Yomdel',\n",
       " 'AboutOne',\n",
       " 'trackerbirdnews',\n",
       " 'astutehosting',\n",
       " 'egreenbuilding',\n",
       " 'riaxe',\n",
       " 'keemotion',\n",
       " 'ntractive',\n",
       " 'appbackr',\n",
       " 'officevp',\n",
       " 'cuttle',\n",
       " 'danieltellez',\n",
       " 'QuintinAdamis',\n",
       " 'kisshunterSrl',\n",
       " 'ofertarca',\n",
       " 'travelstreetuk',\n",
       " 'offersonclick',\n",
       " 'milkshakefactor',\n",
       " 'SageDesignGroup',\n",
       " 'LinkCaffeine',\n",
       " 'viastudios',\n",
       " 'morcesinc',\n",
       " 'pixelgenio',\n",
       " 'dave_ideate',\n",
       " 'dinube',\n",
       " 'famebook',\n",
       " 'liamdayan',\n",
       " 'charlesgrimm',\n",
       " 'cofounderslab',\n",
       " 'speechbubblem',\n",
       " 'tagionet',\n",
       " 'Safeguard',\n",
       " 'leanshop',\n",
       " 'yumedeals3',\n",
       " 'mariodc',\n",
       " 'top10',\n",
       " 'albertonaranjo',\n",
       " 'bizible',\n",
       " 'scrattchsearch',\n",
       " 'bwtradefinance',\n",
       " 'Webmarketing123',\n",
       " 'trendlinei',\n",
       " 'luckyprimellc',\n",
       " 'ethoseo',\n",
       " 'chaosmap',\n",
       " 'mr1elee',\n",
       " 'harihansolution',\n",
       " 'zapevent',\n",
       " 'droidsecurity',\n",
       " 'datawebflex',\n",
       " 'sumomi_com',\n",
       " 'CStockEarnings',\n",
       " 'tapmap',\n",
       " 'greenpanelmax',\n",
       " 'boydcarter',\n",
       " 'd2eu',\n",
       " 'DNVanLines',\n",
       " 'jeffchristian_',\n",
       " 'seedups',\n",
       " 'salestour',\n",
       " 'JMikeSmith',\n",
       " 'ktcoupon',\n",
       " 'srestimarketing',\n",
       " 'samirkarande',\n",
       " 'digitalignite',\n",
       " 'CoyleAndrew',\n",
       " 'kisi',\n",
       " 'orderTopia',\n",
       " 'stackmeup',\n",
       " 'njseos',\n",
       " 'localbizreg',\n",
       " 'olinker',\n",
       " 'scottrobarge',\n",
       " 'wearefoalio',\n",
       " 'Andolasoft',\n",
       " 'brand5',\n",
       " 'TheFootballApp',\n",
       " 'TomChokel',\n",
       " 'intelen',\n",
       " 'ideatransplant',\n",
       " 'futuresearches',\n",
       " 'level11consult',\n",
       " 'modedefaire',\n",
       " 'qwikienglish',\n",
       " 'eqwity',\n",
       " 'bbetts',\n",
       " 'internetdj',\n",
       " 'ezcouponsearch',\n",
       " 'GetSwill',\n",
       " 'mygenieinc',\n",
       " 'gbramlet',\n",
       " 'umebooks',\n",
       " 'Layerfield',\n",
       " 'keepio',\n",
       " 'becoacht',\n",
       " 'kortingshop',\n",
       " 'chineseseoshifu',\n",
       " 'LeeandPierson',\n",
       " 'pinciti',\n",
       " 'tea_coupons',\n",
       " 'tripdibs',\n",
       " 'toddjpatrick',\n",
       " 'New_Healthcare',\n",
       " 'zingzingtv',\n",
       " 'AparoAnalaytics',\n",
       " 'skorpyoclub',\n",
       " 'portablegates',\n",
       " 'aaswebsolutions',\n",
       " 'Vconnecta',\n",
       " 'AdvortoEmily',\n",
       " 'mysurveylab',\n",
       " 'intellibank',\n",
       " 'ziipa',\n",
       " 'wordsteps_en',\n",
       " 'TLOTL',\n",
       " 'grippo',\n",
       " 'Chapmanleonard',\n",
       " 'gowanderu',\n",
       " 'rushkoff',\n",
       " 'firmaffiliate',\n",
       " 'ZoundsHearing1',\n",
       " 'repolift',\n",
       " 'sidebuydeals',\n",
       " 'Arcadialeads',\n",
       " 'NoCrm',\n",
       " 'mishaley',\n",
       " 'digitalexperts',\n",
       " 'dreamingtech',\n",
       " 'onlymallorca',\n",
       " 'GigsTask',\n",
       " 'youlayaway',\n",
       " 'JuxSync',\n",
       " 'alansolutions',\n",
       " 'RobertSiciliano',\n",
       " 'orangecollar',\n",
       " 'cruiseind',\n",
       " 'GardeningFun',\n",
       " 'mobilityvalley',\n",
       " 'abovethefraymag',\n",
       " 'five_cool',\n",
       " 'esoftload',\n",
       " 'plus__now',\n",
       " 'arnaudfischer',\n",
       " 'neelsus',\n",
       " 'ploonge',\n",
       " 'freecamloader',\n",
       " 'toutsocial',\n",
       " 'brainpulse',\n",
       " 'MedicalSEOGuy',\n",
       " 'cataniaroma',\n",
       " 'LibiBITech',\n",
       " 'rfidglobal',\n",
       " 'zisboombah',\n",
       " 'soft_start',\n",
       " 'Miproto',\n",
       " 'triviumsys',\n",
       " 'carbonmind',\n",
       " 'thawesomeboston',\n",
       " 'wevideo',\n",
       " 'mikehubdotnet',\n",
       " 'potenciald',\n",
       " 'famefact',\n",
       " 'covetique',\n",
       " 'cazoomi',\n",
       " 'BuySellTradeRV',\n",
       " 'seotraffics',\n",
       " 'HometownInsPart',\n",
       " 'crowdzu',\n",
       " 'cloudfunded',\n",
       " 'zettavox',\n",
       " 'magicrob',\n",
       " 'ClearCopywrite',\n",
       " 'byennen',\n",
       " 'robinmoore_me',\n",
       " 'buuteeq',\n",
       " 'IWebServices',\n",
       " 'sleep',\n",
       " '077football',\n",
       " 'uniwebb',\n",
       " 'wavlite',\n",
       " 'MounzaInc',\n",
       " 'mattjustice',\n",
       " 'endorphin_me',\n",
       " 'thebarcodenews',\n",
       " 'inspectlet',\n",
       " 'jm_pouabou',\n",
       " 'leadprime',\n",
       " 'ReelGenie',\n",
       " 'academicworks',\n",
       " 'bodykitsdepot',\n",
       " 'jroseland',\n",
       " 'thethinkcircle',\n",
       " 'fcohen',\n",
       " 'ipanematech',\n",
       " 'buyerly',\n",
       " 'vbosystems',\n",
       " 'Logodivine',\n",
       " 'natepagel',\n",
       " 'SFPropertyForce',\n",
       " 'TEMAeurope',\n",
       " 'puntalunta',\n",
       " 'barilliance',\n",
       " 'newsbox',\n",
       " 'idmypill',\n",
       " 'guide2tricksceo',\n",
       " 'remoteutilities',\n",
       " 'skilledup',\n",
       " 'leegunn',\n",
       " 'ratemax',\n",
       " 'vrstorm',\n",
       " 'personetics',\n",
       " 'aidasinc',\n",
       " 'icdsarch',\n",
       " 'eTimesheets',\n",
       " 'billdouglass',\n",
       " 'youcalc',\n",
       " 'carlislegroup',\n",
       " 'yeatoby',\n",
       " 'chadprey',\n",
       " 'Ayero',\n",
       " 'planpod',\n",
       " 'filedir',\n",
       " 'ablegrape',\n",
       " 'fitnessgym_AZ',\n",
       " 'chadmureta',\n",
       " 'davecraige',\n",
       " 'davekusek',\n",
       " 'TamaraWirz777',\n",
       " 'iheartmuzeek',\n",
       " 'teamlabdotcom',\n",
       " 'tweetintent',\n",
       " 'rightster',\n",
       " 'mememe4u',\n",
       " 'ProjectFrog',\n",
       " 'drs_solutions',\n",
       " 'xellowtweet',\n",
       " 'uencounterme',\n",
       " 'vdimauro',\n",
       " 'Conversionista',\n",
       " 'joinvilleinc',\n",
       " 'adthena',\n",
       " 'Polecamyorg',\n",
       " 'teejclark',\n",
       " 'collegejackets',\n",
       " 'Skirmantas2',\n",
       " 'CryoCell',\n",
       " 'crocpond',\n",
       " 'yukaichou',\n",
       " 'DigitalDiameter',\n",
       " 'rafflecopter',\n",
       " 'givenext',\n",
       " 'JaredMontz',\n",
       " 'mobilemagzter',\n",
       " 'softactiva',\n",
       " 'prisynccom',\n",
       " 'MyShoppingSpy',\n",
       " 'Numerounoweb',\n",
       " 'konstantinfo',\n",
       " 'SE_IP',\n",
       " 'PioneeraInc',\n",
       " 'halfpennyonline',\n",
       " '3Seventy',\n",
       " 'gatim',\n",
       " 'judyshapiro',\n",
       " 'live2sellgroup',\n",
       " 'asphostportal',\n",
       " 'completeinsure',\n",
       " 'ihelplounge',\n",
       " 'filebuckit',\n",
       " 'litemediadesk',\n",
       " 'Invincea',\n",
       " 'LilitabKiosk',\n",
       " 'BurlCarpetOne',\n",
       " 'eSK_en',\n",
       " 'bohaglass',\n",
       " 'jasonloyet',\n",
       " 'stuckonhomework',\n",
       " 'PlayToonGames',\n",
       " 'FilmShaft',\n",
       " 'snaplogic',\n",
       " 'AlokiDesign',\n",
       " 'ProlifikSEO',\n",
       " 'shipwire',\n",
       " 'KarlSastrugi',\n",
       " 'huntergray',\n",
       " 'DesignsByMalyse',\n",
       " 'tifflyindia',\n",
       " 'canecom',\n",
       " 'threering',\n",
       " 'trifectaky',\n",
       " 'PikAVenture',\n",
       " 'IronMikePromo',\n",
       " 'opinno',\n",
       " 'elementaltech',\n",
       " 'springshot_com',\n",
       " ...}"
      ]
     },
     "execution_count": 58,
     "metadata": {},
     "output_type": "execute_result"
    }
   ],
   "source": [
    "company_usernames_set = set(company_and_rounds['network  username'])\n",
    "people_usernames_set = set(people['network_username'])\n",
    "\n",
    "\n",
    "# Calculate the intersection of the sets\n",
    "common_usernames_set = company_usernames_set.intersection(people_usernames_set)\n",
    "\n",
    "# Convert back to a list (optional)\n",
    "common_usernames_set"
   ]
  },
  {
   "cell_type": "markdown",
   "metadata": {},
   "source": [
    "вывод:\n",
    "- по смыслу переменные означают практически одно и то же, но хранят разного рода данные\n",
    "- странные дела, при использовании метода пересечения выводятся общие значения\n",
    "- однако при строке \"ompany_and_rounds.merge(people, how='left', left_on='network username', right_on='network_username')\" умирает ядро, что означае невозможность объединения данных\n",
    "- нахожу разумным ориентироваться на предыдущий пункт и считать, что данные невозможно объединить по данному полю"
   ]
  },
  {
   "cell_type": "markdown",
   "metadata": {},
   "source": [
    "<div class=\"alert alert-success\">\n",
    "<h2> Комментарий ревьюера <a class=\"tocSkip\"> </h2>\n",
    "\n",
    "<b>Все отлично!👍</b> Верно, данные соединять по этому полю нельзя. Тут также можно было бы обратить внимание на тот момент, что в разных датасетах у этого признака большое число дубликатов и пропусков."
   ]
  },
  {
   "cell_type": "markdown",
   "metadata": {
    "id": "EHcODomVrJg1"
   },
   "source": [
    "\n",
    "### 2.4. Проблемный датасет и причина возникновения пропусков\n",
    "\n",
    "Во время собственного анализа данных у заказчика больше всего вопросов возникло к датасету `company_and_rounds.csv`. В нём много пропусков как раз в информации о раундах, которая заказчику важна. Хотя информация об общем объёме финансирования по раундам присутствует в других датасетах, заказчик считает данные `company_and_rounds.csv` о размере средств наиболее верными.\n",
    "\n",
    "* Любым удобным способом приведите данные в вид, который позволяет проводить анализ в разрезе отдельных компаний. Можно изменять форму данных, порядок их хранения. Обратите внимание на структуру датасета, порядок и названия столбцов, проанализируйте значения.\n",
    "\n",
    "По гипотезе заказчика данные по компаниям из этой таблицы раньше хранились иначе, более удобным для исследования образом.\n",
    "\n",
    "* Максимальным образом сохраняя данные, сохранив их связность и исключив возможные возникающие при этом ошибки, подготовьте данные так, чтобы удобно было отобрать компании по параметрам и рассчитать показатели из расчёта на одну компанию."
   ]
  },
  {
   "cell_type": "code",
   "execution_count": 59,
   "metadata": {
    "scrolled": false
   },
   "outputs": [
    {
     "data": {
      "text/html": [
       "<div>\n",
       "<style scoped>\n",
       "    .dataframe tbody tr th:only-of-type {\n",
       "        vertical-align: middle;\n",
       "    }\n",
       "\n",
       "    .dataframe tbody tr th {\n",
       "        vertical-align: top;\n",
       "    }\n",
       "\n",
       "    .dataframe thead th {\n",
       "        text-align: right;\n",
       "    }\n",
       "</style>\n",
       "<table border=\"1\" class=\"dataframe\">\n",
       "  <thead>\n",
       "    <tr style=\"text-align: right;\">\n",
       "      <th></th>\n",
       "      <th>company  ID</th>\n",
       "      <th>name</th>\n",
       "      <th>category  code</th>\n",
       "      <th>status</th>\n",
       "      <th>founded  at</th>\n",
       "      <th>closed  at</th>\n",
       "      <th>domain</th>\n",
       "      <th>network  username</th>\n",
       "      <th>country  code</th>\n",
       "      <th>investment  rounds</th>\n",
       "      <th>...</th>\n",
       "      <th>milestones</th>\n",
       "      <th>funding  round  id</th>\n",
       "      <th>company  id</th>\n",
       "      <th>funded  at</th>\n",
       "      <th>funding  round  type</th>\n",
       "      <th>raised  amount</th>\n",
       "      <th>pre  money  valuation</th>\n",
       "      <th>participants</th>\n",
       "      <th>is  first  round</th>\n",
       "      <th>is  last  round</th>\n",
       "    </tr>\n",
       "  </thead>\n",
       "  <tbody>\n",
       "    <tr>\n",
       "      <th>0</th>\n",
       "      <td>1.0</td>\n",
       "      <td>Wetpaint</td>\n",
       "      <td>web</td>\n",
       "      <td>operating</td>\n",
       "      <td>2005</td>\n",
       "      <td>NaN</td>\n",
       "      <td>wetpaint-inc.com</td>\n",
       "      <td>BachelrWetpaint</td>\n",
       "      <td>USA</td>\n",
       "      <td>0.0</td>\n",
       "      <td>...</td>\n",
       "      <td>5.0</td>\n",
       "      <td>888.0</td>\n",
       "      <td>1.0</td>\n",
       "      <td>2005</td>\n",
       "      <td>series-a</td>\n",
       "      <td>5250000.0</td>\n",
       "      <td>0.0</td>\n",
       "      <td>2.0</td>\n",
       "      <td>0.0</td>\n",
       "      <td>1.0</td>\n",
       "    </tr>\n",
       "    <tr>\n",
       "      <th>1</th>\n",
       "      <td>1.0</td>\n",
       "      <td>Wetpaint</td>\n",
       "      <td>web</td>\n",
       "      <td>operating</td>\n",
       "      <td>2005</td>\n",
       "      <td>NaN</td>\n",
       "      <td>wetpaint-inc.com</td>\n",
       "      <td>BachelrWetpaint</td>\n",
       "      <td>USA</td>\n",
       "      <td>0.0</td>\n",
       "      <td>...</td>\n",
       "      <td>5.0</td>\n",
       "      <td>889.0</td>\n",
       "      <td>1.0</td>\n",
       "      <td>2007</td>\n",
       "      <td>series-b</td>\n",
       "      <td>9500000.0</td>\n",
       "      <td>0.0</td>\n",
       "      <td>3.0</td>\n",
       "      <td>0.0</td>\n",
       "      <td>0.0</td>\n",
       "    </tr>\n",
       "    <tr>\n",
       "      <th>2</th>\n",
       "      <td>1.0</td>\n",
       "      <td>Wetpaint</td>\n",
       "      <td>web</td>\n",
       "      <td>operating</td>\n",
       "      <td>2005</td>\n",
       "      <td>NaN</td>\n",
       "      <td>wetpaint-inc.com</td>\n",
       "      <td>BachelrWetpaint</td>\n",
       "      <td>USA</td>\n",
       "      <td>0.0</td>\n",
       "      <td>...</td>\n",
       "      <td>5.0</td>\n",
       "      <td>2312.0</td>\n",
       "      <td>1.0</td>\n",
       "      <td>2008</td>\n",
       "      <td>series-c+</td>\n",
       "      <td>25000000.0</td>\n",
       "      <td>0.0</td>\n",
       "      <td>4.0</td>\n",
       "      <td>1.0</td>\n",
       "      <td>0.0</td>\n",
       "    </tr>\n",
       "    <tr>\n",
       "      <th>3</th>\n",
       "      <td>10.0</td>\n",
       "      <td>Flektor</td>\n",
       "      <td>games_video</td>\n",
       "      <td>acquired</td>\n",
       "      <td>NaN</td>\n",
       "      <td>NaN</td>\n",
       "      <td>flektor.com</td>\n",
       "      <td>NaN</td>\n",
       "      <td>USA</td>\n",
       "      <td>0.0</td>\n",
       "      <td>...</td>\n",
       "      <td>0.0</td>\n",
       "      <td>NaN</td>\n",
       "      <td>NaN</td>\n",
       "      <td>NaN</td>\n",
       "      <td>NaN</td>\n",
       "      <td>NaN</td>\n",
       "      <td>NaN</td>\n",
       "      <td>NaN</td>\n",
       "      <td>NaN</td>\n",
       "      <td>NaN</td>\n",
       "    </tr>\n",
       "    <tr>\n",
       "      <th>4</th>\n",
       "      <td>100.0</td>\n",
       "      <td>There</td>\n",
       "      <td>games_video</td>\n",
       "      <td>acquired</td>\n",
       "      <td>NaN</td>\n",
       "      <td>NaN</td>\n",
       "      <td>there.com</td>\n",
       "      <td>NaN</td>\n",
       "      <td>USA</td>\n",
       "      <td>0.0</td>\n",
       "      <td>...</td>\n",
       "      <td>4.0</td>\n",
       "      <td>NaN</td>\n",
       "      <td>NaN</td>\n",
       "      <td>NaN</td>\n",
       "      <td>NaN</td>\n",
       "      <td>NaN</td>\n",
       "      <td>NaN</td>\n",
       "      <td>NaN</td>\n",
       "      <td>NaN</td>\n",
       "      <td>NaN</td>\n",
       "    </tr>\n",
       "  </tbody>\n",
       "</table>\n",
       "<p>5 rows × 22 columns</p>\n",
       "</div>"
      ],
      "text/plain": [
       "   company  ID      name category  code     status founded  at closed  at  \\\n",
       "0          1.0  Wetpaint            web  operating        2005        NaN   \n",
       "1          1.0  Wetpaint            web  operating        2005        NaN   \n",
       "2          1.0  Wetpaint            web  operating        2005        NaN   \n",
       "3         10.0   Flektor    games_video   acquired         NaN        NaN   \n",
       "4        100.0     There    games_video   acquired         NaN        NaN   \n",
       "\n",
       "             domain network  username country  code  investment  rounds  ...  \\\n",
       "0  wetpaint-inc.com   BachelrWetpaint           USA                 0.0  ...   \n",
       "1  wetpaint-inc.com   BachelrWetpaint           USA                 0.0  ...   \n",
       "2  wetpaint-inc.com   BachelrWetpaint           USA                 0.0  ...   \n",
       "3       flektor.com               NaN           USA                 0.0  ...   \n",
       "4         there.com               NaN           USA                 0.0  ...   \n",
       "\n",
       "   milestones  funding  round  id  company  id  funded  at  \\\n",
       "0         5.0               888.0          1.0        2005   \n",
       "1         5.0               889.0          1.0        2007   \n",
       "2         5.0              2312.0          1.0        2008   \n",
       "3         0.0                 NaN          NaN         NaN   \n",
       "4         4.0                 NaN          NaN         NaN   \n",
       "\n",
       "   funding  round  type raised  amount pre  money  valuation  participants  \\\n",
       "0              series-a      5250000.0                   0.0           2.0   \n",
       "1              series-b      9500000.0                   0.0           3.0   \n",
       "2             series-c+     25000000.0                   0.0           4.0   \n",
       "3                   NaN            NaN                   NaN           NaN   \n",
       "4                   NaN            NaN                   NaN           NaN   \n",
       "\n",
       "   is  first  round  is  last  round  \n",
       "0               0.0              1.0  \n",
       "1               0.0              0.0  \n",
       "2               1.0              0.0  \n",
       "3               NaN              NaN  \n",
       "4               NaN              NaN  \n",
       "\n",
       "[5 rows x 22 columns]"
      ]
     },
     "execution_count": 59,
     "metadata": {},
     "output_type": "execute_result"
    }
   ],
   "source": [
    "company_and_rounds.head()"
   ]
  },
  {
   "cell_type": "code",
   "execution_count": 60,
   "metadata": {},
   "outputs": [],
   "source": [
    "company_and_rounds.rename(columns={'company  id':'company  id  2'}, inplace=True)"
   ]
  },
  {
   "cell_type": "code",
   "execution_count": 61,
   "metadata": {
    "scrolled": true
   },
   "outputs": [
    {
     "name": "stdout",
     "output_type": "stream",
     "text": [
      "Index(['company  ID', 'name', 'category  code', 'status', 'founded  at',\n",
      "       'closed  at', 'domain', 'network  username', 'country  code',\n",
      "       'investment  rounds', 'funding  rounds', 'funding  total', 'milestones',\n",
      "       'funding  round  id', 'company  id  2', 'funded  at',\n",
      "       'funding  round  type', 'raised  amount', 'pre  money  valuation',\n",
      "       'participants', 'is  first  round', 'is  last  round'],\n",
      "      dtype='object')\n"
     ]
    }
   ],
   "source": [
    "columns_camel = company_and_rounds.columns\n",
    "print(columns_camel)"
   ]
  },
  {
   "cell_type": "code",
   "execution_count": 62,
   "metadata": {},
   "outputs": [
    {
     "name": "stdout",
     "output_type": "stream",
     "text": [
      "Index(['company_id', 'name', 'category_code', 'status', 'founded_at',\n",
      "       'closed_at', 'domain', 'network_username', 'country_code',\n",
      "       'investment_rounds', 'funding_rounds', 'funding_total', 'milestones',\n",
      "       'funding_round_id', 'company_id_2', 'funded_at', 'funding_round_type',\n",
      "       'raised_amount', 'pre_money_valuation', 'participants',\n",
      "       'is_first_round', 'is_last_round'],\n",
      "      dtype='object')\n"
     ]
    }
   ],
   "source": [
    "columns_snake=company_and_rounds.columns.str.lower().str.replace('  ', '_')\n",
    "company_and_rounds.columns=columns_snake\n",
    "print(company_and_rounds.columns)"
   ]
  },
  {
   "cell_type": "code",
   "execution_count": 63,
   "metadata": {},
   "outputs": [
    {
     "name": "stdout",
     "output_type": "stream",
     "text": [
      "<class 'pandas.core.frame.DataFrame'>\n",
      "RangeIndex: 217774 entries, 0 to 217773\n",
      "Data columns (total 22 columns):\n",
      " #   Column               Non-Null Count   Dtype  \n",
      "---  ------               --------------   -----  \n",
      " 0   company_id           217472 non-null  float32\n",
      " 1   name                 217472 non-null  object \n",
      " 2   category_code        143886 non-null  object \n",
      " 3   status               217472 non-null  object \n",
      " 4   founded_at           109956 non-null  object \n",
      " 5   closed_at            3449 non-null    object \n",
      " 6   domain               147159 non-null  object \n",
      " 7   network_username     95534 non-null   object \n",
      " 8   country_code         108607 non-null  object \n",
      " 9   investment_rounds    217472 non-null  float16\n",
      " 10  funding_rounds       217472 non-null  float16\n",
      " 11  funding_total        217472 non-null  float32\n",
      " 12  milestones           217472 non-null  float16\n",
      " 13  funding_round_id     52928 non-null   float16\n",
      " 14  company_id_2         52928 non-null   float32\n",
      " 15  funded_at            52680 non-null   object \n",
      " 16  funding_round_type   52928 non-null   object \n",
      " 17  raised_amount        52928 non-null   float32\n",
      " 18  pre_money_valuation  52928 non-null   float32\n",
      " 19  participants         52928 non-null   float16\n",
      " 20  is_first_round       52928 non-null   float16\n",
      " 21  is_last_round        52928 non-null   float16\n",
      "dtypes: float16(7), float32(5), object(10)\n",
      "memory usage: 23.7+ MB\n"
     ]
    }
   ],
   "source": [
    "company_and_rounds.info()"
   ]
  },
  {
   "cell_type": "code",
   "execution_count": 64,
   "metadata": {
    "id": "tJ6Sl6MKrJg1"
   },
   "outputs": [
    {
     "name": "stdout",
     "output_type": "stream",
     "text": [
      "\n",
      "DataFrame 1 shape:\n",
      "(217472, 13)\n",
      "\n",
      "DataFrame 2 shape:\n",
      "(52928, 9)\n"
     ]
    }
   ],
   "source": [
    "split_column_index = company_and_rounds.columns.get_loc('milestones')\n",
    "\n",
    "# Create the first DataFrame (up to and including 'funding_round_id')\n",
    "car1 = company_and_rounds.iloc[:, :split_column_index + 1].copy()\n",
    "\n",
    "# Create the second DataFrame (after 'funding_round_id')\n",
    "car2 = company_and_rounds.iloc[:, split_column_index + 1:].copy()\n",
    "\n",
    "car1 = car1.dropna(how='all')\n",
    "car2 = car2.dropna(how='all')\n",
    "\n",
    "print(\"\\nDataFrame 1 shape:\")\n",
    "print(car1.shape)\n",
    "\n",
    "print(\"\\nDataFrame 2 shape:\")\n",
    "print(car2.shape)"
   ]
  },
  {
   "cell_type": "markdown",
   "metadata": {},
   "source": [
    "вывод: \n",
    "- после просмотра общей информации видим, что фрейм как будто бы разделен на 2 части\n",
    "- перед столбцом milestones количество строк почти такое же, как и у всего датафрейм, после него во всех столбцах 52928 строк\n",
    "- это факт наводит на мысль, что датафрейм собран из 2 таблиц\n",
    "- после разъединения таблиц и удаления полностью пустых строк видим, что догадка была верной\n",
    "- в первой таблице остается такое же количество строк, как до разъединения (за исключением 2 удаленных строк)\n",
    "- во второй таблице сохраняется значение 52928 строк\n",
    "- разъединение было проведено правильно\n",
    "- пропуски в столбце closed at объясняются тем, что компании продолжают свое существование\n",
    "- остальные пропуски в этой таблице объясняются их изначальным отсутсвии при заполнении либо утерей в процессе сбора информации, очень большой значимости эти пропуски не представляют"
   ]
  },
  {
   "cell_type": "code",
   "execution_count": 65,
   "metadata": {
    "scrolled": false
   },
   "outputs": [
    {
     "data": {
      "text/html": [
       "<div>\n",
       "<style scoped>\n",
       "    .dataframe tbody tr th:only-of-type {\n",
       "        vertical-align: middle;\n",
       "    }\n",
       "\n",
       "    .dataframe tbody tr th {\n",
       "        vertical-align: top;\n",
       "    }\n",
       "\n",
       "    .dataframe thead th {\n",
       "        text-align: right;\n",
       "    }\n",
       "</style>\n",
       "<table border=\"1\" class=\"dataframe\">\n",
       "  <thead>\n",
       "    <tr style=\"text-align: right;\">\n",
       "      <th></th>\n",
       "      <th>company_id</th>\n",
       "      <th>name</th>\n",
       "      <th>category_code</th>\n",
       "      <th>status</th>\n",
       "      <th>founded_at</th>\n",
       "      <th>closed_at</th>\n",
       "      <th>domain</th>\n",
       "      <th>network_username</th>\n",
       "      <th>country_code</th>\n",
       "      <th>investment_rounds</th>\n",
       "      <th>funding_rounds</th>\n",
       "      <th>funding_total</th>\n",
       "      <th>milestones</th>\n",
       "    </tr>\n",
       "  </thead>\n",
       "  <tbody>\n",
       "    <tr>\n",
       "      <th>0</th>\n",
       "      <td>1.0</td>\n",
       "      <td>Wetpaint</td>\n",
       "      <td>web</td>\n",
       "      <td>operating</td>\n",
       "      <td>2005</td>\n",
       "      <td>NaN</td>\n",
       "      <td>wetpaint-inc.com</td>\n",
       "      <td>BachelrWetpaint</td>\n",
       "      <td>USA</td>\n",
       "      <td>0.0</td>\n",
       "      <td>3.0</td>\n",
       "      <td>39750000.0</td>\n",
       "      <td>5.0</td>\n",
       "    </tr>\n",
       "    <tr>\n",
       "      <th>1</th>\n",
       "      <td>1.0</td>\n",
       "      <td>Wetpaint</td>\n",
       "      <td>web</td>\n",
       "      <td>operating</td>\n",
       "      <td>2005</td>\n",
       "      <td>NaN</td>\n",
       "      <td>wetpaint-inc.com</td>\n",
       "      <td>BachelrWetpaint</td>\n",
       "      <td>USA</td>\n",
       "      <td>0.0</td>\n",
       "      <td>3.0</td>\n",
       "      <td>39750000.0</td>\n",
       "      <td>5.0</td>\n",
       "    </tr>\n",
       "    <tr>\n",
       "      <th>2</th>\n",
       "      <td>1.0</td>\n",
       "      <td>Wetpaint</td>\n",
       "      <td>web</td>\n",
       "      <td>operating</td>\n",
       "      <td>2005</td>\n",
       "      <td>NaN</td>\n",
       "      <td>wetpaint-inc.com</td>\n",
       "      <td>BachelrWetpaint</td>\n",
       "      <td>USA</td>\n",
       "      <td>0.0</td>\n",
       "      <td>3.0</td>\n",
       "      <td>39750000.0</td>\n",
       "      <td>5.0</td>\n",
       "    </tr>\n",
       "    <tr>\n",
       "      <th>3</th>\n",
       "      <td>10.0</td>\n",
       "      <td>Flektor</td>\n",
       "      <td>games_video</td>\n",
       "      <td>acquired</td>\n",
       "      <td>NaN</td>\n",
       "      <td>NaN</td>\n",
       "      <td>flektor.com</td>\n",
       "      <td>NaN</td>\n",
       "      <td>USA</td>\n",
       "      <td>0.0</td>\n",
       "      <td>0.0</td>\n",
       "      <td>0.0</td>\n",
       "      <td>0.0</td>\n",
       "    </tr>\n",
       "    <tr>\n",
       "      <th>4</th>\n",
       "      <td>100.0</td>\n",
       "      <td>There</td>\n",
       "      <td>games_video</td>\n",
       "      <td>acquired</td>\n",
       "      <td>NaN</td>\n",
       "      <td>NaN</td>\n",
       "      <td>there.com</td>\n",
       "      <td>NaN</td>\n",
       "      <td>USA</td>\n",
       "      <td>0.0</td>\n",
       "      <td>0.0</td>\n",
       "      <td>0.0</td>\n",
       "      <td>4.0</td>\n",
       "    </tr>\n",
       "  </tbody>\n",
       "</table>\n",
       "</div>"
      ],
      "text/plain": [
       "   company_id      name category_code     status founded_at closed_at  \\\n",
       "0         1.0  Wetpaint           web  operating       2005       NaN   \n",
       "1         1.0  Wetpaint           web  operating       2005       NaN   \n",
       "2         1.0  Wetpaint           web  operating       2005       NaN   \n",
       "3        10.0   Flektor   games_video   acquired        NaN       NaN   \n",
       "4       100.0     There   games_video   acquired        NaN       NaN   \n",
       "\n",
       "             domain network_username country_code  investment_rounds  \\\n",
       "0  wetpaint-inc.com  BachelrWetpaint          USA                0.0   \n",
       "1  wetpaint-inc.com  BachelrWetpaint          USA                0.0   \n",
       "2  wetpaint-inc.com  BachelrWetpaint          USA                0.0   \n",
       "3       flektor.com              NaN          USA                0.0   \n",
       "4         there.com              NaN          USA                0.0   \n",
       "\n",
       "   funding_rounds  funding_total  milestones  \n",
       "0             3.0     39750000.0         5.0  \n",
       "1             3.0     39750000.0         5.0  \n",
       "2             3.0     39750000.0         5.0  \n",
       "3             0.0            0.0         0.0  \n",
       "4             0.0            0.0         4.0  "
      ]
     },
     "execution_count": 65,
     "metadata": {},
     "output_type": "execute_result"
    }
   ],
   "source": [
    "car1.head()"
   ]
  },
  {
   "cell_type": "code",
   "execution_count": 66,
   "metadata": {},
   "outputs": [
    {
     "data": {
      "text/plain": [
       "company_id                0\n",
       "name                      0\n",
       "category_code         73586\n",
       "status                    0\n",
       "founded_at           107516\n",
       "closed_at            214023\n",
       "domain                70313\n",
       "network_username     121938\n",
       "country_code         108865\n",
       "investment_rounds         0\n",
       "funding_rounds            0\n",
       "funding_total             0\n",
       "milestones                0\n",
       "dtype: int64"
      ]
     },
     "execution_count": 66,
     "metadata": {},
     "output_type": "execute_result"
    }
   ],
   "source": [
    "# количество пропусков в абсолютном значении\n",
    "car1.isna().sum()"
   ]
  },
  {
   "cell_type": "code",
   "execution_count": 67,
   "metadata": {},
   "outputs": [
    {
     "data": {
      "text/html": [
       "<style  type=\"text/css\" >\n",
       "#T_b7717_row0_col1{\n",
       "            background-color:  #b40426;\n",
       "            color:  #f1f1f1;\n",
       "        }#T_b7717_row1_col1{\n",
       "            background-color:  #edd2c3;\n",
       "            color:  #000000;\n",
       "        }#T_b7717_row2_col1{\n",
       "            background-color:  #dfdbd9;\n",
       "            color:  #000000;\n",
       "        }#T_b7717_row3_col1{\n",
       "            background-color:  #dddcdc;\n",
       "            color:  #000000;\n",
       "        }#T_b7717_row4_col1{\n",
       "            background-color:  #aec9fc;\n",
       "            color:  #000000;\n",
       "        }#T_b7717_row5_col1{\n",
       "            background-color:  #a9c6fd;\n",
       "            color:  #000000;\n",
       "        }#T_b7717_row6_col1,#T_b7717_row7_col1,#T_b7717_row8_col1,#T_b7717_row9_col1,#T_b7717_row10_col1,#T_b7717_row11_col1,#T_b7717_row12_col1{\n",
       "            background-color:  #3b4cc0;\n",
       "            color:  #f1f1f1;\n",
       "        }</style><table id=\"T_b7717_\" ><thead>    <tr>        <th class=\"blank level0\" ></th>        <th class=\"col_heading level0 col0\" >index</th>        <th class=\"col_heading level0 col1\" >0</th>    </tr></thead><tbody>\n",
       "                <tr>\n",
       "                        <th id=\"T_b7717_level0_row0\" class=\"row_heading level0 row0\" >0</th>\n",
       "                        <td id=\"T_b7717_row0_col0\" class=\"data row0 col0\" >closed_at</td>\n",
       "                        <td id=\"T_b7717_row0_col1\" class=\"data row0 col1\" >0.98</td>\n",
       "            </tr>\n",
       "            <tr>\n",
       "                        <th id=\"T_b7717_level0_row1\" class=\"row_heading level0 row1\" >1</th>\n",
       "                        <td id=\"T_b7717_row1_col0\" class=\"data row1 col0\" >network_username</td>\n",
       "                        <td id=\"T_b7717_row1_col1\" class=\"data row1 col1\" >0.56</td>\n",
       "            </tr>\n",
       "            <tr>\n",
       "                        <th id=\"T_b7717_level0_row2\" class=\"row_heading level0 row2\" >2</th>\n",
       "                        <td id=\"T_b7717_row2_col0\" class=\"data row2 col0\" >country_code</td>\n",
       "                        <td id=\"T_b7717_row2_col1\" class=\"data row2 col1\" >0.50</td>\n",
       "            </tr>\n",
       "            <tr>\n",
       "                        <th id=\"T_b7717_level0_row3\" class=\"row_heading level0 row3\" >3</th>\n",
       "                        <td id=\"T_b7717_row3_col0\" class=\"data row3 col0\" >founded_at</td>\n",
       "                        <td id=\"T_b7717_row3_col1\" class=\"data row3 col1\" >0.49</td>\n",
       "            </tr>\n",
       "            <tr>\n",
       "                        <th id=\"T_b7717_level0_row4\" class=\"row_heading level0 row4\" >4</th>\n",
       "                        <td id=\"T_b7717_row4_col0\" class=\"data row4 col0\" >category_code</td>\n",
       "                        <td id=\"T_b7717_row4_col1\" class=\"data row4 col1\" >0.34</td>\n",
       "            </tr>\n",
       "            <tr>\n",
       "                        <th id=\"T_b7717_level0_row5\" class=\"row_heading level0 row5\" >5</th>\n",
       "                        <td id=\"T_b7717_row5_col0\" class=\"data row5 col0\" >domain</td>\n",
       "                        <td id=\"T_b7717_row5_col1\" class=\"data row5 col1\" >0.32</td>\n",
       "            </tr>\n",
       "            <tr>\n",
       "                        <th id=\"T_b7717_level0_row6\" class=\"row_heading level0 row6\" >6</th>\n",
       "                        <td id=\"T_b7717_row6_col0\" class=\"data row6 col0\" >company_id</td>\n",
       "                        <td id=\"T_b7717_row6_col1\" class=\"data row6 col1\" >0.00</td>\n",
       "            </tr>\n",
       "            <tr>\n",
       "                        <th id=\"T_b7717_level0_row7\" class=\"row_heading level0 row7\" >7</th>\n",
       "                        <td id=\"T_b7717_row7_col0\" class=\"data row7 col0\" >name</td>\n",
       "                        <td id=\"T_b7717_row7_col1\" class=\"data row7 col1\" >0.00</td>\n",
       "            </tr>\n",
       "            <tr>\n",
       "                        <th id=\"T_b7717_level0_row8\" class=\"row_heading level0 row8\" >8</th>\n",
       "                        <td id=\"T_b7717_row8_col0\" class=\"data row8 col0\" >status</td>\n",
       "                        <td id=\"T_b7717_row8_col1\" class=\"data row8 col1\" >0.00</td>\n",
       "            </tr>\n",
       "            <tr>\n",
       "                        <th id=\"T_b7717_level0_row9\" class=\"row_heading level0 row9\" >9</th>\n",
       "                        <td id=\"T_b7717_row9_col0\" class=\"data row9 col0\" >investment_rounds</td>\n",
       "                        <td id=\"T_b7717_row9_col1\" class=\"data row9 col1\" >0.00</td>\n",
       "            </tr>\n",
       "            <tr>\n",
       "                        <th id=\"T_b7717_level0_row10\" class=\"row_heading level0 row10\" >10</th>\n",
       "                        <td id=\"T_b7717_row10_col0\" class=\"data row10 col0\" >funding_rounds</td>\n",
       "                        <td id=\"T_b7717_row10_col1\" class=\"data row10 col1\" >0.00</td>\n",
       "            </tr>\n",
       "            <tr>\n",
       "                        <th id=\"T_b7717_level0_row11\" class=\"row_heading level0 row11\" >11</th>\n",
       "                        <td id=\"T_b7717_row11_col0\" class=\"data row11 col0\" >funding_total</td>\n",
       "                        <td id=\"T_b7717_row11_col1\" class=\"data row11 col1\" >0.00</td>\n",
       "            </tr>\n",
       "            <tr>\n",
       "                        <th id=\"T_b7717_level0_row12\" class=\"row_heading level0 row12\" >12</th>\n",
       "                        <td id=\"T_b7717_row12_col0\" class=\"data row12 col0\" >milestones</td>\n",
       "                        <td id=\"T_b7717_row12_col1\" class=\"data row12 col1\" >0.00</td>\n",
       "            </tr>\n",
       "    </tbody></table>"
      ],
      "text/plain": [
       "<pandas.io.formats.style.Styler at 0x7f0d7f89b070>"
      ]
     },
     "execution_count": 67,
     "metadata": {},
     "output_type": "execute_result"
    }
   ],
   "source": [
    "# количесвто пропусков в относительном значении\n",
    "na_share=car1.isna().sum().sort_values(ascending=False) / len(car1)\n",
    "na_share.reset_index().style.background_gradient(cmap='coolwarm', axis=0).set_precision(2)"
   ]
  },
  {
   "cell_type": "markdown",
   "metadata": {},
   "source": [
    "- пропуски в столбце closed at объясняются тем, что компании продолжают свое существование\n",
    "- остальные пропуски в этой таблице объясняются их изначальным отсутсвии при заполнении либо утерей в процессе сбора информации, очень большой значимости эти пропуски не представляют"
   ]
  },
  {
   "cell_type": "code",
   "execution_count": 68,
   "metadata": {},
   "outputs": [
    {
     "name": "stdout",
     "output_type": "stream",
     "text": [
      "Количество дубликатов:32092\n"
     ]
    }
   ],
   "source": [
    "initial_row_count = car1.shape[0]\n",
    "car1_sorted = car1.sort_values(by='company_id')\n",
    "quantity_of_dup= car1_sorted.duplicated(keep=False).sum()\n",
    "print(f'Количество дубликатов:{quantity_of_dup}')"
   ]
  },
  {
   "cell_type": "code",
   "execution_count": 69,
   "metadata": {},
   "outputs": [
    {
     "name": "stdout",
     "output_type": "stream",
     "text": [
      "Количество строк до удаления пропусков и дубликатов: 217472\n",
      "Количество строк после удаления пропусков и дубликатов: 196553\n",
      "Количество удаленных строк: 20919\n",
      "Процент удаленных строк: 9.62%\n"
     ]
    }
   ],
   "source": [
    "car1 = car1_sorted.drop_duplicates(keep='first')\n",
    "final_row_count = car1.shape[0]\n",
    "print(f\"Количество строк до удаления пропусков и дубликатов: {initial_row_count}\")\n",
    "print(f\"Количество строк после удаления пропусков и дубликатов: {final_row_count}\")\n",
    "print(f\"Количество удаленных строк: {initial_row_count-final_row_count}\")\n",
    "print(f\"Процент удаленных строк: {round(((initial_row_count-final_row_count)/initial_row_count)*100, 2)}%\")"
   ]
  },
  {
   "cell_type": "code",
   "execution_count": 70,
   "metadata": {
    "id": "SFfUmzron0Tc"
   },
   "outputs": [
    {
     "data": {
      "text/html": [
       "<div>\n",
       "<style scoped>\n",
       "    .dataframe tbody tr th:only-of-type {\n",
       "        vertical-align: middle;\n",
       "    }\n",
       "\n",
       "    .dataframe tbody tr th {\n",
       "        vertical-align: top;\n",
       "    }\n",
       "\n",
       "    .dataframe thead th {\n",
       "        text-align: right;\n",
       "    }\n",
       "</style>\n",
       "<table border=\"1\" class=\"dataframe\">\n",
       "  <thead>\n",
       "    <tr style=\"text-align: right;\">\n",
       "      <th></th>\n",
       "      <th>funding_round_id</th>\n",
       "      <th>company_id_2</th>\n",
       "      <th>funded_at</th>\n",
       "      <th>funding_round_type</th>\n",
       "      <th>raised_amount</th>\n",
       "      <th>pre_money_valuation</th>\n",
       "      <th>participants</th>\n",
       "      <th>is_first_round</th>\n",
       "      <th>is_last_round</th>\n",
       "    </tr>\n",
       "  </thead>\n",
       "  <tbody>\n",
       "    <tr>\n",
       "      <th>0</th>\n",
       "      <td>888.0</td>\n",
       "      <td>1.0</td>\n",
       "      <td>2005</td>\n",
       "      <td>series-a</td>\n",
       "      <td>5250000.0</td>\n",
       "      <td>0.0</td>\n",
       "      <td>2.0</td>\n",
       "      <td>0.0</td>\n",
       "      <td>1.0</td>\n",
       "    </tr>\n",
       "    <tr>\n",
       "      <th>1</th>\n",
       "      <td>889.0</td>\n",
       "      <td>1.0</td>\n",
       "      <td>2007</td>\n",
       "      <td>series-b</td>\n",
       "      <td>9500000.0</td>\n",
       "      <td>0.0</td>\n",
       "      <td>3.0</td>\n",
       "      <td>0.0</td>\n",
       "      <td>0.0</td>\n",
       "    </tr>\n",
       "    <tr>\n",
       "      <th>2</th>\n",
       "      <td>2312.0</td>\n",
       "      <td>1.0</td>\n",
       "      <td>2008</td>\n",
       "      <td>series-c+</td>\n",
       "      <td>25000000.0</td>\n",
       "      <td>0.0</td>\n",
       "      <td>4.0</td>\n",
       "      <td>1.0</td>\n",
       "      <td>0.0</td>\n",
       "    </tr>\n",
       "    <tr>\n",
       "      <th>15</th>\n",
       "      <td>1644.0</td>\n",
       "      <td>1001.0</td>\n",
       "      <td>2008</td>\n",
       "      <td>series-a</td>\n",
       "      <td>5000000.0</td>\n",
       "      <td>0.0</td>\n",
       "      <td>3.0</td>\n",
       "      <td>1.0</td>\n",
       "      <td>1.0</td>\n",
       "    </tr>\n",
       "    <tr>\n",
       "      <th>20</th>\n",
       "      <td>6680.0</td>\n",
       "      <td>10014.0</td>\n",
       "      <td>2008</td>\n",
       "      <td>angel</td>\n",
       "      <td>0.0</td>\n",
       "      <td>0.0</td>\n",
       "      <td>1.0</td>\n",
       "      <td>1.0</td>\n",
       "      <td>1.0</td>\n",
       "    </tr>\n",
       "  </tbody>\n",
       "</table>\n",
       "</div>"
      ],
      "text/plain": [
       "    funding_round_id  company_id_2 funded_at funding_round_type  \\\n",
       "0              888.0           1.0      2005           series-a   \n",
       "1              889.0           1.0      2007           series-b   \n",
       "2             2312.0           1.0      2008          series-c+   \n",
       "15            1644.0        1001.0      2008           series-a   \n",
       "20            6680.0       10014.0      2008              angel   \n",
       "\n",
       "    raised_amount  pre_money_valuation  participants  is_first_round  \\\n",
       "0       5250000.0                  0.0           2.0             0.0   \n",
       "1       9500000.0                  0.0           3.0             0.0   \n",
       "2      25000000.0                  0.0           4.0             1.0   \n",
       "15      5000000.0                  0.0           3.0             1.0   \n",
       "20            0.0                  0.0           1.0             1.0   \n",
       "\n",
       "    is_last_round  \n",
       "0             1.0  \n",
       "1             0.0  \n",
       "2             0.0  \n",
       "15            1.0  \n",
       "20            1.0  "
      ]
     },
     "execution_count": 70,
     "metadata": {},
     "output_type": "execute_result"
    }
   ],
   "source": [
    "car2.head()"
   ]
  },
  {
   "cell_type": "code",
   "execution_count": 71,
   "metadata": {},
   "outputs": [
    {
     "data": {
      "text/plain": [
       "funding_round_id         0\n",
       "company_id_2             0\n",
       "funded_at              248\n",
       "funding_round_type       0\n",
       "raised_amount            0\n",
       "pre_money_valuation      0\n",
       "participants             0\n",
       "is_first_round           0\n",
       "is_last_round            0\n",
       "dtype: int64"
      ]
     },
     "execution_count": 71,
     "metadata": {},
     "output_type": "execute_result"
    }
   ],
   "source": [
    "# количество пропусков в абсолютном значении\n",
    "car2.isna().sum()"
   ]
  },
  {
   "cell_type": "code",
   "execution_count": 72,
   "metadata": {},
   "outputs": [
    {
     "data": {
      "text/html": [
       "<style  type=\"text/css\" >\n",
       "#T_a02ed_row0_col1{\n",
       "            background-color:  #b40426;\n",
       "            color:  #f1f1f1;\n",
       "        }#T_a02ed_row1_col1,#T_a02ed_row2_col1,#T_a02ed_row3_col1,#T_a02ed_row4_col1,#T_a02ed_row5_col1,#T_a02ed_row6_col1,#T_a02ed_row7_col1,#T_a02ed_row8_col1{\n",
       "            background-color:  #3b4cc0;\n",
       "            color:  #f1f1f1;\n",
       "        }</style><table id=\"T_a02ed_\" ><thead>    <tr>        <th class=\"blank level0\" ></th>        <th class=\"col_heading level0 col0\" >index</th>        <th class=\"col_heading level0 col1\" >0</th>    </tr></thead><tbody>\n",
       "                <tr>\n",
       "                        <th id=\"T_a02ed_level0_row0\" class=\"row_heading level0 row0\" >0</th>\n",
       "                        <td id=\"T_a02ed_row0_col0\" class=\"data row0 col0\" >funded_at</td>\n",
       "                        <td id=\"T_a02ed_row0_col1\" class=\"data row0 col1\" >0.00</td>\n",
       "            </tr>\n",
       "            <tr>\n",
       "                        <th id=\"T_a02ed_level0_row1\" class=\"row_heading level0 row1\" >1</th>\n",
       "                        <td id=\"T_a02ed_row1_col0\" class=\"data row1 col0\" >funding_round_id</td>\n",
       "                        <td id=\"T_a02ed_row1_col1\" class=\"data row1 col1\" >0.00</td>\n",
       "            </tr>\n",
       "            <tr>\n",
       "                        <th id=\"T_a02ed_level0_row2\" class=\"row_heading level0 row2\" >2</th>\n",
       "                        <td id=\"T_a02ed_row2_col0\" class=\"data row2 col0\" >company_id_2</td>\n",
       "                        <td id=\"T_a02ed_row2_col1\" class=\"data row2 col1\" >0.00</td>\n",
       "            </tr>\n",
       "            <tr>\n",
       "                        <th id=\"T_a02ed_level0_row3\" class=\"row_heading level0 row3\" >3</th>\n",
       "                        <td id=\"T_a02ed_row3_col0\" class=\"data row3 col0\" >funding_round_type</td>\n",
       "                        <td id=\"T_a02ed_row3_col1\" class=\"data row3 col1\" >0.00</td>\n",
       "            </tr>\n",
       "            <tr>\n",
       "                        <th id=\"T_a02ed_level0_row4\" class=\"row_heading level0 row4\" >4</th>\n",
       "                        <td id=\"T_a02ed_row4_col0\" class=\"data row4 col0\" >raised_amount</td>\n",
       "                        <td id=\"T_a02ed_row4_col1\" class=\"data row4 col1\" >0.00</td>\n",
       "            </tr>\n",
       "            <tr>\n",
       "                        <th id=\"T_a02ed_level0_row5\" class=\"row_heading level0 row5\" >5</th>\n",
       "                        <td id=\"T_a02ed_row5_col0\" class=\"data row5 col0\" >pre_money_valuation</td>\n",
       "                        <td id=\"T_a02ed_row5_col1\" class=\"data row5 col1\" >0.00</td>\n",
       "            </tr>\n",
       "            <tr>\n",
       "                        <th id=\"T_a02ed_level0_row6\" class=\"row_heading level0 row6\" >6</th>\n",
       "                        <td id=\"T_a02ed_row6_col0\" class=\"data row6 col0\" >participants</td>\n",
       "                        <td id=\"T_a02ed_row6_col1\" class=\"data row6 col1\" >0.00</td>\n",
       "            </tr>\n",
       "            <tr>\n",
       "                        <th id=\"T_a02ed_level0_row7\" class=\"row_heading level0 row7\" >7</th>\n",
       "                        <td id=\"T_a02ed_row7_col0\" class=\"data row7 col0\" >is_first_round</td>\n",
       "                        <td id=\"T_a02ed_row7_col1\" class=\"data row7 col1\" >0.00</td>\n",
       "            </tr>\n",
       "            <tr>\n",
       "                        <th id=\"T_a02ed_level0_row8\" class=\"row_heading level0 row8\" >8</th>\n",
       "                        <td id=\"T_a02ed_row8_col0\" class=\"data row8 col0\" >is_last_round</td>\n",
       "                        <td id=\"T_a02ed_row8_col1\" class=\"data row8 col1\" >0.00</td>\n",
       "            </tr>\n",
       "    </tbody></table>"
      ],
      "text/plain": [
       "<pandas.io.formats.style.Styler at 0x7f0d7fa17eb0>"
      ]
     },
     "execution_count": 72,
     "metadata": {},
     "output_type": "execute_result"
    }
   ],
   "source": [
    "# количесвто пропусков в относительном значении\n",
    "na_share=car2.isna().sum().sort_values(ascending=False) / len(car2)\n",
    "na_share.reset_index().style.background_gradient(cmap='coolwarm', axis=0).set_precision(2)"
   ]
  },
  {
   "cell_type": "markdown",
   "metadata": {},
   "source": [
    "- хоть пропуски и есть в столбце funded_at, но в относительном значении они не представляют никакой значимости\n",
    "- данные могли быть не заполнены изначально или утеряны позже"
   ]
  },
  {
   "cell_type": "code",
   "execution_count": 73,
   "metadata": {},
   "outputs": [
    {
     "name": "stdout",
     "output_type": "stream",
     "text": [
      "Количество полных дубликатов:124\n",
      "Количество дубликатов по заданным полям:4875\n"
     ]
    }
   ],
   "source": [
    "initial_row_count = car2.shape[0]\n",
    "car2_sorted = car2.sort_values(by='company_id_2')\n",
    "quantity_of_dup= car2_sorted.duplicated(keep=False).sum()\n",
    "print(f'Количество полных дубликатов:{quantity_of_dup}')\n",
    "car2_sorted = car2.sort_values(by='company_id_2')\n",
    "quantity_of_dup= car2_sorted.duplicated(keep=False, subset=['company_id_2', 'funding_round_id']).sum()\n",
    "print(f'Количество дубликатов по заданным полям:{quantity_of_dup}')"
   ]
  },
  {
   "cell_type": "code",
   "execution_count": 74,
   "metadata": {},
   "outputs": [
    {
     "name": "stdout",
     "output_type": "stream",
     "text": [
      "Количество строк до удаления пропусков и дубликатов: 52928\n",
      "Количество строк после удаления пропусков и дубликатов: 50170\n",
      "Количество удаленных строк: 2758\n",
      "Процент удаленных строк: 5.21%\n"
     ]
    }
   ],
   "source": [
    "car2 = car2_sorted.drop_duplicates(keep='first')\n",
    "car2 = car2_sorted.drop_duplicates(keep='first', subset=['company_id_2', 'funding_round_id'])\n",
    "final_row_count = car2.shape[0]\n",
    "print(f\"Количество строк до удаления пропусков и дубликатов: {initial_row_count}\")\n",
    "print(f\"Количество строк после удаления пропусков и дубликатов: {final_row_count}\")\n",
    "print(f\"Количество удаленных строк: {initial_row_count-final_row_count}\")\n",
    "print(f\"Процент удаленных строк: {round(((initial_row_count-final_row_count)/initial_row_count)*100, 2)}%\")"
   ]
  },
  {
   "cell_type": "markdown",
   "metadata": {},
   "source": [
    "вывод: \n",
    "- в ходе предобработки данного датафрейма было решено разбить его отдельно на фрейм компаний и фрейм финансирования\n",
    "- были нормализованы названия столбцов\n",
    "- были удалены полностью пустые строки\n",
    "- были удалены явные дубликаты"
   ]
  },
  {
   "cell_type": "markdown",
   "metadata": {},
   "source": [
    "<div class=\"alert alert-success\">\n",
    "<h2> Комментарий ревьюера <a class=\"tocSkip\"> </h2>\n",
    "\n",
    "<b>Все отлично!👍</b> Тут всё также было сделано корректно - догадка о том, что таблица собрана из двух, была верной, как и решение по её разделению на две таблицы. Пропуски и дубликаты также удалены корректно."
   ]
  },
  {
   "cell_type": "markdown",
   "metadata": {},
   "source": [
    "<div style=\"border:solid Chocolate 2px; padding: 40px\">\n",
    "\n",
    "# Комментарий ревьюера: общий вывод по первой части проекта.\n",
    "\n",
    "Ангелина, на этом этапе проекта удалось проделать отличную работу: данные корректно загружены и обработаны, ответы на вопросы проекта даны верно, исследования выполнены качественно, код написан оптимально. \n",
    "    \n",
    "Поправь, пожалуйста, отмеченные замечания и приступай ко второй части проекта:)"
   ]
  },
  {
   "cell_type": "markdown",
   "metadata": {
    "id": "bmVYhphNrJg2"
   },
   "source": [
    "\n",
    "## Шаг 3. Исследовательский анализ объединённых таблиц\n",
    "\n",
    "<big>Приступите к шагу 3 после проверки ревьюера.</big>"
   ]
  },
  {
   "cell_type": "markdown",
   "metadata": {},
   "source": [
    "<div class=\"alert alert-block alert-danger\">\n",
    "<h2> Комментарий ревьюера v.2 <a class=\"tocSkip\"></h2>\n",
    "\n",
    "    \n",
    "<b>На доработку❌:</b> Первую часть проекта ревьюер уже проверил, поэтому нужно приступать к выполнению второй части:)"
   ]
  },
  {
   "cell_type": "markdown",
   "metadata": {
    "id": "3Di6tCT3rJg2"
   },
   "source": [
    "\n",
    "### 3.1. Объединение данных\n",
    "\n",
    "Объедините данные для ответа на вопросы заказчика, которые касаются интересующих его компаний.\n",
    "\n",
    "В качестве основы для объединённой таблицы возьмите данные из обработанного датасета `company_and_rounds.csv` — выберите только те компании, у которых указаны значения `funding_rounds` или `investment_rounds` больше нуля, и те, у которых в колонке `status` указано `acquired`.\n",
    "\n",
    "Далее работайте только с этими данными."
   ]
  },
  {
   "cell_type": "code",
   "execution_count": 75,
   "metadata": {
    "id": "mGYqoHS7rJg2"
   },
   "outputs": [
    {
     "data": {
      "text/html": [
       "<div>\n",
       "<style scoped>\n",
       "    .dataframe tbody tr th:only-of-type {\n",
       "        vertical-align: middle;\n",
       "    }\n",
       "\n",
       "    .dataframe tbody tr th {\n",
       "        vertical-align: top;\n",
       "    }\n",
       "\n",
       "    .dataframe thead th {\n",
       "        text-align: right;\n",
       "    }\n",
       "</style>\n",
       "<table border=\"1\" class=\"dataframe\">\n",
       "  <thead>\n",
       "    <tr style=\"text-align: right;\">\n",
       "      <th></th>\n",
       "      <th>company_id</th>\n",
       "      <th>name</th>\n",
       "      <th>category_code</th>\n",
       "      <th>status</th>\n",
       "      <th>founded_at</th>\n",
       "      <th>closed_at</th>\n",
       "      <th>domain</th>\n",
       "      <th>network_username</th>\n",
       "      <th>country_code</th>\n",
       "      <th>investment_rounds</th>\n",
       "      <th>funding_rounds</th>\n",
       "      <th>funding_total</th>\n",
       "      <th>milestones</th>\n",
       "    </tr>\n",
       "  </thead>\n",
       "  <tbody>\n",
       "    <tr>\n",
       "      <th>0</th>\n",
       "      <td>1.00</td>\n",
       "      <td>Wetpaint</td>\n",
       "      <td>web</td>\n",
       "      <td>operating</td>\n",
       "      <td>2005</td>\n",
       "      <td>NaN</td>\n",
       "      <td>wetpaint-inc.com</td>\n",
       "      <td>BachelrWetpaint</td>\n",
       "      <td>USA</td>\n",
       "      <td>0.00</td>\n",
       "      <td>3.00</td>\n",
       "      <td>39,750,000.00</td>\n",
       "      <td>5.00</td>\n",
       "    </tr>\n",
       "    <tr>\n",
       "      <th>165415</th>\n",
       "      <td>4.00</td>\n",
       "      <td>Digg</td>\n",
       "      <td>news</td>\n",
       "      <td>acquired</td>\n",
       "      <td>2004</td>\n",
       "      <td>NaN</td>\n",
       "      <td>digg.com</td>\n",
       "      <td>digg</td>\n",
       "      <td>USA</td>\n",
       "      <td>0.00</td>\n",
       "      <td>4.00</td>\n",
       "      <td>45,000,000.00</td>\n",
       "      <td>8.00</td>\n",
       "    </tr>\n",
       "    <tr>\n",
       "      <th>217293</th>\n",
       "      <td>5.00</td>\n",
       "      <td>Socialnet</td>\n",
       "      <td>social</td>\n",
       "      <td>ipo</td>\n",
       "      <td>2004</td>\n",
       "      <td>NaN</td>\n",
       "      <td>socialnet.com</td>\n",
       "      <td>socialnet</td>\n",
       "      <td>USA</td>\n",
       "      <td>3.00</td>\n",
       "      <td>11.00</td>\n",
       "      <td>2,425,700,096.00</td>\n",
       "      <td>5.00</td>\n",
       "    </tr>\n",
       "    <tr>\n",
       "      <th>199822</th>\n",
       "      <td>7.00</td>\n",
       "      <td>Omnidrive</td>\n",
       "      <td>network_hosting</td>\n",
       "      <td>closed</td>\n",
       "      <td>2005</td>\n",
       "      <td>2008</td>\n",
       "      <td>omnidrive.com</td>\n",
       "      <td>Nomadesk</td>\n",
       "      <td>ISR</td>\n",
       "      <td>0.00</td>\n",
       "      <td>1.00</td>\n",
       "      <td>800,000.00</td>\n",
       "      <td>4.00</td>\n",
       "    </tr>\n",
       "    <tr>\n",
       "      <th>209255</th>\n",
       "      <td>8.00</td>\n",
       "      <td>Postini</td>\n",
       "      <td>web</td>\n",
       "      <td>acquired</td>\n",
       "      <td>1999</td>\n",
       "      <td>NaN</td>\n",
       "      <td>postini.com</td>\n",
       "      <td>NaN</td>\n",
       "      <td>USA</td>\n",
       "      <td>0.00</td>\n",
       "      <td>0.00</td>\n",
       "      <td>0.00</td>\n",
       "      <td>0.00</td>\n",
       "    </tr>\n",
       "    <tr>\n",
       "      <th>...</th>\n",
       "      <td>...</td>\n",
       "      <td>...</td>\n",
       "      <td>...</td>\n",
       "      <td>...</td>\n",
       "      <td>...</td>\n",
       "      <td>...</td>\n",
       "      <td>...</td>\n",
       "      <td>...</td>\n",
       "      <td>...</td>\n",
       "      <td>...</td>\n",
       "      <td>...</td>\n",
       "      <td>...</td>\n",
       "      <td>...</td>\n",
       "    </tr>\n",
       "    <tr>\n",
       "      <th>152324</th>\n",
       "      <td>286,183.00</td>\n",
       "      <td>Wedding Spot</td>\n",
       "      <td>web</td>\n",
       "      <td>operating</td>\n",
       "      <td>2013</td>\n",
       "      <td>NaN</td>\n",
       "      <td>wedding-spot.com</td>\n",
       "      <td>weddingspot</td>\n",
       "      <td>USA</td>\n",
       "      <td>0.00</td>\n",
       "      <td>1.00</td>\n",
       "      <td>225,000.00</td>\n",
       "      <td>0.00</td>\n",
       "    </tr>\n",
       "    <tr>\n",
       "      <th>152325</th>\n",
       "      <td>286,184.00</td>\n",
       "      <td>Seldar Pharma</td>\n",
       "      <td>biotech</td>\n",
       "      <td>operating</td>\n",
       "      <td>NaN</td>\n",
       "      <td>NaN</td>\n",
       "      <td>NaN</td>\n",
       "      <td>NaN</td>\n",
       "      <td>USA</td>\n",
       "      <td>0.00</td>\n",
       "      <td>1.00</td>\n",
       "      <td>12,999,000.00</td>\n",
       "      <td>0.00</td>\n",
       "    </tr>\n",
       "    <tr>\n",
       "      <th>152326</th>\n",
       "      <td>286,186.00</td>\n",
       "      <td>Micromidas</td>\n",
       "      <td>cleantech</td>\n",
       "      <td>operating</td>\n",
       "      <td>NaN</td>\n",
       "      <td>NaN</td>\n",
       "      <td>micromidas.com</td>\n",
       "      <td>NaN</td>\n",
       "      <td>USA</td>\n",
       "      <td>0.00</td>\n",
       "      <td>1.00</td>\n",
       "      <td>2,156,060.00</td>\n",
       "      <td>0.00</td>\n",
       "    </tr>\n",
       "    <tr>\n",
       "      <th>152339</th>\n",
       "      <td>286,200.00</td>\n",
       "      <td>STWA</td>\n",
       "      <td>other</td>\n",
       "      <td>operating</td>\n",
       "      <td>1998</td>\n",
       "      <td>NaN</td>\n",
       "      <td>stwa.com</td>\n",
       "      <td>NaN</td>\n",
       "      <td>USA</td>\n",
       "      <td>0.00</td>\n",
       "      <td>1.00</td>\n",
       "      <td>1,588,120.00</td>\n",
       "      <td>0.00</td>\n",
       "    </tr>\n",
       "    <tr>\n",
       "      <th>152354</th>\n",
       "      <td>286,215.00</td>\n",
       "      <td>The Betty Mills Company</td>\n",
       "      <td>ecommerce</td>\n",
       "      <td>operating</td>\n",
       "      <td>NaN</td>\n",
       "      <td>NaN</td>\n",
       "      <td>bettymills.com</td>\n",
       "      <td>NaN</td>\n",
       "      <td>USA</td>\n",
       "      <td>0.00</td>\n",
       "      <td>1.00</td>\n",
       "      <td>271,250.00</td>\n",
       "      <td>0.00</td>\n",
       "    </tr>\n",
       "  </tbody>\n",
       "</table>\n",
       "<p>40747 rows × 13 columns</p>\n",
       "</div>"
      ],
      "text/plain": [
       "        company_id                     name    category_code     status  \\\n",
       "0             1.00                 Wetpaint              web  operating   \n",
       "165415        4.00                     Digg             news   acquired   \n",
       "217293        5.00                Socialnet           social        ipo   \n",
       "199822        7.00                Omnidrive  network_hosting     closed   \n",
       "209255        8.00                  Postini              web   acquired   \n",
       "...            ...                      ...              ...        ...   \n",
       "152324  286,183.00             Wedding Spot              web  operating   \n",
       "152325  286,184.00            Seldar Pharma          biotech  operating   \n",
       "152326  286,186.00               Micromidas        cleantech  operating   \n",
       "152339  286,200.00                     STWA            other  operating   \n",
       "152354  286,215.00  The Betty Mills Company        ecommerce  operating   \n",
       "\n",
       "       founded_at closed_at            domain network_username country_code  \\\n",
       "0            2005       NaN  wetpaint-inc.com  BachelrWetpaint          USA   \n",
       "165415       2004       NaN          digg.com             digg          USA   \n",
       "217293       2004       NaN     socialnet.com        socialnet          USA   \n",
       "199822       2005      2008     omnidrive.com         Nomadesk          ISR   \n",
       "209255       1999       NaN       postini.com              NaN          USA   \n",
       "...           ...       ...               ...              ...          ...   \n",
       "152324       2013       NaN  wedding-spot.com      weddingspot          USA   \n",
       "152325        NaN       NaN               NaN              NaN          USA   \n",
       "152326        NaN       NaN    micromidas.com              NaN          USA   \n",
       "152339       1998       NaN          stwa.com              NaN          USA   \n",
       "152354        NaN       NaN    bettymills.com              NaN          USA   \n",
       "\n",
       "        investment_rounds  funding_rounds    funding_total  milestones  \n",
       "0                    0.00            3.00    39,750,000.00        5.00  \n",
       "165415               0.00            4.00    45,000,000.00        8.00  \n",
       "217293               3.00           11.00 2,425,700,096.00        5.00  \n",
       "199822               0.00            1.00       800,000.00        4.00  \n",
       "209255               0.00            0.00             0.00        0.00  \n",
       "...                   ...             ...              ...         ...  \n",
       "152324               0.00            1.00       225,000.00        0.00  \n",
       "152325               0.00            1.00    12,999,000.00        0.00  \n",
       "152326               0.00            1.00     2,156,060.00        0.00  \n",
       "152339               0.00            1.00     1,588,120.00        0.00  \n",
       "152354               0.00            1.00       271,250.00        0.00  \n",
       "\n",
       "[40747 rows x 13 columns]"
      ]
     },
     "execution_count": 75,
     "metadata": {},
     "output_type": "execute_result"
    }
   ],
   "source": [
    "car=car1[((car1['investment_rounds']>0) | (car1['funding_rounds']>0)) | \n",
    "        (car1['status']=='acquired')]\n",
    "pd.options.display.float_format = '{:,.2f}'.format\n",
    "car.drop_duplicates(keep='first', subset=['name', 'funding_total'])"
   ]
  },
  {
   "cell_type": "markdown",
   "metadata": {
    "id": "vJZ4mO2Un1yt"
   },
   "source": [
    "вывод: \n",
    "- исключаем дубликаты по названию и сумме финансирования, так как одна и та же компания могла попасть в фильтр два раза по разным условиям\n",
    "- фильтрация была успешно выполнена, далее можно использовать этот фрейм как рабочий"
   ]
  },
  {
   "cell_type": "markdown",
   "metadata": {},
   "source": [
    "<div class=\"alert alert-success\">\n",
    "<h2> Комментарий ревьюера v.3 <a class=\"tocSkip\"> </h2>\n",
    "\n",
    "<b>Все отлично!👍</b> Условия по формированию выборки для анализа учтены верно."
   ]
  },
  {
   "cell_type": "markdown",
   "metadata": {
    "id": "DFHINkV3rJg2"
   },
   "source": [
    "\n",
    "### 3.2. Анализ выбросов\n",
    "\n",
    "Заказчика интересует обычный для рассматриваемого периода размер средств, который предоставлялся компаниям.\n",
    "\n",
    "* По предобработанному столбцу `funding_total` графическим способом оцените, какой размер общего финансирования для одной компании будет типичным, а какой — выбивающимся.\n",
    "\n",
    "* В процессе расчёта значений обратите внимание, например, на показатели, возвращаемые методом `.describe()`, — объясните их. Применимы ли к таким данным обычные способы нахождения типичных значений?"
   ]
  },
  {
   "cell_type": "code",
   "execution_count": 76,
   "metadata": {
    "id": "8jm75fKXrJg2"
   },
   "outputs": [
    {
     "data": {
      "image/png": "[encoded data removed]",
      "text/plain": [
       "<Figure size 864x576 with 1 Axes>"
      ]
     },
     "metadata": {
      "needs_background": "light"
     },
     "output_type": "display_data"
    }
   ],
   "source": [
    "plt.figure(figsize=(12,8))\n",
    "sns.histplot(data=car,\n",
    "             x='funding_total',\n",
    "             bins=25,\n",
    "             kde=True\n",
    ")\n",
    "plt.xlabel('Сумма финансирования (в миллиардах)')\n",
    "plt.ylabel('Количество значений')\n",
    "plt.title('Распределение сумм финансирования')\n",
    "plt.show()"
   ]
  },
  {
   "cell_type": "code",
   "execution_count": 77,
   "metadata": {},
   "outputs": [
    {
     "data": {
      "text/plain": [
       "count          40,747.00\n",
       "mean       10,135,610.00\n",
       "std        56,464,360.00\n",
       "min                 0.00\n",
       "25%                 0.00\n",
       "50%           600,000.00\n",
       "75%         5,650,650.00\n",
       "max     5,699,999,744.00\n",
       "Name: funding_total, dtype: float64"
      ]
     },
     "execution_count": 77,
     "metadata": {},
     "output_type": "execute_result"
    }
   ],
   "source": [
    "pd.options.display.float_format = '{:,.2f}'.format\n",
    "car['funding_total'].describe()"
   ]
  },
  {
   "cell_type": "markdown",
   "metadata": {},
   "source": [
    "вывод:\n",
    "- получаем интересную ситуацию: наибольшее количество значений находится в пределах 500 тысяч, остальное является выбросами.\n",
    "- более того, стандартное отклонение превышает 56б5 миллионовю\n",
    "- не менее интересно, что 25% данных - нули, поэтому их нельзя считать выбросами.\n",
    "- далее расмотрим эту ситуацию без выбросов."
   ]
  },
  {
   "cell_type": "markdown",
   "metadata": {},
   "source": [
    "<div class=\"alert alert-success\">\n",
    "<h2> Комментарий ревьюера v.3 <a class=\"tocSkip\"> </h2>\n",
    "\n",
    "<b>Все отлично!👍</b> Исследовано общее распределение фондирования. Молодец, что отмечаешь границу выбросов, а также обращаешь внимание на высокую концентрацию нулей. Верно, что их нельзя считать выбоосами - это компании, не получившие финансирования. "
   ]
  },
  {
   "cell_type": "markdown",
   "metadata": {},
   "source": [
    "<div class=\"alert alert-warning\">\n",
    "    <h2> Комментарий ревьюера v.3 <a class=\"tocSkip\"> </h2>\n",
    "    \n",
    "<b>Некоторые замечания и рекомендации⚠️:</b> Можно было бы обратить внимание на наличие одного очень дорого раунда финансирования, а также на отличие среднего от медианы."
   ]
  },
  {
   "cell_type": "code",
   "execution_count": 78,
   "metadata": {},
   "outputs": [
    {
     "data": {
      "image/png": "[encoded data removed]",
      "text/plain": [
       "<Figure size 936x576 with 1 Axes>"
      ]
     },
     "metadata": {
      "needs_background": "light"
     },
     "output_type": "display_data"
    }
   ],
   "source": [
    "car.boxplot(column='funding_total', figsize=(13,8), showfliers=False)\n",
    "plt.ylabel('Сумма финансирования (в миллионах)')\n",
    "plt.title('Распределение сумм финансирования')\n",
    "plt.show()"
   ]
  },
  {
   "cell_type": "markdown",
   "metadata": {},
   "source": [
    "выводы:\n",
    "- по этому графику можно сделать более тчные выводы\n",
    "- межквартильный размах примерно 600 тысяч\n",
    "- медиана менее 100 тысяч (примернои50 тысяч)\n",
    "- минимальноезначение 0\n",
    "- максимальное значение чуть более 1,4 миллионов\n",
    "- отсюда вывод, что реальное распределение данных находится до 1,4 миллионами. все остальное, что выходит за верхнюю границу - нетипичные значения"
   ]
  },
  {
   "cell_type": "markdown",
   "metadata": {},
   "source": [
    "<div class=\"alert alert-success\">\n",
    "<h2> Комментарий ревьюера v.3 <a class=\"tocSkip\"> </h2>\n",
    "\n",
    "<b>Все отлично!👍</b> С выбросами определились, тут всё корректно."
   ]
  },
  {
   "cell_type": "markdown",
   "metadata": {
    "id": "JqkRAQrIrJg2"
   },
   "source": [
    "\n",
    "### 3.3. Куплены забесплатно?\n",
    "\n",
    "* Исследуйте компании, которые были проданы за ноль или за один доллар, и при этом известно, что у них был ненулевой общий объём финансирования.\n",
    "\n",
    "* Рассчитайте аналитически верхнюю и нижнюю границу выбросов для столбца `funding_total` и укажите, каким процентилям границы соответствуют. Учитывая озвученные выше предпосылки и собственные соображения, сделайте выводы о корректности планируемой заказчиком замены нижней и верхней границы выбросов на значения, рассчитанные по процентилям."
   ]
  },
  {
   "cell_type": "code",
   "execution_count": 95,
   "metadata": {
    "id": "wJHXCBwwrJg2"
   },
   "outputs": [
    {
     "data": {
      "text/html": [
       "<div>\n",
       "<style scoped>\n",
       "    .dataframe tbody tr th:only-of-type {\n",
       "        vertical-align: middle;\n",
       "    }\n",
       "\n",
       "    .dataframe tbody tr th {\n",
       "        vertical-align: top;\n",
       "    }\n",
       "\n",
       "    .dataframe thead th {\n",
       "        text-align: right;\n",
       "    }\n",
       "</style>\n",
       "<table border=\"1\" class=\"dataframe\">\n",
       "  <thead>\n",
       "    <tr style=\"text-align: right;\">\n",
       "      <th></th>\n",
       "      <th>company_id</th>\n",
       "      <th>name</th>\n",
       "      <th>category_code</th>\n",
       "      <th>status</th>\n",
       "      <th>founded_at</th>\n",
       "      <th>closed_at</th>\n",
       "      <th>domain</th>\n",
       "      <th>network_username</th>\n",
       "      <th>country_code</th>\n",
       "      <th>investment_rounds</th>\n",
       "      <th>funding_rounds</th>\n",
       "      <th>funding_total</th>\n",
       "      <th>milestones</th>\n",
       "      <th>price_amount</th>\n",
       "    </tr>\n",
       "  </thead>\n",
       "  <tbody>\n",
       "    <tr>\n",
       "      <th>0</th>\n",
       "      <td>1.00</td>\n",
       "      <td>Wetpaint</td>\n",
       "      <td>web</td>\n",
       "      <td>operating</td>\n",
       "      <td>2005</td>\n",
       "      <td>NaN</td>\n",
       "      <td>wetpaint-inc.com</td>\n",
       "      <td>BachelrWetpaint</td>\n",
       "      <td>USA</td>\n",
       "      <td>0.00</td>\n",
       "      <td>3.00</td>\n",
       "      <td>39,750,000.00</td>\n",
       "      <td>5.00</td>\n",
       "      <td>NaN</td>\n",
       "    </tr>\n",
       "    <tr>\n",
       "      <th>1</th>\n",
       "      <td>4.00</td>\n",
       "      <td>Digg</td>\n",
       "      <td>news</td>\n",
       "      <td>acquired</td>\n",
       "      <td>2004</td>\n",
       "      <td>NaN</td>\n",
       "      <td>digg.com</td>\n",
       "      <td>digg</td>\n",
       "      <td>USA</td>\n",
       "      <td>0.00</td>\n",
       "      <td>4.00</td>\n",
       "      <td>45,000,000.00</td>\n",
       "      <td>8.00</td>\n",
       "      <td>500,000.00</td>\n",
       "    </tr>\n",
       "    <tr>\n",
       "      <th>2</th>\n",
       "      <td>5.00</td>\n",
       "      <td>Socialnet</td>\n",
       "      <td>social</td>\n",
       "      <td>ipo</td>\n",
       "      <td>2004</td>\n",
       "      <td>NaN</td>\n",
       "      <td>socialnet.com</td>\n",
       "      <td>socialnet</td>\n",
       "      <td>USA</td>\n",
       "      <td>3.00</td>\n",
       "      <td>11.00</td>\n",
       "      <td>2,425,700,096.00</td>\n",
       "      <td>5.00</td>\n",
       "      <td>NaN</td>\n",
       "    </tr>\n",
       "    <tr>\n",
       "      <th>3</th>\n",
       "      <td>7.00</td>\n",
       "      <td>Omnidrive</td>\n",
       "      <td>network_hosting</td>\n",
       "      <td>closed</td>\n",
       "      <td>2005</td>\n",
       "      <td>2008</td>\n",
       "      <td>omnidrive.com</td>\n",
       "      <td>Nomadesk</td>\n",
       "      <td>ISR</td>\n",
       "      <td>0.00</td>\n",
       "      <td>1.00</td>\n",
       "      <td>800,000.00</td>\n",
       "      <td>4.00</td>\n",
       "      <td>NaN</td>\n",
       "    </tr>\n",
       "    <tr>\n",
       "      <th>4</th>\n",
       "      <td>8.00</td>\n",
       "      <td>Postini</td>\n",
       "      <td>web</td>\n",
       "      <td>acquired</td>\n",
       "      <td>1999</td>\n",
       "      <td>NaN</td>\n",
       "      <td>postini.com</td>\n",
       "      <td>NaN</td>\n",
       "      <td>USA</td>\n",
       "      <td>0.00</td>\n",
       "      <td>0.00</td>\n",
       "      <td>0.00</td>\n",
       "      <td>0.00</td>\n",
       "      <td>625,000,000.00</td>\n",
       "    </tr>\n",
       "    <tr>\n",
       "      <th>...</th>\n",
       "      <td>...</td>\n",
       "      <td>...</td>\n",
       "      <td>...</td>\n",
       "      <td>...</td>\n",
       "      <td>...</td>\n",
       "      <td>...</td>\n",
       "      <td>...</td>\n",
       "      <td>...</td>\n",
       "      <td>...</td>\n",
       "      <td>...</td>\n",
       "      <td>...</td>\n",
       "      <td>...</td>\n",
       "      <td>...</td>\n",
       "      <td>...</td>\n",
       "    </tr>\n",
       "    <tr>\n",
       "      <th>40742</th>\n",
       "      <td>286,183.00</td>\n",
       "      <td>Wedding Spot</td>\n",
       "      <td>web</td>\n",
       "      <td>operating</td>\n",
       "      <td>2013</td>\n",
       "      <td>NaN</td>\n",
       "      <td>wedding-spot.com</td>\n",
       "      <td>weddingspot</td>\n",
       "      <td>USA</td>\n",
       "      <td>0.00</td>\n",
       "      <td>1.00</td>\n",
       "      <td>225,000.00</td>\n",
       "      <td>0.00</td>\n",
       "      <td>NaN</td>\n",
       "    </tr>\n",
       "    <tr>\n",
       "      <th>40743</th>\n",
       "      <td>286,184.00</td>\n",
       "      <td>Seldar Pharma</td>\n",
       "      <td>biotech</td>\n",
       "      <td>operating</td>\n",
       "      <td>NaN</td>\n",
       "      <td>NaN</td>\n",
       "      <td>NaN</td>\n",
       "      <td>NaN</td>\n",
       "      <td>USA</td>\n",
       "      <td>0.00</td>\n",
       "      <td>1.00</td>\n",
       "      <td>12,999,000.00</td>\n",
       "      <td>0.00</td>\n",
       "      <td>NaN</td>\n",
       "    </tr>\n",
       "    <tr>\n",
       "      <th>40744</th>\n",
       "      <td>286,186.00</td>\n",
       "      <td>Micromidas</td>\n",
       "      <td>cleantech</td>\n",
       "      <td>operating</td>\n",
       "      <td>NaN</td>\n",
       "      <td>NaN</td>\n",
       "      <td>micromidas.com</td>\n",
       "      <td>NaN</td>\n",
       "      <td>USA</td>\n",
       "      <td>0.00</td>\n",
       "      <td>1.00</td>\n",
       "      <td>2,156,060.00</td>\n",
       "      <td>0.00</td>\n",
       "      <td>NaN</td>\n",
       "    </tr>\n",
       "    <tr>\n",
       "      <th>40745</th>\n",
       "      <td>286,200.00</td>\n",
       "      <td>STWA</td>\n",
       "      <td>other</td>\n",
       "      <td>operating</td>\n",
       "      <td>1998</td>\n",
       "      <td>NaN</td>\n",
       "      <td>stwa.com</td>\n",
       "      <td>NaN</td>\n",
       "      <td>USA</td>\n",
       "      <td>0.00</td>\n",
       "      <td>1.00</td>\n",
       "      <td>1,588,120.00</td>\n",
       "      <td>0.00</td>\n",
       "      <td>NaN</td>\n",
       "    </tr>\n",
       "    <tr>\n",
       "      <th>40746</th>\n",
       "      <td>286,215.00</td>\n",
       "      <td>The Betty Mills Company</td>\n",
       "      <td>ecommerce</td>\n",
       "      <td>operating</td>\n",
       "      <td>NaN</td>\n",
       "      <td>NaN</td>\n",
       "      <td>bettymills.com</td>\n",
       "      <td>NaN</td>\n",
       "      <td>USA</td>\n",
       "      <td>0.00</td>\n",
       "      <td>1.00</td>\n",
       "      <td>271,250.00</td>\n",
       "      <td>0.00</td>\n",
       "      <td>NaN</td>\n",
       "    </tr>\n",
       "  </tbody>\n",
       "</table>\n",
       "<p>40747 rows × 14 columns</p>\n",
       "</div>"
      ],
      "text/plain": [
       "       company_id                     name    category_code     status  \\\n",
       "0            1.00                 Wetpaint              web  operating   \n",
       "1            4.00                     Digg             news   acquired   \n",
       "2            5.00                Socialnet           social        ipo   \n",
       "3            7.00                Omnidrive  network_hosting     closed   \n",
       "4            8.00                  Postini              web   acquired   \n",
       "...           ...                      ...              ...        ...   \n",
       "40742  286,183.00             Wedding Spot              web  operating   \n",
       "40743  286,184.00            Seldar Pharma          biotech  operating   \n",
       "40744  286,186.00               Micromidas        cleantech  operating   \n",
       "40745  286,200.00                     STWA            other  operating   \n",
       "40746  286,215.00  The Betty Mills Company        ecommerce  operating   \n",
       "\n",
       "      founded_at closed_at            domain network_username country_code  \\\n",
       "0           2005       NaN  wetpaint-inc.com  BachelrWetpaint          USA   \n",
       "1           2004       NaN          digg.com             digg          USA   \n",
       "2           2004       NaN     socialnet.com        socialnet          USA   \n",
       "3           2005      2008     omnidrive.com         Nomadesk          ISR   \n",
       "4           1999       NaN       postini.com              NaN          USA   \n",
       "...          ...       ...               ...              ...          ...   \n",
       "40742       2013       NaN  wedding-spot.com      weddingspot          USA   \n",
       "40743        NaN       NaN               NaN              NaN          USA   \n",
       "40744        NaN       NaN    micromidas.com              NaN          USA   \n",
       "40745       1998       NaN          stwa.com              NaN          USA   \n",
       "40746        NaN       NaN    bettymills.com              NaN          USA   \n",
       "\n",
       "       investment_rounds  funding_rounds    funding_total  milestones  \\\n",
       "0                   0.00            3.00    39,750,000.00        5.00   \n",
       "1                   0.00            4.00    45,000,000.00        8.00   \n",
       "2                   3.00           11.00 2,425,700,096.00        5.00   \n",
       "3                   0.00            1.00       800,000.00        4.00   \n",
       "4                   0.00            0.00             0.00        0.00   \n",
       "...                  ...             ...              ...         ...   \n",
       "40742               0.00            1.00       225,000.00        0.00   \n",
       "40743               0.00            1.00    12,999,000.00        0.00   \n",
       "40744               0.00            1.00     2,156,060.00        0.00   \n",
       "40745               0.00            1.00     1,588,120.00        0.00   \n",
       "40746               0.00            1.00       271,250.00        0.00   \n",
       "\n",
       "        price_amount  \n",
       "0                NaN  \n",
       "1         500,000.00  \n",
       "2                NaN  \n",
       "3                NaN  \n",
       "4     625,000,000.00  \n",
       "...              ...  \n",
       "40742            NaN  \n",
       "40743            NaN  \n",
       "40744            NaN  \n",
       "40745            NaN  \n",
       "40746            NaN  \n",
       "\n",
       "[40747 rows x 14 columns]"
      ]
     },
     "execution_count": 95,
     "metadata": {},
     "output_type": "execute_result"
    }
   ],
   "source": [
    "acquisition = aquisition.groupby('acquired_company_id')['price_amount'].max()\n",
    "or_0_or_1 = car.merge(acquisition, how='left', left_on='company_id', right_on='acquired_company_id')\n",
    "or_0_or_1"
   ]
  },
  {
   "cell_type": "markdown",
   "metadata": {},
   "source": [
    "<div class=\"alert alert-block alert-danger\">\n",
    "<h2> Комментарий ревьюера v.3 <a class=\"tocSkip\"></h2>\n",
    "\n",
    "    \n",
    "<b>На доработку❌:</b> Соединять данные нужно типом `left`. Также после соединения число строк вырастет - перед объединением стоит выполнить агрегацию по `acquired_company_id`, взяв, например, максимальную цену, или сначала по любой приемлемой логике подготовить таблицу с покупками, убрав из неё дубликаты по `acquiring_company_id` (например оставить последние записи). "
   ]
  },
  {
   "cell_type": "markdown",
   "metadata": {},
   "source": [
    "<div class=\"alert alert-info\">\n",
    "<h2> Комментарий студента <a class=\"tocSkip\"> </h2>\n",
    "\n",
    "исправлено на левое присоединение. провела агрегацию по максимальной сумме\n",
    "</div>"
   ]
  },
  {
   "cell_type": "markdown",
   "metadata": {},
   "source": [
    "<div class=\"alert alert-success\">\n",
    "<h2> Комментарий ревьюера v.4 <a class=\"tocSkip\"> </h2>\n",
    "\n",
    "<b>Все отлично!👍</b> Учтено."
   ]
  },
  {
   "cell_type": "code",
   "execution_count": 96,
   "metadata": {
    "id": "wJHXCBwwrJg2",
    "scrolled": true
   },
   "outputs": [
    {
     "data": {
      "text/html": [
       "<div>\n",
       "<style scoped>\n",
       "    .dataframe tbody tr th:only-of-type {\n",
       "        vertical-align: middle;\n",
       "    }\n",
       "\n",
       "    .dataframe tbody tr th {\n",
       "        vertical-align: top;\n",
       "    }\n",
       "\n",
       "    .dataframe thead th {\n",
       "        text-align: right;\n",
       "    }\n",
       "</style>\n",
       "<table border=\"1\" class=\"dataframe\">\n",
       "  <thead>\n",
       "    <tr style=\"text-align: right;\">\n",
       "      <th></th>\n",
       "      <th>company_id</th>\n",
       "      <th>name</th>\n",
       "      <th>category_code</th>\n",
       "      <th>status</th>\n",
       "      <th>founded_at</th>\n",
       "      <th>closed_at</th>\n",
       "      <th>domain</th>\n",
       "      <th>network_username</th>\n",
       "      <th>country_code</th>\n",
       "      <th>investment_rounds</th>\n",
       "      <th>funding_rounds</th>\n",
       "      <th>funding_total</th>\n",
       "      <th>milestones</th>\n",
       "      <th>price_amount</th>\n",
       "    </tr>\n",
       "  </thead>\n",
       "  <tbody>\n",
       "    <tr>\n",
       "      <th>5</th>\n",
       "      <td>9.00</td>\n",
       "      <td>Geni</td>\n",
       "      <td>web</td>\n",
       "      <td>acquired</td>\n",
       "      <td>2006</td>\n",
       "      <td>NaN</td>\n",
       "      <td>geni.com</td>\n",
       "      <td>geni</td>\n",
       "      <td>USA</td>\n",
       "      <td>0.00</td>\n",
       "      <td>3.00</td>\n",
       "      <td>16,500,000.00</td>\n",
       "      <td>4.00</td>\n",
       "      <td>0.00</td>\n",
       "    </tr>\n",
       "    <tr>\n",
       "      <th>10</th>\n",
       "      <td>14.00</td>\n",
       "      <td>Gizmoz</td>\n",
       "      <td>web</td>\n",
       "      <td>acquired</td>\n",
       "      <td>2003</td>\n",
       "      <td>NaN</td>\n",
       "      <td>gizmoz.com</td>\n",
       "      <td>NaN</td>\n",
       "      <td>USA</td>\n",
       "      <td>0.00</td>\n",
       "      <td>3.00</td>\n",
       "      <td>18,100,000.00</td>\n",
       "      <td>4.00</td>\n",
       "      <td>0.00</td>\n",
       "    </tr>\n",
       "    <tr>\n",
       "      <th>18</th>\n",
       "      <td>23.00</td>\n",
       "      <td>Joost</td>\n",
       "      <td>games_video</td>\n",
       "      <td>acquired</td>\n",
       "      <td>2006</td>\n",
       "      <td>NaN</td>\n",
       "      <td>joost.com</td>\n",
       "      <td>NaN</td>\n",
       "      <td>USA</td>\n",
       "      <td>0.00</td>\n",
       "      <td>1.00</td>\n",
       "      <td>45,000,000.00</td>\n",
       "      <td>5.00</td>\n",
       "      <td>0.00</td>\n",
       "    </tr>\n",
       "    <tr>\n",
       "      <th>31</th>\n",
       "      <td>38.00</td>\n",
       "      <td>Kyte</td>\n",
       "      <td>games_video</td>\n",
       "      <td>acquired</td>\n",
       "      <td>2006</td>\n",
       "      <td>NaN</td>\n",
       "      <td>kyte.com</td>\n",
       "      <td>kyte</td>\n",
       "      <td>USA</td>\n",
       "      <td>0.00</td>\n",
       "      <td>4.00</td>\n",
       "      <td>23,350,000.00</td>\n",
       "      <td>2.00</td>\n",
       "      <td>0.00</td>\n",
       "    </tr>\n",
       "    <tr>\n",
       "      <th>33</th>\n",
       "      <td>40.00</td>\n",
       "      <td>Veoh</td>\n",
       "      <td>games_video</td>\n",
       "      <td>acquired</td>\n",
       "      <td>2004</td>\n",
       "      <td>NaN</td>\n",
       "      <td>veoh.com</td>\n",
       "      <td>veoh</td>\n",
       "      <td>USA</td>\n",
       "      <td>0.00</td>\n",
       "      <td>4.00</td>\n",
       "      <td>69,750,000.00</td>\n",
       "      <td>4.00</td>\n",
       "      <td>0.00</td>\n",
       "    </tr>\n",
       "    <tr>\n",
       "      <th>...</th>\n",
       "      <td>...</td>\n",
       "      <td>...</td>\n",
       "      <td>...</td>\n",
       "      <td>...</td>\n",
       "      <td>...</td>\n",
       "      <td>...</td>\n",
       "      <td>...</td>\n",
       "      <td>...</td>\n",
       "      <td>...</td>\n",
       "      <td>...</td>\n",
       "      <td>...</td>\n",
       "      <td>...</td>\n",
       "      <td>...</td>\n",
       "      <td>...</td>\n",
       "    </tr>\n",
       "    <tr>\n",
       "      <th>37089</th>\n",
       "      <td>259,939.00</td>\n",
       "      <td>Pluromed</td>\n",
       "      <td>hardware</td>\n",
       "      <td>acquired</td>\n",
       "      <td>2003</td>\n",
       "      <td>NaN</td>\n",
       "      <td>pluromed.com</td>\n",
       "      <td>NaN</td>\n",
       "      <td>USA</td>\n",
       "      <td>0.00</td>\n",
       "      <td>3.00</td>\n",
       "      <td>2,437,900.00</td>\n",
       "      <td>0.00</td>\n",
       "      <td>0.00</td>\n",
       "    </tr>\n",
       "    <tr>\n",
       "      <th>37106</th>\n",
       "      <td>260,008.00</td>\n",
       "      <td>Rhetorical Group plc</td>\n",
       "      <td>NaN</td>\n",
       "      <td>acquired</td>\n",
       "      <td>2002</td>\n",
       "      <td>NaN</td>\n",
       "      <td>NaN</td>\n",
       "      <td>NaN</td>\n",
       "      <td>NaN</td>\n",
       "      <td>0.00</td>\n",
       "      <td>1.00</td>\n",
       "      <td>6,303,110.00</td>\n",
       "      <td>1.00</td>\n",
       "      <td>0.00</td>\n",
       "    </tr>\n",
       "    <tr>\n",
       "      <th>37272</th>\n",
       "      <td>261,146.00</td>\n",
       "      <td>Endurance Lending Network</td>\n",
       "      <td>finance</td>\n",
       "      <td>acquired</td>\n",
       "      <td>2011</td>\n",
       "      <td>NaN</td>\n",
       "      <td>enduranceln.com</td>\n",
       "      <td>EnduranceLN</td>\n",
       "      <td>USA</td>\n",
       "      <td>0.00</td>\n",
       "      <td>1.00</td>\n",
       "      <td>1,500,000.00</td>\n",
       "      <td>1.00</td>\n",
       "      <td>0.00</td>\n",
       "    </tr>\n",
       "    <tr>\n",
       "      <th>37967</th>\n",
       "      <td>266,567.00</td>\n",
       "      <td>WiiiWaaa</td>\n",
       "      <td>web</td>\n",
       "      <td>acquired</td>\n",
       "      <td>NaN</td>\n",
       "      <td>NaN</td>\n",
       "      <td>wiiiwaaa.com</td>\n",
       "      <td>wiiiwaaa</td>\n",
       "      <td>NaN</td>\n",
       "      <td>0.00</td>\n",
       "      <td>1.00</td>\n",
       "      <td>50,000.00</td>\n",
       "      <td>1.00</td>\n",
       "      <td>0.00</td>\n",
       "    </tr>\n",
       "    <tr>\n",
       "      <th>38360</th>\n",
       "      <td>268,806.00</td>\n",
       "      <td>Plink Search</td>\n",
       "      <td>search</td>\n",
       "      <td>acquired</td>\n",
       "      <td>2009</td>\n",
       "      <td>NaN</td>\n",
       "      <td>plinkart.com</td>\n",
       "      <td>plinksearch</td>\n",
       "      <td>NaN</td>\n",
       "      <td>0.00</td>\n",
       "      <td>1.00</td>\n",
       "      <td>100,000.00</td>\n",
       "      <td>0.00</td>\n",
       "      <td>0.00</td>\n",
       "    </tr>\n",
       "  </tbody>\n",
       "</table>\n",
       "<p>1581 rows × 14 columns</p>\n",
       "</div>"
      ],
      "text/plain": [
       "       company_id                       name category_code    status  \\\n",
       "5            9.00                       Geni           web  acquired   \n",
       "10          14.00                     Gizmoz           web  acquired   \n",
       "18          23.00                      Joost   games_video  acquired   \n",
       "31          38.00                       Kyte   games_video  acquired   \n",
       "33          40.00                       Veoh   games_video  acquired   \n",
       "...           ...                        ...           ...       ...   \n",
       "37089  259,939.00                   Pluromed      hardware  acquired   \n",
       "37106  260,008.00       Rhetorical Group plc           NaN  acquired   \n",
       "37272  261,146.00  Endurance Lending Network       finance  acquired   \n",
       "37967  266,567.00                   WiiiWaaa           web  acquired   \n",
       "38360  268,806.00               Plink Search        search  acquired   \n",
       "\n",
       "      founded_at closed_at           domain network_username country_code  \\\n",
       "5           2006       NaN         geni.com             geni          USA   \n",
       "10          2003       NaN       gizmoz.com              NaN          USA   \n",
       "18          2006       NaN        joost.com              NaN          USA   \n",
       "31          2006       NaN         kyte.com             kyte          USA   \n",
       "33          2004       NaN         veoh.com             veoh          USA   \n",
       "...          ...       ...              ...              ...          ...   \n",
       "37089       2003       NaN     pluromed.com              NaN          USA   \n",
       "37106       2002       NaN              NaN              NaN          NaN   \n",
       "37272       2011       NaN  enduranceln.com      EnduranceLN          USA   \n",
       "37967        NaN       NaN     wiiiwaaa.com         wiiiwaaa          NaN   \n",
       "38360       2009       NaN     plinkart.com      plinksearch          NaN   \n",
       "\n",
       "       investment_rounds  funding_rounds  funding_total  milestones  \\\n",
       "5                   0.00            3.00  16,500,000.00        4.00   \n",
       "10                  0.00            3.00  18,100,000.00        4.00   \n",
       "18                  0.00            1.00  45,000,000.00        5.00   \n",
       "31                  0.00            4.00  23,350,000.00        2.00   \n",
       "33                  0.00            4.00  69,750,000.00        4.00   \n",
       "...                  ...             ...            ...         ...   \n",
       "37089               0.00            3.00   2,437,900.00        0.00   \n",
       "37106               0.00            1.00   6,303,110.00        1.00   \n",
       "37272               0.00            1.00   1,500,000.00        1.00   \n",
       "37967               0.00            1.00      50,000.00        1.00   \n",
       "38360               0.00            1.00     100,000.00        0.00   \n",
       "\n",
       "       price_amount  \n",
       "5              0.00  \n",
       "10             0.00  \n",
       "18             0.00  \n",
       "31             0.00  \n",
       "33             0.00  \n",
       "...             ...  \n",
       "37089          0.00  \n",
       "37106          0.00  \n",
       "37272          0.00  \n",
       "37967          0.00  \n",
       "38360          0.00  \n",
       "\n",
       "[1581 rows x 14 columns]"
      ]
     },
     "execution_count": 96,
     "metadata": {},
     "output_type": "execute_result"
    }
   ],
   "source": [
    "df=or_0_or_1[(or_0_or_1['funding_total']>0) & (or_0_or_1['price_amount']<2) & (or_0_or_1['status']==\"acquired\")]\n",
    "df"
   ]
  },
  {
   "cell_type": "markdown",
   "metadata": {},
   "source": [
    "<div class=\"alert alert-block alert-danger\">\n",
    "<h2> Комментарий ревьюера v.3 <a class=\"tocSkip\"></h2>\n",
    "\n",
    "    \n",
    "<b>На доработку❌:</b> В условие также нужно добавить `status == \"acquired\"`."
   ]
  },
  {
   "cell_type": "markdown",
   "metadata": {},
   "source": [
    "<div class=\"alert alert-info\">\n",
    "<h2> Комментарий студента <a class=\"tocSkip\"> </h2>\n",
    "\n",
    "исправлено\n",
    "</div>"
   ]
  },
  {
   "cell_type": "markdown",
   "metadata": {},
   "source": [
    "<div class=\"alert alert-success\">\n",
    "<h2> Комментарий ревьюера v.4 <a class=\"tocSkip\"> </h2>\n",
    "\n",
    "<b>Все отлично!👍</b> Учтено."
   ]
  },
  {
   "cell_type": "code",
   "execution_count": 97,
   "metadata": {
    "id": "-kA4CO27n2ql"
   },
   "outputs": [
    {
     "data": {
      "text/plain": [
       "count           1,581.00\n",
       "mean       17,869,432.00\n",
       "std       145,803,872.00\n",
       "min             3,750.00\n",
       "25%         2,000,000.00\n",
       "50%         6,000,000.00\n",
       "75%        15,400,000.00\n",
       "max     5,699,999,744.00\n",
       "Name: funding_total, dtype: float64"
      ]
     },
     "execution_count": 97,
     "metadata": {},
     "output_type": "execute_result"
    }
   ],
   "source": [
    "pd.options.display.float_format = '{:,.2f}'.format\n",
    "df['funding_total'].describe()"
   ]
  },
  {
   "cell_type": "code",
   "execution_count": 98,
   "metadata": {},
   "outputs": [
    {
     "data": {
      "image/png": "[encoded data removed]",
      "text/plain": [
       "<Figure size 864x576 with 1 Axes>"
      ]
     },
     "metadata": {
      "needs_background": "light"
     },
     "output_type": "display_data"
    }
   ],
   "source": [
    "plt.figure(figsize=(12,8))\n",
    "sns.histplot(data=df,\n",
    "             x='funding_total',\n",
    "             bins=25,\n",
    "             kde=True\n",
    ")\n",
    "plt.xlabel('Сумма финансирования (в миллиардах)')\n",
    "plt.ylabel('Количество значений')\n",
    "plt.title('Распределение сумм финансирования')\n",
    "plt.show()"
   ]
  },
  {
   "cell_type": "markdown",
   "metadata": {},
   "source": [
    "вывод:\n",
    "- чуть более 1500 значений лежат до полумиллиона\n",
    "- аномальные значения все еще присутсвуют, однако некоторые адекватные данные теперь можно увидеть.\n",
    "- минимальное значение 3750.\n",
    "- максимальное значение 5,699,999,744\n",
    "- 25% данных содержат суммы до 2 миллионов\n",
    "- медиана 6 миллионов\n",
    "- 75% данных содержат суммы до 15.5 миллинов"
   ]
  },
  {
   "cell_type": "markdown",
   "metadata": {},
   "source": [
    "<div class=\"alert alert-success\">\n",
    "<h2> Комментарий ревьюера v.3 <a class=\"tocSkip\"> </h2>\n",
    "\n",
    "<b>Все отлично!👍</b> Границы выбросов определены."
   ]
  },
  {
   "cell_type": "code",
   "execution_count": 99,
   "metadata": {},
   "outputs": [
    {
     "data": {
      "image/png": "[encoded data removed]",
      "text/plain": [
       "<Figure size 936x576 with 1 Axes>"
      ]
     },
     "metadata": {
      "needs_background": "light"
     },
     "output_type": "display_data"
    }
   ],
   "source": [
    "df.boxplot(column='funding_total', figsize=(13,8), showfliers=False)\n",
    "plt.ylabel('Сумма финансирования (в миллионах)')\n",
    "plt.title('Распределение сумм финансирования')\n",
    "plt.show()"
   ]
  },
  {
   "cell_type": "markdown",
   "metadata": {},
   "source": [
    "вывод:\n",
    "- исключаем выбросы\n",
    "- после анализа компаний, которые были профинансированы, но проданы забесплатно, видим более реальные значения\n",
    "- минимум 0\n",
    "- максимум 3,5 миллиона\n",
    "- медиана чуть больше 500 тысяч\n",
    "- нижний квартиль около 200 тысяч\n",
    "- верхний квартиль чуть больше полутора миллионов\n",
    "- после всех преобразований выше можно рассчитывать на приведенные выше статистики. однако заменим минимум (0) из этого пункта на минимум из предыдущего пункта (3750). все таки более логичным фактом будет преобретение компании за 3750, чем за 0"
   ]
  },
  {
   "cell_type": "markdown",
   "metadata": {
    "id": "mEiWpROjrJg2"
   },
   "source": [
    "\n",
    "### 3.4. Цены стартапов по категориям\n",
    "\n",
    "Категории стартапов с наибольшими ценами и значительным разбросом цен могут быть наиболее привлекательными для крупных инвесторов, которые готовы к высоким рискам ради потенциально больших доходов. Среди категорий стартапов выделите категории стартапов, характеризующиеся:\n",
    "\n",
    "* наибольшими ценами;\n",
    "* и наибольшим разбросом цен за стартап.\n",
    "\n",
    "Объясните, почему решили составить топ именно из такого числа категорий и почему рассчитывали именно так."
   ]
  },
  {
   "cell_type": "code",
   "execution_count": 100,
   "metadata": {
    "id": "jQ09dYUWrJg2"
   },
   "outputs": [
    {
     "data": {
      "image/png": "[encoded data removed]",
      "text/plain": [
       "<Figure size 864x576 with 1 Axes>"
      ]
     },
     "metadata": {
      "needs_background": "light"
     },
     "output_type": "display_data"
    }
   ],
   "source": [
    "plt.figure(figsize=(12,8))\n",
    "sns.histplot(data=aquisition,\n",
    "             x='price_amount',\n",
    "             bins=25,\n",
    "             kde=True\n",
    ")\n",
    "plt.xlabel('Цена продажи (в квадриллионах)')\n",
    "plt.ylabel('Количество значений')\n",
    "plt.title('Распределение цен')\n",
    "plt.show()"
   ]
  },
  {
   "cell_type": "code",
   "execution_count": 101,
   "metadata": {
    "id": "MFONscXPn29F"
   },
   "outputs": [
    {
     "data": {
      "image/png": "[encoded data removed]",
      "text/plain": [
       "<Figure size 936x576 with 1 Axes>"
      ]
     },
     "metadata": {
      "needs_background": "light"
     },
     "output_type": "display_data"
    }
   ],
   "source": [
    "aquisition.boxplot(column='price_amount', figsize=(13,8), showfliers=False)\n",
    "plt.ylabel('Цена продажи')\n",
    "plt.title('Распределение цен')\n",
    "plt.show()"
   ]
  },
  {
   "cell_type": "markdown",
   "metadata": {},
   "source": [
    "сначала сделаем 3 базовых категорий: нулевые покупки, дешевые покупки (до 50000 тысяч, так как боксплот обозначает эту границу максимальной для нормального распределничя) и дорогие покупки. последнюю категорию далее изучим и на основе этих данных расширим категоризацию."
   ]
  },
  {
   "cell_type": "code",
   "execution_count": 102,
   "metadata": {},
   "outputs": [
    {
     "data": {
      "text/plain": [
       "2600000000000"
      ]
     },
     "execution_count": 102,
     "metadata": {},
     "output_type": "execute_result"
    }
   ],
   "source": [
    "max(aquisition['price_amount'])"
   ]
  },
  {
   "cell_type": "code",
   "execution_count": 103,
   "metadata": {},
   "outputs": [
    {
     "name": "stderr",
     "output_type": "stream",
     "text": [
      "/tmp/ipykernel_48/983029864.py:1: SettingWithCopyWarning: \n",
      "A value is trying to be set on a copy of a slice from a DataFrame.\n",
      "Try using .loc[row_indexer,col_indexer] = value instead\n",
      "\n",
      "See the caveats in the documentation: https://pandas.pydata.org/pandas-docs/stable/user_guide/indexing.html#returning-a-view-versus-a-copy\n",
      "  aquisition['cat_price']=pd.cut(aquisition['price_amount'],\n"
     ]
    },
    {
     "data": {
      "text/plain": [
       "cat_price\n",
       "нулевые покупки    6912\n",
       "дешевые покупки     132\n",
       "дорогие покупки    2338\n",
       "Name: acq_id, dtype: int64"
      ]
     },
     "execution_count": 103,
     "metadata": {},
     "output_type": "execute_result"
    }
   ],
   "source": [
    "aquisition['cat_price']=pd.cut(aquisition['price_amount'], \n",
    "                               bins=[0,2,50000,2600000000001], \n",
    "                               labels=['нулевые покупки','дешевые покупки','дорогие покупки'], \n",
    "                               right=False)\n",
    "aquisition.groupby('cat_price')['acq_id'].count()"
   ]
  },
  {
   "cell_type": "markdown",
   "metadata": {},
   "source": [
    "добавили столбец с категориями, видим, что нулевых покупок подавляющее большинство, а вот дешевых почти в 20 раз меньше, чем дорогих. изучаем дорогие дальше"
   ]
  },
  {
   "cell_type": "code",
   "execution_count": 104,
   "metadata": {},
   "outputs": [
    {
     "data": {
      "text/html": [
       "<div>\n",
       "<style scoped>\n",
       "    .dataframe tbody tr th:only-of-type {\n",
       "        vertical-align: middle;\n",
       "    }\n",
       "\n",
       "    .dataframe tbody tr th {\n",
       "        vertical-align: top;\n",
       "    }\n",
       "\n",
       "    .dataframe thead th {\n",
       "        text-align: right;\n",
       "    }\n",
       "</style>\n",
       "<table border=\"1\" class=\"dataframe\">\n",
       "  <thead>\n",
       "    <tr style=\"text-align: right;\">\n",
       "      <th></th>\n",
       "      <th>acq_id</th>\n",
       "      <th>acquiring_company_id</th>\n",
       "      <th>acquired_company_id</th>\n",
       "      <th>term_code</th>\n",
       "      <th>price_amount</th>\n",
       "      <th>acquired_at</th>\n",
       "      <th>cat_price</th>\n",
       "    </tr>\n",
       "  </thead>\n",
       "  <tbody>\n",
       "    <tr>\n",
       "      <th>0</th>\n",
       "      <td>1</td>\n",
       "      <td>11</td>\n",
       "      <td>10</td>\n",
       "      <td>NaN</td>\n",
       "      <td>20000000</td>\n",
       "      <td>2007</td>\n",
       "      <td>дорогие покупки</td>\n",
       "    </tr>\n",
       "    <tr>\n",
       "      <th>1</th>\n",
       "      <td>7</td>\n",
       "      <td>59</td>\n",
       "      <td>72</td>\n",
       "      <td>cash</td>\n",
       "      <td>60000000</td>\n",
       "      <td>2007</td>\n",
       "      <td>дорогие покупки</td>\n",
       "    </tr>\n",
       "    <tr>\n",
       "      <th>2</th>\n",
       "      <td>8</td>\n",
       "      <td>24</td>\n",
       "      <td>132</td>\n",
       "      <td>cash</td>\n",
       "      <td>280000000</td>\n",
       "      <td>2007</td>\n",
       "      <td>дорогие покупки</td>\n",
       "    </tr>\n",
       "    <tr>\n",
       "      <th>3</th>\n",
       "      <td>9</td>\n",
       "      <td>59</td>\n",
       "      <td>155</td>\n",
       "      <td>cash</td>\n",
       "      <td>100000000</td>\n",
       "      <td>2007</td>\n",
       "      <td>дорогие покупки</td>\n",
       "    </tr>\n",
       "    <tr>\n",
       "      <th>4</th>\n",
       "      <td>10</td>\n",
       "      <td>212</td>\n",
       "      <td>215</td>\n",
       "      <td>cash</td>\n",
       "      <td>25000000</td>\n",
       "      <td>2007</td>\n",
       "      <td>дорогие покупки</td>\n",
       "    </tr>\n",
       "    <tr>\n",
       "      <th>...</th>\n",
       "      <td>...</td>\n",
       "      <td>...</td>\n",
       "      <td>...</td>\n",
       "      <td>...</td>\n",
       "      <td>...</td>\n",
       "      <td>...</td>\n",
       "      <td>...</td>\n",
       "    </tr>\n",
       "    <tr>\n",
       "      <th>9400</th>\n",
       "      <td>10523</td>\n",
       "      <td>285968</td>\n",
       "      <td>285969</td>\n",
       "      <td>cash</td>\n",
       "      <td>2500000000</td>\n",
       "      <td>2013</td>\n",
       "      <td>дорогие покупки</td>\n",
       "    </tr>\n",
       "    <tr>\n",
       "      <th>9402</th>\n",
       "      <td>10525</td>\n",
       "      <td>267859</td>\n",
       "      <td>285995</td>\n",
       "      <td>stock</td>\n",
       "      <td>222000000</td>\n",
       "      <td>2013</td>\n",
       "      <td>дорогие покупки</td>\n",
       "    </tr>\n",
       "    <tr>\n",
       "      <th>9404</th>\n",
       "      <td>10527</td>\n",
       "      <td>223792</td>\n",
       "      <td>220208</td>\n",
       "      <td>NaN</td>\n",
       "      <td>26000000000</td>\n",
       "      <td>2007</td>\n",
       "      <td>дорогие покупки</td>\n",
       "    </tr>\n",
       "    <tr>\n",
       "      <th>9405</th>\n",
       "      <td>10528</td>\n",
       "      <td>227620</td>\n",
       "      <td>286176</td>\n",
       "      <td>cash</td>\n",
       "      <td>52400000</td>\n",
       "      <td>2013</td>\n",
       "      <td>дорогие покупки</td>\n",
       "    </tr>\n",
       "    <tr>\n",
       "      <th>9406</th>\n",
       "      <td>10529</td>\n",
       "      <td>53</td>\n",
       "      <td>92846</td>\n",
       "      <td>NaN</td>\n",
       "      <td>42600000</td>\n",
       "      <td>2013</td>\n",
       "      <td>дорогие покупки</td>\n",
       "    </tr>\n",
       "  </tbody>\n",
       "</table>\n",
       "<p>2338 rows × 7 columns</p>\n",
       "</div>"
      ],
      "text/plain": [
       "      acq_id  acquiring_company_id  acquired_company_id term_code  \\\n",
       "0          1                    11                   10       NaN   \n",
       "1          7                    59                   72      cash   \n",
       "2          8                    24                  132      cash   \n",
       "3          9                    59                  155      cash   \n",
       "4         10                   212                  215      cash   \n",
       "...      ...                   ...                  ...       ...   \n",
       "9400   10523                285968               285969      cash   \n",
       "9402   10525                267859               285995     stock   \n",
       "9404   10527                223792               220208       NaN   \n",
       "9405   10528                227620               286176      cash   \n",
       "9406   10529                    53                92846       NaN   \n",
       "\n",
       "      price_amount acquired_at        cat_price  \n",
       "0         20000000        2007  дорогие покупки  \n",
       "1         60000000        2007  дорогие покупки  \n",
       "2        280000000        2007  дорогие покупки  \n",
       "3        100000000        2007  дорогие покупки  \n",
       "4         25000000        2007  дорогие покупки  \n",
       "...            ...         ...              ...  \n",
       "9400    2500000000        2013  дорогие покупки  \n",
       "9402     222000000        2013  дорогие покупки  \n",
       "9404   26000000000        2007  дорогие покупки  \n",
       "9405      52400000        2013  дорогие покупки  \n",
       "9406      42600000        2013  дорогие покупки  \n",
       "\n",
       "[2338 rows x 7 columns]"
      ]
     },
     "execution_count": 104,
     "metadata": {},
     "output_type": "execute_result"
    }
   ],
   "source": [
    "cat_exp_price = aquisition[aquisition['cat_price']=='дорогие покупки']\n",
    "cat_exp_price.drop_duplicates()"
   ]
  },
  {
   "cell_type": "code",
   "execution_count": 105,
   "metadata": {},
   "outputs": [
    {
     "data": {
      "image/png": "[encoded data removed]",
      "text/plain": [
       "<Figure size 864x576 with 1 Axes>"
      ]
     },
     "metadata": {
      "needs_background": "light"
     },
     "output_type": "display_data"
    }
   ],
   "source": [
    "plt.figure(figsize=(12,8))\n",
    "sns.histplot(data=cat_exp_price,\n",
    "             x='price_amount',\n",
    "             bins=20,\n",
    "             kde=True\n",
    ")\n",
    "plt.xlabel('Цена продажи (в миллиардах)')\n",
    "plt.ylabel('Количество значений')\n",
    "plt.title('Распределение цен')\n",
    "plt.show()"
   ]
  },
  {
   "cell_type": "markdown",
   "metadata": {},
   "source": [
    "в списке дорогих покупок всего 2338 записей, более 1750 из них находятся в пределах 1 миллиарда. так и поступим: оставим дорогие в пределах миллиарда и выделим очень дорогие (выше миллиарда)"
   ]
  },
  {
   "cell_type": "code",
   "execution_count": 106,
   "metadata": {},
   "outputs": [
    {
     "name": "stderr",
     "output_type": "stream",
     "text": [
      "/tmp/ipykernel_48/2022771245.py:1: SettingWithCopyWarning: \n",
      "A value is trying to be set on a copy of a slice from a DataFrame.\n",
      "Try using .loc[row_indexer,col_indexer] = value instead\n",
      "\n",
      "See the caveats in the documentation: https://pandas.pydata.org/pandas-docs/stable/user_guide/indexing.html#returning-a-view-versus-a-copy\n",
      "  aquisition['cat_price']=pd.cut(aquisition['price_amount'],\n"
     ]
    },
    {
     "data": {
      "text/plain": [
       "cat_price\n",
       "нулевые покупки          6912\n",
       "дешевые покупки           132\n",
       "дорогие покупки          2123\n",
       "очень дорогие покупки     215\n",
       "Name: acq_id, dtype: int64"
      ]
     },
     "execution_count": 106,
     "metadata": {},
     "output_type": "execute_result"
    }
   ],
   "source": [
    "aquisition['cat_price']=pd.cut(aquisition['price_amount'], \n",
    "                               bins=[0,2,50000,1000000000, 2600000000001], \n",
    "                               labels=['нулевые покупки','дешевые покупки','дорогие покупки', 'очень дорогие покупки'], \n",
    "                               right=False)\n",
    "aquisition.groupby('cat_price')['acq_id'].count()"
   ]
  },
  {
   "cell_type": "markdown",
   "metadata": {},
   "source": [
    "вывод:\n",
    "- был выделено 4 категории\n",
    "- в нулевые покупки входят цены 0 и 1, так как эти данные составляют большую часть, нужно их выделить. возможно эти данные пригодятся для дальнейших исследований\n",
    "- в дешевые покупки входит все остальное до 50000, так как боксплот считает 50000 максимальным значением для нормального распределения. в дальнейшем мы подтверждаем эту догадку и беждаемся в том, что 50000 долларов ничто по сравнению с миллиардами.\n",
    "- дорогие покупки разделены еще на 2 категории: дорогие и очень дорогие. в первую входят данные с наибольшей плотностью распределения (до миллиарда включительно), во вторую с неравномерным распределением (вплоть до 26 квадриллионов)"
   ]
  },
  {
   "cell_type": "markdown",
   "metadata": {},
   "source": [
    "<div class=\"alert alert-success\">\n",
    "<h2> Комментарий ревьюера v.3 <a class=\"tocSkip\"> </h2>\n",
    "\n",
    "<b>Все отлично!👍</b> Тут всё корректно - группы выделены, есть обоснование для выделенных групп."
   ]
  },
  {
   "cell_type": "markdown",
   "metadata": {
    "id": "ADOfyVY_rJg3"
   },
   "source": [
    "\n",
    "### 3.5. Сколько раундов продержится стартап перед покупкой\n",
    "\n",
    "* Необходимо проанализировать столбец `funding_rounds`. Исследуйте значения столбца. Заказчика интересует типичное значение количества раундов для каждого возможного статуса стартапа.\n",
    "\n",
    "* Постройте график, который отображает, сколько в среднем раундов финансирования проходило для стартапов из каждой группы. Сделайте выводы."
   ]
  },
  {
   "cell_type": "code",
   "execution_count": 107,
   "metadata": {
    "id": "hgXMPC4WrJg3"
   },
   "outputs": [
    {
     "data": {
      "image/png": "[encoded data removed]",
      "text/plain": [
       "<Figure size 864x576 with 1 Axes>"
      ]
     },
     "metadata": {
      "needs_background": "light"
     },
     "output_type": "display_data"
    }
   ],
   "source": [
    "plt.figure(figsize=(12,8))\n",
    "sns.histplot(data=car1,\n",
    "             x='funding_rounds',\n",
    "             bins=20,\n",
    "           )\n",
    "plt.xlabel('Количество раундов')\n",
    "plt.ylabel('Количество значений')\n",
    "plt.title('Распределение раундов')\n",
    "plt.show()"
   ]
  },
  {
   "cell_type": "code",
   "execution_count": 108,
   "metadata": {
    "scrolled": true
   },
   "outputs": [
    {
     "data": {
      "text/html": [
       "<div>\n",
       "<style scoped>\n",
       "    .dataframe tbody tr th:only-of-type {\n",
       "        vertical-align: middle;\n",
       "    }\n",
       "\n",
       "    .dataframe tbody tr th {\n",
       "        vertical-align: top;\n",
       "    }\n",
       "\n",
       "    .dataframe thead th {\n",
       "        text-align: right;\n",
       "    }\n",
       "</style>\n",
       "<table border=\"1\" class=\"dataframe\">\n",
       "  <thead>\n",
       "    <tr style=\"text-align: right;\">\n",
       "      <th></th>\n",
       "      <th>status</th>\n",
       "      <th>min_funding</th>\n",
       "      <th>median_funding</th>\n",
       "      <th>mean_funding</th>\n",
       "      <th>max_funding</th>\n",
       "      <th>90_perc_funding</th>\n",
       "      <th>99_perc_funding</th>\n",
       "    </tr>\n",
       "  </thead>\n",
       "  <tbody>\n",
       "    <tr>\n",
       "      <th>0</th>\n",
       "      <td>acquired</td>\n",
       "      <td>0.00</td>\n",
       "      <td>0.00</td>\n",
       "      <td>0.52</td>\n",
       "      <td>12.00</td>\n",
       "      <td>1.00</td>\n",
       "      <td>4.00</td>\n",
       "    </tr>\n",
       "    <tr>\n",
       "      <th>1</th>\n",
       "      <td>closed</td>\n",
       "      <td>0.00</td>\n",
       "      <td>1.00</td>\n",
       "      <td>1.12</td>\n",
       "      <td>8.00</td>\n",
       "      <td>1.00</td>\n",
       "      <td>4.00</td>\n",
       "    </tr>\n",
       "    <tr>\n",
       "      <th>2</th>\n",
       "      <td>ipo</td>\n",
       "      <td>0.00</td>\n",
       "      <td>0.00</td>\n",
       "      <td>1.09</td>\n",
       "      <td>13.00</td>\n",
       "      <td>1.00</td>\n",
       "      <td>4.00</td>\n",
       "    </tr>\n",
       "    <tr>\n",
       "      <th>3</th>\n",
       "      <td>operating</td>\n",
       "      <td>0.00</td>\n",
       "      <td>0.00</td>\n",
       "      <td>0.24</td>\n",
       "      <td>15.00</td>\n",
       "      <td>1.00</td>\n",
       "      <td>4.00</td>\n",
       "    </tr>\n",
       "  </tbody>\n",
       "</table>\n",
       "</div>"
      ],
      "text/plain": [
       "      status  min_funding  median_funding  mean_funding  max_funding  \\\n",
       "0   acquired         0.00            0.00          0.52        12.00   \n",
       "1     closed         0.00            1.00          1.12         8.00   \n",
       "2        ipo         0.00            0.00          1.09        13.00   \n",
       "3  operating         0.00            0.00          0.24        15.00   \n",
       "\n",
       "   90_perc_funding  99_perc_funding  \n",
       "0             1.00             4.00  \n",
       "1             1.00             4.00  \n",
       "2             1.00             4.00  \n",
       "3             1.00             4.00  "
      ]
     },
     "execution_count": 108,
     "metadata": {},
     "output_type": "execute_result"
    }
   ],
   "source": [
    "stats_car1= car1.groupby('status').agg(\n",
    "    min_funding = ('funding_rounds', 'min'),\n",
    "    median_funding = ('funding_rounds', 'median'),\n",
    "    mean_funding = ('funding_rounds', 'mean'),\n",
    "    max_funding = ('funding_rounds', 'max'))\n",
    "stats_car1['90_perc_funding']= car1['funding_rounds'].quantile(0.9)\n",
    "stats_car1['99_perc_funding']= car1['funding_rounds'].quantile(0.99)\n",
    "stats_car1=stats_car1.reset_index()\n",
    "stats_car1"
   ]
  },
  {
   "cell_type": "code",
   "execution_count": 116,
   "metadata": {},
   "outputs": [
    {
     "data": {
      "image/png": "[encoded data removed]",
      "text/plain": [
       "<Figure size 720x432 with 1 Axes>"
      ]
     },
     "metadata": {
      "needs_background": "light"
     },
     "output_type": "display_data"
    }
   ],
   "source": [
    "plt.figure(figsize=(10, 6))\n",
    "sns.barplot(x='status', y='median_funding', data=stats_car1)\n",
    "plt.xlabel('Типы статусов')\n",
    "plt.ylabel('Медианное количество раундов')\n",
    "plt.title('Типичное количество раундов для каждого статуса')\n",
    "plt.show()"
   ]
  },
  {
   "cell_type": "markdown",
   "metadata": {},
   "source": [
    "<div class=\"alert alert-block alert-danger\">\n",
    "<h2> Комментарий ревьюера v.3 <a class=\"tocSkip\"></h2>\n",
    "\n",
    "    \n",
    "<b>На доработку❌:</b> Нужно подписать название."
   ]
  },
  {
   "cell_type": "markdown",
   "metadata": {},
   "source": [
    "<div class=\"alert alert-info\">\n",
    "<h2> Комментарий студента <a class=\"tocSkip\"> </h2>\n",
    "\n",
    "исправлено\n",
    "</div>"
   ]
  },
  {
   "cell_type": "markdown",
   "metadata": {},
   "source": [
    "<div class=\"alert alert-success\">\n",
    "<h2> Комментарий ревьюера v.4 <a class=\"tocSkip\"> </h2>\n",
    "\n",
    "<b>Все отлично!👍</b> Учтено."
   ]
  },
  {
   "cell_type": "markdown",
   "metadata": {},
   "source": [
    "вывод:\n",
    "- было изучено несколько основных статистик по каждому типу статуса: минимум и максимум раундов, среднее, медиана, 90 и 99 процентили\n",
    "- для всех типов в 90 процентов информации лежит значения от 0 до 1, в 99 процентах от 0 до 4\n",
    "- как показательную статистику было решено взять медиану. для статусов \"приобритен\", \"первичное публичное размещение\" и \"в процессе\" типичными значениями является 0 раундов\n",
    "- только для статуса \"закрыт\" типичное значение 1\n",
    "- эти показатели наводят на мысль, что для успеха стартапа совсем необязательно финансирование. до покупки стартапа крупной компанией в 90% случаев стартап проживает свой путь становление без поддержки третьих лиц"
   ]
  },
  {
   "cell_type": "markdown",
   "metadata": {},
   "source": [
    "<div class=\"alert alert-warning\">\n",
    "    <h2> Комментарий ревьюера v.3 <a class=\"tocSkip\"> </h2>\n",
    "    \n",
    "<b>Некоторые замечания и рекомендации⚠️:</b> Тут в целом всё верно, но обрати внимание, что не все купленные компании получали финансирование - правильнее было бы удалить нули из `funding_rounds`."
   ]
  },
  {
   "cell_type": "markdown",
   "metadata": {
    "id": "VAFEZ2HBrJg3"
   },
   "source": [
    "\n",
    "## Шаг 4. Итоговый вывод и рекомендации\n",
    "\n",
    "Опишите, что было сделано в проекте, какие были сделаны выводы, подкрепляют ли они друг друга или заставляют сомневаться в полученных результатах."
   ]
  },
  {
   "cell_type": "markdown",
   "metadata": {},
   "source": [
    "в ходе работы над проектом была проведена предобработка данных:\n",
    "- удаление дубликатов\n",
    "- оптимизация данных\n",
    "- нормализация данных\n",
    "- удаление пропусков\n",
    "- категоризация\n",
    "некоторые выводы:\n",
    "- после 2002 года с каждым годом количество раундов финансирования увеличивается\n",
    "- пик суммы финансирования приходится на 2005 год, но далее суммарное количество уменьшается\n",
    "- отсюда делаем вывод, что после 2005 года увеличивалось количество раундов с уменьшением сумм для вложения. каждый раунд становился в разы дешевее\n",
    "- однако видим небольшой рост общей суммы финансирования в 2013 году\n",
    "- после небольшого анализа видим, что информация об образовании достаточно полна, если судить количество данных по названию институтов. можно предположить, что данные о годе выпуска отсутсвуют, так как человек еще не закончил обучение либо информация отсутсвует\n",
    "- также отметим тот факт, что некотрые сотрудники имеют несколько образований, важно учитывать этот факт.\n",
    "- после анализа обеих таблиц можно увидеть, что в таблице people мы сталкиваемся с отсутвием данных о принадлежности сотрудника к определенной компании в 85% случаев. это огромное количество пропусков, которое осложняет анализ, но ничего не остается, как работать с имеющимся сетом данных\n",
    "- в таблице с информацией об образовании нет еще половины информации об образовании\n",
    "- отсюда возникает повторный вопрос: нужно ли еще присоединить таблицу degrees? с одной стороны, это помогло бы решить проблему предыдущего пункта. с другой стороны, это  добавит проблему обработки пропусков и дубликатов, тем самым осложнит анализ или даже исказит имеющиеся данные. считаю целесообразным использовать только таблицу education основной при вычислении наличия образования, так как в ней находится главный фактор наличия образования при сложившихся обстоятельствах (название вуза)\n",
    "- при категоризации компаний по количеству сотрудников были выбраны следущие границы: до 30 сотрудников - мало сотрудников, 31-200 сотрудников - средне сотрудников, 201-400 сотрудников - много сотрудников. границы были выбраны таким образом, так как после анализа уникального количества сотрудников мы не видим большой вариативности данных, а при данном ранжировании количество уникальных значений примерно одинаковое и логичное.\n",
    "- также здесь очевидно, что для для маленьких компаний нет около 54% данных об образовании для сотрудников, в средних и больших для 80%.\n",
    "- из-за большого отсутсвия данных считаю, что неправильно выделять группу самозанятых/основателей, партнеров и т.п., так как в 80% пропусков может находиться информация о принадлежности сотрудника к компании."
   ]
  },
  {
   "cell_type": "markdown",
   "metadata": {},
   "source": [
    "после предобработки было проведено исследование и анализ данных:\n",
    "- мы проанализировали распределение данных о размере финансирования. увидели, что очень много выбросов и нулевого финансирования. делаем из этого вывод, что информации по стартапам в начале их существовании либо мало, либо она теряется. тут же можно отметить, что размер финансирования зависит от известности, возраста и успешности стартапа. некоторые статистики по финансированию стартапов (межквартильный размах примерно 600 тысяч, медиана менее 100 тысяч (примерно 50 тысяч), минимальноезначение 0, максимальное значение чуть более 1,4 миллионов. отсюда вывод, что реальное распределение данных находится до 1,4 миллионами. все остальное, что выходит за верхнюю границу - нетипичные значения)\n",
    "- далее мы столкнулись с интересной проблемой: стартап был профинансирован, но куплен за 0 или 1 доллар. причин для такой аномальности данных может быть уйма, но нам важно найти адекватность. так как в таблице много пропусков, будем доверять здравому смыслу. основные статистики по финансированию бесплатных стартапов: минимум 3750, максимум 3,5 миллиона, медиана чуть больше 500 тысяч, нижний квартиль около 200 тысяч, верхний квартиль чуть больше полутора миллионов. теперь распределение финансирования адекватное, заказчик может на него опираться. так же считаю важным заметить, что данные были утеряны, потому что стартапы с таким внушительным финансированием не могли быть проданы бесплатно. либо же финансирование было проведено после дарения стартапа крупному бренду.\n",
    "- произвели категоризацию по цене поупки стартапаю был выделено 4 категории. в нулевые покупки входят цены 0 и 1, так как эти данные составляют большую часть, нужно их выделить. возможно эти данные пригодятся для дальнейших исследований. в дешевые покупки входит все остальное до 50000, так как боксплот считает 50000 максимальным значением для нормального распределения. в дальнейшем мы подтверждаем эту догадку и беждаемся в том, что 50000 долларов ничто по сравнению с миллиардами. дорогие покупки разделены еще на 2 категории: дорогие и очень дорогие. в первую входят данные с наибольшей плотностью распределения (до миллиарда включительно), во вторую с неравномерным распределением (вплоть до 26 квадриллионов)\n",
    "- изучили количество раундов финансирования до покупки. сделали вывод, что обычно перед покупкой стартапам вовсе не нужно финансирование.\n",
    "- было изучено несколько основных статистик по каждому типу статуса: минимум и максимум раундов, среднее, медиана, 90 и 99 процентили\n",
    "- для всех типов в 90 процентов информации лежит значения от 0 до 1, в 99 процентах от 0 до 4\n",
    "- как показательную статистику было решено взять медиану. для статусов \"приобритен\", \"первичное публичное размещение\" и \"в процессе\" типичными значениями является 0 раундов\n",
    "- только для статуса \"закрыт\" типичное значение 1\n",
    "- эти показатели наводят на мысль, что для успеха стартапа совсем необязательно финансирование. до покупки стартапа крупной компанией в 90% случаев стартап проживает свой путь становление без поддержки третьих лиц"
   ]
  },
  {
   "cell_type": "markdown",
   "metadata": {},
   "source": [
    "###### основной вывод:\n",
    "считаю, что данные не противоречащие. по моим наблюдениям, обычно стартап покупают на начальных этапах, обходятся без предварительного финансирования либо минимальным финансированием. финансирование и инвестирование в стартап происходит далее уже происходит в рамках крупной компании, которая его приобрела. если стартап сначала финансируется, то происходит не больше 8 раундов финансирования перед его закрытием (если стартап провальный). если стартап имеет шанс выживания, то ему не нужно огромное финансирование на начальных этапах"
   ]
  },
  {
   "cell_type": "markdown",
   "metadata": {},
   "source": [
    "<div class=\"alert alert-success\">\n",
    "<h2> Комментарий ревьюера v.3 <a class=\"tocSkip\"> </h2>\n",
    "\n",
    "<b>Все отлично!👍</b> По итоговому выводу всё отлично - хорошее завершение уверенной аналитической работы."
   ]
  },
  {
   "cell_type": "markdown",
   "metadata": {},
   "source": [
    "<div style=\"border:solid Chocolate 2px; padding: 40px\">\n",
    "\n",
    "# Комментарий ревьюера: общий вывод по второй части проекта.\n",
    "\n",
    "Ангелина, со второй частью проекта также удалось справиться отлично: работа с данными выполнена корректно, визуализации позволяют отвечать на вопросы проекта.\n",
    "    \n",
    "Нужно внести пару корректировок, и проект будет принят.\n",
    "    \n",
    "Жду тебя на финальном ревью:)"
   ]
  },
  {
   "cell_type": "markdown",
   "metadata": {},
   "source": [
    "<div style=\"border:solid Chocolate 2px; padding: 40px\">\n",
    "\n",
    "# Комментарий ревьюера: итоговый вывод по проекту.\n",
    "\n",
    "Ангелина, все замечания учтены - проект принят!\n",
    "    \n",
    "Спасибо за хорошую работу над проектом, желаю успехов в дальнейшем обучении:)"
   ]
  }
 ],
 "metadata": {
  "ExecuteTimeLog": [
   {
    "duration": 375,
    "start_time": "2024-12-30T14:36:43.274Z"
   },
   {
    "duration": 1021,
    "start_time": "2024-12-30T14:36:43.651Z"
   },
   {
    "duration": 3501,
    "start_time": "2024-12-30T14:36:44.674Z"
   },
   {
    "duration": 2360,
    "start_time": "2024-12-30T14:36:48.177Z"
   },
   {
    "duration": 117,
    "start_time": "2024-12-30T14:36:50.539Z"
   },
   {
    "duration": 64,
    "start_time": "2024-12-30T14:38:31.498Z"
   },
   {
    "duration": 9,
    "start_time": "2024-12-30T14:38:51.667Z"
   },
   {
    "duration": 12,
    "start_time": "2024-12-30T14:39:03.065Z"
   },
   {
    "duration": 205,
    "start_time": "2024-12-30T14:42:38.906Z"
   },
   {
    "duration": 91,
    "start_time": "2024-12-30T14:43:39.632Z"
   },
   {
    "duration": 80,
    "start_time": "2024-12-30T14:43:46.758Z"
   },
   {
    "duration": 112,
    "start_time": "2024-12-30T14:43:54.193Z"
   },
   {
    "duration": 212,
    "start_time": "2024-12-30T14:44:30.020Z"
   },
   {
    "duration": 244,
    "start_time": "2024-12-30T14:45:08.242Z"
   },
   {
    "duration": 23,
    "start_time": "2024-12-30T14:46:11.655Z"
   },
   {
    "duration": 1406,
    "start_time": "2024-12-30T14:46:34.525Z"
   },
   {
    "duration": 1447,
    "start_time": "2024-12-30T14:47:03.939Z"
   },
   {
    "duration": 116,
    "start_time": "2024-12-30T14:47:30.482Z"
   },
   {
    "duration": 1436,
    "start_time": "2024-12-30T14:48:12.398Z"
   },
   {
    "duration": 1324,
    "start_time": "2024-12-30T14:48:42.041Z"
   },
   {
    "duration": 5129,
    "start_time": "2024-12-30T14:50:56.164Z"
   },
   {
    "duration": 3,
    "start_time": "2024-12-30T14:51:48.373Z"
   },
   {
    "duration": 27,
    "start_time": "2024-12-30T14:52:07.892Z"
   },
   {
    "duration": 197,
    "start_time": "2024-12-30T14:52:34.312Z"
   },
   {
    "duration": 192,
    "start_time": "2024-12-30T14:54:55.661Z"
   },
   {
    "duration": 196,
    "start_time": "2024-12-30T14:55:16.978Z"
   },
   {
    "duration": 20,
    "start_time": "2024-12-30T14:56:16.854Z"
   },
   {
    "duration": 90,
    "start_time": "2024-12-30T14:57:45.760Z"
   },
   {
    "duration": 90,
    "start_time": "2024-12-30T14:57:57.066Z"
   },
   {
    "duration": 86,
    "start_time": "2024-12-30T14:58:04.091Z"
   },
   {
    "duration": 300,
    "start_time": "2024-12-30T14:59:59.694Z"
   },
   {
    "duration": 22,
    "start_time": "2024-12-30T15:01:15.747Z"
   },
   {
    "duration": 20,
    "start_time": "2024-12-30T15:01:31.001Z"
   },
   {
    "duration": 9,
    "start_time": "2024-12-30T15:02:41.023Z"
   },
   {
    "duration": 21,
    "start_time": "2024-12-30T15:04:13.682Z"
   },
   {
    "duration": 200,
    "start_time": "2024-12-30T15:04:26.337Z"
   },
   {
    "duration": 229,
    "start_time": "2024-12-30T15:18:26.889Z"
   },
   {
    "duration": 190,
    "start_time": "2024-12-30T15:18:43.554Z"
   },
   {
    "duration": 50,
    "start_time": "2024-12-30T17:38:27.088Z"
   },
   {
    "duration": 459,
    "start_time": "2024-12-30T17:38:37.394Z"
   },
   {
    "duration": 1012,
    "start_time": "2024-12-30T17:38:37.855Z"
   },
   {
    "duration": 4078,
    "start_time": "2024-12-30T17:38:38.869Z"
   },
   {
    "duration": 2332,
    "start_time": "2024-12-30T17:43:22.147Z"
   },
   {
    "duration": 224,
    "start_time": "2024-12-30T17:43:29.318Z"
   },
   {
    "duration": 9,
    "start_time": "2024-12-30T17:43:32.572Z"
   },
   {
    "duration": 31,
    "start_time": "2024-12-30T17:43:39.400Z"
   },
   {
    "duration": 12,
    "start_time": "2024-12-30T17:44:17.551Z"
   },
   {
    "duration": 13,
    "start_time": "2024-12-30T17:44:49.716Z"
   },
   {
    "duration": 13,
    "start_time": "2024-12-30T17:45:17.200Z"
   },
   {
    "duration": 8,
    "start_time": "2024-12-30T17:46:05.968Z"
   },
   {
    "duration": 12,
    "start_time": "2024-12-30T17:46:32.385Z"
   },
   {
    "duration": 188,
    "start_time": "2024-12-30T17:55:58.065Z"
   },
   {
    "duration": 12,
    "start_time": "2024-12-30T18:04:21.561Z"
   },
   {
    "duration": 10,
    "start_time": "2024-12-30T18:04:38.660Z"
   },
   {
    "duration": 3,
    "start_time": "2024-12-30T18:18:07.507Z"
   },
   {
    "duration": 5,
    "start_time": "2024-12-30T18:19:04.373Z"
   },
   {
    "duration": 5,
    "start_time": "2024-12-30T18:19:16.304Z"
   },
   {
    "duration": 5,
    "start_time": "2024-12-30T18:19:34.428Z"
   },
   {
    "duration": 4,
    "start_time": "2024-12-30T18:19:50.949Z"
   },
   {
    "duration": 6,
    "start_time": "2024-12-30T18:20:28.873Z"
   },
   {
    "duration": 5,
    "start_time": "2024-12-30T18:20:42.480Z"
   },
   {
    "duration": 4,
    "start_time": "2024-12-30T18:21:05.183Z"
   },
   {
    "duration": 1384,
    "start_time": "2024-12-30T18:23:23.331Z"
   },
   {
    "duration": 8,
    "start_time": "2024-12-30T18:24:01.681Z"
   },
   {
    "duration": 9,
    "start_time": "2024-12-30T18:24:14.116Z"
   },
   {
    "duration": 4,
    "start_time": "2024-12-30T18:24:38.794Z"
   },
   {
    "duration": 9,
    "start_time": "2024-12-30T18:24:42.472Z"
   },
   {
    "duration": 15,
    "start_time": "2024-12-30T18:25:10.943Z"
   },
   {
    "duration": 21,
    "start_time": "2024-12-30T18:25:47.593Z"
   },
   {
    "duration": 28,
    "start_time": "2024-12-30T18:26:21.519Z"
   },
   {
    "duration": 16,
    "start_time": "2024-12-30T18:27:28.530Z"
   },
   {
    "duration": 4,
    "start_time": "2024-12-30T18:27:37.807Z"
   },
   {
    "duration": 34,
    "start_time": "2024-12-30T18:28:37.370Z"
   },
   {
    "duration": 4,
    "start_time": "2024-12-30T18:28:41.623Z"
   },
   {
    "duration": 4,
    "start_time": "2024-12-30T18:28:42.765Z"
   },
   {
    "duration": 6,
    "start_time": "2024-12-30T18:28:46.370Z"
   },
   {
    "duration": 16,
    "start_time": "2024-12-30T18:31:16.827Z"
   },
   {
    "duration": 3,
    "start_time": "2024-12-30T18:31:22.261Z"
   },
   {
    "duration": 56,
    "start_time": "2025-01-02T16:19:39.995Z"
   },
   {
    "duration": 392,
    "start_time": "2025-01-02T16:19:51.154Z"
   },
   {
    "duration": 968,
    "start_time": "2025-01-02T16:19:51.548Z"
   },
   {
    "duration": 3526,
    "start_time": "2025-01-02T16:19:52.521Z"
   },
   {
    "duration": 2292,
    "start_time": "2025-01-02T16:19:56.050Z"
   },
   {
    "duration": 179,
    "start_time": "2025-01-02T16:19:58.344Z"
   },
   {
    "duration": 13,
    "start_time": "2025-01-02T16:19:58.525Z"
   },
   {
    "duration": 10,
    "start_time": "2025-01-02T16:19:58.539Z"
   },
   {
    "duration": 26,
    "start_time": "2025-01-02T16:19:58.550Z"
   },
   {
    "duration": 8,
    "start_time": "2025-01-02T16:19:58.578Z"
   },
   {
    "duration": 8,
    "start_time": "2025-01-02T16:19:58.589Z"
   },
   {
    "duration": 36,
    "start_time": "2025-01-02T16:19:58.598Z"
   },
   {
    "duration": 15,
    "start_time": "2025-01-02T16:19:58.637Z"
   },
   {
    "duration": 140,
    "start_time": "2025-01-02T16:19:58.654Z"
   },
   {
    "duration": 0,
    "start_time": "2025-01-02T16:19:58.796Z"
   },
   {
    "duration": 11,
    "start_time": "2025-01-02T16:20:48.853Z"
   },
   {
    "duration": 75,
    "start_time": "2025-01-02T16:22:10.235Z"
   },
   {
    "duration": 74,
    "start_time": "2025-01-02T16:22:46.434Z"
   },
   {
    "duration": 59,
    "start_time": "2025-01-02T16:23:06.738Z"
   },
   {
    "duration": 59,
    "start_time": "2025-01-02T16:24:06.654Z"
   },
   {
    "duration": 55,
    "start_time": "2025-01-02T16:24:31.644Z"
   },
   {
    "duration": 10,
    "start_time": "2025-01-02T16:29:29.138Z"
   },
   {
    "duration": 10,
    "start_time": "2025-01-02T16:29:41.503Z"
   },
   {
    "duration": 33,
    "start_time": "2025-01-02T16:30:08.842Z"
   },
   {
    "duration": 41,
    "start_time": "2025-01-02T16:30:19.229Z"
   },
   {
    "duration": 13,
    "start_time": "2025-01-02T16:30:48.092Z"
   },
   {
    "duration": 4,
    "start_time": "2025-01-02T16:30:54.342Z"
   },
   {
    "duration": 1209,
    "start_time": "2025-01-02T16:31:09.739Z"
   },
   {
    "duration": 413,
    "start_time": "2025-01-02T16:31:32.744Z"
   },
   {
    "duration": 782,
    "start_time": "2025-01-02T16:31:33.159Z"
   },
   {
    "duration": 2463,
    "start_time": "2025-01-02T16:31:33.943Z"
   },
   {
    "duration": 2403,
    "start_time": "2025-01-02T16:31:36.407Z"
   },
   {
    "duration": 189,
    "start_time": "2025-01-02T16:31:38.813Z"
   },
   {
    "duration": 17,
    "start_time": "2025-01-02T16:31:39.005Z"
   },
   {
    "duration": 5,
    "start_time": "2025-01-02T16:31:39.024Z"
   },
   {
    "duration": 40,
    "start_time": "2025-01-02T16:31:39.030Z"
   },
   {
    "duration": 9,
    "start_time": "2025-01-02T16:31:39.071Z"
   },
   {
    "duration": 13,
    "start_time": "2025-01-02T16:31:39.082Z"
   },
   {
    "duration": 25,
    "start_time": "2025-01-02T16:31:39.097Z"
   },
   {
    "duration": 83,
    "start_time": "2025-01-02T16:31:39.123Z"
   },
   {
    "duration": 8,
    "start_time": "2025-01-02T16:31:39.207Z"
   },
   {
    "duration": 36,
    "start_time": "2025-01-02T16:31:39.221Z"
   },
   {
    "duration": 10,
    "start_time": "2025-01-02T16:31:39.259Z"
   },
   {
    "duration": 123,
    "start_time": "2025-01-02T16:37:13.469Z"
   },
   {
    "duration": 28,
    "start_time": "2025-01-02T16:38:36.419Z"
   },
   {
    "duration": 26,
    "start_time": "2025-01-02T16:38:53.306Z"
   },
   {
    "duration": 15,
    "start_time": "2025-01-02T16:40:20.533Z"
   },
   {
    "duration": 41,
    "start_time": "2025-01-02T16:40:41.840Z"
   },
   {
    "duration": 194,
    "start_time": "2025-01-02T16:41:40.278Z"
   },
   {
    "duration": 23,
    "start_time": "2025-01-02T16:51:22.454Z"
   },
   {
    "duration": 23,
    "start_time": "2025-01-02T16:51:45.185Z"
   },
   {
    "duration": 24,
    "start_time": "2025-01-02T16:52:22.727Z"
   },
   {
    "duration": 246,
    "start_time": "2025-01-02T16:52:49.928Z"
   },
   {
    "duration": 127,
    "start_time": "2025-01-02T16:53:21.942Z"
   },
   {
    "duration": 222,
    "start_time": "2025-01-02T16:55:19.722Z"
   },
   {
    "duration": 26,
    "start_time": "2025-01-02T17:03:43.838Z"
   },
   {
    "duration": 223,
    "start_time": "2025-01-02T17:04:06.455Z"
   },
   {
    "duration": 214,
    "start_time": "2025-01-02T17:05:30.133Z"
   },
   {
    "duration": 7,
    "start_time": "2025-01-02T17:05:53.336Z"
   },
   {
    "duration": 18,
    "start_time": "2025-01-02T17:14:58.619Z"
   },
   {
    "duration": 39,
    "start_time": "2025-01-02T17:15:15.483Z"
   },
   {
    "duration": 17,
    "start_time": "2025-01-02T17:17:08.173Z"
   },
   {
    "duration": 85,
    "start_time": "2025-01-02T17:17:15.887Z"
   },
   {
    "duration": 1438,
    "start_time": "2025-01-02T17:27:18.295Z"
   },
   {
    "duration": 1423,
    "start_time": "2025-01-02T17:27:36.278Z"
   },
   {
    "duration": 8,
    "start_time": "2025-01-02T17:27:46.400Z"
   },
   {
    "duration": 1318,
    "start_time": "2025-01-02T17:27:48.854Z"
   },
   {
    "duration": 382,
    "start_time": "2025-01-02T17:27:56.746Z"
   },
   {
    "duration": 797,
    "start_time": "2025-01-02T17:27:57.130Z"
   },
   {
    "duration": 2512,
    "start_time": "2025-01-02T17:27:57.928Z"
   },
   {
    "duration": 2394,
    "start_time": "2025-01-02T17:28:00.443Z"
   },
   {
    "duration": 195,
    "start_time": "2025-01-02T17:28:02.838Z"
   },
   {
    "duration": 13,
    "start_time": "2025-01-02T17:28:03.035Z"
   },
   {
    "duration": 74,
    "start_time": "2025-01-02T17:28:03.050Z"
   },
   {
    "duration": 43,
    "start_time": "2025-01-02T17:28:03.126Z"
   },
   {
    "duration": 26,
    "start_time": "2025-01-02T17:28:03.172Z"
   },
   {
    "duration": 34,
    "start_time": "2025-01-02T17:28:03.201Z"
   },
   {
    "duration": 32,
    "start_time": "2025-01-02T17:28:03.236Z"
   },
   {
    "duration": 197,
    "start_time": "2025-01-02T17:28:03.269Z"
   },
   {
    "duration": 0,
    "start_time": "2025-01-02T17:28:03.468Z"
   },
   {
    "duration": 0,
    "start_time": "2025-01-02T17:28:03.469Z"
   },
   {
    "duration": 0,
    "start_time": "2025-01-02T17:28:03.471Z"
   },
   {
    "duration": 0,
    "start_time": "2025-01-02T17:28:03.472Z"
   },
   {
    "duration": 1618,
    "start_time": "2025-01-02T17:28:52.199Z"
   },
   {
    "duration": 380,
    "start_time": "2025-01-02T17:33:47.866Z"
   },
   {
    "duration": 812,
    "start_time": "2025-01-02T17:33:48.248Z"
   },
   {
    "duration": 2497,
    "start_time": "2025-01-02T17:33:49.062Z"
   },
   {
    "duration": 2316,
    "start_time": "2025-01-02T17:33:51.561Z"
   },
   {
    "duration": 189,
    "start_time": "2025-01-02T17:33:53.879Z"
   },
   {
    "duration": 12,
    "start_time": "2025-01-02T17:33:54.070Z"
   },
   {
    "duration": 3,
    "start_time": "2025-01-02T17:33:54.083Z"
   },
   {
    "duration": 37,
    "start_time": "2025-01-02T17:33:54.088Z"
   },
   {
    "duration": 46,
    "start_time": "2025-01-02T17:33:54.126Z"
   },
   {
    "duration": 18,
    "start_time": "2025-01-02T17:33:54.175Z"
   },
   {
    "duration": 45,
    "start_time": "2025-01-02T17:33:54.195Z"
   },
   {
    "duration": 87,
    "start_time": "2025-01-02T17:33:54.242Z"
   },
   {
    "duration": 7,
    "start_time": "2025-01-02T17:33:54.331Z"
   },
   {
    "duration": 39,
    "start_time": "2025-01-02T17:33:54.339Z"
   },
   {
    "duration": 39,
    "start_time": "2025-01-02T17:33:54.380Z"
   },
   {
    "duration": 48,
    "start_time": "2025-01-02T17:33:54.420Z"
   },
   {
    "duration": 18,
    "start_time": "2025-01-02T17:34:59.018Z"
   },
   {
    "duration": 14,
    "start_time": "2025-01-02T17:35:13.200Z"
   },
   {
    "duration": 15,
    "start_time": "2025-01-02T17:35:23.200Z"
   },
   {
    "duration": 14,
    "start_time": "2025-01-02T17:35:34.138Z"
   },
   {
    "duration": 34,
    "start_time": "2025-01-02T17:40:31.532Z"
   },
   {
    "duration": 23,
    "start_time": "2025-01-02T17:41:23.976Z"
   },
   {
    "duration": 22,
    "start_time": "2025-01-02T17:41:56.853Z"
   },
   {
    "duration": 21,
    "start_time": "2025-01-02T17:42:28.796Z"
   },
   {
    "duration": 379,
    "start_time": "2025-01-02T17:42:44.955Z"
   },
   {
    "duration": 742,
    "start_time": "2025-01-02T17:42:45.336Z"
   },
   {
    "duration": 2408,
    "start_time": "2025-01-02T17:42:46.079Z"
   },
   {
    "duration": 2226,
    "start_time": "2025-01-02T17:42:48.489Z"
   },
   {
    "duration": 189,
    "start_time": "2025-01-02T17:42:50.717Z"
   },
   {
    "duration": 21,
    "start_time": "2025-01-02T17:42:50.907Z"
   },
   {
    "duration": 38,
    "start_time": "2025-01-02T17:42:50.930Z"
   },
   {
    "duration": 31,
    "start_time": "2025-01-02T17:42:50.970Z"
   },
   {
    "duration": 8,
    "start_time": "2025-01-02T17:42:51.003Z"
   },
   {
    "duration": 12,
    "start_time": "2025-01-02T17:42:51.014Z"
   },
   {
    "duration": 7,
    "start_time": "2025-01-02T17:42:51.028Z"
   },
   {
    "duration": 82,
    "start_time": "2025-01-02T17:42:51.037Z"
   },
   {
    "duration": 15,
    "start_time": "2025-01-02T17:42:51.121Z"
   },
   {
    "duration": 26,
    "start_time": "2025-01-02T17:42:51.138Z"
   },
   {
    "duration": 23,
    "start_time": "2025-01-02T17:42:51.166Z"
   },
   {
    "duration": 17,
    "start_time": "2025-01-02T17:42:51.191Z"
   },
   {
    "duration": 14,
    "start_time": "2025-01-02T17:42:51.210Z"
   },
   {
    "duration": 35,
    "start_time": "2025-01-02T17:42:51.225Z"
   },
   {
    "duration": 11,
    "start_time": "2025-01-02T17:43:30.488Z"
   },
   {
    "duration": 125,
    "start_time": "2025-01-02T17:49:02.026Z"
   },
   {
    "duration": 355,
    "start_time": "2025-01-02T17:49:09.998Z"
   },
   {
    "duration": 11,
    "start_time": "2025-01-02T17:50:20.326Z"
   },
   {
    "duration": 116,
    "start_time": "2025-01-02T17:50:53.742Z"
   },
   {
    "duration": 51,
    "start_time": "2025-01-02T17:51:15.203Z"
   },
   {
    "duration": 9,
    "start_time": "2025-01-02T17:52:16.054Z"
   },
   {
    "duration": 23,
    "start_time": "2025-01-02T17:52:38.112Z"
   },
   {
    "duration": 49,
    "start_time": "2025-01-02T20:17:07.350Z"
   },
   {
    "duration": 407,
    "start_time": "2025-01-02T20:17:18.960Z"
   },
   {
    "duration": 998,
    "start_time": "2025-01-02T20:17:19.369Z"
   },
   {
    "duration": 3684,
    "start_time": "2025-01-02T20:17:20.369Z"
   },
   {
    "duration": 2392,
    "start_time": "2025-01-02T20:17:24.056Z"
   },
   {
    "duration": 191,
    "start_time": "2025-01-02T20:17:26.451Z"
   },
   {
    "duration": 14,
    "start_time": "2025-01-02T20:17:26.649Z"
   },
   {
    "duration": 34,
    "start_time": "2025-01-02T20:17:26.665Z"
   },
   {
    "duration": 27,
    "start_time": "2025-01-02T20:17:26.701Z"
   },
   {
    "duration": 4,
    "start_time": "2025-01-02T20:17:26.729Z"
   },
   {
    "duration": 10,
    "start_time": "2025-01-02T20:17:26.734Z"
   },
   {
    "duration": 26,
    "start_time": "2025-01-02T20:17:26.745Z"
   },
   {
    "duration": 118,
    "start_time": "2025-01-02T20:17:26.773Z"
   },
   {
    "duration": 27,
    "start_time": "2025-01-02T20:17:26.893Z"
   },
   {
    "duration": 14,
    "start_time": "2025-01-02T20:17:26.924Z"
   },
   {
    "duration": 11,
    "start_time": "2025-01-02T20:17:26.949Z"
   },
   {
    "duration": 11,
    "start_time": "2025-01-02T20:17:26.961Z"
   },
   {
    "duration": 8,
    "start_time": "2025-01-02T20:17:26.974Z"
   },
   {
    "duration": 306,
    "start_time": "2025-01-02T20:17:26.983Z"
   },
   {
    "duration": 60,
    "start_time": "2025-01-02T20:17:27.290Z"
   },
   {
    "duration": 13,
    "start_time": "2025-01-02T20:17:27.352Z"
   },
   {
    "duration": 283,
    "start_time": "2025-01-02T20:18:01.677Z"
   },
   {
    "duration": 285,
    "start_time": "2025-01-02T20:18:12.550Z"
   },
   {
    "duration": 429,
    "start_time": "2025-01-02T20:18:38.720Z"
   },
   {
    "duration": 45,
    "start_time": "2025-01-02T20:18:45.728Z"
   },
   {
    "duration": 751,
    "start_time": "2025-01-02T20:24:30.749Z"
   },
   {
    "duration": 920,
    "start_time": "2025-01-02T20:24:42.767Z"
   },
   {
    "duration": 862,
    "start_time": "2025-01-02T20:25:27.325Z"
   },
   {
    "duration": 1025,
    "start_time": "2025-01-02T20:25:39.027Z"
   },
   {
    "duration": 267,
    "start_time": "2025-01-02T20:27:55.019Z"
   },
   {
    "duration": 143,
    "start_time": "2025-01-02T20:28:17.178Z"
   },
   {
    "duration": 150,
    "start_time": "2025-01-02T20:28:34.549Z"
   },
   {
    "duration": 359,
    "start_time": "2025-01-02T20:28:57.094Z"
   },
   {
    "duration": 147,
    "start_time": "2025-01-02T20:29:15.714Z"
   },
   {
    "duration": 23,
    "start_time": "2025-01-02T20:36:43.602Z"
   },
   {
    "duration": 33,
    "start_time": "2025-01-02T20:37:03.200Z"
   },
   {
    "duration": 32,
    "start_time": "2025-01-02T20:37:38.701Z"
   },
   {
    "duration": 491,
    "start_time": "2025-01-02T20:42:36.660Z"
   },
   {
    "duration": 26,
    "start_time": "2025-01-02T20:46:15.000Z"
   },
   {
    "duration": 35,
    "start_time": "2025-01-02T20:46:30.897Z"
   },
   {
    "duration": 25,
    "start_time": "2025-01-02T20:46:40.087Z"
   },
   {
    "duration": 788,
    "start_time": "2025-01-02T20:47:40.229Z"
   },
   {
    "duration": 1028,
    "start_time": "2025-01-02T20:48:30.197Z"
   },
   {
    "duration": 13,
    "start_time": "2025-01-02T20:58:44.997Z"
   },
   {
    "duration": 856,
    "start_time": "2025-01-02T20:58:55.828Z"
   },
   {
    "duration": 12,
    "start_time": "2025-01-02T21:00:18.118Z"
   },
   {
    "duration": 30,
    "start_time": "2025-01-02T21:00:37.322Z"
   },
   {
    "duration": 962,
    "start_time": "2025-01-02T21:00:42.687Z"
   },
   {
    "duration": 414,
    "start_time": "2025-01-02T21:02:01.457Z"
   },
   {
    "duration": 817,
    "start_time": "2025-01-02T21:02:01.873Z"
   },
   {
    "duration": 2662,
    "start_time": "2025-01-02T21:02:02.691Z"
   },
   {
    "duration": 2181,
    "start_time": "2025-01-02T21:02:05.356Z"
   },
   {
    "duration": 204,
    "start_time": "2025-01-02T21:02:07.545Z"
   },
   {
    "duration": 11,
    "start_time": "2025-01-02T21:02:07.752Z"
   },
   {
    "duration": 38,
    "start_time": "2025-01-02T21:02:07.765Z"
   },
   {
    "duration": 38,
    "start_time": "2025-01-02T21:02:07.805Z"
   },
   {
    "duration": 13,
    "start_time": "2025-01-02T21:02:07.845Z"
   },
   {
    "duration": 80,
    "start_time": "2025-01-02T21:02:07.860Z"
   },
   {
    "duration": 9,
    "start_time": "2025-01-02T21:02:07.953Z"
   },
   {
    "duration": 86,
    "start_time": "2025-01-02T21:02:07.965Z"
   },
   {
    "duration": 17,
    "start_time": "2025-01-02T21:02:08.053Z"
   },
   {
    "duration": 8,
    "start_time": "2025-01-02T21:02:08.071Z"
   },
   {
    "duration": 13,
    "start_time": "2025-01-02T21:02:08.081Z"
   },
   {
    "duration": 14,
    "start_time": "2025-01-02T21:02:08.096Z"
   },
   {
    "duration": 23,
    "start_time": "2025-01-02T21:02:08.111Z"
   },
   {
    "duration": 98,
    "start_time": "2025-01-02T21:02:08.136Z"
   },
   {
    "duration": 982,
    "start_time": "2025-01-02T21:02:08.237Z"
   },
   {
    "duration": 1036,
    "start_time": "2025-01-02T21:02:09.221Z"
   },
   {
    "duration": 5,
    "start_time": "2025-01-02T21:05:07.407Z"
   },
   {
    "duration": 8,
    "start_time": "2025-01-02T21:05:12.690Z"
   },
   {
    "duration": 89,
    "start_time": "2025-01-02T21:05:13.299Z"
   },
   {
    "duration": 938,
    "start_time": "2025-01-02T21:05:15.523Z"
   },
   {
    "duration": 1014,
    "start_time": "2025-01-02T21:05:16.484Z"
   },
   {
    "duration": 435,
    "start_time": "2025-01-02T21:05:39.424Z"
   },
   {
    "duration": 841,
    "start_time": "2025-01-02T21:05:39.861Z"
   },
   {
    "duration": 2724,
    "start_time": "2025-01-02T21:05:40.704Z"
   },
   {
    "duration": 2265,
    "start_time": "2025-01-02T21:05:43.430Z"
   },
   {
    "duration": 207,
    "start_time": "2025-01-02T21:05:45.696Z"
   },
   {
    "duration": 12,
    "start_time": "2025-01-02T21:05:45.905Z"
   },
   {
    "duration": 26,
    "start_time": "2025-01-02T21:05:45.918Z"
   },
   {
    "duration": 25,
    "start_time": "2025-01-02T21:05:45.950Z"
   },
   {
    "duration": 18,
    "start_time": "2025-01-02T21:05:45.977Z"
   },
   {
    "duration": 35,
    "start_time": "2025-01-02T21:05:45.998Z"
   },
   {
    "duration": 60,
    "start_time": "2025-01-02T21:05:46.035Z"
   },
   {
    "duration": 108,
    "start_time": "2025-01-02T21:05:46.096Z"
   },
   {
    "duration": 15,
    "start_time": "2025-01-02T21:05:46.206Z"
   },
   {
    "duration": 9,
    "start_time": "2025-01-02T21:05:46.222Z"
   },
   {
    "duration": 22,
    "start_time": "2025-01-02T21:05:46.232Z"
   },
   {
    "duration": 10,
    "start_time": "2025-01-02T21:05:46.256Z"
   },
   {
    "duration": 34,
    "start_time": "2025-01-02T21:05:46.268Z"
   },
   {
    "duration": 189,
    "start_time": "2025-01-02T21:05:46.304Z"
   },
   {
    "duration": 916,
    "start_time": "2025-01-02T21:05:46.495Z"
   },
   {
    "duration": 1436,
    "start_time": "2025-01-02T21:05:47.413Z"
   },
   {
    "duration": 126,
    "start_time": "2025-01-02T21:08:29.827Z"
   },
   {
    "duration": 14,
    "start_time": "2025-01-02T21:08:42.203Z"
   },
   {
    "duration": 14,
    "start_time": "2025-01-02T21:08:57.791Z"
   },
   {
    "duration": 896,
    "start_time": "2025-01-02T21:09:27.693Z"
   },
   {
    "duration": 20,
    "start_time": "2025-01-02T21:10:57.735Z"
   },
   {
    "duration": 7,
    "start_time": "2025-01-02T21:11:18.414Z"
   },
   {
    "duration": 10,
    "start_time": "2025-01-02T21:12:15.086Z"
   },
   {
    "duration": 11,
    "start_time": "2025-01-02T21:12:32.398Z"
   },
   {
    "duration": 991,
    "start_time": "2025-01-02T21:12:49.480Z"
   },
   {
    "duration": 903,
    "start_time": "2025-01-02T21:14:09.635Z"
   },
   {
    "duration": 937,
    "start_time": "2025-01-02T21:14:49.492Z"
   },
   {
    "duration": 15,
    "start_time": "2025-01-02T21:29:00.751Z"
   },
   {
    "duration": 19,
    "start_time": "2025-01-02T21:29:30.486Z"
   },
   {
    "duration": 21,
    "start_time": "2025-01-02T21:31:06.667Z"
   },
   {
    "duration": 10,
    "start_time": "2025-01-02T21:32:05.017Z"
   },
   {
    "duration": 15,
    "start_time": "2025-01-02T21:32:13.936Z"
   },
   {
    "duration": 8,
    "start_time": "2025-01-02T21:32:45.668Z"
   },
   {
    "duration": 15,
    "start_time": "2025-01-02T21:34:12.230Z"
   },
   {
    "duration": 19,
    "start_time": "2025-01-02T21:35:29.145Z"
   },
   {
    "duration": 19,
    "start_time": "2025-01-02T21:35:30.932Z"
   },
   {
    "duration": 14,
    "start_time": "2025-01-02T21:36:06.692Z"
   },
   {
    "duration": 412,
    "start_time": "2025-01-02T21:36:28.562Z"
   },
   {
    "duration": 805,
    "start_time": "2025-01-02T21:36:28.975Z"
   },
   {
    "duration": 2792,
    "start_time": "2025-01-02T21:36:29.782Z"
   },
   {
    "duration": 2432,
    "start_time": "2025-01-02T21:36:32.577Z"
   },
   {
    "duration": 218,
    "start_time": "2025-01-02T21:36:35.011Z"
   },
   {
    "duration": 24,
    "start_time": "2025-01-02T21:36:35.231Z"
   },
   {
    "duration": 13,
    "start_time": "2025-01-02T21:36:35.264Z"
   },
   {
    "duration": 41,
    "start_time": "2025-01-02T21:36:35.279Z"
   },
   {
    "duration": 174,
    "start_time": "2025-01-02T21:36:35.321Z"
   },
   {
    "duration": 0,
    "start_time": "2025-01-02T21:36:35.497Z"
   },
   {
    "duration": 0,
    "start_time": "2025-01-02T21:36:35.498Z"
   },
   {
    "duration": 0,
    "start_time": "2025-01-02T21:36:35.499Z"
   },
   {
    "duration": 0,
    "start_time": "2025-01-02T21:36:35.500Z"
   },
   {
    "duration": 0,
    "start_time": "2025-01-02T21:36:35.501Z"
   },
   {
    "duration": 0,
    "start_time": "2025-01-02T21:36:35.502Z"
   },
   {
    "duration": 0,
    "start_time": "2025-01-02T21:36:35.503Z"
   },
   {
    "duration": 0,
    "start_time": "2025-01-02T21:36:35.505Z"
   },
   {
    "duration": 0,
    "start_time": "2025-01-02T21:36:35.506Z"
   },
   {
    "duration": 0,
    "start_time": "2025-01-02T21:36:35.508Z"
   },
   {
    "duration": 0,
    "start_time": "2025-01-02T21:36:35.509Z"
   },
   {
    "duration": 0,
    "start_time": "2025-01-02T21:36:35.510Z"
   },
   {
    "duration": 47,
    "start_time": "2025-01-02T21:39:10.049Z"
   },
   {
    "duration": 5,
    "start_time": "2025-01-02T21:39:17.596Z"
   },
   {
    "duration": 12,
    "start_time": "2025-01-02T21:39:26.908Z"
   },
   {
    "duration": 149,
    "start_time": "2025-01-02T21:39:28.233Z"
   },
   {
    "duration": 21,
    "start_time": "2025-01-02T21:39:29.457Z"
   },
   {
    "duration": 21,
    "start_time": "2025-01-02T21:39:32.149Z"
   },
   {
    "duration": 4,
    "start_time": "2025-01-02T21:39:32.793Z"
   },
   {
    "duration": 9,
    "start_time": "2025-01-02T21:39:36.391Z"
   },
   {
    "duration": 95,
    "start_time": "2025-01-02T21:39:37.205Z"
   },
   {
    "duration": 1031,
    "start_time": "2025-01-02T21:39:37.870Z"
   },
   {
    "duration": 9,
    "start_time": "2025-01-02T21:39:38.903Z"
   },
   {
    "duration": 12,
    "start_time": "2025-01-02T21:39:39.104Z"
   },
   {
    "duration": 8,
    "start_time": "2025-01-02T21:40:16.435Z"
   },
   {
    "duration": 89,
    "start_time": "2025-01-02T21:41:58.326Z"
   },
   {
    "duration": 507,
    "start_time": "2025-01-02T21:42:07.926Z"
   },
   {
    "duration": 87,
    "start_time": "2025-01-02T21:43:13.358Z"
   },
   {
    "duration": 97,
    "start_time": "2025-01-02T21:43:23.118Z"
   },
   {
    "duration": 3,
    "start_time": "2025-01-02T21:47:54.167Z"
   },
   {
    "duration": 5,
    "start_time": "2025-01-02T21:47:57.475Z"
   },
   {
    "duration": 95,
    "start_time": "2025-01-02T21:48:14.015Z"
   },
   {
    "duration": 476,
    "start_time": "2025-01-02T21:48:20.081Z"
   },
   {
    "duration": 234,
    "start_time": "2025-01-02T21:49:16.176Z"
   },
   {
    "duration": 197,
    "start_time": "2025-01-02T21:50:41.155Z"
   },
   {
    "duration": 174,
    "start_time": "2025-01-02T21:51:12.728Z"
   },
   {
    "duration": 65,
    "start_time": "2025-01-02T21:51:38.963Z"
   },
   {
    "duration": 136,
    "start_time": "2025-01-02T21:52:07.899Z"
   },
   {
    "duration": 39,
    "start_time": "2025-01-02T21:52:17.014Z"
   },
   {
    "duration": 453,
    "start_time": "2025-01-02T21:55:23.268Z"
   },
   {
    "duration": 11,
    "start_time": "2025-01-02T21:55:30.645Z"
   },
   {
    "duration": 452,
    "start_time": "2025-01-02T21:55:38.613Z"
   },
   {
    "duration": 183,
    "start_time": "2025-01-02T21:55:47.570Z"
   },
   {
    "duration": 170,
    "start_time": "2025-01-02T21:55:55.190Z"
   },
   {
    "duration": 26,
    "start_time": "2025-01-02T21:58:15.006Z"
   },
   {
    "duration": 25,
    "start_time": "2025-01-02T21:59:38.379Z"
   },
   {
    "duration": 32,
    "start_time": "2025-01-02T22:00:41.158Z"
   },
   {
    "duration": 51,
    "start_time": "2025-01-02T22:01:16.045Z"
   },
   {
    "duration": 102,
    "start_time": "2025-01-02T22:05:30.735Z"
   },
   {
    "duration": 38,
    "start_time": "2025-01-02T22:05:38.924Z"
   },
   {
    "duration": 429,
    "start_time": "2025-01-02T22:06:18.829Z"
   },
   {
    "duration": 796,
    "start_time": "2025-01-02T22:06:19.261Z"
   },
   {
    "duration": 2659,
    "start_time": "2025-01-02T22:06:20.059Z"
   },
   {
    "duration": 2658,
    "start_time": "2025-01-02T22:06:22.720Z"
   },
   {
    "duration": 211,
    "start_time": "2025-01-02T22:06:25.380Z"
   },
   {
    "duration": 12,
    "start_time": "2025-01-02T22:06:25.593Z"
   },
   {
    "duration": 123,
    "start_time": "2025-01-02T22:06:25.606Z"
   },
   {
    "duration": 123,
    "start_time": "2025-01-02T22:06:25.731Z"
   },
   {
    "duration": 14,
    "start_time": "2025-01-02T22:06:25.856Z"
   },
   {
    "duration": 5,
    "start_time": "2025-01-02T22:06:25.872Z"
   },
   {
    "duration": 23,
    "start_time": "2025-01-02T22:06:25.879Z"
   },
   {
    "duration": 101,
    "start_time": "2025-01-02T22:06:25.904Z"
   },
   {
    "duration": 17,
    "start_time": "2025-01-02T22:06:26.006Z"
   },
   {
    "duration": 29,
    "start_time": "2025-01-02T22:06:26.024Z"
   },
   {
    "duration": 9,
    "start_time": "2025-01-02T22:06:26.055Z"
   },
   {
    "duration": 4,
    "start_time": "2025-01-02T22:06:26.066Z"
   },
   {
    "duration": 10,
    "start_time": "2025-01-02T22:06:26.071Z"
   },
   {
    "duration": 170,
    "start_time": "2025-01-02T22:06:26.083Z"
   },
   {
    "duration": 904,
    "start_time": "2025-01-02T22:06:26.255Z"
   },
   {
    "duration": 9,
    "start_time": "2025-01-02T22:06:27.161Z"
   },
   {
    "duration": 131,
    "start_time": "2025-01-02T22:06:27.172Z"
   },
   {
    "duration": 0,
    "start_time": "2025-01-02T22:06:27.305Z"
   },
   {
    "duration": 0,
    "start_time": "2025-01-02T22:06:27.307Z"
   },
   {
    "duration": 0,
    "start_time": "2025-01-02T22:06:27.308Z"
   },
   {
    "duration": 0,
    "start_time": "2025-01-02T22:06:27.310Z"
   },
   {
    "duration": 408,
    "start_time": "2025-01-02T22:07:38.555Z"
   },
   {
    "duration": 808,
    "start_time": "2025-01-02T22:07:38.965Z"
   },
   {
    "duration": 2651,
    "start_time": "2025-01-02T22:07:39.774Z"
   },
   {
    "duration": 2163,
    "start_time": "2025-01-02T22:07:42.427Z"
   },
   {
    "duration": 215,
    "start_time": "2025-01-02T22:07:44.593Z"
   },
   {
    "duration": 13,
    "start_time": "2025-01-02T22:07:44.809Z"
   },
   {
    "duration": 26,
    "start_time": "2025-01-02T22:07:44.823Z"
   },
   {
    "duration": 24,
    "start_time": "2025-01-02T22:07:44.851Z"
   },
   {
    "duration": 8,
    "start_time": "2025-01-02T22:07:44.876Z"
   },
   {
    "duration": 91,
    "start_time": "2025-01-02T22:07:44.885Z"
   },
   {
    "duration": 16,
    "start_time": "2025-01-02T22:07:44.978Z"
   },
   {
    "duration": 52,
    "start_time": "2025-01-02T22:07:44.996Z"
   },
   {
    "duration": 95,
    "start_time": "2025-01-02T22:07:45.054Z"
   },
   {
    "duration": 42,
    "start_time": "2025-01-02T22:07:45.152Z"
   },
   {
    "duration": 27,
    "start_time": "2025-01-02T22:07:45.197Z"
   },
   {
    "duration": 166,
    "start_time": "2025-01-02T22:07:45.226Z"
   },
   {
    "duration": 1750,
    "start_time": "2025-01-02T22:07:45.394Z"
   },
   {
    "duration": 0,
    "start_time": "2025-01-02T22:07:47.149Z"
   },
   {
    "duration": 0,
    "start_time": "2025-01-02T22:07:47.150Z"
   },
   {
    "duration": 0,
    "start_time": "2025-01-02T22:07:47.153Z"
   },
   {
    "duration": 0,
    "start_time": "2025-01-02T22:07:47.154Z"
   },
   {
    "duration": 0,
    "start_time": "2025-01-02T22:07:47.156Z"
   },
   {
    "duration": 0,
    "start_time": "2025-01-02T22:07:47.157Z"
   },
   {
    "duration": 1425,
    "start_time": "2025-01-02T22:08:39.801Z"
   },
   {
    "duration": 1010,
    "start_time": "2025-01-02T22:09:27.804Z"
   },
   {
    "duration": 9,
    "start_time": "2025-01-02T22:09:34.371Z"
   },
   {
    "duration": 12,
    "start_time": "2025-01-02T22:09:35.165Z"
   },
   {
    "duration": 189,
    "start_time": "2025-01-02T22:09:35.813Z"
   },
   {
    "duration": 155,
    "start_time": "2025-01-02T22:09:36.527Z"
   },
   {
    "duration": 35,
    "start_time": "2025-01-02T22:09:39.074Z"
   },
   {
    "duration": 467,
    "start_time": "2025-01-02T22:09:49.935Z"
   },
   {
    "duration": 41,
    "start_time": "2025-01-02T22:10:04.882Z"
   },
   {
    "duration": 33,
    "start_time": "2025-01-02T22:10:13.375Z"
   },
   {
    "duration": 89,
    "start_time": "2025-01-02T22:10:33.111Z"
   },
   {
    "duration": 11,
    "start_time": "2025-01-02T22:10:41.400Z"
   },
   {
    "duration": 21,
    "start_time": "2025-01-02T22:12:10.228Z"
   },
   {
    "duration": 100,
    "start_time": "2025-01-02T22:12:26.221Z"
   },
   {
    "duration": 19,
    "start_time": "2025-01-02T22:12:29.127Z"
   },
   {
    "duration": 13,
    "start_time": "2025-01-02T22:12:44.127Z"
   },
   {
    "duration": 81,
    "start_time": "2025-01-02T22:12:55.038Z"
   },
   {
    "duration": 11,
    "start_time": "2025-01-02T22:12:57.702Z"
   },
   {
    "duration": 15,
    "start_time": "2025-01-02T22:17:49.934Z"
   },
   {
    "duration": 11,
    "start_time": "2025-01-02T22:18:17.534Z"
   },
   {
    "duration": 1328,
    "start_time": "2025-01-02T22:19:34.746Z"
   },
   {
    "duration": 1572,
    "start_time": "2025-01-02T22:19:46.013Z"
   },
   {
    "duration": 1313,
    "start_time": "2025-01-02T22:19:56.062Z"
   },
   {
    "duration": 19,
    "start_time": "2025-01-02T22:20:08.098Z"
   },
   {
    "duration": 57,
    "start_time": "2025-01-02T22:22:58.395Z"
   },
   {
    "duration": 10,
    "start_time": "2025-01-02T22:23:02.913Z"
   },
   {
    "duration": 27,
    "start_time": "2025-01-02T22:23:29.492Z"
   },
   {
    "duration": 465,
    "start_time": "2025-01-04T19:18:09.633Z"
   },
   {
    "duration": 1036,
    "start_time": "2025-01-04T19:18:10.100Z"
   },
   {
    "duration": 4737,
    "start_time": "2025-01-04T19:18:11.138Z"
   },
   {
    "duration": 2519,
    "start_time": "2025-01-04T19:18:15.878Z"
   },
   {
    "duration": 204,
    "start_time": "2025-01-04T19:18:18.399Z"
   },
   {
    "duration": 14,
    "start_time": "2025-01-04T19:18:18.605Z"
   },
   {
    "duration": 3,
    "start_time": "2025-01-04T19:18:18.620Z"
   },
   {
    "duration": 46,
    "start_time": "2025-01-04T19:18:18.624Z"
   },
   {
    "duration": 10,
    "start_time": "2025-01-04T19:18:18.672Z"
   },
   {
    "duration": 92,
    "start_time": "2025-01-04T19:18:18.685Z"
   },
   {
    "duration": 17,
    "start_time": "2025-01-04T19:18:18.779Z"
   },
   {
    "duration": 8,
    "start_time": "2025-01-04T19:18:18.797Z"
   },
   {
    "duration": 27,
    "start_time": "2025-01-04T19:18:18.807Z"
   },
   {
    "duration": 23,
    "start_time": "2025-01-04T19:18:18.836Z"
   },
   {
    "duration": 11,
    "start_time": "2025-01-04T19:18:18.861Z"
   },
   {
    "duration": 123,
    "start_time": "2025-01-04T19:18:18.873Z"
   },
   {
    "duration": 928,
    "start_time": "2025-01-04T19:18:18.998Z"
   },
   {
    "duration": 11,
    "start_time": "2025-01-04T19:18:19.928Z"
   },
   {
    "duration": 580,
    "start_time": "2025-01-04T19:18:19.941Z"
   },
   {
    "duration": 237,
    "start_time": "2025-01-04T19:18:20.523Z"
   },
   {
    "duration": 163,
    "start_time": "2025-01-04T19:18:20.762Z"
   },
   {
    "duration": 52,
    "start_time": "2025-01-04T19:18:20.927Z"
   },
   {
    "duration": 80,
    "start_time": "2025-01-04T19:18:20.981Z"
   },
   {
    "duration": 132,
    "start_time": "2025-01-04T19:18:21.063Z"
   },
   {
    "duration": 9,
    "start_time": "2025-01-04T19:18:33.526Z"
   },
   {
    "duration": 13,
    "start_time": "2025-01-04T19:18:38.685Z"
   },
   {
    "duration": 17,
    "start_time": "2025-01-04T19:18:51.711Z"
   },
   {
    "duration": 8,
    "start_time": "2025-01-04T19:19:39.199Z"
   },
   {
    "duration": 12,
    "start_time": "2025-01-04T19:19:57.386Z"
   },
   {
    "duration": 13,
    "start_time": "2025-01-04T19:20:53.541Z"
   },
   {
    "duration": 13,
    "start_time": "2025-01-04T19:21:41.307Z"
   },
   {
    "duration": 12,
    "start_time": "2025-01-04T19:21:42.065Z"
   },
   {
    "duration": 13,
    "start_time": "2025-01-04T19:21:56.782Z"
   },
   {
    "duration": 13,
    "start_time": "2025-01-04T19:21:58.619Z"
   },
   {
    "duration": 14,
    "start_time": "2025-01-04T19:22:13.153Z"
   },
   {
    "duration": 13,
    "start_time": "2025-01-04T19:22:21.331Z"
   },
   {
    "duration": 20,
    "start_time": "2025-01-04T19:22:37.937Z"
   },
   {
    "duration": 69,
    "start_time": "2025-01-04T19:22:43.308Z"
   },
   {
    "duration": 12,
    "start_time": "2025-01-04T19:22:44.384Z"
   },
   {
    "duration": 12,
    "start_time": "2025-01-04T19:23:12.333Z"
   },
   {
    "duration": 4,
    "start_time": "2025-01-04T19:25:03.389Z"
   },
   {
    "duration": 75,
    "start_time": "2025-01-04T19:25:10.209Z"
   },
   {
    "duration": 4,
    "start_time": "2025-01-04T19:25:10.653Z"
   },
   {
    "duration": 12,
    "start_time": "2025-01-04T19:25:18.884Z"
   },
   {
    "duration": 10,
    "start_time": "2025-01-04T19:25:41.505Z"
   },
   {
    "duration": 11,
    "start_time": "2025-01-04T19:25:54.820Z"
   },
   {
    "duration": 11,
    "start_time": "2025-01-04T19:26:03.463Z"
   },
   {
    "duration": 11,
    "start_time": "2025-01-04T19:28:39.609Z"
   },
   {
    "duration": 11,
    "start_time": "2025-01-04T19:28:45.061Z"
   },
   {
    "duration": 11,
    "start_time": "2025-01-04T19:29:01.441Z"
   },
   {
    "duration": 16,
    "start_time": "2025-01-04T19:29:45.333Z"
   },
   {
    "duration": 252,
    "start_time": "2025-01-04T19:30:02.520Z"
   },
   {
    "duration": 341,
    "start_time": "2025-01-04T19:30:31.952Z"
   },
   {
    "duration": 14,
    "start_time": "2025-01-04T19:31:09.092Z"
   },
   {
    "duration": 6,
    "start_time": "2025-01-04T19:31:12.789Z"
   },
   {
    "duration": 198,
    "start_time": "2025-01-04T19:31:13.951Z"
   },
   {
    "duration": 3,
    "start_time": "2025-01-04T19:31:18.736Z"
   },
   {
    "duration": 5,
    "start_time": "2025-01-04T19:31:19.221Z"
   },
   {
    "duration": 197,
    "start_time": "2025-01-04T19:31:19.949Z"
   },
   {
    "duration": 10,
    "start_time": "2025-01-04T19:32:23.801Z"
   },
   {
    "duration": 214,
    "start_time": "2025-01-04T19:33:21.141Z"
   },
   {
    "duration": 215,
    "start_time": "2025-01-04T19:34:33.610Z"
   },
   {
    "duration": 218,
    "start_time": "2025-01-04T19:34:56.358Z"
   },
   {
    "duration": 207,
    "start_time": "2025-01-04T19:35:28.481Z"
   },
   {
    "duration": 220,
    "start_time": "2025-01-04T19:36:02.527Z"
   },
   {
    "duration": 207,
    "start_time": "2025-01-04T19:36:33.543Z"
   },
   {
    "duration": 208,
    "start_time": "2025-01-04T19:38:29.305Z"
   },
   {
    "duration": 37,
    "start_time": "2025-01-04T19:44:28.707Z"
   },
   {
    "duration": 161,
    "start_time": "2025-01-04T19:45:09.060Z"
   },
   {
    "duration": 46,
    "start_time": "2025-01-04T19:45:22.271Z"
   },
   {
    "duration": 22,
    "start_time": "2025-01-04T19:46:30.054Z"
   },
   {
    "duration": 30,
    "start_time": "2025-01-04T19:46:30.643Z"
   },
   {
    "duration": 28,
    "start_time": "2025-01-04T19:49:33.935Z"
   },
   {
    "duration": 27,
    "start_time": "2025-01-04T19:50:02.249Z"
   },
   {
    "duration": 27,
    "start_time": "2025-01-04T19:50:34.300Z"
   },
   {
    "duration": 41,
    "start_time": "2025-01-04T20:00:48.213Z"
   },
   {
    "duration": 38,
    "start_time": "2025-01-04T20:01:25.381Z"
   },
   {
    "duration": 29,
    "start_time": "2025-01-04T20:01:45.112Z"
   },
   {
    "duration": 46,
    "start_time": "2025-01-04T20:02:45.789Z"
   },
   {
    "duration": 43,
    "start_time": "2025-01-04T20:03:35.007Z"
   },
   {
    "duration": 126,
    "start_time": "2025-01-04T20:15:34.087Z"
   },
   {
    "duration": 20,
    "start_time": "2025-01-04T20:15:48.601Z"
   },
   {
    "duration": 12,
    "start_time": "2025-01-04T20:18:51.116Z"
   },
   {
    "duration": 12,
    "start_time": "2025-01-04T20:18:56.315Z"
   },
   {
    "duration": 117,
    "start_time": "2025-01-04T20:19:08.962Z"
   },
   {
    "duration": 33,
    "start_time": "2025-01-04T20:21:47.459Z"
   },
   {
    "duration": 50,
    "start_time": "2025-01-04T20:22:23.175Z"
   },
   {
    "duration": 80,
    "start_time": "2025-01-04T20:23:46.943Z"
   },
   {
    "duration": 74,
    "start_time": "2025-01-04T20:25:05.983Z"
   },
   {
    "duration": 39,
    "start_time": "2025-01-04T20:25:43.768Z"
   },
   {
    "duration": 36,
    "start_time": "2025-01-04T20:25:45.232Z"
   },
   {
    "duration": 39,
    "start_time": "2025-01-04T20:25:55.677Z"
   },
   {
    "duration": 472,
    "start_time": "2025-01-04T20:26:04.258Z"
   },
   {
    "duration": 883,
    "start_time": "2025-01-04T20:26:04.732Z"
   },
   {
    "duration": 2645,
    "start_time": "2025-01-04T20:26:05.617Z"
   },
   {
    "duration": 2461,
    "start_time": "2025-01-04T20:26:08.265Z"
   },
   {
    "duration": 205,
    "start_time": "2025-01-04T20:26:10.727Z"
   },
   {
    "duration": 14,
    "start_time": "2025-01-04T20:26:10.933Z"
   },
   {
    "duration": 4,
    "start_time": "2025-01-04T20:26:10.961Z"
   },
   {
    "duration": 28,
    "start_time": "2025-01-04T20:26:10.967Z"
   },
   {
    "duration": 10,
    "start_time": "2025-01-04T20:26:10.997Z"
   },
   {
    "duration": 116,
    "start_time": "2025-01-04T20:26:11.011Z"
   },
   {
    "duration": 18,
    "start_time": "2025-01-04T20:26:11.129Z"
   },
   {
    "duration": 10,
    "start_time": "2025-01-04T20:26:11.160Z"
   },
   {
    "duration": 22,
    "start_time": "2025-01-04T20:26:11.172Z"
   },
   {
    "duration": 12,
    "start_time": "2025-01-04T20:26:11.195Z"
   },
   {
    "duration": 9,
    "start_time": "2025-01-04T20:26:11.209Z"
   },
   {
    "duration": 125,
    "start_time": "2025-01-04T20:26:11.220Z"
   },
   {
    "duration": 947,
    "start_time": "2025-01-04T20:26:11.347Z"
   },
   {
    "duration": 9,
    "start_time": "2025-01-04T20:26:12.296Z"
   },
   {
    "duration": 507,
    "start_time": "2025-01-04T20:26:12.307Z"
   },
   {
    "duration": 220,
    "start_time": "2025-01-04T20:26:12.815Z"
   },
   {
    "duration": 149,
    "start_time": "2025-01-04T20:26:13.037Z"
   },
   {
    "duration": 46,
    "start_time": "2025-01-04T20:26:13.188Z"
   },
   {
    "duration": 53,
    "start_time": "2025-01-04T20:26:13.236Z"
   },
   {
    "duration": 83,
    "start_time": "2025-01-04T20:26:13.291Z"
   },
   {
    "duration": 6,
    "start_time": "2025-01-04T20:26:13.376Z"
   },
   {
    "duration": 16,
    "start_time": "2025-01-04T20:26:13.384Z"
   },
   {
    "duration": 224,
    "start_time": "2025-01-04T20:26:13.402Z"
   },
   {
    "duration": 44,
    "start_time": "2025-01-04T20:26:13.629Z"
   },
   {
    "duration": 37,
    "start_time": "2025-01-04T20:26:13.674Z"
   },
   {
    "duration": 173,
    "start_time": "2025-01-04T20:26:13.712Z"
   },
   {
    "duration": 18,
    "start_time": "2025-01-04T20:26:13.887Z"
   },
   {
    "duration": 39,
    "start_time": "2025-01-04T20:26:13.906Z"
   },
   {
    "duration": 37,
    "start_time": "2025-01-04T20:26:13.947Z"
   },
   {
    "duration": 127,
    "start_time": "2025-01-04T20:26:13.985Z"
   },
   {
    "duration": 114,
    "start_time": "2025-01-04T20:26:14.113Z"
   },
   {
    "duration": 2,
    "start_time": "2025-01-04T20:26:14.228Z"
   },
   {
    "duration": 35,
    "start_time": "2025-01-04T20:26:47.268Z"
   },
   {
    "duration": 159,
    "start_time": "2025-01-04T20:27:49.652Z"
   },
   {
    "duration": 163,
    "start_time": "2025-01-04T20:28:11.842Z"
   },
   {
    "duration": 65,
    "start_time": "2025-01-04T20:29:08.205Z"
   },
   {
    "duration": 445,
    "start_time": "2025-01-04T20:30:01.271Z"
   },
   {
    "duration": 977,
    "start_time": "2025-01-04T20:30:01.719Z"
   },
   {
    "duration": 2628,
    "start_time": "2025-01-04T20:30:02.698Z"
   },
   {
    "duration": 2458,
    "start_time": "2025-01-04T20:30:05.329Z"
   },
   {
    "duration": 261,
    "start_time": "2025-01-04T20:30:07.790Z"
   },
   {
    "duration": 21,
    "start_time": "2025-01-04T20:30:08.053Z"
   },
   {
    "duration": 5,
    "start_time": "2025-01-04T20:30:08.077Z"
   },
   {
    "duration": 31,
    "start_time": "2025-01-04T20:30:08.084Z"
   },
   {
    "duration": 10,
    "start_time": "2025-01-04T20:30:08.117Z"
   },
   {
    "duration": 113,
    "start_time": "2025-01-04T20:30:08.129Z"
   },
   {
    "duration": 30,
    "start_time": "2025-01-04T20:30:08.244Z"
   },
   {
    "duration": 10,
    "start_time": "2025-01-04T20:30:08.276Z"
   },
   {
    "duration": 12,
    "start_time": "2025-01-04T20:30:08.287Z"
   },
   {
    "duration": 3,
    "start_time": "2025-01-04T20:30:08.303Z"
   },
   {
    "duration": 9,
    "start_time": "2025-01-04T20:30:08.309Z"
   },
   {
    "duration": 160,
    "start_time": "2025-01-04T20:30:08.321Z"
   },
   {
    "duration": 936,
    "start_time": "2025-01-04T20:30:08.483Z"
   },
   {
    "duration": 9,
    "start_time": "2025-01-04T20:30:09.421Z"
   },
   {
    "duration": 513,
    "start_time": "2025-01-04T20:30:09.432Z"
   },
   {
    "duration": 234,
    "start_time": "2025-01-04T20:30:09.947Z"
   },
   {
    "duration": 194,
    "start_time": "2025-01-04T20:30:10.183Z"
   },
   {
    "duration": 66,
    "start_time": "2025-01-04T20:30:10.379Z"
   },
   {
    "duration": 51,
    "start_time": "2025-01-04T20:30:10.447Z"
   },
   {
    "duration": 33,
    "start_time": "2025-01-04T20:30:10.500Z"
   },
   {
    "duration": 75,
    "start_time": "2025-01-04T20:30:10.535Z"
   },
   {
    "duration": 5,
    "start_time": "2025-01-04T20:30:10.612Z"
   },
   {
    "duration": 10,
    "start_time": "2025-01-04T20:30:10.659Z"
   },
   {
    "duration": 270,
    "start_time": "2025-01-04T20:30:10.670Z"
   },
   {
    "duration": 42,
    "start_time": "2025-01-04T20:30:10.942Z"
   },
   {
    "duration": 36,
    "start_time": "2025-01-04T20:30:10.985Z"
   },
   {
    "duration": 169,
    "start_time": "2025-01-04T20:30:11.023Z"
   },
   {
    "duration": 18,
    "start_time": "2025-01-04T20:30:11.193Z"
   },
   {
    "duration": 23,
    "start_time": "2025-01-04T20:30:11.212Z"
   },
   {
    "duration": 50,
    "start_time": "2025-01-04T20:30:11.237Z"
   },
   {
    "duration": 129,
    "start_time": "2025-01-04T20:30:11.289Z"
   },
   {
    "duration": 115,
    "start_time": "2025-01-04T20:30:11.420Z"
   },
   {
    "duration": 2,
    "start_time": "2025-01-04T20:30:11.536Z"
   },
   {
    "duration": 6,
    "start_time": "2025-01-04T20:39:43.857Z"
   },
   {
    "duration": 113,
    "start_time": "2025-01-04T20:39:51.137Z"
   },
   {
    "duration": 19,
    "start_time": "2025-01-04T20:39:56.211Z"
   },
   {
    "duration": 18,
    "start_time": "2025-01-04T20:44:52.799Z"
   },
   {
    "duration": 18,
    "start_time": "2025-01-04T20:47:12.682Z"
   },
   {
    "duration": 25,
    "start_time": "2025-01-04T20:47:17.419Z"
   },
   {
    "duration": 19,
    "start_time": "2025-01-04T20:48:59.778Z"
   },
   {
    "duration": 13,
    "start_time": "2025-01-04T20:49:08.137Z"
   },
   {
    "duration": 22,
    "start_time": "2025-01-04T20:49:25.609Z"
   },
   {
    "duration": 12,
    "start_time": "2025-01-04T20:49:29.078Z"
   },
   {
    "duration": 6,
    "start_time": "2025-01-04T20:50:59.643Z"
   },
   {
    "duration": 5,
    "start_time": "2025-01-04T20:51:26.922Z"
   },
   {
    "duration": 20,
    "start_time": "2025-01-04T21:03:33.086Z"
   },
   {
    "duration": 12,
    "start_time": "2025-01-04T21:04:21.427Z"
   },
   {
    "duration": 10,
    "start_time": "2025-01-04T21:04:36.862Z"
   },
   {
    "duration": 15,
    "start_time": "2025-01-04T21:39:12.780Z"
   },
   {
    "duration": 14,
    "start_time": "2025-01-04T21:39:57.371Z"
   },
   {
    "duration": 12,
    "start_time": "2025-01-04T21:42:33.543Z"
   },
   {
    "duration": 391,
    "start_time": "2025-01-05T15:07:22.085Z"
   },
   {
    "duration": 991,
    "start_time": "2025-01-05T15:07:22.478Z"
   },
   {
    "duration": 402,
    "start_time": "2025-01-05T15:08:18.554Z"
   },
   {
    "duration": 811,
    "start_time": "2025-01-05T15:08:18.958Z"
   },
   {
    "duration": 2596,
    "start_time": "2025-01-05T15:08:19.770Z"
   },
   {
    "duration": 1969,
    "start_time": "2025-01-05T15:08:22.368Z"
   },
   {
    "duration": 203,
    "start_time": "2025-01-05T15:08:24.339Z"
   },
   {
    "duration": 15,
    "start_time": "2025-01-05T15:08:24.545Z"
   },
   {
    "duration": 4,
    "start_time": "2025-01-05T15:08:24.562Z"
   },
   {
    "duration": 45,
    "start_time": "2025-01-05T15:08:24.568Z"
   },
   {
    "duration": 25,
    "start_time": "2025-01-05T15:08:24.616Z"
   },
   {
    "duration": 75,
    "start_time": "2025-01-05T15:08:24.643Z"
   },
   {
    "duration": 30,
    "start_time": "2025-01-05T15:08:24.720Z"
   },
   {
    "duration": 10,
    "start_time": "2025-01-05T15:08:24.751Z"
   },
   {
    "duration": 22,
    "start_time": "2025-01-05T15:08:24.763Z"
   },
   {
    "duration": 4,
    "start_time": "2025-01-05T15:08:24.788Z"
   },
   {
    "duration": 8,
    "start_time": "2025-01-05T15:08:24.794Z"
   },
   {
    "duration": 113,
    "start_time": "2025-01-05T15:08:24.804Z"
   },
   {
    "duration": 833,
    "start_time": "2025-01-05T15:08:24.919Z"
   },
   {
    "duration": 9,
    "start_time": "2025-01-05T15:08:25.754Z"
   },
   {
    "duration": 479,
    "start_time": "2025-01-05T15:08:25.765Z"
   },
   {
    "duration": 206,
    "start_time": "2025-01-05T15:08:26.246Z"
   },
   {
    "duration": 156,
    "start_time": "2025-01-05T15:08:26.453Z"
   },
   {
    "duration": 70,
    "start_time": "2025-01-05T15:08:26.611Z"
   },
   {
    "duration": 54,
    "start_time": "2025-01-05T15:08:26.683Z"
   },
   {
    "duration": 33,
    "start_time": "2025-01-05T15:08:26.739Z"
   },
   {
    "duration": 79,
    "start_time": "2025-01-05T15:08:26.774Z"
   },
   {
    "duration": 5,
    "start_time": "2025-01-05T15:08:26.855Z"
   },
   {
    "duration": 38,
    "start_time": "2025-01-05T15:08:26.862Z"
   },
   {
    "duration": 214,
    "start_time": "2025-01-05T15:08:26.902Z"
   },
   {
    "duration": 41,
    "start_time": "2025-01-05T15:08:27.117Z"
   },
   {
    "duration": 38,
    "start_time": "2025-01-05T15:08:27.160Z"
   },
   {
    "duration": 176,
    "start_time": "2025-01-05T15:08:27.199Z"
   },
   {
    "duration": 18,
    "start_time": "2025-01-05T15:08:27.377Z"
   },
   {
    "duration": 22,
    "start_time": "2025-01-05T15:08:27.397Z"
   },
   {
    "duration": 31,
    "start_time": "2025-01-05T15:08:27.438Z"
   },
   {
    "duration": 129,
    "start_time": "2025-01-05T15:08:27.470Z"
   },
   {
    "duration": 114,
    "start_time": "2025-01-05T15:08:27.601Z"
   },
   {
    "duration": 22,
    "start_time": "2025-01-05T15:08:27.718Z"
   },
   {
    "duration": 29,
    "start_time": "2025-01-05T15:08:27.741Z"
   },
   {
    "duration": 24,
    "start_time": "2025-01-05T15:08:27.772Z"
   },
   {
    "duration": 10,
    "start_time": "2025-01-05T15:08:27.797Z"
   },
   {
    "duration": 6,
    "start_time": "2025-01-05T15:08:27.812Z"
   },
   {
    "duration": 20,
    "start_time": "2025-01-05T15:08:27.820Z"
   },
   {
    "duration": 19,
    "start_time": "2025-01-05T15:11:45.146Z"
   },
   {
    "duration": 3,
    "start_time": "2025-01-05T15:11:48.968Z"
   },
   {
    "duration": 23,
    "start_time": "2025-01-05T15:11:50.046Z"
   },
   {
    "duration": 46,
    "start_time": "2025-01-05T15:12:24.390Z"
   },
   {
    "duration": 1357,
    "start_time": "2025-01-05T15:13:24.235Z"
   },
   {
    "duration": 24,
    "start_time": "2025-01-05T15:13:48.834Z"
   },
   {
    "duration": 35,
    "start_time": "2025-01-05T15:14:22.593Z"
   },
   {
    "duration": 32,
    "start_time": "2025-01-05T15:15:54.615Z"
   },
   {
    "duration": 30,
    "start_time": "2025-01-05T15:16:23.662Z"
   },
   {
    "duration": 33,
    "start_time": "2025-01-05T15:16:34.265Z"
   },
   {
    "duration": 4,
    "start_time": "2025-01-05T15:17:06.022Z"
   },
   {
    "duration": 41,
    "start_time": "2025-01-05T15:17:21.523Z"
   },
   {
    "duration": 83,
    "start_time": "2025-01-05T15:18:09.181Z"
   },
   {
    "duration": 24,
    "start_time": "2025-01-05T15:18:52.840Z"
   },
   {
    "duration": 27,
    "start_time": "2025-01-05T15:19:16.094Z"
   },
   {
    "duration": 40,
    "start_time": "2025-01-05T15:20:03.273Z"
   },
   {
    "duration": 32,
    "start_time": "2025-01-05T15:20:16.405Z"
   },
   {
    "duration": 35,
    "start_time": "2025-01-05T15:21:24.747Z"
   },
   {
    "duration": 1304,
    "start_time": "2025-01-05T15:22:36.632Z"
   },
   {
    "duration": 32,
    "start_time": "2025-01-05T15:24:04.850Z"
   },
   {
    "duration": 12,
    "start_time": "2025-01-05T15:32:51.782Z"
   },
   {
    "duration": 16,
    "start_time": "2025-01-05T15:33:22.456Z"
   },
   {
    "duration": 11,
    "start_time": "2025-01-05T15:33:38.401Z"
   },
   {
    "duration": 11,
    "start_time": "2025-01-05T15:33:45.658Z"
   },
   {
    "duration": 21,
    "start_time": "2025-01-05T15:33:49.676Z"
   },
   {
    "duration": 14,
    "start_time": "2025-01-05T15:33:59.187Z"
   },
   {
    "duration": 19,
    "start_time": "2025-01-05T15:34:05.020Z"
   },
   {
    "duration": 19,
    "start_time": "2025-01-05T15:34:25.819Z"
   },
   {
    "duration": 19,
    "start_time": "2025-01-05T15:34:31.737Z"
   },
   {
    "duration": 70,
    "start_time": "2025-01-05T15:35:34.934Z"
   },
   {
    "duration": 71,
    "start_time": "2025-01-05T15:36:09.978Z"
   },
   {
    "duration": 44,
    "start_time": "2025-01-05T15:36:29.947Z"
   },
   {
    "duration": 27,
    "start_time": "2025-01-05T15:36:52.766Z"
   },
   {
    "duration": 34,
    "start_time": "2025-01-05T15:37:53.302Z"
   },
   {
    "duration": 72,
    "start_time": "2025-01-05T15:41:01.572Z"
   },
   {
    "duration": 84,
    "start_time": "2025-01-05T15:42:48.703Z"
   },
   {
    "duration": 62,
    "start_time": "2025-01-05T15:42:53.925Z"
   },
   {
    "duration": 15,
    "start_time": "2025-01-05T15:43:27.420Z"
   },
   {
    "duration": 87,
    "start_time": "2025-01-05T15:43:37.301Z"
   },
   {
    "duration": 20,
    "start_time": "2025-01-05T15:44:15.018Z"
   },
   {
    "duration": 21,
    "start_time": "2025-01-05T15:45:23.561Z"
   },
   {
    "duration": 7,
    "start_time": "2025-01-05T15:46:35.366Z"
   },
   {
    "duration": 10,
    "start_time": "2025-01-05T15:46:51.615Z"
   },
   {
    "duration": 19,
    "start_time": "2025-01-05T15:47:09.277Z"
   },
   {
    "duration": 418,
    "start_time": "2025-01-05T15:47:50.303Z"
   },
   {
    "duration": 834,
    "start_time": "2025-01-05T15:47:50.723Z"
   },
   {
    "duration": 2658,
    "start_time": "2025-01-05T15:47:51.559Z"
   },
   {
    "duration": 2118,
    "start_time": "2025-01-05T15:47:54.219Z"
   },
   {
    "duration": 193,
    "start_time": "2025-01-05T15:47:56.339Z"
   },
   {
    "duration": 11,
    "start_time": "2025-01-05T15:47:56.538Z"
   },
   {
    "duration": 8,
    "start_time": "2025-01-05T15:47:56.551Z"
   },
   {
    "duration": 27,
    "start_time": "2025-01-05T15:47:56.560Z"
   },
   {
    "duration": 20,
    "start_time": "2025-01-05T15:47:56.589Z"
   },
   {
    "duration": 106,
    "start_time": "2025-01-05T15:47:56.611Z"
   },
   {
    "duration": 23,
    "start_time": "2025-01-05T15:47:56.718Z"
   },
   {
    "duration": 24,
    "start_time": "2025-01-05T15:47:56.743Z"
   },
   {
    "duration": 13,
    "start_time": "2025-01-05T15:47:56.768Z"
   },
   {
    "duration": 3,
    "start_time": "2025-01-05T15:47:56.785Z"
   },
   {
    "duration": 10,
    "start_time": "2025-01-05T15:47:56.790Z"
   },
   {
    "duration": 124,
    "start_time": "2025-01-05T15:47:56.801Z"
   },
   {
    "duration": 865,
    "start_time": "2025-01-05T15:47:56.927Z"
   },
   {
    "duration": 7,
    "start_time": "2025-01-05T15:47:57.794Z"
   },
   {
    "duration": 523,
    "start_time": "2025-01-05T15:47:57.803Z"
   },
   {
    "duration": 218,
    "start_time": "2025-01-05T15:47:58.328Z"
   },
   {
    "duration": 160,
    "start_time": "2025-01-05T15:47:58.548Z"
   },
   {
    "duration": 65,
    "start_time": "2025-01-05T15:47:58.710Z"
   },
   {
    "duration": 61,
    "start_time": "2025-01-05T15:47:58.777Z"
   },
   {
    "duration": 34,
    "start_time": "2025-01-05T15:47:58.840Z"
   },
   {
    "duration": 82,
    "start_time": "2025-01-05T15:47:58.876Z"
   },
   {
    "duration": 6,
    "start_time": "2025-01-05T15:47:58.960Z"
   },
   {
    "duration": 30,
    "start_time": "2025-01-05T15:47:58.967Z"
   },
   {
    "duration": 198,
    "start_time": "2025-01-05T15:47:58.999Z"
   },
   {
    "duration": 45,
    "start_time": "2025-01-05T15:47:59.199Z"
   },
   {
    "duration": 34,
    "start_time": "2025-01-05T15:47:59.246Z"
   },
   {
    "duration": 168,
    "start_time": "2025-01-05T15:47:59.282Z"
   },
   {
    "duration": 19,
    "start_time": "2025-01-05T15:47:59.452Z"
   },
   {
    "duration": 24,
    "start_time": "2025-01-05T15:47:59.473Z"
   },
   {
    "duration": 77,
    "start_time": "2025-01-05T15:47:59.499Z"
   },
   {
    "duration": 6,
    "start_time": "2025-01-05T15:47:59.578Z"
   },
   {
    "duration": 38,
    "start_time": "2025-01-05T15:47:59.585Z"
   },
   {
    "duration": 36,
    "start_time": "2025-01-05T15:47:59.624Z"
   },
   {
    "duration": 99,
    "start_time": "2025-01-05T15:47:59.662Z"
   },
   {
    "duration": 26,
    "start_time": "2025-01-05T15:47:59.763Z"
   },
   {
    "duration": 48,
    "start_time": "2025-01-05T15:47:59.790Z"
   },
   {
    "duration": 33,
    "start_time": "2025-01-05T15:47:59.842Z"
   },
   {
    "duration": 101,
    "start_time": "2025-01-05T15:47:59.877Z"
   },
   {
    "duration": 123,
    "start_time": "2025-01-05T15:47:59.979Z"
   },
   {
    "duration": 0,
    "start_time": "2025-01-05T15:48:00.103Z"
   },
   {
    "duration": 0,
    "start_time": "2025-01-05T15:48:00.104Z"
   },
   {
    "duration": 0,
    "start_time": "2025-01-05T15:48:00.106Z"
   },
   {
    "duration": 0,
    "start_time": "2025-01-05T15:48:00.107Z"
   },
   {
    "duration": 0,
    "start_time": "2025-01-05T15:48:00.108Z"
   },
   {
    "duration": 0,
    "start_time": "2025-01-05T15:48:00.109Z"
   },
   {
    "duration": 0,
    "start_time": "2025-01-05T15:48:00.110Z"
   },
   {
    "duration": 13,
    "start_time": "2025-01-05T15:50:32.097Z"
   },
   {
    "duration": 31,
    "start_time": "2025-01-05T15:50:44.818Z"
   },
   {
    "duration": 122,
    "start_time": "2025-01-05T15:51:56.797Z"
   },
   {
    "duration": 34,
    "start_time": "2025-01-05T15:52:12.032Z"
   },
   {
    "duration": 15,
    "start_time": "2025-01-05T15:52:51.472Z"
   },
   {
    "duration": 20,
    "start_time": "2025-01-05T15:53:30.824Z"
   },
   {
    "duration": 389,
    "start_time": "2025-01-05T15:53:58.197Z"
   },
   {
    "duration": 763,
    "start_time": "2025-01-05T15:53:58.588Z"
   },
   {
    "duration": 2509,
    "start_time": "2025-01-05T15:53:59.353Z"
   },
   {
    "duration": 2243,
    "start_time": "2025-01-05T15:54:01.865Z"
   },
   {
    "duration": 183,
    "start_time": "2025-01-05T15:54:04.110Z"
   },
   {
    "duration": 12,
    "start_time": "2025-01-05T15:54:04.295Z"
   },
   {
    "duration": 14,
    "start_time": "2025-01-05T15:54:04.308Z"
   },
   {
    "duration": 63,
    "start_time": "2025-01-05T15:54:04.323Z"
   },
   {
    "duration": 26,
    "start_time": "2025-01-05T15:54:04.388Z"
   },
   {
    "duration": 80,
    "start_time": "2025-01-05T15:54:04.417Z"
   },
   {
    "duration": 17,
    "start_time": "2025-01-05T15:54:04.499Z"
   },
   {
    "duration": 21,
    "start_time": "2025-01-05T15:54:04.517Z"
   },
   {
    "duration": 17,
    "start_time": "2025-01-05T15:54:04.540Z"
   },
   {
    "duration": 9,
    "start_time": "2025-01-05T15:54:04.559Z"
   },
   {
    "duration": 10,
    "start_time": "2025-01-05T15:54:04.570Z"
   },
   {
    "duration": 106,
    "start_time": "2025-01-05T15:54:04.582Z"
   },
   {
    "duration": 842,
    "start_time": "2025-01-05T15:54:04.689Z"
   },
   {
    "duration": 10,
    "start_time": "2025-01-05T15:54:05.536Z"
   },
   {
    "duration": 485,
    "start_time": "2025-01-05T15:54:05.547Z"
   },
   {
    "duration": 193,
    "start_time": "2025-01-05T15:54:06.037Z"
   },
   {
    "duration": 152,
    "start_time": "2025-01-05T15:54:06.232Z"
   },
   {
    "duration": 66,
    "start_time": "2025-01-05T15:54:06.385Z"
   },
   {
    "duration": 41,
    "start_time": "2025-01-05T15:54:06.453Z"
   },
   {
    "duration": 42,
    "start_time": "2025-01-05T15:54:06.496Z"
   },
   {
    "duration": 62,
    "start_time": "2025-01-05T15:54:06.540Z"
   },
   {
    "duration": 5,
    "start_time": "2025-01-05T15:54:06.604Z"
   },
   {
    "duration": 28,
    "start_time": "2025-01-05T15:54:06.611Z"
   },
   {
    "duration": 240,
    "start_time": "2025-01-05T15:54:06.643Z"
   },
   {
    "duration": 54,
    "start_time": "2025-01-05T15:54:06.886Z"
   },
   {
    "duration": 36,
    "start_time": "2025-01-05T15:54:06.942Z"
   },
   {
    "duration": 172,
    "start_time": "2025-01-05T15:54:06.980Z"
   },
   {
    "duration": 18,
    "start_time": "2025-01-05T15:54:07.153Z"
   },
   {
    "duration": 69,
    "start_time": "2025-01-05T15:54:07.172Z"
   },
   {
    "duration": 48,
    "start_time": "2025-01-05T15:54:07.243Z"
   },
   {
    "duration": 52,
    "start_time": "2025-01-05T15:54:07.292Z"
   },
   {
    "duration": 85,
    "start_time": "2025-01-05T15:54:07.346Z"
   },
   {
    "duration": 43,
    "start_time": "2025-01-05T15:54:07.433Z"
   },
   {
    "duration": 89,
    "start_time": "2025-01-05T15:54:07.477Z"
   },
   {
    "duration": 25,
    "start_time": "2025-01-05T15:54:07.568Z"
   },
   {
    "duration": 47,
    "start_time": "2025-01-05T15:54:07.595Z"
   },
   {
    "duration": 61,
    "start_time": "2025-01-05T15:54:07.644Z"
   },
   {
    "duration": 69,
    "start_time": "2025-01-05T15:54:07.707Z"
   },
   {
    "duration": 135,
    "start_time": "2025-01-05T15:54:07.778Z"
   },
   {
    "duration": 0,
    "start_time": "2025-01-05T15:54:07.915Z"
   },
   {
    "duration": 0,
    "start_time": "2025-01-05T15:54:07.916Z"
   },
   {
    "duration": 0,
    "start_time": "2025-01-05T15:54:07.919Z"
   },
   {
    "duration": 0,
    "start_time": "2025-01-05T15:54:07.920Z"
   },
   {
    "duration": 0,
    "start_time": "2025-01-05T15:54:07.921Z"
   },
   {
    "duration": 0,
    "start_time": "2025-01-05T15:54:07.922Z"
   },
   {
    "duration": 0,
    "start_time": "2025-01-05T15:54:07.923Z"
   },
   {
    "duration": 15,
    "start_time": "2025-01-05T15:54:46.465Z"
   },
   {
    "duration": 16,
    "start_time": "2025-01-05T15:55:10.303Z"
   },
   {
    "duration": 22,
    "start_time": "2025-01-05T15:55:54.073Z"
   },
   {
    "duration": 34,
    "start_time": "2025-01-05T15:56:00.727Z"
   },
   {
    "duration": 8,
    "start_time": "2025-01-05T15:59:02.941Z"
   },
   {
    "duration": 17,
    "start_time": "2025-01-05T15:59:14.723Z"
   },
   {
    "duration": 41,
    "start_time": "2025-01-05T16:00:41.711Z"
   },
   {
    "duration": 114,
    "start_time": "2025-01-05T16:01:25.591Z"
   },
   {
    "duration": 75,
    "start_time": "2025-01-05T16:01:35.716Z"
   },
   {
    "duration": 38,
    "start_time": "2025-01-05T16:01:52.816Z"
   },
   {
    "duration": 25,
    "start_time": "2025-01-05T16:02:01.154Z"
   },
   {
    "duration": 32,
    "start_time": "2025-01-05T16:02:13.475Z"
   },
   {
    "duration": 10,
    "start_time": "2025-01-05T16:03:18.664Z"
   },
   {
    "duration": 16,
    "start_time": "2025-01-05T16:04:37.367Z"
   },
   {
    "duration": 25,
    "start_time": "2025-01-05T16:04:45.056Z"
   },
   {
    "duration": 38,
    "start_time": "2025-01-05T16:05:25.993Z"
   },
   {
    "duration": 38,
    "start_time": "2025-01-05T16:06:52.588Z"
   },
   {
    "duration": 38,
    "start_time": "2025-01-05T16:07:01.501Z"
   },
   {
    "duration": 34,
    "start_time": "2025-01-05T16:07:12.915Z"
   },
   {
    "duration": 22,
    "start_time": "2025-01-05T16:10:07.963Z"
   },
   {
    "duration": 25,
    "start_time": "2025-01-05T16:11:07.118Z"
   },
   {
    "duration": 72,
    "start_time": "2025-01-05T16:11:49.598Z"
   },
   {
    "duration": 76,
    "start_time": "2025-01-05T16:11:59.047Z"
   },
   {
    "duration": 35,
    "start_time": "2025-01-05T16:13:24.678Z"
   },
   {
    "duration": 18,
    "start_time": "2025-01-05T16:14:12.223Z"
   },
   {
    "duration": 26,
    "start_time": "2025-01-05T16:14:20.451Z"
   },
   {
    "duration": 32,
    "start_time": "2025-01-05T16:14:50.978Z"
   },
   {
    "duration": 32,
    "start_time": "2025-01-05T16:15:48.908Z"
   },
   {
    "duration": 29,
    "start_time": "2025-01-05T16:16:09.820Z"
   },
   {
    "duration": 32,
    "start_time": "2025-01-05T16:16:16.403Z"
   },
   {
    "duration": 32,
    "start_time": "2025-01-05T16:16:23.010Z"
   },
   {
    "duration": 16,
    "start_time": "2025-01-05T16:16:56.201Z"
   },
   {
    "duration": 19,
    "start_time": "2025-01-05T16:17:27.771Z"
   },
   {
    "duration": 19,
    "start_time": "2025-01-05T16:17:45.224Z"
   },
   {
    "duration": 25,
    "start_time": "2025-01-05T16:21:12.997Z"
   },
   {
    "duration": 29,
    "start_time": "2025-01-05T16:21:20.236Z"
   },
   {
    "duration": 87,
    "start_time": "2025-01-05T16:22:26.617Z"
   },
   {
    "duration": 66,
    "start_time": "2025-01-05T16:22:30.314Z"
   },
   {
    "duration": 90,
    "start_time": "2025-01-05T16:23:01.341Z"
   },
   {
    "duration": 17,
    "start_time": "2025-01-05T16:23:03.012Z"
   },
   {
    "duration": 51,
    "start_time": "2025-01-05T16:23:36.548Z"
   },
   {
    "duration": 86,
    "start_time": "2025-01-05T16:23:39.450Z"
   },
   {
    "duration": 63,
    "start_time": "2025-01-05T16:23:41.383Z"
   },
   {
    "duration": 84,
    "start_time": "2025-01-05T16:24:00.570Z"
   },
   {
    "duration": 52,
    "start_time": "2025-01-05T16:24:01.767Z"
   },
   {
    "duration": 86,
    "start_time": "2025-01-05T16:24:02.742Z"
   },
   {
    "duration": 65,
    "start_time": "2025-01-05T16:24:05.354Z"
   },
   {
    "duration": 19,
    "start_time": "2025-01-05T16:25:13.886Z"
   },
   {
    "duration": 11,
    "start_time": "2025-01-05T16:25:24.086Z"
   },
   {
    "duration": 22,
    "start_time": "2025-01-05T16:25:46.255Z"
   },
   {
    "duration": 17,
    "start_time": "2025-01-05T16:25:56.633Z"
   },
   {
    "duration": 79,
    "start_time": "2025-01-05T16:26:09.607Z"
   },
   {
    "duration": 50,
    "start_time": "2025-01-05T16:26:10.933Z"
   },
   {
    "duration": 17,
    "start_time": "2025-01-05T16:27:38.073Z"
   },
   {
    "duration": 17,
    "start_time": "2025-01-05T16:27:46.565Z"
   },
   {
    "duration": 13,
    "start_time": "2025-01-05T16:27:53.175Z"
   },
   {
    "duration": 10,
    "start_time": "2025-01-05T16:29:53.675Z"
   },
   {
    "duration": 425,
    "start_time": "2025-01-05T16:30:01.747Z"
   },
   {
    "duration": 806,
    "start_time": "2025-01-05T16:30:02.173Z"
   },
   {
    "duration": 2549,
    "start_time": "2025-01-05T16:30:02.981Z"
   },
   {
    "duration": 2161,
    "start_time": "2025-01-05T16:30:05.531Z"
   },
   {
    "duration": 185,
    "start_time": "2025-01-05T16:30:07.694Z"
   },
   {
    "duration": 12,
    "start_time": "2025-01-05T16:30:07.881Z"
   },
   {
    "duration": 43,
    "start_time": "2025-01-05T16:30:07.894Z"
   },
   {
    "duration": 43,
    "start_time": "2025-01-05T16:30:07.939Z"
   },
   {
    "duration": 105,
    "start_time": "2025-01-05T16:30:07.984Z"
   },
   {
    "duration": 82,
    "start_time": "2025-01-05T16:30:08.091Z"
   },
   {
    "duration": 16,
    "start_time": "2025-01-05T16:30:08.174Z"
   },
   {
    "duration": 24,
    "start_time": "2025-01-05T16:30:08.192Z"
   },
   {
    "duration": 26,
    "start_time": "2025-01-05T16:30:08.219Z"
   },
   {
    "duration": 35,
    "start_time": "2025-01-05T16:30:08.250Z"
   },
   {
    "duration": 12,
    "start_time": "2025-01-05T16:30:08.287Z"
   },
   {
    "duration": 111,
    "start_time": "2025-01-05T16:30:08.301Z"
   },
   {
    "duration": 847,
    "start_time": "2025-01-05T16:30:08.414Z"
   },
   {
    "duration": 9,
    "start_time": "2025-01-05T16:30:09.263Z"
   },
   {
    "duration": 494,
    "start_time": "2025-01-05T16:30:09.273Z"
   },
   {
    "duration": 187,
    "start_time": "2025-01-05T16:30:09.768Z"
   },
   {
    "duration": 171,
    "start_time": "2025-01-05T16:30:09.957Z"
   },
   {
    "duration": 63,
    "start_time": "2025-01-05T16:30:10.130Z"
   },
   {
    "duration": 51,
    "start_time": "2025-01-05T16:30:10.195Z"
   },
   {
    "duration": 31,
    "start_time": "2025-01-05T16:30:10.248Z"
   },
   {
    "duration": 82,
    "start_time": "2025-01-05T16:30:10.281Z"
   },
   {
    "duration": 5,
    "start_time": "2025-01-05T16:30:10.364Z"
   },
   {
    "duration": 10,
    "start_time": "2025-01-05T16:30:10.371Z"
   },
   {
    "duration": 220,
    "start_time": "2025-01-05T16:30:10.383Z"
   },
   {
    "duration": 38,
    "start_time": "2025-01-05T16:30:10.605Z"
   },
   {
    "duration": 37,
    "start_time": "2025-01-05T16:30:10.645Z"
   },
   {
    "duration": 163,
    "start_time": "2025-01-05T16:30:10.683Z"
   },
   {
    "duration": 19,
    "start_time": "2025-01-05T16:30:10.847Z"
   },
   {
    "duration": 23,
    "start_time": "2025-01-05T16:30:10.868Z"
   },
   {
    "duration": 60,
    "start_time": "2025-01-05T16:30:10.893Z"
   },
   {
    "duration": 3,
    "start_time": "2025-01-05T16:30:10.955Z"
   },
   {
    "duration": 36,
    "start_time": "2025-01-05T16:30:10.960Z"
   },
   {
    "duration": 44,
    "start_time": "2025-01-05T16:30:10.998Z"
   },
   {
    "duration": 10,
    "start_time": "2025-01-05T16:30:11.043Z"
   },
   {
    "duration": 29,
    "start_time": "2025-01-05T16:30:11.054Z"
   },
   {
    "duration": 52,
    "start_time": "2025-01-05T16:30:11.085Z"
   },
   {
    "duration": 29,
    "start_time": "2025-01-05T16:30:11.141Z"
   },
   {
    "duration": 89,
    "start_time": "2025-01-05T16:30:11.171Z"
   },
   {
    "duration": 124,
    "start_time": "2025-01-05T16:30:11.261Z"
   },
   {
    "duration": 0,
    "start_time": "2025-01-05T16:30:11.387Z"
   },
   {
    "duration": 0,
    "start_time": "2025-01-05T16:30:11.388Z"
   },
   {
    "duration": 0,
    "start_time": "2025-01-05T16:30:11.389Z"
   },
   {
    "duration": 0,
    "start_time": "2025-01-05T16:30:11.390Z"
   },
   {
    "duration": 0,
    "start_time": "2025-01-05T16:30:11.391Z"
   },
   {
    "duration": 0,
    "start_time": "2025-01-05T16:30:11.392Z"
   },
   {
    "duration": 0,
    "start_time": "2025-01-05T16:30:11.393Z"
   },
   {
    "duration": 22,
    "start_time": "2025-01-05T16:31:26.385Z"
   },
   {
    "duration": 435,
    "start_time": "2025-01-05T16:31:32.106Z"
   },
   {
    "duration": 813,
    "start_time": "2025-01-05T16:31:32.543Z"
   },
   {
    "duration": 2477,
    "start_time": "2025-01-05T16:31:33.358Z"
   },
   {
    "duration": 1896,
    "start_time": "2025-01-05T16:31:35.837Z"
   },
   {
    "duration": 186,
    "start_time": "2025-01-05T16:31:37.735Z"
   },
   {
    "duration": 18,
    "start_time": "2025-01-05T16:31:37.923Z"
   },
   {
    "duration": 28,
    "start_time": "2025-01-05T16:31:37.942Z"
   },
   {
    "duration": 44,
    "start_time": "2025-01-05T16:31:37.971Z"
   },
   {
    "duration": 100,
    "start_time": "2025-01-05T16:31:38.017Z"
   },
   {
    "duration": 80,
    "start_time": "2025-01-05T16:31:38.119Z"
   },
   {
    "duration": 24,
    "start_time": "2025-01-05T16:31:38.200Z"
   },
   {
    "duration": 39,
    "start_time": "2025-01-05T16:31:38.226Z"
   },
   {
    "duration": 16,
    "start_time": "2025-01-05T16:31:38.267Z"
   },
   {
    "duration": 26,
    "start_time": "2025-01-05T16:31:38.287Z"
   },
   {
    "duration": 16,
    "start_time": "2025-01-05T16:31:38.314Z"
   },
   {
    "duration": 148,
    "start_time": "2025-01-05T16:31:38.331Z"
   },
   {
    "duration": 814,
    "start_time": "2025-01-05T16:31:38.481Z"
   },
   {
    "duration": 7,
    "start_time": "2025-01-05T16:31:39.297Z"
   },
   {
    "duration": 489,
    "start_time": "2025-01-05T16:31:39.306Z"
   },
   {
    "duration": 200,
    "start_time": "2025-01-05T16:31:39.796Z"
   },
   {
    "duration": 163,
    "start_time": "2025-01-05T16:31:39.998Z"
   },
   {
    "duration": 54,
    "start_time": "2025-01-05T16:31:40.163Z"
   },
   {
    "duration": 54,
    "start_time": "2025-01-05T16:31:40.219Z"
   },
   {
    "duration": 33,
    "start_time": "2025-01-05T16:31:40.275Z"
   },
   {
    "duration": 79,
    "start_time": "2025-01-05T16:31:40.310Z"
   },
   {
    "duration": 5,
    "start_time": "2025-01-05T16:31:40.391Z"
   },
   {
    "duration": 24,
    "start_time": "2025-01-05T16:31:40.397Z"
   },
   {
    "duration": 207,
    "start_time": "2025-01-05T16:31:40.422Z"
   },
   {
    "duration": 37,
    "start_time": "2025-01-05T16:31:40.631Z"
   },
   {
    "duration": 34,
    "start_time": "2025-01-05T16:31:40.670Z"
   },
   {
    "duration": 161,
    "start_time": "2025-01-05T16:31:40.706Z"
   },
   {
    "duration": 16,
    "start_time": "2025-01-05T16:31:40.869Z"
   },
   {
    "duration": 21,
    "start_time": "2025-01-05T16:31:40.887Z"
   },
   {
    "duration": 48,
    "start_time": "2025-01-05T16:31:40.909Z"
   },
   {
    "duration": 3,
    "start_time": "2025-01-05T16:31:40.959Z"
   },
   {
    "duration": 35,
    "start_time": "2025-01-05T16:31:40.964Z"
   },
   {
    "duration": 62,
    "start_time": "2025-01-05T16:31:41.001Z"
   },
   {
    "duration": 10,
    "start_time": "2025-01-05T16:31:41.065Z"
   },
   {
    "duration": 35,
    "start_time": "2025-01-05T16:31:41.077Z"
   },
   {
    "duration": 49,
    "start_time": "2025-01-05T16:31:41.114Z"
   },
   {
    "duration": 28,
    "start_time": "2025-01-05T16:31:41.168Z"
   },
   {
    "duration": 95,
    "start_time": "2025-01-05T16:31:41.198Z"
   },
   {
    "duration": 123,
    "start_time": "2025-01-05T16:31:41.295Z"
   },
   {
    "duration": 0,
    "start_time": "2025-01-05T16:31:41.420Z"
   },
   {
    "duration": 0,
    "start_time": "2025-01-05T16:31:41.422Z"
   },
   {
    "duration": 0,
    "start_time": "2025-01-05T16:31:41.424Z"
   },
   {
    "duration": 0,
    "start_time": "2025-01-05T16:31:41.438Z"
   },
   {
    "duration": 0,
    "start_time": "2025-01-05T16:31:41.439Z"
   },
   {
    "duration": 0,
    "start_time": "2025-01-05T16:31:41.441Z"
   },
   {
    "duration": 0,
    "start_time": "2025-01-05T16:31:41.443Z"
   },
   {
    "duration": 12,
    "start_time": "2025-01-05T16:32:26.216Z"
   },
   {
    "duration": 10,
    "start_time": "2025-01-05T16:32:33.999Z"
   },
   {
    "duration": 9,
    "start_time": "2025-01-05T16:32:40.733Z"
   },
   {
    "duration": 35,
    "start_time": "2025-01-05T16:32:54.190Z"
   },
   {
    "duration": 17,
    "start_time": "2025-01-05T16:33:38.056Z"
   },
   {
    "duration": 1582,
    "start_time": "2025-01-05T16:33:52.092Z"
   },
   {
    "duration": 398,
    "start_time": "2025-01-05T16:34:02.265Z"
   },
   {
    "duration": 796,
    "start_time": "2025-01-05T16:34:02.665Z"
   },
   {
    "duration": 2490,
    "start_time": "2025-01-05T16:34:03.463Z"
   },
   {
    "duration": 1966,
    "start_time": "2025-01-05T16:34:05.955Z"
   },
   {
    "duration": 179,
    "start_time": "2025-01-05T16:34:07.924Z"
   },
   {
    "duration": 13,
    "start_time": "2025-01-05T16:34:08.105Z"
   },
   {
    "duration": 21,
    "start_time": "2025-01-05T16:34:08.119Z"
   },
   {
    "duration": 67,
    "start_time": "2025-01-05T16:34:08.142Z"
   },
   {
    "duration": 37,
    "start_time": "2025-01-05T16:34:08.215Z"
   },
   {
    "duration": 99,
    "start_time": "2025-01-05T16:34:08.254Z"
   },
   {
    "duration": 17,
    "start_time": "2025-01-05T16:34:08.355Z"
   },
   {
    "duration": 38,
    "start_time": "2025-01-05T16:34:08.374Z"
   },
   {
    "duration": 110,
    "start_time": "2025-01-05T16:34:08.414Z"
   },
   {
    "duration": 0,
    "start_time": "2025-01-05T16:34:08.527Z"
   },
   {
    "duration": 0,
    "start_time": "2025-01-05T16:34:08.528Z"
   },
   {
    "duration": 0,
    "start_time": "2025-01-05T16:34:08.529Z"
   },
   {
    "duration": 0,
    "start_time": "2025-01-05T16:34:08.538Z"
   },
   {
    "duration": 0,
    "start_time": "2025-01-05T16:34:08.539Z"
   },
   {
    "duration": 0,
    "start_time": "2025-01-05T16:34:08.541Z"
   },
   {
    "duration": 0,
    "start_time": "2025-01-05T16:34:08.542Z"
   },
   {
    "duration": 0,
    "start_time": "2025-01-05T16:34:08.543Z"
   },
   {
    "duration": 0,
    "start_time": "2025-01-05T16:34:08.545Z"
   },
   {
    "duration": 1,
    "start_time": "2025-01-05T16:34:08.546Z"
   },
   {
    "duration": 0,
    "start_time": "2025-01-05T16:34:08.548Z"
   },
   {
    "duration": 0,
    "start_time": "2025-01-05T16:34:08.549Z"
   },
   {
    "duration": 0,
    "start_time": "2025-01-05T16:34:08.550Z"
   },
   {
    "duration": 0,
    "start_time": "2025-01-05T16:34:08.551Z"
   },
   {
    "duration": 0,
    "start_time": "2025-01-05T16:34:08.551Z"
   },
   {
    "duration": 0,
    "start_time": "2025-01-05T16:34:08.552Z"
   },
   {
    "duration": 0,
    "start_time": "2025-01-05T16:34:08.554Z"
   },
   {
    "duration": 0,
    "start_time": "2025-01-05T16:34:08.555Z"
   },
   {
    "duration": 0,
    "start_time": "2025-01-05T16:34:08.556Z"
   },
   {
    "duration": 0,
    "start_time": "2025-01-05T16:34:08.557Z"
   },
   {
    "duration": 0,
    "start_time": "2025-01-05T16:34:08.558Z"
   },
   {
    "duration": 0,
    "start_time": "2025-01-05T16:34:08.559Z"
   },
   {
    "duration": 0,
    "start_time": "2025-01-05T16:34:08.560Z"
   },
   {
    "duration": 0,
    "start_time": "2025-01-05T16:34:08.562Z"
   },
   {
    "duration": 0,
    "start_time": "2025-01-05T16:34:08.563Z"
   },
   {
    "duration": 0,
    "start_time": "2025-01-05T16:34:08.564Z"
   },
   {
    "duration": 0,
    "start_time": "2025-01-05T16:34:08.565Z"
   },
   {
    "duration": 0,
    "start_time": "2025-01-05T16:34:08.566Z"
   },
   {
    "duration": 0,
    "start_time": "2025-01-05T16:34:08.567Z"
   },
   {
    "duration": 0,
    "start_time": "2025-01-05T16:34:08.568Z"
   },
   {
    "duration": 0,
    "start_time": "2025-01-05T16:34:08.568Z"
   },
   {
    "duration": 0,
    "start_time": "2025-01-05T16:34:08.569Z"
   },
   {
    "duration": 0,
    "start_time": "2025-01-05T16:34:08.570Z"
   },
   {
    "duration": 0,
    "start_time": "2025-01-05T16:34:08.571Z"
   },
   {
    "duration": 0,
    "start_time": "2025-01-05T16:34:08.572Z"
   },
   {
    "duration": 0,
    "start_time": "2025-01-05T16:34:08.573Z"
   },
   {
    "duration": 0,
    "start_time": "2025-01-05T16:34:08.574Z"
   },
   {
    "duration": 436,
    "start_time": "2025-01-05T16:34:24.714Z"
   },
   {
    "duration": 813,
    "start_time": "2025-01-05T16:34:25.152Z"
   },
   {
    "duration": 2568,
    "start_time": "2025-01-05T16:34:25.966Z"
   },
   {
    "duration": 2150,
    "start_time": "2025-01-05T16:34:28.536Z"
   },
   {
    "duration": 193,
    "start_time": "2025-01-05T16:34:30.687Z"
   },
   {
    "duration": 12,
    "start_time": "2025-01-05T16:34:30.882Z"
   },
   {
    "duration": 3,
    "start_time": "2025-01-05T16:34:30.896Z"
   },
   {
    "duration": 46,
    "start_time": "2025-01-05T16:34:30.901Z"
   },
   {
    "duration": 25,
    "start_time": "2025-01-05T16:34:30.949Z"
   },
   {
    "duration": 98,
    "start_time": "2025-01-05T16:34:30.976Z"
   },
   {
    "duration": 16,
    "start_time": "2025-01-05T16:34:31.076Z"
   },
   {
    "duration": 43,
    "start_time": "2025-01-05T16:34:31.094Z"
   },
   {
    "duration": 112,
    "start_time": "2025-01-05T16:34:31.138Z"
   },
   {
    "duration": 0,
    "start_time": "2025-01-05T16:34:31.252Z"
   },
   {
    "duration": 0,
    "start_time": "2025-01-05T16:34:31.254Z"
   },
   {
    "duration": 0,
    "start_time": "2025-01-05T16:34:31.255Z"
   },
   {
    "duration": 0,
    "start_time": "2025-01-05T16:34:31.256Z"
   },
   {
    "duration": 0,
    "start_time": "2025-01-05T16:34:31.256Z"
   },
   {
    "duration": 0,
    "start_time": "2025-01-05T16:34:31.257Z"
   },
   {
    "duration": 0,
    "start_time": "2025-01-05T16:34:31.258Z"
   },
   {
    "duration": 0,
    "start_time": "2025-01-05T16:34:31.260Z"
   },
   {
    "duration": 0,
    "start_time": "2025-01-05T16:34:31.261Z"
   },
   {
    "duration": 0,
    "start_time": "2025-01-05T16:34:31.262Z"
   },
   {
    "duration": 0,
    "start_time": "2025-01-05T16:34:31.263Z"
   },
   {
    "duration": 0,
    "start_time": "2025-01-05T16:34:31.264Z"
   },
   {
    "duration": 0,
    "start_time": "2025-01-05T16:34:31.265Z"
   },
   {
    "duration": 0,
    "start_time": "2025-01-05T16:34:31.266Z"
   },
   {
    "duration": 0,
    "start_time": "2025-01-05T16:34:31.267Z"
   },
   {
    "duration": 0,
    "start_time": "2025-01-05T16:34:31.268Z"
   },
   {
    "duration": 0,
    "start_time": "2025-01-05T16:34:31.269Z"
   },
   {
    "duration": 0,
    "start_time": "2025-01-05T16:34:31.270Z"
   },
   {
    "duration": 0,
    "start_time": "2025-01-05T16:34:31.270Z"
   },
   {
    "duration": 0,
    "start_time": "2025-01-05T16:34:31.271Z"
   },
   {
    "duration": 0,
    "start_time": "2025-01-05T16:34:31.272Z"
   },
   {
    "duration": 0,
    "start_time": "2025-01-05T16:34:31.273Z"
   },
   {
    "duration": 0,
    "start_time": "2025-01-05T16:34:31.274Z"
   },
   {
    "duration": 0,
    "start_time": "2025-01-05T16:34:31.276Z"
   },
   {
    "duration": 0,
    "start_time": "2025-01-05T16:34:31.277Z"
   },
   {
    "duration": 0,
    "start_time": "2025-01-05T16:34:31.278Z"
   },
   {
    "duration": 0,
    "start_time": "2025-01-05T16:34:31.279Z"
   },
   {
    "duration": 0,
    "start_time": "2025-01-05T16:34:31.280Z"
   },
   {
    "duration": 0,
    "start_time": "2025-01-05T16:34:31.281Z"
   },
   {
    "duration": 0,
    "start_time": "2025-01-05T16:34:31.282Z"
   },
   {
    "duration": 0,
    "start_time": "2025-01-05T16:34:31.283Z"
   },
   {
    "duration": 0,
    "start_time": "2025-01-05T16:34:31.336Z"
   },
   {
    "duration": 0,
    "start_time": "2025-01-05T16:34:31.338Z"
   },
   {
    "duration": 0,
    "start_time": "2025-01-05T16:34:31.339Z"
   },
   {
    "duration": 0,
    "start_time": "2025-01-05T16:34:31.340Z"
   },
   {
    "duration": 0,
    "start_time": "2025-01-05T16:34:31.341Z"
   },
   {
    "duration": 0,
    "start_time": "2025-01-05T16:34:31.342Z"
   },
   {
    "duration": 9,
    "start_time": "2025-01-05T16:34:50.313Z"
   },
   {
    "duration": 3,
    "start_time": "2025-01-05T16:34:51.789Z"
   },
   {
    "duration": 8,
    "start_time": "2025-01-05T16:34:53.935Z"
   },
   {
    "duration": 93,
    "start_time": "2025-01-05T16:34:54.175Z"
   },
   {
    "duration": 832,
    "start_time": "2025-01-05T16:34:54.462Z"
   },
   {
    "duration": 10,
    "start_time": "2025-01-05T16:34:55.296Z"
   },
   {
    "duration": 488,
    "start_time": "2025-01-05T16:34:55.307Z"
   },
   {
    "duration": 194,
    "start_time": "2025-01-05T16:34:55.797Z"
   },
   {
    "duration": 151,
    "start_time": "2025-01-05T16:34:55.993Z"
   },
   {
    "duration": 58,
    "start_time": "2025-01-05T16:34:56.146Z"
   },
   {
    "duration": 63,
    "start_time": "2025-01-05T16:34:56.206Z"
   },
   {
    "duration": 40,
    "start_time": "2025-01-05T16:34:56.274Z"
   },
   {
    "duration": 63,
    "start_time": "2025-01-05T16:34:57.437Z"
   },
   {
    "duration": 5,
    "start_time": "2025-01-05T16:34:57.745Z"
   },
   {
    "duration": 9,
    "start_time": "2025-01-05T16:34:58.053Z"
   },
   {
    "duration": 210,
    "start_time": "2025-01-05T16:34:58.337Z"
   },
   {
    "duration": 34,
    "start_time": "2025-01-05T16:34:59.216Z"
   },
   {
    "duration": 37,
    "start_time": "2025-01-05T16:34:59.544Z"
   },
   {
    "duration": 149,
    "start_time": "2025-01-05T16:34:59.889Z"
   },
   {
    "duration": 19,
    "start_time": "2025-01-05T16:35:00.935Z"
   },
   {
    "duration": 23,
    "start_time": "2025-01-05T16:35:01.186Z"
   },
   {
    "duration": 30,
    "start_time": "2025-01-05T16:35:01.508Z"
   },
   {
    "duration": 3,
    "start_time": "2025-01-05T16:35:01.818Z"
   },
   {
    "duration": 34,
    "start_time": "2025-01-05T16:35:02.097Z"
   },
   {
    "duration": 40,
    "start_time": "2025-01-05T16:35:02.402Z"
   },
   {
    "duration": 11,
    "start_time": "2025-01-05T16:35:02.944Z"
   },
   {
    "duration": 28,
    "start_time": "2025-01-05T16:35:03.201Z"
   },
   {
    "duration": 33,
    "start_time": "2025-01-05T16:35:03.470Z"
   },
   {
    "duration": 29,
    "start_time": "2025-01-05T16:35:03.726Z"
   },
   {
    "duration": 73,
    "start_time": "2025-01-05T16:35:04.017Z"
   },
   {
    "duration": 22,
    "start_time": "2025-01-05T16:35:04.213Z"
   },
   {
    "duration": 9,
    "start_time": "2025-01-05T16:35:04.457Z"
   },
   {
    "duration": 9,
    "start_time": "2025-01-05T16:35:04.672Z"
   },
   {
    "duration": 8,
    "start_time": "2025-01-05T16:35:04.855Z"
   },
   {
    "duration": 9,
    "start_time": "2025-01-05T16:35:05.260Z"
   },
   {
    "duration": 9,
    "start_time": "2025-01-05T16:35:05.491Z"
   },
   {
    "duration": 8,
    "start_time": "2025-01-05T16:35:05.700Z"
   },
   {
    "duration": 10,
    "start_time": "2025-01-05T16:35:05.895Z"
   },
   {
    "duration": 80,
    "start_time": "2025-01-05T16:40:09.471Z"
   },
   {
    "duration": 77,
    "start_time": "2025-01-05T16:40:25.561Z"
   },
   {
    "duration": 67,
    "start_time": "2025-01-05T16:40:53.610Z"
   },
   {
    "duration": 50,
    "start_time": "2025-01-05T16:41:47.507Z"
   },
   {
    "duration": 36,
    "start_time": "2025-01-05T16:41:57.389Z"
   },
   {
    "duration": 20,
    "start_time": "2025-01-05T16:43:15.671Z"
   },
   {
    "duration": 30,
    "start_time": "2025-01-05T16:43:41.547Z"
   },
   {
    "duration": 34,
    "start_time": "2025-01-05T16:43:48.947Z"
   },
   {
    "duration": 33,
    "start_time": "2025-01-05T16:44:26.088Z"
   },
   {
    "duration": 34,
    "start_time": "2025-01-05T16:45:52.279Z"
   },
   {
    "duration": 29,
    "start_time": "2025-01-05T16:46:46.790Z"
   },
   {
    "duration": 39,
    "start_time": "2025-01-05T16:47:23.819Z"
   },
   {
    "duration": 37,
    "start_time": "2025-01-05T16:47:55.125Z"
   },
   {
    "duration": 42,
    "start_time": "2025-01-05T16:48:29.422Z"
   },
   {
    "duration": 37,
    "start_time": "2025-01-05T16:49:25.095Z"
   },
   {
    "duration": 418,
    "start_time": "2025-01-05T16:54:23.936Z"
   },
   {
    "duration": 805,
    "start_time": "2025-01-05T16:54:24.356Z"
   },
   {
    "duration": 2535,
    "start_time": "2025-01-05T16:54:25.163Z"
   },
   {
    "duration": 2887,
    "start_time": "2025-01-05T16:54:27.700Z"
   },
   {
    "duration": 198,
    "start_time": "2025-01-05T16:54:30.589Z"
   },
   {
    "duration": 13,
    "start_time": "2025-01-05T16:54:30.788Z"
   },
   {
    "duration": 16,
    "start_time": "2025-01-05T16:54:30.802Z"
   },
   {
    "duration": 29,
    "start_time": "2025-01-05T16:54:30.820Z"
   },
   {
    "duration": 16,
    "start_time": "2025-01-05T16:54:30.850Z"
   },
   {
    "duration": 81,
    "start_time": "2025-01-05T16:54:30.867Z"
   },
   {
    "duration": 16,
    "start_time": "2025-01-05T16:54:30.950Z"
   },
   {
    "duration": 22,
    "start_time": "2025-01-05T16:54:30.967Z"
   },
   {
    "duration": 30,
    "start_time": "2025-01-05T16:54:30.991Z"
   },
   {
    "duration": 9,
    "start_time": "2025-01-05T16:54:31.024Z"
   },
   {
    "duration": 18,
    "start_time": "2025-01-05T16:54:31.035Z"
   },
   {
    "duration": 114,
    "start_time": "2025-01-05T16:54:31.055Z"
   },
   {
    "duration": 866,
    "start_time": "2025-01-05T16:54:31.171Z"
   },
   {
    "duration": 8,
    "start_time": "2025-01-05T16:54:32.039Z"
   },
   {
    "duration": 534,
    "start_time": "2025-01-05T16:54:32.048Z"
   },
   {
    "duration": 212,
    "start_time": "2025-01-05T16:54:32.584Z"
   },
   {
    "duration": 157,
    "start_time": "2025-01-05T16:54:32.798Z"
   },
   {
    "duration": 59,
    "start_time": "2025-01-05T16:54:32.957Z"
   },
   {
    "duration": 55,
    "start_time": "2025-01-05T16:54:33.018Z"
   },
   {
    "duration": 30,
    "start_time": "2025-01-05T16:54:33.074Z"
   },
   {
    "duration": 91,
    "start_time": "2025-01-05T16:54:33.107Z"
   },
   {
    "duration": 5,
    "start_time": "2025-01-05T16:54:33.200Z"
   },
   {
    "duration": 27,
    "start_time": "2025-01-05T16:54:33.206Z"
   },
   {
    "duration": 216,
    "start_time": "2025-01-05T16:54:33.235Z"
   },
   {
    "duration": 33,
    "start_time": "2025-01-05T16:54:33.453Z"
   },
   {
    "duration": 106,
    "start_time": "2025-01-05T16:54:33.487Z"
   },
   {
    "duration": 144,
    "start_time": "2025-01-05T16:54:33.595Z"
   },
   {
    "duration": 17,
    "start_time": "2025-01-05T16:54:33.741Z"
   },
   {
    "duration": 23,
    "start_time": "2025-01-05T16:54:33.761Z"
   },
   {
    "duration": 53,
    "start_time": "2025-01-05T16:54:33.786Z"
   },
   {
    "duration": 3,
    "start_time": "2025-01-05T16:54:33.841Z"
   },
   {
    "duration": 60,
    "start_time": "2025-01-05T16:54:33.845Z"
   },
   {
    "duration": 11,
    "start_time": "2025-01-05T16:54:33.907Z"
   },
   {
    "duration": 37,
    "start_time": "2025-01-05T16:54:33.920Z"
   },
   {
    "duration": 38,
    "start_time": "2025-01-05T16:54:33.959Z"
   },
   {
    "duration": 54,
    "start_time": "2025-01-05T16:54:33.999Z"
   },
   {
    "duration": 28,
    "start_time": "2025-01-05T16:54:54.744Z"
   },
   {
    "duration": 33,
    "start_time": "2025-01-05T16:55:01.755Z"
   },
   {
    "duration": 34,
    "start_time": "2025-01-05T16:55:34.375Z"
   },
   {
    "duration": 29,
    "start_time": "2025-01-05T16:57:34.150Z"
   },
   {
    "duration": 132,
    "start_time": "2025-01-05T17:08:56.384Z"
   },
   {
    "duration": 120,
    "start_time": "2025-01-05T17:09:14.802Z"
   },
   {
    "duration": 17,
    "start_time": "2025-01-05T17:10:05.710Z"
   },
   {
    "duration": 13,
    "start_time": "2025-01-05T17:10:13.742Z"
   },
   {
    "duration": 6,
    "start_time": "2025-01-05T17:10:33.908Z"
   },
   {
    "duration": 11,
    "start_time": "2025-01-05T17:10:45.588Z"
   },
   {
    "duration": 16,
    "start_time": "2025-01-05T17:11:50.682Z"
   },
   {
    "duration": 12,
    "start_time": "2025-01-05T17:11:52.728Z"
   },
   {
    "duration": 6,
    "start_time": "2025-01-05T17:11:56.891Z"
   },
   {
    "duration": 10,
    "start_time": "2025-01-05T17:11:57.697Z"
   },
   {
    "duration": 161,
    "start_time": "2025-01-05T17:17:26.103Z"
   },
   {
    "duration": 105,
    "start_time": "2025-01-05T17:17:51.304Z"
   },
   {
    "duration": 122,
    "start_time": "2025-01-05T17:18:44.732Z"
   },
   {
    "duration": 1320,
    "start_time": "2025-01-05T17:19:41.446Z"
   },
   {
    "duration": 13,
    "start_time": "2025-01-05T17:19:57.769Z"
   },
   {
    "duration": 1500,
    "start_time": "2025-01-05T17:20:11.973Z"
   },
   {
    "duration": 19,
    "start_time": "2025-01-05T17:20:17.479Z"
   },
   {
    "duration": 21,
    "start_time": "2025-01-05T17:20:21.821Z"
   },
   {
    "duration": 18,
    "start_time": "2025-01-05T17:20:34.555Z"
   },
   {
    "duration": 19,
    "start_time": "2025-01-05T17:20:39.802Z"
   },
   {
    "duration": 14,
    "start_time": "2025-01-05T17:20:47.334Z"
   },
   {
    "duration": 18,
    "start_time": "2025-01-05T17:20:59.674Z"
   },
   {
    "duration": 15,
    "start_time": "2025-01-05T17:21:09.552Z"
   },
   {
    "duration": 589,
    "start_time": "2025-01-05T17:23:44.569Z"
   },
   {
    "duration": 11,
    "start_time": "2025-01-05T17:35:28.771Z"
   },
   {
    "duration": 9,
    "start_time": "2025-01-05T17:35:42.085Z"
   },
   {
    "duration": 10,
    "start_time": "2025-01-05T17:36:34.226Z"
   },
   {
    "duration": 10,
    "start_time": "2025-01-05T17:36:53.190Z"
   },
   {
    "duration": 10,
    "start_time": "2025-01-05T17:36:57.756Z"
   },
   {
    "duration": 46,
    "start_time": "2025-01-05T17:37:49.799Z"
   },
   {
    "duration": 60,
    "start_time": "2025-01-05T17:38:41.798Z"
   },
   {
    "duration": 53,
    "start_time": "2025-01-05T22:24:57.746Z"
   },
   {
    "duration": 48,
    "start_time": "2025-01-05T22:33:35.387Z"
   },
   {
    "duration": 384,
    "start_time": "2025-01-05T22:34:02.487Z"
   },
   {
    "duration": 882,
    "start_time": "2025-01-05T22:34:02.873Z"
   },
   {
    "duration": 2557,
    "start_time": "2025-01-05T22:34:03.757Z"
   },
   {
    "duration": 2756,
    "start_time": "2025-01-05T22:34:06.316Z"
   },
   {
    "duration": 185,
    "start_time": "2025-01-05T22:34:09.074Z"
   },
   {
    "duration": 11,
    "start_time": "2025-01-05T22:34:09.261Z"
   },
   {
    "duration": 9,
    "start_time": "2025-01-05T22:34:09.273Z"
   },
   {
    "duration": 40,
    "start_time": "2025-01-05T22:34:09.284Z"
   },
   {
    "duration": 9,
    "start_time": "2025-01-05T22:34:09.325Z"
   },
   {
    "duration": 74,
    "start_time": "2025-01-05T22:34:09.338Z"
   },
   {
    "duration": 23,
    "start_time": "2025-01-05T22:34:09.414Z"
   },
   {
    "duration": 21,
    "start_time": "2025-01-05T22:34:09.438Z"
   },
   {
    "duration": 8,
    "start_time": "2025-01-05T22:34:09.461Z"
   },
   {
    "duration": 18,
    "start_time": "2025-01-05T22:34:09.470Z"
   },
   {
    "duration": 9,
    "start_time": "2025-01-05T22:34:09.489Z"
   },
   {
    "duration": 130,
    "start_time": "2025-01-05T22:34:09.500Z"
   },
   {
    "duration": 811,
    "start_time": "2025-01-05T22:34:09.632Z"
   },
   {
    "duration": 9,
    "start_time": "2025-01-05T22:34:10.445Z"
   },
   {
    "duration": 179,
    "start_time": "2025-01-05T22:34:10.455Z"
   },
   {
    "duration": 145,
    "start_time": "2025-01-05T22:34:10.637Z"
   },
   {
    "duration": 72,
    "start_time": "2025-01-05T22:34:10.784Z"
   },
   {
    "duration": 45,
    "start_time": "2025-01-05T22:34:10.857Z"
   },
   {
    "duration": 46,
    "start_time": "2025-01-05T22:34:10.904Z"
   },
   {
    "duration": 63,
    "start_time": "2025-01-05T22:34:10.952Z"
   },
   {
    "duration": 6,
    "start_time": "2025-01-05T22:34:11.017Z"
   },
   {
    "duration": 9,
    "start_time": "2025-01-05T22:34:11.037Z"
   },
   {
    "duration": 211,
    "start_time": "2025-01-05T22:34:11.047Z"
   },
   {
    "duration": 32,
    "start_time": "2025-01-05T22:34:11.261Z"
   },
   {
    "duration": 46,
    "start_time": "2025-01-05T22:34:11.294Z"
   },
   {
    "duration": 158,
    "start_time": "2025-01-05T22:34:11.342Z"
   },
   {
    "duration": 17,
    "start_time": "2025-01-05T22:34:11.502Z"
   },
   {
    "duration": 35,
    "start_time": "2025-01-05T22:34:11.520Z"
   },
   {
    "duration": 32,
    "start_time": "2025-01-05T22:34:11.557Z"
   },
   {
    "duration": 3,
    "start_time": "2025-01-05T22:34:11.590Z"
   },
   {
    "duration": 62,
    "start_time": "2025-01-05T22:34:11.594Z"
   },
   {
    "duration": 12,
    "start_time": "2025-01-05T22:34:11.657Z"
   },
   {
    "duration": 35,
    "start_time": "2025-01-05T22:34:11.671Z"
   },
   {
    "duration": 42,
    "start_time": "2025-01-05T22:34:11.707Z"
   },
   {
    "duration": 32,
    "start_time": "2025-01-05T22:34:11.750Z"
   },
   {
    "duration": 159,
    "start_time": "2025-01-05T22:34:11.783Z"
   },
   {
    "duration": 134,
    "start_time": "2025-01-05T22:34:11.944Z"
   },
   {
    "duration": 17,
    "start_time": "2025-01-05T22:34:12.080Z"
   },
   {
    "duration": 11,
    "start_time": "2025-01-05T22:34:12.099Z"
   },
   {
    "duration": 26,
    "start_time": "2025-01-05T22:34:12.112Z"
   },
   {
    "duration": 61,
    "start_time": "2025-01-05T22:34:12.140Z"
   },
   {
    "duration": 164,
    "start_time": "2025-01-05T22:34:12.203Z"
   },
   {
    "duration": 632,
    "start_time": "2025-01-05T22:34:12.369Z"
   },
   {
    "duration": 57,
    "start_time": "2025-01-05T22:34:13.003Z"
   },
   {
    "duration": 57,
    "start_time": "2025-01-05T22:34:47.796Z"
   },
   {
    "duration": 407,
    "start_time": "2025-01-05T22:35:02.399Z"
   },
   {
    "duration": 746,
    "start_time": "2025-01-05T22:35:02.809Z"
   },
   {
    "duration": 2527,
    "start_time": "2025-01-05T22:35:03.556Z"
   },
   {
    "duration": 2141,
    "start_time": "2025-01-05T22:35:06.085Z"
   },
   {
    "duration": 206,
    "start_time": "2025-01-05T22:35:08.230Z"
   },
   {
    "duration": 12,
    "start_time": "2025-01-05T22:35:08.438Z"
   },
   {
    "duration": 8,
    "start_time": "2025-01-05T22:35:08.452Z"
   },
   {
    "duration": 36,
    "start_time": "2025-01-05T22:35:08.461Z"
   },
   {
    "duration": 21,
    "start_time": "2025-01-05T22:35:08.499Z"
   },
   {
    "duration": 83,
    "start_time": "2025-01-05T22:35:08.522Z"
   },
   {
    "duration": 30,
    "start_time": "2025-01-05T22:35:08.607Z"
   },
   {
    "duration": 27,
    "start_time": "2025-01-05T22:35:08.638Z"
   },
   {
    "duration": 8,
    "start_time": "2025-01-05T22:35:08.667Z"
   },
   {
    "duration": 3,
    "start_time": "2025-01-05T22:35:08.679Z"
   },
   {
    "duration": 9,
    "start_time": "2025-01-05T22:35:08.684Z"
   },
   {
    "duration": 119,
    "start_time": "2025-01-05T22:35:08.694Z"
   },
   {
    "duration": 817,
    "start_time": "2025-01-05T22:35:08.815Z"
   },
   {
    "duration": 8,
    "start_time": "2025-01-05T22:35:09.636Z"
   },
   {
    "duration": 244,
    "start_time": "2025-01-05T22:35:09.646Z"
   },
   {
    "duration": 169,
    "start_time": "2025-01-05T22:35:09.892Z"
   },
   {
    "duration": 57,
    "start_time": "2025-01-05T22:35:10.062Z"
   },
   {
    "duration": 56,
    "start_time": "2025-01-05T22:35:10.121Z"
   },
   {
    "duration": 30,
    "start_time": "2025-01-05T22:35:10.179Z"
   },
   {
    "duration": 84,
    "start_time": "2025-01-05T22:35:10.210Z"
   },
   {
    "duration": 6,
    "start_time": "2025-01-05T22:35:10.295Z"
   },
   {
    "duration": 23,
    "start_time": "2025-01-05T22:35:10.302Z"
   },
   {
    "duration": 227,
    "start_time": "2025-01-05T22:35:10.326Z"
   },
   {
    "duration": 32,
    "start_time": "2025-01-05T22:35:10.555Z"
   },
   {
    "duration": 62,
    "start_time": "2025-01-05T22:35:10.589Z"
   },
   {
    "duration": 151,
    "start_time": "2025-01-05T22:35:10.653Z"
   },
   {
    "duration": 19,
    "start_time": "2025-01-05T22:35:10.805Z"
   },
   {
    "duration": 22,
    "start_time": "2025-01-05T22:35:10.836Z"
   },
   {
    "duration": 42,
    "start_time": "2025-01-05T22:35:10.860Z"
   },
   {
    "duration": 4,
    "start_time": "2025-01-05T22:35:10.903Z"
   },
   {
    "duration": 48,
    "start_time": "2025-01-05T22:35:10.908Z"
   },
   {
    "duration": 11,
    "start_time": "2025-01-05T22:35:10.957Z"
   },
   {
    "duration": 26,
    "start_time": "2025-01-05T22:35:10.970Z"
   },
   {
    "duration": 53,
    "start_time": "2025-01-05T22:35:10.998Z"
   },
   {
    "duration": 33,
    "start_time": "2025-01-05T22:35:11.052Z"
   },
   {
    "duration": 151,
    "start_time": "2025-01-05T22:35:11.087Z"
   },
   {
    "duration": 126,
    "start_time": "2025-01-05T22:35:11.242Z"
   },
   {
    "duration": 16,
    "start_time": "2025-01-05T22:35:11.370Z"
   },
   {
    "duration": 11,
    "start_time": "2025-01-05T22:35:11.388Z"
   },
   {
    "duration": 5,
    "start_time": "2025-01-05T22:35:11.400Z"
   },
   {
    "duration": 32,
    "start_time": "2025-01-05T22:35:11.406Z"
   },
   {
    "duration": 168,
    "start_time": "2025-01-05T22:35:11.440Z"
   },
   {
    "duration": 627,
    "start_time": "2025-01-05T22:35:11.610Z"
   },
   {
    "duration": 54,
    "start_time": "2025-01-05T22:35:12.239Z"
   },
   {
    "duration": 4,
    "start_time": "2025-01-05T22:37:34.503Z"
   },
   {
    "duration": 5,
    "start_time": "2025-01-05T22:38:18.165Z"
   },
   {
    "duration": 55,
    "start_time": "2025-01-05T22:39:26.019Z"
   },
   {
    "duration": 54,
    "start_time": "2025-01-05T22:39:50.032Z"
   },
   {
    "duration": 57,
    "start_time": "2025-01-05T22:39:57.397Z"
   },
   {
    "duration": 52,
    "start_time": "2025-01-05T22:40:35.872Z"
   },
   {
    "duration": 58,
    "start_time": "2025-01-05T22:42:21.512Z"
   },
   {
    "duration": 19,
    "start_time": "2025-01-05T22:43:30.600Z"
   },
   {
    "duration": 148,
    "start_time": "2025-01-05T22:44:51.058Z"
   },
   {
    "duration": 56,
    "start_time": "2025-01-05T22:44:59.309Z"
   },
   {
    "duration": 1332,
    "start_time": "2025-01-05T22:57:49.659Z"
   },
   {
    "duration": 80,
    "start_time": "2025-01-05T22:58:02.060Z"
   },
   {
    "duration": 80,
    "start_time": "2025-01-05T22:58:08.780Z"
   },
   {
    "duration": 16,
    "start_time": "2025-01-05T22:58:13.518Z"
   },
   {
    "duration": 11,
    "start_time": "2025-01-05T22:58:18.370Z"
   },
   {
    "duration": 215,
    "start_time": "2025-01-05T23:01:12.247Z"
   },
   {
    "duration": 16,
    "start_time": "2025-01-05T23:01:19.087Z"
   },
   {
    "duration": 12,
    "start_time": "2025-01-05T23:01:22.782Z"
   },
   {
    "duration": 175,
    "start_time": "2025-01-05T23:01:59.326Z"
   },
   {
    "duration": 24,
    "start_time": "2025-01-05T23:02:18.757Z"
   },
   {
    "duration": 128,
    "start_time": "2025-01-05T23:02:36.782Z"
   },
   {
    "duration": 199,
    "start_time": "2025-01-05T23:03:51.547Z"
   },
   {
    "duration": 15,
    "start_time": "2025-01-05T23:03:57.496Z"
   },
   {
    "duration": 14,
    "start_time": "2025-01-05T23:04:00.739Z"
   },
   {
    "duration": 4,
    "start_time": "2025-01-05T23:15:04.215Z"
   },
   {
    "duration": 5,
    "start_time": "2025-01-05T23:15:55.690Z"
   },
   {
    "duration": 115,
    "start_time": "2025-01-05T23:15:58.423Z"
   },
   {
    "duration": 200,
    "start_time": "2025-01-05T23:16:00.966Z"
   },
   {
    "duration": 16,
    "start_time": "2025-01-05T23:16:06.281Z"
   },
   {
    "duration": 13,
    "start_time": "2025-01-05T23:16:07.949Z"
   },
   {
    "duration": 292,
    "start_time": "2025-01-05T23:19:19.098Z"
   },
   {
    "duration": 258,
    "start_time": "2025-01-05T23:20:33.024Z"
   },
   {
    "duration": 39,
    "start_time": "2025-01-05T23:21:27.242Z"
   },
   {
    "duration": 37,
    "start_time": "2025-01-05T23:21:55.568Z"
   },
   {
    "duration": 50,
    "start_time": "2025-01-05T23:22:06.889Z"
   },
   {
    "duration": 96,
    "start_time": "2025-01-05T23:23:00.771Z"
   },
   {
    "duration": 16,
    "start_time": "2025-01-05T23:23:18.316Z"
   },
   {
    "duration": 4,
    "start_time": "2025-01-05T23:23:35.682Z"
   },
   {
    "duration": 15,
    "start_time": "2025-01-05T23:23:41.165Z"
   },
   {
    "duration": 401,
    "start_time": "2025-01-05T23:27:19.066Z"
   },
   {
    "duration": 781,
    "start_time": "2025-01-05T23:27:19.469Z"
   },
   {
    "duration": 2494,
    "start_time": "2025-01-05T23:27:20.252Z"
   },
   {
    "duration": 2448,
    "start_time": "2025-01-05T23:27:22.748Z"
   },
   {
    "duration": 97,
    "start_time": "2025-01-05T23:27:25.198Z"
   },
   {
    "duration": 14,
    "start_time": "2025-01-05T23:27:25.297Z"
   },
   {
    "duration": 3,
    "start_time": "2025-01-05T23:27:25.312Z"
   },
   {
    "duration": 22,
    "start_time": "2025-01-05T23:27:25.317Z"
   },
   {
    "duration": 76,
    "start_time": "2025-01-05T23:27:25.341Z"
   },
   {
    "duration": 33,
    "start_time": "2025-01-05T23:27:25.418Z"
   },
   {
    "duration": 23,
    "start_time": "2025-01-05T23:27:25.453Z"
   },
   {
    "duration": 9,
    "start_time": "2025-01-05T23:27:25.478Z"
   },
   {
    "duration": 7,
    "start_time": "2025-01-05T23:27:25.488Z"
   },
   {
    "duration": 27,
    "start_time": "2025-01-05T23:27:25.498Z"
   },
   {
    "duration": 112,
    "start_time": "2025-01-05T23:27:25.526Z"
   },
   {
    "duration": 817,
    "start_time": "2025-01-05T23:27:25.640Z"
   },
   {
    "duration": 9,
    "start_time": "2025-01-05T23:27:26.458Z"
   },
   {
    "duration": 192,
    "start_time": "2025-01-05T23:27:26.469Z"
   },
   {
    "duration": 155,
    "start_time": "2025-01-05T23:27:26.664Z"
   },
   {
    "duration": 63,
    "start_time": "2025-01-05T23:27:26.822Z"
   },
   {
    "duration": 72,
    "start_time": "2025-01-05T23:27:26.887Z"
   },
   {
    "duration": 32,
    "start_time": "2025-01-05T23:27:26.960Z"
   },
   {
    "duration": 77,
    "start_time": "2025-01-05T23:27:26.994Z"
   },
   {
    "duration": 5,
    "start_time": "2025-01-05T23:27:27.073Z"
   },
   {
    "duration": 13,
    "start_time": "2025-01-05T23:27:27.080Z"
   },
   {
    "duration": 219,
    "start_time": "2025-01-05T23:27:27.095Z"
   },
   {
    "duration": 42,
    "start_time": "2025-01-05T23:27:27.316Z"
   },
   {
    "duration": 36,
    "start_time": "2025-01-05T23:27:27.359Z"
   },
   {
    "duration": 159,
    "start_time": "2025-01-05T23:27:27.396Z"
   },
   {
    "duration": 17,
    "start_time": "2025-01-05T23:27:27.557Z"
   },
   {
    "duration": 22,
    "start_time": "2025-01-05T23:27:27.575Z"
   },
   {
    "duration": 49,
    "start_time": "2025-01-05T23:27:27.599Z"
   },
   {
    "duration": 3,
    "start_time": "2025-01-05T23:27:27.650Z"
   },
   {
    "duration": 36,
    "start_time": "2025-01-05T23:27:27.654Z"
   },
   {
    "duration": 12,
    "start_time": "2025-01-05T23:27:27.691Z"
   },
   {
    "duration": 54,
    "start_time": "2025-01-05T23:27:27.704Z"
   },
   {
    "duration": 44,
    "start_time": "2025-01-05T23:27:27.759Z"
   },
   {
    "duration": 28,
    "start_time": "2025-01-05T23:27:27.805Z"
   },
   {
    "duration": 138,
    "start_time": "2025-01-05T23:27:27.837Z"
   },
   {
    "duration": 121,
    "start_time": "2025-01-05T23:27:27.977Z"
   },
   {
    "duration": 15,
    "start_time": "2025-01-05T23:27:28.102Z"
   },
   {
    "duration": 34,
    "start_time": "2025-01-05T23:27:28.118Z"
   },
   {
    "duration": 4,
    "start_time": "2025-01-05T23:27:28.153Z"
   },
   {
    "duration": 14,
    "start_time": "2025-01-05T23:27:28.159Z"
   },
   {
    "duration": 172,
    "start_time": "2025-01-05T23:27:28.174Z"
   },
   {
    "duration": 632,
    "start_time": "2025-01-05T23:27:28.347Z"
   },
   {
    "duration": 59,
    "start_time": "2025-01-05T23:27:28.980Z"
   },
   {
    "duration": 23,
    "start_time": "2025-01-05T23:27:29.041Z"
   },
   {
    "duration": 3,
    "start_time": "2025-01-05T23:27:29.065Z"
   },
   {
    "duration": 15,
    "start_time": "2025-01-05T23:27:29.069Z"
   },
   {
    "duration": 136,
    "start_time": "2025-01-05T23:27:29.085Z"
   },
   {
    "duration": 193,
    "start_time": "2025-01-05T23:27:29.223Z"
   },
   {
    "duration": 23,
    "start_time": "2025-01-05T23:27:29.418Z"
   },
   {
    "duration": 307,
    "start_time": "2025-01-05T23:27:29.443Z"
   },
   {
    "duration": 266,
    "start_time": "2025-01-05T23:27:29.751Z"
   },
   {
    "duration": 22,
    "start_time": "2025-01-05T23:27:30.019Z"
   },
   {
    "duration": 69,
    "start_time": "2025-01-05T23:27:30.043Z"
   },
   {
    "duration": 83,
    "start_time": "2025-01-05T23:27:30.113Z"
   },
   {
    "duration": 405,
    "start_time": "2025-01-06T20:48:26.090Z"
   },
   {
    "duration": 813,
    "start_time": "2025-01-06T20:48:26.497Z"
   },
   {
    "duration": 3262,
    "start_time": "2025-01-06T20:48:27.312Z"
   },
   {
    "duration": 2622,
    "start_time": "2025-01-06T20:48:30.576Z"
   },
   {
    "duration": 107,
    "start_time": "2025-01-06T20:48:33.200Z"
   },
   {
    "duration": 14,
    "start_time": "2025-01-06T20:48:33.309Z"
   },
   {
    "duration": 18,
    "start_time": "2025-01-06T20:48:33.324Z"
   },
   {
    "duration": 17,
    "start_time": "2025-01-06T20:48:33.343Z"
   },
   {
    "duration": 82,
    "start_time": "2025-01-06T20:48:33.362Z"
   },
   {
    "duration": 3,
    "start_time": "2025-01-06T20:48:33.447Z"
   },
   {
    "duration": 18,
    "start_time": "2025-01-06T20:48:33.459Z"
   },
   {
    "duration": 24,
    "start_time": "2025-01-06T20:48:33.479Z"
   },
   {
    "duration": 13,
    "start_time": "2025-01-06T20:48:33.504Z"
   },
   {
    "duration": 16,
    "start_time": "2025-01-06T20:48:33.519Z"
   },
   {
    "duration": 25,
    "start_time": "2025-01-06T20:48:33.537Z"
   },
   {
    "duration": 118,
    "start_time": "2025-01-06T20:48:33.564Z"
   },
   {
    "duration": 922,
    "start_time": "2025-01-06T20:48:33.684Z"
   },
   {
    "duration": 15,
    "start_time": "2025-01-06T20:48:39.169Z"
   },
   {
    "duration": 455,
    "start_time": "2025-01-06T20:56:18.018Z"
   },
   {
    "duration": 831,
    "start_time": "2025-01-06T20:56:18.475Z"
   },
   {
    "duration": 3169,
    "start_time": "2025-01-06T20:56:19.308Z"
   },
   {
    "duration": 2635,
    "start_time": "2025-01-06T20:56:22.480Z"
   },
   {
    "duration": 108,
    "start_time": "2025-01-06T20:56:25.116Z"
   },
   {
    "duration": 14,
    "start_time": "2025-01-06T20:56:25.226Z"
   },
   {
    "duration": 7,
    "start_time": "2025-01-06T20:56:25.242Z"
   },
   {
    "duration": 9,
    "start_time": "2025-01-06T20:56:25.259Z"
   },
   {
    "duration": 93,
    "start_time": "2025-01-06T20:56:25.270Z"
   },
   {
    "duration": 3,
    "start_time": "2025-01-06T20:56:25.366Z"
   },
   {
    "duration": 67,
    "start_time": "2025-01-06T20:56:25.371Z"
   },
   {
    "duration": 30,
    "start_time": "2025-01-06T20:56:25.440Z"
   },
   {
    "duration": 10,
    "start_time": "2025-01-06T20:56:25.472Z"
   },
   {
    "duration": 10,
    "start_time": "2025-01-06T20:56:25.484Z"
   },
   {
    "duration": 10,
    "start_time": "2025-01-06T20:56:25.495Z"
   },
   {
    "duration": 129,
    "start_time": "2025-01-06T20:56:25.508Z"
   },
   {
    "duration": 926,
    "start_time": "2025-01-06T20:56:25.638Z"
   },
   {
    "duration": 10,
    "start_time": "2025-01-06T20:56:26.566Z"
   },
   {
    "duration": 222,
    "start_time": "2025-01-06T20:56:26.578Z"
   },
   {
    "duration": 175,
    "start_time": "2025-01-06T20:56:26.802Z"
   },
   {
    "duration": 12,
    "start_time": "2025-01-06T20:56:34.652Z"
   },
   {
    "duration": 437,
    "start_time": "2025-01-06T20:58:06.167Z"
   },
   {
    "duration": 874,
    "start_time": "2025-01-06T20:58:06.607Z"
   },
   {
    "duration": 3291,
    "start_time": "2025-01-06T20:58:07.482Z"
   },
   {
    "duration": 2111,
    "start_time": "2025-01-06T20:58:10.775Z"
   },
   {
    "duration": 115,
    "start_time": "2025-01-06T20:58:12.888Z"
   },
   {
    "duration": 17,
    "start_time": "2025-01-06T20:58:13.006Z"
   },
   {
    "duration": 5,
    "start_time": "2025-01-06T20:58:13.026Z"
   },
   {
    "duration": 36,
    "start_time": "2025-01-06T20:58:13.033Z"
   },
   {
    "duration": 99,
    "start_time": "2025-01-06T20:58:13.071Z"
   },
   {
    "duration": 4,
    "start_time": "2025-01-06T20:58:13.173Z"
   },
   {
    "duration": 18,
    "start_time": "2025-01-06T20:58:13.179Z"
   },
   {
    "duration": 30,
    "start_time": "2025-01-06T20:58:13.199Z"
   },
   {
    "duration": 29,
    "start_time": "2025-01-06T20:58:13.231Z"
   },
   {
    "duration": 4,
    "start_time": "2025-01-06T20:58:13.262Z"
   },
   {
    "duration": 10,
    "start_time": "2025-01-06T20:58:13.268Z"
   },
   {
    "duration": 141,
    "start_time": "2025-01-06T20:58:13.280Z"
   },
   {
    "duration": 931,
    "start_time": "2025-01-06T20:58:13.423Z"
   },
   {
    "duration": 8,
    "start_time": "2025-01-06T20:58:14.360Z"
   },
   {
    "duration": 217,
    "start_time": "2025-01-06T20:58:14.369Z"
   },
   {
    "duration": 174,
    "start_time": "2025-01-06T20:58:14.588Z"
   },
   {
    "duration": 65,
    "start_time": "2025-01-06T20:58:14.764Z"
   },
   {
    "duration": 66,
    "start_time": "2025-01-06T20:58:14.831Z"
   },
   {
    "duration": 36,
    "start_time": "2025-01-06T20:58:14.899Z"
   },
   {
    "duration": 29,
    "start_time": "2025-01-06T20:58:14.938Z"
   },
   {
    "duration": 234,
    "start_time": "2025-01-06T21:00:33.541Z"
   },
   {
    "duration": 270,
    "start_time": "2025-01-06T21:01:22.548Z"
   },
   {
    "duration": 107,
    "start_time": "2025-01-06T21:02:10.643Z"
   },
   {
    "duration": 2231,
    "start_time": "2025-01-06T21:02:17.918Z"
   },
   {
    "duration": 164,
    "start_time": "2025-01-06T21:02:23.401Z"
   },
   {
    "duration": 869,
    "start_time": "2025-01-06T23:48:51.533Z"
   },
   {
    "duration": 4589,
    "start_time": "2025-01-06T23:48:56.922Z"
   },
   {
    "duration": 59,
    "start_time": "2025-01-06T23:51:11.433Z"
   },
   {
    "duration": 426,
    "start_time": "2025-01-06T23:51:26.294Z"
   },
   {
    "duration": 994,
    "start_time": "2025-01-06T23:51:26.722Z"
   },
   {
    "duration": 2627,
    "start_time": "2025-01-06T23:51:27.717Z"
   },
   {
    "duration": 2280,
    "start_time": "2025-01-06T23:51:30.346Z"
   },
   {
    "duration": 99,
    "start_time": "2025-01-06T23:51:32.628Z"
   },
   {
    "duration": 14,
    "start_time": "2025-01-06T23:51:32.729Z"
   },
   {
    "duration": 4,
    "start_time": "2025-01-06T23:51:32.760Z"
   },
   {
    "duration": 15,
    "start_time": "2025-01-06T23:51:32.765Z"
   },
   {
    "duration": 11,
    "start_time": "2025-01-06T23:51:32.782Z"
   },
   {
    "duration": 108,
    "start_time": "2025-01-06T23:51:32.796Z"
   },
   {
    "duration": 18,
    "start_time": "2025-01-06T23:51:32.906Z"
   },
   {
    "duration": 51,
    "start_time": "2025-01-06T23:51:32.925Z"
   },
   {
    "duration": 56,
    "start_time": "2025-01-06T23:51:32.977Z"
   },
   {
    "duration": 41,
    "start_time": "2025-01-06T23:51:33.035Z"
   },
   {
    "duration": 25,
    "start_time": "2025-01-06T23:51:33.077Z"
   },
   {
    "duration": 14,
    "start_time": "2025-01-06T23:51:33.104Z"
   },
   {
    "duration": 124,
    "start_time": "2025-01-06T23:51:33.120Z"
   },
   {
    "duration": 898,
    "start_time": "2025-01-06T23:51:33.246Z"
   },
   {
    "duration": 17,
    "start_time": "2025-01-06T23:51:34.146Z"
   },
   {
    "duration": 208,
    "start_time": "2025-01-06T23:51:34.165Z"
   },
   {
    "duration": 172,
    "start_time": "2025-01-06T23:51:34.375Z"
   },
   {
    "duration": 66,
    "start_time": "2025-01-06T23:51:34.549Z"
   },
   {
    "duration": 65,
    "start_time": "2025-01-06T23:51:34.616Z"
   },
   {
    "duration": 34,
    "start_time": "2025-01-06T23:51:34.683Z"
   },
   {
    "duration": 86,
    "start_time": "2025-01-06T23:51:34.719Z"
   },
   {
    "duration": 6,
    "start_time": "2025-01-06T23:51:34.807Z"
   },
   {
    "duration": 16,
    "start_time": "2025-01-06T23:51:34.814Z"
   },
   {
    "duration": 220,
    "start_time": "2025-01-06T23:51:34.833Z"
   },
   {
    "duration": 38,
    "start_time": "2025-01-06T23:51:35.054Z"
   },
   {
    "duration": 35,
    "start_time": "2025-01-06T23:51:35.094Z"
   },
   {
    "duration": 176,
    "start_time": "2025-01-06T23:51:35.131Z"
   },
   {
    "duration": 18,
    "start_time": "2025-01-06T23:51:35.309Z"
   },
   {
    "duration": 36,
    "start_time": "2025-01-06T23:51:35.328Z"
   },
   {
    "duration": 30,
    "start_time": "2025-01-06T23:51:35.366Z"
   },
   {
    "duration": 12,
    "start_time": "2025-01-06T23:51:35.398Z"
   },
   {
    "duration": 53,
    "start_time": "2025-01-06T23:51:35.412Z"
   },
   {
    "duration": 12,
    "start_time": "2025-01-06T23:51:35.467Z"
   },
   {
    "duration": 33,
    "start_time": "2025-01-06T23:51:35.481Z"
   },
   {
    "duration": 50,
    "start_time": "2025-01-06T23:51:35.515Z"
   },
   {
    "duration": 36,
    "start_time": "2025-01-06T23:51:35.567Z"
   },
   {
    "duration": 162,
    "start_time": "2025-01-06T23:51:35.604Z"
   },
   {
    "duration": 133,
    "start_time": "2025-01-06T23:51:35.768Z"
   },
   {
    "duration": 17,
    "start_time": "2025-01-06T23:51:35.903Z"
   },
   {
    "duration": 62,
    "start_time": "2025-01-06T23:51:35.921Z"
   },
   {
    "duration": 45,
    "start_time": "2025-01-06T23:51:35.985Z"
   },
   {
    "duration": 55,
    "start_time": "2025-01-06T23:51:36.031Z"
   },
   {
    "duration": 175,
    "start_time": "2025-01-06T23:51:36.089Z"
   },
   {
    "duration": 676,
    "start_time": "2025-01-06T23:51:36.266Z"
   },
   {
    "duration": 61,
    "start_time": "2025-01-06T23:51:36.944Z"
   },
   {
    "duration": 25,
    "start_time": "2025-01-06T23:51:37.007Z"
   },
   {
    "duration": 25,
    "start_time": "2025-01-06T23:51:37.034Z"
   },
   {
    "duration": 6,
    "start_time": "2025-01-06T23:51:37.062Z"
   },
   {
    "duration": 129,
    "start_time": "2025-01-06T23:51:37.069Z"
   },
   {
    "duration": 248,
    "start_time": "2025-01-06T23:51:37.200Z"
   },
   {
    "duration": 21,
    "start_time": "2025-01-06T23:51:37.449Z"
   },
   {
    "duration": 337,
    "start_time": "2025-01-06T23:51:37.471Z"
   },
   {
    "duration": 313,
    "start_time": "2025-01-06T23:51:37.810Z"
   },
   {
    "duration": 15,
    "start_time": "2025-01-06T23:51:38.124Z"
   },
   {
    "duration": 35,
    "start_time": "2025-01-06T23:51:38.140Z"
   },
   {
    "duration": 15,
    "start_time": "2025-01-06T23:51:38.176Z"
   },
   {
    "duration": 119,
    "start_time": "2025-01-06T23:51:59.022Z"
   },
   {
    "duration": 16,
    "start_time": "2025-01-06T23:52:23.890Z"
   },
   {
    "duration": 28,
    "start_time": "2025-01-06T23:53:28.829Z"
   },
   {
    "duration": 35,
    "start_time": "2025-01-06T23:54:06.342Z"
   },
   {
    "duration": 109,
    "start_time": "2025-01-06T23:54:58.544Z"
   },
   {
    "duration": 25,
    "start_time": "2025-01-06T23:55:09.769Z"
   },
   {
    "duration": 31,
    "start_time": "2025-01-06T23:55:37.395Z"
   },
   {
    "duration": 44,
    "start_time": "2025-01-06T23:56:51.638Z"
   },
   {
    "duration": 45,
    "start_time": "2025-01-06T23:56:52.691Z"
   },
   {
    "duration": 9,
    "start_time": "2025-01-06T23:58:37.689Z"
   },
   {
    "duration": 9,
    "start_time": "2025-01-06T23:59:34.190Z"
   },
   {
    "duration": 8,
    "start_time": "2025-01-07T00:02:16.810Z"
   },
   {
    "duration": 10,
    "start_time": "2025-01-07T00:02:26.752Z"
   },
   {
    "duration": 452,
    "start_time": "2025-01-07T00:03:22.596Z"
   },
   {
    "duration": 861,
    "start_time": "2025-01-07T00:03:23.050Z"
   },
   {
    "duration": 2642,
    "start_time": "2025-01-07T00:03:23.913Z"
   },
   {
    "duration": 2168,
    "start_time": "2025-01-07T00:03:26.558Z"
   },
   {
    "duration": 102,
    "start_time": "2025-01-07T00:03:28.728Z"
   },
   {
    "duration": 14,
    "start_time": "2025-01-07T00:03:28.832Z"
   },
   {
    "duration": 4,
    "start_time": "2025-01-07T00:03:28.861Z"
   },
   {
    "duration": 17,
    "start_time": "2025-01-07T00:03:28.866Z"
   },
   {
    "duration": 59,
    "start_time": "2025-01-07T00:03:28.886Z"
   },
   {
    "duration": 9,
    "start_time": "2025-01-07T00:03:28.959Z"
   },
   {
    "duration": 95,
    "start_time": "2025-01-07T00:03:28.970Z"
   },
   {
    "duration": 3,
    "start_time": "2025-01-07T00:03:29.067Z"
   },
   {
    "duration": 18,
    "start_time": "2025-01-07T00:03:29.072Z"
   },
   {
    "duration": 26,
    "start_time": "2025-01-07T00:03:29.092Z"
   },
   {
    "duration": 49,
    "start_time": "2025-01-07T00:03:29.120Z"
   },
   {
    "duration": 24,
    "start_time": "2025-01-07T00:03:29.170Z"
   },
   {
    "duration": 16,
    "start_time": "2025-01-07T00:03:29.196Z"
   },
   {
    "duration": 47,
    "start_time": "2025-01-07T00:03:29.214Z"
   },
   {
    "duration": 10,
    "start_time": "2025-01-07T00:03:29.263Z"
   },
   {
    "duration": 5,
    "start_time": "2025-01-07T00:03:29.275Z"
   },
   {
    "duration": 42,
    "start_time": "2025-01-07T00:03:29.282Z"
   },
   {
    "duration": 60,
    "start_time": "2025-01-07T00:03:29.326Z"
   },
   {
    "duration": 8,
    "start_time": "2025-01-07T00:03:29.388Z"
   },
   {
    "duration": 126,
    "start_time": "2025-01-07T00:03:29.398Z"
   },
   {
    "duration": 899,
    "start_time": "2025-01-07T00:03:29.526Z"
   },
   {
    "duration": 9,
    "start_time": "2025-01-07T00:03:30.427Z"
   },
   {
    "duration": 22,
    "start_time": "2025-01-07T00:03:30.438Z"
   },
   {
    "duration": 122,
    "start_time": "2025-01-07T00:03:30.466Z"
   },
   {
    "duration": 0,
    "start_time": "2025-01-07T00:03:30.589Z"
   },
   {
    "duration": 0,
    "start_time": "2025-01-07T00:03:30.591Z"
   },
   {
    "duration": 0,
    "start_time": "2025-01-07T00:03:30.592Z"
   },
   {
    "duration": 0,
    "start_time": "2025-01-07T00:03:30.593Z"
   },
   {
    "duration": 0,
    "start_time": "2025-01-07T00:03:30.594Z"
   },
   {
    "duration": 0,
    "start_time": "2025-01-07T00:03:30.595Z"
   },
   {
    "duration": 0,
    "start_time": "2025-01-07T00:03:30.597Z"
   },
   {
    "duration": 0,
    "start_time": "2025-01-07T00:03:30.598Z"
   },
   {
    "duration": 0,
    "start_time": "2025-01-07T00:03:30.599Z"
   },
   {
    "duration": 0,
    "start_time": "2025-01-07T00:03:30.600Z"
   },
   {
    "duration": 0,
    "start_time": "2025-01-07T00:03:30.601Z"
   },
   {
    "duration": 0,
    "start_time": "2025-01-07T00:03:30.602Z"
   },
   {
    "duration": 0,
    "start_time": "2025-01-07T00:03:30.603Z"
   },
   {
    "duration": 0,
    "start_time": "2025-01-07T00:03:30.604Z"
   },
   {
    "duration": 0,
    "start_time": "2025-01-07T00:03:30.606Z"
   },
   {
    "duration": 0,
    "start_time": "2025-01-07T00:03:30.606Z"
   },
   {
    "duration": 0,
    "start_time": "2025-01-07T00:03:30.608Z"
   },
   {
    "duration": 0,
    "start_time": "2025-01-07T00:03:30.609Z"
   },
   {
    "duration": 0,
    "start_time": "2025-01-07T00:03:30.610Z"
   },
   {
    "duration": 0,
    "start_time": "2025-01-07T00:03:30.611Z"
   },
   {
    "duration": 0,
    "start_time": "2025-01-07T00:03:30.613Z"
   },
   {
    "duration": 0,
    "start_time": "2025-01-07T00:03:30.613Z"
   },
   {
    "duration": 0,
    "start_time": "2025-01-07T00:03:30.615Z"
   },
   {
    "duration": 0,
    "start_time": "2025-01-07T00:03:30.660Z"
   },
   {
    "duration": 0,
    "start_time": "2025-01-07T00:03:30.661Z"
   },
   {
    "duration": 0,
    "start_time": "2025-01-07T00:03:30.663Z"
   },
   {
    "duration": 0,
    "start_time": "2025-01-07T00:03:30.664Z"
   },
   {
    "duration": 0,
    "start_time": "2025-01-07T00:03:30.665Z"
   },
   {
    "duration": 0,
    "start_time": "2025-01-07T00:03:30.666Z"
   },
   {
    "duration": 0,
    "start_time": "2025-01-07T00:03:30.667Z"
   },
   {
    "duration": 0,
    "start_time": "2025-01-07T00:03:30.668Z"
   },
   {
    "duration": 0,
    "start_time": "2025-01-07T00:03:30.669Z"
   },
   {
    "duration": 0,
    "start_time": "2025-01-07T00:03:30.670Z"
   },
   {
    "duration": 0,
    "start_time": "2025-01-07T00:03:30.672Z"
   },
   {
    "duration": 0,
    "start_time": "2025-01-07T00:03:30.672Z"
   },
   {
    "duration": 0,
    "start_time": "2025-01-07T00:03:30.673Z"
   },
   {
    "duration": 0,
    "start_time": "2025-01-07T00:03:30.674Z"
   },
   {
    "duration": 0,
    "start_time": "2025-01-07T00:03:30.675Z"
   },
   {
    "duration": 0,
    "start_time": "2025-01-07T00:03:30.677Z"
   },
   {
    "duration": 0,
    "start_time": "2025-01-07T00:03:30.678Z"
   },
   {
    "duration": 0,
    "start_time": "2025-01-07T00:03:30.679Z"
   },
   {
    "duration": 9,
    "start_time": "2025-01-07T00:04:13.737Z"
   },
   {
    "duration": 435,
    "start_time": "2025-01-07T00:04:39.685Z"
   },
   {
    "duration": 878,
    "start_time": "2025-01-07T00:04:40.122Z"
   },
   {
    "duration": 2629,
    "start_time": "2025-01-07T00:04:41.002Z"
   },
   {
    "duration": 3175,
    "start_time": "2025-01-07T00:04:43.634Z"
   },
   {
    "duration": 109,
    "start_time": "2025-01-07T00:04:46.811Z"
   },
   {
    "duration": 15,
    "start_time": "2025-01-07T00:04:46.923Z"
   },
   {
    "duration": 20,
    "start_time": "2025-01-07T00:04:46.940Z"
   },
   {
    "duration": 17,
    "start_time": "2025-01-07T00:04:46.962Z"
   },
   {
    "duration": 74,
    "start_time": "2025-01-07T00:04:46.980Z"
   },
   {
    "duration": 10,
    "start_time": "2025-01-07T00:04:47.057Z"
   },
   {
    "duration": 91,
    "start_time": "2025-01-07T00:04:47.069Z"
   },
   {
    "duration": 4,
    "start_time": "2025-01-07T00:04:47.162Z"
   },
   {
    "duration": 30,
    "start_time": "2025-01-07T00:04:47.168Z"
   },
   {
    "duration": 24,
    "start_time": "2025-01-07T00:04:47.200Z"
   },
   {
    "duration": 36,
    "start_time": "2025-01-07T00:04:47.226Z"
   },
   {
    "duration": 24,
    "start_time": "2025-01-07T00:04:47.264Z"
   },
   {
    "duration": 16,
    "start_time": "2025-01-07T00:04:47.290Z"
   },
   {
    "duration": 30,
    "start_time": "2025-01-07T00:04:47.308Z"
   },
   {
    "duration": 12,
    "start_time": "2025-01-07T00:04:47.359Z"
   },
   {
    "duration": 9,
    "start_time": "2025-01-07T00:04:47.372Z"
   },
   {
    "duration": 58,
    "start_time": "2025-01-07T00:04:47.382Z"
   },
   {
    "duration": 52,
    "start_time": "2025-01-07T00:04:47.441Z"
   },
   {
    "duration": 9,
    "start_time": "2025-01-07T00:04:47.495Z"
   },
   {
    "duration": 123,
    "start_time": "2025-01-07T00:04:47.506Z"
   },
   {
    "duration": 957,
    "start_time": "2025-01-07T00:04:47.631Z"
   },
   {
    "duration": 11,
    "start_time": "2025-01-07T00:04:48.590Z"
   },
   {
    "duration": 14,
    "start_time": "2025-01-07T00:04:48.603Z"
   },
   {
    "duration": 15,
    "start_time": "2025-01-07T00:04:48.622Z"
   },
   {
    "duration": 220,
    "start_time": "2025-01-07T00:04:48.639Z"
   },
   {
    "duration": 183,
    "start_time": "2025-01-07T00:04:48.861Z"
   },
   {
    "duration": 76,
    "start_time": "2025-01-07T00:04:49.046Z"
   },
   {
    "duration": 69,
    "start_time": "2025-01-07T00:04:49.124Z"
   },
   {
    "duration": 37,
    "start_time": "2025-01-07T00:04:49.195Z"
   },
   {
    "duration": 91,
    "start_time": "2025-01-07T00:04:49.234Z"
   },
   {
    "duration": 7,
    "start_time": "2025-01-07T00:04:49.327Z"
   },
   {
    "duration": 25,
    "start_time": "2025-01-07T00:04:49.336Z"
   },
   {
    "duration": 311,
    "start_time": "2025-01-07T00:04:49.363Z"
   },
   {
    "duration": 37,
    "start_time": "2025-01-07T00:04:49.676Z"
   },
   {
    "duration": 55,
    "start_time": "2025-01-07T00:04:49.715Z"
   },
   {
    "duration": 46,
    "start_time": "2025-01-07T00:04:49.772Z"
   },
   {
    "duration": 41,
    "start_time": "2025-01-07T00:04:49.820Z"
   },
   {
    "duration": 26,
    "start_time": "2025-01-07T00:04:49.863Z"
   },
   {
    "duration": 33,
    "start_time": "2025-01-07T00:04:49.891Z"
   },
   {
    "duration": 3,
    "start_time": "2025-01-07T00:04:49.926Z"
   },
   {
    "duration": 67,
    "start_time": "2025-01-07T00:04:49.931Z"
   },
   {
    "duration": 12,
    "start_time": "2025-01-07T00:04:50.000Z"
   },
   {
    "duration": 47,
    "start_time": "2025-01-07T00:04:50.014Z"
   },
   {
    "duration": 48,
    "start_time": "2025-01-07T00:04:50.063Z"
   },
   {
    "duration": 59,
    "start_time": "2025-01-07T00:04:50.112Z"
   },
   {
    "duration": 165,
    "start_time": "2025-01-07T00:04:50.173Z"
   },
   {
    "duration": 138,
    "start_time": "2025-01-07T00:04:50.339Z"
   },
   {
    "duration": 17,
    "start_time": "2025-01-07T00:04:50.479Z"
   },
   {
    "duration": 29,
    "start_time": "2025-01-07T00:04:50.498Z"
   },
   {
    "duration": 12,
    "start_time": "2025-01-07T00:04:50.529Z"
   },
   {
    "duration": 30,
    "start_time": "2025-01-07T00:04:50.543Z"
   },
   {
    "duration": 180,
    "start_time": "2025-01-07T00:04:50.574Z"
   },
   {
    "duration": 712,
    "start_time": "2025-01-07T00:04:50.756Z"
   },
   {
    "duration": 57,
    "start_time": "2025-01-07T00:04:51.471Z"
   },
   {
    "duration": 46,
    "start_time": "2025-01-07T00:04:51.530Z"
   },
   {
    "duration": 22,
    "start_time": "2025-01-07T00:04:51.578Z"
   },
   {
    "duration": 14,
    "start_time": "2025-01-07T00:04:51.602Z"
   },
   {
    "duration": 167,
    "start_time": "2025-01-07T00:04:51.617Z"
   },
   {
    "duration": 247,
    "start_time": "2025-01-07T00:04:51.785Z"
   },
   {
    "duration": 16,
    "start_time": "2025-01-07T00:04:52.034Z"
   },
   {
    "duration": 330,
    "start_time": "2025-01-07T00:04:52.059Z"
   },
   {
    "duration": 290,
    "start_time": "2025-01-07T00:04:52.391Z"
   },
   {
    "duration": 14,
    "start_time": "2025-01-07T00:04:52.682Z"
   },
   {
    "duration": 31,
    "start_time": "2025-01-07T00:04:52.698Z"
   },
   {
    "duration": 14,
    "start_time": "2025-01-07T00:04:52.731Z"
   },
   {
    "duration": 311,
    "start_time": "2025-01-07T00:06:02.234Z"
   },
   {
    "duration": 489,
    "start_time": "2025-01-07T00:07:48.125Z"
   },
   {
    "duration": 887,
    "start_time": "2025-01-07T00:07:48.616Z"
   },
   {
    "duration": 2671,
    "start_time": "2025-01-07T00:07:49.504Z"
   },
   {
    "duration": 3182,
    "start_time": "2025-01-07T00:07:52.177Z"
   },
   {
    "duration": 103,
    "start_time": "2025-01-07T00:07:55.361Z"
   },
   {
    "duration": 15,
    "start_time": "2025-01-07T00:07:55.466Z"
   },
   {
    "duration": 4,
    "start_time": "2025-01-07T00:07:55.482Z"
   },
   {
    "duration": 11,
    "start_time": "2025-01-07T00:07:55.488Z"
   },
   {
    "duration": 81,
    "start_time": "2025-01-07T00:07:55.501Z"
   },
   {
    "duration": 9,
    "start_time": "2025-01-07T00:07:55.585Z"
   },
   {
    "duration": 95,
    "start_time": "2025-01-07T00:07:55.596Z"
   },
   {
    "duration": 4,
    "start_time": "2025-01-07T00:07:55.692Z"
   },
   {
    "duration": 19,
    "start_time": "2025-01-07T00:07:55.697Z"
   },
   {
    "duration": 21,
    "start_time": "2025-01-07T00:07:55.718Z"
   },
   {
    "duration": 46,
    "start_time": "2025-01-07T00:07:55.741Z"
   },
   {
    "duration": 23,
    "start_time": "2025-01-07T00:07:55.789Z"
   },
   {
    "duration": 17,
    "start_time": "2025-01-07T00:07:55.813Z"
   },
   {
    "duration": 42,
    "start_time": "2025-01-07T00:07:55.832Z"
   },
   {
    "duration": 10,
    "start_time": "2025-01-07T00:07:55.876Z"
   },
   {
    "duration": 10,
    "start_time": "2025-01-07T00:07:55.887Z"
   },
   {
    "duration": 47,
    "start_time": "2025-01-07T00:07:55.899Z"
   },
   {
    "duration": 44,
    "start_time": "2025-01-07T00:07:55.959Z"
   },
   {
    "duration": 8,
    "start_time": "2025-01-07T00:07:56.005Z"
   },
   {
    "duration": 132,
    "start_time": "2025-01-07T00:07:56.015Z"
   },
   {
    "duration": 902,
    "start_time": "2025-01-07T00:07:56.149Z"
   },
   {
    "duration": 15,
    "start_time": "2025-01-07T00:07:57.053Z"
   },
   {
    "duration": 9,
    "start_time": "2025-01-07T00:07:57.070Z"
   },
   {
    "duration": 8,
    "start_time": "2025-01-07T00:07:57.084Z"
   },
   {
    "duration": 212,
    "start_time": "2025-01-07T00:07:57.094Z"
   },
   {
    "duration": 336,
    "start_time": "2025-01-07T00:07:57.308Z"
   },
   {
    "duration": 70,
    "start_time": "2025-01-07T00:07:57.646Z"
   },
   {
    "duration": 132,
    "start_time": "2025-01-07T00:07:57.718Z"
   },
   {
    "duration": 40,
    "start_time": "2025-01-07T00:07:57.852Z"
   },
   {
    "duration": 106,
    "start_time": "2025-01-07T00:07:57.893Z"
   },
   {
    "duration": 5,
    "start_time": "2025-01-07T00:07:58.001Z"
   },
   {
    "duration": 18,
    "start_time": "2025-01-07T00:07:58.008Z"
   },
   {
    "duration": 294,
    "start_time": "2025-01-07T00:07:58.028Z"
   },
   {
    "duration": 43,
    "start_time": "2025-01-07T00:07:58.323Z"
   },
   {
    "duration": 36,
    "start_time": "2025-01-07T00:07:58.368Z"
   },
   {
    "duration": 61,
    "start_time": "2025-01-07T00:07:58.405Z"
   },
   {
    "duration": 20,
    "start_time": "2025-01-07T00:07:58.468Z"
   },
   {
    "duration": 24,
    "start_time": "2025-01-07T00:07:58.489Z"
   },
   {
    "duration": 57,
    "start_time": "2025-01-07T00:07:58.515Z"
   },
   {
    "duration": 16,
    "start_time": "2025-01-07T00:07:58.575Z"
   },
   {
    "duration": 47,
    "start_time": "2025-01-07T00:07:58.593Z"
   },
   {
    "duration": 12,
    "start_time": "2025-01-07T00:07:58.642Z"
   },
   {
    "duration": 34,
    "start_time": "2025-01-07T00:07:58.660Z"
   },
   {
    "duration": 44,
    "start_time": "2025-01-07T00:07:58.695Z"
   },
   {
    "duration": 36,
    "start_time": "2025-01-07T00:07:58.741Z"
   },
   {
    "duration": 161,
    "start_time": "2025-01-07T00:07:58.779Z"
   },
   {
    "duration": 135,
    "start_time": "2025-01-07T00:07:58.942Z"
   },
   {
    "duration": 18,
    "start_time": "2025-01-07T00:07:59.079Z"
   },
   {
    "duration": 14,
    "start_time": "2025-01-07T00:07:59.099Z"
   },
   {
    "duration": 18,
    "start_time": "2025-01-07T00:07:59.114Z"
   },
   {
    "duration": 10,
    "start_time": "2025-01-07T00:07:59.134Z"
   },
   {
    "duration": 176,
    "start_time": "2025-01-07T00:07:59.159Z"
   },
   {
    "duration": 677,
    "start_time": "2025-01-07T00:07:59.337Z"
   },
   {
    "duration": 62,
    "start_time": "2025-01-07T00:08:00.016Z"
   },
   {
    "duration": 35,
    "start_time": "2025-01-07T00:08:00.080Z"
   },
   {
    "duration": 40,
    "start_time": "2025-01-07T00:08:00.117Z"
   },
   {
    "duration": 35,
    "start_time": "2025-01-07T00:08:00.159Z"
   },
   {
    "duration": 187,
    "start_time": "2025-01-07T00:08:00.196Z"
   },
   {
    "duration": 242,
    "start_time": "2025-01-07T00:08:00.385Z"
   },
   {
    "duration": 15,
    "start_time": "2025-01-07T00:08:00.629Z"
   },
   {
    "duration": 343,
    "start_time": "2025-01-07T00:08:00.646Z"
   },
   {
    "duration": 307,
    "start_time": "2025-01-07T00:08:00.991Z"
   },
   {
    "duration": 14,
    "start_time": "2025-01-07T00:08:01.300Z"
   },
   {
    "duration": 50,
    "start_time": "2025-01-07T00:08:01.315Z"
   },
   {
    "duration": 13,
    "start_time": "2025-01-07T00:08:01.367Z"
   },
   {
    "duration": 326,
    "start_time": "2025-01-07T00:09:46.915Z"
   },
   {
    "duration": 317,
    "start_time": "2025-01-07T00:10:08.356Z"
   },
   {
    "duration": 114,
    "start_time": "2025-01-07T00:11:02.627Z"
   },
   {
    "duration": 129,
    "start_time": "2025-01-07T00:13:30.993Z"
   },
   {
    "duration": 107,
    "start_time": "2025-01-07T00:13:36.484Z"
   },
   {
    "duration": 124,
    "start_time": "2025-01-07T00:13:51.093Z"
   },
   {
    "duration": 428,
    "start_time": "2025-01-07T00:13:58.097Z"
   },
   {
    "duration": 871,
    "start_time": "2025-01-07T00:13:58.527Z"
   },
   {
    "duration": 2626,
    "start_time": "2025-01-07T00:13:59.400Z"
   },
   {
    "duration": 2221,
    "start_time": "2025-01-07T00:14:02.028Z"
   },
   {
    "duration": 96,
    "start_time": "2025-01-07T00:14:04.251Z"
   },
   {
    "duration": 14,
    "start_time": "2025-01-07T00:14:04.359Z"
   },
   {
    "duration": 5,
    "start_time": "2025-01-07T00:14:04.375Z"
   },
   {
    "duration": 8,
    "start_time": "2025-01-07T00:14:04.381Z"
   },
   {
    "duration": 104,
    "start_time": "2025-01-07T00:14:04.391Z"
   },
   {
    "duration": 8,
    "start_time": "2025-01-07T00:14:04.499Z"
   },
   {
    "duration": 108,
    "start_time": "2025-01-07T00:14:04.509Z"
   },
   {
    "duration": 4,
    "start_time": "2025-01-07T00:14:04.619Z"
   },
   {
    "duration": 43,
    "start_time": "2025-01-07T00:14:04.625Z"
   },
   {
    "duration": 30,
    "start_time": "2025-01-07T00:14:04.670Z"
   },
   {
    "duration": 37,
    "start_time": "2025-01-07T00:14:04.702Z"
   },
   {
    "duration": 28,
    "start_time": "2025-01-07T00:14:04.741Z"
   },
   {
    "duration": 17,
    "start_time": "2025-01-07T00:14:04.772Z"
   },
   {
    "duration": 35,
    "start_time": "2025-01-07T00:14:04.791Z"
   },
   {
    "duration": 37,
    "start_time": "2025-01-07T00:14:04.828Z"
   },
   {
    "duration": 12,
    "start_time": "2025-01-07T00:14:04.867Z"
   },
   {
    "duration": 59,
    "start_time": "2025-01-07T00:14:04.881Z"
   },
   {
    "duration": 46,
    "start_time": "2025-01-07T00:14:04.942Z"
   },
   {
    "duration": 9,
    "start_time": "2025-01-07T00:14:04.990Z"
   },
   {
    "duration": 109,
    "start_time": "2025-01-07T00:14:05.001Z"
   },
   {
    "duration": 898,
    "start_time": "2025-01-07T00:14:05.112Z"
   },
   {
    "duration": 11,
    "start_time": "2025-01-07T00:14:06.012Z"
   },
   {
    "duration": 19,
    "start_time": "2025-01-07T00:14:06.025Z"
   },
   {
    "duration": 35,
    "start_time": "2025-01-07T00:14:06.050Z"
   },
   {
    "duration": 243,
    "start_time": "2025-01-07T00:14:06.086Z"
   },
   {
    "duration": 321,
    "start_time": "2025-01-07T00:14:06.331Z"
   },
   {
    "duration": 64,
    "start_time": "2025-01-07T00:14:06.661Z"
   },
   {
    "duration": 152,
    "start_time": "2025-01-07T00:14:06.727Z"
   },
   {
    "duration": 34,
    "start_time": "2025-01-07T00:14:06.881Z"
   },
   {
    "duration": 103,
    "start_time": "2025-01-07T00:14:06.916Z"
   },
   {
    "duration": 6,
    "start_time": "2025-01-07T00:14:07.021Z"
   },
   {
    "duration": 35,
    "start_time": "2025-01-07T00:14:07.028Z"
   },
   {
    "duration": 309,
    "start_time": "2025-01-07T00:14:07.065Z"
   },
   {
    "duration": 35,
    "start_time": "2025-01-07T00:14:07.377Z"
   },
   {
    "duration": 50,
    "start_time": "2025-01-07T00:14:07.414Z"
   },
   {
    "duration": 67,
    "start_time": "2025-01-07T00:14:07.466Z"
   },
   {
    "duration": 25,
    "start_time": "2025-01-07T00:14:07.535Z"
   },
   {
    "duration": 33,
    "start_time": "2025-01-07T00:14:07.563Z"
   },
   {
    "duration": 78,
    "start_time": "2025-01-07T00:14:07.598Z"
   },
   {
    "duration": 4,
    "start_time": "2025-01-07T00:14:07.678Z"
   },
   {
    "duration": 45,
    "start_time": "2025-01-07T00:14:07.684Z"
   },
   {
    "duration": 30,
    "start_time": "2025-01-07T00:14:07.731Z"
   },
   {
    "duration": 31,
    "start_time": "2025-01-07T00:14:07.763Z"
   },
   {
    "duration": 41,
    "start_time": "2025-01-07T00:14:07.796Z"
   },
   {
    "duration": 51,
    "start_time": "2025-01-07T00:14:07.839Z"
   },
   {
    "duration": 181,
    "start_time": "2025-01-07T00:14:07.892Z"
   },
   {
    "duration": 141,
    "start_time": "2025-01-07T00:14:08.075Z"
   },
   {
    "duration": 19,
    "start_time": "2025-01-07T00:14:08.218Z"
   },
   {
    "duration": 40,
    "start_time": "2025-01-07T00:14:08.239Z"
   },
   {
    "duration": 7,
    "start_time": "2025-01-07T00:14:08.281Z"
   },
   {
    "duration": 12,
    "start_time": "2025-01-07T00:14:08.289Z"
   },
   {
    "duration": 188,
    "start_time": "2025-01-07T00:14:08.303Z"
   },
   {
    "duration": 754,
    "start_time": "2025-01-07T00:14:08.493Z"
   },
   {
    "duration": 63,
    "start_time": "2025-01-07T00:14:09.249Z"
   },
   {
    "duration": 26,
    "start_time": "2025-01-07T00:14:09.314Z"
   },
   {
    "duration": 23,
    "start_time": "2025-01-07T00:14:09.342Z"
   },
   {
    "duration": 10,
    "start_time": "2025-01-07T00:14:09.367Z"
   },
   {
    "duration": 143,
    "start_time": "2025-01-07T00:14:09.379Z"
   },
   {
    "duration": 215,
    "start_time": "2025-01-07T00:14:09.524Z"
   },
   {
    "duration": 21,
    "start_time": "2025-01-07T00:14:09.741Z"
   },
   {
    "duration": 353,
    "start_time": "2025-01-07T00:14:09.764Z"
   },
   {
    "duration": 293,
    "start_time": "2025-01-07T00:14:10.119Z"
   },
   {
    "duration": 14,
    "start_time": "2025-01-07T00:14:10.414Z"
   },
   {
    "duration": 37,
    "start_time": "2025-01-07T00:14:10.430Z"
   },
   {
    "duration": 16,
    "start_time": "2025-01-07T00:14:10.469Z"
   },
   {
    "duration": 209,
    "start_time": "2025-01-07T00:15:47.257Z"
   },
   {
    "duration": 4,
    "start_time": "2025-01-07T00:20:44.636Z"
   },
   {
    "duration": 432,
    "start_time": "2025-01-07T00:21:08.599Z"
   },
   {
    "duration": 865,
    "start_time": "2025-01-07T00:21:09.032Z"
   },
   {
    "duration": 2741,
    "start_time": "2025-01-07T00:21:09.899Z"
   },
   {
    "duration": 2374,
    "start_time": "2025-01-07T00:21:12.642Z"
   },
   {
    "duration": 109,
    "start_time": "2025-01-07T00:21:15.018Z"
   },
   {
    "duration": 14,
    "start_time": "2025-01-07T00:21:15.129Z"
   },
   {
    "duration": 20,
    "start_time": "2025-01-07T00:21:15.144Z"
   },
   {
    "duration": 22,
    "start_time": "2025-01-07T00:21:15.166Z"
   },
   {
    "duration": 60,
    "start_time": "2025-01-07T00:21:15.190Z"
   },
   {
    "duration": 9,
    "start_time": "2025-01-07T00:21:15.259Z"
   },
   {
    "duration": 94,
    "start_time": "2025-01-07T00:21:15.271Z"
   },
   {
    "duration": 3,
    "start_time": "2025-01-07T00:21:15.367Z"
   },
   {
    "duration": 26,
    "start_time": "2025-01-07T00:21:15.372Z"
   },
   {
    "duration": 29,
    "start_time": "2025-01-07T00:21:15.400Z"
   },
   {
    "duration": 41,
    "start_time": "2025-01-07T00:21:15.431Z"
   },
   {
    "duration": 25,
    "start_time": "2025-01-07T00:21:15.474Z"
   },
   {
    "duration": 19,
    "start_time": "2025-01-07T00:21:15.501Z"
   },
   {
    "duration": 57,
    "start_time": "2025-01-07T00:21:15.522Z"
   },
   {
    "duration": 15,
    "start_time": "2025-01-07T00:21:15.581Z"
   },
   {
    "duration": 13,
    "start_time": "2025-01-07T00:21:15.597Z"
   },
   {
    "duration": 55,
    "start_time": "2025-01-07T00:21:15.612Z"
   },
   {
    "duration": 45,
    "start_time": "2025-01-07T00:21:15.669Z"
   },
   {
    "duration": 13,
    "start_time": "2025-01-07T00:21:15.716Z"
   },
   {
    "duration": 128,
    "start_time": "2025-01-07T00:21:15.731Z"
   },
   {
    "duration": 902,
    "start_time": "2025-01-07T00:21:15.861Z"
   },
   {
    "duration": 11,
    "start_time": "2025-01-07T00:21:16.764Z"
   },
   {
    "duration": 8,
    "start_time": "2025-01-07T00:21:16.777Z"
   },
   {
    "duration": 9,
    "start_time": "2025-01-07T00:21:16.790Z"
   },
   {
    "duration": 228,
    "start_time": "2025-01-07T00:21:16.800Z"
   },
   {
    "duration": 335,
    "start_time": "2025-01-07T00:21:17.029Z"
   },
   {
    "duration": 63,
    "start_time": "2025-01-07T00:21:17.366Z"
   },
   {
    "duration": 140,
    "start_time": "2025-01-07T00:21:17.431Z"
   },
   {
    "duration": 35,
    "start_time": "2025-01-07T00:21:17.572Z"
   },
   {
    "duration": 91,
    "start_time": "2025-01-07T00:21:17.609Z"
   },
   {
    "duration": 6,
    "start_time": "2025-01-07T00:21:17.702Z"
   },
   {
    "duration": 15,
    "start_time": "2025-01-07T00:21:17.709Z"
   },
   {
    "duration": 322,
    "start_time": "2025-01-07T00:21:17.725Z"
   },
   {
    "duration": 44,
    "start_time": "2025-01-07T00:21:18.048Z"
   },
   {
    "duration": 38,
    "start_time": "2025-01-07T00:21:18.094Z"
   },
   {
    "duration": 62,
    "start_time": "2025-01-07T00:21:18.133Z"
   },
   {
    "duration": 19,
    "start_time": "2025-01-07T00:21:18.197Z"
   },
   {
    "duration": 42,
    "start_time": "2025-01-07T00:21:18.219Z"
   },
   {
    "duration": 48,
    "start_time": "2025-01-07T00:21:18.263Z"
   },
   {
    "duration": 4,
    "start_time": "2025-01-07T00:21:18.313Z"
   },
   {
    "duration": 50,
    "start_time": "2025-01-07T00:21:18.319Z"
   },
   {
    "duration": 11,
    "start_time": "2025-01-07T00:21:18.371Z"
   },
   {
    "duration": 28,
    "start_time": "2025-01-07T00:21:18.384Z"
   },
   {
    "duration": 54,
    "start_time": "2025-01-07T00:21:18.413Z"
   },
   {
    "duration": 36,
    "start_time": "2025-01-07T00:21:18.469Z"
   },
   {
    "duration": 162,
    "start_time": "2025-01-07T00:21:18.507Z"
   },
   {
    "duration": 137,
    "start_time": "2025-01-07T00:21:18.671Z"
   },
   {
    "duration": 17,
    "start_time": "2025-01-07T00:21:18.810Z"
   },
   {
    "duration": 18,
    "start_time": "2025-01-07T00:21:18.828Z"
   },
   {
    "duration": 15,
    "start_time": "2025-01-07T00:21:18.848Z"
   },
   {
    "duration": 14,
    "start_time": "2025-01-07T00:21:18.865Z"
   },
   {
    "duration": 184,
    "start_time": "2025-01-07T00:21:18.881Z"
   },
   {
    "duration": 707,
    "start_time": "2025-01-07T00:21:19.067Z"
   },
   {
    "duration": 57,
    "start_time": "2025-01-07T00:21:19.776Z"
   },
   {
    "duration": 40,
    "start_time": "2025-01-07T00:21:19.835Z"
   },
   {
    "duration": 4,
    "start_time": "2025-01-07T00:21:19.876Z"
   },
   {
    "duration": 8,
    "start_time": "2025-01-07T00:21:19.881Z"
   },
   {
    "duration": 9,
    "start_time": "2025-01-07T00:21:19.890Z"
   },
   {
    "duration": 150,
    "start_time": "2025-01-07T00:21:19.900Z"
   },
   {
    "duration": 248,
    "start_time": "2025-01-07T00:21:20.052Z"
   },
   {
    "duration": 17,
    "start_time": "2025-01-07T00:21:20.302Z"
   },
   {
    "duration": 345,
    "start_time": "2025-01-07T00:21:20.321Z"
   },
   {
    "duration": 299,
    "start_time": "2025-01-07T00:21:20.668Z"
   },
   {
    "duration": 16,
    "start_time": "2025-01-07T00:21:20.968Z"
   },
   {
    "duration": 127,
    "start_time": "2025-01-07T00:21:20.986Z"
   },
   {
    "duration": 1,
    "start_time": "2025-01-07T00:21:21.114Z"
   },
   {
    "duration": 21,
    "start_time": "2025-01-07T00:22:15.240Z"
   },
   {
    "duration": 18,
    "start_time": "2025-01-07T00:22:25.014Z"
   },
   {
    "duration": 14,
    "start_time": "2025-01-07T00:22:29.083Z"
   },
   {
    "duration": 17,
    "start_time": "2025-01-07T00:22:34.127Z"
   },
   {
    "duration": 86,
    "start_time": "2025-01-07T00:23:03.406Z"
   },
   {
    "duration": 16,
    "start_time": "2025-01-07T00:23:36.162Z"
   },
   {
    "duration": 92,
    "start_time": "2025-01-07T00:24:35.591Z"
   },
   {
    "duration": 99,
    "start_time": "2025-01-07T00:25:42.448Z"
   },
   {
    "duration": 24,
    "start_time": "2025-01-07T00:25:52.718Z"
   },
   {
    "duration": 47,
    "start_time": "2025-01-07T00:28:36.395Z"
   },
   {
    "duration": 475,
    "start_time": "2025-01-07T00:28:45.838Z"
   },
   {
    "duration": 877,
    "start_time": "2025-01-07T00:28:46.315Z"
   },
   {
    "duration": 2657,
    "start_time": "2025-01-07T00:28:47.194Z"
   },
   {
    "duration": 2700,
    "start_time": "2025-01-07T00:28:49.853Z"
   },
   {
    "duration": 108,
    "start_time": "2025-01-07T00:28:52.555Z"
   },
   {
    "duration": 15,
    "start_time": "2025-01-07T00:28:52.665Z"
   },
   {
    "duration": 4,
    "start_time": "2025-01-07T00:28:52.682Z"
   },
   {
    "duration": 19,
    "start_time": "2025-01-07T00:28:52.688Z"
   },
   {
    "duration": 79,
    "start_time": "2025-01-07T00:28:52.710Z"
   },
   {
    "duration": 10,
    "start_time": "2025-01-07T00:28:52.792Z"
   },
   {
    "duration": 91,
    "start_time": "2025-01-07T00:28:52.804Z"
   },
   {
    "duration": 4,
    "start_time": "2025-01-07T00:28:52.897Z"
   },
   {
    "duration": 24,
    "start_time": "2025-01-07T00:28:52.903Z"
   },
   {
    "duration": 36,
    "start_time": "2025-01-07T00:28:52.929Z"
   },
   {
    "duration": 42,
    "start_time": "2025-01-07T00:28:52.967Z"
   },
   {
    "duration": 24,
    "start_time": "2025-01-07T00:28:53.012Z"
   },
   {
    "duration": 31,
    "start_time": "2025-01-07T00:28:53.039Z"
   },
   {
    "duration": 26,
    "start_time": "2025-01-07T00:28:53.072Z"
   },
   {
    "duration": 10,
    "start_time": "2025-01-07T00:28:53.101Z"
   },
   {
    "duration": 10,
    "start_time": "2025-01-07T00:28:53.113Z"
   },
   {
    "duration": 62,
    "start_time": "2025-01-07T00:28:53.125Z"
   },
   {
    "duration": 46,
    "start_time": "2025-01-07T00:28:53.190Z"
   },
   {
    "duration": 25,
    "start_time": "2025-01-07T00:28:53.238Z"
   },
   {
    "duration": 116,
    "start_time": "2025-01-07T00:28:53.265Z"
   },
   {
    "duration": 913,
    "start_time": "2025-01-07T00:28:53.383Z"
   },
   {
    "duration": 9,
    "start_time": "2025-01-07T00:28:54.299Z"
   },
   {
    "duration": 23,
    "start_time": "2025-01-07T00:28:54.310Z"
   },
   {
    "duration": 8,
    "start_time": "2025-01-07T00:28:54.338Z"
   },
   {
    "duration": 213,
    "start_time": "2025-01-07T00:28:54.348Z"
   },
   {
    "duration": 349,
    "start_time": "2025-01-07T00:28:54.563Z"
   },
   {
    "duration": 76,
    "start_time": "2025-01-07T00:28:54.913Z"
   },
   {
    "duration": 125,
    "start_time": "2025-01-07T00:28:54.991Z"
   },
   {
    "duration": 45,
    "start_time": "2025-01-07T00:28:55.117Z"
   },
   {
    "duration": 79,
    "start_time": "2025-01-07T00:28:55.163Z"
   },
   {
    "duration": 18,
    "start_time": "2025-01-07T00:28:55.244Z"
   },
   {
    "duration": 18,
    "start_time": "2025-01-07T00:28:55.264Z"
   },
   {
    "duration": 306,
    "start_time": "2025-01-07T00:28:55.283Z"
   },
   {
    "duration": 39,
    "start_time": "2025-01-07T00:28:55.590Z"
   },
   {
    "duration": 54,
    "start_time": "2025-01-07T00:28:55.631Z"
   },
   {
    "duration": 45,
    "start_time": "2025-01-07T00:28:55.687Z"
   },
   {
    "duration": 36,
    "start_time": "2025-01-07T00:28:55.734Z"
   },
   {
    "duration": 25,
    "start_time": "2025-01-07T00:28:55.771Z"
   },
   {
    "duration": 42,
    "start_time": "2025-01-07T00:28:55.797Z"
   },
   {
    "duration": 3,
    "start_time": "2025-01-07T00:28:55.841Z"
   },
   {
    "duration": 55,
    "start_time": "2025-01-07T00:28:55.845Z"
   },
   {
    "duration": 13,
    "start_time": "2025-01-07T00:28:55.902Z"
   },
   {
    "duration": 58,
    "start_time": "2025-01-07T00:28:55.917Z"
   },
   {
    "duration": 36,
    "start_time": "2025-01-07T00:28:55.977Z"
   },
   {
    "duration": 57,
    "start_time": "2025-01-07T00:28:56.016Z"
   },
   {
    "duration": 161,
    "start_time": "2025-01-07T00:28:56.075Z"
   },
   {
    "duration": 141,
    "start_time": "2025-01-07T00:28:56.238Z"
   },
   {
    "duration": 20,
    "start_time": "2025-01-07T00:28:56.381Z"
   },
   {
    "duration": 13,
    "start_time": "2025-01-07T00:28:56.403Z"
   },
   {
    "duration": 5,
    "start_time": "2025-01-07T00:28:56.418Z"
   },
   {
    "duration": 38,
    "start_time": "2025-01-07T00:28:56.426Z"
   },
   {
    "duration": 195,
    "start_time": "2025-01-07T00:28:56.466Z"
   },
   {
    "duration": 702,
    "start_time": "2025-01-07T00:28:56.663Z"
   },
   {
    "duration": 59,
    "start_time": "2025-01-07T00:28:57.367Z"
   },
   {
    "duration": 45,
    "start_time": "2025-01-07T00:28:57.428Z"
   },
   {
    "duration": 14,
    "start_time": "2025-01-07T00:28:57.475Z"
   },
   {
    "duration": 6,
    "start_time": "2025-01-07T00:28:57.491Z"
   },
   {
    "duration": 15,
    "start_time": "2025-01-07T00:28:57.499Z"
   },
   {
    "duration": 137,
    "start_time": "2025-01-07T00:28:57.516Z"
   },
   {
    "duration": 216,
    "start_time": "2025-01-07T00:28:57.660Z"
   },
   {
    "duration": 16,
    "start_time": "2025-01-07T00:28:57.878Z"
   },
   {
    "duration": 124,
    "start_time": "2025-01-07T00:28:57.896Z"
   },
   {
    "duration": 102,
    "start_time": "2025-01-07T00:28:58.021Z"
   },
   {
    "duration": 339,
    "start_time": "2025-01-07T00:28:58.124Z"
   },
   {
    "duration": 304,
    "start_time": "2025-01-07T00:28:58.465Z"
   },
   {
    "duration": 14,
    "start_time": "2025-01-07T00:28:58.771Z"
   },
   {
    "duration": 22,
    "start_time": "2025-01-07T00:28:58.787Z"
   },
   {
    "duration": 23,
    "start_time": "2025-01-07T00:28:58.811Z"
   },
   {
    "duration": 77,
    "start_time": "2025-01-07T00:28:58.836Z"
   },
   {
    "duration": 15,
    "start_time": "2025-01-07T00:28:58.914Z"
   },
   {
    "duration": 49,
    "start_time": "2025-01-07T00:29:28.438Z"
   },
   {
    "duration": 480,
    "start_time": "2025-01-07T00:29:36.856Z"
   },
   {
    "duration": 885,
    "start_time": "2025-01-07T00:29:37.338Z"
   },
   {
    "duration": 2627,
    "start_time": "2025-01-07T00:29:38.225Z"
   },
   {
    "duration": 2065,
    "start_time": "2025-01-07T00:29:40.855Z"
   },
   {
    "duration": 104,
    "start_time": "2025-01-07T00:29:42.922Z"
   },
   {
    "duration": 13,
    "start_time": "2025-01-07T00:29:43.028Z"
   },
   {
    "duration": 19,
    "start_time": "2025-01-07T00:29:43.042Z"
   },
   {
    "duration": 18,
    "start_time": "2025-01-07T00:29:43.063Z"
   },
   {
    "duration": 61,
    "start_time": "2025-01-07T00:29:43.083Z"
   },
   {
    "duration": 13,
    "start_time": "2025-01-07T00:29:43.147Z"
   },
   {
    "duration": 79,
    "start_time": "2025-01-07T00:29:43.162Z"
   },
   {
    "duration": 3,
    "start_time": "2025-01-07T00:29:43.243Z"
   },
   {
    "duration": 18,
    "start_time": "2025-01-07T00:29:43.261Z"
   },
   {
    "duration": 24,
    "start_time": "2025-01-07T00:29:43.281Z"
   },
   {
    "duration": 36,
    "start_time": "2025-01-07T00:29:43.307Z"
   },
   {
    "duration": 36,
    "start_time": "2025-01-07T00:29:43.345Z"
   },
   {
    "duration": 16,
    "start_time": "2025-01-07T00:29:43.383Z"
   },
   {
    "duration": 33,
    "start_time": "2025-01-07T00:29:43.400Z"
   },
   {
    "duration": 28,
    "start_time": "2025-01-07T00:29:43.435Z"
   },
   {
    "duration": 4,
    "start_time": "2025-01-07T00:29:43.465Z"
   },
   {
    "duration": 46,
    "start_time": "2025-01-07T00:29:43.471Z"
   },
   {
    "duration": 61,
    "start_time": "2025-01-07T00:29:43.518Z"
   },
   {
    "duration": 9,
    "start_time": "2025-01-07T00:29:43.581Z"
   },
   {
    "duration": 120,
    "start_time": "2025-01-07T00:29:43.592Z"
   },
   {
    "duration": 906,
    "start_time": "2025-01-07T00:29:43.714Z"
   },
   {
    "duration": 10,
    "start_time": "2025-01-07T00:29:44.622Z"
   },
   {
    "duration": 7,
    "start_time": "2025-01-07T00:29:44.634Z"
   },
   {
    "duration": 8,
    "start_time": "2025-01-07T00:29:44.664Z"
   },
   {
    "duration": 218,
    "start_time": "2025-01-07T00:29:44.674Z"
   },
   {
    "duration": 342,
    "start_time": "2025-01-07T00:29:44.894Z"
   },
   {
    "duration": 80,
    "start_time": "2025-01-07T00:29:45.238Z"
   },
   {
    "duration": 133,
    "start_time": "2025-01-07T00:29:45.321Z"
   },
   {
    "duration": 36,
    "start_time": "2025-01-07T00:29:45.460Z"
   },
   {
    "duration": 82,
    "start_time": "2025-01-07T00:29:45.498Z"
   },
   {
    "duration": 7,
    "start_time": "2025-01-07T00:29:45.582Z"
   },
   {
    "duration": 13,
    "start_time": "2025-01-07T00:29:45.590Z"
   },
   {
    "duration": 319,
    "start_time": "2025-01-07T00:29:45.604Z"
   },
   {
    "duration": 44,
    "start_time": "2025-01-07T00:29:45.925Z"
   },
   {
    "duration": 37,
    "start_time": "2025-01-07T00:29:45.972Z"
   },
   {
    "duration": 60,
    "start_time": "2025-01-07T00:29:46.011Z"
   },
   {
    "duration": 18,
    "start_time": "2025-01-07T00:29:46.072Z"
   },
   {
    "duration": 23,
    "start_time": "2025-01-07T00:29:46.092Z"
   },
   {
    "duration": 52,
    "start_time": "2025-01-07T00:29:46.117Z"
   },
   {
    "duration": 4,
    "start_time": "2025-01-07T00:29:46.170Z"
   },
   {
    "duration": 46,
    "start_time": "2025-01-07T00:29:46.176Z"
   },
   {
    "duration": 11,
    "start_time": "2025-01-07T00:29:46.224Z"
   },
   {
    "duration": 64,
    "start_time": "2025-01-07T00:29:46.260Z"
   },
   {
    "duration": 33,
    "start_time": "2025-01-07T00:29:46.326Z"
   },
   {
    "duration": 36,
    "start_time": "2025-01-07T00:29:46.361Z"
   },
   {
    "duration": 159,
    "start_time": "2025-01-07T00:29:46.399Z"
   },
   {
    "duration": 133,
    "start_time": "2025-01-07T00:29:46.560Z"
   },
   {
    "duration": 16,
    "start_time": "2025-01-07T00:29:46.695Z"
   },
   {
    "duration": 12,
    "start_time": "2025-01-07T00:29:46.713Z"
   },
   {
    "duration": 21,
    "start_time": "2025-01-07T00:29:46.726Z"
   },
   {
    "duration": 49,
    "start_time": "2025-01-07T00:29:46.748Z"
   },
   {
    "duration": 209,
    "start_time": "2025-01-07T00:29:46.798Z"
   },
   {
    "duration": 681,
    "start_time": "2025-01-07T00:29:47.009Z"
   },
   {
    "duration": 56,
    "start_time": "2025-01-07T00:29:47.692Z"
   },
   {
    "duration": 44,
    "start_time": "2025-01-07T00:29:47.750Z"
   },
   {
    "duration": 12,
    "start_time": "2025-01-07T00:29:47.795Z"
   },
   {
    "duration": 18,
    "start_time": "2025-01-07T00:29:47.809Z"
   },
   {
    "duration": 20,
    "start_time": "2025-01-07T00:29:47.829Z"
   },
   {
    "duration": 171,
    "start_time": "2025-01-07T00:29:47.850Z"
   },
   {
    "duration": 211,
    "start_time": "2025-01-07T00:29:48.022Z"
   },
   {
    "duration": 24,
    "start_time": "2025-01-07T00:29:48.235Z"
   },
   {
    "duration": 100,
    "start_time": "2025-01-07T00:29:48.261Z"
   },
   {
    "duration": 102,
    "start_time": "2025-01-07T00:29:48.362Z"
   },
   {
    "duration": 333,
    "start_time": "2025-01-07T00:29:48.466Z"
   },
   {
    "duration": 288,
    "start_time": "2025-01-07T00:29:48.801Z"
   },
   {
    "duration": 14,
    "start_time": "2025-01-07T00:29:49.090Z"
   },
   {
    "duration": 16,
    "start_time": "2025-01-07T00:29:49.106Z"
   },
   {
    "duration": 43,
    "start_time": "2025-01-07T00:29:49.124Z"
   },
   {
    "duration": 56,
    "start_time": "2025-01-07T00:29:49.168Z"
   },
   {
    "duration": 64,
    "start_time": "2025-01-07T00:29:49.225Z"
   },
   {
    "duration": 75,
    "start_time": "2025-01-08T20:41:35.705Z"
   },
   {
    "duration": 454,
    "start_time": "2025-01-08T20:41:42.985Z"
   },
   {
    "duration": 1094,
    "start_time": "2025-01-08T20:41:43.441Z"
   },
   {
    "duration": 3878,
    "start_time": "2025-01-08T20:41:44.537Z"
   },
   {
    "duration": 2167,
    "start_time": "2025-01-08T20:41:48.418Z"
   },
   {
    "duration": 108,
    "start_time": "2025-01-08T20:41:50.587Z"
   },
   {
    "duration": 13,
    "start_time": "2025-01-08T20:41:50.697Z"
   },
   {
    "duration": 4,
    "start_time": "2025-01-08T20:41:50.712Z"
   },
   {
    "duration": 19,
    "start_time": "2025-01-08T20:41:50.718Z"
   },
   {
    "duration": 75,
    "start_time": "2025-01-08T20:41:50.739Z"
   },
   {
    "duration": 8,
    "start_time": "2025-01-08T20:41:50.817Z"
   },
   {
    "duration": 98,
    "start_time": "2025-01-08T20:41:50.826Z"
   },
   {
    "duration": 3,
    "start_time": "2025-01-08T20:41:50.926Z"
   },
   {
    "duration": 17,
    "start_time": "2025-01-08T20:41:50.931Z"
   },
   {
    "duration": 53,
    "start_time": "2025-01-08T20:41:50.950Z"
   },
   {
    "duration": 36,
    "start_time": "2025-01-08T20:41:51.005Z"
   },
   {
    "duration": 23,
    "start_time": "2025-01-08T20:41:51.043Z"
   },
   {
    "duration": 22,
    "start_time": "2025-01-08T20:41:51.068Z"
   },
   {
    "duration": 22,
    "start_time": "2025-01-08T20:41:51.091Z"
   },
   {
    "duration": 14,
    "start_time": "2025-01-08T20:41:51.114Z"
   },
   {
    "duration": 6,
    "start_time": "2025-01-08T20:41:51.130Z"
   },
   {
    "duration": 54,
    "start_time": "2025-01-08T20:41:51.137Z"
   },
   {
    "duration": 56,
    "start_time": "2025-01-08T20:41:51.193Z"
   },
   {
    "duration": 9,
    "start_time": "2025-01-08T20:41:51.251Z"
   },
   {
    "duration": 120,
    "start_time": "2025-01-08T20:41:51.262Z"
   },
   {
    "duration": 837,
    "start_time": "2025-01-08T20:41:51.384Z"
   },
   {
    "duration": 10,
    "start_time": "2025-01-08T20:41:52.222Z"
   },
   {
    "duration": 10,
    "start_time": "2025-01-08T20:41:52.233Z"
   },
   {
    "duration": 35,
    "start_time": "2025-01-08T20:41:52.249Z"
   },
   {
    "duration": 176,
    "start_time": "2025-01-08T20:41:52.286Z"
   },
   {
    "duration": 323,
    "start_time": "2025-01-08T20:41:52.464Z"
   },
   {
    "duration": 56,
    "start_time": "2025-01-08T20:41:52.789Z"
   },
   {
    "duration": 116,
    "start_time": "2025-01-08T20:41:52.847Z"
   },
   {
    "duration": 43,
    "start_time": "2025-01-08T20:41:52.965Z"
   },
   {
    "duration": 56,
    "start_time": "2025-01-08T20:41:53.010Z"
   },
   {
    "duration": 16,
    "start_time": "2025-01-08T20:41:53.067Z"
   },
   {
    "duration": 98,
    "start_time": "2025-01-08T20:41:53.085Z"
   },
   {
    "duration": 282,
    "start_time": "2025-01-08T20:41:53.185Z"
   },
   {
    "duration": 36,
    "start_time": "2025-01-08T20:41:53.469Z"
   },
   {
    "duration": 38,
    "start_time": "2025-01-08T20:41:53.507Z"
   },
   {
    "duration": 78,
    "start_time": "2025-01-08T20:41:53.547Z"
   },
   {
    "duration": 50,
    "start_time": "2025-01-08T20:41:53.627Z"
   },
   {
    "duration": 23,
    "start_time": "2025-01-08T20:41:53.679Z"
   },
   {
    "duration": 28,
    "start_time": "2025-01-08T20:41:53.704Z"
   },
   {
    "duration": 3,
    "start_time": "2025-01-08T20:41:53.733Z"
   },
   {
    "duration": 57,
    "start_time": "2025-01-08T20:41:53.738Z"
   },
   {
    "duration": 10,
    "start_time": "2025-01-08T20:41:53.797Z"
   },
   {
    "duration": 26,
    "start_time": "2025-01-08T20:41:53.809Z"
   },
   {
    "duration": 120,
    "start_time": "2025-01-08T20:41:53.837Z"
   },
   {
    "duration": 38,
    "start_time": "2025-01-08T20:41:53.959Z"
   },
   {
    "duration": 137,
    "start_time": "2025-01-08T20:41:53.999Z"
   },
   {
    "duration": 135,
    "start_time": "2025-01-08T20:41:54.146Z"
   },
   {
    "duration": 17,
    "start_time": "2025-01-08T20:41:54.286Z"
   },
   {
    "duration": 11,
    "start_time": "2025-01-08T20:41:54.304Z"
   },
   {
    "duration": 4,
    "start_time": "2025-01-08T20:41:54.316Z"
   },
   {
    "duration": 9,
    "start_time": "2025-01-08T20:41:54.322Z"
   },
   {
    "duration": 176,
    "start_time": "2025-01-08T20:41:54.333Z"
   },
   {
    "duration": 649,
    "start_time": "2025-01-08T20:41:54.511Z"
   },
   {
    "duration": 65,
    "start_time": "2025-01-08T20:41:55.162Z"
   },
   {
    "duration": 36,
    "start_time": "2025-01-08T20:41:55.230Z"
   },
   {
    "duration": 7,
    "start_time": "2025-01-08T20:41:55.278Z"
   },
   {
    "duration": 15,
    "start_time": "2025-01-08T20:41:55.286Z"
   },
   {
    "duration": 5,
    "start_time": "2025-01-08T20:41:55.303Z"
   },
   {
    "duration": 132,
    "start_time": "2025-01-08T20:41:55.310Z"
   },
   {
    "duration": 239,
    "start_time": "2025-01-08T20:41:55.444Z"
   },
   {
    "duration": 16,
    "start_time": "2025-01-08T20:41:55.685Z"
   },
   {
    "duration": 118,
    "start_time": "2025-01-08T20:41:55.702Z"
   },
   {
    "duration": 102,
    "start_time": "2025-01-08T20:41:55.822Z"
   },
   {
    "duration": 313,
    "start_time": "2025-01-08T20:41:55.926Z"
   },
   {
    "duration": 287,
    "start_time": "2025-01-08T20:41:56.240Z"
   },
   {
    "duration": 19,
    "start_time": "2025-01-08T20:41:56.528Z"
   },
   {
    "duration": 37,
    "start_time": "2025-01-08T20:41:56.549Z"
   },
   {
    "duration": 21,
    "start_time": "2025-01-08T20:41:56.588Z"
   },
   {
    "duration": 74,
    "start_time": "2025-01-08T20:41:56.611Z"
   },
   {
    "duration": 48,
    "start_time": "2025-01-08T20:41:56.687Z"
   },
   {
    "duration": 126,
    "start_time": "2025-01-08T20:41:56.737Z"
   },
   {
    "duration": 303,
    "start_time": "2025-01-08T20:42:33.416Z"
   },
   {
    "duration": 217,
    "start_time": "2025-01-08T20:57:42.893Z"
   },
   {
    "duration": 261,
    "start_time": "2025-01-08T20:57:50.225Z"
   },
   {
    "duration": 250,
    "start_time": "2025-01-08T20:59:02.955Z"
   },
   {
    "duration": 4,
    "start_time": "2025-01-08T20:59:21.336Z"
   },
   {
    "duration": 268,
    "start_time": "2025-01-08T20:59:31.596Z"
   },
   {
    "duration": 318,
    "start_time": "2025-01-08T21:00:32.365Z"
   },
   {
    "duration": 262,
    "start_time": "2025-01-08T21:01:11.892Z"
   },
   {
    "duration": 280,
    "start_time": "2025-01-08T21:05:51.065Z"
   },
   {
    "duration": 315,
    "start_time": "2025-01-08T21:06:07.290Z"
   },
   {
    "duration": 279,
    "start_time": "2025-01-08T21:06:23.420Z"
   },
   {
    "duration": 289,
    "start_time": "2025-01-08T21:07:50.796Z"
   },
   {
    "duration": 85,
    "start_time": "2025-01-08T21:08:42.600Z"
   },
   {
    "duration": 82,
    "start_time": "2025-01-08T21:08:55.961Z"
   },
   {
    "duration": 5,
    "start_time": "2025-01-08T21:09:00.707Z"
   },
   {
    "duration": 285,
    "start_time": "2025-01-08T21:09:07.473Z"
   },
   {
    "duration": 264,
    "start_time": "2025-01-08T21:09:48.394Z"
   },
   {
    "duration": 254,
    "start_time": "2025-01-08T21:12:41.931Z"
   },
   {
    "duration": 21,
    "start_time": "2025-01-08T21:13:04.675Z"
   },
   {
    "duration": 121,
    "start_time": "2025-01-08T21:13:21.200Z"
   },
   {
    "duration": 61,
    "start_time": "2025-01-08T21:14:16.150Z"
   },
   {
    "duration": 260,
    "start_time": "2025-01-08T21:15:04.828Z"
   },
   {
    "duration": 335,
    "start_time": "2025-01-08T21:15:51.394Z"
   },
   {
    "duration": 125,
    "start_time": "2025-01-08T21:17:27.700Z"
   },
   {
    "duration": 266,
    "start_time": "2025-01-08T21:18:54.518Z"
   },
   {
    "duration": 371,
    "start_time": "2025-01-08T21:19:09.306Z"
   },
   {
    "duration": 310,
    "start_time": "2025-01-08T21:19:36.178Z"
   },
   {
    "duration": 224,
    "start_time": "2025-01-08T21:19:52.909Z"
   },
   {
    "duration": 256,
    "start_time": "2025-01-08T21:20:05.511Z"
   },
   {
    "duration": 226,
    "start_time": "2025-01-08T21:20:17.682Z"
   },
   {
    "duration": 241,
    "start_time": "2025-01-08T21:20:27.892Z"
   },
   {
    "duration": 156,
    "start_time": "2025-01-08T21:22:57.589Z"
   },
   {
    "duration": 330,
    "start_time": "2025-01-08T21:23:01.853Z"
   },
   {
    "duration": 469,
    "start_time": "2025-01-08T21:23:17.024Z"
   },
   {
    "duration": 513,
    "start_time": "2025-01-08T21:23:40.585Z"
   },
   {
    "duration": 293,
    "start_time": "2025-01-08T21:26:39.725Z"
   },
   {
    "duration": 270,
    "start_time": "2025-01-08T21:26:47.883Z"
   },
   {
    "duration": 358,
    "start_time": "2025-01-08T21:27:06.527Z"
   },
   {
    "duration": 494,
    "start_time": "2025-01-08T21:27:45.525Z"
   },
   {
    "duration": 72,
    "start_time": "2025-01-08T21:30:26.294Z"
   },
   {
    "duration": 551,
    "start_time": "2025-01-08T21:38:04.533Z"
   },
   {
    "duration": 10,
    "start_time": "2025-01-08T21:39:02.408Z"
   },
   {
    "duration": 9,
    "start_time": "2025-01-08T21:40:59.685Z"
   },
   {
    "duration": 556,
    "start_time": "2025-01-08T21:41:13.957Z"
   },
   {
    "duration": 81,
    "start_time": "2025-01-08T21:42:17.496Z"
   },
   {
    "duration": 182,
    "start_time": "2025-01-08T21:42:23.312Z"
   },
   {
    "duration": 48,
    "start_time": "2025-01-08T21:43:45.305Z"
   },
   {
    "duration": 63,
    "start_time": "2025-01-08T21:43:59.294Z"
   },
   {
    "duration": 514,
    "start_time": "2025-01-08T21:44:17.791Z"
   },
   {
    "duration": 460,
    "start_time": "2025-01-08T21:46:18.442Z"
   },
   {
    "duration": 861,
    "start_time": "2025-01-08T21:46:18.904Z"
   },
   {
    "duration": 2730,
    "start_time": "2025-01-08T21:46:19.767Z"
   },
   {
    "duration": 2204,
    "start_time": "2025-01-08T21:46:22.499Z"
   },
   {
    "duration": 108,
    "start_time": "2025-01-08T21:46:24.704Z"
   },
   {
    "duration": 12,
    "start_time": "2025-01-08T21:46:24.814Z"
   },
   {
    "duration": 38,
    "start_time": "2025-01-08T21:46:24.828Z"
   },
   {
    "duration": 15,
    "start_time": "2025-01-08T21:46:24.868Z"
   },
   {
    "duration": 69,
    "start_time": "2025-01-08T21:46:24.885Z"
   },
   {
    "duration": 8,
    "start_time": "2025-01-08T21:46:24.957Z"
   },
   {
    "duration": 88,
    "start_time": "2025-01-08T21:46:24.967Z"
   },
   {
    "duration": 4,
    "start_time": "2025-01-08T21:46:25.057Z"
   },
   {
    "duration": 23,
    "start_time": "2025-01-08T21:46:25.072Z"
   },
   {
    "duration": 29,
    "start_time": "2025-01-08T21:46:25.097Z"
   },
   {
    "duration": 35,
    "start_time": "2025-01-08T21:46:25.128Z"
   },
   {
    "duration": 26,
    "start_time": "2025-01-08T21:46:25.165Z"
   },
   {
    "duration": 15,
    "start_time": "2025-01-08T21:46:25.193Z"
   },
   {
    "duration": 23,
    "start_time": "2025-01-08T21:46:25.210Z"
   },
   {
    "duration": 10,
    "start_time": "2025-01-08T21:46:25.235Z"
   },
   {
    "duration": 34,
    "start_time": "2025-01-08T21:46:25.246Z"
   },
   {
    "duration": 41,
    "start_time": "2025-01-08T21:46:25.282Z"
   },
   {
    "duration": 65,
    "start_time": "2025-01-08T21:46:25.325Z"
   },
   {
    "duration": 69,
    "start_time": "2025-01-08T21:46:25.392Z"
   },
   {
    "duration": 125,
    "start_time": "2025-01-08T21:46:25.463Z"
   },
   {
    "duration": 908,
    "start_time": "2025-01-08T21:46:25.590Z"
   },
   {
    "duration": 14,
    "start_time": "2025-01-08T21:46:26.499Z"
   },
   {
    "duration": 9,
    "start_time": "2025-01-08T21:46:26.515Z"
   },
   {
    "duration": 77,
    "start_time": "2025-01-08T21:46:26.529Z"
   },
   {
    "duration": 209,
    "start_time": "2025-01-08T21:46:26.608Z"
   },
   {
    "duration": 305,
    "start_time": "2025-01-08T21:46:26.819Z"
   },
   {
    "duration": 71,
    "start_time": "2025-01-08T21:46:27.126Z"
   },
   {
    "duration": 114,
    "start_time": "2025-01-08T21:46:27.199Z"
   },
   {
    "duration": 31,
    "start_time": "2025-01-08T21:46:27.315Z"
   },
   {
    "duration": 83,
    "start_time": "2025-01-08T21:46:27.347Z"
   },
   {
    "duration": 27,
    "start_time": "2025-01-08T21:46:27.432Z"
   },
   {
    "duration": 22,
    "start_time": "2025-01-08T21:46:27.461Z"
   },
   {
    "duration": 293,
    "start_time": "2025-01-08T21:46:27.485Z"
   },
   {
    "duration": 34,
    "start_time": "2025-01-08T21:46:27.788Z"
   },
   {
    "duration": 37,
    "start_time": "2025-01-08T21:46:27.824Z"
   },
   {
    "duration": 63,
    "start_time": "2025-01-08T21:46:27.862Z"
   },
   {
    "duration": 17,
    "start_time": "2025-01-08T21:46:27.927Z"
   },
   {
    "duration": 36,
    "start_time": "2025-01-08T21:46:27.946Z"
   },
   {
    "duration": 27,
    "start_time": "2025-01-08T21:46:27.984Z"
   },
   {
    "duration": 29,
    "start_time": "2025-01-08T21:46:28.012Z"
   },
   {
    "duration": 65,
    "start_time": "2025-01-08T21:46:28.042Z"
   },
   {
    "duration": 16,
    "start_time": "2025-01-08T21:46:28.108Z"
   },
   {
    "duration": 37,
    "start_time": "2025-01-08T21:46:28.125Z"
   },
   {
    "duration": 48,
    "start_time": "2025-01-08T21:46:28.164Z"
   },
   {
    "duration": 149,
    "start_time": "2025-01-08T21:46:28.214Z"
   },
   {
    "duration": 139,
    "start_time": "2025-01-08T21:46:28.365Z"
   },
   {
    "duration": 125,
    "start_time": "2025-01-08T21:46:28.506Z"
   },
   {
    "duration": 15,
    "start_time": "2025-01-08T21:46:28.633Z"
   },
   {
    "duration": 34,
    "start_time": "2025-01-08T21:46:28.650Z"
   },
   {
    "duration": 5,
    "start_time": "2025-01-08T21:46:28.685Z"
   },
   {
    "duration": 12,
    "start_time": "2025-01-08T21:46:28.692Z"
   },
   {
    "duration": 171,
    "start_time": "2025-01-08T21:46:28.706Z"
   },
   {
    "duration": 660,
    "start_time": "2025-01-08T21:46:28.879Z"
   },
   {
    "duration": 69,
    "start_time": "2025-01-08T21:46:29.541Z"
   },
   {
    "duration": 26,
    "start_time": "2025-01-08T21:46:29.612Z"
   },
   {
    "duration": 4,
    "start_time": "2025-01-08T21:46:29.640Z"
   },
   {
    "duration": 9,
    "start_time": "2025-01-08T21:46:29.671Z"
   },
   {
    "duration": 8,
    "start_time": "2025-01-08T21:46:29.682Z"
   },
   {
    "duration": 143,
    "start_time": "2025-01-08T21:46:29.691Z"
   },
   {
    "duration": 232,
    "start_time": "2025-01-08T21:46:29.836Z"
   },
   {
    "duration": 24,
    "start_time": "2025-01-08T21:46:30.071Z"
   },
   {
    "duration": 135,
    "start_time": "2025-01-08T21:46:30.096Z"
   },
   {
    "duration": 234,
    "start_time": "2025-01-08T21:46:30.233Z"
   },
   {
    "duration": 352,
    "start_time": "2025-01-08T21:46:30.469Z"
   },
   {
    "duration": 291,
    "start_time": "2025-01-08T21:46:30.823Z"
   },
   {
    "duration": 14,
    "start_time": "2025-01-08T21:46:31.116Z"
   },
   {
    "duration": 29,
    "start_time": "2025-01-08T21:46:31.132Z"
   },
   {
    "duration": 26,
    "start_time": "2025-01-08T21:46:31.163Z"
   },
   {
    "duration": 50,
    "start_time": "2025-01-08T21:46:31.191Z"
   },
   {
    "duration": 69,
    "start_time": "2025-01-08T21:46:31.243Z"
   },
   {
    "duration": 71,
    "start_time": "2025-01-08T21:46:31.314Z"
   },
   {
    "duration": 526,
    "start_time": "2025-01-08T21:46:31.387Z"
   },
   {
    "duration": 416,
    "start_time": "2025-01-08T21:48:25.217Z"
   },
   {
    "duration": 864,
    "start_time": "2025-01-08T21:48:25.635Z"
   },
   {
    "duration": 2682,
    "start_time": "2025-01-08T21:48:26.500Z"
   },
   {
    "duration": 2199,
    "start_time": "2025-01-08T21:48:29.185Z"
   },
   {
    "duration": 98,
    "start_time": "2025-01-08T21:48:31.386Z"
   },
   {
    "duration": 12,
    "start_time": "2025-01-08T21:48:31.486Z"
   },
   {
    "duration": 11,
    "start_time": "2025-01-08T21:48:31.499Z"
   },
   {
    "duration": 30,
    "start_time": "2025-01-08T21:48:31.511Z"
   },
   {
    "duration": 68,
    "start_time": "2025-01-08T21:48:31.542Z"
   },
   {
    "duration": 9,
    "start_time": "2025-01-08T21:48:31.613Z"
   },
   {
    "duration": 114,
    "start_time": "2025-01-08T21:48:31.624Z"
   },
   {
    "duration": 3,
    "start_time": "2025-01-08T21:48:31.740Z"
   },
   {
    "duration": 38,
    "start_time": "2025-01-08T21:48:31.745Z"
   },
   {
    "duration": 22,
    "start_time": "2025-01-08T21:48:31.785Z"
   },
   {
    "duration": 49,
    "start_time": "2025-01-08T21:48:31.808Z"
   },
   {
    "duration": 27,
    "start_time": "2025-01-08T21:48:31.858Z"
   },
   {
    "duration": 16,
    "start_time": "2025-01-08T21:48:31.887Z"
   },
   {
    "duration": 27,
    "start_time": "2025-01-08T21:48:31.904Z"
   },
   {
    "duration": 21,
    "start_time": "2025-01-08T21:48:31.932Z"
   },
   {
    "duration": 29,
    "start_time": "2025-01-08T21:48:31.955Z"
   },
   {
    "duration": 48,
    "start_time": "2025-01-08T21:48:31.986Z"
   },
   {
    "duration": 48,
    "start_time": "2025-01-08T21:48:32.036Z"
   },
   {
    "duration": 9,
    "start_time": "2025-01-08T21:48:32.087Z"
   },
   {
    "duration": 112,
    "start_time": "2025-01-08T21:48:32.097Z"
   },
   {
    "duration": 844,
    "start_time": "2025-01-08T21:48:32.211Z"
   },
   {
    "duration": 23,
    "start_time": "2025-01-08T21:48:33.057Z"
   },
   {
    "duration": 8,
    "start_time": "2025-01-08T21:48:33.082Z"
   },
   {
    "duration": 8,
    "start_time": "2025-01-08T21:48:33.096Z"
   },
   {
    "duration": 203,
    "start_time": "2025-01-08T21:48:33.105Z"
   },
   {
    "duration": 317,
    "start_time": "2025-01-08T21:48:33.310Z"
   },
   {
    "duration": 72,
    "start_time": "2025-01-08T21:48:33.629Z"
   },
   {
    "duration": 115,
    "start_time": "2025-01-08T21:48:33.703Z"
   },
   {
    "duration": 36,
    "start_time": "2025-01-08T21:48:33.820Z"
   },
   {
    "duration": 105,
    "start_time": "2025-01-08T21:48:33.857Z"
   },
   {
    "duration": 5,
    "start_time": "2025-01-08T21:48:33.963Z"
   },
   {
    "duration": 24,
    "start_time": "2025-01-08T21:48:33.970Z"
   },
   {
    "duration": 312,
    "start_time": "2025-01-08T21:48:33.996Z"
   },
   {
    "duration": 35,
    "start_time": "2025-01-08T21:48:34.310Z"
   },
   {
    "duration": 58,
    "start_time": "2025-01-08T21:48:34.346Z"
   },
   {
    "duration": 59,
    "start_time": "2025-01-08T21:48:34.406Z"
   },
   {
    "duration": 22,
    "start_time": "2025-01-08T21:48:34.466Z"
   },
   {
    "duration": 22,
    "start_time": "2025-01-08T21:48:34.490Z"
   },
   {
    "duration": 120,
    "start_time": "2025-01-08T21:48:34.514Z"
   },
   {
    "duration": 2,
    "start_time": "2025-01-08T21:48:34.636Z"
   },
   {
    "duration": 56,
    "start_time": "2025-01-08T21:48:34.640Z"
   },
   {
    "duration": 11,
    "start_time": "2025-01-08T21:48:34.698Z"
   },
   {
    "duration": 28,
    "start_time": "2025-01-08T21:48:34.711Z"
   },
   {
    "duration": 52,
    "start_time": "2025-01-08T21:48:34.741Z"
   },
   {
    "duration": 104,
    "start_time": "2025-01-08T21:48:34.795Z"
   },
   {
    "duration": 134,
    "start_time": "2025-01-08T21:48:34.901Z"
   },
   {
    "duration": 125,
    "start_time": "2025-01-08T21:48:35.037Z"
   },
   {
    "duration": 22,
    "start_time": "2025-01-08T21:48:35.163Z"
   },
   {
    "duration": 30,
    "start_time": "2025-01-08T21:48:35.187Z"
   },
   {
    "duration": 17,
    "start_time": "2025-01-08T21:48:35.219Z"
   },
   {
    "duration": 15,
    "start_time": "2025-01-08T21:48:35.238Z"
   },
   {
    "duration": 155,
    "start_time": "2025-01-08T21:48:35.254Z"
   },
   {
    "duration": 678,
    "start_time": "2025-01-08T21:48:35.411Z"
   },
   {
    "duration": 55,
    "start_time": "2025-01-08T21:48:36.091Z"
   },
   {
    "duration": 46,
    "start_time": "2025-01-08T21:48:36.147Z"
   },
   {
    "duration": 3,
    "start_time": "2025-01-08T21:48:36.195Z"
   },
   {
    "duration": 119,
    "start_time": "2025-01-08T21:48:36.199Z"
   },
   {
    "duration": 21,
    "start_time": "2025-01-08T21:48:36.320Z"
   },
   {
    "duration": 187,
    "start_time": "2025-01-08T21:48:36.343Z"
   },
   {
    "duration": 232,
    "start_time": "2025-01-08T21:48:36.531Z"
   },
   {
    "duration": 26,
    "start_time": "2025-01-08T21:48:36.764Z"
   },
   {
    "duration": 161,
    "start_time": "2025-01-08T21:48:36.792Z"
   },
   {
    "duration": 104,
    "start_time": "2025-01-08T21:48:36.955Z"
   },
   {
    "duration": 333,
    "start_time": "2025-01-08T21:48:37.060Z"
   },
   {
    "duration": 297,
    "start_time": "2025-01-08T21:48:37.395Z"
   },
   {
    "duration": 14,
    "start_time": "2025-01-08T21:48:37.694Z"
   },
   {
    "duration": 15,
    "start_time": "2025-01-08T21:48:37.710Z"
   },
   {
    "duration": 57,
    "start_time": "2025-01-08T21:48:37.727Z"
   },
   {
    "duration": 55,
    "start_time": "2025-01-08T21:48:37.786Z"
   },
   {
    "duration": 51,
    "start_time": "2025-01-08T21:48:37.843Z"
   },
   {
    "duration": 85,
    "start_time": "2025-01-08T21:48:37.896Z"
   },
   {
    "duration": 532,
    "start_time": "2025-01-08T21:48:37.984Z"
   },
   {
    "duration": 202,
    "start_time": "2025-01-08T21:48:38.517Z"
   },
   {
    "duration": 10,
    "start_time": "2025-01-08T21:48:38.721Z"
   },
   {
    "duration": 482,
    "start_time": "2025-01-08T21:51:17.211Z"
   },
   {
    "duration": 190,
    "start_time": "2025-01-08T21:52:58.095Z"
   },
   {
    "duration": 185,
    "start_time": "2025-01-08T21:54:11.435Z"
   },
   {
    "duration": 10,
    "start_time": "2025-01-08T21:54:51.010Z"
   },
   {
    "duration": 180,
    "start_time": "2025-01-08T21:58:39.312Z"
   },
   {
    "duration": 4,
    "start_time": "2025-01-08T22:15:59.082Z"
   },
   {
    "duration": 47,
    "start_time": "2025-01-08T22:16:12.416Z"
   },
   {
    "duration": 137,
    "start_time": "2025-01-08T22:16:28.384Z"
   },
   {
    "duration": 141,
    "start_time": "2025-01-08T22:16:42.545Z"
   },
   {
    "duration": 136,
    "start_time": "2025-01-08T22:19:47.155Z"
   },
   {
    "duration": 61,
    "start_time": "2025-01-08T22:19:51.584Z"
   },
   {
    "duration": 42,
    "start_time": "2025-01-08T22:20:25.426Z"
   },
   {
    "duration": 47,
    "start_time": "2025-01-08T22:24:20.941Z"
   },
   {
    "duration": 56,
    "start_time": "2025-01-08T22:30:56.425Z"
   },
   {
    "duration": 9,
    "start_time": "2025-01-08T22:31:37.594Z"
   },
   {
    "duration": 50,
    "start_time": "2025-01-08T22:31:57.843Z"
   },
   {
    "duration": 8,
    "start_time": "2025-01-08T22:32:02.683Z"
   },
   {
    "duration": 230,
    "start_time": "2025-01-08T22:34:00.735Z"
   },
   {
    "duration": 157,
    "start_time": "2025-01-08T22:34:20.836Z"
   },
   {
    "duration": 151,
    "start_time": "2025-01-08T22:34:29.545Z"
   },
   {
    "duration": 264,
    "start_time": "2025-01-08T22:34:40.727Z"
   },
   {
    "duration": 248,
    "start_time": "2025-01-08T22:35:05.841Z"
   },
   {
    "duration": 48,
    "start_time": "2025-01-09T12:26:20.244Z"
   },
   {
    "duration": 418,
    "start_time": "2025-01-09T12:26:26.086Z"
   },
   {
    "duration": 890,
    "start_time": "2025-01-09T12:26:26.506Z"
   },
   {
    "duration": 3786,
    "start_time": "2025-01-09T12:26:27.398Z"
   },
   {
    "duration": 2678,
    "start_time": "2025-01-09T12:26:31.187Z"
   },
   {
    "duration": 73,
    "start_time": "2025-01-09T12:26:33.867Z"
   },
   {
    "duration": 11,
    "start_time": "2025-01-09T12:26:33.942Z"
   },
   {
    "duration": 9,
    "start_time": "2025-01-09T12:26:33.955Z"
   },
   {
    "duration": 21,
    "start_time": "2025-01-09T12:26:33.965Z"
   },
   {
    "duration": 57,
    "start_time": "2025-01-09T12:26:33.988Z"
   },
   {
    "duration": 7,
    "start_time": "2025-01-09T12:26:34.048Z"
   },
   {
    "duration": 88,
    "start_time": "2025-01-09T12:26:34.056Z"
   },
   {
    "duration": 4,
    "start_time": "2025-01-09T12:26:34.145Z"
   },
   {
    "duration": 26,
    "start_time": "2025-01-09T12:26:34.150Z"
   },
   {
    "duration": 33,
    "start_time": "2025-01-09T12:26:34.177Z"
   },
   {
    "duration": 22,
    "start_time": "2025-01-09T12:26:34.212Z"
   },
   {
    "duration": 20,
    "start_time": "2025-01-09T12:26:34.235Z"
   },
   {
    "duration": 12,
    "start_time": "2025-01-09T12:26:34.256Z"
   },
   {
    "duration": 41,
    "start_time": "2025-01-09T12:26:34.270Z"
   },
   {
    "duration": 9,
    "start_time": "2025-01-09T12:26:34.313Z"
   },
   {
    "duration": 6,
    "start_time": "2025-01-09T12:26:34.323Z"
   },
   {
    "duration": 29,
    "start_time": "2025-01-09T12:26:34.330Z"
   },
   {
    "duration": 41,
    "start_time": "2025-01-09T12:26:34.361Z"
   },
   {
    "duration": 8,
    "start_time": "2025-01-09T12:26:34.404Z"
   },
   {
    "duration": 103,
    "start_time": "2025-01-09T12:26:34.414Z"
   },
   {
    "duration": 733,
    "start_time": "2025-01-09T12:26:34.518Z"
   },
   {
    "duration": 8,
    "start_time": "2025-01-09T12:26:35.252Z"
   },
   {
    "duration": 13,
    "start_time": "2025-01-09T12:26:35.262Z"
   },
   {
    "duration": 9,
    "start_time": "2025-01-09T12:26:35.286Z"
   },
   {
    "duration": 161,
    "start_time": "2025-01-09T12:26:35.297Z"
   },
   {
    "duration": 261,
    "start_time": "2025-01-09T12:26:35.460Z"
   },
   {
    "duration": 44,
    "start_time": "2025-01-09T12:26:35.723Z"
   },
   {
    "duration": 102,
    "start_time": "2025-01-09T12:26:35.769Z"
   },
   {
    "duration": 31,
    "start_time": "2025-01-09T12:26:35.873Z"
   },
   {
    "duration": 61,
    "start_time": "2025-01-09T12:26:35.906Z"
   },
   {
    "duration": 6,
    "start_time": "2025-01-09T12:26:35.968Z"
   },
   {
    "duration": 17,
    "start_time": "2025-01-09T12:26:35.975Z"
   },
   {
    "duration": 238,
    "start_time": "2025-01-09T12:26:35.994Z"
   },
   {
    "duration": 31,
    "start_time": "2025-01-09T12:26:36.233Z"
   },
   {
    "duration": 78,
    "start_time": "2025-01-09T12:26:36.266Z"
   },
   {
    "duration": 68,
    "start_time": "2025-01-09T12:26:36.345Z"
   },
   {
    "duration": 32,
    "start_time": "2025-01-09T12:26:36.414Z"
   },
   {
    "duration": 39,
    "start_time": "2025-01-09T12:26:36.448Z"
   },
   {
    "duration": 32,
    "start_time": "2025-01-09T12:26:36.489Z"
   },
   {
    "duration": 6,
    "start_time": "2025-01-09T12:26:36.523Z"
   },
   {
    "duration": 48,
    "start_time": "2025-01-09T12:26:36.530Z"
   },
   {
    "duration": 53,
    "start_time": "2025-01-09T12:26:36.580Z"
   },
   {
    "duration": 57,
    "start_time": "2025-01-09T12:26:36.635Z"
   },
   {
    "duration": 51,
    "start_time": "2025-01-09T12:26:36.694Z"
   },
   {
    "duration": 42,
    "start_time": "2025-01-09T12:26:36.747Z"
   },
   {
    "duration": 119,
    "start_time": "2025-01-09T12:26:36.791Z"
   },
   {
    "duration": 116,
    "start_time": "2025-01-09T12:26:36.911Z"
   },
   {
    "duration": 16,
    "start_time": "2025-01-09T12:26:37.028Z"
   },
   {
    "duration": 10,
    "start_time": "2025-01-09T12:26:37.045Z"
   },
   {
    "duration": 29,
    "start_time": "2025-01-09T12:26:37.057Z"
   },
   {
    "duration": 20,
    "start_time": "2025-01-09T12:26:37.088Z"
   },
   {
    "duration": 150,
    "start_time": "2025-01-09T12:26:37.110Z"
   },
   {
    "duration": 516,
    "start_time": "2025-01-09T12:26:37.262Z"
   },
   {
    "duration": 51,
    "start_time": "2025-01-09T12:26:37.780Z"
   },
   {
    "duration": 29,
    "start_time": "2025-01-09T12:26:37.833Z"
   },
   {
    "duration": 3,
    "start_time": "2025-01-09T12:26:37.863Z"
   },
   {
    "duration": 3,
    "start_time": "2025-01-09T12:26:37.886Z"
   },
   {
    "duration": 104,
    "start_time": "2025-01-09T12:26:37.890Z"
   },
   {
    "duration": 92,
    "start_time": "2025-01-09T12:26:37.996Z"
   },
   {
    "duration": 204,
    "start_time": "2025-01-09T12:26:38.090Z"
   },
   {
    "duration": 14,
    "start_time": "2025-01-09T12:26:38.295Z"
   },
   {
    "duration": 79,
    "start_time": "2025-01-09T12:26:38.311Z"
   },
   {
    "duration": 73,
    "start_time": "2025-01-09T12:26:38.393Z"
   },
   {
    "duration": 269,
    "start_time": "2025-01-09T12:26:38.468Z"
   },
   {
    "duration": 221,
    "start_time": "2025-01-09T12:26:38.739Z"
   },
   {
    "duration": 13,
    "start_time": "2025-01-09T12:26:38.962Z"
   },
   {
    "duration": 13,
    "start_time": "2025-01-09T12:26:38.986Z"
   },
   {
    "duration": 19,
    "start_time": "2025-01-09T12:26:39.000Z"
   },
   {
    "duration": 65,
    "start_time": "2025-01-09T12:26:39.021Z"
   },
   {
    "duration": 36,
    "start_time": "2025-01-09T12:26:39.089Z"
   },
   {
    "duration": 63,
    "start_time": "2025-01-09T12:26:39.127Z"
   },
   {
    "duration": 521,
    "start_time": "2025-01-09T12:26:39.191Z"
   },
   {
    "duration": 8,
    "start_time": "2025-01-09T12:26:39.713Z"
   },
   {
    "duration": 171,
    "start_time": "2025-01-09T12:26:39.723Z"
   },
   {
    "duration": 41,
    "start_time": "2025-01-09T12:26:39.895Z"
   },
   {
    "duration": 43,
    "start_time": "2025-01-09T12:26:39.938Z"
   },
   {
    "duration": 224,
    "start_time": "2025-01-09T12:26:39.985Z"
   },
   {
    "duration": 141,
    "start_time": "2025-01-09T12:26:40.215Z"
   },
   {
    "duration": 222,
    "start_time": "2025-01-09T12:26:40.358Z"
   },
   {
    "duration": 209,
    "start_time": "2025-01-09T12:28:45.664Z"
   },
   {
    "duration": 201,
    "start_time": "2025-01-09T12:38:19.214Z"
   },
   {
    "duration": 131,
    "start_time": "2025-01-09T12:38:42.288Z"
   },
   {
    "duration": 61,
    "start_time": "2025-01-09T20:46:15.363Z"
   },
   {
    "duration": 459,
    "start_time": "2025-01-09T20:46:38.074Z"
   },
   {
    "duration": 1129,
    "start_time": "2025-01-09T20:46:38.535Z"
   },
   {
    "duration": 3795,
    "start_time": "2025-01-09T20:46:39.666Z"
   },
   {
    "duration": 2945,
    "start_time": "2025-01-09T20:46:43.464Z"
   },
   {
    "duration": 113,
    "start_time": "2025-01-09T20:46:46.410Z"
   },
   {
    "duration": 14,
    "start_time": "2025-01-09T20:46:46.525Z"
   },
   {
    "duration": 4,
    "start_time": "2025-01-09T20:46:46.540Z"
   },
   {
    "duration": 8,
    "start_time": "2025-01-09T20:46:46.559Z"
   },
   {
    "duration": 60,
    "start_time": "2025-01-09T20:46:46.569Z"
   },
   {
    "duration": 29,
    "start_time": "2025-01-09T20:46:46.632Z"
   },
   {
    "duration": 85,
    "start_time": "2025-01-09T20:46:46.663Z"
   },
   {
    "duration": 10,
    "start_time": "2025-01-09T20:46:46.750Z"
   },
   {
    "duration": 19,
    "start_time": "2025-01-09T20:46:46.761Z"
   },
   {
    "duration": 27,
    "start_time": "2025-01-09T20:46:46.781Z"
   },
   {
    "duration": 50,
    "start_time": "2025-01-09T20:46:46.810Z"
   },
   {
    "duration": 23,
    "start_time": "2025-01-09T20:46:46.862Z"
   },
   {
    "duration": 16,
    "start_time": "2025-01-09T20:46:46.887Z"
   },
   {
    "duration": 24,
    "start_time": "2025-01-09T20:46:46.904Z"
   },
   {
    "duration": 37,
    "start_time": "2025-01-09T20:46:46.930Z"
   },
   {
    "duration": 34,
    "start_time": "2025-01-09T20:46:46.969Z"
   },
   {
    "duration": 40,
    "start_time": "2025-01-09T20:46:47.005Z"
   },
   {
    "duration": 60,
    "start_time": "2025-01-09T20:46:47.047Z"
   },
   {
    "duration": 9,
    "start_time": "2025-01-09T20:46:47.109Z"
   },
   {
    "duration": 154,
    "start_time": "2025-01-09T20:46:47.120Z"
   },
   {
    "duration": 913,
    "start_time": "2025-01-09T20:46:47.276Z"
   },
   {
    "duration": 11,
    "start_time": "2025-01-09T20:46:48.190Z"
   },
   {
    "duration": 8,
    "start_time": "2025-01-09T20:46:48.203Z"
   },
   {
    "duration": 9,
    "start_time": "2025-01-09T20:46:48.217Z"
   },
   {
    "duration": 234,
    "start_time": "2025-01-09T20:46:48.227Z"
   },
   {
    "duration": 358,
    "start_time": "2025-01-09T20:46:48.463Z"
   },
   {
    "duration": 84,
    "start_time": "2025-01-09T20:46:48.823Z"
   },
   {
    "duration": 130,
    "start_time": "2025-01-09T20:46:48.909Z"
   },
   {
    "duration": 49,
    "start_time": "2025-01-09T20:46:49.041Z"
   },
   {
    "duration": 79,
    "start_time": "2025-01-09T20:46:49.092Z"
   },
   {
    "duration": 6,
    "start_time": "2025-01-09T20:46:49.173Z"
   },
   {
    "duration": 12,
    "start_time": "2025-01-09T20:46:49.180Z"
   },
   {
    "duration": 317,
    "start_time": "2025-01-09T20:46:49.193Z"
   },
   {
    "duration": 35,
    "start_time": "2025-01-09T20:46:49.512Z"
   },
   {
    "duration": 37,
    "start_time": "2025-01-09T20:46:49.561Z"
   },
   {
    "duration": 60,
    "start_time": "2025-01-09T20:46:49.600Z"
   },
   {
    "duration": 19,
    "start_time": "2025-01-09T20:46:49.663Z"
   },
   {
    "duration": 24,
    "start_time": "2025-01-09T20:46:49.684Z"
   },
   {
    "duration": 51,
    "start_time": "2025-01-09T20:46:49.710Z"
   },
   {
    "duration": 3,
    "start_time": "2025-01-09T20:46:49.762Z"
   },
   {
    "duration": 51,
    "start_time": "2025-01-09T20:46:49.767Z"
   },
   {
    "duration": 12,
    "start_time": "2025-01-09T20:46:49.819Z"
   },
   {
    "duration": 46,
    "start_time": "2025-01-09T20:46:49.832Z"
   },
   {
    "duration": 34,
    "start_time": "2025-01-09T20:46:49.880Z"
   },
   {
    "duration": 54,
    "start_time": "2025-01-09T20:46:49.916Z"
   },
   {
    "duration": 150,
    "start_time": "2025-01-09T20:46:49.972Z"
   },
   {
    "duration": 139,
    "start_time": "2025-01-09T20:46:50.124Z"
   },
   {
    "duration": 19,
    "start_time": "2025-01-09T20:46:50.265Z"
   },
   {
    "duration": 13,
    "start_time": "2025-01-09T20:46:50.286Z"
   },
   {
    "duration": 5,
    "start_time": "2025-01-09T20:46:50.301Z"
   },
   {
    "duration": 13,
    "start_time": "2025-01-09T20:46:50.307Z"
   },
   {
    "duration": 215,
    "start_time": "2025-01-09T20:46:50.322Z"
   },
   {
    "duration": 761,
    "start_time": "2025-01-09T20:46:50.540Z"
   },
   {
    "duration": 67,
    "start_time": "2025-01-09T20:46:51.303Z"
   },
   {
    "duration": 44,
    "start_time": "2025-01-09T20:46:51.371Z"
   },
   {
    "duration": 15,
    "start_time": "2025-01-09T20:46:51.416Z"
   },
   {
    "duration": 10,
    "start_time": "2025-01-09T20:46:51.433Z"
   },
   {
    "duration": 23,
    "start_time": "2025-01-09T20:46:51.444Z"
   },
   {
    "duration": 142,
    "start_time": "2025-01-09T20:46:51.469Z"
   },
   {
    "duration": 262,
    "start_time": "2025-01-09T20:46:51.613Z"
   },
   {
    "duration": 18,
    "start_time": "2025-01-09T20:46:51.877Z"
   },
   {
    "duration": 103,
    "start_time": "2025-01-09T20:46:51.896Z"
   },
   {
    "duration": 108,
    "start_time": "2025-01-09T20:46:52.001Z"
   },
   {
    "duration": 349,
    "start_time": "2025-01-09T20:46:52.111Z"
   },
   {
    "duration": 295,
    "start_time": "2025-01-09T20:46:52.461Z"
   },
   {
    "duration": 14,
    "start_time": "2025-01-09T20:46:52.760Z"
   },
   {
    "duration": 16,
    "start_time": "2025-01-09T20:46:52.776Z"
   },
   {
    "duration": 23,
    "start_time": "2025-01-09T20:46:52.794Z"
   },
   {
    "duration": 84,
    "start_time": "2025-01-09T20:46:52.818Z"
   },
   {
    "duration": 62,
    "start_time": "2025-01-09T20:46:52.904Z"
   },
   {
    "duration": 68,
    "start_time": "2025-01-09T20:46:52.967Z"
   },
   {
    "duration": 661,
    "start_time": "2025-01-09T20:46:53.037Z"
   },
   {
    "duration": 10,
    "start_time": "2025-01-09T20:46:53.700Z"
   },
   {
    "duration": 198,
    "start_time": "2025-01-09T20:46:53.712Z"
   },
   {
    "duration": 61,
    "start_time": "2025-01-09T20:46:53.912Z"
   },
   {
    "duration": 9,
    "start_time": "2025-01-09T20:46:53.975Z"
   },
   {
    "duration": 250,
    "start_time": "2025-01-09T20:46:53.986Z"
   },
   {
    "duration": 171,
    "start_time": "2025-01-09T20:46:54.241Z"
   },
   {
    "duration": 287,
    "start_time": "2025-01-09T20:46:54.414Z"
   },
   {
    "duration": 152,
    "start_time": "2025-01-09T20:46:54.703Z"
   },
   {
    "duration": 155,
    "start_time": "2025-01-09T20:51:49.284Z"
   },
   {
    "duration": 1229,
    "start_time": "2025-01-09T20:59:29.351Z"
   },
   {
    "duration": 11,
    "start_time": "2025-01-09T20:59:55.674Z"
   },
   {
    "duration": 10,
    "start_time": "2025-01-09T21:03:12.565Z"
   },
   {
    "duration": 19,
    "start_time": "2025-01-09T21:06:49.706Z"
   },
   {
    "duration": 226,
    "start_time": "2025-01-09T21:07:42.397Z"
   },
   {
    "duration": 335,
    "start_time": "2025-01-09T21:12:47.236Z"
   },
   {
    "duration": 10,
    "start_time": "2025-01-09T21:14:17.259Z"
   },
   {
    "duration": 10,
    "start_time": "2025-01-09T21:14:24.905Z"
   },
   {
    "duration": 12,
    "start_time": "2025-01-09T21:14:34.345Z"
   },
   {
    "duration": 6,
    "start_time": "2025-01-09T21:15:13.442Z"
   },
   {
    "duration": 12,
    "start_time": "2025-01-09T21:15:56.000Z"
   },
   {
    "duration": 12,
    "start_time": "2025-01-09T21:16:03.553Z"
   },
   {
    "duration": 222,
    "start_time": "2025-01-09T21:18:47.302Z"
   },
   {
    "duration": 19,
    "start_time": "2025-01-09T21:19:40.785Z"
   },
   {
    "duration": 16,
    "start_time": "2025-01-09T21:26:33.134Z"
   },
   {
    "duration": 12,
    "start_time": "2025-01-09T21:26:53.867Z"
   },
   {
    "duration": 268,
    "start_time": "2025-01-09T21:40:38.507Z"
   },
   {
    "duration": 14,
    "start_time": "2025-01-09T21:41:26.859Z"
   },
   {
    "duration": 13,
    "start_time": "2025-01-09T21:42:32.109Z"
   },
   {
    "duration": 247,
    "start_time": "2025-01-09T21:42:37.561Z"
   },
   {
    "duration": 261,
    "start_time": "2025-01-09T21:43:02.151Z"
   },
   {
    "duration": 23,
    "start_time": "2025-01-09T21:44:11.309Z"
   },
   {
    "duration": 20,
    "start_time": "2025-01-09T21:44:32.789Z"
   },
   {
    "duration": 12,
    "start_time": "2025-01-09T21:45:20.710Z"
   },
   {
    "duration": 106,
    "start_time": "2025-01-09T21:46:28.334Z"
   },
   {
    "duration": 43,
    "start_time": "2025-01-09T21:46:36.304Z"
   },
   {
    "duration": 240,
    "start_time": "2025-01-09T21:52:25.608Z"
   },
   {
    "duration": 38,
    "start_time": "2025-01-09T21:54:00.337Z"
   },
   {
    "duration": 44,
    "start_time": "2025-01-09T21:55:33.049Z"
   },
   {
    "duration": 41,
    "start_time": "2025-01-09T21:55:41.502Z"
   },
   {
    "duration": 42,
    "start_time": "2025-01-09T21:55:50.607Z"
   },
   {
    "duration": 41,
    "start_time": "2025-01-09T21:55:57.119Z"
   },
   {
    "duration": 44,
    "start_time": "2025-01-09T21:56:34.267Z"
   },
   {
    "duration": 47,
    "start_time": "2025-01-09T21:59:20.888Z"
   },
   {
    "duration": 22,
    "start_time": "2025-01-09T22:00:17.397Z"
   },
   {
    "duration": 58,
    "start_time": "2025-01-09T22:02:16.930Z"
   },
   {
    "duration": 17,
    "start_time": "2025-01-09T22:02:17.890Z"
   },
   {
    "duration": 50,
    "start_time": "2025-01-09T22:02:39.130Z"
   },
   {
    "duration": 146,
    "start_time": "2025-01-09T22:02:40.111Z"
   },
   {
    "duration": 451,
    "start_time": "2025-01-09T22:34:24.432Z"
   },
   {
    "duration": 859,
    "start_time": "2025-01-09T22:34:24.885Z"
   },
   {
    "duration": 2769,
    "start_time": "2025-01-09T22:34:25.746Z"
   },
   {
    "duration": 2538,
    "start_time": "2025-01-09T22:34:28.518Z"
   },
   {
    "duration": 102,
    "start_time": "2025-01-09T22:34:31.061Z"
   },
   {
    "duration": 14,
    "start_time": "2025-01-09T22:34:31.165Z"
   },
   {
    "duration": 4,
    "start_time": "2025-01-09T22:34:31.181Z"
   },
   {
    "duration": 16,
    "start_time": "2025-01-09T22:34:31.187Z"
   },
   {
    "duration": 74,
    "start_time": "2025-01-09T22:34:31.204Z"
   },
   {
    "duration": 9,
    "start_time": "2025-01-09T22:34:31.279Z"
   },
   {
    "duration": 92,
    "start_time": "2025-01-09T22:34:31.290Z"
   },
   {
    "duration": 3,
    "start_time": "2025-01-09T22:34:31.384Z"
   },
   {
    "duration": 41,
    "start_time": "2025-01-09T22:34:31.389Z"
   },
   {
    "duration": 42,
    "start_time": "2025-01-09T22:34:31.434Z"
   },
   {
    "duration": 29,
    "start_time": "2025-01-09T22:34:31.478Z"
   },
   {
    "duration": 35,
    "start_time": "2025-01-09T22:34:31.509Z"
   },
   {
    "duration": 28,
    "start_time": "2025-01-09T22:34:31.546Z"
   },
   {
    "duration": 24,
    "start_time": "2025-01-09T22:34:31.575Z"
   },
   {
    "duration": 20,
    "start_time": "2025-01-09T22:34:31.600Z"
   },
   {
    "duration": 16,
    "start_time": "2025-01-09T22:34:31.622Z"
   },
   {
    "duration": 55,
    "start_time": "2025-01-09T22:34:31.640Z"
   },
   {
    "duration": 70,
    "start_time": "2025-01-09T22:34:31.698Z"
   },
   {
    "duration": 9,
    "start_time": "2025-01-09T22:34:31.769Z"
   },
   {
    "duration": 117,
    "start_time": "2025-01-09T22:34:31.779Z"
   },
   {
    "duration": 891,
    "start_time": "2025-01-09T22:34:31.898Z"
   },
   {
    "duration": 10,
    "start_time": "2025-01-09T22:34:32.791Z"
   },
   {
    "duration": 17,
    "start_time": "2025-01-09T22:34:32.803Z"
   },
   {
    "duration": 26,
    "start_time": "2025-01-09T22:34:32.822Z"
   },
   {
    "duration": 210,
    "start_time": "2025-01-09T22:34:32.850Z"
   },
   {
    "duration": 340,
    "start_time": "2025-01-09T22:34:33.062Z"
   },
   {
    "duration": 81,
    "start_time": "2025-01-09T22:34:33.404Z"
   },
   {
    "duration": 127,
    "start_time": "2025-01-09T22:34:33.487Z"
   },
   {
    "duration": 47,
    "start_time": "2025-01-09T22:34:33.615Z"
   },
   {
    "duration": 71,
    "start_time": "2025-01-09T22:34:33.664Z"
   },
   {
    "duration": 5,
    "start_time": "2025-01-09T22:34:33.737Z"
   },
   {
    "duration": 10,
    "start_time": "2025-01-09T22:34:33.759Z"
   },
   {
    "duration": 325,
    "start_time": "2025-01-09T22:34:33.771Z"
   },
   {
    "duration": 41,
    "start_time": "2025-01-09T22:34:34.098Z"
   },
   {
    "duration": 56,
    "start_time": "2025-01-09T22:34:34.141Z"
   },
   {
    "duration": 62,
    "start_time": "2025-01-09T22:34:34.199Z"
   },
   {
    "duration": 21,
    "start_time": "2025-01-09T22:34:34.268Z"
   },
   {
    "duration": 26,
    "start_time": "2025-01-09T22:34:34.291Z"
   },
   {
    "duration": 62,
    "start_time": "2025-01-09T22:34:34.320Z"
   },
   {
    "duration": 4,
    "start_time": "2025-01-09T22:34:34.384Z"
   },
   {
    "duration": 67,
    "start_time": "2025-01-09T22:34:34.390Z"
   },
   {
    "duration": 14,
    "start_time": "2025-01-09T22:34:34.460Z"
   },
   {
    "duration": 32,
    "start_time": "2025-01-09T22:34:34.476Z"
   },
   {
    "duration": 63,
    "start_time": "2025-01-09T22:34:34.510Z"
   },
   {
    "duration": 39,
    "start_time": "2025-01-09T22:34:34.576Z"
   },
   {
    "duration": 185,
    "start_time": "2025-01-09T22:34:34.617Z"
   },
   {
    "duration": 140,
    "start_time": "2025-01-09T22:34:34.804Z"
   },
   {
    "duration": 27,
    "start_time": "2025-01-09T22:34:34.946Z"
   },
   {
    "duration": 12,
    "start_time": "2025-01-09T22:34:34.975Z"
   },
   {
    "duration": 16,
    "start_time": "2025-01-09T22:34:34.989Z"
   },
   {
    "duration": 12,
    "start_time": "2025-01-09T22:34:35.007Z"
   },
   {
    "duration": 193,
    "start_time": "2025-01-09T22:34:35.021Z"
   },
   {
    "duration": 724,
    "start_time": "2025-01-09T22:34:35.215Z"
   },
   {
    "duration": 62,
    "start_time": "2025-01-09T22:34:35.941Z"
   },
   {
    "duration": 60,
    "start_time": "2025-01-09T22:34:36.005Z"
   },
   {
    "duration": 12,
    "start_time": "2025-01-09T22:34:36.067Z"
   },
   {
    "duration": 14,
    "start_time": "2025-01-09T22:34:36.080Z"
   },
   {
    "duration": 18,
    "start_time": "2025-01-09T22:34:36.095Z"
   },
   {
    "duration": 159,
    "start_time": "2025-01-09T22:34:36.115Z"
   },
   {
    "duration": 208,
    "start_time": "2025-01-09T22:34:36.276Z"
   },
   {
    "duration": 17,
    "start_time": "2025-01-09T22:34:36.486Z"
   },
   {
    "duration": 101,
    "start_time": "2025-01-09T22:34:36.505Z"
   },
   {
    "duration": 101,
    "start_time": "2025-01-09T22:34:36.608Z"
   },
   {
    "duration": 387,
    "start_time": "2025-01-09T22:34:36.712Z"
   },
   {
    "duration": 299,
    "start_time": "2025-01-09T22:34:37.102Z"
   },
   {
    "duration": 14,
    "start_time": "2025-01-09T22:34:37.403Z"
   },
   {
    "duration": 19,
    "start_time": "2025-01-09T22:34:37.419Z"
   },
   {
    "duration": 24,
    "start_time": "2025-01-09T22:34:37.459Z"
   },
   {
    "duration": 55,
    "start_time": "2025-01-09T22:34:37.485Z"
   },
   {
    "duration": 64,
    "start_time": "2025-01-09T22:34:37.542Z"
   },
   {
    "duration": 83,
    "start_time": "2025-01-09T22:34:37.607Z"
   },
   {
    "duration": 590,
    "start_time": "2025-01-09T22:34:37.692Z"
   },
   {
    "duration": 9,
    "start_time": "2025-01-09T22:34:38.284Z"
   },
   {
    "duration": 195,
    "start_time": "2025-01-09T22:34:38.295Z"
   },
   {
    "duration": 48,
    "start_time": "2025-01-09T22:34:38.492Z"
   },
   {
    "duration": 25,
    "start_time": "2025-01-09T22:34:38.542Z"
   },
   {
    "duration": 241,
    "start_time": "2025-01-09T22:34:38.568Z"
   },
   {
    "duration": 168,
    "start_time": "2025-01-09T22:34:38.811Z"
   },
   {
    "duration": 244,
    "start_time": "2025-01-09T22:34:38.981Z"
   },
   {
    "duration": 149,
    "start_time": "2025-01-09T22:34:39.227Z"
   },
   {
    "duration": 5,
    "start_time": "2025-01-09T22:34:39.378Z"
   },
   {
    "duration": 25,
    "start_time": "2025-01-09T22:34:39.384Z"
   },
   {
    "duration": 24,
    "start_time": "2025-01-09T22:34:39.411Z"
   },
   {
    "duration": 223,
    "start_time": "2025-01-09T22:34:39.437Z"
   },
   {
    "duration": 12,
    "start_time": "2025-01-09T22:34:39.662Z"
   },
   {
    "duration": 264,
    "start_time": "2025-01-09T22:34:39.676Z"
   },
   {
    "duration": 67,
    "start_time": "2025-01-09T22:34:39.942Z"
   },
   {
    "duration": 153,
    "start_time": "2025-01-09T22:34:40.011Z"
   },
   {
    "duration": 442,
    "start_time": "2025-01-10T22:15:15.896Z"
   },
   {
    "duration": 902,
    "start_time": "2025-01-10T22:15:16.340Z"
   },
   {
    "duration": 9540,
    "start_time": "2025-01-10T22:15:17.244Z"
   },
   {
    "duration": 2535,
    "start_time": "2025-01-10T22:15:26.787Z"
   },
   {
    "duration": 105,
    "start_time": "2025-01-10T22:15:29.325Z"
   },
   {
    "duration": 15,
    "start_time": "2025-01-10T22:15:29.432Z"
   },
   {
    "duration": 4,
    "start_time": "2025-01-10T22:15:29.461Z"
   },
   {
    "duration": 18,
    "start_time": "2025-01-10T22:15:29.467Z"
   },
   {
    "duration": 88,
    "start_time": "2025-01-10T22:15:29.487Z"
   },
   {
    "duration": 8,
    "start_time": "2025-01-10T22:15:29.577Z"
   },
   {
    "duration": 93,
    "start_time": "2025-01-10T22:15:29.587Z"
   },
   {
    "duration": 3,
    "start_time": "2025-01-10T22:15:29.682Z"
   },
   {
    "duration": 27,
    "start_time": "2025-01-10T22:15:29.687Z"
   },
   {
    "duration": 22,
    "start_time": "2025-01-10T22:15:29.718Z"
   },
   {
    "duration": 41,
    "start_time": "2025-01-10T22:15:29.742Z"
   },
   {
    "duration": 28,
    "start_time": "2025-01-10T22:15:29.785Z"
   },
   {
    "duration": 18,
    "start_time": "2025-01-10T22:15:29.815Z"
   },
   {
    "duration": 25,
    "start_time": "2025-01-10T22:15:29.860Z"
   },
   {
    "duration": 10,
    "start_time": "2025-01-10T22:15:29.887Z"
   },
   {
    "duration": 7,
    "start_time": "2025-01-10T22:15:29.898Z"
   },
   {
    "duration": 61,
    "start_time": "2025-01-10T22:15:29.907Z"
   },
   {
    "duration": 46,
    "start_time": "2025-01-10T22:15:29.970Z"
   },
   {
    "duration": 42,
    "start_time": "2025-01-10T22:15:30.018Z"
   },
   {
    "duration": 178,
    "start_time": "2025-01-10T22:15:30.062Z"
   },
   {
    "duration": 937,
    "start_time": "2025-01-10T22:15:30.242Z"
   },
   {
    "duration": 10,
    "start_time": "2025-01-10T22:15:31.181Z"
   },
   {
    "duration": 25,
    "start_time": "2025-01-10T22:15:31.193Z"
   },
   {
    "duration": 19,
    "start_time": "2025-01-10T22:15:31.220Z"
   },
   {
    "duration": 217,
    "start_time": "2025-01-10T22:15:31.240Z"
   },
   {
    "duration": 382,
    "start_time": "2025-01-10T22:15:31.459Z"
   },
   {
    "duration": 78,
    "start_time": "2025-01-10T22:15:31.843Z"
   },
   {
    "duration": 139,
    "start_time": "2025-01-10T22:15:31.922Z"
   },
   {
    "duration": 35,
    "start_time": "2025-01-10T22:15:32.063Z"
   },
   {
    "duration": 90,
    "start_time": "2025-01-10T22:15:32.101Z"
   },
   {
    "duration": 5,
    "start_time": "2025-01-10T22:15:32.193Z"
   },
   {
    "duration": 18,
    "start_time": "2025-01-10T22:15:32.200Z"
   },
   {
    "duration": 342,
    "start_time": "2025-01-10T22:15:32.220Z"
   },
   {
    "duration": 36,
    "start_time": "2025-01-10T22:15:32.564Z"
   },
   {
    "duration": 58,
    "start_time": "2025-01-10T22:15:32.602Z"
   },
   {
    "duration": 46,
    "start_time": "2025-01-10T22:15:32.662Z"
   },
   {
    "duration": 39,
    "start_time": "2025-01-10T22:15:32.712Z"
   },
   {
    "duration": 25,
    "start_time": "2025-01-10T22:15:32.753Z"
   },
   {
    "duration": 38,
    "start_time": "2025-01-10T22:15:32.780Z"
   },
   {
    "duration": 7,
    "start_time": "2025-01-10T22:15:32.820Z"
   },
   {
    "duration": 64,
    "start_time": "2025-01-10T22:15:32.829Z"
   },
   {
    "duration": 12,
    "start_time": "2025-01-10T22:15:32.895Z"
   },
   {
    "duration": 28,
    "start_time": "2025-01-10T22:15:32.909Z"
   },
   {
    "duration": 38,
    "start_time": "2025-01-10T22:15:32.959Z"
   },
   {
    "duration": 61,
    "start_time": "2025-01-10T22:15:32.999Z"
   },
   {
    "duration": 160,
    "start_time": "2025-01-10T22:15:33.062Z"
   },
   {
    "duration": 150,
    "start_time": "2025-01-10T22:15:33.224Z"
   },
   {
    "duration": 19,
    "start_time": "2025-01-10T22:15:33.377Z"
   },
   {
    "duration": 21,
    "start_time": "2025-01-10T22:15:33.398Z"
   },
   {
    "duration": 60,
    "start_time": "2025-01-10T22:15:33.421Z"
   },
   {
    "duration": 12,
    "start_time": "2025-01-10T22:15:33.483Z"
   },
   {
    "duration": 199,
    "start_time": "2025-01-10T22:15:33.498Z"
   },
   {
    "duration": 724,
    "start_time": "2025-01-10T22:15:33.698Z"
   },
   {
    "duration": 65,
    "start_time": "2025-01-10T22:15:34.424Z"
   },
   {
    "duration": 27,
    "start_time": "2025-01-10T22:15:34.490Z"
   },
   {
    "duration": 18,
    "start_time": "2025-01-10T22:15:34.518Z"
   },
   {
    "duration": 5,
    "start_time": "2025-01-10T22:15:34.538Z"
   },
   {
    "duration": 6,
    "start_time": "2025-01-10T22:15:34.559Z"
   },
   {
    "duration": 141,
    "start_time": "2025-01-10T22:15:34.566Z"
   },
   {
    "duration": 219,
    "start_time": "2025-01-10T22:15:34.709Z"
   },
   {
    "duration": 17,
    "start_time": "2025-01-10T22:15:34.929Z"
   },
   {
    "duration": 89,
    "start_time": "2025-01-10T22:15:34.959Z"
   },
   {
    "duration": 111,
    "start_time": "2025-01-10T22:15:35.060Z"
   },
   {
    "duration": 358,
    "start_time": "2025-01-10T22:15:35.173Z"
   },
   {
    "duration": 318,
    "start_time": "2025-01-10T22:15:35.533Z"
   },
   {
    "duration": 21,
    "start_time": "2025-01-10T22:15:35.852Z"
   },
   {
    "duration": 47,
    "start_time": "2025-01-10T22:15:35.874Z"
   },
   {
    "duration": 36,
    "start_time": "2025-01-10T22:15:35.923Z"
   },
   {
    "duration": 91,
    "start_time": "2025-01-10T22:15:35.960Z"
   },
   {
    "duration": 50,
    "start_time": "2025-01-10T22:15:36.053Z"
   },
   {
    "duration": 80,
    "start_time": "2025-01-10T22:15:36.105Z"
   },
   {
    "duration": 604,
    "start_time": "2025-01-10T22:15:36.187Z"
   },
   {
    "duration": 11,
    "start_time": "2025-01-10T22:15:36.793Z"
   },
   {
    "duration": 196,
    "start_time": "2025-01-10T22:15:36.805Z"
   },
   {
    "duration": 26,
    "start_time": "2025-01-10T22:15:37.003Z"
   },
   {
    "duration": 37,
    "start_time": "2025-01-10T22:16:18.293Z"
   },
   {
    "duration": 234,
    "start_time": "2025-01-10T22:19:31.400Z"
   },
   {
    "duration": 20,
    "start_time": "2025-01-10T22:19:40.467Z"
   },
   {
    "duration": 48,
    "start_time": "2025-01-10T22:55:19.272Z"
   },
   {
    "duration": 424,
    "start_time": "2025-01-10T22:55:25.342Z"
   },
   {
    "duration": 992,
    "start_time": "2025-01-10T22:55:25.768Z"
   },
   {
    "duration": 3364,
    "start_time": "2025-01-10T22:55:26.762Z"
   },
   {
    "duration": 2391,
    "start_time": "2025-01-10T22:55:30.128Z"
   },
   {
    "duration": 95,
    "start_time": "2025-01-10T22:55:32.520Z"
   },
   {
    "duration": 12,
    "start_time": "2025-01-10T22:55:32.617Z"
   },
   {
    "duration": 42,
    "start_time": "2025-01-10T22:55:32.630Z"
   },
   {
    "duration": 10,
    "start_time": "2025-01-10T22:55:32.673Z"
   },
   {
    "duration": 61,
    "start_time": "2025-01-10T22:55:32.685Z"
   },
   {
    "duration": 8,
    "start_time": "2025-01-10T22:55:32.749Z"
   },
   {
    "duration": 82,
    "start_time": "2025-01-10T22:55:32.759Z"
   },
   {
    "duration": 3,
    "start_time": "2025-01-10T22:55:32.843Z"
   },
   {
    "duration": 27,
    "start_time": "2025-01-10T22:55:32.848Z"
   },
   {
    "duration": 20,
    "start_time": "2025-01-10T22:55:32.876Z"
   },
   {
    "duration": 38,
    "start_time": "2025-01-10T22:55:32.898Z"
   },
   {
    "duration": 35,
    "start_time": "2025-01-10T22:55:32.938Z"
   },
   {
    "duration": 18,
    "start_time": "2025-01-10T22:55:32.975Z"
   },
   {
    "duration": 30,
    "start_time": "2025-01-10T22:55:32.995Z"
   },
   {
    "duration": 10,
    "start_time": "2025-01-10T22:55:33.027Z"
   },
   {
    "duration": 27,
    "start_time": "2025-01-10T22:55:33.038Z"
   },
   {
    "duration": 36,
    "start_time": "2025-01-10T22:55:33.067Z"
   },
   {
    "duration": 44,
    "start_time": "2025-01-10T22:55:33.104Z"
   },
   {
    "duration": 8,
    "start_time": "2025-01-10T22:55:33.150Z"
   },
   {
    "duration": 113,
    "start_time": "2025-01-10T22:55:33.160Z"
   },
   {
    "duration": 845,
    "start_time": "2025-01-10T22:55:33.275Z"
   },
   {
    "duration": 10,
    "start_time": "2025-01-10T22:55:34.122Z"
   },
   {
    "duration": 14,
    "start_time": "2025-01-10T22:55:34.133Z"
   },
   {
    "duration": 19,
    "start_time": "2025-01-10T22:55:34.152Z"
   },
   {
    "duration": 174,
    "start_time": "2025-01-10T22:55:34.172Z"
   },
   {
    "duration": 302,
    "start_time": "2025-01-10T22:55:34.348Z"
   },
   {
    "duration": 68,
    "start_time": "2025-01-10T22:55:34.652Z"
   },
   {
    "duration": 117,
    "start_time": "2025-01-10T22:55:34.722Z"
   },
   {
    "duration": 31,
    "start_time": "2025-01-10T22:55:34.841Z"
   },
   {
    "duration": 77,
    "start_time": "2025-01-10T22:55:34.873Z"
   },
   {
    "duration": 5,
    "start_time": "2025-01-10T22:55:34.952Z"
   },
   {
    "duration": 9,
    "start_time": "2025-01-10T22:55:34.959Z"
   },
   {
    "duration": 306,
    "start_time": "2025-01-10T22:55:34.969Z"
   },
   {
    "duration": 40,
    "start_time": "2025-01-10T22:55:35.277Z"
   },
   {
    "duration": 33,
    "start_time": "2025-01-10T22:55:35.319Z"
   },
   {
    "duration": 54,
    "start_time": "2025-01-10T22:55:35.354Z"
   },
   {
    "duration": 19,
    "start_time": "2025-01-10T22:55:35.410Z"
   },
   {
    "duration": 52,
    "start_time": "2025-01-10T22:55:35.431Z"
   },
   {
    "duration": 35,
    "start_time": "2025-01-10T22:55:35.485Z"
   },
   {
    "duration": 15,
    "start_time": "2025-01-10T22:55:35.522Z"
   },
   {
    "duration": 79,
    "start_time": "2025-01-10T22:55:35.539Z"
   },
   {
    "duration": 13,
    "start_time": "2025-01-10T22:55:35.620Z"
   },
   {
    "duration": 157,
    "start_time": "2025-01-10T22:55:35.635Z"
   },
   {
    "duration": 34,
    "start_time": "2025-01-10T22:55:35.794Z"
   },
   {
    "duration": 38,
    "start_time": "2025-01-10T22:55:35.830Z"
   },
   {
    "duration": 145,
    "start_time": "2025-01-10T22:55:35.870Z"
   },
   {
    "duration": 129,
    "start_time": "2025-01-10T22:55:36.017Z"
   },
   {
    "duration": 16,
    "start_time": "2025-01-10T22:55:36.148Z"
   },
   {
    "duration": 28,
    "start_time": "2025-01-10T22:55:36.165Z"
   },
   {
    "duration": 18,
    "start_time": "2025-01-10T22:55:36.194Z"
   },
   {
    "duration": 9,
    "start_time": "2025-01-10T22:55:36.214Z"
   },
   {
    "duration": 164,
    "start_time": "2025-01-10T22:55:36.225Z"
   },
   {
    "duration": 635,
    "start_time": "2025-01-10T22:55:36.390Z"
   },
   {
    "duration": 50,
    "start_time": "2025-01-10T22:55:37.026Z"
   },
   {
    "duration": 39,
    "start_time": "2025-01-10T22:55:37.077Z"
   },
   {
    "duration": 3,
    "start_time": "2025-01-10T22:55:37.117Z"
   },
   {
    "duration": 27,
    "start_time": "2025-01-10T22:55:37.121Z"
   },
   {
    "duration": 53,
    "start_time": "2025-01-10T22:55:37.149Z"
   },
   {
    "duration": 119,
    "start_time": "2025-01-10T22:55:37.203Z"
   },
   {
    "duration": 194,
    "start_time": "2025-01-10T22:55:37.324Z"
   },
   {
    "duration": 15,
    "start_time": "2025-01-10T22:55:37.519Z"
   },
   {
    "duration": 94,
    "start_time": "2025-01-10T22:55:37.535Z"
   },
   {
    "duration": 95,
    "start_time": "2025-01-10T22:55:37.631Z"
   },
   {
    "duration": 328,
    "start_time": "2025-01-10T22:55:37.727Z"
   },
   {
    "duration": 266,
    "start_time": "2025-01-10T22:55:38.056Z"
   },
   {
    "duration": 13,
    "start_time": "2025-01-10T22:55:38.324Z"
   },
   {
    "duration": 119,
    "start_time": "2025-01-10T22:55:38.338Z"
   },
   {
    "duration": 21,
    "start_time": "2025-01-10T22:55:38.458Z"
   },
   {
    "duration": 50,
    "start_time": "2025-01-10T22:55:38.480Z"
   },
   {
    "duration": 42,
    "start_time": "2025-01-10T22:55:38.533Z"
   },
   {
    "duration": 76,
    "start_time": "2025-01-10T22:55:38.577Z"
   },
   {
    "duration": 553,
    "start_time": "2025-01-10T22:55:38.654Z"
   },
   {
    "duration": 13,
    "start_time": "2025-01-10T22:55:39.209Z"
   },
   {
    "duration": 172,
    "start_time": "2025-01-10T22:55:39.224Z"
   },
   {
    "duration": 39,
    "start_time": "2025-01-10T22:55:39.398Z"
   },
   {
    "duration": 21,
    "start_time": "2025-01-10T22:55:39.439Z"
   },
   {
    "duration": 8,
    "start_time": "2025-01-10T22:55:39.462Z"
   },
   {
    "duration": 232,
    "start_time": "2025-01-10T22:55:39.476Z"
   },
   {
    "duration": 146,
    "start_time": "2025-01-10T22:55:39.714Z"
   },
   {
    "duration": 233,
    "start_time": "2025-01-10T22:55:39.861Z"
   },
   {
    "duration": 134,
    "start_time": "2025-01-10T22:55:40.096Z"
   },
   {
    "duration": 4,
    "start_time": "2025-01-10T22:55:40.231Z"
   },
   {
    "duration": 20,
    "start_time": "2025-01-10T22:55:40.236Z"
   },
   {
    "duration": 20,
    "start_time": "2025-01-10T22:55:40.258Z"
   },
   {
    "duration": 195,
    "start_time": "2025-01-10T22:55:40.279Z"
   },
   {
    "duration": 9,
    "start_time": "2025-01-10T22:55:40.476Z"
   },
   {
    "duration": 232,
    "start_time": "2025-01-10T22:55:40.487Z"
   },
   {
    "duration": 54,
    "start_time": "2025-01-10T22:55:40.721Z"
   },
   {
    "duration": 146,
    "start_time": "2025-01-10T22:55:40.777Z"
   },
   {
    "duration": 116,
    "start_time": "2025-01-10T22:56:31.592Z"
   },
   {
    "duration": 49,
    "start_time": "2025-01-10T22:56:41.570Z"
   },
   {
    "duration": 25,
    "start_time": "2025-01-10T22:57:47.066Z"
   },
   {
    "duration": 8,
    "start_time": "2025-01-10T22:58:19.842Z"
   },
   {
    "duration": 324,
    "start_time": "2025-01-10T22:58:21.080Z"
   },
   {
    "duration": 142,
    "start_time": "2025-01-10T22:58:23.305Z"
   },
   {
    "duration": 210,
    "start_time": "2025-01-10T22:58:24.247Z"
   },
   {
    "duration": 137,
    "start_time": "2025-01-10T22:58:24.461Z"
   },
   {
    "duration": 5,
    "start_time": "2025-01-10T22:58:24.836Z"
   },
   {
    "duration": 12,
    "start_time": "2025-01-10T22:58:25.041Z"
   },
   {
    "duration": 18,
    "start_time": "2025-01-10T22:58:25.853Z"
   },
   {
    "duration": 192,
    "start_time": "2025-01-10T22:58:26.063Z"
   },
   {
    "duration": 14,
    "start_time": "2025-01-10T22:58:26.428Z"
   },
   {
    "duration": 230,
    "start_time": "2025-01-10T22:58:27.136Z"
   },
   {
    "duration": 54,
    "start_time": "2025-01-10T22:58:27.368Z"
   },
   {
    "duration": 134,
    "start_time": "2025-01-10T22:58:27.492Z"
   },
   {
    "duration": 110,
    "start_time": "2025-01-10T23:01:57.232Z"
   },
   {
    "duration": 150,
    "start_time": "2025-01-10T23:02:03.074Z"
   },
   {
    "duration": 121,
    "start_time": "2025-01-10T23:02:11.023Z"
   },
   {
    "duration": 135,
    "start_time": "2025-01-10T23:02:21.160Z"
   },
   {
    "duration": 142,
    "start_time": "2025-01-10T23:02:27.498Z"
   },
   {
    "duration": 260,
    "start_time": "2025-01-10T23:02:38.368Z"
   },
   {
    "duration": 133,
    "start_time": "2025-01-10T23:02:48.181Z"
   }
  ],
  "colab": {
   "provenance": []
  },
  "kernelspec": {
   "display_name": "Python 3 (ipykernel)",
   "language": "python",
   "name": "python3"
  },
  "language_info": {
   "codemirror_mode": {
    "name": "ipython",
    "version": 3
   },
   "file_extension": ".py",
   "mimetype": "text/x-python",
   "name": "python",
   "nbconvert_exporter": "python",
   "pygments_lexer": "ipython3",
   "version": "3.9.5"
  },
  "toc": {
   "base_numbering": 1,
   "nav_menu": {},
   "number_sections": true,
   "sideBar": true,
   "skip_h1_title": true,
   "title_cell": "Table of Contents",
   "title_sidebar": "Contents",
   "toc_cell": false,
   "toc_position": {
    "height": "calc(100% - 180px)",
    "left": "10px",
    "top": "150px",
    "width": "165px"
   },
   "toc_section_display": true,
   "toc_window_display": true
  }
 },
 "nbformat": 4,
 "nbformat_minor": 1
}
