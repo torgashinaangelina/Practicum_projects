{
 "cells": [
  {
   "cell_type": "markdown",
   "metadata": {},
   "source": [
    "**Ангелина, привет!**\n",
    "\n",
    "Это — Алексей Каргин, рад снова поработать вместе! Я буду проверять проект  **Анализ результатов А/В тестирования с помощью Python**. \n",
    "\n",
    "Для удобства я оставлю комментарии в отдельных ячейках Markdown с заголовком «Комментарий ревьюера». Пожалуйста, не перемещай, не изменяй и не удаляй их — так наше общение будет более продуктивным. Я буду использовать цветовую разметку:\n",
    "\n",
    "<div class=\"alert alert-danger\">\n",
    "<b>Комментарий ревьюера</b> \n",
    "    \n",
    "✍ Так выделены самые важные замечания. Без их отработки проект не будет принят. При проверке я обращаю внимание не только на код, но и на интерпретацию и анализ результатов.\n",
    "</div>\n",
    "\n",
    "<div class=\"alert alert-warning\">\n",
    "<b>Комментарий ревьюера</b> \n",
    "    \n",
    "📝 Так выделены небольшие замечания или рекомендации. Постарайся, пожалуйста, учесть эти комментарии в этом проекте или в будущих проектах.\n",
    "</div>\n",
    "\n",
    "<div class=\"alert alert-success\">\n",
    "<b>Комментарий ревьюера</b> \n",
    "    \n",
    "👍 Так выделены все остальные комментарии, включая рекомендации, позитивные моменты или какие-то рассуждения и пояснения.\n",
    "</div>\n",
    "\n",
    "Давай работать над проектом в диалоге: если ты что-то меняешь в проекте или отвечаешь на мои комментарии — пиши об этом. Мне будет легче отследить изменения, если ты выделишь свои комментарии:\n",
    "\n",
    "<div class=\"alert alert-info\"> \n",
    "<b>Комментарий студента</b> \n",
    "    \n",
    "Например, вот так. Также, если есть какие-то вопросы, или что-то осталось непонятным по ревью - спрашивай в таких блоках и я постараюсь дать ответ.\n",
    "</div>\n",
    "\n",
    "---\n",
    "\n",
    "<div class=\"alert alert-success\">\n",
    "<b>Обратная связь v.1</b> \n",
    "    \n",
    "👋 Ангелина, спасибо, что прислала проект! В целом проект сделан на хорошем уровне, ты уверенно используешь инструменты `pandas` для работы с данными, а также библиотеки `python` для визуализации результатов и проведения стат. тестов. Тут все хорошо! Также здорово, что приводишь промежуточные выводы, отмечая важные и интересные моменты.\n",
    "    \n",
    "В целом критичных ошибок нет и я бы мог принять проект в том виде, в котором он есть, но у меня были некоторые комментарии по последнему тесту — там проверяется немного не то, что было заложено в проект: сравниваются средние значения долей успешных сессий по дням проведения теста, а подразумевалось сравнение долей по всем данным. Посмотри, пожалуйста, мои доп. комментарии — будет здорово, если ты проведешь еще один стат тест по сравнению долей.\n",
    "    \n",
    "Но, поскольку общий результат получен, то проект можно принять и в настоящем виде. Если что напиши мне об этом.\n",
    "\n",
    "<br>    \n",
    "С наилучшими пожеланиями, <br>\n",
    "Алексей\n",
    "</div>\n",
    "\n",
    "---\n"
   ]
  },
  {
   "cell_type": "markdown",
   "metadata": {},
   "source": [
    "<div class=\"alert alert-info\"> \n",
    "<b>Комментарий студента</b> \n",
    "    \n",
    "Привет! Благодарю за проверку, ссылки на доп. материалы и приятные слова. Постаралась исправить желтые комментарии\n",
    "</div>\n",
    "\n",
    "\n",
    "---\n",
    "\n",
    "<div class=\"alert alert-success\">\n",
    "<b>Обратная связь v.2</b> \n",
    "    \n",
    "👋 Ангелина, спасибо, что оперативно проработала комментарии и за ОС на ревью, теперь проект может быть принят! Посмотри, пожалуйста, доп. комментарии в стат части.\n",
    "    \n",
    "--- \n",
    "    \n",
    "Немного интересных ссылок по теме АВ тестов и статистики — возможно часть ссылок и материала будет сложной, на ней не было акцента в курсе (будет в расширенной программе), но сейчас можно в целом получить общее представление о проведении АВ тестов и о том, что почитать после окончания курса:\n",
    "- Опыт аналитиков Авито (у них была сильная основа мат. стата):\n",
    "    - https://habr.com/ru/company/avito/blog/571094/\n",
    "    - https://habr.com/ru/company/avito/blog/571096/\n",
    "    - Тут есть статья про то, что U критерий МаннаУитни зло - https://habr.com/ru/company/avito/blog/709596/, на самом деле это не так, и нужно все использовать там, где это оптимально (нет единого метода или подхода), но скептическое мнение нужно тоже знать;\n",
    "- Бутстреп и А/Б тестирование https://habr.com/ru/company/X5Tech/blog/679842/ - достаточно интересный материал, но саму тему бутстреп нужно самостоятельно изучать; к сожалению в курсе этого не было, но такой подход активно используется, в том числе при выборе стат. критерия при проведении АВ тестов;\n",
    "- Стратификация пользователей - https://habr.com/ru/company/X5Tech/blog/596279/ - очень важный момент проведения АВ тестов; как только мы работаем с сегментами пользователей нужно учитывать их распределение в группах теста и др., а также учитывать при подсчете средних значений метрик;\n",
    "- На английском - как рассчитать размер выборки, как мне кажется, достаточно наглядно и понятно, плюс есть мат основа - https://www.invespcro.com/blog/calculating-sample-size-for-an-ab-test/\n",
    "- Как не надо анализировать А/В тесты https://gopractice.ru/how-not-to-analyze-abtests/ - немного про проблему подглядывания\n",
    "\n",
    "Ну и книга \"Доверительное A/B тестирование - Рон Кохави\".\n",
    "\n",
    "---  \n",
    "\n",
    "<br>    \n",
    "С наилучшими пожеланиями, <br>\n",
    "Алексей\n",
    "</div>\n",
    "\n",
    "---\n"
   ]
  },
  {
   "cell_type": "markdown",
   "metadata": {
    "id": "u98L9TgH0eMk"
   },
   "source": [
    "# Разработка A/B-тестирования и анализ результатов\n",
    "\n",
    "- Автор: Торгашина Ангелина\n",
    "- Дата: 03.03.2025\n",
    "\n",
    "Вы работаете продуктовым аналитиком в компании, которая разрабатывает развлекательное приложение с функцией «бесконечной» ленты, как, например, в приложениях с короткими видео. В вашем приложении существует две модели монетизации: первая — ежемесячная платная подписка, которая позволяет пользователям смотреть ленту без рекламы, вторая — демонстрация рекламы для пользователей, которые ещё не оформили подписку.\n",
    "\n",
    "Команда разработчиков рекомендательных систем создала новый алгоритм рекомендаций, который, по их мнению, будет показывать более интересный контент для каждого пользователя. Вас, как аналитика, просят помочь рассчитать параметры A/B-теста, который позволит проверить эту гипотезу, и проанализировать его результаты."
   ]
  },
  {
   "cell_type": "markdown",
   "metadata": {
    "id": "LJBRALHs0eMf"
   },
   "source": [
    "## Описание данных\n",
    "\n",
    "Вы будете работать с тремя таблицами:\n",
    "\n",
    "- `sessions_project_history.csv` — таблица с историческими данными по сессиям пользователей на период с 2025-08-15 по 2025-09-23. Путь к файлу: `/datasets/sessions_project_history.csv`.\n",
    "\n",
    "- `sessions_project_test_part.csv` — таблица с данными за первый день проведения A/B-теста, то есть за 2025-10-14. Путь к файлу: `/datasets/sessions_project_test_part.csv`.\n",
    "\n",
    "- `sessions_project_test.csv` — таблица с данными за весь период проведения A/B-теста, то есть с 2025-10-14 по 2025-11-02. Путь к файлу: `/datasets/sessions_project_test.csv`.\n",
    "\n",
    "У этих таблиц почти совпадает структура и содержание колонок, различаются лишь периоды наблюдения.\n",
    "\n",
    "Поля таблиц `sessions_project_history.csv`, `sessions_project_test.csv`, `sessions_project_test_part.csv`:\n",
    "\n",
    "- `user_id` — идентификатор пользователя;\n",
    "\n",
    "- `session_id` — идентификатор сессии в приложении;\n",
    "\n",
    "- `session_date` — дата сессии;\n",
    "\n",
    "- `session_start_ts` — дата и время начала сессии;\n",
    "\n",
    "- `install_date` — дата установки приложения;\n",
    "\n",
    "- `session_number` — порядковый номер сессии для конкретного пользователя;\n",
    "\n",
    "- `registration_flag` — является ли пользователь зарегистрированным;\n",
    "\n",
    "- `page_counter` — количество просмотренных страниц во время сессии;\n",
    "\n",
    "- `region` — регион пользователя;\n",
    "\n",
    "- `device` — тип устройства пользователя;\n",
    "\n",
    "- `test_group` — тестовая группа (в таблице с историческими данными этого столбца нет).\n",
    "\n",
    "\n",
    "## Что нужно сделать\n",
    "Ваши задачи: рассчитать параметры теста, оценить корректность его проведения и проанализировать результаты эксперимента."
   ]
  },
  {
   "cell_type": "markdown",
   "metadata": {},
   "source": [
    "<div class=\"alert alert-success\">\n",
    "<b>Комментарий ревьюера v.1</b> \n",
    "    \n",
    "👍 В этом проекте уже был шаблон с вводной частью. В целом шаблон хороший, но его можно дополнить, например, немного раскрыть шаги работы с данными, или раскрыть задачу АВ тестирования. Или, добавить, какие параметры или какие метрики анализируются в ходе эксперимента.\n",
    "\n",
    "</div>"
   ]
  },
  {
   "cell_type": "markdown",
   "metadata": {
    "id": "UpOucjID0eMl"
   },
   "source": [
    "### 1. Работа с историческими данными (EDA)"
   ]
  },
  {
   "cell_type": "markdown",
   "metadata": {
    "id": "8iJMtL-30eMl"
   },
   "source": [
    "#### 1.1. Загрузка исторических данных\n",
    "На первом этапе поработайте с историческими данными приложения:\n",
    "\n",
    "- Импортируйте библиотеку pandas.\n",
    "\n",
    "- Считайте и сохраните в датафрейм `sessions_history` CSV-файл с историческими данными о сессиях пользователей `sessions_project_history.csv`.\n",
    "\n",
    "Выведите на экран первые пять строк полученного датафрейма."
   ]
  },
  {
   "cell_type": "code",
   "execution_count": 1,
   "metadata": {
    "id": "6TPR2-1RPboT"
   },
   "outputs": [],
   "source": [
    "import pandas as pd\n",
    "import matplotlib.pyplot as plt\n",
    "import seaborn as sns\n",
    "from scipy.stats import mannwhitneyu"
   ]
  },
  {
   "cell_type": "markdown",
   "metadata": {},
   "source": [
    "<div class=\"alert alert-success\">\n",
    "<b>Комментарий ревьюера v.1</b> \n",
    "    \n",
    "👍 Здорово, что следишь за оформлением тетрадки и самого проекта! Хорошо, когда импорт библиотек в начале проекта — это соответствует стилю [PEP8](https://www.python.org/dev/peps/pep-0008/) и помогает понять, какое окружение необходимо для запуска проекта.\n",
    "</div>"
   ]
  },
  {
   "cell_type": "code",
   "execution_count": 2,
   "metadata": {},
   "outputs": [
    {
     "data": {
      "text/html": [
       "<div>\n",
       "<style scoped>\n",
       "    .dataframe tbody tr th:only-of-type {\n",
       "        vertical-align: middle;\n",
       "    }\n",
       "\n",
       "    .dataframe tbody tr th {\n",
       "        vertical-align: top;\n",
       "    }\n",
       "\n",
       "    .dataframe thead th {\n",
       "        text-align: right;\n",
       "    }\n",
       "</style>\n",
       "<table border=\"1\" class=\"dataframe\">\n",
       "  <thead>\n",
       "    <tr style=\"text-align: right;\">\n",
       "      <th></th>\n",
       "      <th>user_id</th>\n",
       "      <th>session_id</th>\n",
       "      <th>session_date</th>\n",
       "      <th>session_start_ts</th>\n",
       "      <th>install_date</th>\n",
       "      <th>session_number</th>\n",
       "      <th>registration_flag</th>\n",
       "      <th>page_counter</th>\n",
       "      <th>region</th>\n",
       "      <th>device</th>\n",
       "    </tr>\n",
       "  </thead>\n",
       "  <tbody>\n",
       "    <tr>\n",
       "      <th>0</th>\n",
       "      <td>E302123B7000BFE4</td>\n",
       "      <td>F9AF61A0C2023832</td>\n",
       "      <td>2025-08-15</td>\n",
       "      <td>2025-08-15 17:47:35</td>\n",
       "      <td>2025-08-15</td>\n",
       "      <td>1</td>\n",
       "      <td>0</td>\n",
       "      <td>3</td>\n",
       "      <td>CIS</td>\n",
       "      <td>iPhone</td>\n",
       "    </tr>\n",
       "    <tr>\n",
       "      <th>1</th>\n",
       "      <td>2530F72E221829FB</td>\n",
       "      <td>85003A206CBDAC6F</td>\n",
       "      <td>2025-08-15</td>\n",
       "      <td>2025-08-15 16:42:14</td>\n",
       "      <td>2025-08-15</td>\n",
       "      <td>1</td>\n",
       "      <td>0</td>\n",
       "      <td>4</td>\n",
       "      <td>MENA</td>\n",
       "      <td>Android</td>\n",
       "    </tr>\n",
       "    <tr>\n",
       "      <th>2</th>\n",
       "      <td>876E020A4FC512F5</td>\n",
       "      <td>3677423E49D72DEE</td>\n",
       "      <td>2025-08-15</td>\n",
       "      <td>2025-08-15 12:30:00</td>\n",
       "      <td>2025-08-15</td>\n",
       "      <td>1</td>\n",
       "      <td>0</td>\n",
       "      <td>4</td>\n",
       "      <td>EU</td>\n",
       "      <td>PC</td>\n",
       "    </tr>\n",
       "    <tr>\n",
       "      <th>3</th>\n",
       "      <td>2640B349E1D81584</td>\n",
       "      <td>956B45F5915CA225</td>\n",
       "      <td>2025-08-15</td>\n",
       "      <td>2025-08-15 15:31:31</td>\n",
       "      <td>2025-08-15</td>\n",
       "      <td>1</td>\n",
       "      <td>0</td>\n",
       "      <td>4</td>\n",
       "      <td>CIS</td>\n",
       "      <td>Android</td>\n",
       "    </tr>\n",
       "    <tr>\n",
       "      <th>4</th>\n",
       "      <td>94E1CBFAEF1F5EE9</td>\n",
       "      <td>83BF0DA35F9F1F40</td>\n",
       "      <td>2025-08-15</td>\n",
       "      <td>2025-08-15 21:33:53</td>\n",
       "      <td>2025-08-15</td>\n",
       "      <td>1</td>\n",
       "      <td>0</td>\n",
       "      <td>3</td>\n",
       "      <td>CIS</td>\n",
       "      <td>Android</td>\n",
       "    </tr>\n",
       "  </tbody>\n",
       "</table>\n",
       "</div>"
      ],
      "text/plain": [
       "            user_id        session_id session_date     session_start_ts  \\\n",
       "0  E302123B7000BFE4  F9AF61A0C2023832   2025-08-15  2025-08-15 17:47:35   \n",
       "1  2530F72E221829FB  85003A206CBDAC6F   2025-08-15  2025-08-15 16:42:14   \n",
       "2  876E020A4FC512F5  3677423E49D72DEE   2025-08-15  2025-08-15 12:30:00   \n",
       "3  2640B349E1D81584  956B45F5915CA225   2025-08-15  2025-08-15 15:31:31   \n",
       "4  94E1CBFAEF1F5EE9  83BF0DA35F9F1F40   2025-08-15  2025-08-15 21:33:53   \n",
       "\n",
       "  install_date  session_number  registration_flag  page_counter region  \\\n",
       "0   2025-08-15               1                  0             3    CIS   \n",
       "1   2025-08-15               1                  0             4   MENA   \n",
       "2   2025-08-15               1                  0             4     EU   \n",
       "3   2025-08-15               1                  0             4    CIS   \n",
       "4   2025-08-15               1                  0             3    CIS   \n",
       "\n",
       "    device  \n",
       "0   iPhone  \n",
       "1  Android  \n",
       "2       PC  \n",
       "3  Android  \n",
       "4  Android  "
      ]
     },
     "execution_count": 2,
     "metadata": {},
     "output_type": "execute_result"
    }
   ],
   "source": [
    "sessions_history = pd.read_csv('/datasets/sessions_project_history.csv')\n",
    "sessions_history.head()"
   ]
  },
  {
   "cell_type": "markdown",
   "metadata": {
    "id": "qTDoiODz0eMo"
   },
   "source": [
    "#### 1.2. Знакомство с данными\n",
    "- Для каждого уникального пользователя `user_id` рассчитайте количество уникальных сессий `session_id`.\n",
    "\n",
    "- Выведите на экран все данные из таблицы `sessions_history` для одного пользователя с наибольшим количеством сессий. Если таких пользователей несколько, выберите любого из них.\n",
    "\n",
    "- Изучите таблицу для одного пользователя, чтобы лучше понять логику формирования каждого столбца данных.\n",
    "\n"
   ]
  },
  {
   "cell_type": "code",
   "execution_count": 3,
   "metadata": {
    "id": "PWZO9vTIPbPN"
   },
   "outputs": [
    {
     "data": {
      "text/html": [
       "<div>\n",
       "<style scoped>\n",
       "    .dataframe tbody tr th:only-of-type {\n",
       "        vertical-align: middle;\n",
       "    }\n",
       "\n",
       "    .dataframe tbody tr th {\n",
       "        vertical-align: top;\n",
       "    }\n",
       "\n",
       "    .dataframe thead th {\n",
       "        text-align: right;\n",
       "    }\n",
       "</style>\n",
       "<table border=\"1\" class=\"dataframe\">\n",
       "  <thead>\n",
       "    <tr style=\"text-align: right;\">\n",
       "      <th></th>\n",
       "      <th>user_id</th>\n",
       "      <th>session_id</th>\n",
       "      <th>session_date</th>\n",
       "      <th>session_start_ts</th>\n",
       "      <th>install_date</th>\n",
       "      <th>session_number</th>\n",
       "      <th>registration_flag</th>\n",
       "      <th>page_counter</th>\n",
       "      <th>region</th>\n",
       "      <th>device</th>\n",
       "    </tr>\n",
       "  </thead>\n",
       "  <tbody>\n",
       "    <tr>\n",
       "      <th>115558</th>\n",
       "      <td>10E0DEFC1ABDBBE0</td>\n",
       "      <td>B8F0423BBFFCF5DC</td>\n",
       "      <td>2025-08-14</td>\n",
       "      <td>2025-08-14 13:57:39</td>\n",
       "      <td>2025-08-14</td>\n",
       "      <td>1</td>\n",
       "      <td>0</td>\n",
       "      <td>4</td>\n",
       "      <td>CIS</td>\n",
       "      <td>Android</td>\n",
       "    </tr>\n",
       "    <tr>\n",
       "      <th>191751</th>\n",
       "      <td>10E0DEFC1ABDBBE0</td>\n",
       "      <td>87CA2FA549473837</td>\n",
       "      <td>2025-08-15</td>\n",
       "      <td>2025-08-15 16:42:10</td>\n",
       "      <td>2025-08-14</td>\n",
       "      <td>2</td>\n",
       "      <td>0</td>\n",
       "      <td>3</td>\n",
       "      <td>CIS</td>\n",
       "      <td>Android</td>\n",
       "    </tr>\n",
       "    <tr>\n",
       "      <th>239370</th>\n",
       "      <td>10E0DEFC1ABDBBE0</td>\n",
       "      <td>4ADD8011DCDCE318</td>\n",
       "      <td>2025-08-16</td>\n",
       "      <td>2025-08-16 19:53:21</td>\n",
       "      <td>2025-08-14</td>\n",
       "      <td>3</td>\n",
       "      <td>0</td>\n",
       "      <td>3</td>\n",
       "      <td>CIS</td>\n",
       "      <td>Android</td>\n",
       "    </tr>\n",
       "    <tr>\n",
       "      <th>274629</th>\n",
       "      <td>10E0DEFC1ABDBBE0</td>\n",
       "      <td>DF0FD0E09BF1F3D7</td>\n",
       "      <td>2025-08-17</td>\n",
       "      <td>2025-08-17 15:03:43</td>\n",
       "      <td>2025-08-14</td>\n",
       "      <td>4</td>\n",
       "      <td>0</td>\n",
       "      <td>1</td>\n",
       "      <td>CIS</td>\n",
       "      <td>Android</td>\n",
       "    </tr>\n",
       "    <tr>\n",
       "      <th>302501</th>\n",
       "      <td>10E0DEFC1ABDBBE0</td>\n",
       "      <td>3C221774B4DE6885</td>\n",
       "      <td>2025-08-18</td>\n",
       "      <td>2025-08-18 17:29:14</td>\n",
       "      <td>2025-08-14</td>\n",
       "      <td>5</td>\n",
       "      <td>0</td>\n",
       "      <td>4</td>\n",
       "      <td>CIS</td>\n",
       "      <td>Android</td>\n",
       "    </tr>\n",
       "    <tr>\n",
       "      <th>325557</th>\n",
       "      <td>10E0DEFC1ABDBBE0</td>\n",
       "      <td>031BD7A67048105B</td>\n",
       "      <td>2025-08-19</td>\n",
       "      <td>2025-08-19 13:23:55</td>\n",
       "      <td>2025-08-14</td>\n",
       "      <td>6</td>\n",
       "      <td>0</td>\n",
       "      <td>2</td>\n",
       "      <td>CIS</td>\n",
       "      <td>Android</td>\n",
       "    </tr>\n",
       "    <tr>\n",
       "      <th>345336</th>\n",
       "      <td>10E0DEFC1ABDBBE0</td>\n",
       "      <td>FF4315CF4AD4B100</td>\n",
       "      <td>2025-08-20</td>\n",
       "      <td>2025-08-20 19:31:54</td>\n",
       "      <td>2025-08-14</td>\n",
       "      <td>7</td>\n",
       "      <td>0</td>\n",
       "      <td>2</td>\n",
       "      <td>CIS</td>\n",
       "      <td>Android</td>\n",
       "    </tr>\n",
       "    <tr>\n",
       "      <th>377532</th>\n",
       "      <td>10E0DEFC1ABDBBE0</td>\n",
       "      <td>4045FEA0747203B4</td>\n",
       "      <td>2025-08-22</td>\n",
       "      <td>2025-08-22 17:54:13</td>\n",
       "      <td>2025-08-14</td>\n",
       "      <td>8</td>\n",
       "      <td>0</td>\n",
       "      <td>2</td>\n",
       "      <td>CIS</td>\n",
       "      <td>Android</td>\n",
       "    </tr>\n",
       "    <tr>\n",
       "      <th>403538</th>\n",
       "      <td>10E0DEFC1ABDBBE0</td>\n",
       "      <td>344B086C421C7F37</td>\n",
       "      <td>2025-08-24</td>\n",
       "      <td>2025-08-24 14:46:13</td>\n",
       "      <td>2025-08-14</td>\n",
       "      <td>9</td>\n",
       "      <td>0</td>\n",
       "      <td>2</td>\n",
       "      <td>CIS</td>\n",
       "      <td>Android</td>\n",
       "    </tr>\n",
       "    <tr>\n",
       "      <th>414743</th>\n",
       "      <td>10E0DEFC1ABDBBE0</td>\n",
       "      <td>054F20BA371E4C9D</td>\n",
       "      <td>2025-08-25</td>\n",
       "      <td>2025-08-25 18:36:41</td>\n",
       "      <td>2025-08-14</td>\n",
       "      <td>10</td>\n",
       "      <td>0</td>\n",
       "      <td>3</td>\n",
       "      <td>CIS</td>\n",
       "      <td>Android</td>\n",
       "    </tr>\n",
       "  </tbody>\n",
       "</table>\n",
       "</div>"
      ],
      "text/plain": [
       "                 user_id        session_id session_date     session_start_ts  \\\n",
       "115558  10E0DEFC1ABDBBE0  B8F0423BBFFCF5DC   2025-08-14  2025-08-14 13:57:39   \n",
       "191751  10E0DEFC1ABDBBE0  87CA2FA549473837   2025-08-15  2025-08-15 16:42:10   \n",
       "239370  10E0DEFC1ABDBBE0  4ADD8011DCDCE318   2025-08-16  2025-08-16 19:53:21   \n",
       "274629  10E0DEFC1ABDBBE0  DF0FD0E09BF1F3D7   2025-08-17  2025-08-17 15:03:43   \n",
       "302501  10E0DEFC1ABDBBE0  3C221774B4DE6885   2025-08-18  2025-08-18 17:29:14   \n",
       "325557  10E0DEFC1ABDBBE0  031BD7A67048105B   2025-08-19  2025-08-19 13:23:55   \n",
       "345336  10E0DEFC1ABDBBE0  FF4315CF4AD4B100   2025-08-20  2025-08-20 19:31:54   \n",
       "377532  10E0DEFC1ABDBBE0  4045FEA0747203B4   2025-08-22  2025-08-22 17:54:13   \n",
       "403538  10E0DEFC1ABDBBE0  344B086C421C7F37   2025-08-24  2025-08-24 14:46:13   \n",
       "414743  10E0DEFC1ABDBBE0  054F20BA371E4C9D   2025-08-25  2025-08-25 18:36:41   \n",
       "\n",
       "       install_date  session_number  registration_flag  page_counter region  \\\n",
       "115558   2025-08-14               1                  0             4    CIS   \n",
       "191751   2025-08-14               2                  0             3    CIS   \n",
       "239370   2025-08-14               3                  0             3    CIS   \n",
       "274629   2025-08-14               4                  0             1    CIS   \n",
       "302501   2025-08-14               5                  0             4    CIS   \n",
       "325557   2025-08-14               6                  0             2    CIS   \n",
       "345336   2025-08-14               7                  0             2    CIS   \n",
       "377532   2025-08-14               8                  0             2    CIS   \n",
       "403538   2025-08-14               9                  0             2    CIS   \n",
       "414743   2025-08-14              10                  0             3    CIS   \n",
       "\n",
       "         device  \n",
       "115558  Android  \n",
       "191751  Android  \n",
       "239370  Android  \n",
       "274629  Android  \n",
       "302501  Android  \n",
       "325557  Android  \n",
       "345336  Android  \n",
       "377532  Android  \n",
       "403538  Android  \n",
       "414743  Android  "
      ]
     },
     "execution_count": 3,
     "metadata": {},
     "output_type": "execute_result"
    }
   ],
   "source": [
    "# Ищем количество сессий для каждого пользователя\n",
    "unique_sessions_count=sessions_history.groupby('user_id')['session_id'].nunique().sort_values(ascending=False).reset_index()\n",
    "# Находим человека с наибольшим количеством сессий, оставляем только одного пользователя\n",
    "max_ses=unique_sessions_count['user_id'][unique_sessions_count['session_id']==10].head(1)\n",
    "# Выводим всю информацию по этому пользователю\n",
    "sessions_history[sessions_history['user_id'].isin(max_ses)]"
   ]
  },
  {
   "cell_type": "markdown",
   "metadata": {},
   "source": [
    "<div class=\"alert alert-success\">\n",
    "<b>Комментарий ревьюера v.1</b> \n",
    "    \n",
    "👍 Тут все верно — пользователь с максимальным количеством сессий был найден корректно. \n",
    "    \n",
    "Кстати, в `pandas` есть интересная функция — `nlargest()` https://pandas.pydata.org/docs/reference/api/pandas.DataFrame.nlargest.html. Она позволяет найти строку с максимальным значением:\n",
    "    \n",
    "```python\n",
    "sessions_history.groupby('user_id').agg({'session_id':'nunique'}).nlargest(1, 'session_id')\n",
    "```\n",
    "    \n",
    "По сути она объединяет `sort_values()` и `head()`.\n",
    "    \n",
    "Еще для выделения индекса — номера пользователя после группировки данных, можно использовать `idxmax()` — этот метод возьмет индекс максимального значения из серии:\n",
    "       \n",
    "```python\n",
    "sessions_history.groupby('user_id')['session_id'].nunique().idxmax()\n",
    "```\n",
    "    \n",
    "</div>"
   ]
  },
  {
   "cell_type": "markdown",
   "metadata": {
    "id": "CmcGpJTP0eMq"
   },
   "source": [
    "#### 1.3. Анализ числа регистраций\n",
    "Одна из важнейших метрик продукта — число зарегистрированных пользователей. Используя исторические данные, визуализируйте, как менялось число регистраций в приложении за время его существования.\n",
    "\n",
    "- Агрегируйте исторические данные и рассчитайте число уникальных пользователей и число зарегистрированных пользователей для каждого дня наблюдения. Для простоты считайте, что у пользователя в течение дня бывает одна сессия максимум и статус регистрации в течение одного дня не может измениться.\n",
    "\n",
    "- Постройте линейные графики общего числа пользователей и общего числа зарегистрированных пользователей по дням. Отобразите их на одном графике.\n",
    "\n",
    "- Постройте отдельный линейный график доли зарегистрированных пользователей от всех пользователей по дням.\n",
    "\n",
    "- На обоих графиках должны быть заголовок, подписанные оси X и Y, сетка и легенда."
   ]
  },
  {
   "cell_type": "code",
   "execution_count": 4,
   "metadata": {
    "id": "tN_6Ml3EPatS"
   },
   "outputs": [],
   "source": [
    "# Ищем количество уникальных пользователей на каждый день\n",
    "users=sessions_history.groupby('session_date')['user_id'].nunique()\n",
    "# Ищем количество уникальных зарегестрированных пользователей на каждый день\n",
    "reg_users=sessions_history[sessions_history['registration_flag']==1].groupby('session_date')['user_id'].nunique()"
   ]
  },
  {
   "cell_type": "code",
   "execution_count": 5,
   "metadata": {
    "scrolled": false
   },
   "outputs": [
    {
     "data": {
      "image/png": "[encoded data removed]",
      "text/plain": [
       "<Figure size 1080x576 with 1 Axes>"
      ]
     },
     "metadata": {
      "needs_background": "light"
     },
     "output_type": "display_data"
    }
   ],
   "source": [
    "plt.figure(figsize=(15, 8))\n",
    "plt.plot(users, label ='Уникальные пользователи')\n",
    "plt.plot(reg_users,label ='Уникальные зарегестрированные пользователи')\n",
    "\n",
    "plt.xlabel(\"Дата\")\n",
    "plt.xticks(rotation=90)\n",
    "plt.ylabel(\"Количество уникальных пользователей\")\n",
    "plt.legend()\n",
    "plt.title('Количество пользователей по дням')\n",
    "plt.grid(True)\n",
    "plt.show()"
   ]
  },
  {
   "cell_type": "markdown",
   "metadata": {},
   "source": [
    "<div class=\"alert alert-success\">\n",
    "<b>Комментарий ревьюера v.1</b> \n",
    "    \n",
    "👍 Молодец, что следишь за оформлением графиков — есть понятные заголовки, подписи по осям, легенда. Также подобран оптимальный размер графика.\n",
    "</div>"
   ]
  },
  {
   "cell_type": "markdown",
   "metadata": {},
   "source": [
    "вывод: видим, что на протяжении всего имеющегося временного отрезка общее количество пользователей в разы отличается от количества зарегестрированных пользователей. в начале синий график стремительно возрастает, но в конце почти сравнивается с оранжевым графиком."
   ]
  },
  {
   "cell_type": "code",
   "execution_count": 6,
   "metadata": {},
   "outputs": [],
   "source": [
    "# Доля зарегестрированных пользователей от общего количество на каждый день\n",
    "share=reg_users/users"
   ]
  },
  {
   "cell_type": "code",
   "execution_count": 7,
   "metadata": {},
   "outputs": [
    {
     "data": {
      "image/png": "[encoded data removed]",
      "text/plain": [
       "<Figure size 1080x576 with 1 Axes>"
      ]
     },
     "metadata": {
      "needs_background": "light"
     },
     "output_type": "display_data"
    }
   ],
   "source": [
    "plt.figure(figsize=(15, 8))\n",
    "plt.plot(share)\n",
    "\n",
    "plt.xlabel(\"Дата\")\n",
    "plt.xticks(rotation=90)\n",
    "plt.ylabel(\"Доля\")\n",
    "plt.title('Доля зарегестрированных пользователей от общего количества')\n",
    "plt.grid(True)\n",
    "plt.show()"
   ]
  },
  {
   "cell_type": "markdown",
   "metadata": {},
   "source": [
    "вывод: в целом, заметен восходящий тренд в долевом соотношении всех пользователей относительно зарегестрированных, хоть и видны колебания вверх-вниз. в конце наблюдаемого периода видим наивысший пик 22 сентября с резким падением на следующий день. "
   ]
  },
  {
   "cell_type": "markdown",
   "metadata": {},
   "source": [
    "<div class=\"alert alert-success\">\n",
    "<b>Комментарий ревьюера v.1</b> \n",
    "    \n",
    "👍 Тут все хорошо: данные рассчитаны верно, а графики имеют корректное оформление и масштаб. Молодец, что приводишь детальное описание метрики. Тут важно отметить снижение активности пользователей в последние дни. Кстати, кажется, что желтая линия на графике выше тоже снижается в последние дни, просто из-за различного масштаба это не выглядит также транично, как для синей линии.\n",
    "    \n",
    "Молодец, что при решении задачи подсчитываешь уникальные значение по игрокам. Это позволяет избежать возможных ошибок.\n",
    "\n",
    "В целом можно использовать поле `registration_flag` для подсчета доли — если взять среднее значение:\n",
    "    \n",
    "```python\n",
    "(sessions_history\n",
    " # В начале группируем по дате и игроку: \n",
    " .groupby(['session_date','user_id'])\n",
    " # Берем макс. значение по флагу регистрации:\n",
    " .agg({'registration_flag':'max'})\n",
    " .reset_index()\n",
    " # Затем считаем метрики, когда каждый игрок - одна строка:\n",
    " .groupby('session_date')                    \n",
    " .agg(\n",
    "     total_users = ('user_id', 'count'),\n",
    "     registered_users = ('registration_flag', 'sum'),\n",
    "     # Считаем долю зарегистрированных, как среднее:\n",
    "     registered_share = ('registration_flag', 'mean'))\n",
    " .reset_index()\n",
    ")    \n",
    "```\n",
    "    \n",
    "    \n",
    "</div>"
   ]
  },
  {
   "cell_type": "markdown",
   "metadata": {
    "id": "UR7D7RhF0eMr"
   },
   "source": [
    "#### 1.4. Анализ числа просмотренных страниц\n",
    "Другая важная метрика продукта — число просмотренных страниц в приложении. Чем больше страниц просмотрено, тем сильнее пользователь увлечён контентом, а значит, выше шансы на то, что он зарегистрируется и оплатит подписку.\n",
    "\n",
    "- Найдите количество сессий для каждого значения количества просмотренных страниц. Например: одну страницу просмотрели в 29160 сессиях, две страницы в 105536 сессиях и так далее.\n",
    "\n",
    "- Постройте столбчатую диаграмму, где по оси X будет число просмотренных страниц, по оси Y — количество сессий.\n",
    "\n",
    "- На диаграмме должны быть заголовок, подписанные оси X и Y."
   ]
  },
  {
   "cell_type": "code",
   "execution_count": 8,
   "metadata": {
    "id": "cb6hPlVzPaSf"
   },
   "outputs": [
    {
     "data": {
      "text/plain": [
       "page_counter\n",
       "1     29160\n",
       "2    105536\n",
       "3    166690\n",
       "4    105569\n",
       "5     26288\n",
       "6      2589\n",
       "7        92\n",
       "Name: session_id, dtype: int64"
      ]
     },
     "execution_count": 8,
     "metadata": {},
     "output_type": "execute_result"
    }
   ],
   "source": [
    "page_ses=sessions_history.groupby('page_counter')['session_id'].nunique()\n",
    "page_ses"
   ]
  },
  {
   "cell_type": "code",
   "execution_count": 9,
   "metadata": {},
   "outputs": [
    {
     "data": {
      "image/png": "[encoded data removed]",
      "text/plain": [
       "<Figure size 1080x576 with 1 Axes>"
      ]
     },
     "metadata": {
      "needs_background": "light"
     },
     "output_type": "display_data"
    }
   ],
   "source": [
    "plt.figure(figsize=(15, 8))\n",
    "plt.plot(page_ses)\n",
    "\n",
    "plt.xlabel(\"Количество просмотренных страниц\")\n",
    "plt.ylabel(\"Количество сессий\")\n",
    "plt.title('Количество сессий, в которых было просмотрено определенное количство страниц')\n",
    "plt.grid(True)\n",
    "plt.show()"
   ]
  },
  {
   "cell_type": "markdown",
   "metadata": {},
   "source": [
    "вывод: чаще всего пользователи смотрят 3 страницы за сессию, чуть реже 4 или 2, совсем редко 1 или 5, 6 и 7 страниц занимают последнее место по данному параметру."
   ]
  },
  {
   "cell_type": "markdown",
   "metadata": {},
   "source": [
    "<div class=\"alert alert-success\">\n",
    "<b>Комментарий ревьюера v.1</b> \n",
    "    \n",
    "👍 Тут тоже все корректно по действиям. Возможно, стоило рассмотреть слолбчатую диаграмму, всеже тут больше история про категорийные данные.\n",
    "</div>"
   ]
  },
  {
   "cell_type": "markdown",
   "metadata": {
    "id": "xDltSpVP0eMr"
   },
   "source": [
    "#### 1.5. Доля пользователей, просмотревших более четырёх страниц\n",
    "Продуктовая команда продукта считает, что сессии, в рамках которых пользователь просмотрел 4 и более страниц, говорят об удовлетворённости контентом и алгоритмами рекомендаций. Этот показатель является важной прокси-метрикой для продукта.\n",
    "\n",
    "- В датафрейме `sessions_history` создайте дополнительный столбец `good_session`. В него войдёт значение `1`, если за одну сессию было просмотрено 4 и более страниц, и значение `0`, если было просмотрено меньше.\n",
    "\n",
    "- Постройте график со средним значением доли успешных сессий ко всем сессиям по дням за весь период наблюдения."
   ]
  },
  {
   "cell_type": "code",
   "execution_count": 10,
   "metadata": {
    "id": "iygaPfixPYMW",
    "scrolled": false
   },
   "outputs": [],
   "source": [
    "# Создаем новый столбец\n",
    "sessions_history['good_session'] = (sessions_history['page_counter'] >= 4).astype(int)\n",
    "#Группировка по дням и расчет среднего значения good_session\n",
    "daily_success_rate = sessions_history.groupby('session_date')['good_session'].mean()"
   ]
  },
  {
   "cell_type": "markdown",
   "metadata": {},
   "source": [
    "<div class=\"alert alert-success\">\n",
    "<b>Комментарий ревьюера v.1</b> \n",
    "    \n",
    "👍 Все верно! Поле — признак было создано корректно, отлично, что используешь логическое условие и свойство логических данных (где `True` == 1). \n",
    "</div>"
   ]
  },
  {
   "cell_type": "code",
   "execution_count": 11,
   "metadata": {},
   "outputs": [
    {
     "data": {
      "image/png": "[encoded data removed]",
      "text/plain": [
       "<Figure size 1080x576 with 1 Axes>"
      ]
     },
     "metadata": {
      "needs_background": "light"
     },
     "output_type": "display_data"
    }
   ],
   "source": [
    "plt.figure(figsize=(15, 8))\n",
    "plt.plot(daily_success_rate)\n",
    "\n",
    "plt.xlabel('Дата')\n",
    "plt.xticks(rotation=90)\n",
    "plt.ylabel(\"Доля успешных сессий\")\n",
    "plt.title('Средняя доля успешных сессий')\n",
    "plt.grid(True)\n",
    "plt.show()"
   ]
  },
  {
   "cell_type": "code",
   "execution_count": 12,
   "metadata": {},
   "outputs": [
    {
     "name": "stdout",
     "output_type": "stream",
     "text": [
      "вывод: можно обнаружить колебания доли успешных сессий, однако они не слишком значительные и лежат в промежутке от 0.289 до 0.32.\n"
     ]
    }
   ],
   "source": [
    "print(f'вывод: можно обнаружить колебания доли успешных сессий, однако они не слишком значительные и лежат в промежутке от {round(daily_success_rate.min(), 3)} до {round(daily_success_rate.max(), 3)}.')"
   ]
  },
  {
   "cell_type": "markdown",
   "metadata": {},
   "source": [
    "<div class=\"alert alert-success\">\n",
    "<b>Комментарий ревьюера v.1</b> \n",
    "    \n",
    "👍 Все верно, можно еще отметить, что в конце периода, когда резко снизилась активность клиентов, доля успешных сессий стала варьировать в большем диапазоне, так как стало меньше наблюдений. Также можно еще зафиксировать, что это наша основная метрика, которую будем анализировать в тесте.\n",
    "</div>"
   ]
  },
  {
   "cell_type": "markdown",
   "metadata": {
    "id": "21JcG77Y0eMt"
   },
   "source": [
    "### 2. Подготовка к тесту\n",
    "При планировании теста необходимо проделать несколько важных шагов:\n",
    "\n",
    "- Определиться с целевой метрикой.\n",
    "\n",
    "- Рассчитать необходимый размер выборки.\n",
    "\n",
    "- Исходя из текущих значений трафика, рассчитать необходимую длительность проведения теста."
   ]
  },
  {
   "cell_type": "markdown",
   "metadata": {
    "id": "uzaeln270eMt"
   },
   "source": [
    "#### 2.1. Расчёт размера выборки\n",
    "В рамках курса вам уже приходилось рассчитывать размеры выборки, используя онлайн-калькуляторы. В этом задании предлагаем воспользоваться готовым кодом и рассчитать необходимое для вашего дизайна эксперимента количество пользователей.\n",
    "\n",
    "Для этого установите в коде ниже следующие параметры:\n",
    "\n",
    "- Уровень значимости — 0.05.\n",
    "\n",
    "- Вероятность ошибки второго рода — 0.2.\n",
    "\n",
    "- Мощность теста.\n",
    "\n",
    "- Минимальный детектируемый эффект, или MDE, — 3%. Обратите внимание, что здесь нужно указать десятичную дробь, а не процент.\n",
    "\n",
    "При расчёте размера выборки мы будем использовать метод `solve_power()` из класса `power.NormalIndPower` модуля `statsmodels.stats`.\n",
    "\n",
    "Запустите ячейку и изучите полученное значение."
   ]
  },
  {
   "cell_type": "code",
   "execution_count": 13,
   "metadata": {
    "id": "zSxJyPGPNdaI"
   },
   "outputs": [
    {
     "name": "stdout",
     "output_type": "stream",
     "text": [
      "Необходимый размер выборки для каждой группы: 17441\n"
     ]
    }
   ],
   "source": [
    "from statsmodels.stats.power import NormalIndPower\n",
    "\n",
    "# Задаём параметры\n",
    "alpha = 0.05  # Уровень значимости\n",
    "beta = 0.2  # Ошибка второго рода, часто 1 - мощность\n",
    "power = 0.8  # Мощность теста\n",
    "mde = 0.03  # Минимальный детектируемый эффект\n",
    "\n",
    "# Инициализируем класс NormalIndPower\n",
    "power_analysis = NormalIndPower()\n",
    "\n",
    "# Рассчитываем размер выборки\n",
    "sample_size = power_analysis.solve_power(\n",
    "    effect_size = mde,\n",
    "    power = power,\n",
    "    alpha = alpha,\n",
    "    ratio = 1 # Равномерное распределение выборок\n",
    ")\n",
    "\n",
    "print(f\"Необходимый размер выборки для каждой группы: {int(sample_size)}\")"
   ]
  },
  {
   "cell_type": "markdown",
   "metadata": {},
   "source": [
    "<div class=\"alert alert-success\">\n",
    "<b>Комментарий ревьюера v.1</b> \n",
    "    \n",
    "👍 Отлично! Тут уже был шаблон, но все параметры вставлены верно. Можно было бы также связать ошибку второго рода и мощность критерия через `power = 1 - beta`. \n",
    "    \n",
    "---\n",
    "    \n",
    "Кстати, есть еще очень интересный курс от Практикума по АB тестированию и статистике (бесплатный) — там можно более детально познакомиться с расчетом длительности теста. \n",
    "\n",
    "https://practicum.yandex.ru/profile/statistics-basic/\n",
    "    \n",
    "Там и по статистике есть материал. Он посложнее, но рекомендую.\n",
    "    \n",
    "</div>"
   ]
  },
  {
   "cell_type": "markdown",
   "metadata": {
    "id": "qLEv4RoV0eMu"
   },
   "source": [
    "#### 2.2. Расчёт длительности A/B-теста\n",
    "\n",
    "Используйте данные о количестве пользователей в каждой выборке и среднем количестве пользователей приложения. Рассчитайте длительность теста, разделив одно на другое.\n",
    "\n",
    "- Рассчитайте среднее количество уникальных пользователей приложения в день.\n",
    "\n",
    "- Определите длительность теста, исходя из рассчитанного значения размера выборок и среднего дневного трафика приложения. Количество дней округлите в большую сторону."
   ]
  },
  {
   "cell_type": "code",
   "execution_count": 14,
   "metadata": {
    "id": "KZDRbryDOGHa"
   },
   "outputs": [
    {
     "name": "stdout",
     "output_type": "stream",
     "text": [
      "Рассчитанная длительность A/B-теста при текущем уровене трафика в 9908 пользователей в день составит 4 дней\n"
     ]
    }
   ],
   "source": [
    "from math import ceil\n",
    "\n",
    "# Среднее количество пользователей приложения в день по историческим данным\n",
    "avg_daily_users = ceil((sessions_history.groupby('session_date')['user_id'].nunique()).mean())\n",
    "\n",
    "# Рассчитываем длительность теста в днях как отношение размера выборки к среднему числу пользователей\n",
    "test_duration = ceil(sample_size*2/avg_daily_users)\n",
    "\n",
    "print(f\"Рассчитанная длительность A/B-теста при текущем уровене трафика в {avg_daily_users} пользователей в день составит {test_duration} дней\")"
   ]
  },
  {
   "cell_type": "markdown",
   "metadata": {},
   "source": [
    "<div class=\"alert alert-success\">\n",
    "<b>Комментарий ревьюера v.1</b> \n",
    "    \n",
    "👍 По расчетам все верно! Здорово, что не забыла, что размер выборки был определен для одной группы, поэтому `sample_size` нужно умножить на 2.\n",
    "</div>"
   ]
  },
  {
   "cell_type": "markdown",
   "metadata": {
    "id": "ZuvtAdha0eMv"
   },
   "source": [
    "### 3. Мониторинг А/В-теста"
   ]
  },
  {
   "cell_type": "markdown",
   "metadata": {
    "id": "jq5sE3Ya0eMv"
   },
   "source": [
    "#### 3.1. Проверка распределения пользователей\n",
    "\n",
    "A/B-тест успешно запущен, и уже доступны данные за первые три дня. На этом этапе нужно убедиться, что всё идёт хорошо: пользователи разделены правильным образом, а интересующие вас метрики корректно считаются.\n",
    "\n",
    "- Считайте и сохраните в датафрейм `sessions_test_part` CSV-файл с историческими данными о сессиях пользователей `sessions_project_test_part.csv`.\n",
    "\n",
    "- Рассчитайте количество уникальных пользователей в каждой из экспериментальных групп для одного дня наблюдения.\n",
    "\n",
    "- Рассчитайте и выведите на экран процентную разницу в количестве пользователей в группах A и B. Постройте любую удобную визуализацию, на которой можно было бы увидеть возможное различие двух групп.\n",
    "\n",
    "Для расчёта процентной разницы воспользуйтесь формулой:\n",
    "$$P = 100 \\cdot  \\frac{|A − B|}{A}$$"
   ]
  },
  {
   "cell_type": "code",
   "execution_count": 15,
   "metadata": {
    "id": "G1bqIzDJOUiz"
   },
   "outputs": [
    {
     "data": {
      "text/html": [
       "<div>\n",
       "<style scoped>\n",
       "    .dataframe tbody tr th:only-of-type {\n",
       "        vertical-align: middle;\n",
       "    }\n",
       "\n",
       "    .dataframe tbody tr th {\n",
       "        vertical-align: top;\n",
       "    }\n",
       "\n",
       "    .dataframe thead th {\n",
       "        text-align: right;\n",
       "    }\n",
       "</style>\n",
       "<table border=\"1\" class=\"dataframe\">\n",
       "  <thead>\n",
       "    <tr style=\"text-align: right;\">\n",
       "      <th></th>\n",
       "      <th>user_id</th>\n",
       "      <th>session_id</th>\n",
       "      <th>session_date</th>\n",
       "      <th>session_start_ts</th>\n",
       "      <th>install_date</th>\n",
       "      <th>session_number</th>\n",
       "      <th>registration_flag</th>\n",
       "      <th>page_counter</th>\n",
       "      <th>region</th>\n",
       "      <th>device</th>\n",
       "      <th>test_group</th>\n",
       "    </tr>\n",
       "  </thead>\n",
       "  <tbody>\n",
       "    <tr>\n",
       "      <th>0</th>\n",
       "      <td>3404844B53442747</td>\n",
       "      <td>B4901323BD537E45</td>\n",
       "      <td>2025-10-14</td>\n",
       "      <td>2025-10-14 19:28:49</td>\n",
       "      <td>2025-10-14</td>\n",
       "      <td>1</td>\n",
       "      <td>0</td>\n",
       "      <td>3</td>\n",
       "      <td>CIS</td>\n",
       "      <td>Android</td>\n",
       "      <td>B</td>\n",
       "    </tr>\n",
       "    <tr>\n",
       "      <th>1</th>\n",
       "      <td>3A2BF4D364E62D89</td>\n",
       "      <td>216FC619308F8788</td>\n",
       "      <td>2025-10-14</td>\n",
       "      <td>2025-10-14 21:11:04</td>\n",
       "      <td>2025-10-14</td>\n",
       "      <td>1</td>\n",
       "      <td>0</td>\n",
       "      <td>3</td>\n",
       "      <td>MENA</td>\n",
       "      <td>iPhone</td>\n",
       "      <td>A</td>\n",
       "    </tr>\n",
       "    <tr>\n",
       "      <th>2</th>\n",
       "      <td>79CDAE11E32B1597</td>\n",
       "      <td>EDFCE4AC1A504074</td>\n",
       "      <td>2025-10-14</td>\n",
       "      <td>2025-10-14 21:44:03</td>\n",
       "      <td>2025-10-14</td>\n",
       "      <td>1</td>\n",
       "      <td>0</td>\n",
       "      <td>3</td>\n",
       "      <td>CIS</td>\n",
       "      <td>iPhone</td>\n",
       "      <td>A</td>\n",
       "    </tr>\n",
       "    <tr>\n",
       "      <th>3</th>\n",
       "      <td>D6AF8D78297A931F</td>\n",
       "      <td>CF0AC0EEDE92C690</td>\n",
       "      <td>2025-10-14</td>\n",
       "      <td>2025-10-14 19:07:55</td>\n",
       "      <td>2025-10-14</td>\n",
       "      <td>1</td>\n",
       "      <td>0</td>\n",
       "      <td>4</td>\n",
       "      <td>CIS</td>\n",
       "      <td>PC</td>\n",
       "      <td>A</td>\n",
       "    </tr>\n",
       "    <tr>\n",
       "      <th>4</th>\n",
       "      <td>37E0CE723AE568E0</td>\n",
       "      <td>2E6ED45E8C86C4E9</td>\n",
       "      <td>2025-10-14</td>\n",
       "      <td>2025-10-14 15:39:44</td>\n",
       "      <td>2025-10-14</td>\n",
       "      <td>1</td>\n",
       "      <td>0</td>\n",
       "      <td>3</td>\n",
       "      <td>CIS</td>\n",
       "      <td>Mac</td>\n",
       "      <td>B</td>\n",
       "    </tr>\n",
       "  </tbody>\n",
       "</table>\n",
       "</div>"
      ],
      "text/plain": [
       "            user_id        session_id session_date     session_start_ts  \\\n",
       "0  3404844B53442747  B4901323BD537E45   2025-10-14  2025-10-14 19:28:49   \n",
       "1  3A2BF4D364E62D89  216FC619308F8788   2025-10-14  2025-10-14 21:11:04   \n",
       "2  79CDAE11E32B1597  EDFCE4AC1A504074   2025-10-14  2025-10-14 21:44:03   \n",
       "3  D6AF8D78297A931F  CF0AC0EEDE92C690   2025-10-14  2025-10-14 19:07:55   \n",
       "4  37E0CE723AE568E0  2E6ED45E8C86C4E9   2025-10-14  2025-10-14 15:39:44   \n",
       "\n",
       "  install_date  session_number  registration_flag  page_counter region  \\\n",
       "0   2025-10-14               1                  0             3    CIS   \n",
       "1   2025-10-14               1                  0             3   MENA   \n",
       "2   2025-10-14               1                  0             3    CIS   \n",
       "3   2025-10-14               1                  0             4    CIS   \n",
       "4   2025-10-14               1                  0             3    CIS   \n",
       "\n",
       "    device test_group  \n",
       "0  Android          B  \n",
       "1   iPhone          A  \n",
       "2   iPhone          A  \n",
       "3       PC          A  \n",
       "4      Mac          B  "
      ]
     },
     "execution_count": 15,
     "metadata": {},
     "output_type": "execute_result"
    }
   ],
   "source": [
    "sessions_test_part = pd.read_csv('/datasets/sessions_project_test_part.csv')\n",
    "sessions_test_part.head()"
   ]
  },
  {
   "cell_type": "code",
   "execution_count": 16,
   "metadata": {},
   "outputs": [
    {
     "name": "stdout",
     "output_type": "stream",
     "text": [
      "Процентная разница в количестве пользователей групп А (1477) и В (1466) составляет 0.74%.\n"
     ]
    }
   ],
   "source": [
    "# Считаем количество пользователей в каждой группе\n",
    "a_count = sessions_test_part[sessions_test_part['test_group']=='A']['user_id'].nunique()\n",
    "b_count = sessions_test_part[sessions_test_part['test_group']=='B']['user_id'].nunique()\n",
    "# Считаем процентную разницу\n",
    "perc_dif = abs(a_count-b_count)/a_count*100\n",
    "print(f'Процентная разница в количестве пользователей групп А ({a_count}) и В ({b_count}) составляет {round(perc_dif,2)}%.')"
   ]
  },
  {
   "cell_type": "markdown",
   "metadata": {},
   "source": [
    "<div class=\"alert alert-success\">\n",
    "<b>Комментарий ревьюера v.1</b> \n",
    "    \n",
    "👍 Верно!  Кстати, f строку можно сразу вывести проценты, без доп. умножения на 100:\n",
    "    \n",
    "```python\n",
    "{perc_dif:.2%}\n",
    "```    \n",
    "    \n",
    "\n",
    "</div>"
   ]
  },
  {
   "cell_type": "code",
   "execution_count": 17,
   "metadata": {},
   "outputs": [
    {
     "data": {
      "image/png": "[encoded data removed]",
      "text/plain": [
       "<Figure size 432x432 with 1 Axes>"
      ]
     },
     "metadata": {},
     "output_type": "display_data"
    }
   ],
   "source": [
    "data = pd.DataFrame({'group': ['A', 'B'], 'count': [a_count, b_count]})\n",
    "\n",
    "# Создаем круговую диаграмму с помощью seaborn и matplotlib\n",
    "plt.figure(figsize=(6, 6))  # Задаем размер фигуры\n",
    "plt.pie(data['count'], labels=data['group'], autopct='%1.1f%%', startangle=90, colors=sns.color_palette('pastel'),\n",
    "        wedgeprops={'edgecolor': 'black'}) # Добавляем больше деталей\n",
    "\n",
    "plt.title('Процентное соотношение между группами', fontsize=14)  \n",
    "plt.ylabel('') \n",
    "\n",
    "plt.axis('equal')  \n",
    "plt.tight_layout() \n",
    "\n",
    "plt.show()"
   ]
  },
  {
   "cell_type": "markdown",
   "metadata": {},
   "source": [
    "вывод: процентная разница в количестве пользователей составляет менее процента. собственно, эту же ситуацию наблюдаем на круговой диаграмме: в процентном соотношении групы отличаются на 0.2%. можно считать группы равными."
   ]
  },
  {
   "cell_type": "markdown",
   "metadata": {},
   "source": [
    "<div class=\"alert alert-success\">\n",
    "<b>Комментарий ревьюера v.1</b> \n",
    "    \n",
    "👍 Тут все верно! Группы набираются в примерно равном соотношении. В целом по решению можно сразу провести группировку по группе теста и подсчитать количество  участников.\n",
    "</div>"
   ]
  },
  {
   "cell_type": "markdown",
   "metadata": {
    "id": "sgpNY5bv0eM0"
   },
   "source": [
    "#### 3.2. Проверка пересечений пользователей\n",
    "Помимо проверки равенства количества пользователей в группах полезно убедиться в том, что группы независимы. Для этого нужно убедиться, что никто из пользователей случайно не попал в обе группы одновременно.\n",
    "\n",
    "- Рассчитайте количество пользователей, которые встречаются одновременно в группах A и B, или убедитесь, что таких нет."
   ]
  },
  {
   "cell_type": "code",
   "execution_count": 18,
   "metadata": {
    "id": "E72ozN9FOX1u"
   },
   "outputs": [
    {
     "name": "stdout",
     "output_type": "stream",
     "text": [
      "Отлично! Нет пользователей, которые одновременно состоят в обеих группах (A и B). Группы независимы.\n"
     ]
    }
   ],
   "source": [
    "# Находим уникальных пользователей в каждой группе\n",
    "a_unique = sessions_test_part[sessions_test_part['test_group']=='A']['user_id'].unique()\n",
    "b_unique = sessions_test_part[sessions_test_part['test_group']=='B']['user_id'].unique()\n",
    "# Преобразовываем массивы в множества\n",
    "a_un_set = set(a_unique)\n",
    "b_un_set = set(b_unique)\n",
    "# Находим пересечения\n",
    "common_users = a_un_set.intersection(b_un_set)\n",
    "# Выводим результат\n",
    "num_common_users = len(common_users)\n",
    "\n",
    "if num_common_users > 0:\n",
    "    print(f\"Внимание! Обнаружено {num_common_users} пользователей, которые есть в обеих группах (A и B): {common_users}\")\n",
    "else:\n",
    "    print(\"Отлично! Нет пользователей, которые одновременно состоят в обеих группах (A и B). Группы независимы.\")"
   ]
  },
  {
   "cell_type": "markdown",
   "metadata": {},
   "source": [
    "<div class=\"alert alert-success\">\n",
    "<b>Комментарий ревьюера v.1</b> \n",
    "    \n",
    "👍 Верно! Корректно использовано пересечение множеств. Очень нравится подход к составлению выводов по результатам сразу через код!\n",
    "    \n",
    "Кстати, эту задачу можно решить с помощью группировки данных и последующей фильтрацией результата:\n",
    "    \n",
    "```python\n",
    "(sessions_test_part\n",
    " .groupby('user_id')\n",
    " .agg({'test_group':'nunique'})\n",
    " .query('test_group > 1')\n",
    ")\n",
    "```\n",
    "</div>"
   ]
  },
  {
   "cell_type": "markdown",
   "metadata": {
    "id": "6RvkNLrg0eM1"
   },
   "source": [
    "#### 3.3. Равномерность разделения пользователей по устройствам\n",
    "Полезно также убедиться в том, что пользователи равномерно распределены по всем доступным категориальным переменным — типам устройства и регионам.\n",
    "\n",
    "Постройте две диаграммы:\n",
    "\n",
    "- доля каждого типа устройства для пользователей из группы A,\n",
    "\n",
    "- доля каждого типа устройства для пользователей из группы B.\n",
    "\n",
    "Постарайтесь добавить на диаграммы все необходимые подписи, пояснения и заголовки, которые позволят сделать вывод о том, совпадает ли распределение устройств в группах A и B.\n"
   ]
  },
  {
   "cell_type": "code",
   "execution_count": 19,
   "metadata": {
    "id": "x_IP6PUNPWHC",
    "scrolled": false
   },
   "outputs": [
    {
     "data": {
      "image/png": "[encoded data removed]",
      "text/plain": [
       "<Figure size 864x576 with 2 Axes>"
      ]
     },
     "metadata": {},
     "output_type": "display_data"
    }
   ],
   "source": [
    "a_dev=sessions_test_part[sessions_test_part['test_group']=='A'].groupby('device')['user_id'].nunique()\n",
    "b_dev=sessions_test_part[sessions_test_part['test_group']=='B'].groupby('device')['user_id'].nunique()\n",
    "fig, ax = plt.subplots(nrows=1, ncols=2, figsize=(12,8))\n",
    "ax = ax.flatten()\n",
    "ax[0].pie(a_dev,\n",
    "        autopct='%1.1f%%', colors=sns.color_palette('pastel'), wedgeprops={'edgecolor': 'black'})\n",
    "ax[0].set_title('A')\n",
    "ax[1].pie(b_dev, autopct='%1.1f%%', colors=sns.color_palette('pastel'), wedgeprops={'edgecolor': 'black'})\n",
    "ax[1].set_title('B')\n",
    "fig.suptitle(\"Доля каждого типа устройства для групп А и В\")\n",
    "fig.legend(labels=['Android', 'Mac', 'PC', 'iPhone'], loc='center right', title = 'Тип устройства');"
   ]
  },
  {
   "cell_type": "markdown",
   "metadata": {},
   "source": [
    "<div class=\"alert alert-success\">\n",
    "<b>Комментарий ревьюера v.1</b> \n",
    "    \n",
    "👍 Чтобы убрать техническую информацию типа \"<matplotlib.legend.Legend at 0x7fe5b01cd340>\" можно использовать или метод plt.show() в конце кода, или символ `;` в конце последней строки.\n",
    "</div>"
   ]
  },
  {
   "cell_type": "markdown",
   "metadata": {},
   "source": [
    "вывод: четко видим, что различия в распределении минимальные (не более 1.7 п.п.)"
   ]
  },
  {
   "cell_type": "markdown",
   "metadata": {},
   "source": [
    "<div class=\"alert alert-success\">\n",
    "<b>Комментарий ревьюера v.1</b> \n",
    "    \n",
    "👍 Тут все идеально! Молодец, что считаешь уникальных пользователей (их распределение по сегментам) и придерживаешься аккуратного оформления графики. Поскольку, один пользователь мог совершить несколько сессий в день, то нужна группировка данных по дням с подсчетом уникального количества игроков. \n",
    "    \n",
    "</div>"
   ]
  },
  {
   "cell_type": "markdown",
   "metadata": {
    "id": "gAgmP6vo0eM1"
   },
   "source": [
    "#### 3.4. Равномерность распределения пользователей по регионам\n",
    "Теперь убедитесь, что пользователи равномерно распределены по регионам.\n",
    "\n",
    "Постройте две диаграммы:\n",
    "\n",
    "- доля каждого региона для пользователей из группы A,\n",
    "\n",
    "- доля каждого региона для пользователей из группы B.\n",
    "\n",
    "Постарайтесь добавить на диаграммы все необходимые подписи, пояснения и заголовки, которые позволят сделать вывод о том, совпадает ли распределение регионов в группах A и B. Постарайтесь использовать другой тип диаграммы, не тот, что в прошлом задании.\n"
   ]
  },
  {
   "cell_type": "code",
   "execution_count": 20,
   "metadata": {
    "id": "3hAq-FG4OdYM"
   },
   "outputs": [
    {
     "data": {
      "image/png": "[encoded data removed]",
      "text/plain": [
       "<Figure size 864x576 with 2 Axes>"
      ]
     },
     "metadata": {},
     "output_type": "display_data"
    }
   ],
   "source": [
    "a_reg=sessions_test_part[sessions_test_part['test_group']=='A'].groupby('region')['user_id'].nunique()\n",
    "b_reg=sessions_test_part[sessions_test_part['test_group']=='B'].groupby('region')['user_id'].nunique()\n",
    "fig, ax = plt.subplots(nrows=1, ncols=2, figsize=(12,8))\n",
    "ax = ax.flatten()\n",
    "ax[0].pie(a_reg,\n",
    "        autopct='%1.1f%%', colors=sns.color_palette('pastel'), wedgeprops={'edgecolor': 'black'})\n",
    "ax[0].set_title('A')\n",
    "ax[1].pie(b_reg, autopct='%1.1f%%', colors=sns.color_palette('pastel'), wedgeprops={'edgecolor': 'black'})\n",
    "ax[1].set_title('B')\n",
    "fig.suptitle(\"Доля каждого региона для групп А и В\")\n",
    "fig.legend(labels=['CIS', 'EU', 'MENA'], loc='center right', title = 'Регион');"
   ]
  },
  {
   "cell_type": "markdown",
   "metadata": {},
   "source": [
    "вывод: четко видим, что различия в распределении минимальные (не более 0.4 п.п.)"
   ]
  },
  {
   "cell_type": "markdown",
   "metadata": {
    "id": "X2WSZ-sDrSUi"
   },
   "source": [
    "#### 3.5. Вывод после проверки A/B-теста\n",
    "\n",
    "На основе проведённого анализа A/B-теста сформулируйте и запишите свои выводы. В выводе обязательно укажите:\n",
    "\n",
    "- Были ли обнаружено различие в количестве пользователей в двух группах.\n",
    "\n",
    "- Являются ли выборки независимыми. Было ли обнаружено пересечение пользователей из тестовой и контрольной групп.\n",
    "\n",
    "- Сохраняется ли равномерное распределение пользователей тестовой и контрольной групп по категориальным переменным: устройствам и регионам.\n",
    "\n",
    "Сделайте заключение о том, корректно ли проходит A/B-тест или наблюдаются какие-либо нарушения."
   ]
  },
  {
   "cell_type": "markdown",
   "metadata": {
    "id": "dDELHlAcOi8d"
   },
   "source": [
    "выводы:\n",
    "- было обнаружено небольшое различие в количестве пользователей в гурппах. Процентная разница в количестве пользователей групп А и В составляет 0.74%. процентная разница в количестве пользователей составляет менее процента. собственно, эту же ситуацию наблюдаем на круговой диаграмме: в процентном соотношении групы отличаются на 0.2%. можно считать группы равными.\n",
    "- группы независимы, пересечение пользователей из тестовой и контральной групп не было обнаружено.\n",
    "- распределение пользователей тестовой и контрольной групп по категориальным переменным сохраняется равномерным, что подтверждают диаграммы."
   ]
  },
  {
   "cell_type": "markdown",
   "metadata": {},
   "source": [
    "<div class=\"alert alert-success\">\n",
    "<b>Комментарий ревьюера v.1</b> \n",
    "    \n",
    "👍 По выводам тоже все верно! Хорошо, когда пользователи разных сегментов набираются в тест в одинаковой пропорции. Еще это связано с стратификацией пользователей, вот тут есть несколько интересных статей:\n",
    "- https://habr.com/ru/companies/otus/articles/867666/\n",
    "- https://habr.com/ru/companies/X5Tech/articles/596279/\n",
    "</div>"
   ]
  },
  {
   "cell_type": "markdown",
   "metadata": {
    "id": "nudRr_BQ0eM2"
   },
   "source": [
    "### 4. Проверка результатов A/B-теста\n",
    "\n",
    "A/B-тест завершён, и у вас есть результаты за все дни проведения эксперимента. Необходимо убедиться в корректности теста и верно интерпретировать результаты."
   ]
  },
  {
   "cell_type": "markdown",
   "metadata": {
    "id": "JVve-YBB0eM2"
   },
   "source": [
    "#### 4.1. Получение результатов теста и подсчёт основной метрики\n",
    "\n",
    "- Считайте и сохраните в датафрейм `sessions_test` CSV-файл с историческими данными о сессиях пользователей `sessions_project_test.csv`.\n",
    "\n",
    "- В датафрейме `sessions_test` создайте дополнительный столбец `good_session`. В него войдёт значение `1`, если за одну сессию было просмотрено 4 и более страниц, и значение `0`, если просмотрено меньше."
   ]
  },
  {
   "cell_type": "code",
   "execution_count": 21,
   "metadata": {
    "id": "EqRlwMtKPTir"
   },
   "outputs": [
    {
     "data": {
      "text/html": [
       "<div>\n",
       "<style scoped>\n",
       "    .dataframe tbody tr th:only-of-type {\n",
       "        vertical-align: middle;\n",
       "    }\n",
       "\n",
       "    .dataframe tbody tr th {\n",
       "        vertical-align: top;\n",
       "    }\n",
       "\n",
       "    .dataframe thead th {\n",
       "        text-align: right;\n",
       "    }\n",
       "</style>\n",
       "<table border=\"1\" class=\"dataframe\">\n",
       "  <thead>\n",
       "    <tr style=\"text-align: right;\">\n",
       "      <th></th>\n",
       "      <th>user_id</th>\n",
       "      <th>session_id</th>\n",
       "      <th>session_date</th>\n",
       "      <th>session_start_ts</th>\n",
       "      <th>install_date</th>\n",
       "      <th>session_number</th>\n",
       "      <th>registration_flag</th>\n",
       "      <th>page_counter</th>\n",
       "      <th>region</th>\n",
       "      <th>device</th>\n",
       "      <th>test_group</th>\n",
       "      <th>good_session</th>\n",
       "    </tr>\n",
       "  </thead>\n",
       "  <tbody>\n",
       "    <tr>\n",
       "      <th>0</th>\n",
       "      <td>6DAE3B3654DA738E</td>\n",
       "      <td>C69249E26E58F6E2</td>\n",
       "      <td>2025-10-26</td>\n",
       "      <td>2025-10-26 18:15:05</td>\n",
       "      <td>2025-10-16</td>\n",
       "      <td>3</td>\n",
       "      <td>0</td>\n",
       "      <td>3</td>\n",
       "      <td>MENA</td>\n",
       "      <td>Android</td>\n",
       "      <td>A</td>\n",
       "      <td>0</td>\n",
       "    </tr>\n",
       "    <tr>\n",
       "      <th>1</th>\n",
       "      <td>0A3FE5D1DD59110A</td>\n",
       "      <td>66D66D7C9F5181B7</td>\n",
       "      <td>2025-10-21</td>\n",
       "      <td>2025-10-21 17:04:53</td>\n",
       "      <td>2025-10-15</td>\n",
       "      <td>2</td>\n",
       "      <td>1</td>\n",
       "      <td>2</td>\n",
       "      <td>CIS</td>\n",
       "      <td>Android</td>\n",
       "      <td>B</td>\n",
       "      <td>0</td>\n",
       "    </tr>\n",
       "    <tr>\n",
       "      <th>2</th>\n",
       "      <td>2041F1D7AA740B88</td>\n",
       "      <td>50DE51D42215E74C</td>\n",
       "      <td>2025-10-23</td>\n",
       "      <td>2025-10-23 17:39:29</td>\n",
       "      <td>2025-10-19</td>\n",
       "      <td>3</td>\n",
       "      <td>0</td>\n",
       "      <td>2</td>\n",
       "      <td>MENA</td>\n",
       "      <td>Android</td>\n",
       "      <td>A</td>\n",
       "      <td>0</td>\n",
       "    </tr>\n",
       "    <tr>\n",
       "      <th>3</th>\n",
       "      <td>43D7585009168086</td>\n",
       "      <td>5763C0C353C22263</td>\n",
       "      <td>2025-10-24</td>\n",
       "      <td>2025-10-24 15:01:57</td>\n",
       "      <td>2025-10-18</td>\n",
       "      <td>4</td>\n",
       "      <td>0</td>\n",
       "      <td>1</td>\n",
       "      <td>CIS</td>\n",
       "      <td>iPhone</td>\n",
       "      <td>B</td>\n",
       "      <td>0</td>\n",
       "    </tr>\n",
       "    <tr>\n",
       "      <th>4</th>\n",
       "      <td>15AD68B14D62D88C</td>\n",
       "      <td>B1AD09F93C1053BC</td>\n",
       "      <td>2025-10-17</td>\n",
       "      <td>2025-10-17 17:34:39</td>\n",
       "      <td>2025-10-17</td>\n",
       "      <td>1</td>\n",
       "      <td>0</td>\n",
       "      <td>2</td>\n",
       "      <td>MENA</td>\n",
       "      <td>Android</td>\n",
       "      <td>B</td>\n",
       "      <td>0</td>\n",
       "    </tr>\n",
       "  </tbody>\n",
       "</table>\n",
       "</div>"
      ],
      "text/plain": [
       "            user_id        session_id session_date     session_start_ts  \\\n",
       "0  6DAE3B3654DA738E  C69249E26E58F6E2   2025-10-26  2025-10-26 18:15:05   \n",
       "1  0A3FE5D1DD59110A  66D66D7C9F5181B7   2025-10-21  2025-10-21 17:04:53   \n",
       "2  2041F1D7AA740B88  50DE51D42215E74C   2025-10-23  2025-10-23 17:39:29   \n",
       "3  43D7585009168086  5763C0C353C22263   2025-10-24  2025-10-24 15:01:57   \n",
       "4  15AD68B14D62D88C  B1AD09F93C1053BC   2025-10-17  2025-10-17 17:34:39   \n",
       "\n",
       "  install_date  session_number  registration_flag  page_counter region  \\\n",
       "0   2025-10-16               3                  0             3   MENA   \n",
       "1   2025-10-15               2                  1             2    CIS   \n",
       "2   2025-10-19               3                  0             2   MENA   \n",
       "3   2025-10-18               4                  0             1    CIS   \n",
       "4   2025-10-17               1                  0             2   MENA   \n",
       "\n",
       "    device test_group  good_session  \n",
       "0  Android          A             0  \n",
       "1  Android          B             0  \n",
       "2  Android          A             0  \n",
       "3   iPhone          B             0  \n",
       "4  Android          B             0  "
      ]
     },
     "execution_count": 21,
     "metadata": {},
     "output_type": "execute_result"
    }
   ],
   "source": [
    "sessions_test = pd.read_csv('/datasets/sessions_project_test.csv')\n",
    "# Создаем новый столбец\n",
    "sessions_test['good_session'] = (sessions_test['page_counter'] >= 4).astype(int)\n",
    "sessions_test.head()"
   ]
  },
  {
   "cell_type": "markdown",
   "metadata": {
    "id": "aeYhrMYy0eM2"
   },
   "source": [
    "#### 4.2. Проверка корректности результатов теста\n",
    "\n",
    "Прежде чем приступать к анализу ключевых продуктовых метрик, необходимо убедиться, что тест проведён корректно и вы будете сравнивать две сопоставимые группы.\n",
    "\n",
    "- Рассчитайте количество уникальных сессий для каждого дня и обеих тестовых групп, используя группировку.\n",
    "\n",
    "- Проверьте, что количество уникальных дневных сессий в двух выборках не различается или различия не статистически значимы. Используйте статистический тест, который позволит сделать вывод о равенстве средних двух выборок.\n",
    "\n",
    "- В качестве ответа выведите на экран полученное значение p-value и интерпретируйте его."
   ]
  },
  {
   "cell_type": "code",
   "execution_count": 22,
   "metadata": {
    "id": "5NUlcltkTTSU"
   },
   "outputs": [],
   "source": [
    "ses_count = sessions_test.groupby(['test_group', 'session_date'])['session_id'].nunique().reset_index()\n",
    "# Сформулируем гипотезы\n",
    "# Нулевая гипотеза: среднее количество сессий в день в группе А равно среднему количеству сессий в день в группе В.\n",
    "# Альтернативная гипотеза: среднее количество сессий в день в группах А и В не равны."
   ]
  },
  {
   "cell_type": "code",
   "execution_count": 23,
   "metadata": {},
   "outputs": [
    {
     "name": "stdout",
     "output_type": "stream",
     "text": [
      "pvalue=0.938219304859116, среднее количество сессий в день в группе А 2477.55, среднее количество сессий в день в группе В 2522.7\n",
      "P-value больше уровня значимости. Не отвергаем нулевую гипотезу о равенстве средних. Нет статистически значимых различий в количестве сессий между группами A и B.\n"
     ]
    }
   ],
   "source": [
    "from scipy.stats import ttest_ind\n",
    "\n",
    "group_a = ses_count[ses_count['test_group']=='A']['session_id']\n",
    "group_b = ses_count[ses_count['test_group']=='B']['session_id']\n",
    "alpha = 0.05# зафиксируйте уровень значимости\n",
    "\n",
    "t_statistic, p_value = ttest_ind(group_a, group_b, equal_var=True)\n",
    "print(f'pvalue={p_value}, среднее количество сессий в день в группе А {group_a.mean()}, среднее количество сессий в день в группе В {group_b.mean()}') # Выведите полученное p-value \n",
    "# Интерпретируем p-value\n",
    "alpha = 0.05  # Уровень значимости \n",
    "if p_value < alpha:\n",
    "    print(\"P-value меньше уровня значимости. Отвергаем нулевую гипотезу о равенстве средних.  Различия в количестве сессий между группами A и B статистически значимы.\")\n",
    "else:\n",
    "    print(\"P-value больше уровня значимости. Не отвергаем нулевую гипотезу о равенстве средних. Нет статистически значимых различий в количестве сессий между группами A и B.\")"
   ]
  },
  {
   "cell_type": "markdown",
   "metadata": {},
   "source": [
    "<div class=\"alert alert-success\">\n",
    "<b>Комментарий ревьюера v.1</b> \n",
    "    \n",
    "👍 Верно! Среднее количество сессий в двух группах не имеет различий при заданном уровне значимости. Отлично!\n",
    "</div>"
   ]
  },
  {
   "cell_type": "markdown",
   "metadata": {},
   "source": [
    "<div class=\"alert alert-warning\">\n",
    "<b>Комментарий ревьюера v.1</b> \n",
    "    \n",
    "📝 Перед тестом важно привести формулировку нулевой и альтернативной гипотез (в явном виде), чтобы понимать, что сравнивается и какой тест применяется. Также было бы здорово вывести значения, которые сравниваются (т.е. среднее количество сессий в день), это позволяет следить за корректностью результатов.\n",
    "</div>"
   ]
  },
  {
   "cell_type": "markdown",
   "metadata": {},
   "source": [
    "<div class=\"alert alert-info\"> \n",
    "<b>Комментарий студента</b> \n",
    "    \n",
    "исправлено. прописала гипотезы в ячейке кода после решетки\n",
    "</div>"
   ]
  },
  {
   "cell_type": "markdown",
   "metadata": {},
   "source": [
    "<div class=\"alert alert-success\">\n",
    "<b>Комментарий ревьюера v.2</b> \n",
    "    \n",
    "👍 Все верно! Спасибо, что добавила формулировку гипотез.\n",
    "\n",
    "</div>"
   ]
  },
  {
   "cell_type": "markdown",
   "metadata": {
    "id": "7kwRxzg70eM3"
   },
   "source": [
    "#### 4.3. Сравнение доли успешных сессий\n",
    "\n",
    "Когда вы убедились, что количество сессий в обеих выборках не различалось, можно переходить к анализу ключевой метрики — доли успешных сессий.\n",
    "\n",
    "Используйте созданный на первом шаге задания столбец `good_session` и рассчитайте долю успешных сессий для выборок A и B, а также разницу в этом показателе. Полученный вывод отобразите на экране."
   ]
  },
  {
   "cell_type": "code",
   "execution_count": 24,
   "metadata": {},
   "outputs": [
    {
     "name": "stdout",
     "output_type": "stream",
     "text": [
      "Разница успешных сессий между выборками (B-A) составляет 1.06%.\n"
     ]
    }
   ],
   "source": [
    "# Относительное различие:\n",
    "rel = (1 - sessions_test[sessions_test['test_group']=='A']['good_session'].mean()) / \\\n",
    "sessions_test[sessions_test['test_group']=='B']['good_session'].mean()\n",
    "\n",
    "# Абсолютное различие в пп:\n",
    "absolute = abs(sessions_test[sessions_test['test_group']=='A']['good_session'].mean() - \\\n",
    "sessions_test[sessions_test['test_group']=='B']['good_session'].mean())\n",
    "print(f'Разница успешных сессий между выборками (B-A) составляет {absolute:.2%}.')"
   ]
  },
  {
   "cell_type": "markdown",
   "metadata": {},
   "source": [
    "<div class=\"alert alert-warning\">\n",
    "<b>Комментарий ревьюера v.1</b> \n",
    "    \n",
    "📝 По задумке проекта подразумевалось сравнить не различие в среднем по дням, а общее различие по всем данным за весь период, т.е. \n",
    "    \n",
    "```python\n",
    "# Относительное различие:\n",
    "(1 - sessions_test[sessions_test['test_group']=='A']['good_session'].mean()) / \\\n",
    "sessions_test[sessions_test['test_group']=='B']['good_session'].mean()\n",
    "    \n",
    "# Абсолютное различие в пп:\n",
    "abs(sessions_test[sessions_test['test_group']=='A']['good_session'].mean() - \\\n",
    "sessions_test[sessions_test['test_group']=='B']['good_session'].mean())\n",
    "```  \n",
    " \n",
    "Т.е. сейчас ты смотришь на различие средней доли успешных сессий в день, но не различие общей доли успешных сессий в группах.    \n",
    "    \n",
    "</div>"
   ]
  },
  {
   "cell_type": "markdown",
   "metadata": {},
   "source": [
    "<div class=\"alert alert-info\"> \n",
    "<b>Комментарий студента</b> \n",
    "    \n",
    "заменила код на предложенный)\n",
    "</div>"
   ]
  },
  {
   "cell_type": "markdown",
   "metadata": {},
   "source": [
    "<div class=\"alert alert-success\">\n",
    "<b>Комментарий ревьюера v.2</b> \n",
    "    \n",
    "👍 Спасибо, что разобрала этот момент. Получается, что так мы смотрим общую ситуацию.\n",
    "\n",
    "</div>"
   ]
  },
  {
   "cell_type": "markdown",
   "metadata": {
    "id": "9fMFuja10eM4"
   },
   "source": [
    "#### 4.4. Насколько статистически значимо изменение ключевой метрики\n",
    "\n",
    "На предыдущем шаге вы убедились, что количество успешных сессий в тестовой выборке примерно на 1.8% выше, чем в контрольной, но делать выводы только на основе этого значения будет некорректно. Для принятия решения всегда необходимо отвечать на вопрос: является ли это изменение статистически значимым.\n",
    "\n",
    "- Используя статистический тест, рассчитайте, является ли изменение в метрике доли успешных сессий статистически значимым.\n",
    "\n",
    "- Выведите на экран полученное значение p-value и свои выводы о статистической значимости. Напомним, что уровень значимости в эксперименте был выбран на уровне 0.05."
   ]
  },
  {
   "cell_type": "code",
   "execution_count": 25,
   "metadata": {},
   "outputs": [],
   "source": [
    "a_success_rate = sessions_test[sessions_test['test_group']=='A'].groupby('session_date')['good_session'].mean()\n",
    "b_success_rate = sessions_test[sessions_test['test_group']=='B'].groupby('session_date')['good_session'].mean()"
   ]
  },
  {
   "cell_type": "code",
   "execution_count": 26,
   "metadata": {
    "id": "gFvhRGwlPLS0"
   },
   "outputs": [
    {
     "name": "stdout",
     "output_type": "stream",
     "text": [
      "pvalue=0.002351266381694946\n",
      "P-value меньше уровня значимости. Отвергаем нулевую гипотезу о равенстве средних.  Различия в количестве успешных сессий между группами A и B статистически значимы. После введения в работу нового алгоритма количество успешных сессий увеличивается.\n"
     ]
    }
   ],
   "source": [
    "statistic, p_value = mannwhitneyu(a_success_rate, b_success_rate, alternative='less')\n",
    "print(f'pvalue={p_value}') # Выведите полученное p-value \n",
    "# Интерпретируем p-value\n",
    "alpha = 0.05  # Уровень значимости \n",
    "if p_value < alpha:\n",
    "    print(\"P-value меньше уровня значимости. Отвергаем нулевую гипотезу о равенстве средних.  Различия в количестве успешных сессий между группами A и B статистически значимы. После введения в работу нового алгоритма количество успешных сессий увеличивается.\")\n",
    "else:\n",
    "    print(\"P-value больше уровня значимости. Не отвергаем нулевую гипотезу о равенстве средних. Нет статистически значимых различий в количестве успешных сессий между группами A и B.\")"
   ]
  },
  {
   "cell_type": "markdown",
   "metadata": {},
   "source": [
    "<div class=\"alert alert-success\">\n",
    "<b>Комментарий ревьюера v.1</b> \n",
    "    \n",
    "👍 В целом тест проведен верно, получен результат, которые корректно интерпретирован. Также не хватает вывода в явном виде перед самим тестом гипотез. \n",
    "    \n",
    "Также обрати, пожалуйста, внимание, что по проекту подразумевалось сравнить доли успешных сессий за весь период, с применением стат. методов, позволяющих  сравнить доли между собой. Но в целом в такой формулировке тоже можно провести тест, правда данных не так много получается (всего по 20 наблюдений в группах — средние за день, что может сказаться на мощности теста + не хватает изученности данных — какие значения сравниваются и сколько их, т.е. стоит проанализировать таблицу `ses_count`. Т.е. если бы было бы всего 4 дня теста, как изначально планировалось бы, то результат стат. теста на таком объеме данных (4 наблюдения в каждой группе) был бы не таким мощным. Возможно тут есть смысл сравнить с помощью критерия Манна Уитни — он как раз позволит сравнить распределение количества успешных сессий по дням).\n",
    "    \n",
    "\n",
    "</div>"
   ]
  },
  {
   "cell_type": "markdown",
   "metadata": {},
   "source": [
    "<div class=\"alert alert-info\"> \n",
    "<b>Комментарий студента</b> \n",
    "    \n",
    "поменяла т-тест на тест Манна Уитни, надеюсь, что правильно поняла твой ход мыслей) \n",
    "</div>"
   ]
  },
  {
   "cell_type": "markdown",
   "metadata": {},
   "source": [
    "<div class=\"alert alert-success\">\n",
    "<b>Комментарий ревьюера v.2</b> \n",
    "    \n",
    "👍 По тесту все верно. Но я вот еще на что хотел обратить внимание: смотри, сейчас тест проверяет среднее количество успешных сессий в день: давай выведем данные, которые сравниваем:\n",
    "    \n",
    "</div>"
   ]
  },
  {
   "cell_type": "code",
   "execution_count": 27,
   "metadata": {},
   "outputs": [
    {
     "data": {
      "text/plain": [
       "(session_date\n",
       " 2025-10-14    0.322237\n",
       " 2025-10-15    0.306935\n",
       " 2025-10-16    0.307927\n",
       " 2025-10-17    0.306676\n",
       " 2025-10-18    0.317175\n",
       " 2025-10-19    0.301454\n",
       " 2025-10-20    0.308549\n",
       " 2025-10-21    0.303794\n",
       " 2025-10-22    0.313331\n",
       " 2025-10-23    0.316194\n",
       " 2025-10-24    0.304785\n",
       " 2025-10-25    0.293094\n",
       " 2025-10-26    0.314560\n",
       " 2025-10-27    0.296424\n",
       " 2025-10-28    0.286943\n",
       " 2025-10-29    0.318352\n",
       " 2025-10-30    0.312289\n",
       " 2025-10-31    0.309006\n",
       " 2025-11-01    0.297235\n",
       " 2025-11-02    0.329114\n",
       " Name: good_session, dtype: float64,\n",
       " session_date\n",
       " 2025-10-14    0.381450\n",
       " 2025-10-15    0.310118\n",
       " 2025-10-16    0.323974\n",
       " 2025-10-17    0.318451\n",
       " 2025-10-18    0.310931\n",
       " 2025-10-19    0.313321\n",
       " 2025-10-20    0.316144\n",
       " 2025-10-21    0.310224\n",
       " 2025-10-22    0.322083\n",
       " 2025-10-23    0.317111\n",
       " 2025-10-24    0.302224\n",
       " 2025-10-25    0.322492\n",
       " 2025-10-26    0.326832\n",
       " 2025-10-27    0.299275\n",
       " 2025-10-28    0.311870\n",
       " 2025-10-29    0.322723\n",
       " 2025-10-30    0.310502\n",
       " 2025-10-31    0.361734\n",
       " 2025-11-01    0.346237\n",
       " 2025-11-02    0.393750\n",
       " Name: good_session, dtype: float64)"
      ]
     },
     "execution_count": 27,
     "metadata": {},
     "output_type": "execute_result"
    }
   ],
   "source": [
    "# Ячейка ревьюера:\n",
    "a_success_rate, b_success_rate"
   ]
  },
  {
   "cell_type": "markdown",
   "metadata": {},
   "source": [
    "<div class=\"alert alert-success\">\n",
    "<b>Комментарий ревьюера v.2</b> \n",
    "    \n",
    "👍 Обрати внимание, что сравниваются дневные данные, т.е. по 20 записей в каждой группе. Это не так много. Когда мы смотрели на размер групп, то установили, что нужно 17 тыс наблюдений в каждой группе, а тут только 20 наблюдений (но и сравниваются другие данные). \n",
    "    \n",
    "Поэтому, тут лучше сравнить непосредственно успешные сесси, т.е. без разделения по дням:\n",
    "    \n",
    "</div>"
   ]
  },
  {
   "cell_type": "code",
   "execution_count": 28,
   "metadata": {},
   "outputs": [
    {
     "data": {
      "text/plain": [
       "(0         0\n",
       " 2         0\n",
       " 7         0\n",
       " 8         0\n",
       " 13        0\n",
       "          ..\n",
       " 99996     1\n",
       " 99998     0\n",
       " 99999     0\n",
       " 100000    0\n",
       " 100001    1\n",
       " Name: good_session, Length: 49551, dtype: int64,\n",
       " 1         0\n",
       " 3         0\n",
       " 4         0\n",
       " 5         0\n",
       " 6         1\n",
       "          ..\n",
       " 99993     1\n",
       " 99997     0\n",
       " 100002    0\n",
       " 100003    1\n",
       " 100004    0\n",
       " Name: good_session, Length: 50454, dtype: int64)"
      ]
     },
     "execution_count": 28,
     "metadata": {},
     "output_type": "execute_result"
    }
   ],
   "source": [
    "# Ячейка ревьюера\n",
    "sessions_test[sessions_test['test_group']=='A']['good_session'], sessions_test[sessions_test['test_group']=='B']['good_session']"
   ]
  },
  {
   "cell_type": "markdown",
   "metadata": {},
   "source": [
    "<div class=\"alert alert-success\">\n",
    "<b>Комментарий ревьюера v.2</b> \n",
    "    \n",
    "👍 В таком варианте мы работаем с двумя выборками, содержащими по 50 тыс наблюдений, т.е. на таком объеме данных можно зафиксировать даже минимальные изменения. Поскольку тут 1 и 0 то можно или доли сравнивать z-тестом, или использовать t критерий. Можно и МУ. \n",
    "    \n",
    "</div>"
   ]
  },
  {
   "cell_type": "code",
   "execution_count": 29,
   "metadata": {},
   "outputs": [
    {
     "name": "stdout",
     "output_type": "stream",
     "text": [
      "pvalue=0.00015748499769867647\n",
      "P-value меньше уровня значимости. Отвергаем нулевую гипотезу о равенстве средних.  Различия в количестве успешных сессий между группами A и B статистически значимы. После введения в работу нового алгоритма количество успешных сессий увеличивается.\n"
     ]
    }
   ],
   "source": [
    "# Ячейка ревьюера: Пример теста МУ:\n",
    "a_success_rate, b_success_rate = sessions_test[sessions_test['test_group']=='A']['good_session'], sessions_test[sessions_test['test_group']=='B']['good_session']\n",
    "\n",
    "statistic, p_value = mannwhitneyu(a_success_rate, b_success_rate, alternative='less')\n",
    "print(f'pvalue={p_value}') # Выведите полученное p-value \n",
    "# Интерпретируем p-value\n",
    "alpha = 0.05  # Уровень значимости \n",
    "if p_value < alpha:\n",
    "    print(\"P-value меньше уровня значимости. Отвергаем нулевую гипотезу о равенстве средних.  Различия в количестве успешных сессий между группами A и B статистически значимы. После введения в работу нового алгоритма количество успешных сессий увеличивается.\")\n",
    "else:\n",
    "    print(\"P-value больше уровня значимости. Не отвергаем нулевую гипотезу о равенстве средних. Нет статистически значимых различий в количестве успешных сессий между группами A и B.\")"
   ]
  },
  {
   "cell_type": "code",
   "execution_count": 30,
   "metadata": {},
   "outputs": [
    {
     "name": "stdout",
     "output_type": "stream",
     "text": [
      "pvalue=0.00015743044979290915\n",
      "P-value меньше уровня значимости. Отвергаем нулевую гипотезу о равенстве средних.  Различия в количестве успешных сессий между группами A и B статистически значимы. После введения в работу нового алгоритма количество успешных сессий увеличивается.\n"
     ]
    }
   ],
   "source": [
    "# Ячейка ревьюера: Пример теста t Стьюдента:\n",
    "a_success_rate, b_success_rate = sessions_test[sessions_test['test_group']=='A']['good_session'], sessions_test[sessions_test['test_group']=='B']['good_session']\n",
    "\n",
    "statistic, p_value = ttest_ind(a_success_rate, b_success_rate, alternative='less')\n",
    "print(f'pvalue={p_value}') # Выведите полученное p-value \n",
    "# Интерпретируем p-value\n",
    "alpha = 0.05  # Уровень значимости \n",
    "if p_value < alpha:\n",
    "    print(\"P-value меньше уровня значимости. Отвергаем нулевую гипотезу о равенстве средних.  Различия в количестве успешных сессий между группами A и B статистически значимы. После введения в работу нового алгоритма количество успешных сессий увеличивается.\")\n",
    "else:\n",
    "    print(\"P-value больше уровня значимости. Не отвергаем нулевую гипотезу о равенстве средних. Нет статистически значимых различий в количестве успешных сессий между группами A и B.\")"
   ]
  },
  {
   "cell_type": "code",
   "execution_count": 31,
   "metadata": {},
   "outputs": [
    {
     "name": "stdout",
     "output_type": "stream",
     "text": [
      "pvalue=0.0001574739988036123\n",
      "P-value меньше уровня значимости. Отвергаем нулевую гипотезу о равенстве средних.  Различия в количестве успешных сессий между группами A и B статистически значимы. После введения в работу нового алгоритма количество успешных сессий увеличивается.\n"
     ]
    }
   ],
   "source": [
    "# Ячейка ревьюера: или даже Z-тест для пропорций\n",
    "from statsmodels.stats.proportion import proportions_ztest\n",
    "\n",
    "statistic, p_value = proportions_ztest(\n",
    "    [sessions_test[sessions_test['test_group']=='A']['good_session'].sum(), \n",
    "     sessions_test[sessions_test['test_group']=='B']['good_session'].sum()],\n",
    "    [sessions_test[sessions_test['test_group']=='A']['good_session'].count(), \n",
    "    sessions_test[sessions_test['test_group']=='B']['good_session'].count()],\n",
    "    alternative='smaller' #\n",
    ")\n",
    "print(f'pvalue={p_value}') # Выведите полученное p-value \n",
    "# Интерпретируем p-value\n",
    "alpha = 0.05  # Уровень значимости \n",
    "if p_value < alpha:\n",
    "    print(\"P-value меньше уровня значимости. Отвергаем нулевую гипотезу о равенстве средних.  Различия в количестве успешных сессий между группами A и B статистически значимы. После введения в работу нового алгоритма количество успешных сессий увеличивается.\")\n",
    "else:\n",
    "    print(\"P-value больше уровня значимости. Не отвергаем нулевую гипотезу о равенстве средних. Нет статистически значимых различий в количестве успешных сессий между группами A и B.\")"
   ]
  },
  {
   "cell_type": "markdown",
   "metadata": {},
   "source": [
    "<div class=\"alert alert-success\">\n",
    "<b>Комментарий ревьюера v.2</b> \n",
    "    \n",
    "👍 На таком объеме данных все тесты показали примерно равный результат.\n",
    "    \n",
    "</div>"
   ]
  },
  {
   "cell_type": "markdown",
   "metadata": {
    "id": "GnJrkY9Q63zS"
   },
   "source": [
    "#### 4.5. Вывод по результатам A/B-эксперимента\n",
    "\n",
    "На основе проведённого анализа результатов теста сформулируйте и запишите свои выводы для команды разработки приложения. В выводе обязательно укажите:\n",
    "\n",
    "- Характеристики проведённого эксперимента, количество задействованных пользователей и длительность эксперимента.\n",
    "\n",
    "- Повлияло ли внедрение нового алгоритма рекомендаций на рост ключевой метрики и как.\n",
    "\n",
    "- Каким получилось значение p-value для оценки статистической значимости выявленного эффекта.\n",
    "\n",
    "- Стоит ли внедрять новоовведение в приложение."
   ]
  },
  {
   "cell_type": "markdown",
   "metadata": {
    "id": "rri8KRIgPMrW"
   },
   "source": [
    "выводы:\n",
    "- был проведен А/В-тест с разделением на две группы. количество пользователей в группе А было 1477 человек и 1466 человек в группе В. эксперимент длился 4 дня.\n",
    "- было сформулировано 2 гипотезы: нулевая гипотеза предпологала, что нет статисически значимых различий в количестве успешных сессий между контрольной и тестовой группы. альтернативная гипотеза гласила, статисически значимые различия в количестве успешных сессий между контрольной и тестовой группы есть, а именно количество успешных сессий увеличивается после внедрения нового алгоритма.\n",
    "- нулевая гипотеза была отвергнута. После введения в работу нового алгоритма количество успешных сессий увеличивается.\n",
    "- p-value составило примерно 0.002, что меньше уровня значимости (0.05)\n",
    "- после проведенных тестов и исследования данных, можно точно сказать, что стоит внедрить нововведение в приложение"
   ]
  },
  {
   "cell_type": "markdown",
   "metadata": {},
   "source": [
    "<div class=\"alert alert-success\">\n",
    "<b>Комментарий ревьюера v.1</b> \n",
    "    \n",
    "👍 Основной вывод верный — АВ тест показал улучшение основной метрики, пользователи показали большую вовлеченность в продукт. А относительное изменение показывает, что был достигнут эффект выше, чем ожидался (исходя из блока с расчетом размера групп).\n",
    "</div>"
   ]
  }
 ],
 "metadata": {
  "ExecuteTimeLog": [
   {
    "duration": 52,
    "start_time": "2025-03-03T13:25:50.426Z"
   },
   {
    "duration": 417,
    "start_time": "2025-03-03T13:25:53.165Z"
   },
   {
    "duration": 1106,
    "start_time": "2025-03-03T13:25:53.707Z"
   },
   {
    "duration": 553,
    "start_time": "2025-03-03T13:27:57.725Z"
   },
   {
    "duration": 603,
    "start_time": "2025-03-03T13:28:19.355Z"
   },
   {
    "duration": 588,
    "start_time": "2025-03-03T13:28:34.018Z"
   },
   {
    "duration": 570,
    "start_time": "2025-03-03T13:28:37.168Z"
   },
   {
    "duration": 586,
    "start_time": "2025-03-03T13:28:47.476Z"
   },
   {
    "duration": 542,
    "start_time": "2025-03-03T13:30:41.854Z"
   },
   {
    "duration": 593,
    "start_time": "2025-03-03T13:30:49.227Z"
   },
   {
    "duration": 573,
    "start_time": "2025-03-03T13:31:56.398Z"
   },
   {
    "duration": 595,
    "start_time": "2025-03-03T13:32:49.374Z"
   },
   {
    "duration": 603,
    "start_time": "2025-03-03T13:34:38.512Z"
   },
   {
    "duration": 625,
    "start_time": "2025-03-03T13:39:38.577Z"
   },
   {
    "duration": 179,
    "start_time": "2025-03-03T13:51:02.071Z"
   },
   {
    "duration": 211,
    "start_time": "2025-03-03T13:53:18.528Z"
   },
   {
    "duration": 204,
    "start_time": "2025-03-03T13:54:25.413Z"
   },
   {
    "duration": 446,
    "start_time": "2025-03-03T13:56:22.050Z"
   },
   {
    "duration": 565,
    "start_time": "2025-03-03T13:58:21.727Z"
   },
   {
    "duration": 575,
    "start_time": "2025-03-03T13:59:45.064Z"
   },
   {
    "duration": 629,
    "start_time": "2025-03-03T14:00:45.199Z"
   },
   {
    "duration": 6,
    "start_time": "2025-03-03T14:01:58.063Z"
   },
   {
    "duration": 3,
    "start_time": "2025-03-03T14:02:18.490Z"
   },
   {
    "duration": 524,
    "start_time": "2025-03-03T14:03:26.011Z"
   },
   {
    "duration": 523,
    "start_time": "2025-03-03T14:03:34.220Z"
   },
   {
    "duration": 17,
    "start_time": "2025-03-03T14:18:07.267Z"
   },
   {
    "duration": 50,
    "start_time": "2025-03-03T14:18:13.156Z"
   },
   {
    "duration": 30,
    "start_time": "2025-03-03T14:18:33.739Z"
   },
   {
    "duration": 259,
    "start_time": "2025-03-03T14:18:50.671Z"
   },
   {
    "duration": 257,
    "start_time": "2025-03-03T14:19:26.142Z"
   },
   {
    "duration": 256,
    "start_time": "2025-03-03T14:20:27.694Z"
   },
   {
    "duration": 185,
    "start_time": "2025-03-03T14:20:37.747Z"
   },
   {
    "duration": 191,
    "start_time": "2025-03-03T14:22:06.747Z"
   },
   {
    "duration": 1263,
    "start_time": "2025-03-03T14:33:16.340Z"
   },
   {
    "duration": 42,
    "start_time": "2025-03-03T14:33:48.495Z"
   },
   {
    "duration": 49,
    "start_time": "2025-03-03T14:34:05.433Z"
   },
   {
    "duration": 38,
    "start_time": "2025-03-03T14:34:32.531Z"
   },
   {
    "duration": 34,
    "start_time": "2025-03-03T14:35:17.296Z"
   },
   {
    "duration": 571,
    "start_time": "2025-03-03T14:35:44.675Z"
   },
   {
    "duration": 534,
    "start_time": "2025-03-03T14:36:03.103Z"
   },
   {
    "duration": 103,
    "start_time": "2025-03-03T14:38:13.733Z"
   },
   {
    "duration": 521,
    "start_time": "2025-03-03T14:38:16.213Z"
   },
   {
    "duration": 47,
    "start_time": "2025-03-03T14:38:42.536Z"
   },
   {
    "duration": 523,
    "start_time": "2025-03-03T14:38:43.092Z"
   },
   {
    "duration": 533,
    "start_time": "2025-03-03T14:43:05.186Z"
   },
   {
    "duration": 557,
    "start_time": "2025-03-03T14:43:10.767Z"
   },
   {
    "duration": 297,
    "start_time": "2025-03-03T14:43:24.983Z"
   },
   {
    "duration": 562,
    "start_time": "2025-03-03T14:43:36.476Z"
   },
   {
    "duration": 582,
    "start_time": "2025-03-03T14:43:45.291Z"
   },
   {
    "duration": 5,
    "start_time": "2025-03-03T14:46:51.207Z"
   },
   {
    "duration": 454,
    "start_time": "2025-03-03T14:54:11.274Z"
   },
   {
    "duration": 76,
    "start_time": "2025-03-03T14:58:18.786Z"
   },
   {
    "duration": 186,
    "start_time": "2025-03-03T15:00:48.669Z"
   },
   {
    "duration": 644,
    "start_time": "2025-03-03T15:01:47.805Z"
   },
   {
    "duration": 1151,
    "start_time": "2025-03-03T15:01:48.451Z"
   },
   {
    "duration": 661,
    "start_time": "2025-03-03T15:01:49.604Z"
   },
   {
    "duration": 225,
    "start_time": "2025-03-03T15:01:50.267Z"
   },
   {
    "duration": 643,
    "start_time": "2025-03-03T15:01:50.494Z"
   },
   {
    "duration": 3,
    "start_time": "2025-03-03T15:01:51.139Z"
   },
   {
    "duration": 601,
    "start_time": "2025-03-03T15:01:51.143Z"
   },
   {
    "duration": 269,
    "start_time": "2025-03-03T15:01:51.746Z"
   },
   {
    "duration": 203,
    "start_time": "2025-03-03T15:01:52.017Z"
   },
   {
    "duration": 55,
    "start_time": "2025-03-03T15:01:52.222Z"
   },
   {
    "duration": 594,
    "start_time": "2025-03-03T15:01:52.279Z"
   },
   {
    "duration": 4,
    "start_time": "2025-03-03T15:01:52.874Z"
   },
   {
    "duration": 430,
    "start_time": "2025-03-03T15:01:52.880Z"
   },
   {
    "duration": 169,
    "start_time": "2025-03-03T15:01:53.311Z"
   },
   {
    "duration": 166,
    "start_time": "2025-03-03T15:05:58.167Z"
   },
   {
    "duration": 171,
    "start_time": "2025-03-03T15:06:49.408Z"
   },
   {
    "duration": 818,
    "start_time": "2025-03-03T18:25:49.007Z"
   },
   {
    "duration": 1050,
    "start_time": "2025-03-03T18:25:49.827Z"
   },
   {
    "duration": 580,
    "start_time": "2025-03-03T18:25:50.878Z"
   },
   {
    "duration": 202,
    "start_time": "2025-03-03T18:25:51.460Z"
   },
   {
    "duration": 613,
    "start_time": "2025-03-03T18:25:51.665Z"
   },
   {
    "duration": 5,
    "start_time": "2025-03-03T18:25:52.280Z"
   },
   {
    "duration": 562,
    "start_time": "2025-03-03T18:25:52.287Z"
   },
   {
    "duration": 262,
    "start_time": "2025-03-03T18:25:52.851Z"
   },
   {
    "duration": 205,
    "start_time": "2025-03-03T18:25:53.115Z"
   },
   {
    "duration": 41,
    "start_time": "2025-03-03T18:25:53.322Z"
   },
   {
    "duration": 600,
    "start_time": "2025-03-03T18:25:53.365Z"
   },
   {
    "duration": 4,
    "start_time": "2025-03-03T18:25:53.966Z"
   },
   {
    "duration": 490,
    "start_time": "2025-03-03T18:25:53.972Z"
   },
   {
    "duration": 155,
    "start_time": "2025-03-03T18:25:54.465Z"
   },
   {
    "duration": 24,
    "start_time": "2025-03-03T18:25:54.622Z"
   },
   {
    "duration": 40,
    "start_time": "2025-03-03T18:26:19.123Z"
   },
   {
    "duration": 7,
    "start_time": "2025-03-03T18:58:15.647Z"
   },
   {
    "duration": 8,
    "start_time": "2025-03-03T18:59:21.958Z"
   },
   {
    "duration": 7,
    "start_time": "2025-03-03T19:00:37.102Z"
   },
   {
    "duration": 6,
    "start_time": "2025-03-03T19:00:45.883Z"
   },
   {
    "duration": 8,
    "start_time": "2025-03-03T19:00:52.725Z"
   },
   {
    "duration": 11,
    "start_time": "2025-03-03T19:08:05.843Z"
   },
   {
    "duration": 100,
    "start_time": "2025-03-03T19:08:15.713Z"
   },
   {
    "duration": 90,
    "start_time": "2025-03-03T19:08:38.921Z"
   },
   {
    "duration": 6,
    "start_time": "2025-03-03T19:08:45.183Z"
   },
   {
    "duration": 8,
    "start_time": "2025-03-03T19:12:27.120Z"
   },
   {
    "duration": 7,
    "start_time": "2025-03-03T19:12:34.041Z"
   },
   {
    "duration": 8,
    "start_time": "2025-03-03T19:14:00.240Z"
   },
   {
    "duration": 8,
    "start_time": "2025-03-03T19:14:03.941Z"
   },
   {
    "duration": 8,
    "start_time": "2025-03-03T19:14:09.621Z"
   },
   {
    "duration": 9,
    "start_time": "2025-03-03T19:19:10.427Z"
   },
   {
    "duration": 55,
    "start_time": "2025-03-03T19:21:41.023Z"
   },
   {
    "duration": 296,
    "start_time": "2025-03-03T19:25:49.776Z"
   },
   {
    "duration": 162,
    "start_time": "2025-03-03T19:26:11.965Z"
   },
   {
    "duration": 275,
    "start_time": "2025-03-03T19:27:43.543Z"
   },
   {
    "duration": 153,
    "start_time": "2025-03-03T19:28:20.782Z"
   },
   {
    "duration": 216,
    "start_time": "2025-03-03T19:28:48.614Z"
   },
   {
    "duration": 7,
    "start_time": "2025-03-03T19:38:48.338Z"
   },
   {
    "duration": 7,
    "start_time": "2025-03-03T19:40:24.121Z"
   },
   {
    "duration": 1083,
    "start_time": "2025-03-03T19:40:35.959Z"
   },
   {
    "duration": 1014,
    "start_time": "2025-03-03T19:40:37.044Z"
   },
   {
    "duration": 596,
    "start_time": "2025-03-03T19:40:38.060Z"
   },
   {
    "duration": 220,
    "start_time": "2025-03-03T19:40:38.658Z"
   },
   {
    "duration": 574,
    "start_time": "2025-03-03T19:40:38.880Z"
   },
   {
    "duration": 3,
    "start_time": "2025-03-03T19:40:39.455Z"
   },
   {
    "duration": 521,
    "start_time": "2025-03-03T19:40:39.460Z"
   },
   {
    "duration": 250,
    "start_time": "2025-03-03T19:40:39.983Z"
   },
   {
    "duration": 195,
    "start_time": "2025-03-03T19:40:40.235Z"
   },
   {
    "duration": 41,
    "start_time": "2025-03-03T19:40:40.433Z"
   },
   {
    "duration": 547,
    "start_time": "2025-03-03T19:40:40.476Z"
   },
   {
    "duration": 4,
    "start_time": "2025-03-03T19:40:41.024Z"
   },
   {
    "duration": 20,
    "start_time": "2025-03-03T19:40:41.030Z"
   },
   {
    "duration": 176,
    "start_time": "2025-03-03T19:40:41.052Z"
   },
   {
    "duration": 30,
    "start_time": "2025-03-03T19:40:41.230Z"
   },
   {
    "duration": 7,
    "start_time": "2025-03-03T19:40:41.262Z"
   },
   {
    "duration": 165,
    "start_time": "2025-03-03T19:40:41.270Z"
   },
   {
    "duration": 78,
    "start_time": "2025-03-03T19:40:41.436Z"
   },
   {
    "duration": 164,
    "start_time": "2025-03-03T19:47:14.851Z"
   },
   {
    "duration": 353,
    "start_time": "2025-03-03T19:58:03.506Z"
   },
   {
    "duration": 183,
    "start_time": "2025-03-03T19:59:39.797Z"
   },
   {
    "duration": 177,
    "start_time": "2025-03-03T20:00:17.578Z"
   },
   {
    "duration": 180,
    "start_time": "2025-03-03T20:01:01.246Z"
   },
   {
    "duration": 187,
    "start_time": "2025-03-03T20:01:13.252Z"
   },
   {
    "duration": 205,
    "start_time": "2025-03-03T20:03:58.797Z"
   },
   {
    "duration": 5,
    "start_time": "2025-03-03T20:04:41.316Z"
   },
   {
    "duration": 5,
    "start_time": "2025-03-03T20:04:55.537Z"
   },
   {
    "duration": 5,
    "start_time": "2025-03-03T20:05:09.321Z"
   },
   {
    "duration": 192,
    "start_time": "2025-03-03T20:05:57.143Z"
   },
   {
    "duration": 171,
    "start_time": "2025-03-03T20:09:34.742Z"
   },
   {
    "duration": 5,
    "start_time": "2025-03-03T20:09:51.432Z"
   },
   {
    "duration": 189,
    "start_time": "2025-03-03T20:10:12.628Z"
   },
   {
    "duration": 194,
    "start_time": "2025-03-03T20:15:51.572Z"
   },
   {
    "duration": 190,
    "start_time": "2025-03-03T20:16:11.925Z"
   },
   {
    "duration": 276,
    "start_time": "2025-03-03T20:16:45.734Z"
   },
   {
    "duration": 185,
    "start_time": "2025-03-03T20:16:49.973Z"
   },
   {
    "duration": 274,
    "start_time": "2025-03-03T20:21:01.248Z"
   },
   {
    "duration": 257,
    "start_time": "2025-03-03T20:24:22.409Z"
   },
   {
    "duration": 9,
    "start_time": "2025-03-03T20:28:48.007Z"
   },
   {
    "duration": 9,
    "start_time": "2025-03-03T20:28:55.560Z"
   },
   {
    "duration": 38,
    "start_time": "2025-03-03T20:29:00.878Z"
   },
   {
    "duration": 59,
    "start_time": "2025-03-03T20:32:39.171Z"
   },
   {
    "duration": 64,
    "start_time": "2025-03-03T20:39:03.994Z"
   },
   {
    "duration": 60,
    "start_time": "2025-03-03T20:41:27.466Z"
   },
   {
    "duration": 12,
    "start_time": "2025-03-03T20:52:00.001Z"
   },
   {
    "duration": 13,
    "start_time": "2025-03-03T20:52:29.827Z"
   },
   {
    "duration": 7,
    "start_time": "2025-03-03T20:52:49.361Z"
   },
   {
    "duration": 7,
    "start_time": "2025-03-03T20:53:04.129Z"
   },
   {
    "duration": 6,
    "start_time": "2025-03-03T20:53:27.632Z"
   },
   {
    "duration": 7,
    "start_time": "2025-03-03T20:53:56.303Z"
   },
   {
    "duration": 6,
    "start_time": "2025-03-03T20:54:03.809Z"
   },
   {
    "duration": 6,
    "start_time": "2025-03-03T20:54:13.059Z"
   },
   {
    "duration": 7,
    "start_time": "2025-03-03T20:55:31.051Z"
   },
   {
    "duration": 23,
    "start_time": "2025-03-03T21:12:39.955Z"
   },
   {
    "duration": 47,
    "start_time": "2025-03-03T21:13:48.467Z"
   },
   {
    "duration": 55,
    "start_time": "2025-03-03T21:16:36.607Z"
   },
   {
    "duration": 47,
    "start_time": "2025-03-03T21:16:59.780Z"
   },
   {
    "duration": 45,
    "start_time": "2025-03-03T21:17:08.389Z"
   },
   {
    "duration": 49,
    "start_time": "2025-03-03T21:17:23.807Z"
   },
   {
    "duration": 47,
    "start_time": "2025-03-03T21:17:33.890Z"
   },
   {
    "duration": 41,
    "start_time": "2025-03-03T21:18:55.609Z"
   },
   {
    "duration": 42,
    "start_time": "2025-03-03T21:19:49.798Z"
   },
   {
    "duration": 41,
    "start_time": "2025-03-03T21:20:02.529Z"
   },
   {
    "duration": 40,
    "start_time": "2025-03-03T21:20:15.231Z"
   },
   {
    "duration": 40,
    "start_time": "2025-03-03T21:20:37.531Z"
   },
   {
    "duration": 43,
    "start_time": "2025-03-03T21:22:03.146Z"
   },
   {
    "duration": 41,
    "start_time": "2025-03-03T21:22:08.190Z"
   },
   {
    "duration": 54,
    "start_time": "2025-03-03T21:22:39.496Z"
   },
   {
    "duration": 42,
    "start_time": "2025-03-03T21:22:47.000Z"
   },
   {
    "duration": 5,
    "start_time": "2025-03-03T21:24:09.920Z"
   },
   {
    "duration": 4,
    "start_time": "2025-03-03T21:24:15.463Z"
   },
   {
    "duration": 1163,
    "start_time": "2025-03-03T21:24:54.529Z"
   },
   {
    "duration": 1043,
    "start_time": "2025-03-03T21:24:55.694Z"
   },
   {
    "duration": 612,
    "start_time": "2025-03-03T21:24:56.739Z"
   },
   {
    "duration": 214,
    "start_time": "2025-03-03T21:24:57.353Z"
   },
   {
    "duration": 567,
    "start_time": "2025-03-03T21:24:57.568Z"
   },
   {
    "duration": 4,
    "start_time": "2025-03-03T21:24:58.136Z"
   },
   {
    "duration": 542,
    "start_time": "2025-03-03T21:24:58.141Z"
   },
   {
    "duration": 270,
    "start_time": "2025-03-03T21:24:58.684Z"
   },
   {
    "duration": 188,
    "start_time": "2025-03-03T21:24:58.955Z"
   },
   {
    "duration": 40,
    "start_time": "2025-03-03T21:24:59.145Z"
   },
   {
    "duration": 528,
    "start_time": "2025-03-03T21:24:59.187Z"
   },
   {
    "duration": 5,
    "start_time": "2025-03-03T21:24:59.717Z"
   },
   {
    "duration": 35,
    "start_time": "2025-03-03T21:24:59.723Z"
   },
   {
    "duration": 171,
    "start_time": "2025-03-03T21:24:59.760Z"
   },
   {
    "duration": 31,
    "start_time": "2025-03-03T21:24:59.933Z"
   },
   {
    "duration": 9,
    "start_time": "2025-03-03T21:24:59.966Z"
   },
   {
    "duration": 160,
    "start_time": "2025-03-03T21:24:59.977Z"
   },
   {
    "duration": 9,
    "start_time": "2025-03-03T21:25:00.210Z"
   },
   {
    "duration": 241,
    "start_time": "2025-03-03T21:25:00.220Z"
   },
   {
    "duration": 258,
    "start_time": "2025-03-03T21:25:00.463Z"
   },
   {
    "duration": 256,
    "start_time": "2025-03-03T21:25:00.722Z"
   },
   {
    "duration": 50,
    "start_time": "2025-03-03T21:25:00.980Z"
   },
   {
    "duration": 7,
    "start_time": "2025-03-03T21:25:01.032Z"
   },
   {
    "duration": 53,
    "start_time": "2025-03-03T21:25:01.041Z"
   },
   {
    "duration": 4,
    "start_time": "2025-03-03T21:25:01.096Z"
   },
   {
    "duration": 9,
    "start_time": "2025-03-03T21:25:01.108Z"
   },
   {
    "duration": 5,
    "start_time": "2025-03-03T21:25:47.684Z"
   },
   {
    "duration": 4,
    "start_time": "2025-03-03T21:26:11.239Z"
   },
   {
    "duration": 58,
    "start_time": "2025-03-03T21:26:20.656Z"
   },
   {
    "duration": 61,
    "start_time": "2025-03-03T21:26:24.442Z"
   },
   {
    "duration": 66,
    "start_time": "2025-03-03T21:26:31.594Z"
   },
   {
    "duration": 4,
    "start_time": "2025-03-03T21:26:38.969Z"
   },
   {
    "duration": 7,
    "start_time": "2025-03-03T21:30:34.405Z"
   },
   {
    "duration": 42,
    "start_time": "2025-03-03T21:30:36.504Z"
   },
   {
    "duration": 5,
    "start_time": "2025-03-03T21:34:11.198Z"
   },
   {
    "duration": 4,
    "start_time": "2025-03-03T21:35:04.421Z"
   },
   {
    "duration": 1123,
    "start_time": "2025-03-03T21:35:16.666Z"
   },
   {
    "duration": 1063,
    "start_time": "2025-03-03T21:35:17.791Z"
   },
   {
    "duration": 617,
    "start_time": "2025-03-03T21:35:18.856Z"
   },
   {
    "duration": 206,
    "start_time": "2025-03-03T21:35:19.475Z"
   },
   {
    "duration": 594,
    "start_time": "2025-03-03T21:35:19.683Z"
   },
   {
    "duration": 3,
    "start_time": "2025-03-03T21:35:20.279Z"
   },
   {
    "duration": 576,
    "start_time": "2025-03-03T21:35:20.283Z"
   },
   {
    "duration": 260,
    "start_time": "2025-03-03T21:35:20.861Z"
   },
   {
    "duration": 198,
    "start_time": "2025-03-03T21:35:21.123Z"
   },
   {
    "duration": 42,
    "start_time": "2025-03-03T21:35:21.323Z"
   },
   {
    "duration": 523,
    "start_time": "2025-03-03T21:35:21.367Z"
   },
   {
    "duration": 4,
    "start_time": "2025-03-03T21:35:21.892Z"
   },
   {
    "duration": 19,
    "start_time": "2025-03-03T21:35:21.909Z"
   },
   {
    "duration": 174,
    "start_time": "2025-03-03T21:35:21.929Z"
   },
   {
    "duration": 30,
    "start_time": "2025-03-03T21:35:22.109Z"
   },
   {
    "duration": 86,
    "start_time": "2025-03-03T21:35:22.140Z"
   },
   {
    "duration": 199,
    "start_time": "2025-03-03T21:35:22.227Z"
   },
   {
    "duration": 8,
    "start_time": "2025-03-03T21:35:22.428Z"
   },
   {
    "duration": 217,
    "start_time": "2025-03-03T21:35:22.437Z"
   },
   {
    "duration": 264,
    "start_time": "2025-03-03T21:35:22.656Z"
   },
   {
    "duration": 271,
    "start_time": "2025-03-03T21:35:22.922Z"
   },
   {
    "duration": 49,
    "start_time": "2025-03-03T21:35:23.195Z"
   },
   {
    "duration": 9,
    "start_time": "2025-03-03T21:35:23.246Z"
   },
   {
    "duration": 58,
    "start_time": "2025-03-03T21:35:23.256Z"
   },
   {
    "duration": 4,
    "start_time": "2025-03-03T21:35:23.316Z"
   },
   {
    "duration": 8,
    "start_time": "2025-03-03T21:37:05.059Z"
   },
   {
    "duration": 1107,
    "start_time": "2025-03-03T21:47:42.122Z"
   },
   {
    "duration": 991,
    "start_time": "2025-03-03T21:47:43.231Z"
   },
   {
    "duration": 578,
    "start_time": "2025-03-03T21:47:44.224Z"
   },
   {
    "duration": 191,
    "start_time": "2025-03-03T21:47:44.808Z"
   },
   {
    "duration": 560,
    "start_time": "2025-03-03T21:47:45.001Z"
   },
   {
    "duration": 4,
    "start_time": "2025-03-03T21:47:45.562Z"
   },
   {
    "duration": 540,
    "start_time": "2025-03-03T21:47:45.568Z"
   },
   {
    "duration": 247,
    "start_time": "2025-03-03T21:47:46.109Z"
   },
   {
    "duration": 192,
    "start_time": "2025-03-03T21:47:46.358Z"
   },
   {
    "duration": 39,
    "start_time": "2025-03-03T21:47:46.552Z"
   },
   {
    "duration": 518,
    "start_time": "2025-03-03T21:47:46.593Z"
   },
   {
    "duration": 4,
    "start_time": "2025-03-03T21:47:47.113Z"
   },
   {
    "duration": 30,
    "start_time": "2025-03-03T21:47:47.119Z"
   },
   {
    "duration": 150,
    "start_time": "2025-03-03T21:47:47.150Z"
   },
   {
    "duration": 30,
    "start_time": "2025-03-03T21:47:47.301Z"
   },
   {
    "duration": 7,
    "start_time": "2025-03-03T21:47:47.332Z"
   },
   {
    "duration": 197,
    "start_time": "2025-03-03T21:47:47.341Z"
   },
   {
    "duration": 8,
    "start_time": "2025-03-03T21:47:47.540Z"
   },
   {
    "duration": 205,
    "start_time": "2025-03-03T21:47:47.550Z"
   },
   {
    "duration": 256,
    "start_time": "2025-03-03T21:47:47.756Z"
   },
   {
    "duration": 244,
    "start_time": "2025-03-03T21:47:48.013Z"
   },
   {
    "duration": 38,
    "start_time": "2025-03-03T21:47:48.259Z"
   },
   {
    "duration": 8,
    "start_time": "2025-03-03T21:47:48.309Z"
   },
   {
    "duration": 45,
    "start_time": "2025-03-03T21:47:48.318Z"
   },
   {
    "duration": 5,
    "start_time": "2025-03-03T21:47:48.365Z"
   },
   {
    "duration": 1285,
    "start_time": "2025-03-04T03:25:57.082Z"
   },
   {
    "duration": 1128,
    "start_time": "2025-03-04T03:25:58.369Z"
   },
   {
    "duration": 1076,
    "start_time": "2025-03-04T03:25:59.500Z"
   },
   {
    "duration": 298,
    "start_time": "2025-03-04T03:26:00.578Z"
   },
   {
    "duration": 1156,
    "start_time": "2025-03-04T03:26:00.878Z"
   },
   {
    "duration": 3,
    "start_time": "2025-03-04T03:26:02.036Z"
   },
   {
    "duration": 733,
    "start_time": "2025-03-04T03:26:02.041Z"
   },
   {
    "duration": 502,
    "start_time": "2025-03-04T03:26:02.776Z"
   },
   {
    "duration": 406,
    "start_time": "2025-03-04T03:26:03.280Z"
   },
   {
    "duration": 90,
    "start_time": "2025-03-04T03:26:03.689Z"
   },
   {
    "duration": 1105,
    "start_time": "2025-03-04T03:26:03.781Z"
   },
   {
    "duration": 5,
    "start_time": "2025-03-04T03:26:04.888Z"
   },
   {
    "duration": 80,
    "start_time": "2025-03-04T03:26:04.895Z"
   },
   {
    "duration": 393,
    "start_time": "2025-03-04T03:26:04.976Z"
   },
   {
    "duration": 31,
    "start_time": "2025-03-04T03:26:05.371Z"
   },
   {
    "duration": 11,
    "start_time": "2025-03-04T03:26:05.458Z"
   },
   {
    "duration": 330,
    "start_time": "2025-03-04T03:26:05.470Z"
   },
   {
    "duration": 12,
    "start_time": "2025-03-04T03:26:05.859Z"
   },
   {
    "duration": 425,
    "start_time": "2025-03-04T03:26:05.873Z"
   },
   {
    "duration": 506,
    "start_time": "2025-03-04T03:26:06.300Z"
   },
   {
    "duration": 519,
    "start_time": "2025-03-04T03:26:06.859Z"
   },
   {
    "duration": 101,
    "start_time": "2025-03-04T03:26:07.380Z"
   },
   {
    "duration": 8,
    "start_time": "2025-03-04T03:26:07.483Z"
   },
   {
    "duration": 97,
    "start_time": "2025-03-04T03:26:07.493Z"
   },
   {
    "duration": 5,
    "start_time": "2025-03-04T03:26:07.591Z"
   },
   {
    "duration": 3314,
    "start_time": "2025-03-04T06:27:30.447Z"
   },
   {
    "duration": 3797,
    "start_time": "2025-03-04T06:27:33.763Z"
   },
   {
    "duration": 2186,
    "start_time": "2025-03-04T06:27:37.562Z"
   },
   {
    "duration": 598,
    "start_time": "2025-03-04T06:27:39.750Z"
   },
   {
    "duration": 1538,
    "start_time": "2025-03-04T06:27:40.350Z"
   },
   {
    "duration": 4,
    "start_time": "2025-03-04T06:27:41.890Z"
   },
   {
    "duration": 813,
    "start_time": "2025-03-04T06:27:41.895Z"
   },
   {
    "duration": 348,
    "start_time": "2025-03-04T06:27:42.709Z"
   },
   {
    "duration": 396,
    "start_time": "2025-03-04T06:27:43.059Z"
   },
   {
    "duration": 94,
    "start_time": "2025-03-04T06:27:43.458Z"
   },
   {
    "duration": 793,
    "start_time": "2025-03-04T06:27:43.555Z"
   },
   {
    "duration": 4,
    "start_time": "2025-03-04T06:27:44.349Z"
   },
   {
    "duration": 24,
    "start_time": "2025-03-04T06:27:44.355Z"
   },
   {
    "duration": 184,
    "start_time": "2025-03-04T06:27:44.381Z"
   },
   {
    "duration": 29,
    "start_time": "2025-03-04T06:27:44.567Z"
   },
   {
    "duration": 8,
    "start_time": "2025-03-04T06:27:44.647Z"
   },
   {
    "duration": 300,
    "start_time": "2025-03-04T06:27:44.656Z"
   },
   {
    "duration": 8,
    "start_time": "2025-03-04T06:27:44.958Z"
   },
   {
    "duration": 412,
    "start_time": "2025-03-04T06:27:44.967Z"
   },
   {
    "duration": 328,
    "start_time": "2025-03-04T06:27:45.381Z"
   },
   {
    "duration": 256,
    "start_time": "2025-03-04T06:27:45.711Z"
   },
   {
    "duration": 41,
    "start_time": "2025-03-04T06:27:45.968Z"
   },
   {
    "duration": 97,
    "start_time": "2025-03-04T06:27:46.010Z"
   },
   {
    "duration": 48,
    "start_time": "2025-03-04T06:27:46.109Z"
   },
   {
    "duration": 5,
    "start_time": "2025-03-04T06:27:46.158Z"
   },
   {
    "duration": 8,
    "start_time": "2025-03-04T06:32:33.470Z"
   },
   {
    "duration": 5,
    "start_time": "2025-03-04T06:51:52.357Z"
   },
   {
    "duration": 103,
    "start_time": "2025-03-04T06:54:12.743Z"
   },
   {
    "duration": 33,
    "start_time": "2025-03-04T06:54:17.452Z"
   },
   {
    "duration": 29,
    "start_time": "2025-03-04T06:54:28.676Z"
   },
   {
    "duration": 32,
    "start_time": "2025-03-04T06:55:10.304Z"
   },
   {
    "duration": 32,
    "start_time": "2025-03-04T06:55:28.051Z"
   },
   {
    "duration": 48,
    "start_time": "2025-03-04T12:30:39.016Z"
   },
   {
    "duration": 1412,
    "start_time": "2025-03-04T12:30:45.835Z"
   },
   {
    "duration": 1186,
    "start_time": "2025-03-04T12:30:47.249Z"
   },
   {
    "duration": 631,
    "start_time": "2025-03-04T12:30:48.436Z"
   },
   {
    "duration": 212,
    "start_time": "2025-03-04T12:30:49.069Z"
   },
   {
    "duration": 615,
    "start_time": "2025-03-04T12:30:49.283Z"
   },
   {
    "duration": 3,
    "start_time": "2025-03-04T12:30:49.900Z"
   },
   {
    "duration": 626,
    "start_time": "2025-03-04T12:30:49.905Z"
   },
   {
    "duration": 259,
    "start_time": "2025-03-04T12:30:50.533Z"
   },
   {
    "duration": 198,
    "start_time": "2025-03-04T12:30:50.794Z"
   },
   {
    "duration": 40,
    "start_time": "2025-03-04T12:30:51.001Z"
   },
   {
    "duration": 525,
    "start_time": "2025-03-04T12:30:51.043Z"
   },
   {
    "duration": 5,
    "start_time": "2025-03-04T12:30:51.569Z"
   },
   {
    "duration": 164,
    "start_time": "2025-03-04T12:30:51.575Z"
   },
   {
    "duration": 195,
    "start_time": "2025-03-04T12:30:51.741Z"
   },
   {
    "duration": 32,
    "start_time": "2025-03-04T12:30:51.937Z"
   },
   {
    "duration": 101,
    "start_time": "2025-03-04T12:30:51.971Z"
   },
   {
    "duration": 289,
    "start_time": "2025-03-04T12:30:52.074Z"
   },
   {
    "duration": 12,
    "start_time": "2025-03-04T12:30:52.365Z"
   },
   {
    "duration": 296,
    "start_time": "2025-03-04T12:30:52.378Z"
   },
   {
    "duration": 273,
    "start_time": "2025-03-04T12:30:52.675Z"
   },
   {
    "duration": 284,
    "start_time": "2025-03-04T12:30:52.949Z"
   },
   {
    "duration": 43,
    "start_time": "2025-03-04T12:30:53.235Z"
   },
   {
    "duration": 24,
    "start_time": "2025-03-04T12:30:53.280Z"
   },
   {
    "duration": 68,
    "start_time": "2025-03-04T12:30:53.306Z"
   },
   {
    "duration": 4,
    "start_time": "2025-03-04T12:30:53.376Z"
   },
   {
    "duration": 8,
    "start_time": "2025-03-04T12:34:33.873Z"
   },
   {
    "duration": 7,
    "start_time": "2025-03-04T12:35:42.265Z"
   },
   {
    "duration": 7,
    "start_time": "2025-03-04T12:36:07.844Z"
   },
   {
    "duration": 58,
    "start_time": "2025-03-04T12:38:00.547Z"
   },
   {
    "duration": 5,
    "start_time": "2025-03-04T12:56:01.840Z"
   },
   {
    "duration": 1202,
    "start_time": "2025-03-04T12:56:25.215Z"
   },
   {
    "duration": 1071,
    "start_time": "2025-03-04T12:56:26.419Z"
   },
   {
    "duration": 642,
    "start_time": "2025-03-04T12:56:27.491Z"
   },
   {
    "duration": 218,
    "start_time": "2025-03-04T12:56:28.136Z"
   },
   {
    "duration": 606,
    "start_time": "2025-03-04T12:56:28.356Z"
   },
   {
    "duration": 3,
    "start_time": "2025-03-04T12:56:28.964Z"
   },
   {
    "duration": 554,
    "start_time": "2025-03-04T12:56:28.969Z"
   },
   {
    "duration": 252,
    "start_time": "2025-03-04T12:56:29.525Z"
   },
   {
    "duration": 191,
    "start_time": "2025-03-04T12:56:29.779Z"
   },
   {
    "duration": 48,
    "start_time": "2025-03-04T12:56:29.973Z"
   },
   {
    "duration": 632,
    "start_time": "2025-03-04T12:56:30.022Z"
   },
   {
    "duration": 4,
    "start_time": "2025-03-04T12:56:30.656Z"
   },
   {
    "duration": 64,
    "start_time": "2025-03-04T12:56:30.661Z"
   },
   {
    "duration": 280,
    "start_time": "2025-03-04T12:56:30.726Z"
   },
   {
    "duration": 32,
    "start_time": "2025-03-04T12:56:31.008Z"
   },
   {
    "duration": 16,
    "start_time": "2025-03-04T12:56:31.042Z"
   },
   {
    "duration": 249,
    "start_time": "2025-03-04T12:56:31.060Z"
   },
   {
    "duration": 8,
    "start_time": "2025-03-04T12:56:31.311Z"
   },
   {
    "duration": 217,
    "start_time": "2025-03-04T12:56:31.321Z"
   },
   {
    "duration": 263,
    "start_time": "2025-03-04T12:56:31.539Z"
   },
   {
    "duration": 324,
    "start_time": "2025-03-04T12:56:31.804Z"
   },
   {
    "duration": 43,
    "start_time": "2025-03-04T12:56:32.130Z"
   },
   {
    "duration": 10,
    "start_time": "2025-03-04T12:56:32.175Z"
   },
   {
    "duration": 79,
    "start_time": "2025-03-04T12:56:32.186Z"
   },
   {
    "duration": 68,
    "start_time": "2025-03-04T12:56:32.267Z"
   },
   {
    "duration": 0,
    "start_time": "2025-03-04T12:56:32.336Z"
   },
   {
    "duration": 58,
    "start_time": "2025-03-04T12:58:30.154Z"
   },
   {
    "duration": 59,
    "start_time": "2025-03-04T12:58:51.962Z"
   },
   {
    "duration": 59,
    "start_time": "2025-03-04T12:58:58.050Z"
   },
   {
    "duration": 62,
    "start_time": "2025-03-04T12:59:14.888Z"
   },
   {
    "duration": 61,
    "start_time": "2025-03-04T12:59:27.793Z"
   },
   {
    "duration": 60,
    "start_time": "2025-03-04T12:59:33.111Z"
   },
   {
    "duration": 61,
    "start_time": "2025-03-04T12:59:52.328Z"
   },
   {
    "duration": 41,
    "start_time": "2025-03-04T13:00:19.843Z"
   },
   {
    "duration": 65,
    "start_time": "2025-03-04T13:00:20.221Z"
   },
   {
    "duration": 35,
    "start_time": "2025-03-04T13:02:27.275Z"
   },
   {
    "duration": 1243,
    "start_time": "2025-03-04T13:02:59.883Z"
   },
   {
    "duration": 1081,
    "start_time": "2025-03-04T13:03:01.128Z"
   },
   {
    "duration": 615,
    "start_time": "2025-03-04T13:03:02.211Z"
   },
   {
    "duration": 222,
    "start_time": "2025-03-04T13:03:02.828Z"
   },
   {
    "duration": 626,
    "start_time": "2025-03-04T13:03:03.052Z"
   },
   {
    "duration": 4,
    "start_time": "2025-03-04T13:03:03.681Z"
   },
   {
    "duration": 640,
    "start_time": "2025-03-04T13:03:03.686Z"
   },
   {
    "duration": 260,
    "start_time": "2025-03-04T13:03:04.328Z"
   },
   {
    "duration": 194,
    "start_time": "2025-03-04T13:03:04.591Z"
   },
   {
    "duration": 49,
    "start_time": "2025-03-04T13:03:04.789Z"
   },
   {
    "duration": 581,
    "start_time": "2025-03-04T13:03:04.840Z"
   },
   {
    "duration": 5,
    "start_time": "2025-03-04T13:03:05.423Z"
   },
   {
    "duration": 85,
    "start_time": "2025-03-04T13:03:05.429Z"
   },
   {
    "duration": 222,
    "start_time": "2025-03-04T13:03:05.516Z"
   },
   {
    "duration": 116,
    "start_time": "2025-03-04T13:03:05.741Z"
   },
   {
    "duration": 77,
    "start_time": "2025-03-04T13:03:05.859Z"
   },
   {
    "duration": 201,
    "start_time": "2025-03-04T13:03:05.937Z"
   },
   {
    "duration": 9,
    "start_time": "2025-03-04T13:03:06.140Z"
   },
   {
    "duration": 356,
    "start_time": "2025-03-04T13:03:06.151Z"
   },
   {
    "duration": 266,
    "start_time": "2025-03-04T13:03:06.509Z"
   },
   {
    "duration": 270,
    "start_time": "2025-03-04T13:03:06.777Z"
   },
   {
    "duration": 53,
    "start_time": "2025-03-04T13:03:07.049Z"
   },
   {
    "duration": 26,
    "start_time": "2025-03-04T13:03:07.104Z"
   },
   {
    "duration": 93,
    "start_time": "2025-03-04T13:03:07.132Z"
   },
   {
    "duration": 39,
    "start_time": "2025-03-04T13:03:07.227Z"
   },
   {
    "duration": 2347,
    "start_time": "2025-03-04T13:04:11.437Z"
   },
   {
    "duration": 38,
    "start_time": "2025-03-04T13:05:22.462Z"
   },
   {
    "duration": 40,
    "start_time": "2025-03-04T13:05:49.186Z"
   },
   {
    "duration": 5,
    "start_time": "2025-03-04T13:05:50.831Z"
   },
   {
    "duration": 32,
    "start_time": "2025-03-04T13:06:18.264Z"
   },
   {
    "duration": 5,
    "start_time": "2025-03-04T13:06:19.447Z"
   },
   {
    "duration": 41,
    "start_time": "2025-03-04T13:06:56.124Z"
   },
   {
    "duration": 5,
    "start_time": "2025-03-04T13:06:57.253Z"
   },
   {
    "duration": 10,
    "start_time": "2025-03-04T13:13:54.067Z"
   },
   {
    "duration": 3,
    "start_time": "2025-03-04T13:15:04.477Z"
   },
   {
    "duration": 1270,
    "start_time": "2025-03-04T13:15:10.470Z"
   },
   {
    "duration": 1112,
    "start_time": "2025-03-04T13:15:11.742Z"
   },
   {
    "duration": 657,
    "start_time": "2025-03-04T13:15:12.856Z"
   },
   {
    "duration": 224,
    "start_time": "2025-03-04T13:15:13.515Z"
   },
   {
    "duration": 666,
    "start_time": "2025-03-04T13:15:13.740Z"
   },
   {
    "duration": 3,
    "start_time": "2025-03-04T13:15:14.408Z"
   },
   {
    "duration": 561,
    "start_time": "2025-03-04T13:15:14.413Z"
   },
   {
    "duration": 277,
    "start_time": "2025-03-04T13:15:14.975Z"
   },
   {
    "duration": 203,
    "start_time": "2025-03-04T13:15:15.254Z"
   },
   {
    "duration": 53,
    "start_time": "2025-03-04T13:15:15.459Z"
   },
   {
    "duration": 535,
    "start_time": "2025-03-04T13:15:15.514Z"
   },
   {
    "duration": 6,
    "start_time": "2025-03-04T13:15:16.052Z"
   },
   {
    "duration": 65,
    "start_time": "2025-03-04T13:15:16.061Z"
   },
   {
    "duration": 311,
    "start_time": "2025-03-04T13:15:16.128Z"
   },
   {
    "duration": 32,
    "start_time": "2025-03-04T13:15:16.441Z"
   },
   {
    "duration": 9,
    "start_time": "2025-03-04T13:15:16.474Z"
   },
   {
    "duration": 222,
    "start_time": "2025-03-04T13:15:16.485Z"
   },
   {
    "duration": 9,
    "start_time": "2025-03-04T13:15:16.708Z"
   },
   {
    "duration": 241,
    "start_time": "2025-03-04T13:15:16.719Z"
   },
   {
    "duration": 274,
    "start_time": "2025-03-04T13:15:16.961Z"
   },
   {
    "duration": 267,
    "start_time": "2025-03-04T13:15:17.236Z"
   },
   {
    "duration": 42,
    "start_time": "2025-03-04T13:15:17.504Z"
   },
   {
    "duration": 20,
    "start_time": "2025-03-04T13:15:17.548Z"
   },
   {
    "duration": 114,
    "start_time": "2025-03-04T13:15:17.570Z"
   },
   {
    "duration": 42,
    "start_time": "2025-03-04T13:15:17.686Z"
   },
   {
    "duration": 287,
    "start_time": "2025-03-04T13:15:17.730Z"
   },
   {
    "duration": 7,
    "start_time": "2025-03-04T13:15:31.760Z"
   },
   {
    "duration": 1387,
    "start_time": "2025-03-04T17:42:37.488Z"
   },
   {
    "duration": 1510,
    "start_time": "2025-03-04T17:42:38.877Z"
   },
   {
    "duration": 1028,
    "start_time": "2025-03-04T17:42:40.388Z"
   },
   {
    "duration": 595,
    "start_time": "2025-03-04T17:42:41.418Z"
   },
   {
    "duration": 2260,
    "start_time": "2025-03-04T17:42:42.015Z"
   },
   {
    "duration": 4,
    "start_time": "2025-03-04T17:42:44.278Z"
   },
   {
    "duration": 2595,
    "start_time": "2025-03-04T17:42:44.284Z"
   },
   {
    "duration": 1010,
    "start_time": "2025-03-04T17:42:46.881Z"
   },
   {
    "duration": 582,
    "start_time": "2025-03-04T17:42:47.893Z"
   },
   {
    "duration": 103,
    "start_time": "2025-03-04T17:42:48.477Z"
   },
   {
    "duration": 1793,
    "start_time": "2025-03-04T17:42:48.583Z"
   },
   {
    "duration": 6,
    "start_time": "2025-03-04T17:42:50.378Z"
   },
   {
    "duration": 105,
    "start_time": "2025-03-04T17:42:50.387Z"
   },
   {
    "duration": 977,
    "start_time": "2025-03-04T17:42:50.497Z"
   },
   {
    "duration": 102,
    "start_time": "2025-03-04T17:42:51.477Z"
   },
   {
    "duration": 11,
    "start_time": "2025-03-04T17:42:51.581Z"
   },
   {
    "duration": 585,
    "start_time": "2025-03-04T17:42:51.594Z"
   },
   {
    "duration": 9,
    "start_time": "2025-03-04T17:42:52.181Z"
   },
   {
    "duration": 682,
    "start_time": "2025-03-04T17:42:52.193Z"
   },
   {
    "duration": 937,
    "start_time": "2025-03-04T17:42:52.877Z"
   },
   {
    "duration": 759,
    "start_time": "2025-03-04T17:42:53.817Z"
   },
   {
    "duration": 206,
    "start_time": "2025-03-04T17:42:54.578Z"
   },
   {
    "duration": 12,
    "start_time": "2025-03-04T17:42:54.787Z"
   },
   {
    "duration": 382,
    "start_time": "2025-03-04T17:42:54.801Z"
   },
   {
    "duration": 297,
    "start_time": "2025-03-04T17:42:55.185Z"
   },
   {
    "duration": 9,
    "start_time": "2025-03-04T17:42:55.483Z"
   },
   {
    "duration": 6,
    "start_time": "2025-03-04T17:45:20.369Z"
   },
   {
    "duration": 39,
    "start_time": "2025-03-04T17:48:04.456Z"
   },
   {
    "duration": 97,
    "start_time": "2025-03-04T17:50:10.346Z"
   },
   {
    "duration": 45,
    "start_time": "2025-03-04T17:51:33.149Z"
   },
   {
    "duration": 174,
    "start_time": "2025-03-04T17:53:27.965Z"
   },
   {
    "duration": 78,
    "start_time": "2025-03-04T17:53:46.172Z"
   },
   {
    "duration": 49,
    "start_time": "2025-03-04T17:54:05.091Z"
   },
   {
    "duration": 69,
    "start_time": "2025-03-04T17:54:05.484Z"
   },
   {
    "duration": 1268,
    "start_time": "2025-03-04T17:57:27.981Z"
   },
   {
    "duration": 1173,
    "start_time": "2025-03-04T17:57:29.251Z"
   },
   {
    "duration": 671,
    "start_time": "2025-03-04T17:57:30.425Z"
   },
   {
    "duration": 220,
    "start_time": "2025-03-04T17:57:31.099Z"
   },
   {
    "duration": 660,
    "start_time": "2025-03-04T17:57:31.322Z"
   },
   {
    "duration": 6,
    "start_time": "2025-03-04T17:57:31.984Z"
   },
   {
    "duration": 571,
    "start_time": "2025-03-04T17:57:31.992Z"
   },
   {
    "duration": 277,
    "start_time": "2025-03-04T17:57:32.565Z"
   },
   {
    "duration": 211,
    "start_time": "2025-03-04T17:57:32.844Z"
   },
   {
    "duration": 59,
    "start_time": "2025-03-04T17:57:33.058Z"
   },
   {
    "duration": 592,
    "start_time": "2025-03-04T17:57:33.119Z"
   },
   {
    "duration": 4,
    "start_time": "2025-03-04T17:57:33.713Z"
   },
   {
    "duration": 30,
    "start_time": "2025-03-04T17:57:33.718Z"
   },
   {
    "duration": 181,
    "start_time": "2025-03-04T17:57:33.750Z"
   },
   {
    "duration": 31,
    "start_time": "2025-03-04T17:57:33.932Z"
   },
   {
    "duration": 8,
    "start_time": "2025-03-04T17:57:33.964Z"
   },
   {
    "duration": 216,
    "start_time": "2025-03-04T17:57:33.974Z"
   },
   {
    "duration": 9,
    "start_time": "2025-03-04T17:57:34.192Z"
   },
   {
    "duration": 245,
    "start_time": "2025-03-04T17:57:34.202Z"
   },
   {
    "duration": 264,
    "start_time": "2025-03-04T17:57:34.449Z"
   },
   {
    "duration": 264,
    "start_time": "2025-03-04T17:57:34.715Z"
   },
   {
    "duration": 51,
    "start_time": "2025-03-04T17:57:34.982Z"
   },
   {
    "duration": 8,
    "start_time": "2025-03-04T17:57:35.035Z"
   },
   {
    "duration": 84,
    "start_time": "2025-03-04T17:57:35.044Z"
   },
   {
    "duration": 56,
    "start_time": "2025-03-04T17:57:35.129Z"
   },
   {
    "duration": 8,
    "start_time": "2025-03-04T17:57:35.188Z"
   },
   {
    "duration": 28,
    "start_time": "2025-03-04T17:57:35.198Z"
   },
   {
    "duration": 38,
    "start_time": "2025-03-04T17:57:35.228Z"
   },
   {
    "duration": 97,
    "start_time": "2025-03-04T17:57:35.267Z"
   },
   {
    "duration": 48,
    "start_time": "2025-03-04T17:57:35.365Z"
   },
   {
    "duration": 92,
    "start_time": "2025-03-04T17:57:35.415Z"
   }
  ],
  "colab": {
   "provenance": []
  },
  "kernelspec": {
   "display_name": "Python 3 (ipykernel)",
   "language": "python",
   "name": "python3"
  },
  "language_info": {
   "codemirror_mode": {
    "name": "ipython",
    "version": 3
   },
   "file_extension": ".py",
   "mimetype": "text/x-python",
   "name": "python",
   "nbconvert_exporter": "python",
   "pygments_lexer": "ipython3",
   "version": "3.9.5"
  },
  "toc": {
   "base_numbering": 1,
   "nav_menu": {},
   "number_sections": true,
   "sideBar": true,
   "skip_h1_title": true,
   "title_cell": "Table of Contents",
   "title_sidebar": "Contents",
   "toc_cell": false,
   "toc_position": {},
   "toc_section_display": true,
   "toc_window_display": false
  }
 },
 "nbformat": 4,
 "nbformat_minor": 1
}
