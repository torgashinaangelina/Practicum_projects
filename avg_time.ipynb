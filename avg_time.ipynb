{
 "cells": [
  {
   "cell_type": "markdown",
   "id": "43bc2cb6",
   "metadata": {},
   "source": [
    "**Ангелина, привет!**\n",
    "\n",
    "Это — Алексей Каргин, рад снова поработать вместе! Я буду проверять проект **Анализ активности пользователей сервиса \"Яндекс Книги\" из Москвы и Санкт-Петербурга**. \n",
    "\n",
    "Всё как всегда — при ревью проекта будут отмечены положительные моменты, акцентировано внимание на возможных улучшениях или рекомендациях.\n",
    "\n",
    "Для удобства я оставлю комментарии в отдельных ячейках Markdown с заголовком «Комментарий ревьюера». Пожалуйста, не перемещай, не изменяй и не удаляй их — так наше общение будет более продуктивным. Я буду использовать цветовую разметку:\n",
    "\n",
    "<div class=\"alert alert-danger\">\n",
    "<b>Комментарий ревьюера</b> \n",
    "    \n",
    "✍ Так выделены самые важные замечания. Без их отработки проект не будет принят. При проверке я обращаю внимание не только на код, но и на интерпретацию и анализ результатов.\n",
    "</div>\n",
    "\n",
    "<div class=\"alert alert-warning\">\n",
    "<b>Комментарий ревьюера</b> \n",
    "    \n",
    "📝 Так выделены небольшие замечания или рекомендации. Постарайся, пожалуйста, учесть эти комментарии в этом проекте или в будущих проектах.\n",
    "</div>\n",
    "\n",
    "<div class=\"alert alert-success\">\n",
    "<b>Комментарий ревьюера</b> \n",
    "    \n",
    "👍 Так выделены все остальные комментарии, включая рекомендации, позитивные моменты или какие-то рассуждения и пояснения.\n",
    "</div>\n",
    "\n",
    "Давай работать над проектом в диалоге: если ты что-то меняешь в проекте или отвечаешь на мои комментарии — пиши об этом. Мне будет легче отследить изменения, если ты выделишь свои комментарии:\n",
    "\n",
    "<div class=\"alert alert-info\"> \n",
    "<b>Комментарий студента</b> \n",
    "    \n",
    "Например, вот так. Также, если есть какие-то вопросы, или что-то осталось непонятным по ревью - спрашивай в таких блоках и я постараюсь дать ответ.\n",
    "</div>\n",
    "\n",
    "---\n",
    "\n",
    "<div class=\"alert alert-success\">\n",
    "<b>Обратная связь v.1</b> \n",
    "    \n",
    "👋 Ангелина, спасибо, что прислала проект! В целом по тесту все хорошо, данные получены верные, то проект может быть принят! Посмотри, пожалуйста, ниже у меня было несколько рекомендаций. Если остались вопросы или комментарии, то их можно передать мне через куратора. \n",
    "    \n",
    "Отличного окончания обучения!\n",
    "    \n",
    "<br>    \n",
    "С наилучшими пожеланиями, <br>\n",
    "Алексей\n",
    "</div>\n",
    "\n",
    "---"
   ]
  },
  {
   "cell_type": "markdown",
   "id": "e06910dd",
   "metadata": {
    "id": "e06910dd"
   },
   "source": [
    "# Анализ среднего времени активности пользователей в Москве и Санкт-Петербурге\n",
    "\n",
    "- Автор: Торгашина Ангелина\n",
    "- Дата: 12.03.2025"
   ]
  },
  {
   "cell_type": "markdown",
   "id": "4149134c",
   "metadata": {
    "id": "4149134c"
   },
   "source": [
    "## Цели и задачи проекта\n",
    "\n",
    "Цель проекта: Проверить статистическую гипотезу о том, что пользователи из Санкт-Петербурга проводят в среднем больше времени за чтением и прослушиванием книг в приложении, чем пользователи из Москвы, и предоставить аналитическую записку с результатами анализа.\n",
    "\n",
    "Задачи проекта:\n",
    "\n",
    "- Загрузить и подготовить данные\n",
    "- Проверить наличие дубликатов в идентификаторах пользователей и обработать их (при необходимости)\n",
    "- Сравнить размеры групп, их статистики и распределение\n",
    "- Проверить гипотезы\n",
    "- Выбрать подходящий тип t-теста для односторонней проверки гипотезы\n",
    "- Определить уровень статистической значимости\n",
    "- Провести t-тест\n",
    "- Получить p-value\n",
    "- Интерпретировать результы и сделать выводы:\n",
    "- Составить аналитическую записку"
   ]
  },
  {
   "cell_type": "markdown",
   "id": "c919c27f",
   "metadata": {},
   "source": [
    "<div class=\"alert alert-success\">\n",
    "<b>Комментарий ревьюера v.1</b> \n",
    "    \n",
    "👍 Отлично! Начало положено, цель понятная, содержит формулировку проверяемой продуктовой гипотезы, перечислены основные задачи. Все по делу.\n",
    "    \n",
    "</div>"
   ]
  },
  {
   "cell_type": "markdown",
   "id": "728986ea",
   "metadata": {
    "id": "728986ea"
   },
   "source": [
    "## Описание данных\n",
    "\n",
    "city - город\n",
    "\n",
    "puid - идентификатор пользователя\n",
    "\n",
    "hours - суммарное количество часов, проведенных пользователем на платформе"
   ]
  },
  {
   "cell_type": "markdown",
   "id": "4fecaf95",
   "metadata": {
    "id": "4fecaf95"
   },
   "source": [
    "## Содержимое проекта\n",
    "\n",
    "1. Загрузка данных и знакомств с ними\n",
    "2. Проверка гипотезы в Python\n",
    "3. Аналитическая записка"
   ]
  },
  {
   "cell_type": "markdown",
   "id": "6f7d21d6",
   "metadata": {
    "id": "6f7d21d6"
   },
   "source": [
    "## 1. Загрузка данных и знакомство с ними\n",
    "\n",
    "Загрузите данные пользователей из Москвы и Санкт-Петербурга c их активностью (суммой часов чтения и прослушивания) из файла `/datasets/yandex_knigi_data.csv`."
   ]
  },
  {
   "cell_type": "code",
   "execution_count": 1,
   "id": "05faf34b",
   "metadata": {
    "id": "05faf34b"
   },
   "outputs": [],
   "source": [
    "import pandas as pd\n",
    "import matplotlib.pyplot as plt\n",
    "import seaborn as sns\n",
    "import scipy.stats as st"
   ]
  },
  {
   "cell_type": "markdown",
   "id": "c93d2925",
   "metadata": {},
   "source": [
    "<div class=\"alert alert-success\">\n",
    "<b>Комментарий ревьюера v.1</b> \n",
    "    \n",
    "👍 Хорошо, когда импорт библиотек в начале проекта — это соответствует стилю [PEP8](https://www.python.org/dev/peps/pep-0008/) и помогает понять, какое окружение необходимо для запуска проекта.\n",
    "\n",
    "</div>"
   ]
  },
  {
   "cell_type": "code",
   "execution_count": 2,
   "id": "ce87c1db",
   "metadata": {
    "id": "ce87c1db"
   },
   "outputs": [],
   "source": [
    "df = pd.read_csv('/datasets/yandex_knigi_data.csv')"
   ]
  },
  {
   "cell_type": "code",
   "execution_count": 3,
   "id": "f68a7419",
   "metadata": {
    "id": "f68a7419",
    "scrolled": false
   },
   "outputs": [
    {
     "data": {
      "text/html": [
       "<div>\n",
       "<style scoped>\n",
       "    .dataframe tbody tr th:only-of-type {\n",
       "        vertical-align: middle;\n",
       "    }\n",
       "\n",
       "    .dataframe tbody tr th {\n",
       "        vertical-align: top;\n",
       "    }\n",
       "\n",
       "    .dataframe thead th {\n",
       "        text-align: right;\n",
       "    }\n",
       "</style>\n",
       "<table border=\"1\" class=\"dataframe\">\n",
       "  <thead>\n",
       "    <tr style=\"text-align: right;\">\n",
       "      <th></th>\n",
       "      <th>Unnamed: 0</th>\n",
       "      <th>city</th>\n",
       "      <th>puid</th>\n",
       "      <th>hours</th>\n",
       "    </tr>\n",
       "  </thead>\n",
       "  <tbody>\n",
       "    <tr>\n",
       "      <th>0</th>\n",
       "      <td>0</td>\n",
       "      <td>Москва</td>\n",
       "      <td>9668</td>\n",
       "      <td>26.167776</td>\n",
       "    </tr>\n",
       "    <tr>\n",
       "      <th>1</th>\n",
       "      <td>1</td>\n",
       "      <td>Москва</td>\n",
       "      <td>16598</td>\n",
       "      <td>82.111217</td>\n",
       "    </tr>\n",
       "    <tr>\n",
       "      <th>2</th>\n",
       "      <td>2</td>\n",
       "      <td>Москва</td>\n",
       "      <td>80401</td>\n",
       "      <td>4.656906</td>\n",
       "    </tr>\n",
       "    <tr>\n",
       "      <th>3</th>\n",
       "      <td>3</td>\n",
       "      <td>Москва</td>\n",
       "      <td>140205</td>\n",
       "      <td>1.840556</td>\n",
       "    </tr>\n",
       "    <tr>\n",
       "      <th>4</th>\n",
       "      <td>4</td>\n",
       "      <td>Москва</td>\n",
       "      <td>248755</td>\n",
       "      <td>151.326434</td>\n",
       "    </tr>\n",
       "  </tbody>\n",
       "</table>\n",
       "</div>"
      ],
      "text/plain": [
       "   Unnamed: 0    city    puid       hours\n",
       "0           0  Москва    9668   26.167776\n",
       "1           1  Москва   16598   82.111217\n",
       "2           2  Москва   80401    4.656906\n",
       "3           3  Москва  140205    1.840556\n",
       "4           4  Москва  248755  151.326434"
      ]
     },
     "execution_count": 3,
     "metadata": {},
     "output_type": "execute_result"
    }
   ],
   "source": [
    "df.head()"
   ]
  },
  {
   "cell_type": "code",
   "execution_count": 4,
   "id": "17ae773b",
   "metadata": {},
   "outputs": [],
   "source": [
    "df = df.drop('Unnamed: 0', axis=1)"
   ]
  },
  {
   "cell_type": "markdown",
   "id": "67ac8d81",
   "metadata": {},
   "source": [
    "<div class=\"alert alert-success\">\n",
    "<b>Комментарий ревьюера v.1</b> \n",
    "    \n",
    "👍 Верно — это поле артефакт после выгрузки данных в csv, оно дублирует индекс. Его лучше удалить, так как оно не позволит найти полные дубликаты строк.\n",
    "\n",
    "</div>"
   ]
  },
  {
   "cell_type": "code",
   "execution_count": 5,
   "id": "d1e5b65a",
   "metadata": {},
   "outputs": [
    {
     "name": "stdout",
     "output_type": "stream",
     "text": [
      "<class 'pandas.core.frame.DataFrame'>\n",
      "RangeIndex: 8784 entries, 0 to 8783\n",
      "Data columns (total 3 columns):\n",
      " #   Column  Non-Null Count  Dtype  \n",
      "---  ------  --------------  -----  \n",
      " 0   city    8784 non-null   object \n",
      " 1   puid    8784 non-null   int64  \n",
      " 2   hours   8784 non-null   float64\n",
      "dtypes: float64(1), int64(1), object(1)\n",
      "memory usage: 206.0+ KB\n"
     ]
    }
   ],
   "source": [
    "df.info()"
   ]
  },
  {
   "cell_type": "code",
   "execution_count": 6,
   "id": "d585a3cb",
   "metadata": {},
   "outputs": [
    {
     "name": "stdout",
     "output_type": "stream",
     "text": [
      "Количество полных дубликатов:0\n"
     ]
    }
   ],
   "source": [
    "df_sorted = df.sort_values(by=df.columns.tolist())\n",
    "quantity_of_dup=df_sorted.duplicated().sum()\n",
    "print(f'Количество полных дубликатов:{quantity_of_dup}')"
   ]
  },
  {
   "cell_type": "code",
   "execution_count": 7,
   "id": "fb40004e",
   "metadata": {},
   "outputs": [
    {
     "name": "stdout",
     "output_type": "stream",
     "text": [
      "Количество дубликатов (одинаковые айди):244\n"
     ]
    }
   ],
   "source": [
    "df_sorted = df.sort_values(by=df.columns.tolist())\n",
    "quantity_of_dup=df_sorted.duplicated(subset='puid').sum()\n",
    "print(f'Количество дубликатов (одинаковые айди):{quantity_of_dup}')"
   ]
  },
  {
   "cell_type": "code",
   "execution_count": 8,
   "id": "339fab90",
   "metadata": {},
   "outputs": [
    {
     "name": "stdout",
     "output_type": "stream",
     "text": [
      "Количество дубликатов (уникальные сочетания айди+город):0\n"
     ]
    }
   ],
   "source": [
    "df_sorted = df.sort_values(by=df.columns.tolist())\n",
    "quantity_of_dup=df_sorted.duplicated(subset=['puid','city']).sum()\n",
    "print(f'Количество дубликатов (уникальные сочетания айди+город):{quantity_of_dup}')"
   ]
  },
  {
   "cell_type": "markdown",
   "id": "41da91e9",
   "metadata": {},
   "source": [
    "промежуточный вывод: пропуски не были найдены. полные дубликаты не были найдены. было обнаружено, что одни и те же пользователи (122 человека) читали, находясь и в Москве, и в Петербурге. однако, проверив уникальные сочетания айди и города обнаруживаем, что дубликатов нет."
   ]
  },
  {
   "cell_type": "markdown",
   "id": "51c04a9f",
   "metadata": {},
   "source": [
    "<div class=\"alert alert-success\">\n",
    "<b>Комментарий ревьюера v.1</b> \n",
    "    \n",
    "👍 Тут все верно по действиям — данные проверены на наличие дубликатов и ошибок. В целом, поскольку тест предполагается делать независимым, то лучше пользователей, которые попали в две группы исключить из выборки полностью. \n",
    "\n",
    "</div>"
   ]
  },
  {
   "cell_type": "code",
   "execution_count": 9,
   "id": "5bbad942",
   "metadata": {},
   "outputs": [
    {
     "data": {
      "text/plain": [
       "count    6234.000000\n",
       "mean       10.881092\n",
       "std        36.851683\n",
       "min         0.000018\n",
       "25%         0.059903\n",
       "50%         0.924498\n",
       "75%         5.939972\n",
       "max       857.209373\n",
       "Name: hours, dtype: float64"
      ]
     },
     "execution_count": 9,
     "metadata": {},
     "output_type": "execute_result"
    }
   ],
   "source": [
    "df[df['city']=='Москва']['hours'].describe() #рассмотрим статистики столбца часы в Москве"
   ]
  },
  {
   "cell_type": "code",
   "execution_count": 10,
   "id": "ebb9d32a",
   "metadata": {},
   "outputs": [
    {
     "data": {
      "text/plain": [
       "count    2550.000000\n",
       "mean       11.592691\n",
       "std        39.704993\n",
       "min         0.000025\n",
       "25%         0.080002\n",
       "50%         0.984781\n",
       "75%         6.509072\n",
       "max       978.764775\n",
       "Name: hours, dtype: float64"
      ]
     },
     "execution_count": 10,
     "metadata": {},
     "output_type": "execute_result"
    }
   ],
   "source": [
    "df[df['city']=='Санкт-Петербург']['hours'].describe() #рассмотрим статистики столбца часы в Санкт-Петербурге"
   ]
  },
  {
   "cell_type": "code",
   "execution_count": 11,
   "id": "552858c9",
   "metadata": {},
   "outputs": [
    {
     "data": {
      "image/png": "[encoded data removed]",
      "text/plain": [
       "<Figure size 720x432 with 1 Axes>"
      ]
     },
     "metadata": {
      "needs_background": "light"
     },
     "output_type": "display_data"
    }
   ],
   "source": [
    "# Создание boxplot с Seaborn\n",
    "plt.figure(figsize=(10, 6))  # Настройка размера графика (опционально)\n",
    "sns.boxplot(x='city', y='hours', data=df, palette='Set2')  # palette для выбора цветов\n",
    "\n",
    "plt.title('Распределение часов активности пользователей по городам (Boxplot)')\n",
    "plt.xlabel('Город')\n",
    "plt.ylabel('Часы активности')\n",
    "\n",
    "plt.show()"
   ]
  },
  {
   "cell_type": "code",
   "execution_count": 12,
   "id": "3ca38d97",
   "metadata": {},
   "outputs": [
    {
     "data": {
      "image/png": "[encoded data removed]",
      "text/plain": [
       "<Figure size 720x432 with 1 Axes>"
      ]
     },
     "metadata": {
      "needs_background": "light"
     },
     "output_type": "display_data"
    }
   ],
   "source": [
    "# Создание boxplot с Seaborn\n",
    "plt.figure(figsize=(10, 6))  # Настройка размера графика (опционально)\n",
    "sns.boxplot(x='city', y='hours', data=df, palette='Set2', showfliers=False)  # palette для выбора цветов\n",
    "\n",
    "plt.title('Распределение часов активности пользователей по городам (Boxplot)')\n",
    "plt.xlabel('Город')\n",
    "plt.ylabel('Часы активности')\n",
    "\n",
    "plt.show()"
   ]
  },
  {
   "cell_type": "markdown",
   "id": "55f7f330",
   "metadata": {},
   "source": [
    "вывод: \n",
    "- после быстрого анализа статистик и распределния можно заметить, что выборки отличаются. в Москве число наблюдений больше, чем в Петербурге почти в 2,5 раза. \n",
    "- однако основные статистики больше в Санкт-Петербурге.\n",
    "- также можем заметить, что распределение данных сопровождается огромным количеством выбросов, что может искажать основные статистики\n",
    "- если рассмотреть эти же данные без выбросов, то видим, что размах и межквартильный разброс выше в Петербурге. в том числе максимум проведенных часов наблюдаем в Санкт-Петербурге."
   ]
  },
  {
   "cell_type": "markdown",
   "id": "ab368cdc",
   "metadata": {},
   "source": [
    "<div class=\"alert alert-success\">\n",
    "<b>Комментарий ревьюера v.1</b> \n",
    "    \n",
    "👍 Отлично! Статистика по городам была изучена верно. Да, в данных есть высокие значения, некоторые из них можно рассматривать как выбросы. Но в подобных случаях всегда будут пользователи, которые больше других покупают, смотрят, слушают и читают. Иногда на них держится продукт. \n",
    "\n",
    "Тут важно сравнить группы между собой - такие высокие значения есть в двух группах, а другие статистические показатели близки. Т.е. в целом группы сходи между собой по величине разброса данных. Однако большая дисперсия будет негативно влиять на результат стат теста — чем меньше различие в средних при большой дисперсии, тем больше необходимо собрать наблюдений, чтобы провести тест с высокой мощностью.\n",
    "\n",
    "\n",
    "</div>"
   ]
  },
  {
   "cell_type": "markdown",
   "id": "956e82e2",
   "metadata": {
    "id": "956e82e2"
   },
   "source": [
    "## 2. Проверка гипотезы в Python\n",
    "\n",
    "Гипотеза звучит так: пользователи из Санкт-Петербурга проводят в среднем больше времени за чтением и прослушиванием книг в приложении, чем пользователи из Москвы. Попробуйте статистически это доказать, используя одностороннюю проверку гипотезы с двумя выборками:\n",
    "\n",
    "- Нулевая гипотеза H₀: Средняя активность пользователей в часах в двух группах (Москва и Санкт-Петербург) не различается.\n",
    "\n",
    "- Альтернативная гипотеза H₁: Средняя активность пользователей в Санкт-Петербурге больше, и это различие статистически значимо."
   ]
  },
  {
   "cell_type": "markdown",
   "id": "b632e6f2",
   "metadata": {},
   "source": [
    "<div class=\"alert alert-warning\">\n",
    "<b>Комментарий ревьюера v.1</b> \n",
    "    \n",
    "📝 При одностороннем тесте в качестве нулевой гипотезы лучше не приводить гипотезу о равенстве, так как одна из групп может быть меньше. Т.е. тут лучше указать такие гипотезы:\n",
    "    \n",
    "**Нулевая гипотеза H₀**: Средняя активность пользователей в Санкт-Петербурге не выше, чем средняя активность пользователей в Москве\n",
    "\n",
    "**Альтернативная гипотеза H₁**: Средняя активность пользователей в Санкт-Петербурге выше, чем средняя активность пользователей в Москве \n",
    "    \n",
    "Т.е. при одностороннем тесте мы проверяем, что одна выборка больше или нет, но это не значит, что выборки равны. Одна группа может показывать стат. значимое снижение метрики. В конце проекта покажу пример.\n",
    "</div>"
   ]
  },
  {
   "cell_type": "code",
   "execution_count": 13,
   "id": "67956690",
   "metadata": {
    "id": "67956690",
    "scrolled": true
   },
   "outputs": [
    {
     "name": "stdout",
     "output_type": "stream",
     "text": [
      "pvalue=0.22\n",
      "P-value больше уровня значимости. Не отвергаем нулевую гипотезу о равенстве средних. Нет статистически значимых различий в средней активности пользователей в часах между группами A и B.\n"
     ]
    }
   ],
   "source": [
    "group_a = df[df['city']=='Москва']['hours']\n",
    "group_b = df[df['city']=='Санкт-Петербург']['hours']\n",
    "\n",
    "statistic, p_value = st.ttest_ind(group_a, group_b, alternative='less', equal_var=False)\n",
    "print(f'pvalue={round(p_value,2)}') # Выведите полученное p-value \n",
    "# Интерпретируем p-value\n",
    "alpha = 0.05  # Уровень значимости \n",
    "if p_value < alpha:\n",
    "    print(\"P-value меньше уровня значимости. Отвергаем нулевую гипотезу о равенстве средних.  Различия в средней активности пользователей в часах между группами A и B статистически значимы.\")\n",
    "else:\n",
    "    print(\"P-value больше уровня значимости. Не отвергаем нулевую гипотезу о равенстве средних. Нет статистически значимых различий в средней активности пользователей в часах между группами A и B.\")"
   ]
  },
  {
   "cell_type": "markdown",
   "id": "94a1d6e0",
   "metadata": {},
   "source": [
    "<div class=\"alert alert-success\">\n",
    "<b>Комментарий ревьюера v.1</b> \n",
    "    \n",
    "👍 Технически тест выполнен корректно. Возможно стоит поменять местами группы в параметрах теста и поставить направление `greater`, чтобы тест больше соответствовал гипотезе, а то получается, что мы проверяем не ту гипотезу, которая была выше, а то, что в Москве средняя активность ниже. Понятно, что результат по смыслу не поменяется, но все же. \n",
    "    \n",
    "Формально по результатам теста мы можем говорить, что среднее время в Москве не ниже, чем в Санкт-Петербурге. Но при таком результате `p-value` (когда оно в диапазоне `0.05-0.95`) мы можем говорить о равенстве средних в двух группах, но если бы `p-value` было бы `больше 0.95` и приближалось бы к единице, тогда о равенстве средних стоит говорить аккуратнее.\n",
    "\n",
    "</div>"
   ]
  },
  {
   "cell_type": "markdown",
   "id": "6953e84c",
   "metadata": {
    "id": "6953e84c"
   },
   "source": [
    "## 3. Аналитическая записка\n",
    "По результатам анализа данных подготовьте аналитическую записку, в которой опишете:\n",
    "\n",
    "- Выбранный тип t-теста и уровень статистической значимости.\n",
    "\n",
    "- Результат теста, или p-value.\n",
    "\n",
    "- Вывод на основе полученного p-value, то есть интерпретацию результатов.\n",
    "\n",
    "- Одну или две возможные причины, объясняющие полученные результаты.\n",
    "\n"
   ]
  },
  {
   "cell_type": "markdown",
   "id": "tDwMKFNGsClr",
   "metadata": {
    "id": "tDwMKFNGsClr"
   },
   "source": [
    "выводы по проекту:\n",
    "- был выбран t-тест Уэлча. хоть и различия в дисперсиях нам известны и не сильно отличаются, вариация этого теста буждет более универсальной.\n",
    "\n",
    "<div class=\"alert alert-warning\">\n",
    "<b>Комментарий ревьюера v.1</b> \n",
    "    \n",
    "📝 Тут осталось не ясным — тест Уэлча лучше использовать, когда было сравнение дисперсий и мы точно знаем, что они различаются. Например, проведи тест Левене https://docs.scipy.org/doc/scipy/reference/generated/scipy.stats.levene.html \n",
    "    \n",
    "В другом случае лучше использовать критерий Стьюдента.\n",
    "   \n",
    "\n",
    "</div>\n",
    "\n",
    "\n",
    "- уровень статистической значимости был выбран на уровне 0.05. этого будет достаточно для выявления статистически значимых отличий в средней активности пользователей в часах.\n",
    "- p-value=0.22, что больше 0.05, это значит, что нет статистически значимых различий в средней активности пользователей в часах между группами из Москвы и Санкт-Петербурга.\n",
    "- хоть и при анализе основых статистик выборок мы видели, что сатистики Санкт-Петербурга больше, тест не обнаружил в них статистическую важность. это логично, так как различия в статистиках несущественно большие."
   ]
  },
  {
   "cell_type": "markdown",
   "id": "e54bcba9",
   "metadata": {},
   "source": [
    "<div class=\"alert alert-success\">\n",
    "<b>Комментарий ревьюера v.1</b> \n",
    "    \n",
    "👍 Выводы верные. Действительно, активность в Санкт-Петербурге не выше, чем в Москве, а при таком `p-value=0.22` можно говорить, что такая же.\n",
    "    \n",
    "</div>"
   ]
  },
  {
   "cell_type": "markdown",
   "id": "0b2b72a9",
   "metadata": {},
   "source": [
    "---\n",
    "\n"
   ]
  },
  {
   "cell_type": "markdown",
   "id": "9a93f606",
   "metadata": {},
   "source": [
    "<div class=\"alert alert-success\">\n",
    "<b>Комментарий ревьюера v.1</b> \n",
    "    \n",
    "👍 В качестве общей информации про равенство стредних при односторонней гипотезе: Могут быть случаи, когда мы проверяем гипотезу, что во второй группе значение выше, но оно может быть меньше (когда мы не знаем результатов и формулируем гипотезы). Тут важно следить за p-value. Если при проверке гипотезы, что метрика выше, мы получаем p-value в диапазоне от 0.05 до 0.95, то выборки равные по средним. А если при проверке гипотезы о том, что значение выше, p-value в диапазоне 0.95 до 1 (приближается), то вторая выборка будет стат. ниже, если бы мы проверяли альтернативную гипотезу, что значение ниже. И тогда мы не можем говорить о равенстве средних, принимая нулевую гипотезу.\n",
    "\n",
    "Давай посмотрим на примере: создадим две выборки `A` и `В`. В `A` среднее ниже, чем в `В`. Проверяем одностороннюю гипотезу, что среднее в `A` выше, чем в `В`.\n",
    "    \n",
    "</div>"
   ]
  },
  {
   "cell_type": "code",
   "execution_count": 14,
   "id": "d56709d4",
   "metadata": {},
   "outputs": [
    {
     "name": "stdout",
     "output_type": "stream",
     "text": [
      "Не отвергаем нулевую гипотезу p_value = 0.9946166372612336\n"
     ]
    }
   ],
   "source": [
    "# Ячейка ревьюера\n",
    "import numpy as np\n",
    "import pandas as pd\n",
    "\n",
    "np.random.seed(42)\n",
    "\n",
    "# Генерация данных — активность в группе А ниже, чем в В\n",
    "a = np.random.normal(loc=100, scale=15, size=5000) \n",
    "b = np.random.normal(loc=101, scale=15, size=5000) \n",
    "\n",
    "# Тест о том, что А выше В, но нулевую гипотезу формулируем, что всегда средние равны: среднее А = среднее В\n",
    "t_stat, p_value = st.ttest_ind(a, b, alternative='greater')\n",
    "print(\"Отвергаем нулевую гипотезу\" if p_value < 0.05 else \"Не отвергаем нулевую гипотезу\", \"p_value =\", p_value)"
   ]
  },
  {
   "cell_type": "markdown",
   "id": "9ddff110",
   "metadata": {},
   "source": [
    "<div class=\"alert alert-success\">\n",
    "<b>Комментарий ревьюера v.1</b> \n",
    "    \n",
    "👍 Понятное дело (по исходным данным), среднее не выше, поэтому не отвергаем нулевую гипотезу. И если бы гипотеза нулевая была бы всегда о равенстве, тогда мы бы сделали вывод — средние в `A` и `В` равны.\n",
    "    \n",
    "Но проверим, обратную гипотезу, что среднее в `А` ниже:\n",
    "    \n",
    "</div>"
   ]
  },
  {
   "cell_type": "code",
   "execution_count": 15,
   "id": "b63ad476",
   "metadata": {},
   "outputs": [
    {
     "name": "stdout",
     "output_type": "stream",
     "text": [
      "Отвергаем нулевую гипотезу p_value = 0.005383364167850398\n"
     ]
    }
   ],
   "source": [
    "# Тест о том, что А ниже В, но нулевую гипотезу формулируем, что всегда средние равны: среднее А = среднее В\n",
    "t_stat, p_value = st.ttest_ind(a, b, equal_var=False, alternative='less')\n",
    "print(\"Отвергаем нулевую гипотезу\" if p_value < 0.05 else \"Не отвергаем нулевую гипотезу\", \"p_value =\", p_value)"
   ]
  },
  {
   "cell_type": "markdown",
   "id": "d85a35d9",
   "metadata": {},
   "source": [
    "<div class=\"alert alert-success\">\n",
    "<b>Комментарий ревьюера v.1</b> \n",
    "    \n",
    "👍 Действительно, среднее в `A` ниже. Поэтому, в примере выше мы могли бы неверно сделать вывод, сказав, что выборки равны по средним. Поэтому, если `p-value` при односторонней проверке оно выше `0.95`, значит получаем противополжный результат и о равенстве средних не можем говорить.\n",
    "    \n",
    "</div>"
   ]
  }
 ],
 "metadata": {
  "ExecuteTimeLog": [
   {
    "duration": 48,
    "start_time": "2025-03-11T20:09:50.387Z"
   },
   {
    "duration": 363,
    "start_time": "2025-03-11T20:09:52.423Z"
   },
   {
    "duration": 28,
    "start_time": "2025-03-11T20:09:52.872Z"
   },
   {
    "duration": 7,
    "start_time": "2025-03-11T20:09:53.315Z"
   },
   {
    "duration": 71,
    "start_time": "2025-03-11T20:10:01.097Z"
   },
   {
    "duration": 18,
    "start_time": "2025-03-11T20:10:01.430Z"
   },
   {
    "duration": 9,
    "start_time": "2025-03-11T20:10:08.268Z"
   },
   {
    "duration": 11,
    "start_time": "2025-03-11T20:10:46.809Z"
   },
   {
    "duration": 8,
    "start_time": "2025-03-11T20:10:59.699Z"
   },
   {
    "duration": 3,
    "start_time": "2025-03-11T20:14:10.150Z"
   },
   {
    "duration": 23,
    "start_time": "2025-03-11T20:14:10.672Z"
   },
   {
    "duration": 7,
    "start_time": "2025-03-11T20:14:11.144Z"
   },
   {
    "duration": 13,
    "start_time": "2025-03-11T20:14:29.903Z"
   },
   {
    "duration": 12,
    "start_time": "2025-03-11T20:14:54.724Z"
   },
   {
    "duration": 8,
    "start_time": "2025-03-11T20:15:01.886Z"
   },
   {
    "duration": 10,
    "start_time": "2025-03-11T20:15:19.452Z"
   },
   {
    "duration": 14,
    "start_time": "2025-03-11T20:21:32.489Z"
   },
   {
    "duration": 13,
    "start_time": "2025-03-11T20:22:06.752Z"
   },
   {
    "duration": 14,
    "start_time": "2025-03-11T20:22:43.949Z"
   },
   {
    "duration": 14,
    "start_time": "2025-03-11T20:22:56.835Z"
   },
   {
    "duration": 18,
    "start_time": "2025-03-11T20:26:13.562Z"
   },
   {
    "duration": 4,
    "start_time": "2025-03-11T20:27:19.474Z"
   },
   {
    "duration": 11,
    "start_time": "2025-03-11T20:27:21.232Z"
   },
   {
    "duration": 14,
    "start_time": "2025-03-11T20:27:23.636Z"
   },
   {
    "duration": 16,
    "start_time": "2025-03-11T20:27:26.738Z"
   },
   {
    "duration": 16,
    "start_time": "2025-03-11T20:28:32.902Z"
   },
   {
    "duration": 17,
    "start_time": "2025-03-11T20:28:57.141Z"
   },
   {
    "duration": 11,
    "start_time": "2025-03-11T20:29:41.218Z"
   },
   {
    "duration": 10,
    "start_time": "2025-03-11T20:29:41.925Z"
   },
   {
    "duration": 10,
    "start_time": "2025-03-11T20:33:41.723Z"
   },
   {
    "duration": 967,
    "start_time": "2025-03-11T20:33:59.528Z"
   },
   {
    "duration": 25,
    "start_time": "2025-03-11T20:34:00.498Z"
   },
   {
    "duration": 8,
    "start_time": "2025-03-11T20:34:00.525Z"
   },
   {
    "duration": 5,
    "start_time": "2025-03-11T20:34:01.362Z"
   },
   {
    "duration": 12,
    "start_time": "2025-03-11T20:34:01.764Z"
   },
   {
    "duration": 13,
    "start_time": "2025-03-11T20:34:02.167Z"
   },
   {
    "duration": 11,
    "start_time": "2025-03-11T20:34:02.956Z"
   },
   {
    "duration": 11,
    "start_time": "2025-03-11T20:34:03.362Z"
   },
   {
    "duration": 3474,
    "start_time": "2025-03-11T20:34:03.814Z"
   },
   {
    "duration": 2103,
    "start_time": "2025-03-11T20:36:34.346Z"
   },
   {
    "duration": 4089,
    "start_time": "2025-03-11T20:36:57.670Z"
   },
   {
    "duration": 4008,
    "start_time": "2025-03-11T20:38:26.968Z"
   },
   {
    "duration": 4226,
    "start_time": "2025-03-11T20:38:40.927Z"
   },
   {
    "duration": 4017,
    "start_time": "2025-03-11T20:38:52.563Z"
   },
   {
    "duration": 4144,
    "start_time": "2025-03-11T20:39:04.238Z"
   },
   {
    "duration": 4049,
    "start_time": "2025-03-11T20:40:02.730Z"
   },
   {
    "duration": 4104,
    "start_time": "2025-03-11T20:41:10.909Z"
   },
   {
    "duration": 4053,
    "start_time": "2025-03-11T20:41:30.806Z"
   },
   {
    "duration": 11,
    "start_time": "2025-03-11T20:48:10.744Z"
   },
   {
    "duration": 143,
    "start_time": "2025-03-11T21:00:40.987Z"
   },
   {
    "duration": 143,
    "start_time": "2025-03-11T21:05:21.932Z"
   },
   {
    "duration": 139,
    "start_time": "2025-03-11T21:05:36.684Z"
   },
   {
    "duration": 12,
    "start_time": "2025-03-11T21:10:02.160Z"
   },
   {
    "duration": 12,
    "start_time": "2025-03-11T21:10:54.101Z"
   },
   {
    "duration": 13,
    "start_time": "2025-03-11T21:11:10.876Z"
   },
   {
    "duration": 1257,
    "start_time": "2025-03-12T08:54:59.176Z"
   },
   {
    "duration": 35,
    "start_time": "2025-03-12T08:55:00.435Z"
   },
   {
    "duration": 31,
    "start_time": "2025-03-12T08:55:00.472Z"
   },
   {
    "duration": 18,
    "start_time": "2025-03-12T08:55:00.504Z"
   },
   {
    "duration": 33,
    "start_time": "2025-03-12T08:55:00.523Z"
   },
   {
    "duration": 40,
    "start_time": "2025-03-12T08:55:00.558Z"
   },
   {
    "duration": 18,
    "start_time": "2025-03-12T08:55:00.599Z"
   },
   {
    "duration": 22,
    "start_time": "2025-03-12T08:55:00.618Z"
   },
   {
    "duration": 14,
    "start_time": "2025-03-12T08:55:00.641Z"
   },
   {
    "duration": 9,
    "start_time": "2025-03-12T08:55:00.657Z"
   },
   {
    "duration": 164,
    "start_time": "2025-03-12T08:55:00.668Z"
   },
   {
    "duration": 144,
    "start_time": "2025-03-12T08:55:00.836Z"
   },
   {
    "duration": 106,
    "start_time": "2025-03-12T12:05:09.924Z"
   },
   {
    "duration": 68,
    "start_time": "2025-03-12T12:06:24.880Z"
   },
   {
    "duration": 78,
    "start_time": "2025-03-12T12:06:51.969Z"
   },
   {
    "duration": 3,
    "start_time": "2025-03-12T12:06:59.131Z"
   },
   {
    "duration": 13,
    "start_time": "2025-03-12T12:07:05.834Z"
   },
   {
    "duration": 3,
    "start_time": "2025-03-12T12:07:19.426Z"
   },
   {
    "duration": 3,
    "start_time": "2025-03-12T12:08:37.257Z"
   },
   {
    "duration": 9,
    "start_time": "2025-03-12T12:08:44.464Z"
   },
   {
    "duration": 8,
    "start_time": "2025-03-12T12:10:10.799Z"
   },
   {
    "duration": 10,
    "start_time": "2025-03-12T12:50:08.835Z"
   },
   {
    "duration": 1295,
    "start_time": "2025-03-12T12:55:34.940Z"
   },
   {
    "duration": 36,
    "start_time": "2025-03-12T12:55:36.237Z"
   },
   {
    "duration": 11,
    "start_time": "2025-03-12T12:55:36.275Z"
   },
   {
    "duration": 4,
    "start_time": "2025-03-12T12:55:36.288Z"
   },
   {
    "duration": 12,
    "start_time": "2025-03-12T12:55:36.294Z"
   },
   {
    "duration": 28,
    "start_time": "2025-03-12T12:55:36.307Z"
   },
   {
    "duration": 11,
    "start_time": "2025-03-12T12:55:36.337Z"
   },
   {
    "duration": 13,
    "start_time": "2025-03-12T12:55:36.350Z"
   },
   {
    "duration": 10,
    "start_time": "2025-03-12T12:55:36.365Z"
   },
   {
    "duration": 11,
    "start_time": "2025-03-12T12:55:36.376Z"
   },
   {
    "duration": 182,
    "start_time": "2025-03-12T12:55:36.389Z"
   },
   {
    "duration": 154,
    "start_time": "2025-03-12T12:55:36.573Z"
   },
   {
    "duration": 10,
    "start_time": "2025-03-12T12:55:36.729Z"
   },
   {
    "duration": 1531,
    "start_time": "2025-03-13T05:40:45.722Z"
   },
   {
    "duration": 36,
    "start_time": "2025-03-13T05:40:47.256Z"
   },
   {
    "duration": 14,
    "start_time": "2025-03-13T05:40:47.294Z"
   },
   {
    "duration": 8,
    "start_time": "2025-03-13T05:40:47.309Z"
   },
   {
    "duration": 13,
    "start_time": "2025-03-13T05:40:47.320Z"
   },
   {
    "duration": 13,
    "start_time": "2025-03-13T05:40:47.335Z"
   },
   {
    "duration": 11,
    "start_time": "2025-03-13T05:40:47.350Z"
   },
   {
    "duration": 13,
    "start_time": "2025-03-13T05:40:47.362Z"
   },
   {
    "duration": 43,
    "start_time": "2025-03-13T05:40:47.376Z"
   },
   {
    "duration": 11,
    "start_time": "2025-03-13T05:40:47.420Z"
   },
   {
    "duration": 181,
    "start_time": "2025-03-13T05:40:47.432Z"
   },
   {
    "duration": 159,
    "start_time": "2025-03-13T05:40:47.615Z"
   },
   {
    "duration": 10,
    "start_time": "2025-03-13T05:40:47.777Z"
   },
   {
    "duration": 35,
    "start_time": "2025-03-13T05:43:13.125Z"
   },
   {
    "duration": 1159,
    "start_time": "2025-03-13T06:30:43.674Z"
   },
   {
    "duration": 26,
    "start_time": "2025-03-13T06:30:44.835Z"
   },
   {
    "duration": 12,
    "start_time": "2025-03-13T06:30:44.862Z"
   },
   {
    "duration": 3,
    "start_time": "2025-03-13T06:30:44.876Z"
   },
   {
    "duration": 11,
    "start_time": "2025-03-13T06:30:44.881Z"
   },
   {
    "duration": 25,
    "start_time": "2025-03-13T06:30:44.894Z"
   },
   {
    "duration": 11,
    "start_time": "2025-03-13T06:30:44.921Z"
   },
   {
    "duration": 12,
    "start_time": "2025-03-13T06:30:44.933Z"
   },
   {
    "duration": 9,
    "start_time": "2025-03-13T06:30:44.947Z"
   },
   {
    "duration": 9,
    "start_time": "2025-03-13T06:30:44.959Z"
   },
   {
    "duration": 218,
    "start_time": "2025-03-13T06:30:44.969Z"
   },
   {
    "duration": 156,
    "start_time": "2025-03-13T06:30:45.189Z"
   },
   {
    "duration": 9,
    "start_time": "2025-03-13T06:30:45.347Z"
   },
   {
    "duration": 107,
    "start_time": "2025-03-13T06:39:49.729Z"
   },
   {
    "duration": 6,
    "start_time": "2025-03-13T06:40:00.999Z"
   },
   {
    "duration": 6,
    "start_time": "2025-03-13T06:40:05.383Z"
   },
   {
    "duration": 10,
    "start_time": "2025-03-13T06:40:30.771Z"
   },
   {
    "duration": 6,
    "start_time": "2025-03-13T06:40:34.184Z"
   },
   {
    "duration": 1189,
    "start_time": "2025-03-13T06:42:17.460Z"
   },
   {
    "duration": 25,
    "start_time": "2025-03-13T06:42:18.651Z"
   },
   {
    "duration": 11,
    "start_time": "2025-03-13T06:42:18.677Z"
   },
   {
    "duration": 65,
    "start_time": "2025-03-13T06:42:18.691Z"
   },
   {
    "duration": 17,
    "start_time": "2025-03-13T06:42:18.757Z"
   },
   {
    "duration": 14,
    "start_time": "2025-03-13T06:42:18.775Z"
   },
   {
    "duration": 11,
    "start_time": "2025-03-13T06:42:18.790Z"
   },
   {
    "duration": 16,
    "start_time": "2025-03-13T06:42:18.803Z"
   },
   {
    "duration": 12,
    "start_time": "2025-03-13T06:42:18.821Z"
   },
   {
    "duration": 10,
    "start_time": "2025-03-13T06:42:18.836Z"
   },
   {
    "duration": 190,
    "start_time": "2025-03-13T06:42:18.847Z"
   },
   {
    "duration": 169,
    "start_time": "2025-03-13T06:42:19.039Z"
   },
   {
    "duration": 10,
    "start_time": "2025-03-13T06:42:19.213Z"
   },
   {
    "duration": 44,
    "start_time": "2025-03-13T06:42:19.224Z"
   },
   {
    "duration": 22,
    "start_time": "2025-03-13T06:42:19.270Z"
   }
  ],
  "colab": {
   "provenance": []
  },
  "kernelspec": {
   "display_name": "Python 3 (ipykernel)",
   "language": "python",
   "name": "python3"
  },
  "language_info": {
   "codemirror_mode": {
    "name": "ipython",
    "version": 3
   },
   "file_extension": ".py",
   "mimetype": "text/x-python",
   "name": "python",
   "nbconvert_exporter": "python",
   "pygments_lexer": "ipython3",
   "version": "3.9.5"
  },
  "toc": {
   "base_numbering": 1,
   "nav_menu": {},
   "number_sections": true,
   "sideBar": true,
   "skip_h1_title": true,
   "title_cell": "Table of Contents",
   "title_sidebar": "Contents",
   "toc_cell": false,
   "toc_position": {},
   "toc_section_display": true,
   "toc_window_display": false
  }
 },
 "nbformat": 4,
 "nbformat_minor": 5
}
