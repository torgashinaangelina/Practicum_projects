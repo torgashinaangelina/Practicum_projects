{
 "cells": [
  {
   "cell_type": "markdown",
   "id": "4d25dbea",
   "metadata": {},
   "source": [
    "<font color='DarkBlue' size=+2><b>Комментарий ревьюера</b></font><br>\n",
    "<font color='DarkBlue'>Привет, Ангелина! <br>Меня зовут Олег Мазуренко, и я буду проверять этот проект. Спасибо за проделанную работу! <br>Ко мне можно обращаться на «ты». Как мне обращаться, напиши.</font><br>\n",
    "<font color='DarkBlue'>Я буду использовать различные цвета, чтобы было удобнее воспринимать мои комментарии:</font><br>\n",
    "<font color='DarkBlue'>Синий текст &mdash; просто текст комментария.</font><br>\n",
    "<font color='DarkGreen'>👌 Зеленый текст &mdash; все отлично.</font><br>\n",
    "<font color='DarkMagenta'>👉 Фиолетовый текст &mdash; сделано все правильно, однако есть рекомендации, на что стоит обратить внимание. Реализованные рекомендации позволят нам наработать опыт решения задачи разными способами или посмотреть на задачу под иным углом.</font><br>\n",
    "<font color='Red'>🛠 Красный текст &mdash; есть недочеты, они иногда бывают. </font><br><font color='DarkBlue'>Любая ошибка это возможность посмотреть на задачу с другой стороны и освоить новые знания, по этому не надо расстраиваться, если они есть.</font><br>\n",
    "<font color='DarkBlue'>Обращаю внимание, что комментарии ревьюера после проверки удалять нельзя они помогают отследить логику исправления или изменения проекта. Это дополнительный навык при обучении. Свой исправляемый код лучше тоже не удалять, а ремить #, это позволит акцентировать изменения в ходе подготовки окончательного варианта проекта.<br>\n",
    "Ответы на мои комментарии лучше тоже помечать. \n",
    "Например: </font><font color='Blue'><b>Комментарий студента</b></font><br>\n",
    "<font color='DarkBlue'><b>Теперь посмотрим, что у нас получилось!</b></font>"
   ]
  },
  {
   "cell_type": "markdown",
   "id": "e06910dd",
   "metadata": {
    "id": "e06910dd"
   },
   "source": [
    "# Развитие игровой индустрии с 2000 по 2013 год\n",
    "\n",
    "- Автор: Торгашина Ангелина\n",
    "- Дата: 04.12.2024"
   ]
  },
  {
   "cell_type": "markdown",
   "id": "4149134c",
   "metadata": {
    "id": "4149134c"
   },
   "source": [
    "### Цели и задачи проекта\n",
    "\n",
    "<font color='#777778'>Изучить данные, выявить пропуски и дубликаты, очистить данные, скорректировать типы данных, провести категоризацию.</font>"
   ]
  },
  {
   "cell_type": "markdown",
   "id": "728986ea",
   "metadata": {
    "id": "728986ea"
   },
   "source": [
    "### Описание данных\n",
    "\n",
    "<font color='#777778'>Данные /datasets/new_games.csv содержат информацию о продажах игр разных жанров и платформ, а также пользовательские и экспертные оценки игр:\n",
    "\n",
    "Name — название игры.\n",
    "\n",
    "Platform — название платформы.\n",
    "\n",
    "Year of Release — год выпуска игры.\n",
    "\n",
    "Genre — жанр игры.\n",
    "\n",
    "NA sales — продажи в Северной Америке (в миллионах проданных копий).\n",
    "\n",
    "EU sales — продажи в Европе (в миллионах проданных копий).\n",
    "\n",
    "JP sales — продажи в Японии (в миллионах проданных копий).\n",
    "\n",
    "Other sales — продажи в других странах (в миллионах проданных копий).\n",
    "\n",
    "Critic Score — оценка критиков (от 0 до 100).\n",
    "\n",
    "User Score — оценка пользователей (от 0 до 10).\n",
    "\n",
    "Rating — рейтинг организации ESRB.</font>"
   ]
  },
  {
   "cell_type": "markdown",
   "id": "4fecaf95",
   "metadata": {
    "id": "4fecaf95"
   },
   "source": [
    "### Содержимое проекта\n",
    "\n",
    "<font color='#777778'>1. Загрузка данных и знакомство с ними\n",
    "2. Проверка ошибок в данных и их предобработка\n",
    "2.1. Названия, или метки, столбцов датафрейма\n",
    "2.2. Типы данных\n",
    "2.3. Наличие пропусков в данных\n",
    "2.4. Явные и неявные дубликаты в данных\n",
    "3. Фильтрация данных\n",
    "4. Категоризация данных\n",
    "5. Итоговый вывод\n",
    "</font>\n",
    "\n",
    "---"
   ]
  },
  {
   "cell_type": "markdown",
   "id": "75bee0c5",
   "metadata": {},
   "source": [
    "<font color='DarkBlue'><b>Комментарий ревьюера</b></font><br>\n",
    "<font color='DarkGreen'>👌 Хорошо, сделано описание проекта. 👍 Оно помогает определиться над дальнейшей работой над проектом.</font>"
   ]
  },
  {
   "cell_type": "markdown",
   "id": "6f7d21d6",
   "metadata": {
    "id": "6f7d21d6"
   },
   "source": [
    "## 1. Загрузка данных и знакомство с ними\n",
    "\n",
    "- Загрузите необходимые библиотеки Python и данные датасета `/datasets/new_games.csv`.\n"
   ]
  },
  {
   "cell_type": "code",
   "execution_count": 1,
   "id": "ebb66dc5",
   "metadata": {
    "id": "ebb66dc5"
   },
   "outputs": [],
   "source": [
    "import pandas as pd"
   ]
  },
  {
   "cell_type": "code",
   "execution_count": 2,
   "id": "fe5d49ad",
   "metadata": {},
   "outputs": [],
   "source": [
    "df=pd.read_csv('/datasets/new_games.csv')"
   ]
  },
  {
   "cell_type": "markdown",
   "id": "811ff42b",
   "metadata": {},
   "source": [
    "<font color='DarkBlue'><b>Комментарий ревьюера</b></font><br>\n",
    "<font color='DarkMagenta'>👉 Лучше разделять по разным ячейкам загрузку библиотек и датасета.</font>"
   ]
  },
  {
   "cell_type": "markdown",
   "id": "e0a8705f",
   "metadata": {
    "id": "e0a8705f"
   },
   "source": [
    "- Познакомьтесь с данными: выведите первые строки и результат метода `info()`.\n"
   ]
  },
  {
   "cell_type": "code",
   "execution_count": 3,
   "id": "3937acf7",
   "metadata": {
    "id": "3937acf7"
   },
   "outputs": [
    {
     "data": {
      "text/html": [
       "<div>\n",
       "<style scoped>\n",
       "    .dataframe tbody tr th:only-of-type {\n",
       "        vertical-align: middle;\n",
       "    }\n",
       "\n",
       "    .dataframe tbody tr th {\n",
       "        vertical-align: top;\n",
       "    }\n",
       "\n",
       "    .dataframe thead th {\n",
       "        text-align: right;\n",
       "    }\n",
       "</style>\n",
       "<table border=\"1\" class=\"dataframe\">\n",
       "  <thead>\n",
       "    <tr style=\"text-align: right;\">\n",
       "      <th></th>\n",
       "      <th>Name</th>\n",
       "      <th>Platform</th>\n",
       "      <th>Year of Release</th>\n",
       "      <th>Genre</th>\n",
       "      <th>NA sales</th>\n",
       "      <th>EU sales</th>\n",
       "      <th>JP sales</th>\n",
       "      <th>Other sales</th>\n",
       "      <th>Critic Score</th>\n",
       "      <th>User Score</th>\n",
       "      <th>Rating</th>\n",
       "    </tr>\n",
       "  </thead>\n",
       "  <tbody>\n",
       "    <tr>\n",
       "      <th>0</th>\n",
       "      <td>Wii Sports</td>\n",
       "      <td>Wii</td>\n",
       "      <td>2006.0</td>\n",
       "      <td>Sports</td>\n",
       "      <td>41.36</td>\n",
       "      <td>28.96</td>\n",
       "      <td>3.77</td>\n",
       "      <td>8.45</td>\n",
       "      <td>76.0</td>\n",
       "      <td>8</td>\n",
       "      <td>E</td>\n",
       "    </tr>\n",
       "    <tr>\n",
       "      <th>1</th>\n",
       "      <td>Super Mario Bros.</td>\n",
       "      <td>NES</td>\n",
       "      <td>1985.0</td>\n",
       "      <td>Platform</td>\n",
       "      <td>29.08</td>\n",
       "      <td>3.58</td>\n",
       "      <td>6.81</td>\n",
       "      <td>0.77</td>\n",
       "      <td>NaN</td>\n",
       "      <td>NaN</td>\n",
       "      <td>NaN</td>\n",
       "    </tr>\n",
       "    <tr>\n",
       "      <th>2</th>\n",
       "      <td>Mario Kart Wii</td>\n",
       "      <td>Wii</td>\n",
       "      <td>2008.0</td>\n",
       "      <td>Racing</td>\n",
       "      <td>15.68</td>\n",
       "      <td>12.76</td>\n",
       "      <td>3.79</td>\n",
       "      <td>3.29</td>\n",
       "      <td>82.0</td>\n",
       "      <td>8.3</td>\n",
       "      <td>E</td>\n",
       "    </tr>\n",
       "    <tr>\n",
       "      <th>3</th>\n",
       "      <td>Wii Sports Resort</td>\n",
       "      <td>Wii</td>\n",
       "      <td>2009.0</td>\n",
       "      <td>Sports</td>\n",
       "      <td>15.61</td>\n",
       "      <td>10.93</td>\n",
       "      <td>3.28</td>\n",
       "      <td>2.95</td>\n",
       "      <td>80.0</td>\n",
       "      <td>8</td>\n",
       "      <td>E</td>\n",
       "    </tr>\n",
       "    <tr>\n",
       "      <th>4</th>\n",
       "      <td>Pokemon Red/Pokemon Blue</td>\n",
       "      <td>GB</td>\n",
       "      <td>1996.0</td>\n",
       "      <td>Role-Playing</td>\n",
       "      <td>11.27</td>\n",
       "      <td>8.89</td>\n",
       "      <td>10.22</td>\n",
       "      <td>1.00</td>\n",
       "      <td>NaN</td>\n",
       "      <td>NaN</td>\n",
       "      <td>NaN</td>\n",
       "    </tr>\n",
       "  </tbody>\n",
       "</table>\n",
       "</div>"
      ],
      "text/plain": [
       "                       Name Platform  Year of Release         Genre  NA sales  \\\n",
       "0                Wii Sports      Wii           2006.0        Sports     41.36   \n",
       "1         Super Mario Bros.      NES           1985.0      Platform     29.08   \n",
       "2            Mario Kart Wii      Wii           2008.0        Racing     15.68   \n",
       "3         Wii Sports Resort      Wii           2009.0        Sports     15.61   \n",
       "4  Pokemon Red/Pokemon Blue       GB           1996.0  Role-Playing     11.27   \n",
       "\n",
       "  EU sales JP sales  Other sales  Critic Score User Score Rating  \n",
       "0    28.96     3.77         8.45          76.0          8      E  \n",
       "1     3.58     6.81         0.77           NaN        NaN    NaN  \n",
       "2    12.76     3.79         3.29          82.0        8.3      E  \n",
       "3    10.93     3.28         2.95          80.0          8      E  \n",
       "4     8.89    10.22         1.00           NaN        NaN    NaN  "
      ]
     },
     "execution_count": 3,
     "metadata": {},
     "output_type": "execute_result"
    }
   ],
   "source": [
    "df.head()"
   ]
  },
  {
   "cell_type": "markdown",
   "id": "3189e775",
   "metadata": {},
   "source": [
    "<font color='DarkBlue'><b>Комментарий ревьюера</b></font><br>\n",
    "<font color='DarkMagenta'>👉 Использование функции print() не позволяет вывести содержимое таблицы в виде удобном для анализа. Если имя таблицы находится в последней строке, исполняемой ячейки, то не нужны ни какие функции, в том числе и display(). Если выводим таблицу в середине ячейки (например, в теле цикла или функции), то используем display(). Рекомендация данная в тренажере относится к учебной платформе, в которой есть определенные ограничения, а тут эти функции в последней строке ячейки не нужны.</font><br>\n",
    "<font color='DarkGreen'>👌 Вот пример:</font>"
   ]
  },
  {
   "cell_type": "code",
   "execution_count": 4,
   "id": "8688a864",
   "metadata": {},
   "outputs": [
    {
     "data": {
      "text/html": [
       "<div>\n",
       "<style scoped>\n",
       "    .dataframe tbody tr th:only-of-type {\n",
       "        vertical-align: middle;\n",
       "    }\n",
       "\n",
       "    .dataframe tbody tr th {\n",
       "        vertical-align: top;\n",
       "    }\n",
       "\n",
       "    .dataframe thead th {\n",
       "        text-align: right;\n",
       "    }\n",
       "</style>\n",
       "<table border=\"1\" class=\"dataframe\">\n",
       "  <thead>\n",
       "    <tr style=\"text-align: right;\">\n",
       "      <th></th>\n",
       "      <th>Name</th>\n",
       "      <th>Platform</th>\n",
       "      <th>Year of Release</th>\n",
       "      <th>Genre</th>\n",
       "      <th>NA sales</th>\n",
       "      <th>EU sales</th>\n",
       "      <th>JP sales</th>\n",
       "      <th>Other sales</th>\n",
       "      <th>Critic Score</th>\n",
       "      <th>User Score</th>\n",
       "      <th>Rating</th>\n",
       "    </tr>\n",
       "  </thead>\n",
       "  <tbody>\n",
       "    <tr>\n",
       "      <th>0</th>\n",
       "      <td>Wii Sports</td>\n",
       "      <td>Wii</td>\n",
       "      <td>2006.0</td>\n",
       "      <td>Sports</td>\n",
       "      <td>41.36</td>\n",
       "      <td>28.96</td>\n",
       "      <td>3.77</td>\n",
       "      <td>8.45</td>\n",
       "      <td>76.0</td>\n",
       "      <td>8</td>\n",
       "      <td>E</td>\n",
       "    </tr>\n",
       "    <tr>\n",
       "      <th>1</th>\n",
       "      <td>Super Mario Bros.</td>\n",
       "      <td>NES</td>\n",
       "      <td>1985.0</td>\n",
       "      <td>Platform</td>\n",
       "      <td>29.08</td>\n",
       "      <td>3.58</td>\n",
       "      <td>6.81</td>\n",
       "      <td>0.77</td>\n",
       "      <td>NaN</td>\n",
       "      <td>NaN</td>\n",
       "      <td>NaN</td>\n",
       "    </tr>\n",
       "    <tr>\n",
       "      <th>2</th>\n",
       "      <td>Mario Kart Wii</td>\n",
       "      <td>Wii</td>\n",
       "      <td>2008.0</td>\n",
       "      <td>Racing</td>\n",
       "      <td>15.68</td>\n",
       "      <td>12.76</td>\n",
       "      <td>3.79</td>\n",
       "      <td>3.29</td>\n",
       "      <td>82.0</td>\n",
       "      <td>8.3</td>\n",
       "      <td>E</td>\n",
       "    </tr>\n",
       "    <tr>\n",
       "      <th>3</th>\n",
       "      <td>Wii Sports Resort</td>\n",
       "      <td>Wii</td>\n",
       "      <td>2009.0</td>\n",
       "      <td>Sports</td>\n",
       "      <td>15.61</td>\n",
       "      <td>10.93</td>\n",
       "      <td>3.28</td>\n",
       "      <td>2.95</td>\n",
       "      <td>80.0</td>\n",
       "      <td>8</td>\n",
       "      <td>E</td>\n",
       "    </tr>\n",
       "    <tr>\n",
       "      <th>4</th>\n",
       "      <td>Pokemon Red/Pokemon Blue</td>\n",
       "      <td>GB</td>\n",
       "      <td>1996.0</td>\n",
       "      <td>Role-Playing</td>\n",
       "      <td>11.27</td>\n",
       "      <td>8.89</td>\n",
       "      <td>10.22</td>\n",
       "      <td>1.00</td>\n",
       "      <td>NaN</td>\n",
       "      <td>NaN</td>\n",
       "      <td>NaN</td>\n",
       "    </tr>\n",
       "  </tbody>\n",
       "</table>\n",
       "</div>"
      ],
      "text/plain": [
       "                       Name Platform  Year of Release         Genre  NA sales  \\\n",
       "0                Wii Sports      Wii           2006.0        Sports     41.36   \n",
       "1         Super Mario Bros.      NES           1985.0      Platform     29.08   \n",
       "2            Mario Kart Wii      Wii           2008.0        Racing     15.68   \n",
       "3         Wii Sports Resort      Wii           2009.0        Sports     15.61   \n",
       "4  Pokemon Red/Pokemon Blue       GB           1996.0  Role-Playing     11.27   \n",
       "\n",
       "  EU sales JP sales  Other sales  Critic Score User Score Rating  \n",
       "0    28.96     3.77         8.45          76.0          8      E  \n",
       "1     3.58     6.81         0.77           NaN        NaN    NaN  \n",
       "2    12.76     3.79         3.29          82.0        8.3      E  \n",
       "3    10.93     3.28         2.95          80.0          8      E  \n",
       "4     8.89    10.22         1.00           NaN        NaN    NaN  "
      ]
     },
     "execution_count": 4,
     "metadata": {},
     "output_type": "execute_result"
    }
   ],
   "source": [
    "# Комментарий ревьюера\n",
    "df.head()"
   ]
  },
  {
   "cell_type": "code",
   "execution_count": 5,
   "id": "d7c8eb4b",
   "metadata": {
    "id": "d7c8eb4b"
   },
   "outputs": [
    {
     "name": "stdout",
     "output_type": "stream",
     "text": [
      "<class 'pandas.core.frame.DataFrame'>\n",
      "RangeIndex: 16956 entries, 0 to 16955\n",
      "Data columns (total 11 columns):\n",
      " #   Column           Non-Null Count  Dtype  \n",
      "---  ------           --------------  -----  \n",
      " 0   Name             16954 non-null  object \n",
      " 1   Platform         16956 non-null  object \n",
      " 2   Year of Release  16681 non-null  float64\n",
      " 3   Genre            16954 non-null  object \n",
      " 4   NA sales         16956 non-null  float64\n",
      " 5   EU sales         16956 non-null  object \n",
      " 6   JP sales         16956 non-null  object \n",
      " 7   Other sales      16956 non-null  float64\n",
      " 8   Critic Score     8242 non-null   float64\n",
      " 9   User Score       10152 non-null  object \n",
      " 10  Rating           10085 non-null  object \n",
      "dtypes: float64(4), object(7)\n",
      "memory usage: 1.4+ MB\n"
     ]
    }
   ],
   "source": [
    "df.info()"
   ]
  },
  {
   "cell_type": "markdown",
   "id": "26267bc0",
   "metadata": {
    "id": "26267bc0"
   },
   "source": [
    "- данные состоят из 11 столбцов и 16956 строк. они соответсвуют описанию. в 3 последних столбцах наблюдается значительное отсутсвие данных, не все типы данных подходят по смыслу.\n",
    "- название столбцов лучше перевести в змеиный регистр, чтобы столбцы воспринимались лучше, а не сливались в один список слов."
   ]
  },
  {
   "cell_type": "markdown",
   "id": "f9be5d7b",
   "metadata": {},
   "source": [
    "<font color='DarkBlue'><b>Комментарий ревьюера</b></font><br>\n",
    "<font color='DarkGreen'>👌 Хорошо, исследовали общую информацию о датасетах.</font>"
   ]
  },
  {
   "cell_type": "markdown",
   "id": "774bf76e",
   "metadata": {
    "id": "774bf76e"
   },
   "source": [
    "---\n",
    "\n",
    "## 2.  Проверка ошибок в данных и их предобработка\n",
    "\n",
    "\n",
    "### 2.1. Названия, или метки, столбцов датафрейма\n",
    "\n",
    "- как было замечено ранее, стиль написания столбцов не очень удобен в работе с датафреймом, поэтому его нужно перевести к другому виду."
   ]
  },
  {
   "cell_type": "code",
   "execution_count": 6,
   "id": "b9276a2b",
   "metadata": {
    "id": "b9276a2b"
   },
   "outputs": [
    {
     "name": "stdout",
     "output_type": "stream",
     "text": [
      "Index(['Name', 'Platform', 'Year of Release', 'Genre', 'NA sales', 'EU sales',\n",
      "       'JP sales', 'Other sales', 'Critic Score', 'User Score', 'Rating'],\n",
      "      dtype='object')\n"
     ]
    }
   ],
   "source": [
    "columns_camel = df.columns\n",
    "print(columns_camel)\n"
   ]
  },
  {
   "cell_type": "markdown",
   "id": "2a3e72f4",
   "metadata": {},
   "source": [
    "- приводим все столбцы к снейк-кейс, чтобы названия не сливались в одну строку."
   ]
  },
  {
   "cell_type": "code",
   "execution_count": 7,
   "id": "d554563c",
   "metadata": {
    "id": "d554563c"
   },
   "outputs": [
    {
     "name": "stdout",
     "output_type": "stream",
     "text": [
      "Index(['name', 'platform', 'year_of_release', 'genre', 'na_sales', 'eu_sales',\n",
      "       'jp_sales', 'other_sales', 'critic_score', 'user_score', 'rating'],\n",
      "      dtype='object')\n"
     ]
    }
   ],
   "source": [
    "columns_snake=df.columns.str.lower().str.replace(' ', '_')\n",
    "df.columns=columns_snake\n",
    "print(df.columns)"
   ]
  },
  {
   "cell_type": "markdown",
   "id": "dba1e6a6",
   "metadata": {},
   "source": [
    "<font color='DarkBlue'><b>Комментарий ревьюера</b></font><br>\n",
    "<font color='DarkGreen'>👌 Молодец! Приводим названия столбцов к общепринятому стилю и не используем длинный словарь для переименования названий столбцов! 😉 </font><br>\n",
    "<font color='DarkMagenta'>👉 Можно все это сделать без цикла в одну строчку кода `.columns.str.lower().str.replace(' ', '_')`. См.код ниже.</font>"
   ]
  },
  {
   "cell_type": "code",
   "execution_count": 8,
   "id": "5af17909",
   "metadata": {},
   "outputs": [
    {
     "data": {
      "text/plain": [
       "Index(['Name', 'Platform', 'Year of Release', 'Genre', 'NA sales', 'EU sales',\n",
       "       'JP sales', 'Other sales', 'Critic Score', 'User Score', 'Rating'],\n",
       "      dtype='object')"
      ]
     },
     "metadata": {},
     "output_type": "display_data"
    },
    {
     "data": {
      "text/plain": [
       "Index(['name', 'platform', 'year_of_release', 'genre', 'na_sales', 'eu_sales',\n",
       "       'jp_sales', 'other_sales', 'critic_score', 'user_score', 'rating'],\n",
       "      dtype='object')"
      ]
     },
     "execution_count": 8,
     "metadata": {},
     "output_type": "execute_result"
    }
   ],
   "source": [
    "# Комментарий ревьюера\n",
    "temp = pd.read_csv('https://code.s3.yandex.net/datasets/new_games.csv')  # Загружаем копию датасета прямо с Сервера\n",
    "display(temp.columns)                                                    # Проверяем названия столбцов\n",
    "temp.columns = temp.columns.str.lower().str.replace(' ', '_')            # Обрабатываем названия столбцов\n",
    "temp.columns  "
   ]
  },
  {
   "cell_type": "markdown",
   "id": "41bc6bf8",
   "metadata": {
    "id": "41bc6bf8"
   },
   "source": [
    "### 2.2. Типы данных\n",
    "\n",
    "- типы данных могут не соответствовать реальности, так как пандас автоматически присвоил им тип после загрузки CSV-файла.\n",
    "- сначала приведем год выхода к типу времени."
   ]
  },
  {
   "cell_type": "code",
   "execution_count": 9,
   "id": "8adaac81",
   "metadata": {
    "id": "8adaac81"
   },
   "outputs": [],
   "source": [
    "df['year_of_release']=pd.to_datetime(df['year_of_release'], format='%Y')"
   ]
  },
  {
   "cell_type": "markdown",
   "id": "45e963f5",
   "metadata": {},
   "source": [
    "<font color='DarkBlue'><b>Комментарий ревьюера</b></font><br>\n",
    "<font color='DarkMagenta'>👉 Не понятно, зачем переводим в дату? Проще было в тип `int`, перед этим удалив пропуски, и памяти меньше занимает.</font>"
   ]
  },
  {
   "cell_type": "code",
   "execution_count": 10,
   "id": "49906a52",
   "metadata": {},
   "outputs": [
    {
     "data": {
      "text/plain": [
       "array(['28.96', '3.58', '12.76', '10.93', '8.89', '2.26', '9.14', '9.18',\n",
       "       '6.94', '0.63', '10.95', '7.47', '6.18', '8.03', '4.89', '8.49',\n",
       "       '9.09', '0.4', '3.75', '9.2', '4.46', '2.71', '3.44', '5.14',\n",
       "       '5.49', '3.9', '5.35', '3.17', '5.09', '4.24', '5.04', '5.86',\n",
       "       '3.68', '4.19', '5.73', '3.59', '4.51', '2.55', '4.02', '4.37',\n",
       "       '6.31', '3.45', '2.81', '2.85', '3.49', '0.01', '3.35', '2.04',\n",
       "       '3.07', '3.87', '3.0', '4.82', '3.64', '2.15', '3.69', '2.65',\n",
       "       '2.56', '3.11', '3.14', '1.94', '1.95', '2.47', '2.28', '3.42',\n",
       "       '3.63', '2.36', '1.71', '1.85', '2.79', '1.24', '6.12', '1.53',\n",
       "       '3.47', '2.24', '5.01', '2.01', '1.72', '2.07', '6.42', '3.86',\n",
       "       '0.45', '3.48', '1.89', '5.75', '2.17', '1.37', '2.35', '1.18',\n",
       "       '2.11', '1.88', '2.83', '2.99', '2.89', '3.27', '2.22', '2.14',\n",
       "       '1.45', '1.75', '1.04', '1.77', '3.02', '2.75', '2.16', '1.9',\n",
       "       '2.59', '2.2', '4.3', '0.93', '2.53', '2.52', '1.79', '1.3', '2.6',\n",
       "       '1.58', '1.2', '1.56', '1.34', '1.26', '0.83', '6.21', '2.8',\n",
       "       '1.59', '1.73', '4.33', '1.83', '0.0', '2.18', '1.98', '1.47',\n",
       "       '0.67', '1.55', '1.91', '0.69', '0.6', '1.93', '1.64', '0.55',\n",
       "       '2.19', '1.11', '2.29', '2.5', '0.96', '1.21', '1.12', '0.77',\n",
       "       '1.69', '1.08', '0.79', '2.37', '2.46', '0.26', '0.75', '1.25',\n",
       "       '2.43', '0.98', '0.74', '2.23', '0.61', '2.45', '1.41', '1.8',\n",
       "       '3.28', '1.16', '1.99', '1.38', '1.36', '1.17', '1.19', '0.99',\n",
       "       '1.68', '2.0', '1.33', '1.57', '1.48', '2.1', '1.27', '1.97',\n",
       "       '0.91', '1.39', '1.96', '0.24', '1.51', '0.14', '1.29', '2.39',\n",
       "       '1.03', '0.5', '0.58', '1.31', '2.02', '1.32', '1.01', '2.27',\n",
       "       '2.3', '1.82', '2.78', '0.44', '0.48', '0.27', '0.21', '2.48',\n",
       "       '0.51', '1.52', '0.04', '0.28', '1.35', '0.87', '2.13', '1.13',\n",
       "       '1.76', '0.76', '2.12', '0.66', '1.6', '1.44', '1.43', '1.7',\n",
       "       '0.47', '1.87', '0.86', '0.73', '1.28', '0.81', '1.09', '0.68',\n",
       "       '1.22', '1.4', '1.02', '1.49', '1.14', '0.49', '0.9', '0.38',\n",
       "       '1.42', '0.95', '1.62', '0.71', '1.05', '0.92', '0.33', '0.3',\n",
       "       '1.67', '1.0', '0.89', '0.1', '0.72', '0.59', '0.56', '0.16',\n",
       "       '0.97', '0.62', 'unknown', '0.85', '0.94', '0.88', '0.84', '1.06',\n",
       "       '0.2', '1.15', '0.8', '1.1', '0.7', '1.92', '0.32', '0.15', '0.53',\n",
       "       '0.09', '1.46', '0.29', '0.22', '1.23', '0.07', '0.17', '0.54',\n",
       "       '0.36', '0.31', '1.84', '0.52', '0.11', '0.64', '0.12', '2.05',\n",
       "       '1.63', '0.82', '0.08', '0.57', '1.65', '0.19', '0.02', '0.43',\n",
       "       '0.25', '1.5', '0.18', '0.39', '0.13', '1.07', '0.46', '0.41',\n",
       "       '0.06', '0.03', '0.37', '0.05', '0.23', '0.65', '0.42', '0.34',\n",
       "       '0.35', '0.78'], dtype=object)"
      ]
     },
     "execution_count": 10,
     "metadata": {},
     "output_type": "execute_result"
    }
   ],
   "source": [
    "df['eu_sales'].unique()"
   ]
  },
  {
   "cell_type": "code",
   "execution_count": 11,
   "id": "f171c650",
   "metadata": {},
   "outputs": [
    {
     "data": {
      "text/plain": [
       "array(['3.77', '6.81', '3.79', '3.28', '10.22', '4.22', '6.5', '2.93',\n",
       "       '4.7', '0.28', '1.93', '4.13', '7.2', '3.6', '0.24', '2.53',\n",
       "       '0.98', '0.41', '3.54', '4.16', '6.04', '4.18', '3.84', '0.06',\n",
       "       '0.47', '5.38', '5.32', '5.65', '1.87', '0.13', '3.12', '0.36',\n",
       "       '0.11', '4.35', '0.65', '0.07', '0.08', '0.49', '0.3', '2.66',\n",
       "       '2.69', '0.48', '0.38', '5.33', '1.91', '3.96', '3.1', '1.1',\n",
       "       '1.2', '0.14', '2.54', '2.14', '0.81', '2.12', '0.44', '3.15',\n",
       "       '1.25', '0.04', '0.0', '2.47', '2.23', '1.69', '0.01', '3.0',\n",
       "       '0.02', '4.39', '1.98', '0.1', '3.81', '0.05', '2.49', '1.58',\n",
       "       '3.14', '2.73', '0.66', '0.22', '3.63', '1.45', '1.31', '2.43',\n",
       "       '0.7', '0.35', '1.4', '0.6', '2.26', '1.42', '1.28', '1.39',\n",
       "       '0.87', '0.17', '0.94', '0.19', '0.21', '1.6', '0.16', '1.03',\n",
       "       '0.25', '2.06', '1.49', '1.29', '0.09', '2.87', '0.03', '0.78',\n",
       "       '0.83', '2.33', '2.02', '1.36', '1.81', '1.97', '0.91', '0.99',\n",
       "       '0.95', '2.0', '1.01', '2.78', '2.11', '1.09', '0.2', '1.9',\n",
       "       '1.27', '3.61', '1.57', '2.2', '1.7', '1.08', '0.15', '1.11',\n",
       "       '0.29', '1.54', '0.12', '0.89', '4.87', '1.52', '1.32', '1.15',\n",
       "       '4.1', '1.46', '0.46', '1.05', '1.61', '0.26', '1.38', '0.62',\n",
       "       '0.73', '0.57', '0.31', '0.58', '1.76', '2.1', '0.9', '0.51',\n",
       "       '0.64', '2.46', '0.23', '0.37', '0.92', '1.07', '2.62', '1.12',\n",
       "       '0.54', '0.27', '0.59', '3.67', '0.55', '1.75', '3.44', '0.33',\n",
       "       '2.55', '2.32', '2.79', '0.74', '3.18', '0.82', '0.77', '0.4',\n",
       "       '2.35', '3.19', '0.8', '0.76', '3.03', '0.88', 'unknown', '0.45',\n",
       "       '1.16', '0.34', '1.19', '1.13', '2.13', '1.96', '0.71', '1.04',\n",
       "       '2.68', '0.68', '2.65', '0.96', '2.41', '0.52', '0.18', '1.34',\n",
       "       '1.48', '2.34', '1.06', '1.21', '2.29', '1.63', '2.05', '2.17',\n",
       "       '1.56', '1.35', '1.33', '0.63', '0.79', '0.75', '0.53', '1.53',\n",
       "       '1.3', '0.39', '0.69', '0.42', '0.93', '0.56', '0.84', '0.72',\n",
       "       '0.32', '1.71', '1.65', '0.61', '1.51', '1.5', '1.44', '1.24',\n",
       "       '1.18', '1.37', '1.0', '1.26', '0.85', '0.43', '0.67', '1.14',\n",
       "       '0.86', '1.17', '0.5', '1.02', '0.97'], dtype=object)"
      ]
     },
     "execution_count": 11,
     "metadata": {},
     "output_type": "execute_result"
    }
   ],
   "source": [
    "df['jp_sales'].unique()"
   ]
  },
  {
   "cell_type": "code",
   "execution_count": 12,
   "id": "479a2386",
   "metadata": {},
   "outputs": [
    {
     "data": {
      "text/plain": [
       "array(['8', nan, '8.3', '8.5', '6.6', '8.4', '8.6', '7.7', '6.3', '7.4',\n",
       "       '8.2', '9', '7.9', '8.1', '8.7', '7.1', '3.4', '5.3', '4.8', '3.2',\n",
       "       '8.9', '6.4', '7.8', '7.5', '2.6', '7.2', '9.2', '7', '7.3', '4.3',\n",
       "       '7.6', '5.7', '5', '9.1', '6.5', 'tbd', '8.8', '6.9', '9.4', '6.8',\n",
       "       '6.1', '6.7', '5.4', '4', '4.9', '4.5', '9.3', '6.2', '4.2', '6',\n",
       "       '3.7', '4.1', '5.8', '5.6', '5.5', '4.4', '4.6', '5.9', '3.9',\n",
       "       '3.1', '2.9', '5.2', '3.3', '4.7', '5.1', '3.5', '2.5', '1.9', '3',\n",
       "       '2.7', '2.2', '2', '9.5', '2.1', '3.6', '2.8', '1.8', '3.8', '0',\n",
       "       '1.6', '9.6', '2.4', '1.7', '1.1', '0.3', '1.5', '0.7', '1.2',\n",
       "       '2.3', '0.5', '1.3', '0.2', '0.6', '1.4', '0.9', '1', '9.7'],\n",
       "      dtype=object)"
      ]
     },
     "execution_count": 12,
     "metadata": {},
     "output_type": "execute_result"
    }
   ],
   "source": [
    "df['user_score'].unique()"
   ]
  },
  {
   "cell_type": "markdown",
   "id": "29b91779",
   "metadata": {},
   "source": [
    "<b>Комментарий студента</b></font><br>\n",
    "почему-то сегодня уникальные значения по этим 3 столбцам выводятся нормально, хотя вчера были значения типа \"2.0097е+89000\", \" .7\" и подобное. хотя сегодня с самого начала все нормально....\n",
    "\n",
    "после небольшого анализа числовых данных, которые были представлены в виде типа object, можно увидеть, что в некоторых столбцах встречаются строковые значения 'unknown', 'tbd'. именно поэтому пандас перевел всю серию в тип object."
   ]
  },
  {
   "cell_type": "markdown",
   "id": "5398cccd",
   "metadata": {},
   "source": [
    "<font color='DarkBlue'><b>Комментарий ревьюера</b></font><br>\n",
    "<font color='Red'>🛠 Следовало сделать анализ и выяснить, почему числовые данные имеют не числовой тип данных. Для этого следует вывести уникальные значения по таким столбцам и написать вывод.</font>"
   ]
  },
  {
   "cell_type": "code",
   "execution_count": 13,
   "id": "e8412c01",
   "metadata": {
    "id": "e8412c01"
   },
   "outputs": [],
   "source": [
    "for column in ['eu_sales', 'jp_sales', 'user_score']:\n",
    "    df[column]=pd.to_numeric(df[column], errors='coerce')"
   ]
  },
  {
   "cell_type": "markdown",
   "id": "bba84f6a",
   "metadata": {},
   "source": [
    "<font color='DarkBlue'><b>Комментарий ревьюера</b></font><br>\n",
    "<font color='DarkGreen'>👌 Хорошо, преобразовали типы данных.</font><br>\n",
    "<font color='DarkMagenta'>👉 Следовало сделать проверку преобразования типов данных, для этого можно использовать метод `.dtypes`.</font>"
   ]
  },
  {
   "cell_type": "markdown",
   "id": "63378edf",
   "metadata": {
    "id": "63378edf"
   },
   "source": [
    "- затем преобразуем числовые значения в корректный тип."
   ]
  },
  {
   "cell_type": "markdown",
   "id": "b39893cb",
   "metadata": {
    "id": "b39893cb"
   },
   "source": [
    "### 2.3. Наличие пропусков в данных"
   ]
  },
  {
   "cell_type": "markdown",
   "id": "4d58d91b",
   "metadata": {},
   "source": [
    "<font color='DarkBlue'><b>Комментарий ревьюера</b></font><br>\n",
    "<font color='DarkMagenta'>👉 Лучше перед обработкой данных делать контроль размера датасета до и после обработки. Примерно вот так:</font>"
   ]
  },
  {
   "cell_type": "code",
   "execution_count": 14,
   "id": "08a41aa2",
   "metadata": {},
   "outputs": [
    {
     "data": {
      "text/plain": [
       "16956"
      ]
     },
     "execution_count": 14,
     "metadata": {},
     "output_type": "execute_result"
    }
   ],
   "source": [
    "# Комментарий ревьюера\n",
    "tmp = df.copy() # создаем копию датасета до преобразования\n",
    "len(tmp)"
   ]
  },
  {
   "cell_type": "code",
   "execution_count": 15,
   "id": "47c90ca3",
   "metadata": {},
   "outputs": [],
   "source": [
    "initial_row_count = df.shape[0] #количество строк до всех удалений пропусков и дубликатов"
   ]
  },
  {
   "cell_type": "code",
   "execution_count": 16,
   "id": "0f1c91a8",
   "metadata": {
    "id": "0f1c91a8"
   },
   "outputs": [
    {
     "data": {
      "text/plain": [
       "name                  2\n",
       "platform              0\n",
       "year_of_release     275\n",
       "genre                 2\n",
       "na_sales              0\n",
       "eu_sales              6\n",
       "jp_sales              4\n",
       "other_sales           0\n",
       "critic_score       8714\n",
       "user_score         9268\n",
       "rating             6871\n",
       "dtype: int64"
      ]
     },
     "execution_count": 16,
     "metadata": {},
     "output_type": "execute_result"
    }
   ],
   "source": [
    "# количество пропусков в абсолютном значении\n",
    "df.isna().sum()"
   ]
  },
  {
   "cell_type": "code",
   "execution_count": 17,
   "id": "86cd1cc1",
   "metadata": {
    "id": "86cd1cc1"
   },
   "outputs": [
    {
     "data": {
      "text/plain": [
       "name               0.000118\n",
       "platform           0.000000\n",
       "year_of_release    0.016218\n",
       "genre              0.000118\n",
       "na_sales           0.000000\n",
       "eu_sales           0.000354\n",
       "jp_sales           0.000236\n",
       "other_sales        0.000000\n",
       "critic_score       0.513918\n",
       "user_score         0.546591\n",
       "rating             0.405225\n",
       "dtype: float64"
      ]
     },
     "execution_count": 17,
     "metadata": {},
     "output_type": "execute_result"
    }
   ],
   "source": [
    "# количесвто пропусков в относительном значении\n",
    "df.isna().sum() / len(df)"
   ]
  },
  {
   "cell_type": "markdown",
   "id": "1a09d492",
   "metadata": {
    "id": "bd69e642"
   },
   "source": [
    "пропуски характерны для столбцов с продажами и рейтингом. что касается столбцов о продажах, отсутвие данных может быть связано с отсутсвием продаж в определенных странах, так как количество пропуск незначительное. что касается рейтингов, в них отсутсвует почти или более половины значений. возможно, это связано с тем, что данные были утеряны, либо пользователям и критикам не было предложено оценить игры, либо тогда таких типов рейтинга не существовало."
   ]
  },
  {
   "cell_type": "markdown",
   "id": "6fa3f48b",
   "metadata": {
    "id": "b6965b19"
   },
   "source": [
    "столбцы с названиями и жанрами не будут сильно важны по ходу исследования данных, поэтому эти пропуски можно проигнорировать. \n",
    "\n",
    "информация о годе выхода очень важна для нас, но процент пропусков в этом столбце составляет чуть более 1%, поэтому этот столбец тоже можно удалить. \n",
    "\n",
    "однако пропуски в столбцах с рейтингом составляют от 40 до 55%. такое большое количество данных нельзя так просто удалять, поэтому их можно вынести в отдельную категорию с пометкой об отсутвии данных."
   ]
  },
  {
   "cell_type": "markdown",
   "id": "3f7e0af8",
   "metadata": {
    "id": "cc2d1374"
   },
   "source": [
    "что касается данных о названиях игр, возможно, эти данные были случайно утеряны. названия игр и жанры не так важны, поэтому их можно эти пропуски удалить. "
   ]
  },
  {
   "cell_type": "markdown",
   "id": "1cef49ea",
   "metadata": {},
   "source": [
    "<font color='DarkBlue'><b>Комментарий ревьюера</b></font><br>\n",
    "<font color='DarkGreen'>👌 Правильно сделан анализ пропусков в абсолютных и относительных значениях и промежуточный вывод с предположением по обработке пропусков.</font>"
   ]
  },
  {
   "cell_type": "code",
   "execution_count": 18,
   "id": "154be65d",
   "metadata": {
    "id": "154be65d"
   },
   "outputs": [],
   "source": [
    "for column in ['critic_score','user_score']:\n",
    "    df[column] = df[column].fillna(-1)\n",
    "df['rating'] = df['rating'].fillna('no data')"
   ]
  },
  {
   "cell_type": "markdown",
   "id": "b59cef3a",
   "metadata": {},
   "source": [
    "<font color='DarkBlue'><b>Комментарий ревьюера</b></font><br>\n",
    "<font color='DarkGreen'>👌 Хорошо, заменили пропуски в отзывах значением-индикатором (заглушкой).</font><br>\n",
    "<font color='DarkGreen'>👌 Правильно поставлена заглушка (значение-индикатор) на пропуски в колонке рейтинга. Если посмотреть в интернете, что такое рейтинг ESRB, то узнаем, что это рейтинг для США и Канады. А значит пропуск не связан с ошибкой заполнения данных, просто не только для Северной Америки выпускаются игры.</font><br>\n",
    "<font color='DarkMagenta'>👉 Не очень хорошо вставлять числовую заглушку в колонку рейтинга, когда данные в колонке строковые. Не корректно смешивать разные типы данных в одной колонке.</font>"
   ]
  },
  {
   "cell_type": "code",
   "execution_count": 19,
   "id": "3f42817b",
   "metadata": {
    "id": "3f42817b"
   },
   "outputs": [],
   "source": [
    "df=df.dropna(subset=['year_of_release','eu_sales', 'jp_sales'])"
   ]
  },
  {
   "cell_type": "markdown",
   "id": "4d428fca",
   "metadata": {},
   "source": [
    "<font color='DarkBlue'><b>Комментарий ревьюера</b></font><br>\n",
    "<font color='DarkGreen'>👌 Хорошо, что удалили пропуски в году релиза игр. В принципе этм пропуски можно было бы восстановить из инета, но эта задача в данном проекте не стоит.</font><br>\n",
    "<font color='DarkMagenta'>👉 В задании Брифа рекомендовано заменить пропуски в продажах средним значением по платформе и году релиза.</font>"
   ]
  },
  {
   "cell_type": "markdown",
   "id": "a63363fd",
   "metadata": {
    "id": "a63363fd"
   },
   "source": [
    "### 2.4. Явные и неявные дубликаты в данных\n",
    "\n",
    "-проверим категориальные данные, где могут оказаться дубликаты."
   ]
  },
  {
   "cell_type": "code",
   "execution_count": 20,
   "id": "491c9c39",
   "metadata": {
    "id": "491c9c39"
   },
   "outputs": [
    {
     "name": "stdout",
     "output_type": "stream",
     "text": [
      "['Sports' 'Platform' 'Racing' 'Role-Playing' 'Puzzle' 'Misc' 'Shooter'\n",
      " 'Simulation' 'Action' 'Fighting' 'Adventure' 'Strategy' nan 'MISC'\n",
      " 'ROLE-PLAYING' 'RACING' 'ACTION' 'SHOOTER' 'FIGHTING' 'SPORTS' 'PLATFORM'\n",
      " 'ADVENTURE' 'SIMULATION' 'PUZZLE' 'STRATEGY']\n",
      "['Wii' 'NES' 'GB' 'DS' 'X360' 'PS3' 'PS2' 'SNES' 'GBA' 'PS4' '3DS' 'N64'\n",
      " 'PS' 'XB' 'PC' '2600' 'PSP' 'XOne' 'WiiU' 'GC' 'GEN' 'DC' 'PSV' 'SAT'\n",
      " 'SCD' 'WS' 'NG' 'TG16' '3DO' 'GG' 'PCFX']\n",
      "['E' 'no data' 'M' 'T' 'E10+' 'K-A' 'AO' 'EC' 'RP']\n",
      "['2006-01-01T00:00:00.000000000' '1985-01-01T00:00:00.000000000'\n",
      " '2008-01-01T00:00:00.000000000' '2009-01-01T00:00:00.000000000'\n",
      " '1996-01-01T00:00:00.000000000' '1989-01-01T00:00:00.000000000'\n",
      " '1984-01-01T00:00:00.000000000' '2005-01-01T00:00:00.000000000'\n",
      " '1999-01-01T00:00:00.000000000' '2007-01-01T00:00:00.000000000'\n",
      " '2010-01-01T00:00:00.000000000' '2013-01-01T00:00:00.000000000'\n",
      " '2004-01-01T00:00:00.000000000' '1990-01-01T00:00:00.000000000'\n",
      " '1988-01-01T00:00:00.000000000' '2002-01-01T00:00:00.000000000'\n",
      " '2001-01-01T00:00:00.000000000' '2011-01-01T00:00:00.000000000'\n",
      " '1998-01-01T00:00:00.000000000' '2015-01-01T00:00:00.000000000'\n",
      " '2012-01-01T00:00:00.000000000' '2014-01-01T00:00:00.000000000'\n",
      " '1992-01-01T00:00:00.000000000' '1997-01-01T00:00:00.000000000'\n",
      " '1993-01-01T00:00:00.000000000' '1994-01-01T00:00:00.000000000'\n",
      " '1982-01-01T00:00:00.000000000' '2016-01-01T00:00:00.000000000'\n",
      " '2003-01-01T00:00:00.000000000' '1986-01-01T00:00:00.000000000'\n",
      " '2000-01-01T00:00:00.000000000' '1995-01-01T00:00:00.000000000'\n",
      " '1991-01-01T00:00:00.000000000' '1981-01-01T00:00:00.000000000'\n",
      " '1987-01-01T00:00:00.000000000' '1980-01-01T00:00:00.000000000'\n",
      " '1983-01-01T00:00:00.000000000']\n"
     ]
    }
   ],
   "source": [
    "for column in ['genre', 'platform', 'rating', 'year_of_release']:\n",
    "    un=df[column].unique()\n",
    "    print(un)"
   ]
  },
  {
   "cell_type": "markdown",
   "id": "28791e1a",
   "metadata": {},
   "source": [
    "<font color='DarkBlue'><b>Комментарий ревьюера</b></font><br>\n",
    "<font color='DarkGreen'>👌 Хорошо, сделали проверку уникальных значений в столбцах с категориальными данными.</font>"
   ]
  },
  {
   "cell_type": "markdown",
   "id": "1c14fee3",
   "metadata": {},
   "source": [
    "- можно увидеть, что в столбце с названиями жанров уникальными значениями являются одни и те же значения в разных регистрах. приведем данные к одному регистру, чтобы избежать дублирования категорий."
   ]
  },
  {
   "cell_type": "code",
   "execution_count": 21,
   "id": "f1627198",
   "metadata": {
    "id": "f1627198"
   },
   "outputs": [],
   "source": [
    "df['genre']=df['genre'].str.lower()"
   ]
  },
  {
   "cell_type": "markdown",
   "id": "22f7ba4b",
   "metadata": {},
   "source": [
    "<font color='DarkBlue'><b>Комментарий ревьюера</b></font><br>\n",
    "<font color='DarkGreen'>👌 Правильно сделано преобразование жанров, тем самым удалены неявные дубликаты.</font>"
   ]
  },
  {
   "cell_type": "code",
   "execution_count": 22,
   "id": "a0cac80c",
   "metadata": {
    "id": "a0cac80c"
   },
   "outputs": [
    {
     "data": {
      "text/plain": [
       "array(['sports', 'platform', 'racing', 'role-playing', 'puzzle', 'misc',\n",
       "       'shooter', 'simulation', 'action', 'fighting', 'adventure',\n",
       "       'strategy', nan], dtype=object)"
      ]
     },
     "execution_count": 22,
     "metadata": {},
     "output_type": "execute_result"
    }
   ],
   "source": [
    "df['genre'].unique()"
   ]
  },
  {
   "cell_type": "markdown",
   "id": "ce0a88db",
   "metadata": {},
   "source": [
    "<font color='DarkBlue'><b>Комментарий ревьюера</b></font><br>\n",
    "<font color='DarkGreen'>👌 Правильно, что сделана проверка названий жанров после преобразования.</font>"
   ]
  },
  {
   "cell_type": "markdown",
   "id": "fc3d3db4",
   "metadata": {
    "id": "fc3d3db4"
   },
   "source": [
    "- проверим явные дубликаты."
   ]
  },
  {
   "cell_type": "code",
   "execution_count": 23,
   "id": "fc5c91b5",
   "metadata": {
    "id": "fc5c91b5"
   },
   "outputs": [
    {
     "name": "stdout",
     "output_type": "stream",
     "text": [
      "Уникальных игр: 11422, Всего строк: 16671\n"
     ]
    }
   ],
   "source": [
    "print(f'Уникальных игр: {df[\"name\"].nunique()}, Всего строк: {len(df)}')"
   ]
  },
  {
   "cell_type": "code",
   "execution_count": 24,
   "id": "2f61e076",
   "metadata": {
    "id": "2f61e076"
   },
   "outputs": [
    {
     "name": "stdout",
     "output_type": "stream",
     "text": [
      "Количество дубликатов:235\n"
     ]
    }
   ],
   "source": [
    "df_sorted = df.sort_values(by=df.columns.tolist())\n",
    "duplicates = df_sorted[df_sorted.duplicated(keep=False)]\n",
    "quantity_of_dup=df.duplicated().sum()\n",
    "print(f'Количество дубликатов:{quantity_of_dup}')"
   ]
  },
  {
   "cell_type": "markdown",
   "id": "8d78b136",
   "metadata": {},
   "source": [
    "- одинаковых строк намного меньше, чем одинаковых названий игр. такое могло произойти, потому что одни и те же игры могли выходить на разных платформах."
   ]
  },
  {
   "cell_type": "code",
   "execution_count": 25,
   "id": "29e57705",
   "metadata": {
    "id": "29e57705"
   },
   "outputs": [
    {
     "name": "stdout",
     "output_type": "stream",
     "text": [
      "Количество строк до удаления пропусков и дубликатов: 16956\n",
      "Количество строк после удаления пропусков и дубликатов: 16436\n",
      "Количество удаленных строк: 520\n",
      "Процент удаленных строк: 3.1%\n"
     ]
    }
   ],
   "source": [
    "df_sorted = df.sort_values(by=list(df.columns))\n",
    "\n",
    "df_no_duplicates = df_sorted.drop_duplicates()\n",
    "final_row_count = df_no_duplicates.shape[0]\n",
    "\n",
    "print(f\"Количество строк до удаления пропусков и дубликатов: {initial_row_count}\")\n",
    "print(f\"Количество строк после удаления пропусков и дубликатов: {final_row_count}\")\n",
    "print(f\"Количество удаленных строк: {initial_row_count-final_row_count}\")\n",
    "print(f\"Процент удаленных строк: {round((initial_row_count-final_row_count)/initial_row_count,3)*100}%\")"
   ]
  },
  {
   "cell_type": "markdown",
   "id": "732daef8",
   "metadata": {},
   "source": [
    "<font color='DarkBlue'><b>Комментарий ревьюера</b></font><br>\n",
    "<font color='DarkGreen'>👌 Хорошо, что удалены явные дубликаты, в дальнейшем они искажают результаты анализа.</font>\n",
    "<br>\n",
    "<font color='DarkMagenta'>👉 Только зачем создавать новый датасет. Мы загрузили изначально таблицу `df` и последовательно проводим ее обработку, а потом из нее будем создавать датасет актуального периода.</font>"
   ]
  },
  {
   "cell_type": "markdown",
   "id": "54616bae",
   "metadata": {
    "id": "54616bae"
   },
   "source": [
    "- неявные дубликаты были распознаны и изменены без удаления данных. явные дубликаты-строки были удалены, так как полностью совпадали и не несли никакой ценной информации."
   ]
  },
  {
   "cell_type": "markdown",
   "id": "47613d75",
   "metadata": {
    "id": "47613d75"
   },
   "source": [
    "вывод: в ходе предобработки данных были выявлены пропуски и дубликаты. 295 пропусков было удалено, так как либо этих пропусков в некоторых столбцах слишком мало, чтобы их заменять, либо пропуски были заменены на индексы, которые означают отсутсвие данных. \n",
    "некоторые дубликаты были устранены без удаления (приведение к единому регистру сведений о жанрах), остальные 235 пропусков были удалены,  так как не были информативны."
   ]
  },
  {
   "cell_type": "markdown",
   "id": "530e9fd8",
   "metadata": {},
   "source": [
    "<font color='DarkBlue'><b>Комментарий ревьюера</b></font><br>\n",
    "<font color='DarkGreen'>👌 Хорошо, сделали предобработку данных, сделали проверку.</font>"
   ]
  },
  {
   "cell_type": "code",
   "execution_count": 26,
   "id": "375ba046",
   "metadata": {},
   "outputs": [
    {
     "name": "stdout",
     "output_type": "stream",
     "text": [
      " Было строк в исходном датасете 16956 \n",
      " Осталось строк в датасете после обработки 16436 \n",
      " Удалено строк в датасете после обработки 520 \n",
      " Процент потерь 3.07\n"
     ]
    }
   ],
   "source": [
    "# Комментарий ревьюера\n",
    "# Проверим сколько удалено строк датасета\n",
    "a, b = len(tmp), len(df_no_duplicates)\n",
    "print(\" Было строк в исходном датасете\", a,\n",
    "      '\\n', \"Осталось строк в датасете после обработки\", b,\n",
    "      '\\n', \"Удалено строк в датасете после обработки\", a-b,\n",
    "      '\\n', \"Процент потерь\", round((a-b)/a*100, 2))"
   ]
  },
  {
   "cell_type": "markdown",
   "id": "613f0eb0",
   "metadata": {
    "id": "613f0eb0"
   },
   "source": [
    "---\n",
    "\n",
    "## 3. Фильтрация данных\n",
    "\n",
    "отфильтруем данные и оставим сведения об играх только за 2000-2013 года. новый датафрейм сохраним в переменную df_actual."
   ]
  },
  {
   "cell_type": "code",
   "execution_count": 27,
   "id": "2344916d",
   "metadata": {
    "id": "2344916d"
   },
   "outputs": [
    {
     "name": "stdout",
     "output_type": "stream",
     "text": [
      "      year_of_release                          name platform         genre  \\\n",
      "0          2013-01-01          Frozen: Olaf's Quest      3DS      platform   \n",
      "1          2013-01-01          Frozen: Olaf's Quest       DS      platform   \n",
      "2          2012-01-01             Tales of Xillia 2      PS3  role-playing   \n",
      "3          2006-01-01    .hack//G.U. Vol.1//Rebirth      PS2  role-playing   \n",
      "4          2006-01-01  .hack//G.U. Vol.2//Reminisce      PS2  role-playing   \n",
      "...               ...                           ...      ...           ...   \n",
      "13347      2011-01-01    thinkSMART: Chess for Kids       DS          misc   \n",
      "13348      2010-01-01                  uDraw Studio      Wii          misc   \n",
      "13349      2011-01-01  uDraw Studio: Instant Artist      Wii          misc   \n",
      "13350      2011-01-01  uDraw Studio: Instant Artist     X360          misc   \n",
      "13351      2007-01-01  ¡Shin Chan Flipa en colores!       DS      platform   \n",
      "\n",
      "       na_sales  eu_sales  jp_sales  other_sales  critic_score  user_score  \\\n",
      "0          0.27      0.27      0.00         0.05          -1.0        -1.0   \n",
      "1          0.21      0.26      0.00         0.04          -1.0        -1.0   \n",
      "2          0.20      0.12      0.45         0.07          71.0         7.9   \n",
      "3          0.00      0.00      0.17         0.00          -1.0        -1.0   \n",
      "4          0.11      0.09      0.00         0.03          -1.0        -1.0   \n",
      "...         ...       ...       ...          ...           ...         ...   \n",
      "13347      0.01      0.00      0.00         0.00          -1.0        -1.0   \n",
      "13348      1.65      0.57      0.00         0.20          71.0        -1.0   \n",
      "13349      0.06      0.09      0.00         0.02          -1.0        -1.0   \n",
      "13350      0.01      0.01      0.00         0.00          54.0         5.7   \n",
      "13351      0.00      0.00      0.14         0.00          -1.0        -1.0   \n",
      "\n",
      "        rating  \n",
      "0      no data  \n",
      "1      no data  \n",
      "2            T  \n",
      "3      no data  \n",
      "4      no data  \n",
      "...        ...  \n",
      "13347        E  \n",
      "13348        E  \n",
      "13349        E  \n",
      "13350        E  \n",
      "13351  no data  \n",
      "\n",
      "[13352 rows x 11 columns]\n"
     ]
    }
   ],
   "source": [
    "df_date_index=df_no_duplicates.set_index('year_of_release')\n",
    "df_actual = df_date_index.loc['2000-01-01':'2014-01-01']\n",
    "df_actual = df_actual.reset_index(drop=False)\n",
    "print(df_actual)"
   ]
  },
  {
   "cell_type": "markdown",
   "id": "9e5a8115",
   "metadata": {},
   "source": [
    "<font color='DarkBlue'><b>Комментарий ревьюера</b></font><br>\n",
    "<font color='DarkGreen'>👌 Правильно отфильтровали данные по годам релиза. А проверку результата фильтрации можно провести вот так:</font>"
   ]
  },
  {
   "cell_type": "code",
   "execution_count": 28,
   "id": "46e52545",
   "metadata": {},
   "outputs": [
    {
     "name": "stdout",
     "output_type": "stream",
     "text": [
      "<class 'pandas.core.frame.DataFrame'>\n",
      "RangeIndex: 13352 entries, 0 to 13351\n",
      "Data columns (total 11 columns):\n",
      " #   Column           Non-Null Count  Dtype         \n",
      "---  ------           --------------  -----         \n",
      " 0   year_of_release  13352 non-null  datetime64[ns]\n",
      " 1   name             13352 non-null  object        \n",
      " 2   platform         13352 non-null  object        \n",
      " 3   genre            13352 non-null  object        \n",
      " 4   na_sales         13352 non-null  float64       \n",
      " 5   eu_sales         13352 non-null  float64       \n",
      " 6   jp_sales         13352 non-null  float64       \n",
      " 7   other_sales      13352 non-null  float64       \n",
      " 8   critic_score     13352 non-null  float64       \n",
      " 9   user_score       13352 non-null  float64       \n",
      " 10  rating           13352 non-null  object        \n",
      "dtypes: datetime64[ns](1), float64(6), object(4)\n",
      "memory usage: 1.1+ MB\n"
     ]
    },
    {
     "data": {
      "text/plain": [
       "(array(['2013-01-01T00:00:00.000000000', '2012-01-01T00:00:00.000000000',\n",
       "        '2006-01-01T00:00:00.000000000', '2007-01-01T00:00:00.000000000',\n",
       "        '2002-01-01T00:00:00.000000000', '2010-01-01T00:00:00.000000000',\n",
       "        '2003-01-01T00:00:00.000000000', '2000-01-01T00:00:00.000000000',\n",
       "        '2008-01-01T00:00:00.000000000', '2009-01-01T00:00:00.000000000',\n",
       "        '2011-01-01T00:00:00.000000000', '2014-01-01T00:00:00.000000000',\n",
       "        '2001-01-01T00:00:00.000000000', '2005-01-01T00:00:00.000000000',\n",
       "        '2004-01-01T00:00:00.000000000'], dtype='datetime64[ns]'),\n",
       " None)"
      ]
     },
     "execution_count": 28,
     "metadata": {},
     "output_type": "execute_result"
    }
   ],
   "source": [
    "# Комментарий ревьюера\n",
    "df_actual.year_of_release.unique(), df_actual.info()"
   ]
  },
  {
   "cell_type": "markdown",
   "id": "a6f10b01",
   "metadata": {
    "id": "a6f10b01"
   },
   "source": [
    "---\n",
    "\n",
    "## 4. Категоризация данных\n",
    "    \n",
    "Проведем категоризацию данных:\n",
    "- Разделим все игры по оценкам пользователей и выделите такие категории: высокая оценка (от 8 до 10 включительно), средняя оценка (от 3 до 8, не включая правую границу интервала) и низкая оценка (от 0 до 3, не включая правую границу интервала)."
   ]
  },
  {
   "cell_type": "code",
   "execution_count": 29,
   "id": "3db87229",
   "metadata": {
    "id": "3db87229"
   },
   "outputs": [],
   "source": [
    "df_actual['user_categories']=pd.cut(df_actual['user_score'], bins=[0,3,8,11], labels=['низкая оценка','средняя оценка','высокая оценка'], right=False)"
   ]
  },
  {
   "cell_type": "code",
   "execution_count": 30,
   "id": "9288fa3a",
   "metadata": {},
   "outputs": [
    {
     "data": {
      "text/html": [
       "<div>\n",
       "<style scoped>\n",
       "    .dataframe tbody tr th:only-of-type {\n",
       "        vertical-align: middle;\n",
       "    }\n",
       "\n",
       "    .dataframe tbody tr th {\n",
       "        vertical-align: top;\n",
       "    }\n",
       "\n",
       "    .dataframe thead th {\n",
       "        text-align: right;\n",
       "    }\n",
       "</style>\n",
       "<table border=\"1\" class=\"dataframe\">\n",
       "  <thead>\n",
       "    <tr style=\"text-align: right;\">\n",
       "      <th></th>\n",
       "      <th>year_of_release</th>\n",
       "      <th>name</th>\n",
       "      <th>platform</th>\n",
       "      <th>genre</th>\n",
       "      <th>na_sales</th>\n",
       "      <th>eu_sales</th>\n",
       "      <th>jp_sales</th>\n",
       "      <th>other_sales</th>\n",
       "      <th>critic_score</th>\n",
       "      <th>user_score</th>\n",
       "      <th>rating</th>\n",
       "      <th>user_categories</th>\n",
       "    </tr>\n",
       "  </thead>\n",
       "  <tbody>\n",
       "    <tr>\n",
       "      <th>0</th>\n",
       "      <td>2013-01-01</td>\n",
       "      <td>Frozen: Olaf's Quest</td>\n",
       "      <td>3DS</td>\n",
       "      <td>platform</td>\n",
       "      <td>0.27</td>\n",
       "      <td>0.27</td>\n",
       "      <td>0.00</td>\n",
       "      <td>0.05</td>\n",
       "      <td>-1.0</td>\n",
       "      <td>-1.0</td>\n",
       "      <td>no data</td>\n",
       "      <td>NaN</td>\n",
       "    </tr>\n",
       "    <tr>\n",
       "      <th>1</th>\n",
       "      <td>2013-01-01</td>\n",
       "      <td>Frozen: Olaf's Quest</td>\n",
       "      <td>DS</td>\n",
       "      <td>platform</td>\n",
       "      <td>0.21</td>\n",
       "      <td>0.26</td>\n",
       "      <td>0.00</td>\n",
       "      <td>0.04</td>\n",
       "      <td>-1.0</td>\n",
       "      <td>-1.0</td>\n",
       "      <td>no data</td>\n",
       "      <td>NaN</td>\n",
       "    </tr>\n",
       "    <tr>\n",
       "      <th>2</th>\n",
       "      <td>2012-01-01</td>\n",
       "      <td>Tales of Xillia 2</td>\n",
       "      <td>PS3</td>\n",
       "      <td>role-playing</td>\n",
       "      <td>0.20</td>\n",
       "      <td>0.12</td>\n",
       "      <td>0.45</td>\n",
       "      <td>0.07</td>\n",
       "      <td>71.0</td>\n",
       "      <td>7.9</td>\n",
       "      <td>T</td>\n",
       "      <td>средняя оценка</td>\n",
       "    </tr>\n",
       "    <tr>\n",
       "      <th>3</th>\n",
       "      <td>2006-01-01</td>\n",
       "      <td>.hack//G.U. Vol.1//Rebirth</td>\n",
       "      <td>PS2</td>\n",
       "      <td>role-playing</td>\n",
       "      <td>0.00</td>\n",
       "      <td>0.00</td>\n",
       "      <td>0.17</td>\n",
       "      <td>0.00</td>\n",
       "      <td>-1.0</td>\n",
       "      <td>-1.0</td>\n",
       "      <td>no data</td>\n",
       "      <td>NaN</td>\n",
       "    </tr>\n",
       "    <tr>\n",
       "      <th>4</th>\n",
       "      <td>2006-01-01</td>\n",
       "      <td>.hack//G.U. Vol.2//Reminisce</td>\n",
       "      <td>PS2</td>\n",
       "      <td>role-playing</td>\n",
       "      <td>0.11</td>\n",
       "      <td>0.09</td>\n",
       "      <td>0.00</td>\n",
       "      <td>0.03</td>\n",
       "      <td>-1.0</td>\n",
       "      <td>-1.0</td>\n",
       "      <td>no data</td>\n",
       "      <td>NaN</td>\n",
       "    </tr>\n",
       "    <tr>\n",
       "      <th>...</th>\n",
       "      <td>...</td>\n",
       "      <td>...</td>\n",
       "      <td>...</td>\n",
       "      <td>...</td>\n",
       "      <td>...</td>\n",
       "      <td>...</td>\n",
       "      <td>...</td>\n",
       "      <td>...</td>\n",
       "      <td>...</td>\n",
       "      <td>...</td>\n",
       "      <td>...</td>\n",
       "      <td>...</td>\n",
       "    </tr>\n",
       "    <tr>\n",
       "      <th>13347</th>\n",
       "      <td>2011-01-01</td>\n",
       "      <td>thinkSMART: Chess for Kids</td>\n",
       "      <td>DS</td>\n",
       "      <td>misc</td>\n",
       "      <td>0.01</td>\n",
       "      <td>0.00</td>\n",
       "      <td>0.00</td>\n",
       "      <td>0.00</td>\n",
       "      <td>-1.0</td>\n",
       "      <td>-1.0</td>\n",
       "      <td>E</td>\n",
       "      <td>NaN</td>\n",
       "    </tr>\n",
       "    <tr>\n",
       "      <th>13348</th>\n",
       "      <td>2010-01-01</td>\n",
       "      <td>uDraw Studio</td>\n",
       "      <td>Wii</td>\n",
       "      <td>misc</td>\n",
       "      <td>1.65</td>\n",
       "      <td>0.57</td>\n",
       "      <td>0.00</td>\n",
       "      <td>0.20</td>\n",
       "      <td>71.0</td>\n",
       "      <td>-1.0</td>\n",
       "      <td>E</td>\n",
       "      <td>NaN</td>\n",
       "    </tr>\n",
       "    <tr>\n",
       "      <th>13349</th>\n",
       "      <td>2011-01-01</td>\n",
       "      <td>uDraw Studio: Instant Artist</td>\n",
       "      <td>Wii</td>\n",
       "      <td>misc</td>\n",
       "      <td>0.06</td>\n",
       "      <td>0.09</td>\n",
       "      <td>0.00</td>\n",
       "      <td>0.02</td>\n",
       "      <td>-1.0</td>\n",
       "      <td>-1.0</td>\n",
       "      <td>E</td>\n",
       "      <td>NaN</td>\n",
       "    </tr>\n",
       "    <tr>\n",
       "      <th>13350</th>\n",
       "      <td>2011-01-01</td>\n",
       "      <td>uDraw Studio: Instant Artist</td>\n",
       "      <td>X360</td>\n",
       "      <td>misc</td>\n",
       "      <td>0.01</td>\n",
       "      <td>0.01</td>\n",
       "      <td>0.00</td>\n",
       "      <td>0.00</td>\n",
       "      <td>54.0</td>\n",
       "      <td>5.7</td>\n",
       "      <td>E</td>\n",
       "      <td>средняя оценка</td>\n",
       "    </tr>\n",
       "    <tr>\n",
       "      <th>13351</th>\n",
       "      <td>2007-01-01</td>\n",
       "      <td>¡Shin Chan Flipa en colores!</td>\n",
       "      <td>DS</td>\n",
       "      <td>platform</td>\n",
       "      <td>0.00</td>\n",
       "      <td>0.00</td>\n",
       "      <td>0.14</td>\n",
       "      <td>0.00</td>\n",
       "      <td>-1.0</td>\n",
       "      <td>-1.0</td>\n",
       "      <td>no data</td>\n",
       "      <td>NaN</td>\n",
       "    </tr>\n",
       "  </tbody>\n",
       "</table>\n",
       "<p>13352 rows × 12 columns</p>\n",
       "</div>"
      ],
      "text/plain": [
       "      year_of_release                          name platform         genre  \\\n",
       "0          2013-01-01          Frozen: Olaf's Quest      3DS      platform   \n",
       "1          2013-01-01          Frozen: Olaf's Quest       DS      platform   \n",
       "2          2012-01-01             Tales of Xillia 2      PS3  role-playing   \n",
       "3          2006-01-01    .hack//G.U. Vol.1//Rebirth      PS2  role-playing   \n",
       "4          2006-01-01  .hack//G.U. Vol.2//Reminisce      PS2  role-playing   \n",
       "...               ...                           ...      ...           ...   \n",
       "13347      2011-01-01    thinkSMART: Chess for Kids       DS          misc   \n",
       "13348      2010-01-01                  uDraw Studio      Wii          misc   \n",
       "13349      2011-01-01  uDraw Studio: Instant Artist      Wii          misc   \n",
       "13350      2011-01-01  uDraw Studio: Instant Artist     X360          misc   \n",
       "13351      2007-01-01  ¡Shin Chan Flipa en colores!       DS      platform   \n",
       "\n",
       "       na_sales  eu_sales  jp_sales  other_sales  critic_score  user_score  \\\n",
       "0          0.27      0.27      0.00         0.05          -1.0        -1.0   \n",
       "1          0.21      0.26      0.00         0.04          -1.0        -1.0   \n",
       "2          0.20      0.12      0.45         0.07          71.0         7.9   \n",
       "3          0.00      0.00      0.17         0.00          -1.0        -1.0   \n",
       "4          0.11      0.09      0.00         0.03          -1.0        -1.0   \n",
       "...         ...       ...       ...          ...           ...         ...   \n",
       "13347      0.01      0.00      0.00         0.00          -1.0        -1.0   \n",
       "13348      1.65      0.57      0.00         0.20          71.0        -1.0   \n",
       "13349      0.06      0.09      0.00         0.02          -1.0        -1.0   \n",
       "13350      0.01      0.01      0.00         0.00          54.0         5.7   \n",
       "13351      0.00      0.00      0.14         0.00          -1.0        -1.0   \n",
       "\n",
       "        rating user_categories  \n",
       "0      no data             NaN  \n",
       "1      no data             NaN  \n",
       "2            T  средняя оценка  \n",
       "3      no data             NaN  \n",
       "4      no data             NaN  \n",
       "...        ...             ...  \n",
       "13347        E             NaN  \n",
       "13348        E             NaN  \n",
       "13349        E             NaN  \n",
       "13350        E  средняя оценка  \n",
       "13351  no data             NaN  \n",
       "\n",
       "[13352 rows x 12 columns]"
      ]
     },
     "execution_count": 30,
     "metadata": {},
     "output_type": "execute_result"
    }
   ],
   "source": [
    "df_actual"
   ]
  },
  {
   "cell_type": "markdown",
   "id": "f8f34b40",
   "metadata": {
    "id": "f8f34b40"
   },
   "source": [
    "- Разделим все игры по оценкам критиков и выделите такие категории: высокая оценка (от 80 до 100 включительно), средняя оценка (от 30 до 80, не включая правую границу интервала) и низкая оценка (от 0 до 30, не включая правую границу интервала)."
   ]
  },
  {
   "cell_type": "code",
   "execution_count": 31,
   "id": "e3f7acb0",
   "metadata": {
    "id": "e3f7acb0"
   },
   "outputs": [
    {
     "data": {
      "text/html": [
       "<div>\n",
       "<style scoped>\n",
       "    .dataframe tbody tr th:only-of-type {\n",
       "        vertical-align: middle;\n",
       "    }\n",
       "\n",
       "    .dataframe tbody tr th {\n",
       "        vertical-align: top;\n",
       "    }\n",
       "\n",
       "    .dataframe thead th {\n",
       "        text-align: right;\n",
       "    }\n",
       "</style>\n",
       "<table border=\"1\" class=\"dataframe\">\n",
       "  <thead>\n",
       "    <tr style=\"text-align: right;\">\n",
       "      <th></th>\n",
       "      <th>year_of_release</th>\n",
       "      <th>name</th>\n",
       "      <th>platform</th>\n",
       "      <th>genre</th>\n",
       "      <th>na_sales</th>\n",
       "      <th>eu_sales</th>\n",
       "      <th>jp_sales</th>\n",
       "      <th>other_sales</th>\n",
       "      <th>critic_score</th>\n",
       "      <th>user_score</th>\n",
       "      <th>rating</th>\n",
       "      <th>user_categories</th>\n",
       "      <th>critic_categories</th>\n",
       "    </tr>\n",
       "  </thead>\n",
       "  <tbody>\n",
       "    <tr>\n",
       "      <th>0</th>\n",
       "      <td>2013-01-01</td>\n",
       "      <td>Frozen: Olaf's Quest</td>\n",
       "      <td>3DS</td>\n",
       "      <td>platform</td>\n",
       "      <td>0.27</td>\n",
       "      <td>0.27</td>\n",
       "      <td>0.00</td>\n",
       "      <td>0.05</td>\n",
       "      <td>-1.0</td>\n",
       "      <td>-1.0</td>\n",
       "      <td>no data</td>\n",
       "      <td>NaN</td>\n",
       "      <td>NaN</td>\n",
       "    </tr>\n",
       "    <tr>\n",
       "      <th>1</th>\n",
       "      <td>2013-01-01</td>\n",
       "      <td>Frozen: Olaf's Quest</td>\n",
       "      <td>DS</td>\n",
       "      <td>platform</td>\n",
       "      <td>0.21</td>\n",
       "      <td>0.26</td>\n",
       "      <td>0.00</td>\n",
       "      <td>0.04</td>\n",
       "      <td>-1.0</td>\n",
       "      <td>-1.0</td>\n",
       "      <td>no data</td>\n",
       "      <td>NaN</td>\n",
       "      <td>NaN</td>\n",
       "    </tr>\n",
       "    <tr>\n",
       "      <th>2</th>\n",
       "      <td>2012-01-01</td>\n",
       "      <td>Tales of Xillia 2</td>\n",
       "      <td>PS3</td>\n",
       "      <td>role-playing</td>\n",
       "      <td>0.20</td>\n",
       "      <td>0.12</td>\n",
       "      <td>0.45</td>\n",
       "      <td>0.07</td>\n",
       "      <td>71.0</td>\n",
       "      <td>7.9</td>\n",
       "      <td>T</td>\n",
       "      <td>средняя оценка</td>\n",
       "      <td>средняя оценка</td>\n",
       "    </tr>\n",
       "    <tr>\n",
       "      <th>3</th>\n",
       "      <td>2006-01-01</td>\n",
       "      <td>.hack//G.U. Vol.1//Rebirth</td>\n",
       "      <td>PS2</td>\n",
       "      <td>role-playing</td>\n",
       "      <td>0.00</td>\n",
       "      <td>0.00</td>\n",
       "      <td>0.17</td>\n",
       "      <td>0.00</td>\n",
       "      <td>-1.0</td>\n",
       "      <td>-1.0</td>\n",
       "      <td>no data</td>\n",
       "      <td>NaN</td>\n",
       "      <td>NaN</td>\n",
       "    </tr>\n",
       "    <tr>\n",
       "      <th>4</th>\n",
       "      <td>2006-01-01</td>\n",
       "      <td>.hack//G.U. Vol.2//Reminisce</td>\n",
       "      <td>PS2</td>\n",
       "      <td>role-playing</td>\n",
       "      <td>0.11</td>\n",
       "      <td>0.09</td>\n",
       "      <td>0.00</td>\n",
       "      <td>0.03</td>\n",
       "      <td>-1.0</td>\n",
       "      <td>-1.0</td>\n",
       "      <td>no data</td>\n",
       "      <td>NaN</td>\n",
       "      <td>NaN</td>\n",
       "    </tr>\n",
       "    <tr>\n",
       "      <th>...</th>\n",
       "      <td>...</td>\n",
       "      <td>...</td>\n",
       "      <td>...</td>\n",
       "      <td>...</td>\n",
       "      <td>...</td>\n",
       "      <td>...</td>\n",
       "      <td>...</td>\n",
       "      <td>...</td>\n",
       "      <td>...</td>\n",
       "      <td>...</td>\n",
       "      <td>...</td>\n",
       "      <td>...</td>\n",
       "      <td>...</td>\n",
       "    </tr>\n",
       "    <tr>\n",
       "      <th>13347</th>\n",
       "      <td>2011-01-01</td>\n",
       "      <td>thinkSMART: Chess for Kids</td>\n",
       "      <td>DS</td>\n",
       "      <td>misc</td>\n",
       "      <td>0.01</td>\n",
       "      <td>0.00</td>\n",
       "      <td>0.00</td>\n",
       "      <td>0.00</td>\n",
       "      <td>-1.0</td>\n",
       "      <td>-1.0</td>\n",
       "      <td>E</td>\n",
       "      <td>NaN</td>\n",
       "      <td>NaN</td>\n",
       "    </tr>\n",
       "    <tr>\n",
       "      <th>13348</th>\n",
       "      <td>2010-01-01</td>\n",
       "      <td>uDraw Studio</td>\n",
       "      <td>Wii</td>\n",
       "      <td>misc</td>\n",
       "      <td>1.65</td>\n",
       "      <td>0.57</td>\n",
       "      <td>0.00</td>\n",
       "      <td>0.20</td>\n",
       "      <td>71.0</td>\n",
       "      <td>-1.0</td>\n",
       "      <td>E</td>\n",
       "      <td>NaN</td>\n",
       "      <td>средняя оценка</td>\n",
       "    </tr>\n",
       "    <tr>\n",
       "      <th>13349</th>\n",
       "      <td>2011-01-01</td>\n",
       "      <td>uDraw Studio: Instant Artist</td>\n",
       "      <td>Wii</td>\n",
       "      <td>misc</td>\n",
       "      <td>0.06</td>\n",
       "      <td>0.09</td>\n",
       "      <td>0.00</td>\n",
       "      <td>0.02</td>\n",
       "      <td>-1.0</td>\n",
       "      <td>-1.0</td>\n",
       "      <td>E</td>\n",
       "      <td>NaN</td>\n",
       "      <td>NaN</td>\n",
       "    </tr>\n",
       "    <tr>\n",
       "      <th>13350</th>\n",
       "      <td>2011-01-01</td>\n",
       "      <td>uDraw Studio: Instant Artist</td>\n",
       "      <td>X360</td>\n",
       "      <td>misc</td>\n",
       "      <td>0.01</td>\n",
       "      <td>0.01</td>\n",
       "      <td>0.00</td>\n",
       "      <td>0.00</td>\n",
       "      <td>54.0</td>\n",
       "      <td>5.7</td>\n",
       "      <td>E</td>\n",
       "      <td>средняя оценка</td>\n",
       "      <td>средняя оценка</td>\n",
       "    </tr>\n",
       "    <tr>\n",
       "      <th>13351</th>\n",
       "      <td>2007-01-01</td>\n",
       "      <td>¡Shin Chan Flipa en colores!</td>\n",
       "      <td>DS</td>\n",
       "      <td>platform</td>\n",
       "      <td>0.00</td>\n",
       "      <td>0.00</td>\n",
       "      <td>0.14</td>\n",
       "      <td>0.00</td>\n",
       "      <td>-1.0</td>\n",
       "      <td>-1.0</td>\n",
       "      <td>no data</td>\n",
       "      <td>NaN</td>\n",
       "      <td>NaN</td>\n",
       "    </tr>\n",
       "  </tbody>\n",
       "</table>\n",
       "<p>13352 rows × 13 columns</p>\n",
       "</div>"
      ],
      "text/plain": [
       "      year_of_release                          name platform         genre  \\\n",
       "0          2013-01-01          Frozen: Olaf's Quest      3DS      platform   \n",
       "1          2013-01-01          Frozen: Olaf's Quest       DS      platform   \n",
       "2          2012-01-01             Tales of Xillia 2      PS3  role-playing   \n",
       "3          2006-01-01    .hack//G.U. Vol.1//Rebirth      PS2  role-playing   \n",
       "4          2006-01-01  .hack//G.U. Vol.2//Reminisce      PS2  role-playing   \n",
       "...               ...                           ...      ...           ...   \n",
       "13347      2011-01-01    thinkSMART: Chess for Kids       DS          misc   \n",
       "13348      2010-01-01                  uDraw Studio      Wii          misc   \n",
       "13349      2011-01-01  uDraw Studio: Instant Artist      Wii          misc   \n",
       "13350      2011-01-01  uDraw Studio: Instant Artist     X360          misc   \n",
       "13351      2007-01-01  ¡Shin Chan Flipa en colores!       DS      platform   \n",
       "\n",
       "       na_sales  eu_sales  jp_sales  other_sales  critic_score  user_score  \\\n",
       "0          0.27      0.27      0.00         0.05          -1.0        -1.0   \n",
       "1          0.21      0.26      0.00         0.04          -1.0        -1.0   \n",
       "2          0.20      0.12      0.45         0.07          71.0         7.9   \n",
       "3          0.00      0.00      0.17         0.00          -1.0        -1.0   \n",
       "4          0.11      0.09      0.00         0.03          -1.0        -1.0   \n",
       "...         ...       ...       ...          ...           ...         ...   \n",
       "13347      0.01      0.00      0.00         0.00          -1.0        -1.0   \n",
       "13348      1.65      0.57      0.00         0.20          71.0        -1.0   \n",
       "13349      0.06      0.09      0.00         0.02          -1.0        -1.0   \n",
       "13350      0.01      0.01      0.00         0.00          54.0         5.7   \n",
       "13351      0.00      0.00      0.14         0.00          -1.0        -1.0   \n",
       "\n",
       "        rating user_categories critic_categories  \n",
       "0      no data             NaN               NaN  \n",
       "1      no data             NaN               NaN  \n",
       "2            T  средняя оценка    средняя оценка  \n",
       "3      no data             NaN               NaN  \n",
       "4      no data             NaN               NaN  \n",
       "...        ...             ...               ...  \n",
       "13347        E             NaN               NaN  \n",
       "13348        E             NaN    средняя оценка  \n",
       "13349        E             NaN               NaN  \n",
       "13350        E  средняя оценка    средняя оценка  \n",
       "13351  no data             NaN               NaN  \n",
       "\n",
       "[13352 rows x 13 columns]"
      ]
     },
     "execution_count": 31,
     "metadata": {},
     "output_type": "execute_result"
    }
   ],
   "source": [
    "df_actual['critic_categories']=pd.cut(df_actual['critic_score'], bins=[0,30,80,101], labels=['низкая оценка','средняя оценка','высокая оценка'], right=False)\n",
    "df_actual"
   ]
  },
  {
   "cell_type": "markdown",
   "id": "7aaccb02",
   "metadata": {},
   "source": [
    "<font color='DarkBlue'><b>Комментарий ревьюера</b></font><br>\n",
    "<font color='Red'>🛠 Не корректно была проведена категоризация данных по отзывам пользователей и критиков, в задании другие интервалы категоризации. См.код ниже.</font>"
   ]
  },
  {
   "cell_type": "code",
   "execution_count": 32,
   "id": "faf755fb",
   "metadata": {},
   "outputs": [
    {
     "name": "stdout",
     "output_type": "stream",
     "text": [
      "Оценка 8 должна относиться категории 'высокая оценка' здесь это ['высокая оценка']\n",
      "Categories (1, object): ['высокая оценка']\n",
      "Оценка 3 должна относиться категории 'средняя оценка' здесь это ['средняя оценка']\n",
      "Categories (1, object): ['средняя оценка']\n",
      "=================================\n",
      "Оценка 80 должна относиться категории 'высокая оценка' здесь это ['высокая оценка']\n",
      "Categories (1, object): ['высокая оценка']\n",
      "Оценка 30 должна относиться категории 'средняя оценка' здесь это ['средняя оценка']\n",
      "Categories (1, object): ['средняя оценка']\n"
     ]
    }
   ],
   "source": [
    "# Комментарий ревьюера\n",
    "# Проверяем границы категорий по заданию брифа и созданные в проекте\n",
    "tmp0, u_s, c_s = df_actual.copy(), 'user_score', 'critic_score'\n",
    "cat_u, cat_c = 'user_categories', 'critic_categories'\n",
    "print(\"Оценка 8 должна относиться категории 'высокая оценка'\", \"здесь это\",\n",
    "      tmp0[tmp0[u_s] == 8][cat_u].unique())\n",
    "print(\"Оценка 3 должна относиться категории 'средняя оценка'\", \"здесь это\",\n",
    "      tmp0[tmp0[u_s] == 3][cat_u].unique())\n",
    "print(\"=================================\")\n",
    "print(\"Оценка 80 должна относиться категории 'высокая оценка'\", \"здесь это\",\n",
    "      tmp0[tmp0[c_s] == 80][cat_c].unique())\n",
    "print(\"Оценка 30 должна относиться категории 'средняя оценка'\", \"здесь это\",\n",
    "      tmp0[tmp0[c_s] == 30][cat_c].unique())"
   ]
  },
  {
   "cell_type": "markdown",
   "id": "olkTlTlAUDR9",
   "metadata": {
    "id": "olkTlTlAUDR9"
   },
   "source": [
    "- После категоризации данных проверяем результат: группируем данные по выделенным категориям и считаем количество игр в каждой категории."
   ]
  },
  {
   "cell_type": "code",
   "execution_count": 33,
   "id": "HW0Nsp-4UMSL",
   "metadata": {
    "id": "HW0Nsp-4UMSL"
   },
   "outputs": [
    {
     "name": "stdout",
     "output_type": "stream",
     "text": [
      "user_categories\n",
      "низкая оценка      124\n",
      "средняя оценка    4339\n",
      "высокая оценка    2341\n",
      "Name: name, dtype: int64\n",
      "critic_categories\n",
      "низкая оценка       56\n",
      "средняя оценка    5604\n",
      "высокая оценка    1762\n",
      "Name: name, dtype: int64\n"
     ]
    }
   ],
   "source": [
    "grouped_df_1 = df_actual.groupby('user_categories')['name'].count()\n",
    "print(grouped_df_1)\n",
    "grouped_df_2 = df_actual.groupby('critic_categories')['name'].count()\n",
    "print(grouped_df_2)"
   ]
  },
  {
   "attachments": {
    "image.png": {
     "image/png": "[encoded data removed]"
    }
   },
   "cell_type": "markdown",
   "id": "72ccad86",
   "metadata": {
    "id": "x2ne0HIpUMMD"
   },
   "source": [
    "<font color='DarkBlue'><b>Комментарий ревьюера</b></font><br>\n",
    "<font color='Red'>🛠 Ошибка кода. Вынужден прервать проверку. 😢</font>\n",
    "![image.png](attachment:image.png)"
   ]
  },
  {
   "cell_type": "markdown",
   "id": "6a98444c",
   "metadata": {
    "id": "6a98444c"
   },
   "source": [
    "- топ-7 платформ по количеству игр, выпущенных за весь актуальный период."
   ]
  },
  {
   "cell_type": "code",
   "execution_count": 34,
   "id": "003caa2c",
   "metadata": {
    "id": "003caa2c"
   },
   "outputs": [
    {
     "name": "stdout",
     "output_type": "stream",
     "text": [
      "platform\n",
      "PS2     2126\n",
      "DS      2117\n",
      "Wii     1281\n",
      "PS3     1195\n",
      "PSP     1189\n",
      "X360    1181\n",
      "PC       813\n",
      "Name: name, dtype: int64\n"
     ]
    }
   ],
   "source": [
    "top_7_platforms = df_actual.groupby('platform')['name'].count()\n",
    "sorted_top_7= top_7_platforms.sort_values(ascending=False)\n",
    "print(sorted_top_7.head(7))"
   ]
  },
  {
   "cell_type": "markdown",
   "id": "c0158881",
   "metadata": {
    "id": "c0158881"
   },
   "source": [
    "---\n",
    "\n",
    "## 5. Итоговый вывод\n",
    "\n",
    "В конце напишите основной вывод и отразите, какую работу проделали. Не забудьте указать описание среза данных и новых полей, которые добавили в исходный датасет."
   ]
  },
  {
   "cell_type": "markdown",
   "id": "8ef8bc65",
   "metadata": {
    "id": "20175f5b"
   },
   "source": [
    "задачи по проекту стояли следующие: изучить данные, выявить пропуски и дубликаты, очистить данные, скорректировать типы данных, провести категоризацию. все эти задачи были успешно выполнены и применены к ичходному датафрейму.\n",
    "\n",
    "в ходе выполненя задач было обнаружено, что датафрейм состоит из 16956 строк и 11 столбцов. индексация строк начинается с 0 и заканчивается 16955.\n",
    "\n",
    "первым делом было выявлено, что названия столбцов находятся в неудобном для чтения формате, поэтому я перевела их в змеиный регистр, чтобы все слова не сливались в одну строку.\n",
    "    \n",
    "далее пришлось переводить некоторые данные в корректный тип, так как дальше бы это могло помешать в работе с значениями. сначала я перевела столбец с годом релиза из вещественного типа в тип даты. а данные типа object, предполагающие дробные числа, перевела в тип дробных чисел. \n",
    "\n",
    "далее предстояла работа с пропусками. те столбцы, где отсутствовало 2% и менее значений (год релиза, продажи в Европе и Японии), я удалила. колонки, где было от 40% до 55% пропусков, я заменила на значения-индикаторы ('-1' для числовых значений, 'no data' для строковых значений).\n",
    "\n",
    "после очистки данных я привожу следующую статистику: \n",
    "- Количество строк до удаления пропусков и дубликатов: 16956\n",
    "- Количество строк после удаления пропусков и дубликатов: 16436\n",
    "- Количество удаленных строк: 520\n",
    "- Процент удаленных строк: 3.1%\n",
    "\n",
    "по просьбе заказчика оставила срез данных за 2000-2013 года.\n",
    "\n",
    "в конце провела категоризацию по оценкам игр пользователями, критиками и вывела то-7 самых популярных платформ для выхода игр на тот момент времени (появилось 2 новых поля: user_categories для оценок игроков и critic_categories для оценок критиков).\n",
    "\n",
    "актуальный датафрейм может быть использован с целью анализа игровых платформ, изучения объёма продаж игр разных жанров и региональных предпочтений игроков, которые любят старые игры начала XXI века."
   ]
  },
  {
   "cell_type": "markdown",
   "id": "2e90dc7e",
   "metadata": {},
   "source": [
    "<font color='DarkBlue'><b>Комментарий ревьюера 3</b></font><br>\n",
    "<font color='DarkGreen'>👌 Хорошо, теперь правильно.</font>"
   ]
  },
  {
   "cell_type": "markdown",
   "id": "ec19f46b",
   "metadata": {
    "id": "9fe570b3"
   },
   "source": [
    "<font color='DarkBlue'><b>Заключительный комментарий ревьюера</b></font><br>\n",
    "<font color='DarkGreen'>👌 Ангелина!<br></font>\n",
    "<font color='Red'>🛠 Увы, должен прервать ревью из-за ошибки в коде. Настоятельно рекомендую перед отправкой проекта на ревью проверять в JupyterHub исполнение кода тетрадки.<br>\n",
    "Необходимо исправить ошибки, в том числе уже обнаруженные:<br>\n",
    "Сделать анализ причин не корректных данных в количественных столбцах. Переделать категоризацию оценок пользователей и критиков.<br>Обращаю внимание, что должны быть выполнены все задания брифа.<br>\n",
    "Жду исправленный проект. Если будут трудности, можно обратиться к куратору. </font>"
   ]
  },
  {
   "cell_type": "markdown",
   "id": "e7be3d49",
   "metadata": {},
   "source": [
    "<font color='DarkBlue'><b>Комментарий ревьюера 2</b></font><br>\n",
    "<font color='Red'>🛠 Итоговый вывод не полный. Необходимо обобщить проведенный анализ данных и проведенную обработку с конкретными результатами по каждому заданию брифа.</font><br>\n",
    "<font color='DarkMagenta'>👉 Общий вывод проекта должен содержать следующие основные моменты:<br>\n",
    "- Краткое описание целей и задач проекта.<br>\n",
    "- Основные результаты, полученные в ходе выполнения проекта.<br>\n",
    "- Анализ всех разделов проекта, включая раздел анализа и предобработки данных, и их влияния на общие результаты.<br>\n",
    "- Возможные направления дальнейшего развития и применения полученных результатов.<br>\n",
    "Общий вывод должен быть написан в логической последовательности и отражать общую картину проекта. Он должен быть кратким, но содержательным, чтобы заказчик мог получить полное представление о проекте и его значимости.</font>"
   ]
  },
  {
   "cell_type": "markdown",
   "id": "b35dd203",
   "metadata": {},
   "source": [
    "<font color='DarkBlue'><b>Заключительный комментарий ревьюера 2</b></font><br><br>\n",
    "<font color='DarkGreen'>👌 Ангелина, увы, остались еще ошибки.<br></font>\n",
    "<font color='Red'>🛠 Что нужно доделать:</font><br>\n",
    "<font color='Red'>🛠 Сделать развернутый итоговый вывод проекта.</font><br>\n",
    "<font color='DarkGreen'>👌 Жду исправленный вариант! Успехов.</font>"
   ]
  },
  {
   "attachments": {
    "image.png": {
     "image/png": "[encoded data removed]"
    }
   },
   "cell_type": "markdown",
   "id": "098c7ca6",
   "metadata": {},
   "source": [
    "<font color='DarkBlue'><b>Заключительный комментарий ревьюера 3</b></font><br><br>\n",
    "<font color='DarkGreen'>👌 Ангелина! Удалось справиться со всеми заданиями в проекте. Молодец! 😄 Спасибо за работу!<br>\n",
    "Входе выполнения проекта научились анализировать первичные данные, проводить предобработку датасета, фильтровать и категоризировать данные. </font><br>\n",
    "<font color='DarkGreen'>👌 Теперь, вперед за новыми знаниями и навыками! Удачи! 😉</font>\n",
    "![image.png](attachment:image.png)"
   ]
  }
 ],
 "metadata": {
  "ExecuteTimeLog": [
   {
    "duration": 3,
    "start_time": "2024-12-02T19:35:42.277Z"
   },
   {
    "duration": 10,
    "start_time": "2024-12-02T19:35:42.282Z"
   },
   {
    "duration": 9,
    "start_time": "2024-12-02T19:35:42.294Z"
   },
   {
    "duration": 73,
    "start_time": "2024-12-02T20:05:30.171Z"
   },
   {
    "duration": 552,
    "start_time": "2024-12-02T20:06:46.725Z"
   },
   {
    "duration": 467,
    "start_time": "2024-12-02T20:07:03.951Z"
   },
   {
    "duration": 19,
    "start_time": "2024-12-02T20:07:30.845Z"
   },
   {
    "duration": 14,
    "start_time": "2024-12-02T20:08:10.563Z"
   },
   {
    "duration": 9,
    "start_time": "2024-12-02T20:09:57.291Z"
   },
   {
    "duration": 16,
    "start_time": "2024-12-02T20:10:12.023Z"
   },
   {
    "duration": 9,
    "start_time": "2024-12-02T20:20:02.783Z"
   },
   {
    "duration": 2,
    "start_time": "2024-12-02T20:23:58.833Z"
   },
   {
    "duration": 2,
    "start_time": "2024-12-02T20:24:01.799Z"
   },
   {
    "duration": 4,
    "start_time": "2024-12-02T20:24:45.206Z"
   },
   {
    "duration": 63,
    "start_time": "2024-12-02T20:25:03.803Z"
   },
   {
    "duration": 4,
    "start_time": "2024-12-02T20:25:14.512Z"
   },
   {
    "duration": 4,
    "start_time": "2024-12-02T20:25:24.662Z"
   },
   {
    "duration": 3,
    "start_time": "2024-12-02T20:25:51.149Z"
   },
   {
    "duration": 3,
    "start_time": "2024-12-02T20:26:24.434Z"
   },
   {
    "duration": 5,
    "start_time": "2024-12-02T20:26:31.000Z"
   },
   {
    "duration": 6,
    "start_time": "2024-12-02T20:28:16.667Z"
   },
   {
    "duration": 3,
    "start_time": "2024-12-02T20:28:24.788Z"
   },
   {
    "duration": 3,
    "start_time": "2024-12-02T20:28:48.496Z"
   },
   {
    "duration": 5,
    "start_time": "2024-12-02T20:29:50.225Z"
   },
   {
    "duration": 4,
    "start_time": "2024-12-02T20:30:02.641Z"
   },
   {
    "duration": 4,
    "start_time": "2024-12-02T20:30:05.063Z"
   },
   {
    "duration": 3,
    "start_time": "2024-12-02T20:31:44.149Z"
   },
   {
    "duration": 3,
    "start_time": "2024-12-02T20:32:04.442Z"
   },
   {
    "duration": 4,
    "start_time": "2024-12-02T20:32:15.629Z"
   },
   {
    "duration": 6,
    "start_time": "2024-12-02T20:45:55.327Z"
   },
   {
    "duration": 58,
    "start_time": "2024-12-02T20:46:09.082Z"
   },
   {
    "duration": 65,
    "start_time": "2024-12-02T20:46:56.742Z"
   },
   {
    "duration": 19,
    "start_time": "2024-12-02T20:47:20.170Z"
   },
   {
    "duration": 61,
    "start_time": "2024-12-02T20:47:44.150Z"
   },
   {
    "duration": 664,
    "start_time": "2024-12-02T20:51:47.849Z"
   },
   {
    "duration": 26,
    "start_time": "2024-12-02T20:53:41.722Z"
   },
   {
    "duration": 15,
    "start_time": "2024-12-02T20:56:31.648Z"
   },
   {
    "duration": 12,
    "start_time": "2024-12-02T20:56:39.914Z"
   },
   {
    "duration": 10,
    "start_time": "2024-12-02T20:58:55.807Z"
   },
   {
    "duration": 11,
    "start_time": "2024-12-02T21:00:12.048Z"
   },
   {
    "duration": 10,
    "start_time": "2024-12-02T21:00:44.652Z"
   },
   {
    "duration": 435,
    "start_time": "2024-12-02T21:11:48.208Z"
   },
   {
    "duration": 10,
    "start_time": "2024-12-02T21:11:48.644Z"
   },
   {
    "duration": 20,
    "start_time": "2024-12-02T21:11:48.656Z"
   },
   {
    "duration": 8,
    "start_time": "2024-12-02T21:11:48.678Z"
   },
   {
    "duration": 18,
    "start_time": "2024-12-02T21:11:48.688Z"
   },
   {
    "duration": 17,
    "start_time": "2024-12-02T21:11:48.707Z"
   },
   {
    "duration": 31,
    "start_time": "2024-12-02T21:11:48.726Z"
   },
   {
    "duration": 14,
    "start_time": "2024-12-02T21:11:48.758Z"
   },
   {
    "duration": 15,
    "start_time": "2024-12-02T21:11:48.773Z"
   },
   {
    "duration": 476,
    "start_time": "2024-12-02T21:16:06.867Z"
   },
   {
    "duration": 10,
    "start_time": "2024-12-02T21:16:07.345Z"
   },
   {
    "duration": 36,
    "start_time": "2024-12-02T21:16:07.357Z"
   },
   {
    "duration": 3,
    "start_time": "2024-12-02T21:16:07.395Z"
   },
   {
    "duration": 26,
    "start_time": "2024-12-02T21:16:07.400Z"
   },
   {
    "duration": 6,
    "start_time": "2024-12-02T21:16:07.428Z"
   },
   {
    "duration": 20,
    "start_time": "2024-12-02T21:16:07.436Z"
   },
   {
    "duration": 28,
    "start_time": "2024-12-02T21:16:07.458Z"
   },
   {
    "duration": 13,
    "start_time": "2024-12-02T21:16:07.489Z"
   },
   {
    "duration": 445,
    "start_time": "2024-12-02T21:50:48.379Z"
   },
   {
    "duration": 10,
    "start_time": "2024-12-02T21:50:48.826Z"
   },
   {
    "duration": 17,
    "start_time": "2024-12-02T21:50:48.838Z"
   },
   {
    "duration": 4,
    "start_time": "2024-12-02T21:50:48.859Z"
   },
   {
    "duration": 5,
    "start_time": "2024-12-02T21:50:48.866Z"
   },
   {
    "duration": 7,
    "start_time": "2024-12-02T21:50:48.873Z"
   },
   {
    "duration": 19,
    "start_time": "2024-12-02T21:50:48.881Z"
   },
   {
    "duration": 50,
    "start_time": "2024-12-02T21:50:48.902Z"
   },
   {
    "duration": 12,
    "start_time": "2024-12-02T21:50:48.954Z"
   },
   {
    "duration": 44,
    "start_time": "2024-12-03T08:57:02.807Z"
   },
   {
    "duration": 599,
    "start_time": "2024-12-03T08:57:11.640Z"
   },
   {
    "duration": 8,
    "start_time": "2024-12-03T08:57:12.241Z"
   },
   {
    "duration": 21,
    "start_time": "2024-12-03T08:57:12.250Z"
   },
   {
    "duration": 2,
    "start_time": "2024-12-03T08:57:12.273Z"
   },
   {
    "duration": 4,
    "start_time": "2024-12-03T08:57:12.276Z"
   },
   {
    "duration": 13,
    "start_time": "2024-12-03T08:57:12.281Z"
   },
   {
    "duration": 14,
    "start_time": "2024-12-03T08:57:12.296Z"
   },
   {
    "duration": 12,
    "start_time": "2024-12-03T08:57:12.312Z"
   },
   {
    "duration": 11,
    "start_time": "2024-12-03T08:57:12.325Z"
   },
   {
    "duration": 1605,
    "start_time": "2024-12-03T08:57:12.338Z"
   },
   {
    "duration": 1313,
    "start_time": "2024-12-03T08:58:33.931Z"
   },
   {
    "duration": 385,
    "start_time": "2024-12-03T09:01:07.097Z"
   },
   {
    "duration": 8,
    "start_time": "2024-12-03T09:01:07.484Z"
   },
   {
    "duration": 14,
    "start_time": "2024-12-03T09:01:07.493Z"
   },
   {
    "duration": 3,
    "start_time": "2024-12-03T09:01:07.508Z"
   },
   {
    "duration": 14,
    "start_time": "2024-12-03T09:01:07.513Z"
   },
   {
    "duration": 6,
    "start_time": "2024-12-03T09:01:07.528Z"
   },
   {
    "duration": 14,
    "start_time": "2024-12-03T09:01:07.535Z"
   },
   {
    "duration": 11,
    "start_time": "2024-12-03T09:01:07.557Z"
   },
   {
    "duration": 9,
    "start_time": "2024-12-03T09:01:07.570Z"
   },
   {
    "duration": 425,
    "start_time": "2024-12-03T09:03:05.169Z"
   },
   {
    "duration": 8,
    "start_time": "2024-12-03T09:03:05.596Z"
   },
   {
    "duration": 16,
    "start_time": "2024-12-03T09:03:05.606Z"
   },
   {
    "duration": 11,
    "start_time": "2024-12-03T09:03:05.624Z"
   },
   {
    "duration": 5,
    "start_time": "2024-12-03T09:03:05.636Z"
   },
   {
    "duration": 8,
    "start_time": "2024-12-03T09:03:05.642Z"
   },
   {
    "duration": 24,
    "start_time": "2024-12-03T09:03:05.651Z"
   },
   {
    "duration": 20,
    "start_time": "2024-12-03T09:03:05.677Z"
   },
   {
    "duration": 13,
    "start_time": "2024-12-03T09:03:05.698Z"
   },
   {
    "duration": 79,
    "start_time": "2024-12-03T09:03:05.713Z"
   },
   {
    "duration": 3,
    "start_time": "2024-12-03T09:16:45.332Z"
   },
   {
    "duration": 111,
    "start_time": "2024-12-03T09:17:02.107Z"
   },
   {
    "duration": 4,
    "start_time": "2024-12-03T09:17:16.807Z"
   },
   {
    "duration": 10,
    "start_time": "2024-12-03T09:17:46.227Z"
   },
   {
    "duration": 9,
    "start_time": "2024-12-03T09:18:09.657Z"
   },
   {
    "duration": 62,
    "start_time": "2024-12-03T09:22:35.717Z"
   },
   {
    "duration": 4,
    "start_time": "2024-12-03T09:22:47.097Z"
   },
   {
    "duration": 9,
    "start_time": "2024-12-03T09:24:06.417Z"
   },
   {
    "duration": 2,
    "start_time": "2024-12-03T09:26:15.321Z"
   },
   {
    "duration": 7,
    "start_time": "2024-12-03T09:26:53.861Z"
   },
   {
    "duration": 5,
    "start_time": "2024-12-03T09:27:25.921Z"
   },
   {
    "duration": 8,
    "start_time": "2024-12-03T09:27:58.769Z"
   },
   {
    "duration": 9,
    "start_time": "2024-12-03T09:29:07.044Z"
   },
   {
    "duration": 4,
    "start_time": "2024-12-03T09:29:21.857Z"
   },
   {
    "duration": 443,
    "start_time": "2024-12-03T09:29:49.841Z"
   },
   {
    "duration": 8,
    "start_time": "2024-12-03T09:29:50.286Z"
   },
   {
    "duration": 39,
    "start_time": "2024-12-03T09:29:50.303Z"
   },
   {
    "duration": 11,
    "start_time": "2024-12-03T09:29:50.343Z"
   },
   {
    "duration": 50,
    "start_time": "2024-12-03T09:29:50.356Z"
   },
   {
    "duration": 19,
    "start_time": "2024-12-03T09:29:50.407Z"
   },
   {
    "duration": 21,
    "start_time": "2024-12-03T09:29:50.427Z"
   },
   {
    "duration": 13,
    "start_time": "2024-12-03T09:29:50.450Z"
   },
   {
    "duration": 22,
    "start_time": "2024-12-03T09:29:50.464Z"
   },
   {
    "duration": 71,
    "start_time": "2024-12-03T09:29:50.487Z"
   },
   {
    "duration": 3,
    "start_time": "2024-12-03T09:29:50.560Z"
   },
   {
    "duration": 9,
    "start_time": "2024-12-03T09:29:50.564Z"
   },
   {
    "duration": 8,
    "start_time": "2024-12-03T09:29:50.574Z"
   },
   {
    "duration": 10,
    "start_time": "2024-12-03T09:29:50.584Z"
   },
   {
    "duration": 1475,
    "start_time": "2024-12-03T09:32:17.940Z"
   },
   {
    "duration": 6,
    "start_time": "2024-12-03T09:34:19.309Z"
   },
   {
    "duration": 7,
    "start_time": "2024-12-03T09:34:41.271Z"
   },
   {
    "duration": 415,
    "start_time": "2024-12-03T09:34:47.866Z"
   },
   {
    "duration": 9,
    "start_time": "2024-12-03T09:34:48.282Z"
   },
   {
    "duration": 21,
    "start_time": "2024-12-03T09:34:48.292Z"
   },
   {
    "duration": 121,
    "start_time": "2024-12-03T09:34:48.314Z"
   },
   {
    "duration": 4,
    "start_time": "2024-12-03T09:34:48.438Z"
   },
   {
    "duration": 17,
    "start_time": "2024-12-03T09:34:48.443Z"
   },
   {
    "duration": 24,
    "start_time": "2024-12-03T09:34:48.461Z"
   },
   {
    "duration": 17,
    "start_time": "2024-12-03T09:34:48.487Z"
   },
   {
    "duration": 9,
    "start_time": "2024-12-03T09:34:48.505Z"
   },
   {
    "duration": 94,
    "start_time": "2024-12-03T09:34:48.515Z"
   },
   {
    "duration": 3,
    "start_time": "2024-12-03T09:34:48.610Z"
   },
   {
    "duration": 9,
    "start_time": "2024-12-03T09:34:48.614Z"
   },
   {
    "duration": 8,
    "start_time": "2024-12-03T09:34:48.624Z"
   },
   {
    "duration": 14,
    "start_time": "2024-12-03T09:34:48.634Z"
   },
   {
    "duration": 10,
    "start_time": "2024-12-03T09:36:27.319Z"
   },
   {
    "duration": 760,
    "start_time": "2024-12-03T09:37:55.978Z"
   },
   {
    "duration": 433,
    "start_time": "2024-12-03T09:38:17.870Z"
   },
   {
    "duration": 9,
    "start_time": "2024-12-03T09:38:18.305Z"
   },
   {
    "duration": 162,
    "start_time": "2024-12-03T09:38:18.315Z"
   },
   {
    "duration": 7,
    "start_time": "2024-12-03T09:38:18.478Z"
   },
   {
    "duration": 19,
    "start_time": "2024-12-03T09:38:18.486Z"
   },
   {
    "duration": 17,
    "start_time": "2024-12-03T09:38:18.507Z"
   },
   {
    "duration": 36,
    "start_time": "2024-12-03T09:38:18.526Z"
   },
   {
    "duration": 14,
    "start_time": "2024-12-03T09:38:18.563Z"
   },
   {
    "duration": 9,
    "start_time": "2024-12-03T09:38:18.578Z"
   },
   {
    "duration": 81,
    "start_time": "2024-12-03T09:38:18.588Z"
   },
   {
    "duration": 4,
    "start_time": "2024-12-03T09:38:18.670Z"
   },
   {
    "duration": 32,
    "start_time": "2024-12-03T09:38:18.675Z"
   },
   {
    "duration": 19,
    "start_time": "2024-12-03T09:38:18.708Z"
   },
   {
    "duration": 15,
    "start_time": "2024-12-03T09:38:18.730Z"
   },
   {
    "duration": 6,
    "start_time": "2024-12-03T09:38:56.478Z"
   },
   {
    "duration": 18,
    "start_time": "2024-12-03T09:46:18.334Z"
   },
   {
    "duration": 16,
    "start_time": "2024-12-03T09:47:12.234Z"
   },
   {
    "duration": 448,
    "start_time": "2024-12-03T09:47:42.146Z"
   },
   {
    "duration": 9,
    "start_time": "2024-12-03T09:47:42.595Z"
   },
   {
    "duration": 18,
    "start_time": "2024-12-03T09:47:42.605Z"
   },
   {
    "duration": 2,
    "start_time": "2024-12-03T09:47:42.625Z"
   },
   {
    "duration": 5,
    "start_time": "2024-12-03T09:47:42.628Z"
   },
   {
    "duration": 10,
    "start_time": "2024-12-03T09:47:42.634Z"
   },
   {
    "duration": 39,
    "start_time": "2024-12-03T09:47:42.645Z"
   },
   {
    "duration": 20,
    "start_time": "2024-12-03T09:47:42.685Z"
   },
   {
    "duration": 8,
    "start_time": "2024-12-03T09:47:42.707Z"
   },
   {
    "duration": 4,
    "start_time": "2024-12-03T09:47:42.717Z"
   },
   {
    "duration": 34,
    "start_time": "2024-12-03T09:47:42.722Z"
   },
   {
    "duration": 8,
    "start_time": "2024-12-03T09:47:42.758Z"
   },
   {
    "duration": 7,
    "start_time": "2024-12-03T09:47:42.767Z"
   },
   {
    "duration": 5,
    "start_time": "2024-12-03T09:47:42.775Z"
   },
   {
    "duration": 8,
    "start_time": "2024-12-03T09:49:30.994Z"
   },
   {
    "duration": 5,
    "start_time": "2024-12-03T09:49:47.833Z"
   },
   {
    "duration": 105,
    "start_time": "2024-12-03T09:50:59.541Z"
   },
   {
    "duration": 5,
    "start_time": "2024-12-03T09:51:26.594Z"
   },
   {
    "duration": 9,
    "start_time": "2024-12-03T09:53:39.468Z"
   },
   {
    "duration": 13,
    "start_time": "2024-12-03T09:57:32.834Z"
   },
   {
    "duration": 7,
    "start_time": "2024-12-03T09:58:33.773Z"
   },
   {
    "duration": 6,
    "start_time": "2024-12-03T10:00:39.246Z"
   },
   {
    "duration": 16,
    "start_time": "2024-12-03T10:01:00.603Z"
   },
   {
    "duration": 23,
    "start_time": "2024-12-03T10:07:05.736Z"
   },
   {
    "duration": 81,
    "start_time": "2024-12-03T10:13:26.769Z"
   },
   {
    "duration": 59,
    "start_time": "2024-12-03T10:13:50.757Z"
   },
   {
    "duration": 61,
    "start_time": "2024-12-03T10:16:36.269Z"
   },
   {
    "duration": 37,
    "start_time": "2024-12-03T10:18:20.078Z"
   },
   {
    "duration": 46,
    "start_time": "2024-12-03T10:19:11.069Z"
   },
   {
    "duration": 41,
    "start_time": "2024-12-03T10:19:13.066Z"
   },
   {
    "duration": 44,
    "start_time": "2024-12-03T10:20:05.144Z"
   },
   {
    "duration": 38,
    "start_time": "2024-12-03T10:21:17.609Z"
   },
   {
    "duration": 39,
    "start_time": "2024-12-03T10:21:39.621Z"
   },
   {
    "duration": 42,
    "start_time": "2024-12-03T10:21:46.429Z"
   },
   {
    "duration": 419,
    "start_time": "2024-12-03T10:23:05.677Z"
   },
   {
    "duration": 7,
    "start_time": "2024-12-03T10:23:06.098Z"
   },
   {
    "duration": 33,
    "start_time": "2024-12-03T10:23:06.107Z"
   },
   {
    "duration": 4,
    "start_time": "2024-12-03T10:23:06.141Z"
   },
   {
    "duration": 37,
    "start_time": "2024-12-03T10:23:06.147Z"
   },
   {
    "duration": 30,
    "start_time": "2024-12-03T10:23:06.185Z"
   },
   {
    "duration": 31,
    "start_time": "2024-12-03T10:23:06.216Z"
   },
   {
    "duration": 20,
    "start_time": "2024-12-03T10:23:06.248Z"
   },
   {
    "duration": 10,
    "start_time": "2024-12-03T10:23:06.270Z"
   },
   {
    "duration": 14,
    "start_time": "2024-12-03T10:23:06.281Z"
   },
   {
    "duration": 25,
    "start_time": "2024-12-03T10:23:06.296Z"
   },
   {
    "duration": 21,
    "start_time": "2024-12-03T10:23:06.323Z"
   },
   {
    "duration": 21,
    "start_time": "2024-12-03T10:23:06.346Z"
   },
   {
    "duration": 17,
    "start_time": "2024-12-03T10:23:06.371Z"
   },
   {
    "duration": 26,
    "start_time": "2024-12-03T10:23:06.389Z"
   },
   {
    "duration": 53,
    "start_time": "2024-12-03T10:23:06.417Z"
   },
   {
    "duration": 43,
    "start_time": "2024-12-03T10:23:06.472Z"
   },
   {
    "duration": 48,
    "start_time": "2024-12-03T10:23:50.140Z"
   },
   {
    "duration": 52,
    "start_time": "2024-12-03T15:07:49.583Z"
   },
   {
    "duration": 647,
    "start_time": "2024-12-03T15:08:01.548Z"
   },
   {
    "duration": 11,
    "start_time": "2024-12-03T15:08:02.197Z"
   },
   {
    "duration": 24,
    "start_time": "2024-12-03T15:08:02.210Z"
   },
   {
    "duration": 25,
    "start_time": "2024-12-03T15:08:02.236Z"
   },
   {
    "duration": 35,
    "start_time": "2024-12-03T15:08:02.263Z"
   },
   {
    "duration": 32,
    "start_time": "2024-12-03T15:08:02.300Z"
   },
   {
    "duration": 43,
    "start_time": "2024-12-03T15:08:02.334Z"
   },
   {
    "duration": 100,
    "start_time": "2024-12-03T15:08:02.379Z"
   },
   {
    "duration": 23,
    "start_time": "2024-12-03T15:08:02.481Z"
   },
   {
    "duration": 31,
    "start_time": "2024-12-03T15:08:02.506Z"
   },
   {
    "duration": 25,
    "start_time": "2024-12-03T15:08:02.539Z"
   },
   {
    "duration": 11,
    "start_time": "2024-12-03T15:08:02.566Z"
   },
   {
    "duration": 25,
    "start_time": "2024-12-03T15:08:02.579Z"
   },
   {
    "duration": 76,
    "start_time": "2024-12-03T15:08:02.606Z"
   },
   {
    "duration": 8,
    "start_time": "2024-12-03T15:08:02.686Z"
   },
   {
    "duration": 87,
    "start_time": "2024-12-03T15:08:02.697Z"
   },
   {
    "duration": 118,
    "start_time": "2024-12-03T15:08:02.785Z"
   },
   {
    "duration": 89,
    "start_time": "2024-12-03T15:08:02.905Z"
   },
   {
    "duration": 1066,
    "start_time": "2024-12-03T15:09:48.275Z"
   },
   {
    "duration": 37,
    "start_time": "2024-12-03T15:15:21.601Z"
   },
   {
    "duration": 25,
    "start_time": "2024-12-03T15:16:05.538Z"
   },
   {
    "duration": 28,
    "start_time": "2024-12-03T15:16:21.464Z"
   },
   {
    "duration": 20,
    "start_time": "2024-12-03T15:18:14.213Z"
   },
   {
    "duration": 21,
    "start_time": "2024-12-03T15:18:39.283Z"
   },
   {
    "duration": 19,
    "start_time": "2024-12-03T15:19:25.221Z"
   },
   {
    "duration": 19,
    "start_time": "2024-12-03T15:20:15.779Z"
   },
   {
    "duration": 13,
    "start_time": "2024-12-03T15:34:40.039Z"
   },
   {
    "duration": 6,
    "start_time": "2024-12-03T15:35:47.549Z"
   },
   {
    "duration": 16,
    "start_time": "2024-12-03T15:36:04.297Z"
   },
   {
    "duration": 16,
    "start_time": "2024-12-03T15:37:42.852Z"
   },
   {
    "duration": 406,
    "start_time": "2024-12-03T17:50:56.097Z"
   },
   {
    "duration": 10,
    "start_time": "2024-12-03T17:50:56.505Z"
   },
   {
    "duration": 23,
    "start_time": "2024-12-03T17:50:56.517Z"
   },
   {
    "duration": 7,
    "start_time": "2024-12-03T17:50:56.542Z"
   },
   {
    "duration": 5,
    "start_time": "2024-12-03T17:50:56.550Z"
   },
   {
    "duration": 9,
    "start_time": "2024-12-03T17:50:56.557Z"
   },
   {
    "duration": 25,
    "start_time": "2024-12-03T17:50:56.568Z"
   },
   {
    "duration": 19,
    "start_time": "2024-12-03T17:50:56.594Z"
   },
   {
    "duration": 31,
    "start_time": "2024-12-03T17:50:56.615Z"
   },
   {
    "duration": 17,
    "start_time": "2024-12-03T17:50:56.649Z"
   },
   {
    "duration": 43,
    "start_time": "2024-12-03T17:50:56.668Z"
   },
   {
    "duration": 77,
    "start_time": "2024-12-03T17:50:56.712Z"
   },
   {
    "duration": 12,
    "start_time": "2024-12-03T17:50:56.791Z"
   },
   {
    "duration": 7,
    "start_time": "2024-12-03T17:50:56.805Z"
   },
   {
    "duration": 7,
    "start_time": "2024-12-03T17:50:56.813Z"
   },
   {
    "duration": 82,
    "start_time": "2024-12-03T17:50:56.822Z"
   },
   {
    "duration": 50,
    "start_time": "2024-12-03T17:50:56.906Z"
   },
   {
    "duration": 119,
    "start_time": "2024-12-03T17:50:56.958Z"
   },
   {
    "duration": 14,
    "start_time": "2024-12-03T17:50:57.079Z"
   },
   {
    "duration": 15,
    "start_time": "2024-12-03T17:50:57.094Z"
   },
   {
    "duration": 76,
    "start_time": "2024-12-03T17:50:57.111Z"
   },
   {
    "duration": 17,
    "start_time": "2024-12-03T17:56:45.352Z"
   },
   {
    "duration": 101,
    "start_time": "2024-12-03T17:58:25.720Z"
   },
   {
    "duration": 4,
    "start_time": "2024-12-03T18:04:20.104Z"
   },
   {
    "duration": 445,
    "start_time": "2024-12-03T18:04:30.597Z"
   },
   {
    "duration": 10,
    "start_time": "2024-12-03T18:04:31.044Z"
   },
   {
    "duration": 58,
    "start_time": "2024-12-03T18:04:31.056Z"
   },
   {
    "duration": 24,
    "start_time": "2024-12-03T18:04:31.115Z"
   },
   {
    "duration": 7,
    "start_time": "2024-12-03T18:04:31.141Z"
   },
   {
    "duration": 17,
    "start_time": "2024-12-03T18:04:31.150Z"
   },
   {
    "duration": 146,
    "start_time": "2024-12-03T18:04:31.169Z"
   },
   {
    "duration": 7,
    "start_time": "2024-12-03T18:04:31.317Z"
   },
   {
    "duration": 41,
    "start_time": "2024-12-03T18:04:31.325Z"
   },
   {
    "duration": 29,
    "start_time": "2024-12-03T18:04:31.368Z"
   },
   {
    "duration": 17,
    "start_time": "2024-12-03T18:04:31.399Z"
   },
   {
    "duration": 21,
    "start_time": "2024-12-03T18:04:31.418Z"
   },
   {
    "duration": 18,
    "start_time": "2024-12-03T18:04:31.441Z"
   },
   {
    "duration": 64,
    "start_time": "2024-12-03T18:04:31.462Z"
   },
   {
    "duration": 57,
    "start_time": "2024-12-03T18:04:31.528Z"
   },
   {
    "duration": 11,
    "start_time": "2024-12-03T18:04:31.587Z"
   },
   {
    "duration": 12,
    "start_time": "2024-12-03T18:04:31.599Z"
   },
   {
    "duration": 27,
    "start_time": "2024-12-03T18:04:31.612Z"
   },
   {
    "duration": 148,
    "start_time": "2024-12-03T18:04:31.641Z"
   },
   {
    "duration": 47,
    "start_time": "2024-12-03T18:04:31.790Z"
   },
   {
    "duration": 19,
    "start_time": "2024-12-03T18:04:31.842Z"
   },
   {
    "duration": 14,
    "start_time": "2024-12-03T18:04:31.863Z"
   },
   {
    "duration": 29,
    "start_time": "2024-12-03T18:04:31.878Z"
   },
   {
    "duration": 86,
    "start_time": "2024-12-03T18:04:31.908Z"
   },
   {
    "duration": 5,
    "start_time": "2024-12-03T18:11:48.655Z"
   },
   {
    "duration": 27,
    "start_time": "2024-12-03T18:12:34.313Z"
   },
   {
    "duration": 5,
    "start_time": "2024-12-03T18:12:56.134Z"
   },
   {
    "duration": 5,
    "start_time": "2024-12-03T18:15:24.160Z"
   },
   {
    "duration": 18,
    "start_time": "2024-12-03T18:15:40.911Z"
   },
   {
    "duration": 14,
    "start_time": "2024-12-03T18:19:23.589Z"
   },
   {
    "duration": 15,
    "start_time": "2024-12-03T18:20:28.406Z"
   },
   {
    "duration": 16,
    "start_time": "2024-12-03T18:20:41.224Z"
   },
   {
    "duration": 508,
    "start_time": "2024-12-04T11:31:41.452Z"
   },
   {
    "duration": 17,
    "start_time": "2024-12-04T11:31:41.962Z"
   },
   {
    "duration": 32,
    "start_time": "2024-12-04T11:31:41.981Z"
   },
   {
    "duration": 14,
    "start_time": "2024-12-04T11:31:42.016Z"
   },
   {
    "duration": 3,
    "start_time": "2024-12-04T11:31:42.031Z"
   },
   {
    "duration": 9,
    "start_time": "2024-12-04T11:31:42.035Z"
   },
   {
    "duration": 106,
    "start_time": "2024-12-04T11:31:42.046Z"
   },
   {
    "duration": 6,
    "start_time": "2024-12-04T11:31:42.154Z"
   },
   {
    "duration": 51,
    "start_time": "2024-12-04T11:31:42.161Z"
   },
   {
    "duration": 4,
    "start_time": "2024-12-04T11:31:42.216Z"
   },
   {
    "duration": 13,
    "start_time": "2024-12-04T11:31:42.221Z"
   },
   {
    "duration": 17,
    "start_time": "2024-12-04T11:31:42.235Z"
   },
   {
    "duration": 68,
    "start_time": "2024-12-04T11:31:42.253Z"
   },
   {
    "duration": 12,
    "start_time": "2024-12-04T11:31:42.323Z"
   },
   {
    "duration": 76,
    "start_time": "2024-12-04T11:31:42.337Z"
   },
   {
    "duration": 17,
    "start_time": "2024-12-04T11:31:42.415Z"
   },
   {
    "duration": 8,
    "start_time": "2024-12-04T11:31:42.433Z"
   },
   {
    "duration": 7,
    "start_time": "2024-12-04T11:31:42.443Z"
   },
   {
    "duration": 48,
    "start_time": "2024-12-04T11:31:42.452Z"
   },
   {
    "duration": 40,
    "start_time": "2024-12-04T11:31:42.501Z"
   },
   {
    "duration": 5,
    "start_time": "2024-12-04T11:31:42.542Z"
   },
   {
    "duration": 32,
    "start_time": "2024-12-04T11:31:42.548Z"
   },
   {
    "duration": 13,
    "start_time": "2024-12-04T11:31:42.581Z"
   },
   {
    "duration": 15,
    "start_time": "2024-12-04T11:31:42.595Z"
   },
   {
    "duration": 12,
    "start_time": "2024-12-04T11:31:42.611Z"
   },
   {
    "duration": 12,
    "start_time": "2024-12-04T11:31:42.624Z"
   },
   {
    "duration": 92,
    "start_time": "2024-12-04T11:31:42.637Z"
   },
   {
    "duration": 48,
    "start_time": "2024-12-04T11:32:15.024Z"
   },
   {
    "duration": 403,
    "start_time": "2024-12-04T11:32:21.152Z"
   },
   {
    "duration": 48,
    "start_time": "2024-12-04T11:32:21.557Z"
   },
   {
    "duration": 19,
    "start_time": "2024-12-04T11:32:21.606Z"
   },
   {
    "duration": 11,
    "start_time": "2024-12-04T11:32:21.628Z"
   },
   {
    "duration": 13,
    "start_time": "2024-12-04T11:32:21.641Z"
   },
   {
    "duration": 16,
    "start_time": "2024-12-04T11:32:21.656Z"
   },
   {
    "duration": 9,
    "start_time": "2024-12-04T11:32:21.673Z"
   },
   {
    "duration": 153,
    "start_time": "2024-12-04T11:32:21.684Z"
   },
   {
    "duration": 5,
    "start_time": "2024-12-04T11:32:21.839Z"
   },
   {
    "duration": 22,
    "start_time": "2024-12-04T11:32:21.848Z"
   },
   {
    "duration": 5,
    "start_time": "2024-12-04T11:32:21.872Z"
   },
   {
    "duration": 55,
    "start_time": "2024-12-04T11:32:21.878Z"
   },
   {
    "duration": 14,
    "start_time": "2024-12-04T11:32:21.934Z"
   },
   {
    "duration": 5,
    "start_time": "2024-12-04T11:32:21.949Z"
   },
   {
    "duration": 6,
    "start_time": "2024-12-04T11:32:21.955Z"
   },
   {
    "duration": 6,
    "start_time": "2024-12-04T11:32:21.963Z"
   },
   {
    "duration": 7,
    "start_time": "2024-12-04T11:32:21.970Z"
   },
   {
    "duration": 7,
    "start_time": "2024-12-04T11:32:21.978Z"
   },
   {
    "duration": 6,
    "start_time": "2024-12-04T11:32:21.986Z"
   },
   {
    "duration": 47,
    "start_time": "2024-12-04T11:32:21.993Z"
   },
   {
    "duration": 53,
    "start_time": "2024-12-04T11:32:22.042Z"
   },
   {
    "duration": 4,
    "start_time": "2024-12-04T11:32:22.096Z"
   },
   {
    "duration": 22,
    "start_time": "2024-12-04T11:32:22.101Z"
   },
   {
    "duration": 49,
    "start_time": "2024-12-04T11:32:22.125Z"
   },
   {
    "duration": 13,
    "start_time": "2024-12-04T11:32:22.175Z"
   },
   {
    "duration": 13,
    "start_time": "2024-12-04T11:32:22.190Z"
   },
   {
    "duration": 20,
    "start_time": "2024-12-04T11:32:22.204Z"
   },
   {
    "duration": 80,
    "start_time": "2024-12-04T11:32:22.228Z"
   },
   {
    "duration": 378,
    "start_time": "2024-12-04T11:33:28.477Z"
   },
   {
    "duration": 48,
    "start_time": "2024-12-04T11:33:28.857Z"
   },
   {
    "duration": 17,
    "start_time": "2024-12-04T11:33:28.906Z"
   },
   {
    "duration": 11,
    "start_time": "2024-12-04T11:33:28.924Z"
   },
   {
    "duration": 18,
    "start_time": "2024-12-04T11:33:28.936Z"
   },
   {
    "duration": 3,
    "start_time": "2024-12-04T11:33:28.955Z"
   },
   {
    "duration": 3,
    "start_time": "2024-12-04T11:33:28.971Z"
   },
   {
    "duration": 182,
    "start_time": "2024-12-04T11:33:28.976Z"
   },
   {
    "duration": 4,
    "start_time": "2024-12-04T11:33:29.160Z"
   },
   {
    "duration": 15,
    "start_time": "2024-12-04T11:33:29.167Z"
   },
   {
    "duration": 3,
    "start_time": "2024-12-04T11:33:29.183Z"
   },
   {
    "duration": 9,
    "start_time": "2024-12-04T11:33:29.188Z"
   },
   {
    "duration": 8,
    "start_time": "2024-12-04T11:33:29.198Z"
   },
   {
    "duration": 4,
    "start_time": "2024-12-04T11:33:29.207Z"
   },
   {
    "duration": 18,
    "start_time": "2024-12-04T11:33:29.212Z"
   },
   {
    "duration": 6,
    "start_time": "2024-12-04T11:33:29.232Z"
   },
   {
    "duration": 7,
    "start_time": "2024-12-04T11:33:29.239Z"
   },
   {
    "duration": 25,
    "start_time": "2024-12-04T11:33:29.247Z"
   },
   {
    "duration": 13,
    "start_time": "2024-12-04T11:33:29.273Z"
   },
   {
    "duration": 43,
    "start_time": "2024-12-04T11:33:29.288Z"
   },
   {
    "duration": 45,
    "start_time": "2024-12-04T11:33:29.332Z"
   },
   {
    "duration": 4,
    "start_time": "2024-12-04T11:33:29.379Z"
   },
   {
    "duration": 42,
    "start_time": "2024-12-04T11:33:29.384Z"
   },
   {
    "duration": 12,
    "start_time": "2024-12-04T11:33:29.427Z"
   },
   {
    "duration": 13,
    "start_time": "2024-12-04T11:33:29.440Z"
   },
   {
    "duration": 11,
    "start_time": "2024-12-04T11:33:29.455Z"
   },
   {
    "duration": 18,
    "start_time": "2024-12-04T11:33:29.467Z"
   },
   {
    "duration": 92,
    "start_time": "2024-12-04T11:33:29.488Z"
   },
   {
    "duration": 5,
    "start_time": "2024-12-04T11:34:31.898Z"
   },
   {
    "duration": 7,
    "start_time": "2024-12-04T11:34:48.934Z"
   },
   {
    "duration": 4,
    "start_time": "2024-12-04T11:35:01.873Z"
   },
   {
    "duration": 7,
    "start_time": "2024-12-04T11:36:38.718Z"
   },
   {
    "duration": 2,
    "start_time": "2024-12-04T11:37:28.919Z"
   },
   {
    "duration": 5,
    "start_time": "2024-12-04T11:40:05.788Z"
   },
   {
    "duration": 4,
    "start_time": "2024-12-04T11:41:35.687Z"
   },
   {
    "duration": 21,
    "start_time": "2024-12-04T11:41:42.701Z"
   },
   {
    "duration": 21,
    "start_time": "2024-12-04T11:42:15.228Z"
   },
   {
    "duration": 362,
    "start_time": "2024-12-04T11:42:30.095Z"
   },
   {
    "duration": 47,
    "start_time": "2024-12-04T11:42:30.459Z"
   },
   {
    "duration": 16,
    "start_time": "2024-12-04T11:42:30.508Z"
   },
   {
    "duration": 12,
    "start_time": "2024-12-04T11:42:30.526Z"
   },
   {
    "duration": 24,
    "start_time": "2024-12-04T11:42:30.539Z"
   },
   {
    "duration": 3,
    "start_time": "2024-12-04T11:42:30.564Z"
   },
   {
    "duration": 4,
    "start_time": "2024-12-04T11:42:30.568Z"
   },
   {
    "duration": 121,
    "start_time": "2024-12-04T11:42:30.573Z"
   },
   {
    "duration": 4,
    "start_time": "2024-12-04T11:42:30.696Z"
   },
   {
    "duration": 12,
    "start_time": "2024-12-04T11:42:30.704Z"
   },
   {
    "duration": 15,
    "start_time": "2024-12-04T11:42:30.717Z"
   },
   {
    "duration": 21,
    "start_time": "2024-12-04T11:42:30.733Z"
   },
   {
    "duration": 15,
    "start_time": "2024-12-04T11:42:30.755Z"
   },
   {
    "duration": 5,
    "start_time": "2024-12-04T11:42:30.771Z"
   },
   {
    "duration": 15,
    "start_time": "2024-12-04T11:42:30.777Z"
   },
   {
    "duration": 27,
    "start_time": "2024-12-04T11:42:30.793Z"
   },
   {
    "duration": 8,
    "start_time": "2024-12-04T11:42:30.822Z"
   },
   {
    "duration": 12,
    "start_time": "2024-12-04T11:42:30.831Z"
   },
   {
    "duration": 18,
    "start_time": "2024-12-04T11:42:30.844Z"
   },
   {
    "duration": 7,
    "start_time": "2024-12-04T11:42:30.863Z"
   },
   {
    "duration": 20,
    "start_time": "2024-12-04T11:42:30.871Z"
   },
   {
    "duration": 18,
    "start_time": "2024-12-04T11:42:30.892Z"
   },
   {
    "duration": 31,
    "start_time": "2024-12-04T11:42:30.911Z"
   },
   {
    "duration": 50,
    "start_time": "2024-12-04T11:42:30.943Z"
   },
   {
    "duration": 40,
    "start_time": "2024-12-04T11:42:30.994Z"
   },
   {
    "duration": 4,
    "start_time": "2024-12-04T11:42:31.035Z"
   },
   {
    "duration": 39,
    "start_time": "2024-12-04T11:42:31.040Z"
   },
   {
    "duration": 11,
    "start_time": "2024-12-04T11:42:31.082Z"
   },
   {
    "duration": 16,
    "start_time": "2024-12-04T11:42:31.094Z"
   },
   {
    "duration": 26,
    "start_time": "2024-12-04T11:42:31.111Z"
   },
   {
    "duration": 30,
    "start_time": "2024-12-04T11:42:31.138Z"
   },
   {
    "duration": 12,
    "start_time": "2024-12-04T11:42:31.169Z"
   },
   {
    "duration": 69,
    "start_time": "2024-12-04T11:42:31.182Z"
   },
   {
    "duration": 7,
    "start_time": "2024-12-04T11:43:20.724Z"
   },
   {
    "duration": 7,
    "start_time": "2024-12-04T11:43:44.988Z"
   },
   {
    "duration": 7,
    "start_time": "2024-12-04T11:44:12.965Z"
   },
   {
    "duration": 42,
    "start_time": "2024-12-04T11:48:19.287Z"
   },
   {
    "duration": 37,
    "start_time": "2024-12-04T11:48:45.127Z"
   },
   {
    "duration": 345,
    "start_time": "2024-12-04T11:50:52.203Z"
   },
   {
    "duration": 47,
    "start_time": "2024-12-04T11:50:52.550Z"
   },
   {
    "duration": 16,
    "start_time": "2024-12-04T11:50:52.600Z"
   },
   {
    "duration": 30,
    "start_time": "2024-12-04T11:50:52.617Z"
   },
   {
    "duration": 26,
    "start_time": "2024-12-04T11:50:52.648Z"
   },
   {
    "duration": 2,
    "start_time": "2024-12-04T11:50:52.676Z"
   },
   {
    "duration": 12,
    "start_time": "2024-12-04T11:50:52.679Z"
   },
   {
    "duration": 118,
    "start_time": "2024-12-04T11:50:52.692Z"
   },
   {
    "duration": 5,
    "start_time": "2024-12-04T11:50:52.812Z"
   },
   {
    "duration": 10,
    "start_time": "2024-12-04T11:50:52.818Z"
   },
   {
    "duration": 25,
    "start_time": "2024-12-04T11:50:52.829Z"
   },
   {
    "duration": 10,
    "start_time": "2024-12-04T11:50:52.855Z"
   },
   {
    "duration": 21,
    "start_time": "2024-12-04T11:50:52.867Z"
   },
   {
    "duration": 8,
    "start_time": "2024-12-04T11:50:52.889Z"
   },
   {
    "duration": 2,
    "start_time": "2024-12-04T11:50:52.898Z"
   },
   {
    "duration": 22,
    "start_time": "2024-12-04T11:50:52.901Z"
   },
   {
    "duration": 7,
    "start_time": "2024-12-04T11:50:52.924Z"
   },
   {
    "duration": 5,
    "start_time": "2024-12-04T11:50:52.932Z"
   },
   {
    "duration": 8,
    "start_time": "2024-12-04T11:50:52.938Z"
   },
   {
    "duration": 6,
    "start_time": "2024-12-04T11:50:52.947Z"
   },
   {
    "duration": 9,
    "start_time": "2024-12-04T11:50:52.954Z"
   },
   {
    "duration": 8,
    "start_time": "2024-12-04T11:50:52.964Z"
   },
   {
    "duration": 7,
    "start_time": "2024-12-04T11:50:52.973Z"
   },
   {
    "duration": 44,
    "start_time": "2024-12-04T11:50:52.981Z"
   },
   {
    "duration": 48,
    "start_time": "2024-12-04T11:50:53.026Z"
   },
   {
    "duration": 3,
    "start_time": "2024-12-04T11:50:53.076Z"
   },
   {
    "duration": 17,
    "start_time": "2024-12-04T11:50:53.082Z"
   },
   {
    "duration": 11,
    "start_time": "2024-12-04T11:50:53.100Z"
   },
   {
    "duration": 4,
    "start_time": "2024-12-04T11:50:53.112Z"
   },
   {
    "duration": 18,
    "start_time": "2024-12-04T11:50:53.117Z"
   },
   {
    "duration": 50,
    "start_time": "2024-12-04T11:50:53.136Z"
   },
   {
    "duration": 12,
    "start_time": "2024-12-04T11:50:53.187Z"
   },
   {
    "duration": 6,
    "start_time": "2024-12-04T11:50:53.200Z"
   },
   {
    "duration": 5,
    "start_time": "2024-12-04T11:50:53.207Z"
   },
   {
    "duration": 370,
    "start_time": "2024-12-04T11:51:43.190Z"
   },
   {
    "duration": 47,
    "start_time": "2024-12-04T11:51:43.561Z"
   },
   {
    "duration": 17,
    "start_time": "2024-12-04T11:51:43.610Z"
   },
   {
    "duration": 11,
    "start_time": "2024-12-04T11:51:43.629Z"
   },
   {
    "duration": 17,
    "start_time": "2024-12-04T11:51:43.641Z"
   },
   {
    "duration": 2,
    "start_time": "2024-12-04T11:51:43.660Z"
   },
   {
    "duration": 8,
    "start_time": "2024-12-04T11:51:43.663Z"
   },
   {
    "duration": 210,
    "start_time": "2024-12-04T11:51:43.673Z"
   },
   {
    "duration": 4,
    "start_time": "2024-12-04T11:51:43.884Z"
   },
   {
    "duration": 5,
    "start_time": "2024-12-04T11:51:43.891Z"
   },
   {
    "duration": 6,
    "start_time": "2024-12-04T11:51:43.897Z"
   },
   {
    "duration": 4,
    "start_time": "2024-12-04T11:51:43.904Z"
   },
   {
    "duration": 16,
    "start_time": "2024-12-04T11:51:43.910Z"
   },
   {
    "duration": 4,
    "start_time": "2024-12-04T11:51:43.927Z"
   },
   {
    "duration": 9,
    "start_time": "2024-12-04T11:51:43.932Z"
   },
   {
    "duration": 35,
    "start_time": "2024-12-04T11:51:43.942Z"
   },
   {
    "duration": 27,
    "start_time": "2024-12-04T11:51:43.979Z"
   },
   {
    "duration": 58,
    "start_time": "2024-12-04T11:51:44.008Z"
   },
   {
    "duration": 8,
    "start_time": "2024-12-04T11:51:44.067Z"
   },
   {
    "duration": 6,
    "start_time": "2024-12-04T11:51:44.076Z"
   },
   {
    "duration": 23,
    "start_time": "2024-12-04T11:51:44.083Z"
   },
   {
    "duration": 13,
    "start_time": "2024-12-04T11:51:44.107Z"
   },
   {
    "duration": 8,
    "start_time": "2024-12-04T11:51:44.121Z"
   },
   {
    "duration": 56,
    "start_time": "2024-12-04T11:51:44.131Z"
   },
   {
    "duration": 38,
    "start_time": "2024-12-04T11:51:44.188Z"
   },
   {
    "duration": 27,
    "start_time": "2024-12-04T11:51:44.228Z"
   },
   {
    "duration": 24,
    "start_time": "2024-12-04T11:51:44.256Z"
   },
   {
    "duration": 13,
    "start_time": "2024-12-04T11:51:44.283Z"
   },
   {
    "duration": 5,
    "start_time": "2024-12-04T11:51:44.297Z"
   },
   {
    "duration": 19,
    "start_time": "2024-12-04T11:51:44.303Z"
   },
   {
    "duration": 21,
    "start_time": "2024-12-04T11:51:44.323Z"
   },
   {
    "duration": 36,
    "start_time": "2024-12-04T11:51:44.346Z"
   },
   {
    "duration": 23,
    "start_time": "2024-12-04T11:51:44.383Z"
   },
   {
    "duration": 5,
    "start_time": "2024-12-04T11:51:44.407Z"
   },
   {
    "duration": 320,
    "start_time": "2024-12-04T11:56:13.524Z"
   },
   {
    "duration": 47,
    "start_time": "2024-12-04T11:56:13.846Z"
   },
   {
    "duration": 16,
    "start_time": "2024-12-04T11:56:13.895Z"
   },
   {
    "duration": 10,
    "start_time": "2024-12-04T11:56:13.913Z"
   },
   {
    "duration": 12,
    "start_time": "2024-12-04T11:56:13.924Z"
   },
   {
    "duration": 5,
    "start_time": "2024-12-04T11:56:13.938Z"
   },
   {
    "duration": 27,
    "start_time": "2024-12-04T11:56:13.944Z"
   },
   {
    "duration": 129,
    "start_time": "2024-12-04T11:56:13.972Z"
   },
   {
    "duration": 5,
    "start_time": "2024-12-04T11:56:14.103Z"
   },
   {
    "duration": 5,
    "start_time": "2024-12-04T11:56:14.113Z"
   },
   {
    "duration": 6,
    "start_time": "2024-12-04T11:56:14.119Z"
   },
   {
    "duration": 4,
    "start_time": "2024-12-04T11:56:14.127Z"
   },
   {
    "duration": 40,
    "start_time": "2024-12-04T11:56:14.133Z"
   },
   {
    "duration": 8,
    "start_time": "2024-12-04T11:56:14.175Z"
   },
   {
    "duration": 3,
    "start_time": "2024-12-04T11:56:14.185Z"
   },
   {
    "duration": 13,
    "start_time": "2024-12-04T11:56:14.189Z"
   },
   {
    "duration": 9,
    "start_time": "2024-12-04T11:56:14.203Z"
   },
   {
    "duration": 4,
    "start_time": "2024-12-04T11:56:14.213Z"
   },
   {
    "duration": 7,
    "start_time": "2024-12-04T11:56:14.218Z"
   },
   {
    "duration": 6,
    "start_time": "2024-12-04T11:56:14.227Z"
   },
   {
    "duration": 6,
    "start_time": "2024-12-04T11:56:14.234Z"
   },
   {
    "duration": 5,
    "start_time": "2024-12-04T11:56:14.271Z"
   },
   {
    "duration": 18,
    "start_time": "2024-12-04T11:56:14.277Z"
   },
   {
    "duration": 45,
    "start_time": "2024-12-04T11:56:14.296Z"
   },
   {
    "duration": 41,
    "start_time": "2024-12-04T11:56:14.342Z"
   },
   {
    "duration": 39,
    "start_time": "2024-12-04T11:56:14.384Z"
   },
   {
    "duration": 16,
    "start_time": "2024-12-04T11:56:14.425Z"
   },
   {
    "duration": 12,
    "start_time": "2024-12-04T11:56:14.443Z"
   },
   {
    "duration": 5,
    "start_time": "2024-12-04T11:56:14.456Z"
   },
   {
    "duration": 18,
    "start_time": "2024-12-04T11:56:14.462Z"
   },
   {
    "duration": 21,
    "start_time": "2024-12-04T11:56:14.482Z"
   },
   {
    "duration": 13,
    "start_time": "2024-12-04T11:56:14.504Z"
   },
   {
    "duration": 8,
    "start_time": "2024-12-04T11:56:14.519Z"
   },
   {
    "duration": 42,
    "start_time": "2024-12-04T11:56:14.529Z"
   },
   {
    "duration": 360,
    "start_time": "2024-12-04T22:41:10.540Z"
   },
   {
    "duration": 184,
    "start_time": "2024-12-04T22:41:10.902Z"
   },
   {
    "duration": 19,
    "start_time": "2024-12-04T22:41:11.088Z"
   },
   {
    "duration": 12,
    "start_time": "2024-12-04T22:41:11.109Z"
   },
   {
    "duration": 16,
    "start_time": "2024-12-04T22:41:11.124Z"
   },
   {
    "duration": 4,
    "start_time": "2024-12-04T22:41:11.141Z"
   },
   {
    "duration": 136,
    "start_time": "2024-12-04T22:41:11.146Z"
   },
   {
    "duration": 179,
    "start_time": "2024-12-04T22:41:11.284Z"
   },
   {
    "duration": 7,
    "start_time": "2024-12-04T22:41:11.465Z"
   },
   {
    "duration": 8,
    "start_time": "2024-12-04T22:41:11.473Z"
   },
   {
    "duration": 8,
    "start_time": "2024-12-04T22:41:11.482Z"
   },
   {
    "duration": 5,
    "start_time": "2024-12-04T22:41:11.492Z"
   },
   {
    "duration": 27,
    "start_time": "2024-12-04T22:41:11.498Z"
   },
   {
    "duration": 6,
    "start_time": "2024-12-04T22:41:11.529Z"
   },
   {
    "duration": 3,
    "start_time": "2024-12-04T22:41:11.537Z"
   },
   {
    "duration": 24,
    "start_time": "2024-12-04T22:41:11.541Z"
   },
   {
    "duration": 11,
    "start_time": "2024-12-04T22:41:11.567Z"
   },
   {
    "duration": 13,
    "start_time": "2024-12-04T22:41:11.580Z"
   },
   {
    "duration": 8,
    "start_time": "2024-12-04T22:41:11.594Z"
   },
   {
    "duration": 8,
    "start_time": "2024-12-04T22:41:11.603Z"
   },
   {
    "duration": 13,
    "start_time": "2024-12-04T22:41:11.612Z"
   },
   {
    "duration": 15,
    "start_time": "2024-12-04T22:41:11.626Z"
   },
   {
    "duration": 7,
    "start_time": "2024-12-04T22:41:11.642Z"
   },
   {
    "duration": 77,
    "start_time": "2024-12-04T22:41:11.651Z"
   },
   {
    "duration": 59,
    "start_time": "2024-12-04T22:41:11.729Z"
   },
   {
    "duration": 6,
    "start_time": "2024-12-04T22:41:11.789Z"
   },
   {
    "duration": 25,
    "start_time": "2024-12-04T22:41:11.796Z"
   },
   {
    "duration": 15,
    "start_time": "2024-12-04T22:41:11.823Z"
   },
   {
    "duration": 5,
    "start_time": "2024-12-04T22:41:11.840Z"
   },
   {
    "duration": 48,
    "start_time": "2024-12-04T22:41:11.847Z"
   },
   {
    "duration": 27,
    "start_time": "2024-12-04T22:41:11.897Z"
   },
   {
    "duration": 14,
    "start_time": "2024-12-04T22:41:11.925Z"
   },
   {
    "duration": 8,
    "start_time": "2024-12-04T22:41:11.941Z"
   },
   {
    "duration": 14,
    "start_time": "2024-12-04T22:41:11.950Z"
   }
  ],
  "colab": {
   "provenance": []
  },
  "kernelspec": {
   "display_name": "Python 3 (ipykernel)",
   "language": "python",
   "name": "python3"
  },
  "language_info": {
   "codemirror_mode": {
    "name": "ipython",
    "version": 3
   },
   "file_extension": ".py",
   "mimetype": "text/x-python",
   "name": "python",
   "nbconvert_exporter": "python",
   "pygments_lexer": "ipython3",
   "version": "3.9.5"
  },
  "toc": {
   "base_numbering": 1,
   "nav_menu": {},
   "number_sections": true,
   "sideBar": true,
   "skip_h1_title": true,
   "title_cell": "Table of Contents",
   "title_sidebar": "Contents",
   "toc_cell": false,
   "toc_position": {
    "height": "calc(100% - 180px)",
    "left": "10px",
    "top": "150px",
    "width": "191.943px"
   },
   "toc_section_display": true,
   "toc_window_display": true
  }
 },
 "nbformat": 4,
 "nbformat_minor": 5
}
